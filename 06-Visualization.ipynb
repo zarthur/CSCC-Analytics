{
 "cells": [
  {
   "cell_type": "markdown",
   "metadata": {},
   "source": [
    "# Unit 6: Visualization\n",
    "\n",
    "## Contents\n",
    "\n",
    "### Lab Questions\n",
    "\n",
    "For this unit, the notebook itself will not contain lab questions.  Instead, we'll create visualizations in [Tableau](https://www.tableau.com/) in the second part of the unit.\n",
    "\n",
    "## Getting Started\n",
    "\n",
    "As we've examined and explored data, we often used visualizations to help make sense of things.  While the visualizations we've created have been sufficient for exploration, creating visualizations for reporting or to convey a story requires more attention to design and other details.  In this unit, we'll look at some design principles and the appropriate chart types for the given data. As an example, consider the charts in the figure below.  The bottom chart is more visually appealing than the top chart.  In this unit, we'll explore some of the reasons why this is the case.\n",
    "\n",
    "<figure>\n",
    "    <img src=\"./images/06-example.png\" alt=\"an example of an 'bad' chart and a 'good' one\">\n",
    "      <figcaption style=\"text-align: center; font-weight: bold\">A \"bad\" chart (top) and an \"good\" chart (bottom)</figcaption>\n",
    "</figure>\n",
    "\n",
    "When looking at examples of types of visualizations, we'll create them with both [Seaborn](https://seaborn.pydata.org/)/[Matplotlib](https://matplotlib.org/) and [Tableau](https://www.tableau.com/).  Tableau is a popular data visualization product that provides an interface to many file and database sources and a simple-to-use but feature-rich interface.  A version of Tableau can be downloaded from [here](https://www.tableau.com/products/desktop/download?signin=academic) but will require a license to use.\n",
    "\n",
    "We'll also make use of [squarify](https://github.com/laserson/squarify) to generate tree maps and [Folium](https://python-visualization.github.io/folium/docs-v0.5.0/) for geographic mapping."
   ]
  },
  {
   "cell_type": "code",
   "execution_count": null,
   "metadata": {},
   "outputs": [],
   "source": [
    "import sys\n",
    "!{sys.executable} -m pip install squarify folium"
   ]
  },
  {
   "cell_type": "markdown",
   "metadata": {},
   "source": [
    "\n",
    "## Visualization Design"
   ]
  },
  {
   "cell_type": "markdown",
   "metadata": {},
   "source": [
    "Effective visualizations communicate their intent clearly and quickly.  If viewers have to spend a great deal of time deciphering a visualizations, they might as well be presented with the underlying data.  There are a variety of aspects and principles that can be considered when trying to create an effective visualization.  One of these is to consider the intended audience. We might choose to create a more technically-focused visualization or one with a deeper level detail if we expect that the viewer is familiar with the data or the context in which it exists as opposed to someone without any prior experience.  \n",
    "\n",
    "Another principle principle might be to keep the visualization as simple as possible.  Though there might be a lot of data available for visualization, simpler visualizations are easier to understand and are less likely to be misunderstood that visualizations with many elements.  If there is a need to visualize a lot of data, consider creating separate visualizations for groups of data.\n",
    "\n",
    "Additional principles we might consider when creating a visualization involve the perception of graphical elements in relation to one another and how color can be used effectively.\n",
    "\n",
    "### Perception\n",
    "\n",
    "When considering perception of graphical elements, we can rely on the Gestalt psychology [principles of grouping](https://en.wikipedia.org/wiki/Principles_of_grouping).  Among the principles, those that are of particular interest are\n",
    "\n",
    "- Proximity\n",
    "- Similarity\n",
    "- Enclosure\n",
    "- Closure\n",
    "- Continuity\n",
    "- Connection\n",
    "\n",
    "#### Proximity\n",
    "\n",
    "Proximity refers to the the nearness or distance between objects.  In visualizations, nearness can be used to imply a relationship or connectedness between graphical elements. Similarly, distance between elements implies that they are unrelated.  \n",
    "\n",
    "As an example, consider the following image.  On the left, the spacing between each column is used the same and we likely perceive the dots as being part of a single collection.  On the right, the spacing is such that we see three sets of dots.  This notion of proximity is what allows us to understand that bars of differing length but equal width and spacing are used to present related data in bar charts (as we'll see later).\n",
    "\n",
    "<figure>\n",
    "    <img src=\"./images/06-proximity.png\" alt=\"demonstration of proximity\" >\n",
    "      <figcaption style=\"text-align: center; font-weight: bold\">Principle of Proximity, <a href=\"https://commons.wikimedia.org/wiki/File:Gestalt_proximity.svg#/media/File:Gestalt_proximity.svg\">source</a></figcaption>\n",
    "</figure>\n",
    "\n",
    "#### Similarity\n",
    "\n",
    "The principle of similarity states that objects that share attributes are perceived as being part of a group and object with different attributes are not part of that group.\n",
    "\n",
    "In the following image, the shading of each row of dots conveys the existence of multiple groups.  The first and second rows are perceived as belonging to different groups.  We can make use of similarity to present similar data on the same plot. For example, we can plot lines representing different (but related) things using different colors.\n",
    "\n",
    "<figure>\n",
    "    <img src=\"./images/06-similarity.png\" alt=\"demonstration of similarity\">\n",
    "      <figcaption style=\"text-align: center; font-weight: bold\">Principle of Similarity, <a href=\"https://commons.wikimedia.org/wiki/File:Gestalt_similarity.svg#/media/File:Gestalt_similarity.svg\">source</a></figcaption>\n",
    "</figure>\n",
    "\n",
    "#### Enclosure\n",
    "\n",
    "Enclosure refers to the idea that objects with a shared boundary, whether a line or an area with a common shading, are perceived as being part of the same group. Though this principle is not often used in visualizations it can be very good at achieving its purpose.  For example, in the image below, we perceive that the dots are placed in two main groups with each group being defined by a border line.  Notice that the principle of enclosure is more powerful than similarity (imposed by the color of each dot ) and proximity (imposed by the difference in horizontal spacing between dots).\n",
    "\n",
    "<figure>\n",
    "    <img src=\"./images/06-enclosure.png\" alt=\"demonstration of enclosure\">\n",
    "      <figcaption style=\"text-align: center; font-weight: bold\">Principle of Enclosure</figcaption>\n",
    "</figure>\n",
    "\n",
    "#### Closure\n",
    "\n",
    "Closure refers to our ability or tendency to complete patterns when part of the information is missing.  This tendency is strongest for simpler shapes as demonstrated by the following image where we naturally see a circle and rectangle rather than a collection of unrelated line segments.  This is useful in visualizations when we wish to establish a trend or have the viewer draw conclusions despite missing data.\n",
    "\n",
    "<figure>\n",
    "    <img src=\"./images/06-closure.png\" alt=\"demonstration of closure\">\n",
    "      <figcaption style=\"text-align: center; font-weight: bold\">Principle of Closure, <a href=\"https://commons.wikimedia.org/wiki/File:Gestalt_closure.svg#/media/File:Gestalt_closure.svg\">source</a></figcaption>\n",
    "</figure>\n",
    "\n",
    "#### Continuity\n",
    "\n",
    "The principle of continuity states that objects that are aligned or appear to be continuous will be perceived as such. This is demonstrated in the figure below.  Despite the fact that there are actually two separate, orange line segments, we perceive them as being part of a longer segment.  Plotting different lines on one chart makes use of this principle allowing us to understand that even if lines intersect, each line continues after the intersection, i.e. the lines represent the same group of data before and after the intersection.\n",
    "\n",
    "<figure>\n",
    "    <img src=\"./images/06-continuity.png\" alt=\"demonstration of continuity\">\n",
    "      <figcaption style=\"text-align: center; font-weight: bold\">Principle of Continuity</figcaption>\n",
    "</figure>\n",
    "\n",
    "#### Connection\n",
    "\n",
    "Connection is more straightforward than some of the other principles.  It implies that if elements are connected by other elements, such as lines, we will perceive a grouping based on the connection. This is demonstrated in the figure below.  \n",
    "\n",
    "<figure>\n",
    "    <img src=\"./images/06-connection.png\" alt=\"demonstration of connection\">\n",
    "      <figcaption style=\"text-align: center; font-weight: bold\">Principle of Connection</figcaption>\n",
    "</figure>"
   ]
  },
  {
   "cell_type": "markdown",
   "metadata": {},
   "source": [
    "### Choosing a Palette\n",
    "\n",
    "Color plays in an important part in the visualizations we create.  Color can be use to distinguish between elements, to set one element apart from other, to indicate value, or even to convey a certain mood within a visualization.  At best, ignoring color choices can result in visualizations that are difficult to understand; at worst, it can result in something that viewers find jarring.  To choose the appropriate palette, we'll rely on [color theory](https://en.wikipedia.org/wiki/Color_theory).\n",
    "\n",
    "While it's important to be aware of color theory, many visualization software packages will attempt to make the appropriate color choices for the data we're plotting.\n",
    "\n",
    "#### The Color Wheel\n",
    "\n",
    "When discussing color and how individual colors relate to one another, we often begin by looking at the color wheel. While there are different color wheels depending on whether we are looking at [mixing light](https://en.wikipedia.org/wiki/Additive_color) or [mixing pigments](https://en.wikipedia.org/wiki/Subtractive_color) and what we define as the primary colors, we will use the historical [Red-Yellow-Blue (RYB)](https://en.wikipedia.org/wiki/RYB_color_model) for our discussion.  In this model, we assume that there are three *primary* colors from which most other colors can be derived through mixing; these colors are red, yellow, and blue.  Combining any two of these colors gives us the *secondary* colors (orange, green, and purple.  Combining a primary with one of its associated secondary colors gives us a *tertiary* color.  See the figure below.\n",
    "\n",
    "<figure>\n",
    "    <img src=\"./images/06-colorwheel.jpg\" alt=\"RYB color wheel\">\n",
    "      <figcaption style=\"text-align: center; font-weight: bold\">The RYB Color Wheel, <a href=\"https://en.wikipedia.org/wiki/File:RBYcolourwheel.jpg#/media/File:RBYcolourwheel.jpg\">source</a></figcaption>\n",
    "</figure>\n",
    "\n",
    "#### Hue, Tint, and Shade\n",
    "\n",
    "In addition to the the notion of primary, secondary, and tertiary colors, it's also important to be aware of hue, tint, shade, and tone.  A *hue* is \"pure\" color as it exists on the color wheel.  Adding white pigment to a hue results in a *tint*.  A *shade* of a color is the result of mixing the hue with black pigment.  A *tone* is mixing some amount of white and black pigment (gray) with the hue.\n",
    "\n",
    "<figure>\n",
    "    <img src=\"./images/06-huetintshade.png\" alt=\"hue, tint, tone, and shade\">\n",
    "      <figcaption style=\"text-align: center; font-weight: bold\">Hue, Tint, Tone, and Shade, <a href=\"https://commons.wikimedia.org/wiki/File:Tint-tone-shade.svg#/media/File:Tint-tone-shade.svg\">source</a></figcaption>\n",
    "</figure>\n",
    "\n",
    "#### Monochromatic Color Scheme\n",
    "\n",
    "The first type of palette we'll consider is one based on a monochromatic color scheme.  In this scheme, we first select a hue and then choose shades, tones, and tints based on this hue.  A monochromatic color scheme is often used for sequential, discrete data.  We can use a monochromatic scheme with continuous data where we slowly move from a shade to a tint.\n",
    "\n",
    "<figure>\n",
    "    <img src=\"./images/06-monochromatic.png\" alt=\"Monochromatic Palette\">\n",
    "      <figcaption style=\"text-align: center; font-weight: bold\">A Monochromatic Palette, <a href=\"https://blog.hubspot.com/marketing/color-theory-design\">source</a></figcaption>\n",
    "</figure>\n",
    "\n",
    "#### Analogous Color Scheme\n",
    "\n",
    "An analogous color scheme is chosen by first selecting a main color.  Next, we select the two adjacent colors.  If necessary or desired, we an select the next two adjacent colors as well.  With these colors, we choose tints and shades.  The analogous color scheme is often used with sequential data. \n",
    "\n",
    "<figure>\n",
    "    <img src=\"./images/06-analogous.png\" alt=\"Analogous Palette\">\n",
    "      <figcaption style=\"text-align: center; font-weight: bold\">An Analogous Palette, <a href=\"https://blog.hubspot.com/marketing/color-theory-design\">source</a></figcaption>\n",
    "</figure>\n",
    "\n",
    "#### Complementary Color Scheme\n",
    "\n",
    "A complementary color scheme makes use of colors directly opposite one another on the color wheel.  This choice offers the greatest amount of contrast between colors.  While we could use the hues of both colors, this can be too striking; instead, we should choose one color as the predominant color and use tints and shades of the other color.  A complementary scheme is a good choice when emphasizing extreme values or when we wish to visualize divergent data.\n",
    "\n",
    "<figure>\n",
    "    <img src=\"./images/06-complementary.png\" alt=\"Complementary Palette\">\n",
    "      <figcaption style=\"text-align: center; font-weight: bold\">A Complementary Palette, <a href=\"https://blog.hubspot.com/marketing/color-theory-design\">source</a></figcaption>\n",
    "</figure>\n",
    "\n",
    "For a more \"nuanced\" palette, one could use a *split complementary* scheme in which two complementary colors are paired with adjacent colors.\n",
    "\n",
    "<figure>\n",
    "    <img src=\"./images/06-split.png\" alt=\"Split Complementary Palette\">\n",
    "      <figcaption style=\"text-align: center; font-weight: bold\">A Split Complementary Palette, <a href=\"https://blog.hubspot.com/marketing/color-theory-design\">source</a></figcaption>\n",
    "</figure>\n",
    "\n",
    "#### Triadic Color Scheme\n",
    "\n",
    "Similar to the complementary color scheme, a triadic color scheme is chosen by selecting three colors on the color wheel with an equal angle between pairs of colors.  Often, a main hue is chosen and tints and shades of the other colors are used. A triadic color scheme is often useful when working with qualitative or categorical data.  This idea can be extended for four, five, six, etc. colors.  It is important to avoid choosing similar tints and shades for different visual elements as this can be confusing.\n",
    "\n",
    "<figure>\n",
    "    <img src=\"./images/06-triadic.png\" alt=\"Triadic Palette\">\n",
    "      <figcaption style=\"text-align: center; font-weight: bold\">A Triadic Palette, <a href=\"https://blog.hubspot.com/marketing/color-theory-design\">source</a></figcaption>\n",
    "</figure>\n",
    "\n",
    "#### Warm and Cool Colors\n",
    "\n",
    "As indicated earlier, colors can be used to convey a mood or emotion.  Warm colors - red, yellow, and orange - are often used to convey a sense of passion, happiness, enthusiasm, or energy.  Cool colors - green, blue, and purple - are used to convey a sense of calm or relaxation.  Neutral colors - black, white, gray, cream, and brown - are often used as backgrounds or for supporting information; these colors are affected by the colors that surround them.  \n",
    "\n",
    "\n",
    "With these design and color principles, we can see some reasons why the first chart in the first figure is less visually appealing than the second chart.  The principle of proximity is not correctly applied; spacing should be added to set the years apart. The colors chosen do not effectively distinguish between the four regions; four distinct colors/hues should be chosen."
   ]
  },
  {
   "cell_type": "markdown",
   "metadata": {},
   "source": [
    "## Types of Visualizations\n",
    "\n",
    "Next, we'll explore different types of visualizations.  For these visualizations, we'll work with the [Lending Club](https://www.lendingclub.com/info/download-data.action) load data available at [./data/01-loan.csv](./data/01-loan.csv). \n",
    "\n",
    "To open the data in Tableau, we can choose to connect to a text file. This will allow us to browse to the CSV and open it.  \n",
    "\n",
    "<figure>\n",
    "    <img src=\"./images/06-tableau-data.png\" alt=\"Loading Data in Tableau\">\n",
    "      <figcaption style=\"text-align: center; font-weight: bold\">Loading Data in Tableau</figcaption>\n",
    "</figure>\n",
    "\n",
    "Here we can see each of the columns in the source data as well as the one thousand rows.  For some data sources, Tableau will determine the type of data based on the source; for other sources, Tableau will try to determine the type on its own.  While we have the option of manually specifying the data type when loading the data, we'll rely on Tableau's detected values for now.  If we had connected to a database with multiple tables, Tableau would present us with a list of tables and allow us to join them as needed. \n",
    "\n",
    "Near the bottom of the screen is a collection of tabs.  The first and currently selected tab is the \"Data Source\" tab which displays source information.  Next to this tab is an existing sheet named \"Sheet 1\"; sheets represent individual visualizations in Tableau.  The next three tabs allow us to create additional sheets, dashboards, and stories.  In this unit, we'll create additional sheets.  Later, we'll look at dashboards.  To begin, select the \"Sheet 1\" tab.\n",
    "\n",
    "Before creating any plots, notice that fields from the data are separated into dimensions and measures.  Measures represent quantitative data representing a measured value; we can perform calculations/aggregations on measures.  Dimensions give context or provide addition details about facts; dimensions are often qualitative data an can be use to group facts for aggregation.\n",
    "\n",
    "Near the top of the Tableau interface we have section for columns and rows; dragging fields to these sections allows us to choose what data is used for the horizontal and vertical axes.  Below the column and row area is the area in which plots will appear.  To the left of this are areas where we can specify filters and marks; the marks sections is used to adjust some of the properties of the visualization.\n",
    "\n",
    "<figure>\n",
    "    <img src=\"./images/06-tableau-sheet.png\" alt=\"Empty Sheet in Tableau\">\n",
    "      <figcaption style=\"text-align: center; font-weight: bold\">Loading Empty Sheet in Tableau</figcaption>\n",
    "</figure>\n",
    "\n",
    "As noted earlier, we'll create plots in both Tableau and this notebook.  First, we indicate that plots will appear in the notebook itself."
   ]
  },
  {
   "cell_type": "code",
   "execution_count": null,
   "metadata": {},
   "outputs": [],
   "source": [
    "%matplotlib inline"
   ]
  },
  {
   "cell_type": "markdown",
   "metadata": {},
   "source": [
    "To load the data in the notebook, we'll use pandas."
   ]
  },
  {
   "cell_type": "code",
   "execution_count": null,
   "metadata": {},
   "outputs": [],
   "source": [
    "import pandas as pd\n",
    "loan_data = pd.read_csv(\"./data/01-loan.csv\")"
   ]
  },
  {
   "cell_type": "markdown",
   "metadata": {},
   "source": [
    "### Scatter\n",
    "\n",
    "The first type of plot we'll work with is one we've seen before - the scatter plot.  We've used scatter plots to determine if a relationship exists between data but they can also be used to highlight that relationship. \n",
    "\n",
    "For our first plot, we'll look at a scatter plot of amount funded versus the total payment, aggregated by grade."
   ]
  },
  {
   "cell_type": "code",
   "execution_count": null,
   "metadata": {},
   "outputs": [],
   "source": [
    "import seaborn as sns\n",
    "\n",
    "sns.set(rc={'figure.figsize':(12,8), \"lines.markeredgewidth\": 0.5 })\n",
    "\n",
    "loan_data.groupby(\"grade\").sum().plot.scatter(x=\"funded_amnt\", y=\"total_pymnt\")"
   ]
  },
  {
   "cell_type": "markdown",
   "metadata": {},
   "source": [
    "To create a similar plot in Tableau, we can drag `Funded Amnt` measure to the *Columns* area and `Total Pymnt` measure to the *Rows* area.  Tableau will automatically aggregate the data by summing the values and we will see a single marker representing all data.  To separate these by letter grade, drag the `Grade` dimension to the *Marks* area; if the icon to the left is not one with four dots, left the click the icon and select *Detail*.  Drag `Grade` to the *Marks* area again and change the icon to *Label*; this will add the label for each marker.  \n",
    "\n",
    "Changing the first item in the *Marks* section from detail to *Shape* or *Color* allows us to indicate that each grade should be represented by a different maker shape or color, respectively.  We can drag `Grade` to the *Marks* area again if we want to set both shape and color.  To configure these options, click the corresponding box at the top of the *Marks* box. \n",
    "\n",
    "Below is the scatter plot with markers of different colors; notice that Tableau chose different hues for the colors as `Grade` represents qualitative data of differing categories.\n",
    "\n",
    "<figure>\n",
    "    <img src=\"./images/06-tableau-scatter.png\" alt=\"Scatter Plot in Tableau\">\n",
    "      <figcaption style=\"text-align: center; font-weight: bold\">Scatter Plot in Tableau</figcaption>\n",
    "</figure>\n",
    "\n",
    "We can name this sheet by right-clicking on the tab, selecting *Rename Sheet*, and entering a new value."
   ]
  },
  {
   "cell_type": "markdown",
   "metadata": {},
   "source": [
    "### Line\n",
    "\n",
    "A line plot can used to show changes in one continuous variable with respect to another continuous variable.  Often the independent variable in a line plot corresponds to time.  \n",
    "\n",
    "Let's look at loan amounts over time by purpose. To plot this in Python with pandas will require the use of pivot tables.  First, we need to convert the data type of the `issue_d` column from a string to a datetime.  To do this, we can use the pandas [*to_datetime()*](https://pandas.pydata.org/pandas-docs/stable/generated/pandas.to_datetime.html) function along with the format specified using [strftime](http://strftime.org/) notation.  Because dates are of the form  \"Dec-11\", we specify the format with `%b-%y`.\n",
    "\n",
    "The pivot table will rely on the year value of `issue_d` for the index; to access the year, we use the *dt.year* property for the column.  Columns of interest for the pivot table will consist of the unique values of the `purpose` column.  We're only interested in the `loan_amnt` column and none of the others so we'll specify a value for the `values` keyword argument.  We can specify the aggregation function and the value to replace missing values.\n",
    "\n",
    "We can calculate the sum of loan amount for each purpose using the pivot table's *sum* method. To find the top five purposes by sum, we sort by values then collect the first five indexes.  We can then use the these with the pivot table to plot the corresponding lines.  "
   ]
  },
  {
   "cell_type": "code",
   "execution_count": null,
   "metadata": {},
   "outputs": [],
   "source": [
    "loan_data.issue_d = pd.to_datetime(loan_data.issue_d, format=\"%b-%y\")\n",
    "\n",
    "pivot = loan_data.pivot_table(index=[loan_data.issue_d.dt.year],\n",
    "                              columns=[\"purpose\"],\n",
    "                              values=[\"loan_amnt\"],\n",
    "                              aggfunc = pd.np.sum,\n",
    "                              fill_value = 0)\n",
    "pivot_sum = pivot.sum()\n",
    "pivot_sum.sort_values(ascending=False)\n",
    "top_5 = pivot_sum['loan_amnt'].index[:5]\n",
    "\n",
    "pivot['loan_amnt'][top_5].plot(kind='line')"
   ]
  },
  {
   "cell_type": "markdown",
   "metadata": {},
   "source": [
    "To create another chart, click the *New Worksheet* tab near the bottom of the Tableau window.  As before, we first need to modify the data type of the `Issue D` field. To change this to a date type, right-click on the `Issue D` field, select *Change Data Type*, and select *Date*.  Next, drag `Issue D` to the *Columns* area.  For the vertical axis, we can drag `Loan Amt` to the *Rows* area.  If Tableau does not automatically choose sum as the aggregation, change it.  To separate the plot by purpose, drag `Purpose` to the *Marks* area and select the color option. If the plot is not a line chart, click the *Show Me* button in the upper right corner of the Tableau window and select one of the line options.  \n",
    "\n",
    "To display only the top 5 purposes, right click `Purpose` in the *Marks* area and select *Filter*.  In the *Filter* window, select the *Top* tab, choose *By Field* and select appropriate values for \"Top 5 by Loan Amnt Sum\".  \n",
    "\n",
    "Notice the `Issue D` field in the *Columns* area displays *Year*.  Right-clicking the field or opening the drop-down menu allows us to change the time resolution from year down to the day - this data only has monthly resolution though.\n",
    "\n",
    "We can rename the sheet to \"Line\".\n",
    "\n",
    "<figure>\n",
    "    <img src=\"./images/06-tableau-line.png\" alt=\"Line Plot in Tableau\">\n",
    "      <figcaption style=\"text-align: center; font-weight: bold\">Line Plot in Tableau</figcaption>\n",
    "</figure>"
   ]
  },
  {
   "cell_type": "markdown",
   "metadata": {},
   "source": [
    "### Bar\n",
    "\n",
    "Bar charts are typically used to convey data across categories, that is categorical data with other data.  Let's continue looking at loan amount by purpose but instead consider the total loan amount.  Here we have a a categorical variable, `purpose`, and a numeric variable, `loan_amnt`.  \n",
    "\n",
    "In Python, we can use the pivot table we already constructed or use the *groupby* method."
   ]
  },
  {
   "cell_type": "code",
   "execution_count": null,
   "metadata": {},
   "outputs": [],
   "source": [
    "loan_data.groupby(\"purpose\")['loan_amnt'].sum().plot.bar()"
   ]
  },
  {
   "cell_type": "markdown",
   "metadata": {},
   "source": [
    "To create a similar chart in Tableau, we start by creating a new worksheet.  To create a vertical bar chart, drag the `Purpose` field to the *Columns* area and `Loan Amnt` to the *Rows* area; Tableau should automatically choose the sum aggregation.  You might notice that one of the columns corresponds to \"Null\" or missing values. To remove the null values, click the word \"Null\" and click \"Exclude\"; this creates the corresponding filter.  To clean up the column labels, right-click on one of values and select \"Alias...\".  \n",
    "\n",
    "We can also easily create stacked bar charts in Tableau where each bar is subdivided.  To do this, move `Purpose` from the *Columns* area to *Marks* and drag the *Issue D* field to the *Columns* area. This is very similar to what we did for the line chart; if set of lines is dispaly, click the *Show Me* button and select stacked bars.  You might also have to choose color as the marks option for the `Purpose` field.\n",
    "\n",
    "<figure>\n",
    "    <img src=\"./images/06-tableau-bar.png\" alt=\"Bar Chart in Tableau\">\n",
    "      <figcaption style=\"text-align: center; font-weight: bold\">Bar Chart in Tableau</figcaption>\n",
    "</figure>"
   ]
  },
  {
   "cell_type": "markdown",
   "metadata": {},
   "source": [
    "### Histogram\n",
    "\n",
    "We've worked with histograms throughout our exploration of datasets.  Histograms are used to visualize the distribution of data for some variable using bars where each bar represents a bin to which data can be assigned and the length or height of each bar represents the number of elements in that bin.  \n",
    "\n",
    "To create a histogram in Python, we can use the *hist()* method associated with a column in a DataFrame."
   ]
  },
  {
   "cell_type": "code",
   "execution_count": null,
   "metadata": {},
   "outputs": [],
   "source": [
    "loan_data.loan_amnt.hist()"
   ]
  },
  {
   "cell_type": "markdown",
   "metadata": {},
   "source": [
    "To create a histogram in Tableau, we start by dragging the field of interest, `Loan Amnt` in this case, to the *Columns* area.  Next, click the *Show Me* button and select histogram.  Tableau will automatically replace the field in the *Columns* area with one representing bins and the field in *Rows* with one representing the count for each bin.  \n",
    "\n",
    "Tableau automatically chooses a bin size. To manually specify a size, right click the source field, `Loan Amnt`, and select \"Create\" and \"Bins...\".  A new field is created that can used in place of the existing field in the *Rows* area.\n",
    "\n",
    "<figure>\n",
    "    <img src=\"./images/06-tableau-histogram.png\" alt=\"Histogram in Tableau\">\n",
    "      <figcaption style=\"text-align: center; font-weight: bold\">Histogram in Tableau</figcaption>\n",
    "</figure>"
   ]
  },
  {
   "cell_type": "markdown",
   "metadata": {},
   "source": [
    "### Box Plot\n",
    "\n",
    "Like histograms, we've also used box plots in previous units to help understand data.  As we've seen before, box plots can be used to see the range of values and quartile information.  \n",
    "\n",
    "As an example, let's consider the interest rate on various loans.  Rather than simply examining the box plot for all interest rates, let's create a box plot for interest rates for each grade assigned to lenders.  In Python, we can use the the Seaborn *boxplot()* method. \n",
    "\n",
    "In the dataset, interest rates are stored as strings representing percentages with the percent sign; we'll have to convert this to numeric data to create a box plot. We'll use the column's *apply()* method to convert the values. The function we'll use is defined and tested with a value below."
   ]
  },
  {
   "cell_type": "code",
   "execution_count": null,
   "metadata": {},
   "outputs": [],
   "source": [
    "def to_float(percent):\n",
    "    if isinstance(percent, str):\n",
    "        return float(percent.replace(\"%\", \"\")) / 100\n",
    "    else:\n",
    "        return percent\n",
    "\n",
    "to_float(\"7.75%\")"
   ]
  },
  {
   "cell_type": "markdown",
   "metadata": {},
   "source": [
    "We can now apply the function to the interest rate values."
   ]
  },
  {
   "cell_type": "code",
   "execution_count": null,
   "metadata": {},
   "outputs": [],
   "source": [
    "loan_data.int_rate = loan_data.int_rate.apply(to_float)"
   ]
  },
  {
   "cell_type": "markdown",
   "metadata": {},
   "source": [
    "We can now create the box plot."
   ]
  },
  {
   "cell_type": "code",
   "execution_count": null,
   "metadata": {},
   "outputs": [],
   "source": [
    "sns.boxplot(x='grade', y='int_rate', \n",
    "            data=loan_data.sort_values(by='grade'))"
   ]
  },
  {
   "cell_type": "markdown",
   "metadata": {},
   "source": [
    "To create a similar plot in Tableau, drag `Grade` to the *Columns* area and `Int Rate` to the *Rows* area.  By default, Tableau tries to aggregate the data; to stop this, right click the `Int Rate` field in the *Rows* area and select dimension.  If a series of box plots are not displayed, click the *Show Me* button and select the box plot option. \n",
    "\n",
    "<figure>\n",
    "    <img src=\"./images/06-tableau-boxplot.png\" alt=\"Box Plots in Tableau\">\n",
    "      <figcaption style=\"text-align: center; font-weight: bold\">Box Plots in Tableau</figcaption>\n",
    "</figure>"
   ]
  },
  {
   "cell_type": "markdown",
   "metadata": {},
   "source": [
    "### Heat Map\n",
    "\n",
    "Heat maps can be used to show the distribution of data through color.  Heat maps are one using two-dimension space (like a monitor or a sheet of pater) to present higher-dimensional data; color give us access to an additional dimension.\n",
    "\n",
    "We looked at a heat map in a previous unit.  One way of creating a heat map from a DataFrame is through the use of a pivot table.  Let's look at the distribution of loans by grade and purpose.  First we create the appropriate pivot table."
   ]
  },
  {
   "cell_type": "code",
   "execution_count": null,
   "metadata": {},
   "outputs": [],
   "source": [
    "heat_pivot = loan_data.pivot_table(index=['grade'],\n",
    "                                   values=['loan_amnt'],\n",
    "                                   columns=['purpose'],\n",
    "                                   aggfunc=pd.np.sum)\n",
    "heat_pivot"
   ]
  },
  {
   "cell_type": "markdown",
   "metadata": {},
   "source": [
    "With the pivot table, we can now create a heat map. Because `debt_consolidation` contains values with a greater magnitude that the other columns, we drop remove it from the heat map for effect. Recall, that we can specify the color map using the `cmap` keyword argument with a [Matplotlib color map name](https://matplotlib.org/users/colormaps.html)."
   ]
  },
  {
   "cell_type": "code",
   "execution_count": null,
   "metadata": {},
   "outputs": [],
   "source": [
    "heat_pivot_no_debt = heat_pivot['loan_amnt'].drop(['debt_consolidation'], 1)\n",
    "sns.heatmap(heat_pivot_no_debt, cmap=\"GnBu\")"
   ]
  },
  {
   "cell_type": "markdown",
   "metadata": {},
   "source": [
    "To create a heat map in Tableau, we can start by specifying the row and column values; drag `Purpose` and `Grade` to the *Columns* and *Rows* areas, respectively.  Next, drag `Loan Amnt` to the *Marks* area and choose the color option.  If the plot doesn't automatically change to a heat map, select heat maps from the *Show Me* menu.\n",
    "\n",
    "We can remove null values by selecting the \"Null\" column and choosing \"Exclude\".  Similarly, we can remove the \"debt consolidation\" column by clicking on the label for the third column and selecting \"Exclude\".  To rotate the column labels, right-click one of the labels and select \"Rotate\".\n",
    "\n",
    "<figure>\n",
    "    <img src=\"./images/06-tableau-heatmap.png\" alt=\"Heat Map in Tableau\">\n",
    "      <figcaption style=\"text-align: center; font-weight: bold\">Heat Map in Tableau</figcaption>\n",
    "</figure>"
   ]
  },
  {
   "cell_type": "markdown",
   "metadata": {},
   "source": [
    "### Tree Map\n",
    "\n",
    "Tree maps make use of a rectangular areas (and often color) to convey information - larger area correspond to larger values.  We should exercise caution when using tree maps.  Because people tend to not be able to accurately compare similar areas and volumes, tree maps should only be used when differences in area are obvious.\n",
    "\n",
    "To create a tree map we will use the *squarify* library.  We aggregate the loan data by `grade`, select the `loan_amnt` column, and calculate the sum.  When creating a tree map we can specify a collection of colors to be used; we can sample an existing color map."
   ]
  },
  {
   "cell_type": "code",
   "execution_count": null,
   "metadata": {},
   "outputs": [],
   "source": [
    "import squarify\n",
    "\n",
    "grades = loan_data.groupby(\"grade\")['loan_amnt'].sum()\n",
    "\n",
    "# get the green-blue colormap\n",
    "cmap = sns.mpl.cm.get_cmap('Spectral')\n",
    "# get 10 colors from the colormap\n",
    "colors = cmap(pd.np.linspace(0,1,10))\n",
    "\n",
    "squarify.plot(sizes=grades.values, label=grades.index, color=colors)"
   ]
  },
  {
   "cell_type": "markdown",
   "metadata": {},
   "source": [
    "A tree map in Tableau relies only on data *Marks* data.  Drag `Grade` to the *Marks* area twice and `Loan Amnt` to the *Marks* area once.  Designate one of the `Grade` fields as providing label data and the other as providing color data.  `Loan Amnt` should determine size.\n",
    "\n",
    "<figure>\n",
    "    <img src=\"./images/06-tableau-treemap.png\" alt=\"Tree Map in Tableau\">\n",
    "      <figcaption style=\"text-align: center; font-weight: bold\">Tree Map in Tableau</figcaption>\n",
    "</figure>"
   ]
  },
  {
   "cell_type": "markdown",
   "metadata": {},
   "source": [
    "### Geographic\n",
    "\n",
    "The final type of plot we'll consider are those that rely on geographic data.  As an example, we'll visualize loan amount by state.  To create this in python, we'll make use of *folium*.  "
   ]
  },
  {
   "cell_type": "code",
   "execution_count": null,
   "metadata": {},
   "outputs": [],
   "source": [
    "import folium\n",
    "\n",
    "# aggregate by state and convert to DataFrame\n",
    "states = loan_data.groupby(\"addr_state\")['loan_amnt'].sum().to_frame()\n",
    "states['state'] = states.index\n",
    "\n",
    "# load state GeoJSON data\n",
    "with open(\"./data/06-us-states.json\") as infile:\n",
    "    state_data = infile.read()\n",
    "\n",
    "# create map with data    \n",
    "data_map = folium.Map(location=[48, -102], zoom_start=3)\n",
    "data_map.choropleth(geo_data=state_data, \n",
    "                    data=states,\n",
    "                    columns=['state', 'loan_amnt'],\n",
    "                    key_on='feature.id',\n",
    "                    fill_color='YlGn', \n",
    "                    fill_opacity=0.7,\n",
    "                    legend_name='Amount')\n",
    "data_map"
   ]
  },
  {
   "cell_type": "markdown",
   "metadata": {},
   "source": [
    "To create a similar plot in Tableau, drag `Addr State` and `Loan Amnt` to the *Marks* area.  Select color for the type of data represented by `Loan Amnt`.\n",
    "\n",
    "<figure>\n",
    "    <img src=\"./images/06-tableau-map.png\" alt=\"Map in Tableau\">\n",
    "      <figcaption style=\"text-align: center; font-weight: bold\"> Map in Tableau</figcaption>\n",
    "</figure>"
   ]
  },
  {
   "cell_type": "markdown",
   "metadata": {},
   "source": [
    "## Next Steps\n",
    "\n",
    "The visualizations we've created are static. Often there is a need to create visualizations that are routinely updated with current data or to create interactive visualizations in which users can drill-down into data.  In the next unit, we'll look at dashboards to address these needs.\n",
    "\n",
    "## Resources and Further Reading\n",
    "\n",
    "- [Build Common Chart Types in Data Views](https://onlinehelp.tableau.com/current/pro/desktop/en-us/dataview_examples.html?tocpath=Design%20Views%20and%20Analyze%20Data%7CBuild%20Common%20Chart%20Types%7C_____0)\n",
    "- [The Data Visualisation Catalogue](https://datavizcatalogue.com/)\n",
    "- [The Encyclopedia of Human-Computer Interaction, 2nd Edition; Chapter 35 Data Visualization for Human Perception by Stephen Few](https://www.interaction-design.org/literature/book/the-encyclopedia-of-human-computer-interaction-2nd-ed/data-visualization-for-human-perception)\n",
    "- [The Python Graph Gallery](https://python-graph-gallery.com/)\n",
    "\n",
    "## Exercise\n",
    "\n",
    "Create plots similar to those discussed in this unit with another dataset that we've worked with previously."
   ]
  },
  {
   "cell_type": "code",
   "execution_count": null,
   "metadata": {},
   "outputs": [],
   "source": []
  }
 ],
 "metadata": {
  "kernelspec": {
   "display_name": "Python 3",
   "language": "python",
   "name": "python3"
  },
  "language_info": {
   "codemirror_mode": {
    "name": "ipython",
    "version": 3
   },
   "file_extension": ".py",
   "mimetype": "text/x-python",
   "name": "python",
   "nbconvert_exporter": "python",
   "pygments_lexer": "ipython3",
   "version": "3.6.4"
  }
 },
 "nbformat": 4,
 "nbformat_minor": 2
}
