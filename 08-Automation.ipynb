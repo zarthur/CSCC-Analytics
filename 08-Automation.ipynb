{
 "cells": [
  {
   "cell_type": "markdown",
   "metadata": {},
   "source": [
    "# Unit 8: Automation"
   ]
  },
  {
   "cell_type": "markdown",
   "metadata": {},
   "source": [
    "## Contents\n",
    "\n",
    "* [Getting Started](#Getting-Started)\n",
    "* [Generating Keys](#Generating-Keys)\n",
    "* [Creating a Data Store](#Creating-a-Data-Store)\n",
    "* [Data Retrieval and Processing](#Data-Retrieval-and-Processing)\n",
    "* [Automating the Process](#Automating-the-Process)\n",
    "* [Lab Answers](#Lab-Answers)\n",
    "* [Next Steps](#Next-Steps)\n",
    "* [Resources](#Resources)\n",
    "* [Exercise](#Exercise)"
   ]
  },
  {
   "cell_type": "markdown",
   "metadata": {},
   "source": [
    "### Lab Questions"
   ]
  },
  {
   "cell_type": "markdown",
   "metadata": {},
   "source": [
    "[1](#Lab-1), [2](#Lab-2), [3](#Lab-3), [4](#Lab-4), [5](#Lab-5), [6](#Lab-6), [7](#Lab-7)"
   ]
  },
  {
   "cell_type": "markdown",
   "metadata": {},
   "source": [
    "## Getting Started"
   ]
  },
  {
   "cell_type": "markdown",
   "metadata": {},
   "source": [
    "In this unit, we'll combine concepts in previous units to collect data from an external source, process it, generate a report, and deliver it.  We'll do this using cloud services, specifically [Amazon Web Services](https://aws.amazon.com/) so an AWS account will be required. The services we'll use qualify for the [free tier](https://aws.amazon.com/free/).\n",
    "\n",
    "In this example, our report will consist of simple stock portfolio information including shares, price, and total value.\n",
    "\n",
    "While we'll do some initial setup using the web console, most of the work we'll do with AWS will be done programmatically using Python. To do this, we'll need the [*boto3*](https://aws.amazon.com/sdk-for-python/) library, which can be installed with `pip`."
   ]
  },
  {
   "cell_type": "code",
   "execution_count": 3,
   "metadata": {},
   "outputs": [
    {
     "name": "stdout",
     "output_type": "stream",
     "text": [
      "Requirement already satisfied: boto3 in /usr/local/lib/python3.6/site-packages (1.7.4)\r\n",
      "Requirement already satisfied: botocore<1.11.0,>=1.10.4 in /usr/local/lib/python3.6/site-packages (from boto3) (1.10.4)\r\n",
      "Requirement already satisfied: jmespath<1.0.0,>=0.7.1 in /usr/local/lib/python3.6/site-packages (from boto3) (0.9.3)\r\n",
      "Requirement already satisfied: s3transfer<0.2.0,>=0.1.10 in /usr/local/lib/python3.6/site-packages (from boto3) (0.1.13)\r\n",
      "Requirement already satisfied: docutils>=0.10 in /usr/local/lib/python3.6/site-packages (from botocore<1.11.0,>=1.10.4->boto3) (0.14)\r\n",
      "Requirement already satisfied: python-dateutil<2.7.0,>=2.1 in /usr/local/lib/python3.6/site-packages (from botocore<1.11.0,>=1.10.4->boto3) (2.6.1)\r\n",
      "Requirement already satisfied: six>=1.5 in /usr/local/lib/python3.6/site-packages (from python-dateutil<2.7.0,>=2.1->botocore<1.11.0,>=1.10.4->boto3) (1.11.0)\r\n"
     ]
    }
   ],
   "source": [
    "import sys\n",
    "!{sys.executable} -m pip install boto3"
   ]
  },
  {
   "cell_type": "markdown",
   "metadata": {},
   "source": [
    "## Generating Keys"
   ]
  },
  {
   "cell_type": "markdown",
   "metadata": {},
   "source": [
    "Before we can use boto with our AWS accounts, we need to create an access key and a secret key that will be used to identify our account and the fact that we are authorized to make changes to our accounts.  To generate keys, we'll use the AWS web console.  \n",
    "\n",
    "Once logged into the AWS console, open the IAM interface by selecting \"IAM\" in the \"Security, Identity & Compliance\" section within the services menu.\n",
    "\n",
    "<figure>\n",
    "  <img src=\"./images/08-aws-services.png\" alt=\"aws services menu with iam\">\t\n",
    "  <figcaption style=\"text-align: center; font-weight: bold\">Security, Identity &amp; Compliance Services</figcaption>\n",
    "</figure>\n",
    "\n",
    "IAM, or Identity and Access Management, allows us to manage access to an AWS account.  IAM allows us to create users and groups with granular permissions.  In multi-user organizations, IAM can be used to ensure that people only have access to services they need and don't have access to other services.  Access control for programs we create can also be managed through IAM.  \n",
    "\n",
    "Often groups of users will have the same set of permissions.  Rather than repeatedly assigning the same permissions to those users, we instead create a group to which the permissions are assigned and then indicate that users are members of the group.  This provides additional flexibility by allowing different users to be members of different groups.  \n",
    "\n",
    "\n",
    "To begin, select \"Groups\" from the left side of the console.\n",
    "\n",
    "<figure>\n",
    "  <img src=\"./images/08-aws-iam-groups.png\" alt=\"iam menu with users selected\">\t\n",
    "  <figcaption style=\"text-align: center; font-weight: bold\">IAM Menu</figcaption>\n",
    "</figure>\n",
    "\n",
    "To create a new group, click the \"Create New Group\" button. While it is generally best practice to make permissions as limited as possible, this can be a time consuming process.  For our purposes, we'll create a group with \"power user\" access - access that allows members the group to create, modify, delete, and manage most of the AWS services. \n",
    "\n",
    "For the new group's name, enter a descriptive value that reflects the permissions that will be assigned to the group such as \"powerusers\". Click \"Next Step\" to continue.\n",
    "\n",
    "<figure>\n",
    "  <img src=\"./images/08-aws-iam-group-1.png\" alt=\"specify a group name\">\t\n",
    "  <figcaption style=\"text-align: center; font-weight: bold\">Specify a Group Name</figcaption>\n",
    "</figure>\n",
    "\n",
    "Next, we attach a policy to the group.  Policies define the permissions a group has.  We can filter these by choosing a filter from the drop-down list.  Filter by \"Job function\".  Among the policy names, we see \"PowerUserAccess\" - this provides full control to all AWS services with the exception of user management.  Click \"Next Step\" to continue.\n",
    "\n",
    "<figure>\n",
    "  <img src=\"./images/08-aws-iam-group-2.png\" alt=\"attach a policy\">\t\n",
    "  <figcaption style=\"text-align: center; font-weight: bold\">Attach a Policy</figcaption>\n",
    "</figure>\n",
    "\n",
    "As a final step, we have a chance to review the settings for the new group.  If everything appears correct, click \"Create Group\".  Click \"Cancel\" or \"Previous\" if changes need to be made.\n",
    "\n",
    "<figure>\n",
    "  <img src=\"./images/08-aws-iam-group-3.png\" alt=\"review group options\">\n",
    "  <figcaption style=\"text-align: center; font-weight: bold\">Review Group Options</figcaption>\n",
    "</figure>\n",
    "\n",
    "Now that we have a group, we'll add a user.  On the left, select \"Users\".  We see the list of existing users. To add a user, click the \"Add User\" button.  This will begin the user creation process. In the first step, we will specify the user name an the access type.  If we were creating a user for a person, we might choose a user name based on the person's name; because we are creating a user name for a program, we should choose a descriptive name like \"report_generator\". We'll use this account for programmatic access so select the \"Programmatic access\" type.  Click \"Next: Permissions\" to continue.\n",
    "\n",
    "<figure>\n",
    "  <img src=\"./images/08-aws-iam-user-1.png\" alt=\"first step in user creation process\">\t\n",
    "  <figcaption style=\"text-align: center; font-weight: bold\">Specify a User Name and Access Type</figcaption>\n",
    "</figure>\n",
    "\n",
    "To assign permissions to a user, we specify the groups to which the user will belong.  For our purposes, the new user will be a member of the group we created; select the appropriate group.  Click \"Next: Review\" to continue.\n",
    "\n",
    "<figure>\n",
    "  <img src=\"./images/08-aws-iam-user-2.png\" alt=\"second step in user creation process\">\n",
    "  <figcaption style=\"text-align: center; font-weight: bold\">Specify Group Membership</figcaption>\n",
    "</figure>\n",
    "\n",
    "Next, we have a chance to review the settings for the new user.  If everything appears correct, click \"Create User\".  Click \"Cancel\" or \"Previous\" if changes need to be made.\n",
    "\n",
    "<figure>\n",
    "  <img src=\"./images/08-aws-iam-user-3.png\" alt=\"third step in user creation process\">\n",
    "  <figcaption style=\"text-align: center; font-weight: bold\">Review User Options</figcaption>\n",
    "</figure>\n",
    "\n",
    "Finally, we see a success message and the access key for the new user.  We can also choose to see the secret access key.  Enter these values in the cell below.\n",
    "\n",
    "<figure>\n",
    "  <img src=\"./images/08-aws-iam-user-4.png\" alt=\"final step in user creation process\">\n",
    "  <figcaption style=\"text-align: center; font-weight: bold\">User Access and Secret Keys</figcaption>\n",
    "</figure>\n",
    "\n",
    "<hr>\n",
    "<a name=\"Lab-1\"></a><mark> **Lab 1** In the cell below, set the values for `ACCESS_KEY` and `SECRET_KEY` using the values displayed in the AWS console.\n",
    "</mark>"
   ]
  },
  {
   "cell_type": "code",
   "execution_count": 154,
   "metadata": {},
   "outputs": [],
   "source": [
    "ACCESS_KEY = \"\"\n",
    "SECRET_KEY = \"\""
   ]
  },
  {
   "cell_type": "markdown",
   "metadata": {},
   "source": [
    "<hr>"
   ]
  },
  {
   "cell_type": "markdown",
   "metadata": {},
   "source": [
    "## Creating a Data Store"
   ]
  },
  {
   "cell_type": "markdown",
   "metadata": {},
   "source": [
    "Our objective is to automate data collection and processing and report generation and delivery.  Once we've collected the data and completed some initial processing, we'll likely need to store it for future use.  While we could create a relational database using the [Amazon Relational Database Service](https://aws.amazon.com/rds/), we'll instead rely on a NoSQL store using [Amazon SimpleDB](https://aws.amazon.com/simpledb/).\n",
    "\n",
    "To work with SimpleDB from boto, we must first create a [*client()*](https://boto3.readthedocs.io/en/latest/guide/quickstart.html) indicating the service we intend to use and with our credentials.\n",
    "\n",
    "For this example, we'll use the \"us-east-1\" region as it includes all the AWS services we need."
   ]
  },
  {
   "cell_type": "code",
   "execution_count": 130,
   "metadata": {},
   "outputs": [],
   "source": [
    "import boto3\n",
    "sdb_client = boto3.client('sdb',\n",
    "                          aws_access_key_id = ACCESS_KEY,\n",
    "                          aws_secret_access_key = SECRET_KEY,\n",
    "                          region_name=\"us-east-1\")"
   ]
  },
  {
   "cell_type": "markdown",
   "metadata": {},
   "source": [
    "Instead of databases and tables, SimpleDB uses *domains* to categorize data.  To create a new domain, we can use the client's [*create_domain()*](https://boto3.readthedocs.io/en/latest/reference/services/sdb.html#SimpleDB.Client.create_domain) method."
   ]
  },
  {
   "cell_type": "code",
   "execution_count": 131,
   "metadata": {},
   "outputs": [
    {
     "data": {
      "text/plain": [
       "{'ResponseMetadata': {'BoxUsage': '0.0055590278',\n",
       "  'HTTPHeaders': {'connection': 'keep-alive',\n",
       "   'content-type': 'text/xml',\n",
       "   'date': 'Sun, 22 Apr 2018 18:00:56 GMT',\n",
       "   'server': 'Amazon SimpleDB',\n",
       "   'transfer-encoding': 'chunked',\n",
       "   'vary': 'Accept-Encoding'},\n",
       "  'HTTPStatusCode': 200,\n",
       "  'RequestId': '65344e29-625b-708a-f290-9b3856a5e21c',\n",
       "  'RetryAttempts': 0}}"
      ]
     },
     "execution_count": 131,
     "metadata": {},
     "output_type": "execute_result"
    }
   ],
   "source": [
    "sdb_client.create_domain(DomainName=\"test_domain\")"
   ]
  },
  {
   "cell_type": "markdown",
   "metadata": {},
   "source": [
    "If successful, the *create_domain()* method returns information related to the domain.  Note that an HTTP status code of [200](https://en.wikipedia.org/wiki/List_of_HTTP_status_codes#2xx_Success) indicates success.  We can also verify that the domain was created successfully by viewing its metadata.  To do this, we can use the client's [*domain_metadata()*](https://boto3.readthedocs.io/en/latest/reference/services/sdb.html#SimpleDB.Client.domain_metadata) method.  When calling the method, we specify the domain name using the `DomainName` keyword argument.\n",
    "\n",
    "<hr>\n",
    "<a name=\"Lab-2\"></a><mark> **Lab 2** In the cell below, retrieve the metadata for the recently-created domain using the *domain_metadata_method()*.\n",
    "</mark>"
   ]
  },
  {
   "cell_type": "code",
   "execution_count": 132,
   "metadata": {},
   "outputs": [
    {
     "data": {
      "text/plain": [
       "{'AttributeNameCount': 0,\n",
       " 'AttributeNamesSizeBytes': 0,\n",
       " 'AttributeValueCount': 0,\n",
       " 'AttributeValuesSizeBytes': 0,\n",
       " 'ItemCount': 0,\n",
       " 'ItemNamesSizeBytes': 0,\n",
       " 'ResponseMetadata': {'BoxUsage': '0.0000071759',\n",
       "  'HTTPHeaders': {'connection': 'keep-alive',\n",
       "   'content-type': 'text/xml',\n",
       "   'date': 'Sun, 22 Apr 2018 18:01:02 GMT',\n",
       "   'server': 'Amazon SimpleDB',\n",
       "   'transfer-encoding': 'chunked',\n",
       "   'vary': 'Accept-Encoding'},\n",
       "  'HTTPStatusCode': 200,\n",
       "  'RequestId': '2c593445-06e5-965d-6b1c-5315659983e3',\n",
       "  'RetryAttempts': 0},\n",
       " 'Timestamp': 1524420062}"
      ]
     },
     "execution_count": 132,
     "metadata": {},
     "output_type": "execute_result"
    }
   ],
   "source": [
    "sdb_client.domain_metadata(DomainName='test_domain')"
   ]
  },
  {
   "cell_type": "markdown",
   "metadata": {},
   "source": [
    "<hr>\n",
    "\n",
    "With a domain created, we can now begin adding data; to do this, we can use the [*put_attributes()*](https://boto3.readthedocs.io/en/latest/reference/services/sdb.html#SimpleDB.Client.put_attributes) method.  Data in SimpleDB is stored as items where each item can have a set of attributes associated with it.  In the code below, we add an item named `employee1` to represent an employee.  In the example, there are two attributes associated with the employee, full name and department.  To associate these with the item, we specify a list of dictionaries for attributes where each dictionary has two key/value pairs.  Each attribute dictionary contains a `Name` and `Value` key where the corresponding values are the data for each attribute. If we think of our data as being tabular, we can think of the `ItemName` as identifying a row, the attribute `Name` key as specifying a column name, and the attribute `Value` key as being used to provide a field value.  \n",
    "\n",
    "Given data that could be stored like this\n",
    "\n",
    "<table>\n",
    "    <tr>\n",
    "        <th>ID</th>\n",
    "        <th>Fullname</th>\n",
    "        <th>Department</th>\n",
    "    </tr>\n",
    "    <tr>\n",
    "        <td>employee1</td>\n",
    "        <td>Bob Smith</td>\n",
    "        <td>Marketing</td>\n",
    "    </tr>\n",
    "</table>\n",
    "\n",
    "we can store it in SimpleDB using the following code."
   ]
  },
  {
   "cell_type": "code",
   "execution_count": 133,
   "metadata": {},
   "outputs": [
    {
     "data": {
      "text/plain": [
       "{'ResponseMetadata': {'BoxUsage': '0.0000219923',\n",
       "  'HTTPHeaders': {'connection': 'keep-alive',\n",
       "   'content-type': 'text/xml',\n",
       "   'date': 'Sun, 22 Apr 2018 18:01:26 GMT',\n",
       "   'server': 'Amazon SimpleDB',\n",
       "   'transfer-encoding': 'chunked',\n",
       "   'vary': 'Accept-Encoding'},\n",
       "  'HTTPStatusCode': 200,\n",
       "  'RequestId': '1de68219-3132-37d2-8bb6-df8742469246',\n",
       "  'RetryAttempts': 0}}"
      ]
     },
     "execution_count": 133,
     "metadata": {},
     "output_type": "execute_result"
    }
   ],
   "source": [
    "sdb_client.put_attributes(DomainName='test_domain',\n",
    "                          ItemName='employee1',\n",
    "                          Attributes=[\n",
    "                              {\n",
    "                                  'Name': 'Fullname',\n",
    "                                  'Value': 'Bob Smith'\n",
    "                              },\n",
    "                              {\n",
    "                                  'Name': 'Department',\n",
    "                                  'Value': 'Marketing'\n",
    "                              }\n",
    "                          ])"
   ]
  },
  {
   "cell_type": "markdown",
   "metadata": {},
   "source": [
    "<hr>\n",
    "<a name=\"Lab-3\"></a><mark> **Lab 3** In the cell below, use the *put_attributes()* method to add data for the following item.\n",
    "    \n",
    "<table>\n",
    "    <tr>\n",
    "        <th>ID</th>\n",
    "        <th>Fullname</th>\n",
    "        <th>Department</th>\n",
    "    </tr>\n",
    "    <tr>\n",
    "        <td>employee2</td>\n",
    "        <td>Jane Doe</td>\n",
    "        <td>IT</td>\n",
    "    </tr>\n",
    "</table>\n",
    "\n",
    "</mark>"
   ]
  },
  {
   "cell_type": "code",
   "execution_count": 134,
   "metadata": {},
   "outputs": [
    {
     "data": {
      "text/plain": [
       "{'ResponseMetadata': {'BoxUsage': '0.0000219923',\n",
       "  'HTTPHeaders': {'connection': 'keep-alive',\n",
       "   'content-type': 'text/xml',\n",
       "   'date': 'Sun, 22 Apr 2018 18:02:22 GMT',\n",
       "   'server': 'Amazon SimpleDB',\n",
       "   'transfer-encoding': 'chunked',\n",
       "   'vary': 'Accept-Encoding'},\n",
       "  'HTTPStatusCode': 200,\n",
       "  'RequestId': 'e6061205-37aa-15b4-de8b-ef7dd8c394a6',\n",
       "  'RetryAttempts': 0}}"
      ]
     },
     "execution_count": 134,
     "metadata": {},
     "output_type": "execute_result"
    }
   ],
   "source": [
    "sdb_client.put_attributes(DomainName='test_domain',\n",
    "                          ItemName='employee2',\n",
    "                          Attributes=[\n",
    "                              {\n",
    "                                  'Name': 'Fullname',\n",
    "                                  'Value': 'Jane Doe'\n",
    "                              },\n",
    "                              {\n",
    "                                  'Name': 'Department',\n",
    "                                  'Value': 'IT'\n",
    "                              }\n",
    "                          ])"
   ]
  },
  {
   "cell_type": "markdown",
   "metadata": {},
   "source": [
    "<hr>\n",
    "\n",
    "To retrieve data for a specific item, we can use the [*get_attributes()*](https://boto3.readthedocs.io/en/latest/reference/services/sdb.html#SimpleDB.Client.get_attributes) method where we specify the item's name. Note that the returned value is a dictionary containing both item attributes and metadata."
   ]
  },
  {
   "cell_type": "code",
   "execution_count": 135,
   "metadata": {},
   "outputs": [
    {
     "data": {
      "text/plain": [
       "{'Attributes': [{'Name': 'Department', 'Value': 'Marketing'},\n",
       "  {'Name': 'Fullname', 'Value': 'Bob Smith'}],\n",
       " 'ResponseMetadata': {'BoxUsage': '0.0000093282',\n",
       "  'HTTPHeaders': {'connection': 'keep-alive',\n",
       "   'content-type': 'text/xml',\n",
       "   'date': 'Sun, 22 Apr 2018 18:02:24 GMT',\n",
       "   'server': 'Amazon SimpleDB',\n",
       "   'transfer-encoding': 'chunked',\n",
       "   'vary': 'Accept-Encoding'},\n",
       "  'HTTPStatusCode': 200,\n",
       "  'RequestId': '66888e0f-c247-9f9b-01a4-40103608c3b2',\n",
       "  'RetryAttempts': 0}}"
      ]
     },
     "execution_count": 135,
     "metadata": {},
     "output_type": "execute_result"
    }
   ],
   "source": [
    "sdb_client.get_attributes(DomainName='test_domain', ItemName=\"employee1\")"
   ]
  },
  {
   "cell_type": "markdown",
   "metadata": {},
   "source": [
    "To get a specific attribute for a specific item, we can specify the attribute name in a list with the `AttributeNames` keyword argument."
   ]
  },
  {
   "cell_type": "code",
   "execution_count": 136,
   "metadata": {},
   "outputs": [
    {
     "data": {
      "text/plain": [
       "{'Attributes': [{'Name': 'Department', 'Value': 'Marketing'}],\n",
       " 'ResponseMetadata': {'BoxUsage': '0.0000093222',\n",
       "  'HTTPHeaders': {'connection': 'keep-alive',\n",
       "   'content-type': 'text/xml',\n",
       "   'date': 'Sun, 22 Apr 2018 18:02:25 GMT',\n",
       "   'server': 'Amazon SimpleDB',\n",
       "   'transfer-encoding': 'chunked',\n",
       "   'vary': 'Accept-Encoding'},\n",
       "  'HTTPStatusCode': 200,\n",
       "  'RequestId': 'be126a52-adfb-7f18-19ff-8a61467e7cee',\n",
       "  'RetryAttempts': 0}}"
      ]
     },
     "execution_count": 136,
     "metadata": {},
     "output_type": "execute_result"
    }
   ],
   "source": [
    "sdb_client.get_attributes(DomainName='test_domain', ItemName=\"employee1\", AttributeNames=['Department'])"
   ]
  },
  {
   "cell_type": "markdown",
   "metadata": {},
   "source": [
    "We can also use the [*select()*](https://boto3.readthedocs.io/en/latest/reference/services/sdb.html#SimpleDB.Client.select) method to find data using SQL-like queries.  For example, we can use the following code to find all employees in the marketing department.  Notice that the domain name is used like a table name in the query."
   ]
  },
  {
   "cell_type": "code",
   "execution_count": 137,
   "metadata": {},
   "outputs": [
    {
     "data": {
      "text/plain": [
       "{'Items': [{'Attributes': [{'Name': 'Department', 'Value': 'Marketing'},\n",
       "    {'Name': 'Fullname', 'Value': 'Bob Smith'}],\n",
       "   'Name': 'employee1'}],\n",
       " 'ResponseMetadata': {'BoxUsage': '0.0000228616',\n",
       "  'HTTPHeaders': {'connection': 'keep-alive',\n",
       "   'content-type': 'text/xml',\n",
       "   'date': 'Sun, 22 Apr 2018 18:02:31 GMT',\n",
       "   'server': 'Amazon SimpleDB',\n",
       "   'transfer-encoding': 'chunked',\n",
       "   'vary': 'Accept-Encoding'},\n",
       "  'HTTPStatusCode': 200,\n",
       "  'RequestId': 'a34a3876-80a9-2ddd-02da-9538b7a6aee3',\n",
       "  'RetryAttempts': 0}}"
      ]
     },
     "execution_count": 137,
     "metadata": {},
     "output_type": "execute_result"
    }
   ],
   "source": [
    "sdb_client.select(SelectExpression=\"select * from test_domain where Department = 'Marketing'\")"
   ]
  },
  {
   "cell_type": "markdown",
   "metadata": {},
   "source": [
    "<hr>\n",
    "<a name=\"Lab-4\"></a><mark> **Lab 4** In the cell below, use the *select()* method to find data where the employee's full name is \"Bob Smith\"."
   ]
  },
  {
   "cell_type": "code",
   "execution_count": 138,
   "metadata": {},
   "outputs": [
    {
     "data": {
      "text/plain": [
       "{'Items': [{'Attributes': [{'Name': 'Department', 'Value': 'Marketing'},\n",
       "    {'Name': 'Fullname', 'Value': 'Bob Smith'}],\n",
       "   'Name': 'employee1'}],\n",
       " 'ResponseMetadata': {'BoxUsage': '0.0000228616',\n",
       "  'HTTPHeaders': {'connection': 'keep-alive',\n",
       "   'content-type': 'text/xml',\n",
       "   'date': 'Sun, 22 Apr 2018 18:02:58 GMT',\n",
       "   'server': 'Amazon SimpleDB',\n",
       "   'transfer-encoding': 'chunked',\n",
       "   'vary': 'Accept-Encoding'},\n",
       "  'HTTPStatusCode': 200,\n",
       "  'RequestId': 'c8de410e-2aac-efe2-79ce-ba894dcf1197',\n",
       "  'RetryAttempts': 0}}"
      ]
     },
     "execution_count": 138,
     "metadata": {},
     "output_type": "execute_result"
    }
   ],
   "source": [
    "sdb_client.select(SelectExpression=\"select * from test_domain where Fullname = 'Bob Smith'\")"
   ]
  },
  {
   "cell_type": "markdown",
   "metadata": {},
   "source": [
    "<hr>\n",
    "\n",
    "We can update attributes for records using the *put_attributes()* method.  To do this, we specify the appropriate attribute `Name` and `Value` keys/value pairs along with `Replace: True`.  For example, we can change `employee1`'s name."
   ]
  },
  {
   "cell_type": "code",
   "execution_count": 139,
   "metadata": {},
   "outputs": [
    {
     "data": {
      "text/plain": [
       "{'ResponseMetadata': {'BoxUsage': '0.0000219909',\n",
       "  'HTTPHeaders': {'connection': 'keep-alive',\n",
       "   'content-type': 'text/xml',\n",
       "   'date': 'Sun, 22 Apr 2018 18:02:59 GMT',\n",
       "   'server': 'Amazon SimpleDB',\n",
       "   'transfer-encoding': 'chunked',\n",
       "   'vary': 'Accept-Encoding'},\n",
       "  'HTTPStatusCode': 200,\n",
       "  'RequestId': '70e97883-0557-5e79-6d3e-7c6ff3a7da6b',\n",
       "  'RetryAttempts': 0}}"
      ]
     },
     "execution_count": 139,
     "metadata": {},
     "output_type": "execute_result"
    }
   ],
   "source": [
    "sdb_client.put_attributes(DomainName='test_domain',\n",
    "                          ItemName='employee1',\n",
    "                          Attributes=[\n",
    "                              {\n",
    "                                  'Name': 'Fullname',\n",
    "                                  'Value': 'Robert Smith',\n",
    "                                  'Replace': True\n",
    "                              }\n",
    "                          ])"
   ]
  },
  {
   "cell_type": "markdown",
   "metadata": {},
   "source": [
    "We can confirm the change using the *get_attributes()* method."
   ]
  },
  {
   "cell_type": "code",
   "execution_count": 140,
   "metadata": {},
   "outputs": [
    {
     "data": {
      "text/plain": [
       "{'Attributes': [{'Name': 'Department', 'Value': 'Marketing'},\n",
       "  {'Name': 'Fullname', 'Value': 'Robert Smith'}],\n",
       " 'ResponseMetadata': {'BoxUsage': '0.0000093282',\n",
       "  'HTTPHeaders': {'connection': 'keep-alive',\n",
       "   'content-type': 'text/xml',\n",
       "   'date': 'Sun, 22 Apr 2018 18:03:02 GMT',\n",
       "   'server': 'Amazon SimpleDB',\n",
       "   'transfer-encoding': 'chunked',\n",
       "   'vary': 'Accept-Encoding'},\n",
       "  'HTTPStatusCode': 200,\n",
       "  'RequestId': 'fff0890f-a234-2673-ef60-9c2ef4d822fa',\n",
       "  'RetryAttempts': 0}}"
      ]
     },
     "execution_count": 140,
     "metadata": {},
     "output_type": "execute_result"
    }
   ],
   "source": [
    "sdb_client.get_attributes(DomainName='test_domain', ItemName=\"employee1\")"
   ]
  },
  {
   "cell_type": "markdown",
   "metadata": {},
   "source": [
    "We can delete items using the [*delete_attributes()*] method, specifying the domain and item names."
   ]
  },
  {
   "cell_type": "code",
   "execution_count": 141,
   "metadata": {},
   "outputs": [
    {
     "data": {
      "text/plain": [
       "{'ResponseMetadata': {'BoxUsage': '0.0000219907',\n",
       "  'HTTPHeaders': {'connection': 'keep-alive',\n",
       "   'content-type': 'text/xml',\n",
       "   'date': 'Sun, 22 Apr 2018 18:03:05 GMT',\n",
       "   'server': 'Amazon SimpleDB',\n",
       "   'transfer-encoding': 'chunked',\n",
       "   'vary': 'Accept-Encoding'},\n",
       "  'HTTPStatusCode': 200,\n",
       "  'RequestId': 'd3f2cb21-41ef-d5fb-3e7a-fc7843e684fc',\n",
       "  'RetryAttempts': 0}}"
      ]
     },
     "execution_count": 141,
     "metadata": {},
     "output_type": "execute_result"
    }
   ],
   "source": [
    "sdb_client.delete_attributes(DomainName='test_domain', ItemName=\"employee1\")"
   ]
  },
  {
   "cell_type": "markdown",
   "metadata": {},
   "source": [
    "<hr>\n",
    "<a name=\"Lab-5\"></a><mark> **Lab 5** In the cell below, use the *delete_attributes()* method to delete the `employee2`item."
   ]
  },
  {
   "cell_type": "code",
   "execution_count": 142,
   "metadata": {},
   "outputs": [
    {
     "data": {
      "text/plain": [
       "{'ResponseMetadata': {'BoxUsage': '0.0000219907',\n",
       "  'HTTPHeaders': {'connection': 'keep-alive',\n",
       "   'content-type': 'text/xml',\n",
       "   'date': 'Sun, 22 Apr 2018 18:03:27 GMT',\n",
       "   'server': 'Amazon SimpleDB',\n",
       "   'transfer-encoding': 'chunked',\n",
       "   'vary': 'Accept-Encoding'},\n",
       "  'HTTPStatusCode': 200,\n",
       "  'RequestId': '51e43e34-6c25-d959-f487-35b262a98347',\n",
       "  'RetryAttempts': 0}}"
      ]
     },
     "execution_count": 142,
     "metadata": {},
     "output_type": "execute_result"
    }
   ],
   "source": [
    "sdb_client.delete_attributes(DomainName='test_domain', ItemName=\"employee2\")"
   ]
  },
  {
   "cell_type": "markdown",
   "metadata": {},
   "source": [
    "<hr>\n",
    "\n",
    "At this point, our domain should be empty.  We can confirm this using the *domain_metadata()* method."
   ]
  },
  {
   "cell_type": "code",
   "execution_count": 143,
   "metadata": {},
   "outputs": [
    {
     "data": {
      "text/plain": [
       "{'AttributeNameCount': 0,\n",
       " 'AttributeNamesSizeBytes': 0,\n",
       " 'AttributeValueCount': 0,\n",
       " 'AttributeValuesSizeBytes': 0,\n",
       " 'ItemCount': 0,\n",
       " 'ItemNamesSizeBytes': 0,\n",
       " 'ResponseMetadata': {'BoxUsage': '0.0000071759',\n",
       "  'HTTPHeaders': {'connection': 'keep-alive',\n",
       "   'content-type': 'text/xml',\n",
       "   'date': 'Sun, 22 Apr 2018 18:03:28 GMT',\n",
       "   'server': 'Amazon SimpleDB',\n",
       "   'transfer-encoding': 'chunked',\n",
       "   'vary': 'Accept-Encoding'},\n",
       "  'HTTPStatusCode': 200,\n",
       "  'RequestId': '2f0ec258-3f47-91eb-e656-9c619cfd87d1',\n",
       "  'RetryAttempts': 0},\n",
       " 'Timestamp': 1524420208}"
      ]
     },
     "execution_count": 143,
     "metadata": {},
     "output_type": "execute_result"
    }
   ],
   "source": [
    "sdb_client.domain_metadata(DomainName='test_domain')"
   ]
  },
  {
   "cell_type": "markdown",
   "metadata": {},
   "source": [
    "To delete the domain entirely, we can use the [*delete_domain()*](https://boto3.readthedocs.io/en/latest/reference/services/sdb.html#SimpleDB.Client.delete_domain) method."
   ]
  },
  {
   "cell_type": "code",
   "execution_count": 144,
   "metadata": {},
   "outputs": [
    {
     "data": {
      "text/plain": [
       "{'ResponseMetadata': {'BoxUsage': '0.0055590278',\n",
       "  'HTTPHeaders': {'connection': 'keep-alive',\n",
       "   'content-type': 'text/xml',\n",
       "   'date': 'Sun, 22 Apr 2018 18:03:32 GMT',\n",
       "   'server': 'Amazon SimpleDB',\n",
       "   'transfer-encoding': 'chunked',\n",
       "   'vary': 'Accept-Encoding'},\n",
       "  'HTTPStatusCode': 200,\n",
       "  'RequestId': '56b81611-5479-d1f7-a55a-cbfcf4b97778',\n",
       "  'RetryAttempts': 0}}"
      ]
     },
     "execution_count": 144,
     "metadata": {},
     "output_type": "execute_result"
    }
   ],
   "source": [
    "sdb_client.delete_domain(DomainName='test_domain')"
   ]
  },
  {
   "cell_type": "markdown",
   "metadata": {},
   "source": [
    "SimpleDB provides finer control over the data such as deleting individual attributes rather than entire items. The methods we've looked at will be sufficient for our task.\n",
    "\n",
    "Now that we have a way of storing data, we need a way of obtaining the data and processing it."
   ]
  },
  {
   "cell_type": "markdown",
   "metadata": {},
   "source": [
    "## Data Retrieval and Processing"
   ]
  },
  {
   "cell_type": "markdown",
   "metadata": {},
   "source": [
    "Suppose we had a simple portfolio consisting of shares of `goog` and `appl`.  Our report generation process would need to retrieve prices for each.  To do this, use the [IEX API](https://iextrading.com/developer/docs/#getting-started). For our simple report, we'll use only the latest price data accessible using the [price](https://iextrading.com/developer/docs/#price) endpoint.  \n",
    "\n",
    "To retrieve and process the data into Python objects, we'll use the [Requests](http://docs.python-requests.org/en/master/) library.  In the example below, we get the latest price for `goog`.  Recall that the response contain JSON data that can be processed using the *json()* method."
   ]
  },
  {
   "cell_type": "code",
   "execution_count": 145,
   "metadata": {},
   "outputs": [
    {
     "data": {
      "text/plain": [
       "1072.96"
      ]
     },
     "execution_count": 145,
     "metadata": {},
     "output_type": "execute_result"
    }
   ],
   "source": [
    "import requests\n",
    "\n",
    "response = requests.get(\"https://api.iextrading.com/1.0/stock/goog/price\")\n",
    "price = response.json()\n",
    "price"
   ]
  },
  {
   "cell_type": "markdown",
   "metadata": {},
   "source": [
    "We can store price data and number of shares for each stock in a SimpleDB domain.  To start, we'll create the domain and an item for each stock where the stock's name will be used as the item name. Price and number of shares will be stored as attributes."
   ]
  },
  {
   "cell_type": "code",
   "execution_count": 146,
   "metadata": {},
   "outputs": [],
   "source": [
    "sdb_client.create_domain(DomainName='portfolio')\n",
    "\n",
    "for name in ['aapl', 'goog']:\n",
    "    sdb_client.put_attributes(DomainName='portfolio',\n",
    "                              ItemName=name,\n",
    "                              Attributes=[\n",
    "                                  {\n",
    "                                      'Name': 'price',\n",
    "                                      'Value': '0'\n",
    "                                  },\n",
    "                                  {\n",
    "                                      'Name': 'shares',\n",
    "                                      'Value': '5'\n",
    "                                  }\n",
    "                              ])"
   ]
  },
  {
   "cell_type": "markdown",
   "metadata": {},
   "source": [
    "We can confirm that the items existing using the *select()* method."
   ]
  },
  {
   "cell_type": "code",
   "execution_count": 147,
   "metadata": {},
   "outputs": [
    {
     "data": {
      "text/plain": [
       "{'Items': [{'Attributes': [{'Name': 'shares', 'Value': '5'},\n",
       "    {'Name': 'price', 'Value': '165.72'},\n",
       "    {'Name': 'price', 'Value': '0'}],\n",
       "   'Name': 'aapl'},\n",
       "  {'Attributes': [{'Name': 'shares', 'Value': '5'},\n",
       "    {'Name': 'price', 'Value': '1072.96'},\n",
       "    {'Name': 'price', 'Value': '0'}],\n",
       "   'Name': 'goog'}],\n",
       " 'ResponseMetadata': {'BoxUsage': '0.0000320033',\n",
       "  'HTTPHeaders': {'connection': 'keep-alive',\n",
       "   'content-type': 'text/xml',\n",
       "   'date': 'Sun, 22 Apr 2018 18:03:44 GMT',\n",
       "   'server': 'Amazon SimpleDB',\n",
       "   'transfer-encoding': 'chunked',\n",
       "   'vary': 'Accept-Encoding'},\n",
       "  'HTTPStatusCode': 200,\n",
       "  'RequestId': '3207ece2-0428-4b2a-3c8b-2d1516b86224',\n",
       "  'RetryAttempts': 0}}"
      ]
     },
     "execution_count": 147,
     "metadata": {},
     "output_type": "execute_result"
    }
   ],
   "source": [
    "sdb_client.select(SelectExpression=\"select * from portfolio\")"
   ]
  },
  {
   "cell_type": "markdown",
   "metadata": {},
   "source": [
    "We can now write a function that use the IEX API to update the price data in the SimpleDB domain."
   ]
  },
  {
   "cell_type": "code",
   "execution_count": 148,
   "metadata": {},
   "outputs": [],
   "source": [
    "def update_portfolio(sdb_client):\n",
    "    results = sdb_client.select(SelectExpression=\"select * from portfolio\")\n",
    "    for item in results['Items']:\n",
    "        name = item['Name']\n",
    "        url = \"https://api.iextrading.com/1.0/stock/{0}/price\".format(name)\n",
    "        price = requests.get(url).json()\n",
    "        sdb_client.put_attributes(\n",
    "            DomainName='portfolio',\n",
    "            ItemName=name,\n",
    "            Attributes=[\n",
    "                {\n",
    "                    'Name': 'price',\n",
    "                    'Value': str(price),\n",
    "                    'Replace': True\n",
    "                }\n",
    "        ])"
   ]
  },
  {
   "cell_type": "markdown",
   "metadata": {},
   "source": [
    "Note that we values in SimpleDB are stored as strings so we have to convert the price data to a string when storing it.  \n",
    "\n",
    "Let's execute the function."
   ]
  },
  {
   "cell_type": "code",
   "execution_count": 149,
   "metadata": {},
   "outputs": [],
   "source": [
    "update_portfolio(sdb_client)"
   ]
  },
  {
   "cell_type": "markdown",
   "metadata": {},
   "source": [
    "To see if the domain was successfully updated, we can use the *select()* method."
   ]
  },
  {
   "cell_type": "code",
   "execution_count": 150,
   "metadata": {},
   "outputs": [
    {
     "data": {
      "text/plain": [
       "[{'Attributes': [{'Name': 'shares', 'Value': '5'},\n",
       "   {'Name': 'price', 'Value': '165.72'}],\n",
       "  'Name': 'aapl'},\n",
       " {'Attributes': [{'Name': 'shares', 'Value': '5'},\n",
       "   {'Name': 'price', 'Value': '1072.96'}],\n",
       "  'Name': 'goog'}]"
      ]
     },
     "execution_count": 150,
     "metadata": {},
     "output_type": "execute_result"
    }
   ],
   "source": [
    "sdb_client.select(SelectExpression=\"select * from portfolio\")['Items']"
   ]
  },
  {
   "cell_type": "markdown",
   "metadata": {},
   "source": [
    "Now that we have a way of retrieving the data and updating the SimpleDB domain, we work on reporting with the data.  For this example, our report will be a simple text summary that we email to ourselves. \n",
    "\n",
    "In order to generate and send the email, we will use the [AWS Simple Email Service](https://aws.amazon.com/ses/).  In order to use it, we have to first verify an email address.\n",
    "\n",
    "Log into the AWS console and select \"Simple Email Service\" from the \"Customer Engagement\" section.  Make sure the \"US East (N. Virginia)\" region is selected in the upper right corner of the console.\n",
    "\n",
    "<figure>\n",
    "  <img src=\"./images/08-aws-ses-1.png\" alt=\"aws services menu with ses\">\t\n",
    "  <figcaption style=\"text-align: center; font-weight: bold\">Customer Engagement Services</figcaption>\n",
    "</figure>\n",
    "\n",
    "On the left, click the \"Email Adresses\" link in the \"Identity Management\" section.\n",
    "\n",
    "<figure>\n",
    "  <img src=\"./images/08-aws-ses-2.png\" alt=\"ses email addresses\">\t\n",
    "  <figcaption style=\"text-align: center; font-weight: bold\">SES Identity Management</figcaption>\n",
    "</figure>\n",
    "\n",
    "In order to send an email, we'll need to provide a source address. In order to use that address, we have to verify that we own/control it.  Similarly, we'll have to verify that the destination address is willing to receive email.  To simplify things, we'll use the same email address as the sender and recipient. To begin the verification process, click \"Verify a New Email Address\". \n",
    "\n",
    "<figure>\n",
    "  <img src=\"./images/08-aws-ses-3.png\" alt=\"ses verify a new email address button\">\t\n",
    "  <figcaption style=\"text-align: center; font-weight: bold\">Verify a New Email Address</figcaption>\n",
    "</figure>\n",
    "\n",
    "In the pop-up, enter your email address and click the \"Verify This Email Address Button\".\n",
    "\n",
    "<figure>\n",
    "  <img src=\"./images/08-aws-ses-4.png\" alt=\"email address pop-up\">\t\n",
    "  <figcaption style=\"text-align: center; font-weight: bold\">Enter an Email Address</figcaption>\n",
    "</figure>\n",
    "\n",
    "Check your email account - you should receive an email with a link to verify the address.  Click it to complete the verification process. \n",
    "\n",
    "To send an email, we'll need to create a client using Boto3 in much the same way we did for SimpleDB."
   ]
  },
  {
   "cell_type": "code",
   "execution_count": 151,
   "metadata": {},
   "outputs": [],
   "source": [
    "ses_client = boto3.client('ses',\n",
    "                          aws_access_key_id = ACCESS_KEY,\n",
    "                          aws_secret_access_key = SECRET_KEY,\n",
    "                          region_name=\"us-east-1\")"
   ]
  },
  {
   "cell_type": "markdown",
   "metadata": {},
   "source": [
    "To send an email, we can use the [*send_email()*](https://boto3.readthedocs.io/en/latest/reference/services/ses.html#SES.Client.send_email) method, specifying the source and destination addresses as well as the message.  \n",
    "\n",
    "<hr>\n",
    "<a name=\"Lab-6\"></a><mark> **Lab 6** Update the code below to store your email address in the `ADDRESS` variable.  After executing the cell, you should receive a test message."
   ]
  },
  {
   "cell_type": "code",
   "execution_count": 101,
   "metadata": {},
   "outputs": [
    {
     "data": {
      "text/plain": [
       "{'MessageId': '01000162ee28281f-862b375c-74e4-4ee6-903b-93b948b3e61d-000000',\n",
       " 'ResponseMetadata': {'HTTPHeaders': {'content-length': '326',\n",
       "   'content-type': 'text/xml',\n",
       "   'date': 'Sun, 22 Apr 2018 16:20:31 GMT',\n",
       "   'x-amzn-requestid': '141f6a57-4649-11e8-9b8a-3bd3697c786c'},\n",
       "  'HTTPStatusCode': 200,\n",
       "  'RequestId': '141f6a57-4649-11e8-9b8a-3bd3697c786c',\n",
       "  'RetryAttempts': 0}}"
      ]
     },
     "execution_count": 101,
     "metadata": {},
     "output_type": "execute_result"
    }
   ],
   "source": [
    "ADDRESS = \"\"\n",
    "CHARSET = \"UTF-8\"\n",
    "\n",
    "ses_client.send_email(\n",
    "    Source=ADDRESS,\n",
    "    Destination={\n",
    "        'ToAddresses': [\n",
    "            ADDRESS\n",
    "        ]\n",
    "    },\n",
    "    Message={\n",
    "        'Body': {\n",
    "            'Text': {\n",
    "                'Charset': CHARSET,\n",
    "                'Data': \"Testing SES\"\n",
    "            }\n",
    "        },\n",
    "        'Subject': {\n",
    "            'Charset': CHARSET,\n",
    "            'Data': \"This is a test\"\n",
    "        }\n",
    "    }\n",
    ")"
   ]
  },
  {
   "cell_type": "markdown",
   "metadata": {},
   "source": [
    "<hr>\n",
    "\n",
    "We can now combine the ability to retrieve data from SimpleDB with our ability to send email using the Simple Email Service, to create and send a report.  To do this, we'll create two functions.  The first will generate the report and the second will send the report email."
   ]
  },
  {
   "cell_type": "code",
   "execution_count": 152,
   "metadata": {},
   "outputs": [
    {
     "name": "stdout",
     "output_type": "stream",
     "text": [
      "aapl, 5 shares @ $165.72: $828.6\n",
      "goog, 5 shares @ $1072.96: $5364.8\n",
      "Total: $6193.400000000001\n"
     ]
    }
   ],
   "source": [
    "def report(sdb_client):\n",
    "    email_lines = []\n",
    "    total = 0 \n",
    "    \n",
    "    results = sdb_client.select(SelectExpression=\"select * from portfolio\")\n",
    "    for item in results['Items']:\n",
    "        name = item['Name']\n",
    "        shares = int(sdb_client.get_attributes(DomainName='portfolio', \n",
    "                                               ItemName=name, \n",
    "                                               AttributeNames=['shares'])['Attributes'][0]['Value'])\n",
    "        price = float(sdb_client.get_attributes(DomainName='portfolio', \n",
    "                                                ItemName=name, \n",
    "                                                AttributeNames=['price'])['Attributes'][0]['Value'])\n",
    "        stock_total = shares * price\n",
    "        message = f\"{name}, {shares} shares @ ${price}: ${stock_total}\"\n",
    "        email_lines.append(message)\n",
    "        total += stock_total\n",
    "        \n",
    "    email_lines.append(f\"Total: ${total}\")\n",
    "    return \"\\n\".join(email_lines)\n",
    "\n",
    "print(report(sdb_client))"
   ]
  },
  {
   "cell_type": "markdown",
   "metadata": {},
   "source": [
    "To send the email, we have the following."
   ]
  },
  {
   "cell_type": "code",
   "execution_count": 153,
   "metadata": {},
   "outputs": [],
   "source": [
    "def send_report(ses_client, dest_addr, message):\n",
    "    CHARSET = \"UTF-8\"\n",
    "\n",
    "    ses_client.send_email(\n",
    "        Source=dest_addr,\n",
    "        Destination={\n",
    "            'ToAddresses': [\n",
    "                dest_addr\n",
    "            ]\n",
    "        },\n",
    "        Message={\n",
    "            'Body': {\n",
    "                'Text': {\n",
    "                    'Charset': CHARSET,\n",
    "                    'Data': message\n",
    "                }\n",
    "            },\n",
    "            'Subject': {\n",
    "                'Charset': CHARSET,\n",
    "                'Data': \"Report\"\n",
    "            }\n",
    "        }\n",
    "    )"
   ]
  },
  {
   "cell_type": "markdown",
   "metadata": {},
   "source": [
    "We can now test report generation and message delivery.\n",
    "\n",
    "<hr>\n",
    "<a name=\"Lab-7\"></a><mark> **Lab 7** Update the code below with the appropriate email address to test report generation and delivery."
   ]
  },
  {
   "cell_type": "code",
   "execution_count": 127,
   "metadata": {},
   "outputs": [],
   "source": [
    "ADDRESS = \"\"\n",
    "message = report(sdb_client)\n",
    "send_report(ses_client, ADDRESS, message)"
   ]
  },
  {
   "cell_type": "markdown",
   "metadata": {},
   "source": [
    "<hr>"
   ]
  },
  {
   "cell_type": "markdown",
   "metadata": {},
   "source": [
    "## Automating the Process"
   ]
  },
  {
   "cell_type": "markdown",
   "metadata": {},
   "source": [
    "While we could manually execute code when necessary, we can improve reliability by automating as much of the process as possible.  There are a variety of way of automating execution including creating [scheduled tasks in Windows](https://msdn.microsoft.com/en-us/library/windows/desktop/aa383614%28v=vs.85%29.aspx) and using [cron](https://en.wikipedia.org/wiki/Cron) in Unix-like environments.  For our reporting job, we'll use [AWS Lambda](https://aws.amazon.com/lambda/), a service that allows us to execute code in the cloud without having to worry about managing servers.  \n",
    "\n",
    "While we could programmatically set up Lambda using Boto, it is much simpler to to it via the console.  From the Services menu, select \"Lambda\" in the \"Compute\" section.  \n",
    "\n",
    "<figure>\n",
    "  <img src=\"./images/08-aws-lambda-1.png\" alt=\"Lambda in the compute section\">\t\n",
    "  <figcaption style=\"text-align: center; font-weight: bold\">Compute Services</figcaption>\n",
    "</figure>\n",
    "\n",
    "When the Lambda page loads, make sure that your region is set to \"US East (N. Virginia)\". Click the \"Create a function\" button to get started. We'll author a function from scratch.  Set the following values for the fields and click \"Create function\".\n",
    "\n",
    "- Name: report\n",
    "- Runtime: Python 3.6\n",
    "- Role: Create new role from template(s)\n",
    "- Role name: report\n",
    "- Policy templates: Basic Edge Lambda permissions\n",
    "\n",
    "<figure>\n",
    "  <img src=\"./images/08-aws-lambda-2.png\" alt=\"new function properties\">\t\n",
    "  <figcaption style=\"text-align: center; font-weight: bold\">New Lambda Function</figcaption>\n",
    "</figure>\n",
    "\n",
    "There are several sections of configuration items; we'll look at a few of them.  First, look for the \"Environment Variables\" section.  We can used environment variables to provide data to our function when it runs while avoiding hard-coding the data in the function itself.  For example. we can store the AWS keys and the email address that the report will be sent to as environment variables.  Create the following three keys and enter the appropriate values.\n",
    "\n",
    "- ACCESS_KEY \n",
    "- SECRET_KEY \n",
    "- EMAIL_ADDRESS\n",
    "\n",
    "<figure>\n",
    "  <img src=\"./images/08-aws-lambda-3.png\" alt=\"environment variables\">\t\n",
    "  <figcaption style=\"text-align: center; font-weight: bold\">Environment Variables</figcaption>\n",
    "</figure>\n",
    "\n",
    "We'll now add code for our function using the code editor in the \"Function code\" section.  Our code will be based on the *update_portfolio()*, *report()*, and *send_report()* functions we wrote earlier.\n",
    "\n",
    "\n",
    "``` python\n",
    "import os\n",
    "import boto3\n",
    "from botocore.vendored import requests\n",
    "\n",
    "\n",
    "def update_portfolio(sdb_client):\n",
    "    results = sdb_client.select(SelectExpression=\"select * from portfolio\")\n",
    "    for item in results['Items']:\n",
    "        name = item['Name']\n",
    "        url = \"https://api.iextrading.com/1.0/stock/{0}/price\".format(name)\n",
    "        price = requests.get(url).json()\n",
    "        sdb_client.put_attributes(\n",
    "            DomainName='portfolio',\n",
    "            ItemName=name,\n",
    "            Attributes=[\n",
    "                {\n",
    "                    'Name': 'price',\n",
    "                    'Value': str(price),\n",
    "                    'Replace': True\n",
    "                }\n",
    "        ])\n",
    "        \n",
    "\n",
    "def report(sdb_client):\n",
    "    email_lines = []\n",
    "    total = 0 \n",
    "    \n",
    "    results = sdb_client.select(SelectExpression=\"select * from portfolio\")\n",
    "    for item in results['Items']:\n",
    "        name = item['Name']\n",
    "        shares = int(sdb_client.get_attributes(DomainName='portfolio', \n",
    "                                               ItemName=name, \n",
    "                                               AttributeNames=['shares'])['Attributes'][0]['Value'])\n",
    "        price = float(sdb_client.get_attributes(DomainName='portfolio', \n",
    "                                                ItemName=name, \n",
    "                                                AttributeNames=['price'])['Attributes'][0]['Value'])\n",
    "        stock_total = shares * price\n",
    "        message = f\"{name}, {shares} shares @ ${price}: ${stock_total}\"\n",
    "        email_lines.append(message)\n",
    "        total += stock_total\n",
    "        \n",
    "    email_lines.append(f\"Total: ${total}\")\n",
    "    return \"\\n\".join(email_lines)\n",
    "    \n",
    "    \n",
    "def send_report(ses_client, dest_addr, message):\n",
    "    CHARSET = \"UTF-8\"\n",
    "\n",
    "    ses_client.send_email(\n",
    "        Source=dest_addr,\n",
    "        Destination={\n",
    "            'ToAddresses': [\n",
    "                dest_addr\n",
    "            ]\n",
    "        },\n",
    "        Message={\n",
    "            'Body': {\n",
    "                'Text': {\n",
    "                    'Charset': CHARSET,\n",
    "                    'Data': message\n",
    "                }\n",
    "            },\n",
    "            'Subject': {\n",
    "                'Charset': CHARSET,\n",
    "                'Data': \"Report\"\n",
    "            }\n",
    "        }\n",
    "    )    \n",
    "\n",
    "\n",
    "def lambda_handler(event, context):\n",
    "    ACCESS_KEY = os.environ['ACCESS_KEY']\n",
    "    SECRET_KEY = os.environ['SECRET_KEY']\n",
    "    EMAIL_ADDRESS = os.environ['EMAIL_ADDRESS']\n",
    "    \n",
    "    sdb_client = boto3.client('sdb',\n",
    "                              aws_access_key_id = ACCESS_KEY,\n",
    "                              aws_secret_access_key = SECRET_KEY,\n",
    "                              region_name=\"us-east-1\")\n",
    "                              \n",
    "    ses_client = boto3.client('ses',\n",
    "                              aws_access_key_id = ACCESS_KEY,\n",
    "                              aws_secret_access_key = SECRET_KEY,\n",
    "                              region_name=\"us-east-1\")\n",
    "\n",
    "    update_portfolio(sdb_client)\n",
    "    message = report(sdb_client)\n",
    "    send_report(ses_client, EMAIL_ADDRESS, message)\n",
    "```"
   ]
  },
  {
   "cell_type": "markdown",
   "metadata": {},
   "source": [
    "The *lambda_handler()* function serves as the entry point for the code.  We start by loading data from the environment variables we set previously.  Next, we create the Boto3 clients.  Finally, we execute the functions we created earlier in order.  \n",
    "\n",
    "To test the code, first click \"Save\" then click \"Test\" in the upper right corner of the console. This will prompt us to define a new test event; we can create a new test event with the with no initial data.  After defining the test event, click \"Test\" again.\n",
    "\n",
    "<figure>\n",
    "  <img src=\"./images/08-aws-lambda-4.png\" alt=\"test event\">\t\n",
    "  <figcaption style=\"text-align: center; font-weight: bold\">New Test Event</figcaption>\n",
    "</figure>\n",
    "\n",
    "If everything is configured properly, you should see a success message in the AWS console and receive a report email.\n",
    "\n",
    "Finally, to automate the function, we need to schedule its execution.  In the \"Designer\" select \"CloudWatch Events\". Below report, a \"CloudWatch Events\" item appears and is selected - we can navigate back to the report function to configure its properties if necessary.  \n",
    "\n",
    "<figure>\n",
    "  <img src=\"./images/08-aws-lambda-5.png\" alt=\"cloudwatch\">\t\n",
    "  <figcaption style=\"text-align: center; font-weight: bold\">CloudWatch Events</figcaption>\n",
    "</figure>\n",
    "\n",
    "In the \"Configure triggers' section, we can create a new rule based on a scheduled expression to run the Lambda function as frequently as we'd like; the image below shows the configuration for daily execution. See the [AWS Lambda documentation](https://docs.aws.amazon.com/lambda/latest/dg/tutorial-scheduled-events-schedule-expressions.html) for details regarding valid expressions.\n",
    "\n",
    "<figure>\n",
    "  <img src=\"./images/08-aws-lambda-6.png\" alt=\"cloudwatch triggers\">\t\n",
    "  <figcaption style=\"text-align: center; font-weight: bold\">CloudWatch Event Trigger</figcaption>\n",
    "</figure>"
   ]
  },
  {
   "cell_type": "markdown",
   "metadata": {},
   "source": [
    "## Lab Answers"
   ]
  },
  {
   "cell_type": "markdown",
   "metadata": {},
   "source": [
    "1. Values vary\n",
    "\n",
    "2. ```python\n",
    "   sdb_client.domain_metadata(DomainName='test_domain')\n",
    "   ```\n",
    "   \n",
    "3. ```python\n",
    "   sdb_client.put_attributes(DomainName='test_domain',\n",
    "                             ItemName='employee2',\n",
    "                             Attributes=[\n",
    "                                 {\n",
    "                                     'Name': 'Fullname',\n",
    "                                     'Value': 'Jane Doe'\n",
    "                                 },\n",
    "                                 {\n",
    "                                     'Name': 'Department',\n",
    "                                     'Value': 'IT'\n",
    "                                 }\n",
    "                             ])\n",
    "   ```\n",
    "   \n",
    "4. ```python\n",
    "   sdb_client.select(SelectExpression=\"select * from test_domain where Fullname = 'Bob Smith'\")\n",
    "   ```\n",
    "   \n",
    "5. ```python\n",
    "   sdb_client.delete_attributes(DomainName='test_domain', ItemName=\"employee2\")\n",
    "   ```\n",
    "   \n",
    "6. Values vary\n",
    "   \n",
    "7. Values vary"
   ]
  },
  {
   "cell_type": "markdown",
   "metadata": {},
   "source": [
    "## Next Steps"
   ]
  },
  {
   "cell_type": "markdown",
   "metadata": {},
   "source": [
    "Automation should be a goal for most of the tasks we undertake - even complicated ones.  While we've only looked at automating a simple task of retrieving text data, creating a text report, and emailing the report as plain text, it is possible to automate more complicated analytics tasks, generate a variety of outputs, and to use the outputs to create more than just emails - we could update dashboards, for example.  Continue to explore different data sources and think of what information could be extracted from the data and how that information could be conveyed to interested parties.  Try to automate these processes."
   ]
  },
  {
   "cell_type": "markdown",
   "metadata": {},
   "source": [
    "## Resources"
   ]
  },
  {
   "cell_type": "markdown",
   "metadata": {},
   "source": [
    "- [Automate the Boring Stuff with Python by Al Sweigart](https://automatetheboringstuff.com/)\n",
    "- [Azure for Python Developers](https://docs.microsoft.com/en-us/python/azure/?view=azure-python)\n",
    "- [Boto3 Code Examples](https://boto3.readthedocs.io/en/latest/guide/examples.html)\n",
    "- [Google Cloud Platform: Using the Python Client Library](https://cloud.google.com/compute/docs/tutorials/python-guide)"
   ]
  },
  {
   "cell_type": "markdown",
   "metadata": {},
   "source": [
    "## Exercise"
   ]
  },
  {
   "cell_type": "markdown",
   "metadata": {},
   "source": [
    "Modify the reporting functions to store and report on several days worth of stock data rather than just the latest price data.  Test your code."
   ]
  },
  {
   "cell_type": "code",
   "execution_count": null,
   "metadata": {},
   "outputs": [],
   "source": []
  }
 ],
 "metadata": {
  "kernelspec": {
   "display_name": "Python 3",
   "language": "python",
   "name": "python3"
  },
  "language_info": {
   "codemirror_mode": {
    "name": "ipython",
    "version": 3
   },
   "file_extension": ".py",
   "mimetype": "text/x-python",
   "name": "python",
   "nbconvert_exporter": "python",
   "pygments_lexer": "ipython3",
   "version": "3.6.5"
  }
 },
 "nbformat": 4,
 "nbformat_minor": 2
}
