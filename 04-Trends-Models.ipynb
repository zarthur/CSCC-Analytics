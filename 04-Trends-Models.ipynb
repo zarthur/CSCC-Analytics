{
 "cells": [
  {
   "cell_type": "markdown",
   "metadata": {},
   "source": [
    "# Unit 4: Identifying Trends and Creating Models\n",
    "\n",
    "## Contents\n",
    "\n",
    "* [Getting Started](#Getting-Started)\n",
    "* [Linear Models](#Linear-Models)\n",
    "    * [An Example](#An-Example)\n",
    "    * [Simple Linear Regression](#Simple-Linear-Regression)\n",
    "    * [Multiple Linear Regression](#Multiple-Linear-Regression)\n",
    "    * [Linear-Like Regression](#Linear-Like-Regression)\n",
    "* [Logistic Regression](#Logistic-Regression)\n",
    "    * [An Example](#An-Example)\n",
    "    * [Home Data](#Home-Data)\n",
    "* [Lab Answers](#Lab-Answers)\n",
    "* [Next Steps](#Next-Steps)\n",
    "* [Resources and Further Reading](#Resources-and-Further-Reading)\n",
    "* [Notes](#Notes)\n",
    "* [Exercises](#Exercises)\n",
    "\n",
    "### Lab Questions\n",
    "\n",
    "## Getting Started\n",
    "\n",
    "In previous units, we worked on loading, cleaning, and exploring data.  While working with the data, we noted that certain relationships appeared to exist between columns/variables.  While plots allowed us to make claims like \"x increases as y decreases\",  we didn't try to model that relationship mathematically nor did we try to determine the quality of that model.  \n",
    "\n",
    "In this unit,we'll look at creating models for the relationships in our data; specifically, we'll look at linear models for numerical data and logistic models for categorical data.\n",
    "\n",
    "To create and explore these models, we'll use the [StatsModels](https://www.statsmodels.org/stable/index.html) library. To install it, we'll use `!pip`."
   ]
  },
  {
   "cell_type": "code",
   "execution_count": 1,
   "metadata": {
    "scrolled": true
   },
   "outputs": [
    {
     "name": "stdout",
     "output_type": "stream",
     "text": [
      "Collecting statsmodels\n",
      "  Using cached statsmodels-0.8.0-cp36-cp36m-macosx_10_6_intel.macosx_10_9_intel.macosx_10_9_x86_64.macosx_10_10_intel.macosx_10_10_x86_64.whl\n",
      "Requirement already satisfied: scipy in /Users/arthur/.pyenv/versions/3.6.4/lib/python3.6/site-packages (from statsmodels)\n",
      "Requirement already satisfied: pandas in /Users/arthur/.pyenv/versions/3.6.4/lib/python3.6/site-packages (from statsmodels)\n",
      "Collecting patsy (from statsmodels)\n",
      "  Using cached patsy-0.5.0-py2.py3-none-any.whl\n",
      "Requirement already satisfied: numpy>=1.8.2 in /Users/arthur/.pyenv/versions/3.6.4/lib/python3.6/site-packages (from scipy->statsmodels)\n",
      "Requirement already satisfied: python-dateutil>=2 in /Users/arthur/.pyenv/versions/3.6.4/lib/python3.6/site-packages (from pandas->statsmodels)\n",
      "Requirement already satisfied: pytz>=2011k in /Users/arthur/.pyenv/versions/3.6.4/lib/python3.6/site-packages (from pandas->statsmodels)\n",
      "Requirement already satisfied: six in /Users/arthur/.pyenv/versions/3.6.4/lib/python3.6/site-packages (from patsy->statsmodels)\n",
      "Installing collected packages: patsy, statsmodels\n",
      "Successfully installed patsy-0.5.0 statsmodels-0.8.0\n"
     ]
    }
   ],
   "source": [
    "!pip install statsmodels"
   ]
  },
  {
   "cell_type": "markdown",
   "metadata": {},
   "source": [
    "We'll work with plots in this unit.  To ensure they are displayed in the notebook itself, we'll need to use the `%matplotlib inline` command."
   ]
  },
  {
   "cell_type": "code",
   "execution_count": 2,
   "metadata": {},
   "outputs": [],
   "source": [
    "%matplotlib inline"
   ]
  },
  {
   "cell_type": "markdown",
   "metadata": {},
   "source": [
    "In addition to the Seaborn and pandas libraries, we'll make explicit use of libraries on which they depend.\n",
    "\n",
    "- [matplotlib.pyplot](https://matplotlib.org/api/pyplot_api.html): a collection of plotting functions with [MATLAB](https://www.mathworks.com/products/matlab.html)-like syntax\n",
    "- [numpy](http://www.numpy.org/): scientific computing library\n",
    "\n",
    "We'll import these and StatsModels with names that follow standard convention.\n",
    "\n",
    "We also set the figure size for plots and a marker size for outliers in box plots."
   ]
  },
  {
   "cell_type": "code",
   "execution_count": 4,
   "metadata": {},
   "outputs": [
    {
     "name": "stderr",
     "output_type": "stream",
     "text": [
      "/usr/local/lib/python3.6/site-packages/statsmodels/compat/pandas.py:56: FutureWarning: The pandas.core.datetools module is deprecated and will be removed in a future version. Please use the pandas.tseries module instead.\n",
      "  from pandas.core import datetools\n"
     ]
    }
   ],
   "source": [
    "import matplotlib.pyplot as plt\n",
    "import numpy as np\n",
    "import pandas as pd\n",
    "import seaborn as sns\n",
    "import statsmodels.api as sm\n",
    "\n",
    "sns.set(rc={'figure.figsize':(12,8), \"lines.markeredgewidth\": 0.5 })\n"
   ]
  },
  {
   "cell_type": "markdown",
   "metadata": {},
   "source": [
    "## Linear Models"
   ]
  },
  {
   "cell_type": "markdown",
   "metadata": {},
   "source": [
    "The first type of model we'll look at are linear models also known as linear regressions. In basic terms,  we use a linear model if the data looks like a line could be drawn through it.  More specifically, for two dimensional data, we try to model the relationship between two variables, the independent or input variable, *X*, and the dependent or response variable, *Y*, by an equation of the form \n",
    "\n",
    "$$\n",
    "\\begin{array}{c}\n",
    "Y = \\beta_0 + \\beta_1 X\n",
    "\\end{array}\n",
    "$$\n",
    "\n",
    "where $\\beta_0$ and $\\beta_1$ are *coefficients*. We can generalize this to more than two dimensions. If $X_1, X_2, \\ldots, X_n$ are independent variables, and $Y$ is the dependent variable, we try to model the relationship by an equation in the form\n",
    "\n",
    "$$\n",
    "\\begin{array}{c}\n",
    "Y = \\beta_0 + \\beta_1 X_1 + \\beta_2 X_2 + \\ldots + \\beta_n X_n\n",
    "\\end{array}\n",
    "$$\n",
    "\n",
    "where $\\beta_0, \\beta_1, \\ldots, \\beta_n$ are the coefficients.\n",
    "\n",
    "To find the coefficients of these equations, we'll rely on the [ordinary least squares](https://en.wikipedia.org/wiki/Ordinary_least_squares) method that attempts to minimizing the the sum of squares of the differences between the observed values and the predicted values - we'll explore this further in a bit."
   ]
  },
  {
   "cell_type": "markdown",
   "metadata": {},
   "source": [
    "### An Example"
   ]
  },
  {
   "cell_type": "markdown",
   "metadata": {},
   "source": [
    "Let's look at an example of how we can calculate the coefficients of a linear equation that models some data. We'll start with an example based on the [StatsModels documentation](http://www.statsmodels.org/stable/examples/notebooks/generated/ols.html).\n",
    "\n",
    "First, we generate our \"observed\" data.  To do this, we'll use the Numpy [*linspace()*](https://docs.scipy.org/doc/numpy/reference/generated/numpy.linspace.html) function to generate 100 evenly-spaced values between 0 and 10; these will correspond to values that will be used for the independent variable.  Next, we'll use the [*normal()*](https://docs.scipy.org/doc/numpy/reference/generated/numpy.random.normal.html) function from NumPy's [*random*](https://docs.scipy.org/doc/numpy-1.14.0/reference/routines.random.html) submodule to draw 100 samples from a normal distribution - this will simulate errors in our data."
   ]
  },
  {
   "cell_type": "code",
   "execution_count": 76,
   "metadata": {},
   "outputs": [
    {
     "data": {
      "text/plain": [
       "array([0.        , 0.1010101 , 0.2020202 , 0.3030303 , 0.4040404 ,\n",
       "       0.50505051, 0.60606061, 0.70707071, 0.80808081, 0.90909091])"
      ]
     },
     "metadata": {},
     "output_type": "display_data"
    }
   ],
   "source": [
    "nsample = 100\n",
    "x = np.linspace(0, 10, nsample)\n",
    "e = np.random.normal(size=nsample)\n",
    "\n",
    "display(x[:10])"
   ]
  },
  {
   "cell_type": "markdown",
   "metadata": {},
   "source": [
    "Looking at the first 10 values of `x`, we can see that they are stored in an [array](https://docs.scipy.org/doc/numpy-1.14.0/reference/generated/numpy.array.html).\n",
    "\n",
    "Next, we calculate our \"observed\" values as a combination of the independent variable, a constant, and some error."
   ]
  },
  {
   "cell_type": "code",
   "execution_count": 77,
   "metadata": {},
   "outputs": [],
   "source": [
    "y = 5 * x + 3 + e"
   ]
  },
  {
   "cell_type": "markdown",
   "metadata": {},
   "source": [
    "Let's plot the values of `x` and `y`.  We'll create a scatter plot but use a different approach to do this.  \n",
    "\n",
    "First, we create [figure](https://matplotlib.org/api/_as_gen/matplotlib.figure.Figure.html#matplotlib.figure.Figure) and [axes](https://matplotlib.org/api/axes_api.html#matplotlib.axes.Axes) objects using the pyplot [*subplots()*](https://matplotlib.org/api/_as_gen/matplotlib.pyplot.subplots.html) function; this is useful when we want to plot items from different sources together (as we will do in a bit). We use the axes' [*plot()*](https://matplotlib.org/api/_as_gen/matplotlib.axes.Axes.plot.html#matplotlib.axes.Axes.plot) method to plot the coordinate pairs from `x` and `y`; the third argument indicates that we'd like to use blue plus-sign markers rather than draw lines from the data."
   ]
  },
  {
   "cell_type": "code",
   "execution_count": 78,
   "metadata": {},
   "outputs": [
    {
     "data": {
      "text/plain": [
       "[<matplotlib.lines.Line2D at 0x1164d1748>]"
      ]
     },
     "execution_count": 78,
     "metadata": {},
     "output_type": "execute_result"
    },
    {
     "data": {
      "image/png": "[encoded data removed]",
      "text/plain": [
       "<matplotlib.figure.Figure at 0x1164d16d8>"
      ]
     },
     "metadata": {},
     "output_type": "display_data"
    }
   ],
   "source": [
    "fig, ax = plt.subplots()\n",
    "ax.plot(x, y, 'b+')"
   ]
  },
  {
   "cell_type": "markdown",
   "metadata": {},
   "source": [
    "In the two-dimensional linear regression. we need to calculate the values of two coefficients: a constant and a value that will be multiplied by the value of the independent variable.  As we saw above, we can write the linear model in the form\n",
    "\n",
    "$$\n",
    "\\begin{array}{c}\n",
    "Y = \\beta_0 + \\beta_1 X\n",
    "\\end{array}\n",
    "$$\n",
    "\n",
    "We can write the constant, $\\beta_0$ as $\\beta_0 X^0$  Since any value raised to the zeroth power is one, we can write $\\beta_0$ as $1 \\cdot \\beta_0$.  We can say that the dependent variable is a linear combination of 1 and the independent variable.  For our model, we account for this by using the StatsModels' [*add_constant()*](http://www.statsmodels.org/dev/generated/statsmodels.tools.tools.add_constant.html) function. "
   ]
  },
  {
   "cell_type": "code",
   "execution_count": 79,
   "metadata": {},
   "outputs": [
    {
     "data": {
      "text/plain": [
       "array([[1.        , 0.        ],\n",
       "       [1.        , 0.1010101 ],\n",
       "       [1.        , 0.2020202 ],\n",
       "       [1.        , 0.3030303 ],\n",
       "       [1.        , 0.4040404 ],\n",
       "       [1.        , 0.50505051],\n",
       "       [1.        , 0.60606061],\n",
       "       [1.        , 0.70707071],\n",
       "       [1.        , 0.80808081],\n",
       "       [1.        , 0.90909091]])"
      ]
     },
     "metadata": {},
     "output_type": "display_data"
    }
   ],
   "source": [
    "X = sm.add_constant(x)\n",
    "display(X[:10])"
   ]
  },
  {
   "cell_type": "markdown",
   "metadata": {},
   "source": [
    "Comparing `X` to `x` we now have an array of arrays where the first element in the inner arrays are `1` corresponding to the value of the independent variable for the constant term. \n",
    "\n",
    "To compute the the linear regression, we first set up the ordinary least squares model using the StatsModels' [*OLS*](http://www.statsmodels.org/dev/generated/statsmodels.regression.linear_model.OLS.html) function and by specifying the array of values for the dependent variable and the array of values for the independent variable.  \n",
    "\n",
    "With the model created, we calculate the regression coefficients using the model's [*fit()*](http://www.statsmodels.org/dev/generated/statsmodels.regression.linear_model.OLS.fit.html#statsmodels.regression.linear_model.OLS.fit) method; this method returns a [*RegressionResults*](http://www.statsmodels.org/dev/generated/statsmodels.regression.linear_model.RegressionResults.html) object. To dispaly information about the fit, we display the output of the result's [*summary()*](http://www.statsmodels.org/dev/generated/statsmodels.regression.linear_model.RegressionResults.summary.html#statsmodels.regression.linear_model.RegressionResults.summary) method."
   ]
  },
  {
   "cell_type": "code",
   "execution_count": 80,
   "metadata": {},
   "outputs": [
    {
     "data": {
      "text/html": [
       "<table class=\"simpletable\">\n",
       "<caption>OLS Regression Results</caption>\n",
       "<tr>\n",
       "  <th>Dep. Variable:</th>            <td>y</td>        <th>  R-squared:         </th> <td>   0.995</td> \n",
       "</tr>\n",
       "<tr>\n",
       "  <th>Model:</th>                   <td>OLS</td>       <th>  Adj. R-squared:    </th> <td>   0.995</td> \n",
       "</tr>\n",
       "<tr>\n",
       "  <th>Method:</th>             <td>Least Squares</td>  <th>  F-statistic:       </th> <td>2.062e+04</td>\n",
       "</tr>\n",
       "<tr>\n",
       "  <th>Date:</th>             <td>Tue, 03 Apr 2018</td> <th>  Prob (F-statistic):</th> <td>9.44e-116</td>\n",
       "</tr>\n",
       "<tr>\n",
       "  <th>Time:</th>                 <td>22:00:09</td>     <th>  Log-Likelihood:    </th> <td> -142.52</td> \n",
       "</tr>\n",
       "<tr>\n",
       "  <th>No. Observations:</th>      <td>   100</td>      <th>  AIC:               </th> <td>   289.0</td> \n",
       "</tr>\n",
       "<tr>\n",
       "  <th>Df Residuals:</th>          <td>    98</td>      <th>  BIC:               </th> <td>   294.2</td> \n",
       "</tr>\n",
       "<tr>\n",
       "  <th>Df Model:</th>              <td>     1</td>      <th>                     </th>     <td> </td>    \n",
       "</tr>\n",
       "<tr>\n",
       "  <th>Covariance Type:</th>      <td>nonrobust</td>    <th>                     </th>     <td> </td>    \n",
       "</tr>\n",
       "</table>\n",
       "<table class=\"simpletable\">\n",
       "<tr>\n",
       "    <td></td>       <th>coef</th>     <th>std err</th>      <th>t</th>      <th>P>|t|</th>  <th>[0.025</th>    <th>0.975]</th>  \n",
       "</tr>\n",
       "<tr>\n",
       "  <th>const</th> <td>    2.8148</td> <td>    0.202</td> <td>   13.950</td> <td> 0.000</td> <td>    2.414</td> <td>    3.215</td>\n",
       "</tr>\n",
       "<tr>\n",
       "  <th>x1</th>    <td>    5.0060</td> <td>    0.035</td> <td>  143.598</td> <td> 0.000</td> <td>    4.937</td> <td>    5.075</td>\n",
       "</tr>\n",
       "</table>\n",
       "<table class=\"simpletable\">\n",
       "<tr>\n",
       "  <th>Omnibus:</th>       <td> 0.430</td> <th>  Durbin-Watson:     </th> <td>   1.950</td>\n",
       "</tr>\n",
       "<tr>\n",
       "  <th>Prob(Omnibus):</th> <td> 0.807</td> <th>  Jarque-Bera (JB):  </th> <td>   0.231</td>\n",
       "</tr>\n",
       "<tr>\n",
       "  <th>Skew:</th>          <td>-0.115</td> <th>  Prob(JB):          </th> <td>   0.891</td>\n",
       "</tr>\n",
       "<tr>\n",
       "  <th>Kurtosis:</th>      <td> 3.047</td> <th>  Cond. No.          </th> <td>    11.7</td>\n",
       "</tr>\n",
       "</table>"
      ],
      "text/plain": [
       "<class 'statsmodels.iolib.summary.Summary'>\n",
       "\"\"\"\n",
       "                            OLS Regression Results                            \n",
       "==============================================================================\n",
       "Dep. Variable:                      y   R-squared:                       0.995\n",
       "Model:                            OLS   Adj. R-squared:                  0.995\n",
       "Method:                 Least Squares   F-statistic:                 2.062e+04\n",
       "Date:                Tue, 03 Apr 2018   Prob (F-statistic):          9.44e-116\n",
       "Time:                        22:00:09   Log-Likelihood:                -142.52\n",
       "No. Observations:                 100   AIC:                             289.0\n",
       "Df Residuals:                      98   BIC:                             294.2\n",
       "Df Model:                           1                                         \n",
       "Covariance Type:            nonrobust                                         \n",
       "==============================================================================\n",
       "                 coef    std err          t      P>|t|      [0.025      0.975]\n",
       "------------------------------------------------------------------------------\n",
       "const          2.8148      0.202     13.950      0.000       2.414       3.215\n",
       "x1             5.0060      0.035    143.598      0.000       4.937       5.075\n",
       "==============================================================================\n",
       "Omnibus:                        0.430   Durbin-Watson:                   1.950\n",
       "Prob(Omnibus):                  0.807   Jarque-Bera (JB):                0.231\n",
       "Skew:                          -0.115   Prob(JB):                        0.891\n",
       "Kurtosis:                       3.047   Cond. No.                         11.7\n",
       "==============================================================================\n",
       "\n",
       "Warnings:\n",
       "[1] Standard Errors assume that the covariance matrix of the errors is correctly specified.\n",
       "\"\"\""
      ]
     },
     "metadata": {},
     "output_type": "display_data"
    }
   ],
   "source": [
    "model = sm.OLS(y, X)\n",
    "results = model.fit()\n",
    "display(results.summary())"
   ]
  },
  {
   "cell_type": "markdown",
   "metadata": {},
   "source": [
    "From the results, the coefficients, their p-values, and the value of `R-squared` are particularly of interest.  We can access these directly from `results` using the *params*, *pvalues*, and *rsquared* properties as well."
   ]
  },
  {
   "cell_type": "code",
   "execution_count": 81,
   "metadata": {},
   "outputs": [
    {
     "name": "stdout",
     "output_type": "stream",
     "text": [
      "Parameters:  [2.81476968 5.00603465]\n",
      "P-values: [5.18484549e-025 9.43755992e-116]\n",
      "R^2:  0.995269903144755\n"
     ]
    }
   ],
   "source": [
    "print('Parameters: ', results.params)\n",
    "print(\"P-values:\", results.pvalues)\n",
    "print('R^2: ', results.rsquared)"
   ]
  },
  {
   "cell_type": "markdown",
   "metadata": {},
   "source": [
    "The coefficients appear in the same order in which the independent variables appear in `X`.\n",
    "\n",
    "Note that this is \"close\" to the equation we used to generate the data - the discrepancy is due to the error we introduced.  \n",
    "\n",
    "Let's plot the regression line along with our data.  We can repeat the same steps as before to create the scatter plot.  We make an additional call to *plot()* and specify the y-values as the output from the results *predict()* method which returns the predicted values of the dependent variable based on the regression results.  Specifying `'r'` for the third argument to plot indicates that we would like the line to be red.  "
   ]
  },
  {
   "cell_type": "code",
   "execution_count": 82,
   "metadata": {},
   "outputs": [
    {
     "data": {
      "text/plain": [
       "[<matplotlib.lines.Line2D at 0x1163f6ef0>]"
      ]
     },
     "execution_count": 82,
     "metadata": {},
     "output_type": "execute_result"
    },
    {
     "data": {
      "image/png": "[encoded data removed]",
      "text/plain": [
       "<matplotlib.figure.Figure at 0x11696ec18>"
      ]
     },
     "metadata": {},
     "output_type": "display_data"
    }
   ],
   "source": [
    "fig, ax = plt.subplots(figsize=(12,10))\n",
    "ax.plot(x, y, 'b+')\n",
    "ax.plot(x, results.predict(), 'r')"
   ]
  },
  {
   "cell_type": "markdown",
   "metadata": {},
   "source": [
    "The [p-value](https://en.wikipedia.org/wiki/P-value) associated with each coefficient indicates how likely changes to the corresponding independent variable account for changes in the dependent variable.  A p-value close to zero (typically, less than 0.05) indicates that the independent variable provides a meaningful addition to the model. <sup><a href=\"#note-1\">1</a></sup>\n",
    "\n",
    "The `R-squared` value is also known as the [coefficient of determination](https://en.wikipedia.org/wiki/Coefficient_of_determination) and provides a measure of how well the regression line fits the data.  The coefficient of determination can range from 0 to 1 with 0 indicating (in some regressions, the value can be negative) and indicates how much of the variation in dependent variable can be explained by the model - a value of 1 indicates that all variation is explained by the model and 0 indicates that the model accounts for none of the variation. In this example, some of the variation is due to the error we introduced - changing the magnitude of the error or the parameters of the distribution from which values were drawn will result in a better or worse coefficient of determination."
   ]
  },
  {
   "cell_type": "markdown",
   "metadata": {},
   "source": [
    "### Simple Linear Regression"
   ]
  },
  {
   "cell_type": "markdown",
   "metadata": {},
   "source": [
    "Let's look at an example based on real data.  To begin, we'll load the fuel economy data we processed previously."
   ]
  },
  {
   "cell_type": "code",
   "execution_count": 234,
   "metadata": {},
   "outputs": [],
   "source": [
    "epa_data = pd.read_csv(\"./data/02-vehicles.csv\", engine=\"python\")"
   ]
  },
  {
   "cell_type": "markdown",
   "metadata": {},
   "source": [
    "Recall that a description of the data is available in `./data/02-vehicles-description.html`."
   ]
  },
  {
   "cell_type": "code",
   "execution_count": 235,
   "metadata": {},
   "outputs": [
    {
     "data": {
      "text/html": [
       "<!DOCTYPE html>\n",
       "<html lang=\"en\">\n",
       "<head>\n",
       "    <title>Fuel Economy Web Services</title>\n",
       "</head>\n",
       "\n",
       "<body>\n",
       "\n",
       "\t\t\t\t<h2>Data Description</h2>\n",
       "\t\t\t\t<p>\n",
       "\t\t\t\t\tFrom <a href=\"https://www.fueleconomy.gov/feg/ws/index.shtml\" target=\"_blank\">fueleconomy.gov</a>.\n",
       "\t\t\t\t</p>\n",
       "\t\t\t\t<ul>\n",
       "\t\t\t\t\t<li>\n",
       "\t\t\t\t\t\tatvtype - type of alternative fuel or advanced technology vehicle\n",
       "\t\t\t\t\t\t\t\t<ul>\n",
       "\t\t\t\t\t\t\t\t\t<li>Bifuel (CNG) - Bi-fuel gasoline and compressed natural gas vehicle</li>  \n",
       "\t\t\t\t\t\t\t\t\t<li>Bifuel (LPG) - Bi-fuel gasoline and propane vehicle</li>\n",
       "\t\t\t\t\t\t\t\t\t<li>CNG - Compressed natural gas vehicle</li>\n",
       "\t\t\t\t\t\t\t\t\t<li>Diesel - Diesel vehicle</li>\n",
       "\t\t\t\t\t\t\t\t\t<li>EV - Electric vehicle</li>\n",
       "\t\t\t\t\t\t\t\t\t<li>FFV - Flexible fueled vehicle (gasoline or E85)</li>\n",
       "\t\t\t\t\t\t\t\t\t<li>Hybrid - Hybrid vehicle</li>\n",
       "\t\t\t\t\t\t\t\t\t<li>Plug-in Hybrid  - Plug-in hybrid vehicle</li> \n",
       "\t\t\t\t\t\t\t\t</ul>\n",
       "\t\t\t\t\t</li>\n",
       "\t\t\t\t\t<li>barrels08 - annual petroleum consumption in barrels for fuelType1</li> \n",
       "\t\t\t\t\t<li>barrelsA08 - annual petroleum consumption in barrels for fuelType2</li>\n",
       "\t\t\t\t\t<li>charge120 - time to charge an electric vehicle in hours at 120 V</li>\n",
       "\t\t\t\t\t<li>charge240 - time to charge an electric vehicle in hours at 240 V</li>\n",
       "\t\t\t\t\t<li>city08 - city MPG for fuelType1</li>\n",
       "\t\t\t\t\t<li>city08U - unrounded city MPG for fuelType1</li>\n",
       "\t\t\t\t\t<li>cityA08 - city MPG for fuelType2</li>\n",
       "\t\t\t\t\t<li>cityA08U - unrounded city MPG for fuelType2 </li>\n",
       "\t\t\t\t\t<li>cityCD - city gasoline consumption (gallons/100 miles) in charge depleting mode </li>\n",
       "\t\t\t\t\t<li>cityE - city electricity consumption in kw-hrs/100 miles</li>  \n",
       "\t\t\t\t\t<li>cityUF - EPA city utility factor (share of electricity) for PHEV</li>\n",
       "\t\t\t\t\t<li>co2 - tailpipe CO2 in grams/mile for fuelType1 </li>\n",
       "\t\t\t\t\t<li>co2A - tailpipe CO2 in grams/mile for fuelType2</a  > </li>\n",
       "\t\t\t\t\t<li>co2TailpipeAGpm - tailpipe CO2 in grams/mile for fuelType2 </li>\n",
       "\t\t\t\t\t<li>co2TailpipeGpm- tailpipe CO2 in grams/mile for fuelType1   </li>\n",
       "\t\t\t\t\t<li>comb08 - combined MPG for fuelType1 </li>\n",
       "\t\t\t\t\t<li>comb08U - unrounded combined MPG for fuelType1 </li>\n",
       "\t\t\t\t\t<li>combA08 - combined MPG for fuelType2 </li>\n",
       "\t\t\t\t\t<li>combA08U - unrounded combined MPG for fuelType2 </li>\n",
       "\t\t\t\t\t<li>combE - combined electricity consumption in kw-hrs/100 miles</li>\n",
       "\t\t\t\t\t<li>combinedCD - combined gasoline consumption (gallons/100 miles) in charge depleting mode </li>\n",
       "\t\t\t\t\t<li>combinedUF - EPA combined utility factor (share of electricity) for PHEV</li>\n",
       "\t\t\t\t\t<li>cylinders - engine cylinders</li>\n",
       "\t\t\t\t\t<li>displ - engine displacement in liters</li>\n",
       "\t\t\t\t\t<li> drive - drive axle type\n",
       "\t\t\t\t\t\t\t\t<ul>\n",
       "\t\t\t\t\t\t\t\t\t<li>2-Wheel Drive</li>\n",
       "\t\t\t\t\t\t\t\t\t<li>4-Wheel Drive*</li> \n",
       "\t\t\t\t\t\t\t\t\t<li>4-Wheel or All-Wheel Drive*</li>\n",
       "\t\t\t\t\t\t\t\t\t<li>All-Wheel Drive*</li>\n",
       "\t\t\t\t\t\t\t\t\t<li>Front-Wheel Drive</li>\n",
       "\t\t\t\t\t\t\t\t\t<li>Part-time 4-Wheel Drive*</li>\n",
       "\t\t\t\t\t\t\t\t\t<li>Rear-Wheel Drive</li>\n",
       "\t\t\t\t\t\t\t\t</ul>\n",
       "\t\t\t\t\t\t\t\t<p style=\"margin-top: .5em\">*Prior to Model Year 2010, EPA did not differentiate between All Wheel Drive and Four Wheel Drive</p> \n",
       "\t\t\t\t\t</li>\n",
       "\t\t\t\t\t<li>emissionsList</li>\n",
       "\t\t\t\t\t<li>engId - EPA model type index</li> \n",
       "\t\t\t\t\t<li>eng_dscr - engine descriptor; see http://www.fueleconomy.gov/feg/findacarhelp.shtml#engine</li>\n",
       "\t\t\t\t\t<li>evMotor - electric motor (kw-hrs)</li>\n",
       "\t\t\t\t\t<li>feScore - EPA Fuel Economy Score (-1 = Not available)</li>\n",
       "\t\t\t\t\t<li>fuelCost08 - annual fuel cost for fuelType1 ($) </li>\n",
       "\t\t\t\t\t<li>fuelCostA08 - annual fuel cost for fuelType2 ($) </li>\n",
       "\t\t\t\t\t<li>fuelType - fuel type with fuelType1 and fuelType2 (if applicable)</li>\n",
       "\t\t\t\t\t<li>fuelType1 - fuel type 1.  For single fuel vehicles, this will be the only fuel.  For dual fuel vehicles, this will be the conventional fuel.</li>\n",
       "\t\t\t\t\t<li>fuelType2 - fuel type 2. For dual fuel vehicles, this will be the alternative fuel (e.g. E85, Electricity, CNG, LPG).  For single fuel vehicles, this field is not used</li>\n",
       "\t\t\t\t\t<li>ghgScore - EPA GHG score (-1 = Not available)</li>\n",
       "\t\t\t\t\t<li>ghgScoreA - EPA GHG score for dual fuel vehicle running on the alternative fuel (-1 = Not available)</li>\n",
       "\t\t\t\t\t<li>guzzler- if G or T, this vehicle is subject to the gas guzzler tax</li>\n",
       "\t\t\t\t\t<li>highway08 - highway MPG for fuelType1 </li>\n",
       "\t\t\t\t\t<li>highway08U - unrounded highway MPG for fuelType1 </li>\n",
       "\t\t\t\t\t<li>highwayA08 - highway MPG for fuelType2 </li>\n",
       "\t\t\t\t\t<li>highwayA08U - unrounded highway MPG for fuelType2 </li>\n",
       "\t\t\t\t\t<li>highwayCD - highway gasoline consumption (gallons/100miles) in charge depleting mode </li>\n",
       "\t\t\t\t\t<li>highwayE - highway electricity consumption in kw-hrs/100 miles</li>\n",
       "\t\t\t\t\t<li>highwayUF - EPA highway utility factor (share of electricity) for PHEV</li>\n",
       "\t\t\t\t\t<li>hlv - hatchback luggage volume (cubic feet) </li>\n",
       "\t\t\t\t\t<li>hpv - hatchback passenger volume (cubic feet) </li>\n",
       "\t\t\t\t\t<li>id - vehicle record id</li>\n",
       "\t\t\t\t\t<li>lv2 - 2 door luggage volume (cubic feet) </li>\n",
       "\t\t\t\t\t<li>lv4 - 4 door luggage volume (cubic feet) </li>\n",
       "\t\t\t\t\t<li>make - manufacturer (division)</li>\n",
       "\t\t\t\t\t<li>mfrCode - 3-character manufacturer code</li>\n",
       "\t\t\t\t\t<li>model - model name (carline)</li>\n",
       "\t\t\t\t\t<li>mpgData - has My MPG data; see yourMpgVehicle and yourMpgDriverVehicle</li>\n",
       "\t\t\t\t\t<li>phevBlended - if true, this vehicle operates on a blend of gasoline and electricity in charge depleting mode</li>\n",
       "\t\t\t\t\t<li>pv2 - 2-door passenger volume (cubic feet) </li>\n",
       "\t\t\t\t\t<li>pv4 - 4-door passenger volume (cubic feet) </li>\n",
       "\t\t\t\t\t<li>rangeA - EPA range for fuelType2</li> \n",
       "\t\t\t\t\t<li>rangeCityA - EPA city range for fuelType2</li> \n",
       "\t\t\t\t\t<li>rangeHwyA - EPA highway range for fuelType2</li>\n",
       "\t\t\t\t\t<li>trans_dscr - transmission descriptor; see http://www.fueleconomy.gov/feg/findacarhelp.shtml#trany</li>\n",
       "\t\t\t\t\t<li>trany - transmission</li>\n",
       "\t\t\t\t\t<li>UCity - unadjusted city MPG for fuelType1</li>\n",
       "\t\t\t\t\t<li>UCityA - unadjusted city MPG for fuelType2</li>\n",
       "\t\t\t\t\t<li>UHighway - unadjusted highway MPG for fuelType1</li>\n",
       "\t\t\t\t\t<li>UHighwayA - unadjusted highway MPG for fuelType2</li>\n",
       "\t\t\t\t\t<li>\n",
       "\t\t\t\t\t\t\tVClass - EPA vehicle size class\n",
       "\t\t\t\t\t\t\t\t<ul>\n",
       "\t\t\t\t\t\t\t\t\t<li>Two-Seaters - Any (cars designed to seat only two adults)</li>   \n",
       "\t\t\t\t\t\t\t\t\t<li>Minicompact Cars - Less than 85 cu ft.</li>\t\n",
       "\t\t\t\t\t\t\t\t\t<li>Subcompact Cars - 85 to 99 cu ft.</li>\n",
       "\t\t\t\t\t\t\t\t\t<li>Compact Cars - 100 to 109 cu ft.</li>\n",
       "\t\t\t\t\t\t\t\t\t<li>Mid-Size Cars - 110 to 119 cu ft.</li>\n",
       "\t\t\t\t\t\t\t\t\t<li>Large Cars - 120 or more cu ft. </li>\n",
       "\t\t\t\t\t\t\t\t\t<li>Small Station Wagons-  Less than 130 cu ft.</li>\n",
       "\t\t\t\t\t\t\t\t\t<li>Mid-Size Cars Station Wagons- 130 to 159 cu ft.</li>\n",
       "\t\t\t\t\t\t\t\t\t<li>Large Cars Station Wagons- 160 or more cu ft. </li>\n",
       "\t\t\t\t\t\t\t\t\t<li>Small Pickup Trucks - Less than 4,500 lbs GVWR through Model Year 2007 </li>\n",
       "\t\t\t\t\t\t\t\t\t<li>Small Pickup Trucks - Less than 6,000 lbs GVWR after Model Year 2008 </li>\n",
       "\t\t\t\t\t\t\t\t\t<li>Standard Pickup Trucks - 4,500 to 8,500 lbs GVWR through Model Year 2007 </li>\n",
       "\t\t\t\t\t\t\t\t\t<li>Standard Pickup Trucks - 6,000 to 8,500 lbs GVWR after Model Year 2008 </li>\n",
       "\t\t\t\t\t\t\t\t\t<li>Passenger Vans - Less than 8,500 lbs GVWR through Model Year 2010</li>\n",
       "\t\t\t\t\t\t\t\t\t<li>Passenger Vans - Less than 10,000 lbs GVWR beginning Model Year 2011</li>\n",
       "\t\t\t\t\t\t\t\t\t<li>Cargo Vans - Less than 8,500 lbs GVWR</li>\n",
       "\t\t\t\t\t\t\t\t\t<li>Minivans - Less than 8,500 lbs GVWR</li> \n",
       "\t\t\t\t\t\t\t\t\t<li>Sport Utility Vehicles (SUVs) - Less than 8,500 lbs GVWR through Model Year 2010</li>\n",
       "\t\t\t\t\t\t\t\t\t<li>Sport Utility Vehicles (SUVs) - Less than 10,000 lbs GVWR beginning Model Year 2011</li>\n",
       "\t\t\t\t\t\t\t\t\t<li>Small Sport Utility Vehicles (SUVs) - Less than 6,000 lbs GVWR beginning Model Year 2013</li>\n",
       "\t\t\t\t\t\t\t\t\t<li>Standard Sport Utility Vehicles (SUVs) - 6,000 to 10,000 lbs GVWR beginning Model Year 2013</li>\n",
       "\t\t\t\t\t\t\t\t\t<li>Special Purpose Vehicles - Less than 8,500 lbs GVWR through Model Year 2010</li>\n",
       "\t\t\t\t\t\t\t\t\t<li>Special Purpose Vehicles - Less than 10,000 lbs GVWR beginning Model Year 2011</li>\n",
       "\t\t\t\t\t\t\t\t\t<li>*Gross Vehicle Weight Rating (GVWR) is calculated as truck weight plus carrying capacity.</li>\n",
       "\t\t\t\t\t\t\t\t</ul>\n",
       "\n",
       "\t\t\t\t\t\t\t</li>\n",
       "\t\t\t\t\t<li>year - model year</li>\n",
       "\t\t\t\t\t<li>youSaveSpend - you save/spend over 5 years compared to an average car ($). Savings are positive; a greater amount spent yields a negative number. For dual fuel vehicles, this is the cost savings for gasoline</li>\n",
       "\t\t\t\t\t<li>sCharger - if S, this vehicle is supercharged</li> \n",
       "\t\t\t\t\t<li>tCharger - if T, this vehicle is turbocharged</li>\n",
       "\t\t\t\t\t<li>c240Dscr - electric vehicle charger description</li>\n",
       "\t\t\t\t\t<li>charge240b - time to charge an electric vehicle in hours at 240 V using the alternate charger</li>\n",
       "\t\t\t\t\t<li>c240bDscr  - electric vehicle alternate charger description</li>\n",
       "\t\t\t\t\t<li>createdOn - date the vehicle record was created (ISO 8601 format)</li>\n",
       "\t\t\t\t\t<li>modifiedOn - date the vehicle record was last modified (ISO 8601 format)</li>\n",
       "\t\t\t\t\t<li>startStop - vehicle has start-stop technology (Y, N, or blank for older vehicles)</li>\n",
       "\t\t\t\t\t<li>phevCity - EPA composite gasoline-electricity city MPGe for plug-in hybrid vehicles</li>\n",
       "\t\t\t\t\t<li>phevHwy - EPA composite gasoline-electricity highway MPGe for plug-in hybrid vehicles</li>\n",
       "\t\t\t\t\t<li>phevComb - EPA composite gasoline-electricity combined city-highway MPGe for plug-in hybrid vehicles</li>\n",
       "\t\t\t\t</ul>\n",
       "</body>\n",
       "</html>"
      ],
      "text/plain": [
       "<IPython.core.display.HTML object>"
      ]
     },
     "execution_count": 235,
     "metadata": {},
     "output_type": "execute_result"
    }
   ],
   "source": [
    "from IPython.display import HTML\n",
    "HTML(filename=\"./data/02-vehicles-description.html\")"
   ]
  },
  {
   "cell_type": "markdown",
   "metadata": {},
   "source": [
    "For this unit, we'll work the the following columns.\n",
    "\n",
    "- `co2`\n",
    "- `comb08`\n",
    "- `cylinders`\n",
    "- `displ`\n",
    "- `highway08`\n",
    "- `city08`\n",
    "\n",
    "We can also remove rows with missing or non-positive values.  Because the DataFrame consists of only numeric data, we can use a sort of shortcut for removing rows with non-positive values.  We create a mask applied to the entire DataFrame rather than a specific column - this applies it to all columns.  We then use *all()* with an argument of 1 to indicate that the property applies across all columns.  Effectively this mask will match any row in which all the values are positive."
   ]
  },
  {
   "cell_type": "code",
   "execution_count": 244,
   "metadata": {},
   "outputs": [
    {
     "data": {
      "text/html": [
       "<div>\n",
       "<style scoped>\n",
       "    .dataframe tbody tr th:only-of-type {\n",
       "        vertical-align: middle;\n",
       "    }\n",
       "\n",
       "    .dataframe tbody tr th {\n",
       "        vertical-align: top;\n",
       "    }\n",
       "\n",
       "    .dataframe thead th {\n",
       "        text-align: right;\n",
       "    }\n",
       "</style>\n",
       "<table border=\"1\" class=\"dataframe\">\n",
       "  <thead>\n",
       "    <tr style=\"text-align: right;\">\n",
       "      <th></th>\n",
       "      <th>co2</th>\n",
       "      <th>comb08</th>\n",
       "      <th>cylinders</th>\n",
       "      <th>displ</th>\n",
       "      <th>highway08</th>\n",
       "      <th>city08</th>\n",
       "    </tr>\n",
       "  </thead>\n",
       "  <tbody>\n",
       "    <tr>\n",
       "      <th>16780</th>\n",
       "      <td>318</td>\n",
       "      <td>32</td>\n",
       "      <td>4.0</td>\n",
       "      <td>2.0</td>\n",
       "      <td>37</td>\n",
       "      <td>29</td>\n",
       "    </tr>\n",
       "    <tr>\n",
       "      <th>16781</th>\n",
       "      <td>315</td>\n",
       "      <td>32</td>\n",
       "      <td>4.0</td>\n",
       "      <td>2.0</td>\n",
       "      <td>39</td>\n",
       "      <td>29</td>\n",
       "    </tr>\n",
       "    <tr>\n",
       "      <th>16839</th>\n",
       "      <td>318</td>\n",
       "      <td>32</td>\n",
       "      <td>4.0</td>\n",
       "      <td>2.0</td>\n",
       "      <td>37</td>\n",
       "      <td>29</td>\n",
       "    </tr>\n",
       "    <tr>\n",
       "      <th>16840</th>\n",
       "      <td>315</td>\n",
       "      <td>32</td>\n",
       "      <td>4.0</td>\n",
       "      <td>2.0</td>\n",
       "      <td>39</td>\n",
       "      <td>29</td>\n",
       "    </tr>\n",
       "    <tr>\n",
       "      <th>21337</th>\n",
       "      <td>315</td>\n",
       "      <td>32</td>\n",
       "      <td>4.0</td>\n",
       "      <td>2.0</td>\n",
       "      <td>39</td>\n",
       "      <td>29</td>\n",
       "    </tr>\n",
       "  </tbody>\n",
       "</table>\n",
       "</div>"
      ],
      "text/plain": [
       "       co2  comb08  cylinders  displ  highway08  city08\n",
       "16780  318      32        4.0    2.0         37      29\n",
       "16781  315      32        4.0    2.0         39      29\n",
       "16839  318      32        4.0    2.0         37      29\n",
       "16840  315      32        4.0    2.0         39      29\n",
       "21337  315      32        4.0    2.0         39      29"
      ]
     },
     "execution_count": 244,
     "metadata": {},
     "output_type": "execute_result"
    }
   ],
   "source": [
    "epa_subset = epa_data[['co2', 'comb08', 'cylinders', 'displ', 'highway08', 'city08']].copy()\n",
    "epa_subset = epa_subset[(epa_subset > 0).all(1)].copy()\n",
    "epa_subset.head()"
   ]
  },
  {
   "cell_type": "markdown",
   "metadata": {},
   "source": [
    "To start, let's look at a pair plot for the `co2`, `comb08`, `cylinders`, and `displ` columns in `epa_subset`. \n",
    "\n",
    "<hr>\n",
    "<a name=\"Lab-1\"></a><mark> **Lab 1** In the cell below, create a pair plot for the `co2`, `comb08`, `cylinders`, and `displ` columns in `epa_subset`.\n",
    "</mark>"
   ]
  },
  {
   "cell_type": "code",
   "execution_count": 245,
   "metadata": {},
   "outputs": [
    {
     "data": {
      "text/plain": [
       "<seaborn.axisgrid.PairGrid at 0x1173c9b70>"
      ]
     },
     "execution_count": 245,
     "metadata": {},
     "output_type": "execute_result"
    },
    {
     "data": {
      "image/png": "[encoded data removed]",
      "text/plain": [
       "<matplotlib.figure.Figure at 0x11a49b5f8>"
      ]
     },
     "metadata": {},
     "output_type": "display_data"
    }
   ],
   "source": [
    "sns.pairplot(data=epa_subset[['co2', 'comb08', 'cylinders', 'displ']])"
   ]
  },
  {
   "cell_type": "markdown",
   "metadata": {},
   "source": [
    "<hr>\n",
    "\n",
    "Let's look more closely at the relationship between `Cylinders` and `Displacement`.\n",
    "\n",
    "<hr>\n",
    "<a name=\"Lab-2\"></a><mark> **Lab 2** In the cell below, create scatter plot for the `cylinders` and `displacement` columns in `epa_subset`.\n",
    "</mark>"
   ]
  },
  {
   "cell_type": "code",
   "execution_count": 246,
   "metadata": {},
   "outputs": [
    {
     "data": {
      "text/plain": [
       "<matplotlib.axes._subplots.AxesSubplot at 0x12e72b160>"
      ]
     },
     "execution_count": 246,
     "metadata": {},
     "output_type": "execute_result"
    },
    {
     "data": {
      "image/png": "[encoded data removed]",
      "text/plain": [
       "<matplotlib.figure.Figure at 0x11a55f8d0>"
      ]
     },
     "metadata": {},
     "output_type": "display_data"
    }
   ],
   "source": [
    "epa_subset.plot.scatter(x='cylinders', y='displ')"
   ]
  },
  {
   "cell_type": "markdown",
   "metadata": {},
   "source": [
    "<hr>\n",
    "\n",
    "Next, lets create the least squares model and fit a line to the data.\n",
    "\n",
    "\n"
   ]
  },
  {
   "cell_type": "code",
   "execution_count": 268,
   "metadata": {},
   "outputs": [
    {
     "data": {
      "text/html": [
       "<table class=\"simpletable\">\n",
       "<caption>OLS Regression Results</caption>\n",
       "<tr>\n",
       "  <th>Dep. Variable:</th>          <td>displ</td>      <th>  R-squared:         </th> <td>   0.859</td> \n",
       "</tr>\n",
       "<tr>\n",
       "  <th>Model:</th>                   <td>OLS</td>       <th>  Adj. R-squared:    </th> <td>   0.859</td> \n",
       "</tr>\n",
       "<tr>\n",
       "  <th>Method:</th>             <td>Least Squares</td>  <th>  F-statistic:       </th> <td>4.527e+04</td>\n",
       "</tr>\n",
       "<tr>\n",
       "  <th>Date:</th>             <td>Wed, 04 Apr 2018</td> <th>  Prob (F-statistic):</th>  <td>  0.00</td>  \n",
       "</tr>\n",
       "<tr>\n",
       "  <th>Time:</th>                 <td>16:01:22</td>     <th>  Log-Likelihood:    </th> <td> -5593.4</td> \n",
       "</tr>\n",
       "<tr>\n",
       "  <th>No. Observations:</th>      <td>  7402</td>      <th>  AIC:               </th> <td>1.119e+04</td>\n",
       "</tr>\n",
       "<tr>\n",
       "  <th>Df Residuals:</th>          <td>  7400</td>      <th>  BIC:               </th> <td>1.120e+04</td>\n",
       "</tr>\n",
       "<tr>\n",
       "  <th>Df Model:</th>              <td>     1</td>      <th>                     </th>     <td> </td>    \n",
       "</tr>\n",
       "<tr>\n",
       "  <th>Covariance Type:</th>      <td>nonrobust</td>    <th>                     </th>     <td> </td>    \n",
       "</tr>\n",
       "</table>\n",
       "<table class=\"simpletable\">\n",
       "<tr>\n",
       "      <td></td>         <th>coef</th>     <th>std err</th>      <th>t</th>      <th>P>|t|</th>  <th>[0.025</th>    <th>0.975]</th>  \n",
       "</tr>\n",
       "<tr>\n",
       "  <th>const</th>     <td>   -0.6751</td> <td>    0.019</td> <td>  -35.240</td> <td> 0.000</td> <td>   -0.713</td> <td>   -0.638</td>\n",
       "</tr>\n",
       "<tr>\n",
       "  <th>cylinders</th> <td>    0.6834</td> <td>    0.003</td> <td>  212.759</td> <td> 0.000</td> <td>    0.677</td> <td>    0.690</td>\n",
       "</tr>\n",
       "</table>\n",
       "<table class=\"simpletable\">\n",
       "<tr>\n",
       "  <th>Omnibus:</th>       <td>488.472</td> <th>  Durbin-Watson:     </th> <td>   0.995</td> \n",
       "</tr>\n",
       "<tr>\n",
       "  <th>Prob(Omnibus):</th> <td> 0.000</td>  <th>  Jarque-Bera (JB):  </th> <td>1327.138</td> \n",
       "</tr>\n",
       "<tr>\n",
       "  <th>Skew:</th>          <td> 0.364</td>  <th>  Prob(JB):          </th> <td>6.54e-289</td>\n",
       "</tr>\n",
       "<tr>\n",
       "  <th>Kurtosis:</th>      <td> 4.942</td>  <th>  Cond. No.          </th> <td>    19.6</td> \n",
       "</tr>\n",
       "</table>"
      ],
      "text/plain": [
       "<class 'statsmodels.iolib.summary.Summary'>\n",
       "\"\"\"\n",
       "                            OLS Regression Results                            \n",
       "==============================================================================\n",
       "Dep. Variable:                  displ   R-squared:                       0.859\n",
       "Model:                            OLS   Adj. R-squared:                  0.859\n",
       "Method:                 Least Squares   F-statistic:                 4.527e+04\n",
       "Date:                Wed, 04 Apr 2018   Prob (F-statistic):               0.00\n",
       "Time:                        16:01:22   Log-Likelihood:                -5593.4\n",
       "No. Observations:                7402   AIC:                         1.119e+04\n",
       "Df Residuals:                    7400   BIC:                         1.120e+04\n",
       "Df Model:                           1                                         \n",
       "Covariance Type:            nonrobust                                         \n",
       "==============================================================================\n",
       "                 coef    std err          t      P>|t|      [0.025      0.975]\n",
       "------------------------------------------------------------------------------\n",
       "const         -0.6751      0.019    -35.240      0.000      -0.713      -0.638\n",
       "cylinders      0.6834      0.003    212.759      0.000       0.677       0.690\n",
       "==============================================================================\n",
       "Omnibus:                      488.472   Durbin-Watson:                   0.995\n",
       "Prob(Omnibus):                  0.000   Jarque-Bera (JB):             1327.138\n",
       "Skew:                           0.364   Prob(JB):                    6.54e-289\n",
       "Kurtosis:                       4.942   Cond. No.                         19.6\n",
       "==============================================================================\n",
       "\n",
       "Warnings:\n",
       "[1] Standard Errors assume that the covariance matrix of the errors is correctly specified.\n",
       "\"\"\""
      ]
     },
     "metadata": {},
     "output_type": "display_data"
    }
   ],
   "source": [
    "X = sm.add_constant(epa_subset.cylinders)\n",
    "Y = epa_subset.displ\n",
    "est = sm.OLS(Y, X)\n",
    "res = est.fit()\n",
    "display(res.summary())"
   ]
  },
  {
   "cell_type": "markdown",
   "metadata": {},
   "source": [
    "From the `R-squared` value we can see there is a somewhat strong linear relationship between the data; further, the p-value for the coefficient of `cylinders` indicates that changes in `dislp` are likely attributed to changes in `cylinders`.  \n",
    "\n",
    "To plot the fit line with the scatter plot generated by the DataFrame's *plot()* method we can use StatsModel's [*abline_plot()*](http://www.statsmodels.org/dev/generated/statsmodels.graphics.regressionplots.abline_plot.html) function.  First, we import the function then create a scatter plot and store the returned *axes* object."
   ]
  },
  {
   "cell_type": "code",
   "execution_count": 253,
   "metadata": {},
   "outputs": [
    {
     "data": {
      "image/png": "[encoded data removed]",
      "text/plain": [
       "<matplotlib.figure.Figure at 0x1300f0550>"
      ]
     },
     "metadata": {},
     "output_type": "display_data"
    }
   ],
   "source": [
    "from statsmodels.graphics.regressionplots import abline_plot\n",
    "axes = epa_subset.plot.scatter(x=\"cylinders\", y=\"displ\")"
   ]
  },
  {
   "cell_type": "markdown",
   "metadata": {},
   "source": [
    "We can can add the plot of the regression line to the plot using *abline_plot()* function, specifying the model results, the *axes*, and a color."
   ]
  },
  {
   "cell_type": "code",
   "execution_count": 256,
   "metadata": {},
   "outputs": [
    {
     "data": {
      "image/png": "[encoded data removed]",
      "text/plain": [
       "<matplotlib.figure.Figure at 0x1300f0550>"
      ]
     },
     "execution_count": 256,
     "metadata": {},
     "output_type": "execute_result"
    }
   ],
   "source": [
    "abline_plot(model_results=res, ax=axes, color='r')"
   ]
  },
  {
   "cell_type": "markdown",
   "metadata": {},
   "source": [
    "Often when creating models, we want to exclude outliers in our calculations.  Let's look at the box plots for `cylinders` and `displ`.\n",
    "\n",
    "<hr>\n",
    "<a name=\"Lab-3\"></a><mark> **Lab 3** In the cells below, create the box plots for `cylinders` and `displ`.</mark>"
   ]
  },
  {
   "cell_type": "code",
   "execution_count": 258,
   "metadata": {},
   "outputs": [
    {
     "data": {
      "text/plain": [
       "<matplotlib.axes._subplots.AxesSubplot at 0x130ea8438>"
      ]
     },
     "execution_count": 258,
     "metadata": {},
     "output_type": "execute_result"
    },
    {
     "data": {
      "image/png": "[encoded data removed]",
      "text/plain": [
       "<matplotlib.figure.Figure at 0x130ea2160>"
      ]
     },
     "metadata": {},
     "output_type": "display_data"
    }
   ],
   "source": [
    "epa_subset.cylinders.plot(kind='box')"
   ]
  },
  {
   "cell_type": "code",
   "execution_count": 259,
   "metadata": {},
   "outputs": [
    {
     "data": {
      "text/plain": [
       "<matplotlib.axes._subplots.AxesSubplot at 0x130ea2b70>"
      ]
     },
     "execution_count": 259,
     "metadata": {},
     "output_type": "execute_result"
    },
    {
     "data": {
      "image/png": "[encoded data removed]",
      "text/plain": [
       "<matplotlib.figure.Figure at 0x130eb07b8>"
      ]
     },
     "metadata": {},
     "output_type": "display_data"
    }
   ],
   "source": [
    "epa_subset.displ.plot(kind='box')"
   ]
  },
  {
   "cell_type": "markdown",
   "metadata": {},
   "source": [
    "<hr>\n",
    "\n",
    "We can see that there are a few outliers for each column.  We can remove them and recalculate the fit.  We can create a copy of the DataFrame from which will will remove outliers."
   ]
  },
  {
   "cell_type": "code",
   "execution_count": 261,
   "metadata": {},
   "outputs": [],
   "source": [
    "epa_no_outliers = epa_subset[['cylinders', 'displ']].copy()"
   ]
  },
  {
   "cell_type": "markdown",
   "metadata": {},
   "source": [
    "To remove the outliers from a column, we'll create a function that we can apply to a DataFrame.  We'll define outliers based on the interquartile range. \n",
    "\n",
    "After defining the function, we can use it with our `epa_no_outliers` DataFrame."
   ]
  },
  {
   "cell_type": "code",
   "execution_count": 263,
   "metadata": {},
   "outputs": [],
   "source": [
    "def remove_outliers(dataframe, column):\n",
    "    q1 = dataframe[column].quantile(0.25)\n",
    "    q3 = dataframe[column].quantile(0.75)\n",
    "    iqr = q3 - q1\n",
    "    lower = q1 - 1.5 * iqr\n",
    "    upper = q3 + 1.5 * iqr\n",
    "    return dataframe[(dataframe[column] >= lower) &\n",
    "                     (dataframe[column] <= upper)].copy()\n",
    "\n",
    "epa_no_outliers = remove_outliers(epa_no_outliers, \"cylinders\")\n",
    "epa_no_outliers = remove_outliers(epa_no_outliers, \"displ\")"
   ]
  },
  {
   "cell_type": "markdown",
   "metadata": {},
   "source": [
    "With the outliers removed, we can create a new model and calculate the regression coefficients. \n",
    "\n",
    "<hr>\n",
    "<a name=\"Lab-4\"></a><mark> **Lab 4** In the cell below, create an ordinary least squares model where `cylinders` is the independent variable and `displ` is the dependent variable. Include a coefficient term in the model. Calculate the fit and store the result in a variable named `res_no_outliers`.</mark>"
   ]
  },
  {
   "cell_type": "code",
   "execution_count": 269,
   "metadata": {},
   "outputs": [],
   "source": [
    "X = sm.add_constant(epa_no_outliers.cylinders)\n",
    "Y = epa_no_outliers.displ\n",
    "est = sm.OLS(Y, X)\n",
    "res_no_outliers = est.fit()"
   ]
  },
  {
   "cell_type": "markdown",
   "metadata": {},
   "source": [
    "Looking at the result's summary and the `R-squared` value, we can see the the fit is slightly better with the outliers removed. "
   ]
  },
  {
   "cell_type": "code",
   "execution_count": 270,
   "metadata": {},
   "outputs": [
    {
     "data": {
      "text/html": [
       "<table class=\"simpletable\">\n",
       "<caption>OLS Regression Results</caption>\n",
       "<tr>\n",
       "  <th>Dep. Variable:</th>          <td>displ</td>      <th>  R-squared:         </th> <td>   0.883</td> \n",
       "</tr>\n",
       "<tr>\n",
       "  <th>Model:</th>                   <td>OLS</td>       <th>  Adj. R-squared:    </th> <td>   0.883</td> \n",
       "</tr>\n",
       "<tr>\n",
       "  <th>Method:</th>             <td>Least Squares</td>  <th>  F-statistic:       </th> <td>5.384e+04</td>\n",
       "</tr>\n",
       "<tr>\n",
       "  <th>Date:</th>             <td>Wed, 04 Apr 2018</td> <th>  Prob (F-statistic):</th>  <td>  0.00</td>  \n",
       "</tr>\n",
       "<tr>\n",
       "  <th>Time:</th>                 <td>16:01:45</td>     <th>  Log-Likelihood:    </th> <td> -4103.9</td> \n",
       "</tr>\n",
       "<tr>\n",
       "  <th>No. Observations:</th>      <td>  7132</td>      <th>  AIC:               </th> <td>   8212.</td> \n",
       "</tr>\n",
       "<tr>\n",
       "  <th>Df Residuals:</th>          <td>  7130</td>      <th>  BIC:               </th> <td>   8225.</td> \n",
       "</tr>\n",
       "<tr>\n",
       "  <th>Df Model:</th>              <td>     1</td>      <th>                     </th>     <td> </td>    \n",
       "</tr>\n",
       "<tr>\n",
       "  <th>Covariance Type:</th>      <td>nonrobust</td>    <th>                     </th>     <td> </td>    \n",
       "</tr>\n",
       "</table>\n",
       "<table class=\"simpletable\">\n",
       "<tr>\n",
       "      <td></td>         <th>coef</th>     <th>std err</th>      <th>t</th>      <th>P>|t|</th>  <th>[0.025</th>    <th>0.975]</th>  \n",
       "</tr>\n",
       "<tr>\n",
       "  <th>const</th>     <td>   -1.1141</td> <td>    0.019</td> <td>  -59.314</td> <td> 0.000</td> <td>   -1.151</td> <td>   -1.077</td>\n",
       "</tr>\n",
       "<tr>\n",
       "  <th>cylinders</th> <td>    0.7681</td> <td>    0.003</td> <td>  232.042</td> <td> 0.000</td> <td>    0.762</td> <td>    0.775</td>\n",
       "</tr>\n",
       "</table>\n",
       "<table class=\"simpletable\">\n",
       "<tr>\n",
       "  <th>Omnibus:</th>       <td>104.759</td> <th>  Durbin-Watson:     </th> <td>   1.014</td>\n",
       "</tr>\n",
       "<tr>\n",
       "  <th>Prob(Omnibus):</th> <td> 0.000</td>  <th>  Jarque-Bera (JB):  </th> <td> 153.838</td>\n",
       "</tr>\n",
       "<tr>\n",
       "  <th>Skew:</th>          <td> 0.167</td>  <th>  Prob(JB):          </th> <td>3.93e-34</td>\n",
       "</tr>\n",
       "<tr>\n",
       "  <th>Kurtosis:</th>      <td> 3.637</td>  <th>  Cond. No.          </th> <td>    21.5</td>\n",
       "</tr>\n",
       "</table>"
      ],
      "text/plain": [
       "<class 'statsmodels.iolib.summary.Summary'>\n",
       "\"\"\"\n",
       "                            OLS Regression Results                            \n",
       "==============================================================================\n",
       "Dep. Variable:                  displ   R-squared:                       0.883\n",
       "Model:                            OLS   Adj. R-squared:                  0.883\n",
       "Method:                 Least Squares   F-statistic:                 5.384e+04\n",
       "Date:                Wed, 04 Apr 2018   Prob (F-statistic):               0.00\n",
       "Time:                        16:01:45   Log-Likelihood:                -4103.9\n",
       "No. Observations:                7132   AIC:                             8212.\n",
       "Df Residuals:                    7130   BIC:                             8225.\n",
       "Df Model:                           1                                         \n",
       "Covariance Type:            nonrobust                                         \n",
       "==============================================================================\n",
       "                 coef    std err          t      P>|t|      [0.025      0.975]\n",
       "------------------------------------------------------------------------------\n",
       "const         -1.1141      0.019    -59.314      0.000      -1.151      -1.077\n",
       "cylinders      0.7681      0.003    232.042      0.000       0.762       0.775\n",
       "==============================================================================\n",
       "Omnibus:                      104.759   Durbin-Watson:                   1.014\n",
       "Prob(Omnibus):                  0.000   Jarque-Bera (JB):              153.838\n",
       "Skew:                           0.167   Prob(JB):                     3.93e-34\n",
       "Kurtosis:                       3.637   Cond. No.                         21.5\n",
       "==============================================================================\n",
       "\n",
       "Warnings:\n",
       "[1] Standard Errors assume that the covariance matrix of the errors is correctly specified.\n",
       "\"\"\""
      ]
     },
     "metadata": {},
     "output_type": "display_data"
    }
   ],
   "source": [
    "display(res_no_outliers.summary())"
   ]
  },
  {
   "cell_type": "markdown",
   "metadata": {},
   "source": [
    "We can plot both the original fit and the fit calculated without outliers against a scatter plot of the data."
   ]
  },
  {
   "cell_type": "code",
   "execution_count": 271,
   "metadata": {},
   "outputs": [
    {
     "data": {
      "image/png": "[encoded data removed]",
      "text/plain": [
       "<matplotlib.figure.Figure at 0x131375eb8>"
      ]
     },
     "metadata": {},
     "output_type": "display_data"
    }
   ],
   "source": [
    "axes = epa_subset.plot.scatter(x=\"cylinders\", y=\"displ\")"
   ]
  },
  {
   "cell_type": "code",
   "execution_count": 272,
   "metadata": {},
   "outputs": [
    {
     "data": {
      "image/png": "[encoded data removed]",
      "text/plain": [
       "<matplotlib.figure.Figure at 0x131375eb8>"
      ]
     },
     "execution_count": 272,
     "metadata": {},
     "output_type": "execute_result"
    }
   ],
   "source": [
    "abline_plot(model_results=res, ax=axes, color='r')\n",
    "abline_plot(model_results=res_no_outliers, ax=axes, color='b')"
   ]
  },
  {
   "cell_type": "markdown",
   "metadata": {},
   "source": [
    "The original regression line is colored red and the regression line calculated with outliers removed is colored blue."
   ]
  },
  {
   "cell_type": "markdown",
   "metadata": {},
   "source": [
    "### Multiple Linear Regression"
   ]
  },
  {
   "cell_type": "markdown",
   "metadata": {},
   "source": [
    "So far, we've looked at regressions in which there is one independent variable and a constant.  Often, changes in the response variable are dependent on multiple variables.  For example. we expect that the combined fuel economy is dependent on both city and highway economy. We can see from the scatter plots that `comb08` looks linearly dependent on `city08` and `highway08`."
   ]
  },
  {
   "cell_type": "code",
   "execution_count": 281,
   "metadata": {},
   "outputs": [
    {
     "data": {
      "text/plain": [
       "<matplotlib.axes._subplots.AxesSubplot at 0x12ddc7160>"
      ]
     },
     "execution_count": 281,
     "metadata": {},
     "output_type": "execute_result"
    },
    {
     "data": {
      "image/png": "[encoded data removed]",
      "text/plain": [
       "<matplotlib.figure.Figure at 0x122e27550>"
      ]
     },
     "metadata": {},
     "output_type": "display_data"
    },
    {
     "data": {
      "image/png": "[encoded data removed]",
      "text/plain": [
       "<matplotlib.figure.Figure at 0x12cb77198>"
      ]
     },
     "metadata": {},
     "output_type": "display_data"
    }
   ],
   "source": [
    "epa_subset.plot.scatter(x='city08', y='comb08')\n",
    "epa_subset.plot.scatter(x='highway08', y='comb08')"
   ]
  },
  {
   "cell_type": "markdown",
   "metadata": {},
   "source": [
    "We can also fit models for each of these individually - `city08`/`comb08` and `highway08`/`comb08`."
   ]
  },
  {
   "cell_type": "code",
   "execution_count": 282,
   "metadata": {},
   "outputs": [
    {
     "data": {
      "text/html": [
       "<table class=\"simpletable\">\n",
       "<caption>OLS Regression Results</caption>\n",
       "<tr>\n",
       "  <th>Dep. Variable:</th>         <td>comb08</td>      <th>  R-squared:         </th> <td>   0.972</td> \n",
       "</tr>\n",
       "<tr>\n",
       "  <th>Model:</th>                   <td>OLS</td>       <th>  Adj. R-squared:    </th> <td>   0.972</td> \n",
       "</tr>\n",
       "<tr>\n",
       "  <th>Method:</th>             <td>Least Squares</td>  <th>  F-statistic:       </th> <td>2.590e+05</td>\n",
       "</tr>\n",
       "<tr>\n",
       "  <th>Date:</th>             <td>Wed, 04 Apr 2018</td> <th>  Prob (F-statistic):</th>  <td>  0.00</td>  \n",
       "</tr>\n",
       "<tr>\n",
       "  <th>Time:</th>                 <td>16:45:46</td>     <th>  Log-Likelihood:    </th> <td> -10242.</td> \n",
       "</tr>\n",
       "<tr>\n",
       "  <th>No. Observations:</th>      <td>  7402</td>      <th>  AIC:               </th> <td>2.049e+04</td>\n",
       "</tr>\n",
       "<tr>\n",
       "  <th>Df Residuals:</th>          <td>  7400</td>      <th>  BIC:               </th> <td>2.050e+04</td>\n",
       "</tr>\n",
       "<tr>\n",
       "  <th>Df Model:</th>              <td>     1</td>      <th>                     </th>     <td> </td>    \n",
       "</tr>\n",
       "<tr>\n",
       "  <th>Covariance Type:</th>      <td>nonrobust</td>    <th>                     </th>     <td> </td>    \n",
       "</tr>\n",
       "</table>\n",
       "<table class=\"simpletable\">\n",
       "<tr>\n",
       "     <td></td>       <th>coef</th>     <th>std err</th>      <th>t</th>      <th>P>|t|</th>  <th>[0.025</th>    <th>0.975]</th>  \n",
       "</tr>\n",
       "<tr>\n",
       "  <th>const</th>  <td>    2.9449</td> <td>    0.041</td> <td>   71.791</td> <td> 0.000</td> <td>    2.865</td> <td>    3.025</td>\n",
       "</tr>\n",
       "<tr>\n",
       "  <th>city08</th> <td>    0.9854</td> <td>    0.002</td> <td>  508.942</td> <td> 0.000</td> <td>    0.982</td> <td>    0.989</td>\n",
       "</tr>\n",
       "</table>\n",
       "<table class=\"simpletable\">\n",
       "<tr>\n",
       "  <th>Omnibus:</th>       <td>1685.615</td> <th>  Durbin-Watson:     </th> <td>   1.292</td>\n",
       "</tr>\n",
       "<tr>\n",
       "  <th>Prob(Omnibus):</th>  <td> 0.000</td>  <th>  Jarque-Bera (JB):  </th> <td>6373.261</td>\n",
       "</tr>\n",
       "<tr>\n",
       "  <th>Skew:</th>           <td>-1.096</td>  <th>  Prob(JB):          </th> <td>    0.00</td>\n",
       "</tr>\n",
       "<tr>\n",
       "  <th>Kurtosis:</th>       <td> 6.982</td>  <th>  Cond. No.          </th> <td>    77.6</td>\n",
       "</tr>\n",
       "</table>"
      ],
      "text/plain": [
       "<class 'statsmodels.iolib.summary.Summary'>\n",
       "\"\"\"\n",
       "                            OLS Regression Results                            \n",
       "==============================================================================\n",
       "Dep. Variable:                 comb08   R-squared:                       0.972\n",
       "Model:                            OLS   Adj. R-squared:                  0.972\n",
       "Method:                 Least Squares   F-statistic:                 2.590e+05\n",
       "Date:                Wed, 04 Apr 2018   Prob (F-statistic):               0.00\n",
       "Time:                        16:45:46   Log-Likelihood:                -10242.\n",
       "No. Observations:                7402   AIC:                         2.049e+04\n",
       "Df Residuals:                    7400   BIC:                         2.050e+04\n",
       "Df Model:                           1                                         \n",
       "Covariance Type:            nonrobust                                         \n",
       "==============================================================================\n",
       "                 coef    std err          t      P>|t|      [0.025      0.975]\n",
       "------------------------------------------------------------------------------\n",
       "const          2.9449      0.041     71.791      0.000       2.865       3.025\n",
       "city08         0.9854      0.002    508.942      0.000       0.982       0.989\n",
       "==============================================================================\n",
       "Omnibus:                     1685.615   Durbin-Watson:                   1.292\n",
       "Prob(Omnibus):                  0.000   Jarque-Bera (JB):             6373.261\n",
       "Skew:                          -1.096   Prob(JB):                         0.00\n",
       "Kurtosis:                       6.982   Cond. No.                         77.6\n",
       "==============================================================================\n",
       "\n",
       "Warnings:\n",
       "[1] Standard Errors assume that the covariance matrix of the errors is correctly specified.\n",
       "\"\"\""
      ]
     },
     "metadata": {},
     "output_type": "display_data"
    }
   ],
   "source": [
    "X = sm.add_constant(epa_subset.city08)\n",
    "Y = epa_subset.comb08\n",
    "est = sm.OLS(Y, X)\n",
    "res = est.fit()\n",
    "display(res.summary())"
   ]
  },
  {
   "cell_type": "code",
   "execution_count": 284,
   "metadata": {},
   "outputs": [
    {
     "data": {
      "text/html": [
       "<table class=\"simpletable\">\n",
       "<caption>OLS Regression Results</caption>\n",
       "<tr>\n",
       "  <th>Dep. Variable:</th>         <td>comb08</td>      <th>  R-squared:         </th> <td>   0.925</td> \n",
       "</tr>\n",
       "<tr>\n",
       "  <th>Model:</th>                   <td>OLS</td>       <th>  Adj. R-squared:    </th> <td>   0.925</td> \n",
       "</tr>\n",
       "<tr>\n",
       "  <th>Method:</th>             <td>Least Squares</td>  <th>  F-statistic:       </th> <td>9.094e+04</td>\n",
       "</tr>\n",
       "<tr>\n",
       "  <th>Date:</th>             <td>Wed, 04 Apr 2018</td> <th>  Prob (F-statistic):</th>  <td>  0.00</td>  \n",
       "</tr>\n",
       "<tr>\n",
       "  <th>Time:</th>                 <td>16:46:05</td>     <th>  Log-Likelihood:    </th> <td> -13930.</td> \n",
       "</tr>\n",
       "<tr>\n",
       "  <th>No. Observations:</th>      <td>  7402</td>      <th>  AIC:               </th> <td>2.786e+04</td>\n",
       "</tr>\n",
       "<tr>\n",
       "  <th>Df Residuals:</th>          <td>  7400</td>      <th>  BIC:               </th> <td>2.788e+04</td>\n",
       "</tr>\n",
       "<tr>\n",
       "  <th>Df Model:</th>              <td>     1</td>      <th>                     </th>     <td> </td>    \n",
       "</tr>\n",
       "<tr>\n",
       "  <th>Covariance Type:</th>      <td>nonrobust</td>    <th>                     </th>     <td> </td>    \n",
       "</tr>\n",
       "</table>\n",
       "<table class=\"simpletable\">\n",
       "<tr>\n",
       "      <td></td>         <th>coef</th>     <th>std err</th>      <th>t</th>      <th>P>|t|</th>  <th>[0.025</th>    <th>0.975]</th>  \n",
       "</tr>\n",
       "<tr>\n",
       "  <th>const</th>     <td>   -2.6589</td> <td>    0.087</td> <td>  -30.508</td> <td> 0.000</td> <td>   -2.830</td> <td>   -2.488</td>\n",
       "</tr>\n",
       "<tr>\n",
       "  <th>highway08</th> <td>    0.9307</td> <td>    0.003</td> <td>  301.560</td> <td> 0.000</td> <td>    0.925</td> <td>    0.937</td>\n",
       "</tr>\n",
       "</table>\n",
       "<table class=\"simpletable\">\n",
       "<tr>\n",
       "  <th>Omnibus:</th>       <td>2766.126</td> <th>  Durbin-Watson:     </th> <td>   1.294</td> \n",
       "</tr>\n",
       "<tr>\n",
       "  <th>Prob(Omnibus):</th>  <td> 0.000</td>  <th>  Jarque-Bera (JB):  </th> <td>17613.587</td>\n",
       "</tr>\n",
       "<tr>\n",
       "  <th>Skew:</th>           <td> 1.653</td>  <th>  Prob(JB):          </th> <td>    0.00</td> \n",
       "</tr>\n",
       "<tr>\n",
       "  <th>Kurtosis:</th>       <td> 9.796</td>  <th>  Cond. No.          </th> <td>    133.</td> \n",
       "</tr>\n",
       "</table>"
      ],
      "text/plain": [
       "<class 'statsmodels.iolib.summary.Summary'>\n",
       "\"\"\"\n",
       "                            OLS Regression Results                            \n",
       "==============================================================================\n",
       "Dep. Variable:                 comb08   R-squared:                       0.925\n",
       "Model:                            OLS   Adj. R-squared:                  0.925\n",
       "Method:                 Least Squares   F-statistic:                 9.094e+04\n",
       "Date:                Wed, 04 Apr 2018   Prob (F-statistic):               0.00\n",
       "Time:                        16:46:05   Log-Likelihood:                -13930.\n",
       "No. Observations:                7402   AIC:                         2.786e+04\n",
       "Df Residuals:                    7400   BIC:                         2.788e+04\n",
       "Df Model:                           1                                         \n",
       "Covariance Type:            nonrobust                                         \n",
       "==============================================================================\n",
       "                 coef    std err          t      P>|t|      [0.025      0.975]\n",
       "------------------------------------------------------------------------------\n",
       "const         -2.6589      0.087    -30.508      0.000      -2.830      -2.488\n",
       "highway08      0.9307      0.003    301.560      0.000       0.925       0.937\n",
       "==============================================================================\n",
       "Omnibus:                     2766.126   Durbin-Watson:                   1.294\n",
       "Prob(Omnibus):                  0.000   Jarque-Bera (JB):            17613.587\n",
       "Skew:                           1.653   Prob(JB):                         0.00\n",
       "Kurtosis:                       9.796   Cond. No.                         133.\n",
       "==============================================================================\n",
       "\n",
       "Warnings:\n",
       "[1] Standard Errors assume that the covariance matrix of the errors is correctly specified.\n",
       "\"\"\""
      ]
     },
     "metadata": {},
     "output_type": "display_data"
    }
   ],
   "source": [
    "X = sm.add_constant(epa_subset.highway08)\n",
    "Y = epa_subset.comb08\n",
    "est = sm.OLS(Y, X)\n",
    "res = est.fit()\n",
    "display(res.summary())"
   ]
  },
  {
   "cell_type": "code",
   "execution_count": 232,
   "metadata": {},
   "outputs": [
    {
     "data": {
      "text/html": [
       "<table class=\"simpletable\">\n",
       "<caption>OLS Regression Results</caption>\n",
       "<tr>\n",
       "  <th>Dep. Variable:</th>           <td>co2</td>       <th>  R-squared:         </th> <td>   0.900</td> \n",
       "</tr>\n",
       "<tr>\n",
       "  <th>Model:</th>                   <td>OLS</td>       <th>  Adj. R-squared:    </th> <td>   0.900</td> \n",
       "</tr>\n",
       "<tr>\n",
       "  <th>Method:</th>             <td>Least Squares</td>  <th>  F-statistic:       </th> <td>2.137e+04</td>\n",
       "</tr>\n",
       "<tr>\n",
       "  <th>Date:</th>             <td>Wed, 04 Apr 2018</td> <th>  Prob (F-statistic):</th>  <td>  0.00</td>  \n",
       "</tr>\n",
       "<tr>\n",
       "  <th>Time:</th>                 <td>13:24:40</td>     <th>  Log-Likelihood:    </th> <td> -34426.</td> \n",
       "</tr>\n",
       "<tr>\n",
       "  <th>No. Observations:</th>      <td>  7132</td>      <th>  AIC:               </th> <td>6.886e+04</td>\n",
       "</tr>\n",
       "<tr>\n",
       "  <th>Df Residuals:</th>          <td>  7128</td>      <th>  BIC:               </th> <td>6.889e+04</td>\n",
       "</tr>\n",
       "<tr>\n",
       "  <th>Df Model:</th>              <td>     3</td>      <th>                     </th>     <td> </td>    \n",
       "</tr>\n",
       "<tr>\n",
       "  <th>Covariance Type:</th>      <td>nonrobust</td>    <th>                     </th>     <td> </td>    \n",
       "</tr>\n",
       "</table>\n",
       "<table class=\"simpletable\">\n",
       "<tr>\n",
       "      <td></td>         <th>coef</th>     <th>std err</th>      <th>t</th>      <th>P>|t|</th>  <th>[0.025</th>    <th>0.975]</th>  \n",
       "</tr>\n",
       "<tr>\n",
       "  <th>const</th>     <td>  606.8635</td> <td>    3.895</td> <td>  155.793</td> <td> 0.000</td> <td>  599.228</td> <td>  614.500</td>\n",
       "</tr>\n",
       "<tr>\n",
       "  <th>cylinders</th> <td>    2.3894</td> <td>    0.687</td> <td>    3.478</td> <td> 0.001</td> <td>    1.043</td> <td>    3.736</td>\n",
       "</tr>\n",
       "<tr>\n",
       "  <th>displ</th>     <td>   19.3059</td> <td>    0.862</td> <td>   22.404</td> <td> 0.000</td> <td>   17.617</td> <td>   20.995</td>\n",
       "</tr>\n",
       "<tr>\n",
       "  <th>comb08</th>    <td>  -11.9310</td> <td>    0.099</td> <td> -120.602</td> <td> 0.000</td> <td>  -12.125</td> <td>  -11.737</td>\n",
       "</tr>\n",
       "</table>\n",
       "<table class=\"simpletable\">\n",
       "<tr>\n",
       "  <th>Omnibus:</th>       <td>1530.513</td> <th>  Durbin-Watson:     </th> <td>   1.161</td> \n",
       "</tr>\n",
       "<tr>\n",
       "  <th>Prob(Omnibus):</th>  <td> 0.000</td>  <th>  Jarque-Bera (JB):  </th> <td>35259.651</td>\n",
       "</tr>\n",
       "<tr>\n",
       "  <th>Skew:</th>           <td> 0.453</td>  <th>  Prob(JB):          </th> <td>    0.00</td> \n",
       "</tr>\n",
       "<tr>\n",
       "  <th>Kurtosis:</th>       <td>13.855</td>  <th>  Cond. No.          </th> <td>    270.</td> \n",
       "</tr>\n",
       "</table>"
      ],
      "text/plain": [
       "<class 'statsmodels.iolib.summary.Summary'>\n",
       "\"\"\"\n",
       "                            OLS Regression Results                            \n",
       "==============================================================================\n",
       "Dep. Variable:                    co2   R-squared:                       0.900\n",
       "Model:                            OLS   Adj. R-squared:                  0.900\n",
       "Method:                 Least Squares   F-statistic:                 2.137e+04\n",
       "Date:                Wed, 04 Apr 2018   Prob (F-statistic):               0.00\n",
       "Time:                        13:24:40   Log-Likelihood:                -34426.\n",
       "No. Observations:                7132   AIC:                         6.886e+04\n",
       "Df Residuals:                    7128   BIC:                         6.889e+04\n",
       "Df Model:                           3                                         \n",
       "Covariance Type:            nonrobust                                         \n",
       "==============================================================================\n",
       "                 coef    std err          t      P>|t|      [0.025      0.975]\n",
       "------------------------------------------------------------------------------\n",
       "const        606.8635      3.895    155.793      0.000     599.228     614.500\n",
       "cylinders      2.3894      0.687      3.478      0.001       1.043       3.736\n",
       "displ         19.3059      0.862     22.404      0.000      17.617      20.995\n",
       "comb08       -11.9310      0.099   -120.602      0.000     -12.125     -11.737\n",
       "==============================================================================\n",
       "Omnibus:                     1530.513   Durbin-Watson:                   1.161\n",
       "Prob(Omnibus):                  0.000   Jarque-Bera (JB):            35259.651\n",
       "Skew:                           0.453   Prob(JB):                         0.00\n",
       "Kurtosis:                      13.855   Cond. No.                         270.\n",
       "==============================================================================\n",
       "\n",
       "Warnings:\n",
       "[1] Standard Errors assume that the covariance matrix of the errors is correctly specified.\n",
       "\"\"\""
      ]
     },
     "metadata": {},
     "output_type": "display_data"
    }
   ],
   "source": [
    "X = sm.add_constant(epa_subset[['city08', 'displ', 'comb08']])\n",
    "Y = epa_subset.co2\n",
    "est = sm.OLS(Y, X)\n",
    "res = est.fit()\n",
    "display(res.summary())"
   ]
  },
  {
   "cell_type": "markdown",
   "metadata": {},
   "source": [
    "Separately, the models fit the data quite well.  Let's look at the model in which both `city08` and `highway08` are independent variables."
   ]
  },
  {
   "cell_type": "code",
   "execution_count": 285,
   "metadata": {},
   "outputs": [
    {
     "data": {
      "text/html": [
       "<table class=\"simpletable\">\n",
       "<caption>OLS Regression Results</caption>\n",
       "<tr>\n",
       "  <th>Dep. Variable:</th>         <td>comb08</td>      <th>  R-squared:         </th> <td>   0.996</td> \n",
       "</tr>\n",
       "<tr>\n",
       "  <th>Model:</th>                   <td>OLS</td>       <th>  Adj. R-squared:    </th> <td>   0.996</td> \n",
       "</tr>\n",
       "<tr>\n",
       "  <th>Method:</th>             <td>Least Squares</td>  <th>  F-statistic:       </th> <td>8.489e+05</td>\n",
       "</tr>\n",
       "<tr>\n",
       "  <th>Date:</th>             <td>Wed, 04 Apr 2018</td> <th>  Prob (F-statistic):</th>  <td>  0.00</td>  \n",
       "</tr>\n",
       "<tr>\n",
       "  <th>Time:</th>                 <td>16:49:46</td>     <th>  Log-Likelihood:    </th> <td> -3370.7</td> \n",
       "</tr>\n",
       "<tr>\n",
       "  <th>No. Observations:</th>      <td>  7402</td>      <th>  AIC:               </th> <td>   6747.</td> \n",
       "</tr>\n",
       "<tr>\n",
       "  <th>Df Residuals:</th>          <td>  7399</td>      <th>  BIC:               </th> <td>   6768.</td> \n",
       "</tr>\n",
       "<tr>\n",
       "  <th>Df Model:</th>              <td>     2</td>      <th>                     </th>     <td> </td>    \n",
       "</tr>\n",
       "<tr>\n",
       "  <th>Covariance Type:</th>      <td>nonrobust</td>    <th>                     </th>     <td> </td>    \n",
       "</tr>\n",
       "</table>\n",
       "<table class=\"simpletable\">\n",
       "<tr>\n",
       "      <td></td>         <th>coef</th>     <th>std err</th>      <th>t</th>      <th>P>|t|</th>  <th>[0.025</th>    <th>0.975]</th>  \n",
       "</tr>\n",
       "<tr>\n",
       "  <th>const</th>     <td>   -0.0860</td> <td>    0.022</td> <td>   -3.874</td> <td> 0.000</td> <td>   -0.130</td> <td>   -0.042</td>\n",
       "</tr>\n",
       "<tr>\n",
       "  <th>city08</th>    <td>    0.6466</td> <td>    0.002</td> <td>  347.731</td> <td> 0.000</td> <td>    0.643</td> <td>    0.650</td>\n",
       "</tr>\n",
       "<tr>\n",
       "  <th>highway08</th> <td>    0.3600</td> <td>    0.002</td> <td>  199.909</td> <td> 0.000</td> <td>    0.356</td> <td>    0.364</td>\n",
       "</tr>\n",
       "</table>\n",
       "<table class=\"simpletable\">\n",
       "<tr>\n",
       "  <th>Omnibus:</th>       <td>101.613</td> <th>  Durbin-Watson:     </th> <td>   1.802</td>\n",
       "</tr>\n",
       "<tr>\n",
       "  <th>Prob(Omnibus):</th> <td> 0.000</td>  <th>  Jarque-Bera (JB):  </th> <td>  62.826</td>\n",
       "</tr>\n",
       "<tr>\n",
       "  <th>Skew:</th>          <td>-0.059</td>  <th>  Prob(JB):          </th> <td>2.28e-14</td>\n",
       "</tr>\n",
       "<tr>\n",
       "  <th>Kurtosis:</th>      <td> 2.564</td>  <th>  Cond. No.          </th> <td>    177.</td>\n",
       "</tr>\n",
       "</table>"
      ],
      "text/plain": [
       "<class 'statsmodels.iolib.summary.Summary'>\n",
       "\"\"\"\n",
       "                            OLS Regression Results                            \n",
       "==============================================================================\n",
       "Dep. Variable:                 comb08   R-squared:                       0.996\n",
       "Model:                            OLS   Adj. R-squared:                  0.996\n",
       "Method:                 Least Squares   F-statistic:                 8.489e+05\n",
       "Date:                Wed, 04 Apr 2018   Prob (F-statistic):               0.00\n",
       "Time:                        16:49:46   Log-Likelihood:                -3370.7\n",
       "No. Observations:                7402   AIC:                             6747.\n",
       "Df Residuals:                    7399   BIC:                             6768.\n",
       "Df Model:                           2                                         \n",
       "Covariance Type:            nonrobust                                         \n",
       "==============================================================================\n",
       "                 coef    std err          t      P>|t|      [0.025      0.975]\n",
       "------------------------------------------------------------------------------\n",
       "const         -0.0860      0.022     -3.874      0.000      -0.130      -0.042\n",
       "city08         0.6466      0.002    347.731      0.000       0.643       0.650\n",
       "highway08      0.3600      0.002    199.909      0.000       0.356       0.364\n",
       "==============================================================================\n",
       "Omnibus:                      101.613   Durbin-Watson:                   1.802\n",
       "Prob(Omnibus):                  0.000   Jarque-Bera (JB):               62.826\n",
       "Skew:                          -0.059   Prob(JB):                     2.28e-14\n",
       "Kurtosis:                       2.564   Cond. No.                         177.\n",
       "==============================================================================\n",
       "\n",
       "Warnings:\n",
       "[1] Standard Errors assume that the covariance matrix of the errors is correctly specified.\n",
       "\"\"\""
      ]
     },
     "metadata": {},
     "output_type": "display_data"
    }
   ],
   "source": [
    "X = sm.add_constant(epa_subset[['city08', 'highway08']])\n",
    "Y = epa_subset.comb08\n",
    "est = sm.OLS(Y, X)\n",
    "res = est.fit()\n",
    "display(res.summary())"
   ]
  },
  {
   "cell_type": "markdown",
   "metadata": {},
   "source": [
    "Looking at the coefficient of determination, we can see this model, which depends on both `city08` and `highway08`, fits the data better than a model which depends on only one of the variables."
   ]
  },
  {
   "cell_type": "markdown",
   "metadata": {},
   "source": [
    "### Linear-Like Regression"
   ]
  },
  {
   "cell_type": "markdown",
   "metadata": {},
   "source": [
    "While there are many of relationships that are linear and that can be modeled using a linear regression, there are also relationships that are non-linear.  Among these non-linear relationships are those that can transformed into a linear ones in terms of the coefficients and independent variables.\n",
    "\n",
    "As an example, consider the relationship between `comb08` and `c02`."
   ]
  },
  {
   "cell_type": "code",
   "execution_count": 286,
   "metadata": {},
   "outputs": [
    {
     "data": {
      "text/plain": [
       "<matplotlib.axes._subplots.AxesSubplot at 0x12dcf2390>"
      ]
     },
     "execution_count": 286,
     "metadata": {},
     "output_type": "execute_result"
    },
    {
     "data": {
      "image/png": "[encoded data removed]",
      "text/plain": [
       "<matplotlib.figure.Figure at 0x122c585c0>"
      ]
     },
     "metadata": {},
     "output_type": "display_data"
    }
   ],
   "source": [
    "epa_subset.plot.scatter(x=\"comb08\", y=\"co2\")"
   ]
  },
  {
   "cell_type": "markdown",
   "metadata": {},
   "source": [
    "While this relationship doesn't appear to be linear, it does look [hyperbolic](https://en.wikipedia.org/wiki/Hyperbola). In this case, the relationship between the independent variable and dependent variable could be written as \n",
    "\n",
    "\n",
    "$$\n",
    "\\begin{array}{c}\n",
    "Y = \\frac{1}{\\beta_0 + \\beta_1 X}\n",
    "\\end{array}\n",
    "$$\n",
    "\n",
    "To move the coefficients and independent variable out of the denominator, we can take the reciprocal of both sides (provided the neither side is zero) - this gives us\n",
    "\n",
    "\n",
    "$$\n",
    "\\begin{array}{c}\n",
    "\\frac{1}{Y} = \\beta_0 + \\beta_1 X\n",
    "\\end{array}\n",
    "$$\n",
    "\n",
    "For a given observation, this form is easier to work with since $\\frac{1}{Y}$ and $X$ are constants and we need to solve for $\\beta_0$ and $\\beta_1$. \n",
    "\n",
    "We can calculate the reciprocal of the dependent variable, `co2`, and store the value in a new column."
   ]
  },
  {
   "cell_type": "code",
   "execution_count": 310,
   "metadata": {},
   "outputs": [],
   "source": [
    "epa_non_linear = epa_subset[['comb08', 'co2']].copy()"
   ]
  },
  {
   "cell_type": "markdown",
   "metadata": {},
   "source": []
  },
  {
   "cell_type": "code",
   "execution_count": 318,
   "metadata": {},
   "outputs": [],
   "source": [
    "epa_non_linear[\"reciprocal_co2\"] = 1/epa_non_linear.co2"
   ]
  },
  {
   "cell_type": "markdown",
   "metadata": {},
   "source": [
    "Looking at the plot of `comb08` and `reciprocal_c02`, it appears that the relationship is linear, which supports our assumption that the original relationship was hyperbolic."
   ]
  },
  {
   "cell_type": "code",
   "execution_count": 319,
   "metadata": {},
   "outputs": [
    {
     "data": {
      "text/plain": [
       "<matplotlib.axes._subplots.AxesSubplot at 0x11ac98828>"
      ]
     },
     "execution_count": 319,
     "metadata": {},
     "output_type": "execute_result"
    },
    {
     "data": {
      "image/png": "[encoded data removed]",
      "text/plain": [
       "<matplotlib.figure.Figure at 0x12ce149b0>"
      ]
     },
     "metadata": {},
     "output_type": "display_data"
    }
   ],
   "source": [
    "epa_non_linear.plot.scatter(x=\"comb08\", y=\"reciprocal_co2\")"
   ]
  },
  {
   "cell_type": "markdown",
   "metadata": {},
   "source": [
    "Before fitting the data with a linear model, let's remove the outliers."
   ]
  },
  {
   "cell_type": "code",
   "execution_count": 321,
   "metadata": {},
   "outputs": [
    {
     "data": {
      "image/png": "[encoded data removed]",
      "text/plain": [
       "<matplotlib.figure.Figure at 0x12a2c24a8>"
      ]
     },
     "metadata": {},
     "output_type": "display_data"
    }
   ],
   "source": [
    "epa_non_linear = remove_outliers(epa_non_linear, \"comb08\")\n",
    "epa_non_linear = remove_outliers(epa_non_linear, \"reciprocal_co2\")\n",
    "axes = epa_non_linear.plot.scatter(x=\"comb08\", y=\"reciprocal_co2\")"
   ]
  },
  {
   "cell_type": "markdown",
   "metadata": {},
   "source": [
    "We can now create a linear model for `comb08` and `reciprocal_c02`.  After calculating the coefficients, we display the summary of the results."
   ]
  },
  {
   "cell_type": "code",
   "execution_count": 352,
   "metadata": {},
   "outputs": [
    {
     "data": {
      "text/html": [
       "<table class=\"simpletable\">\n",
       "<caption>OLS Regression Results</caption>\n",
       "<tr>\n",
       "  <th>Dep. Variable:</th>     <td>reciprocal_co2</td>  <th>  R-squared:         </th>  <td>   0.975</td> \n",
       "</tr>\n",
       "<tr>\n",
       "  <th>Model:</th>                   <td>OLS</td>       <th>  Adj. R-squared:    </th>  <td>   0.975</td> \n",
       "</tr>\n",
       "<tr>\n",
       "  <th>Method:</th>             <td>Least Squares</td>  <th>  F-statistic:       </th>  <td>2.804e+05</td>\n",
       "</tr>\n",
       "<tr>\n",
       "  <th>Date:</th>             <td>Wed, 04 Apr 2018</td> <th>  Prob (F-statistic):</th>   <td>  0.00</td>  \n",
       "</tr>\n",
       "<tr>\n",
       "  <th>Time:</th>                 <td>19:26:12</td>     <th>  Log-Likelihood:    </th>  <td>  56992.</td> \n",
       "</tr>\n",
       "<tr>\n",
       "  <th>No. Observations:</th>      <td>  7193</td>      <th>  AIC:               </th> <td>-1.140e+05</td>\n",
       "</tr>\n",
       "<tr>\n",
       "  <th>Df Residuals:</th>          <td>  7191</td>      <th>  BIC:               </th> <td>-1.140e+05</td>\n",
       "</tr>\n",
       "<tr>\n",
       "  <th>Df Model:</th>              <td>     1</td>      <th>                     </th>      <td> </td>    \n",
       "</tr>\n",
       "<tr>\n",
       "  <th>Covariance Type:</th>      <td>nonrobust</td>    <th>                     </th>      <td> </td>    \n",
       "</tr>\n",
       "</table>\n",
       "<table class=\"simpletable\">\n",
       "<tr>\n",
       "     <td></td>       <th>coef</th>     <th>std err</th>      <th>t</th>      <th>P>|t|</th>  <th>[0.025</th>    <th>0.975]</th>  \n",
       "</tr>\n",
       "<tr>\n",
       "  <th>const</th>  <td> 6.764e-05</td> <td> 4.77e-06</td> <td>   14.182</td> <td> 0.000</td> <td> 5.83e-05</td> <td>  7.7e-05</td>\n",
       "</tr>\n",
       "<tr>\n",
       "  <th>comb08</th> <td>    0.0001</td> <td> 2.06e-07</td> <td>  529.486</td> <td> 0.000</td> <td>    0.000</td> <td>    0.000</td>\n",
       "</tr>\n",
       "</table>\n",
       "<table class=\"simpletable\">\n",
       "<tr>\n",
       "  <th>Omnibus:</th>       <td>4638.856</td> <th>  Durbin-Watson:     </th>  <td>   1.511</td>  \n",
       "</tr>\n",
       "<tr>\n",
       "  <th>Prob(Omnibus):</th>  <td> 0.000</td>  <th>  Jarque-Bera (JB):  </th> <td>1442146.541</td>\n",
       "</tr>\n",
       "<tr>\n",
       "  <th>Skew:</th>           <td> 1.921</td>  <th>  Prob(JB):          </th>  <td>    0.00</td>  \n",
       "</tr>\n",
       "<tr>\n",
       "  <th>Kurtosis:</th>       <td>72.261</td>  <th>  Cond. No.          </th>  <td>    107.</td>  \n",
       "</tr>\n",
       "</table>"
      ],
      "text/plain": [
       "<class 'statsmodels.iolib.summary.Summary'>\n",
       "\"\"\"\n",
       "                            OLS Regression Results                            \n",
       "==============================================================================\n",
       "Dep. Variable:         reciprocal_co2   R-squared:                       0.975\n",
       "Model:                            OLS   Adj. R-squared:                  0.975\n",
       "Method:                 Least Squares   F-statistic:                 2.804e+05\n",
       "Date:                Wed, 04 Apr 2018   Prob (F-statistic):               0.00\n",
       "Time:                        19:26:12   Log-Likelihood:                 56992.\n",
       "No. Observations:                7193   AIC:                        -1.140e+05\n",
       "Df Residuals:                    7191   BIC:                        -1.140e+05\n",
       "Df Model:                           1                                         \n",
       "Covariance Type:            nonrobust                                         \n",
       "==============================================================================\n",
       "                 coef    std err          t      P>|t|      [0.025      0.975]\n",
       "------------------------------------------------------------------------------\n",
       "const       6.764e-05   4.77e-06     14.182      0.000    5.83e-05     7.7e-05\n",
       "comb08         0.0001   2.06e-07    529.486      0.000       0.000       0.000\n",
       "==============================================================================\n",
       "Omnibus:                     4638.856   Durbin-Watson:                   1.511\n",
       "Prob(Omnibus):                  0.000   Jarque-Bera (JB):          1442146.541\n",
       "Skew:                           1.921   Prob(JB):                         0.00\n",
       "Kurtosis:                      72.261   Cond. No.                         107.\n",
       "==============================================================================\n",
       "\n",
       "Warnings:\n",
       "[1] Standard Errors assume that the covariance matrix of the errors is correctly specified.\n",
       "\"\"\""
      ]
     },
     "metadata": {},
     "output_type": "display_data"
    }
   ],
   "source": [
    "X = sm.add_constant(epa_non_linear[\"comb08\"])\n",
    "Y = epa_non_linear[\"reciprocal_co2\"]\n",
    "est = sm.OLS(Y, X)\n",
    "res = est.fit()\n",
    "display(res.summary())"
   ]
  },
  {
   "cell_type": "markdown",
   "metadata": {},
   "source": [
    "From the coefficient of determination, we see that the model produced a good fit. Adding the regression line to the existing scatter plot give the following plot."
   ]
  },
  {
   "cell_type": "code",
   "execution_count": 324,
   "metadata": {},
   "outputs": [
    {
     "data": {
      "image/png": "[encoded data removed]",
      "text/plain": [
       "<matplotlib.figure.Figure at 0x12a2c24a8>"
      ]
     },
     "execution_count": 324,
     "metadata": {},
     "output_type": "execute_result"
    }
   ],
   "source": [
    "abline_plot(model_results=res, ax=axes, color='r')"
   ]
  },
  {
   "cell_type": "markdown",
   "metadata": {},
   "source": [
    "We now need to transform the regression line to fit the original data.  Using the *params* property of the results we have the following constant term and coefficient."
   ]
  },
  {
   "cell_type": "code",
   "execution_count": 349,
   "metadata": {},
   "outputs": [
    {
     "data": {
      "text/plain": [
       "const     0.000068\n",
       "comb08    0.000109\n",
       "dtype: float64"
      ]
     },
     "execution_count": 349,
     "metadata": {},
     "output_type": "execute_result"
    }
   ],
   "source": [
    "res.params"
   ]
  },
  {
   "cell_type": "markdown",
   "metadata": {},
   "source": [
    "This means that our model is \n",
    "\n",
    "$$\n",
    "\\begin{array}{c}\n",
    "Y = \\frac{1}{0.000068 + 0.000109 X}\n",
    "\\end{array}\n",
    "$$\n",
    "\n",
    "We can calculate the predicted values from our model using the following code.  We use *sort_values()* to ensure that the values of the independent variable are in order. This will be important when we plot the curve; we didn't need to do this previously as we relied on the *abline_plot()* function, which handled this for us,"
   ]
  },
  {
   "cell_type": "code",
   "execution_count": 345,
   "metadata": {},
   "outputs": [],
   "source": [
    "prediction = 1/(res.params.const + res.params.comb08 * epa_subset.comb08.sort_values())\n"
   ]
  },
  {
   "cell_type": "markdown",
   "metadata": {},
   "source": [
    "We can now plot the model curve against our original data. "
   ]
  },
  {
   "cell_type": "code",
   "execution_count": 356,
   "metadata": {},
   "outputs": [
    {
     "data": {
      "text/plain": [
       "[<matplotlib.lines.Line2D at 0x132a302e8>]"
      ]
     },
     "execution_count": 356,
     "metadata": {},
     "output_type": "execute_result"
    },
    {
     "data": {
      "image/png": "[encoded data removed]",
      "text/plain": [
       "<matplotlib.figure.Figure at 0x13358d4a8>"
      ]
     },
     "metadata": {},
     "output_type": "display_data"
    }
   ],
   "source": [
    "fig, axes = plt.subplots(figsize=(12,10))\n",
    "axes.plot(epa_subset.comb08, epa_subset.co2, 'b+')\n",
    "axes.plot(epa_subset.comb08.sort_values(), prediction, 'r')"
   ]
  },
  {
   "cell_type": "markdown",
   "metadata": {},
   "source": [
    "## Logistic Regression"
   ]
  },
  {
   "cell_type": "markdown",
   "metadata": {},
   "source": [
    "A [logistic regression](https://en.wikipedia.org/wiki/Logistic_regression) is used to model data where the dependent variable is categorical. In the simplest case, the dependent variable is binary and has only two possible values.  A logistic model, provides an estimate of the probability that one of the two categories applies given the values of the independent variables.  We'll only look at simple case where the dependent variable is binary and there is only one independent variable."
   ]
  },
  {
   "cell_type": "markdown",
   "metadata": {},
   "source": [
    "### An Example "
   ]
  },
  {
   "cell_type": "markdown",
   "metadata": {},
   "source": [
    "As an example, consider the the following [example taken from the Wikipedia page on logistic regressions](https://en.wikipedia.org/wiki/Logistic_regression#Example:_Probability_of_passing_an_exam_versus_hours_of_study).  We have two variables: *hours* and *passed*.  The *hours* variable represents the number of hours a student spent studying for an exam and *passed* indicates whether or not the student passed the exam where `0` indicates failure and `1` indicates that the student passed; *hours* is a continuous variable and *passed* is a discrete, binary variable."
   ]
  },
  {
   "cell_type": "code",
   "execution_count": 333,
   "metadata": {},
   "outputs": [],
   "source": [
    "hours = [0.5, 0.75, 1.0, 1.25, 1.50, 1.75, 1.75, 2.0, 2.25, 2.5, 2.75, 3.0, 3.25, 3.5, 4.0, 4.25, 4.5, 4.75, 5.0, 5.5]\n",
    "passed = [0, 0, 0, 0, 0, 0, 1, 0, 1, 0, 1, 0, 1, 0, 1, 1, 1, 1, 1, 1]"
   ]
  },
  {
   "cell_type": "markdown",
   "metadata": {},
   "source": [
    "Plotting this data as a scatter plot give the following."
   ]
  },
  {
   "cell_type": "code",
   "execution_count": 334,
   "metadata": {},
   "outputs": [
    {
     "data": {
      "text/plain": [
       "[<matplotlib.lines.Line2D at 0x12dc2c390>]"
      ]
     },
     "execution_count": 334,
     "metadata": {},
     "output_type": "execute_result"
    },
    {
     "data": {
      "image/png": "[encoded data removed]",
      "text/plain": [
       "<matplotlib.figure.Figure at 0x1282e72b0>"
      ]
     },
     "metadata": {},
     "output_type": "display_data"
    }
   ],
   "source": [
    "plt.plot(hours, passed, 'b+')"
   ]
  },
  {
   "cell_type": "markdown",
   "metadata": {},
   "source": [
    "The logistic regression calculates values for $\\beta_0$ and $\\beta_1$ in the following formula\n",
    "\n",
    "$$\n",
    "\\begin{array}{c}\n",
    "P = \\frac{1}{1 + e^{-(\\beta_0 + \\beta_1 X)}}\n",
    "\\end{array}\n",
    "$$\n",
    "\n",
    "where $P$ is is a probability value between 0 and 1 and $X$ is the independent variable.\n",
    "\n",
    "We can use the StatsModels [*Logit()*](http://www.statsmodels.org/dev/generated/statsmodels.discrete.discrete_model.Logit.html) function to perform the logistic regression.  \n",
    "\n",
    "We have to reassign the value of `stats.chisqprob` due to a discrepancy between the StatsModels module and the libraries on which it depends."
   ]
  },
  {
   "cell_type": "code",
   "execution_count": 335,
   "metadata": {},
   "outputs": [
    {
     "name": "stdout",
     "output_type": "stream",
     "text": [
      "Optimization terminated successfully.\n",
      "         Current function value: 0.401494\n",
      "         Iterations 7\n"
     ]
    },
    {
     "data": {
      "text/html": [
       "<table class=\"simpletable\">\n",
       "<caption>Logit Regression Results</caption>\n",
       "<tr>\n",
       "  <th>Dep. Variable:</th>         <td>y</td>        <th>  No. Observations:  </th>  <td>    20</td>  \n",
       "</tr>\n",
       "<tr>\n",
       "  <th>Model:</th>               <td>Logit</td>      <th>  Df Residuals:      </th>  <td>    18</td>  \n",
       "</tr>\n",
       "<tr>\n",
       "  <th>Method:</th>               <td>MLE</td>       <th>  Df Model:          </th>  <td>     1</td>  \n",
       "</tr>\n",
       "<tr>\n",
       "  <th>Date:</th>          <td>Wed, 04 Apr 2018</td> <th>  Pseudo R-squ.:     </th>  <td>0.4208</td>  \n",
       "</tr>\n",
       "<tr>\n",
       "  <th>Time:</th>              <td>18:58:05</td>     <th>  Log-Likelihood:    </th> <td> -8.0299</td> \n",
       "</tr>\n",
       "<tr>\n",
       "  <th>converged:</th>           <td>True</td>       <th>  LL-Null:           </th> <td> -13.863</td> \n",
       "</tr>\n",
       "<tr>\n",
       "  <th> </th>                      <td> </td>        <th>  LLR p-value:       </th> <td>0.0006365</td>\n",
       "</tr>\n",
       "</table>\n",
       "<table class=\"simpletable\">\n",
       "<tr>\n",
       "    <td></td>       <th>coef</th>     <th>std err</th>      <th>z</th>      <th>P>|z|</th>  <th>[0.025</th>    <th>0.975]</th>  \n",
       "</tr>\n",
       "<tr>\n",
       "  <th>const</th> <td>   -4.0777</td> <td>    1.761</td> <td>   -2.316</td> <td> 0.021</td> <td>   -7.529</td> <td>   -0.626</td>\n",
       "</tr>\n",
       "<tr>\n",
       "  <th>x1</th>    <td>    1.5046</td> <td>    0.629</td> <td>    2.393</td> <td> 0.017</td> <td>    0.272</td> <td>    2.737</td>\n",
       "</tr>\n",
       "</table>"
      ],
      "text/plain": [
       "<class 'statsmodels.iolib.summary.Summary'>\n",
       "\"\"\"\n",
       "                           Logit Regression Results                           \n",
       "==============================================================================\n",
       "Dep. Variable:                      y   No. Observations:                   20\n",
       "Model:                          Logit   Df Residuals:                       18\n",
       "Method:                           MLE   Df Model:                            1\n",
       "Date:                Wed, 04 Apr 2018   Pseudo R-squ.:                  0.4208\n",
       "Time:                        18:58:05   Log-Likelihood:                -8.0299\n",
       "converged:                       True   LL-Null:                       -13.863\n",
       "                                        LLR p-value:                 0.0006365\n",
       "==============================================================================\n",
       "                 coef    std err          z      P>|z|      [0.025      0.975]\n",
       "------------------------------------------------------------------------------\n",
       "const         -4.0777      1.761     -2.316      0.021      -7.529      -0.626\n",
       "x1             1.5046      0.629      2.393      0.017       0.272       2.737\n",
       "==============================================================================\n",
       "\"\"\""
      ]
     },
     "metadata": {},
     "output_type": "display_data"
    }
   ],
   "source": [
    "from scipy import stats\n",
    "stats.chisqprob = lambda chisq, df: stats.chi2.sf(chisq, df)\n",
    "\n",
    "X = sm.add_constant(hours)\n",
    "logit_model=sm.Logit(passed,X)\n",
    "result=logit_model.fit()\n",
    "display(result.summary())"
   ]
  },
  {
   "cell_type": "markdown",
   "metadata": {},
   "source": [
    "We create the model in much the same way as we did for a linear model.  We specify the independent variable and add a constant using StatsModels' *add_constant()* function.  We next create a logistic model using the *Logit()* function.  To calculate the coefficients, we use model's *fit()* method.  After the calculation is complete, we can view a summary of the results.\n",
    "\n",
    "Just like the linear model, the results of the logistic model have a *predict()* method that give the model's predicted values based on the values of the independent variable.  We can use this to plot the logistic curve along with the scatter plot of the data. \n",
    "\n",
    "The model represents the probability of passing the exam given some number of hours spent studying."
   ]
  },
  {
   "cell_type": "code",
   "execution_count": 336,
   "metadata": {},
   "outputs": [
    {
     "data": {
      "text/plain": [
       "[<matplotlib.lines.Line2D at 0x121cd5668>]"
      ]
     },
     "execution_count": 336,
     "metadata": {},
     "output_type": "execute_result"
    },
    {
     "data": {
      "image/png": "[encoded data removed]",
      "text/plain": [
       "<matplotlib.figure.Figure at 0x12db726d8>"
      ]
     },
     "metadata": {},
     "output_type": "display_data"
    }
   ],
   "source": [
    "fig, axes = plt.subplots(figsize=(10,8))\n",
    "axes.plot(hours,passed, 'b+')\n",
    "axes.plot(hours, result.predict(), 'r-')\n"
   ]
  },
  {
   "cell_type": "markdown",
   "metadata": {},
   "source": [
    "### Home Data"
   ]
  },
  {
   "cell_type": "markdown",
   "metadata": {},
   "source": [
    "For an example with real data, consider the count auditor data we worked with previously.  We can load the data from our local database."
   ]
  },
  {
   "cell_type": "code",
   "execution_count": 368,
   "metadata": {},
   "outputs": [
    {
     "data": {
      "text/html": [
       "<div>\n",
       "<style scoped>\n",
       "    .dataframe tbody tr th:only-of-type {\n",
       "        vertical-align: middle;\n",
       "    }\n",
       "\n",
       "    .dataframe tbody tr th {\n",
       "        vertical-align: top;\n",
       "    }\n",
       "\n",
       "    .dataframe thead th {\n",
       "        text-align: right;\n",
       "    }\n",
       "</style>\n",
       "<table border=\"1\" class=\"dataframe\">\n",
       "  <thead>\n",
       "    <tr style=\"text-align: right;\">\n",
       "      <th></th>\n",
       "      <th>index</th>\n",
       "      <th>AirConditioning</th>\n",
       "      <th>AppraisedBuilding</th>\n",
       "      <th>AppraisedLand</th>\n",
       "      <th>Area</th>\n",
       "      <th>Bathrooms</th>\n",
       "      <th>Bedrooms</th>\n",
       "      <th>County</th>\n",
       "      <th>Fireplaces</th>\n",
       "      <th>Heat</th>\n",
       "      <th>Rooms</th>\n",
       "      <th>SalePrice</th>\n",
       "      <th>YearBuilt</th>\n",
       "    </tr>\n",
       "  </thead>\n",
       "  <tbody>\n",
       "    <tr>\n",
       "      <th>0</th>\n",
       "      <td>0</td>\n",
       "      <td>True</td>\n",
       "      <td>59600.0</td>\n",
       "      <td>8100.0</td>\n",
       "      <td>2264</td>\n",
       "      <td>2.0</td>\n",
       "      <td>4.0</td>\n",
       "      <td>Franklin</td>\n",
       "      <td>0.0</td>\n",
       "      <td>True</td>\n",
       "      <td>10.0</td>\n",
       "      <td>0.0</td>\n",
       "      <td>1925.0</td>\n",
       "    </tr>\n",
       "    <tr>\n",
       "      <th>1</th>\n",
       "      <td>1</td>\n",
       "      <td>True</td>\n",
       "      <td>69800.0</td>\n",
       "      <td>4600.0</td>\n",
       "      <td>1835</td>\n",
       "      <td>1.5</td>\n",
       "      <td>4.0</td>\n",
       "      <td>Franklin</td>\n",
       "      <td>1.0</td>\n",
       "      <td>True</td>\n",
       "      <td>7.0</td>\n",
       "      <td>50000.0</td>\n",
       "      <td>1919.0</td>\n",
       "    </tr>\n",
       "    <tr>\n",
       "      <th>2</th>\n",
       "      <td>2</td>\n",
       "      <td>True</td>\n",
       "      <td>60600.0</td>\n",
       "      <td>4900.0</td>\n",
       "      <td>1656</td>\n",
       "      <td>1.0</td>\n",
       "      <td>3.0</td>\n",
       "      <td>Franklin</td>\n",
       "      <td>0.0</td>\n",
       "      <td>True</td>\n",
       "      <td>7.0</td>\n",
       "      <td>64000.0</td>\n",
       "      <td>1925.0</td>\n",
       "    </tr>\n",
       "    <tr>\n",
       "      <th>3</th>\n",
       "      <td>3</td>\n",
       "      <td>True</td>\n",
       "      <td>31200.0</td>\n",
       "      <td>5000.0</td>\n",
       "      <td>1000</td>\n",
       "      <td>1.0</td>\n",
       "      <td>2.0</td>\n",
       "      <td>Franklin</td>\n",
       "      <td>0.0</td>\n",
       "      <td>True</td>\n",
       "      <td>5.0</td>\n",
       "      <td>0.0</td>\n",
       "      <td>1922.0</td>\n",
       "    </tr>\n",
       "    <tr>\n",
       "      <th>4</th>\n",
       "      <td>4</td>\n",
       "      <td>True</td>\n",
       "      <td>63300.0</td>\n",
       "      <td>4600.0</td>\n",
       "      <td>1306</td>\n",
       "      <td>2.0</td>\n",
       "      <td>4.0</td>\n",
       "      <td>Franklin</td>\n",
       "      <td>0.0</td>\n",
       "      <td>True</td>\n",
       "      <td>6.0</td>\n",
       "      <td>0.0</td>\n",
       "      <td>1948.0</td>\n",
       "    </tr>\n",
       "  </tbody>\n",
       "</table>\n",
       "</div>"
      ],
      "text/plain": [
       "   index  AirConditioning  AppraisedBuilding  AppraisedLand  Area  Bathrooms  \\\n",
       "0      0             True            59600.0         8100.0  2264        2.0   \n",
       "1      1             True            69800.0         4600.0  1835        1.5   \n",
       "2      2             True            60600.0         4900.0  1656        1.0   \n",
       "3      3             True            31200.0         5000.0  1000        1.0   \n",
       "4      4             True            63300.0         4600.0  1306        2.0   \n",
       "\n",
       "   Bedrooms    County  Fireplaces  Heat  Rooms  SalePrice  YearBuilt  \n",
       "0       4.0  Franklin         0.0  True   10.0        0.0     1925.0  \n",
       "1       4.0  Franklin         1.0  True    7.0    50000.0     1919.0  \n",
       "2       3.0  Franklin         0.0  True    7.0    64000.0     1925.0  \n",
       "3       2.0  Franklin         0.0  True    5.0        0.0     1922.0  \n",
       "4       4.0  Franklin         0.0  True    6.0        0.0     1948.0  "
      ]
     },
     "execution_count": 368,
     "metadata": {},
     "output_type": "execute_result"
    }
   ],
   "source": [
    "from sqlalchemy import create_engine\n",
    "engine = create_engine('sqlite:///data/output.sqlite')\n",
    "home_data = pd.read_sql(\"home_data\", con=engine)\n",
    "home_data.head()"
   ]
  },
  {
   "cell_type": "markdown",
   "metadata": {},
   "source": [
    "For this example, lets see if we can calculate the logistic model that gives the probability of a house having a fireplace given its area.  Currently, the dataset includes the the number of fireplaces a given property has; we need to convert values greater than zero to 1, indicating that there is a fireplace.  \n",
    "\n",
    "First, we drop any rows with missing data. Next, we create a new column, `HasFireplace` that is equal to the mask corresponding the `Fireplaces` being greater than zero. Masks return values of `True` or `False` and the *astype(int)* function call will convert the boolean value to an integer where `False` becomes 0 and `True` becomes 1. "
   ]
  },
  {
   "cell_type": "code",
   "execution_count": 369,
   "metadata": {},
   "outputs": [
    {
     "data": {
      "text/html": [
       "<div>\n",
       "<style scoped>\n",
       "    .dataframe tbody tr th:only-of-type {\n",
       "        vertical-align: middle;\n",
       "    }\n",
       "\n",
       "    .dataframe tbody tr th {\n",
       "        vertical-align: top;\n",
       "    }\n",
       "\n",
       "    .dataframe thead th {\n",
       "        text-align: right;\n",
       "    }\n",
       "</style>\n",
       "<table border=\"1\" class=\"dataframe\">\n",
       "  <thead>\n",
       "    <tr style=\"text-align: right;\">\n",
       "      <th></th>\n",
       "      <th>index</th>\n",
       "      <th>AirConditioning</th>\n",
       "      <th>AppraisedBuilding</th>\n",
       "      <th>AppraisedLand</th>\n",
       "      <th>Area</th>\n",
       "      <th>Bathrooms</th>\n",
       "      <th>Bedrooms</th>\n",
       "      <th>County</th>\n",
       "      <th>Fireplaces</th>\n",
       "      <th>Heat</th>\n",
       "      <th>Rooms</th>\n",
       "      <th>SalePrice</th>\n",
       "      <th>YearBuilt</th>\n",
       "      <th>HasFireplace</th>\n",
       "    </tr>\n",
       "  </thead>\n",
       "  <tbody>\n",
       "    <tr>\n",
       "      <th>0</th>\n",
       "      <td>0</td>\n",
       "      <td>True</td>\n",
       "      <td>59600.0</td>\n",
       "      <td>8100.0</td>\n",
       "      <td>2264</td>\n",
       "      <td>2.0</td>\n",
       "      <td>4.0</td>\n",
       "      <td>Franklin</td>\n",
       "      <td>0.0</td>\n",
       "      <td>True</td>\n",
       "      <td>10.0</td>\n",
       "      <td>0.0</td>\n",
       "      <td>1925.0</td>\n",
       "      <td>0</td>\n",
       "    </tr>\n",
       "    <tr>\n",
       "      <th>1</th>\n",
       "      <td>1</td>\n",
       "      <td>True</td>\n",
       "      <td>69800.0</td>\n",
       "      <td>4600.0</td>\n",
       "      <td>1835</td>\n",
       "      <td>1.5</td>\n",
       "      <td>4.0</td>\n",
       "      <td>Franklin</td>\n",
       "      <td>1.0</td>\n",
       "      <td>True</td>\n",
       "      <td>7.0</td>\n",
       "      <td>50000.0</td>\n",
       "      <td>1919.0</td>\n",
       "      <td>1</td>\n",
       "    </tr>\n",
       "    <tr>\n",
       "      <th>2</th>\n",
       "      <td>2</td>\n",
       "      <td>True</td>\n",
       "      <td>60600.0</td>\n",
       "      <td>4900.0</td>\n",
       "      <td>1656</td>\n",
       "      <td>1.0</td>\n",
       "      <td>3.0</td>\n",
       "      <td>Franklin</td>\n",
       "      <td>0.0</td>\n",
       "      <td>True</td>\n",
       "      <td>7.0</td>\n",
       "      <td>64000.0</td>\n",
       "      <td>1925.0</td>\n",
       "      <td>0</td>\n",
       "    </tr>\n",
       "    <tr>\n",
       "      <th>3</th>\n",
       "      <td>3</td>\n",
       "      <td>True</td>\n",
       "      <td>31200.0</td>\n",
       "      <td>5000.0</td>\n",
       "      <td>1000</td>\n",
       "      <td>1.0</td>\n",
       "      <td>2.0</td>\n",
       "      <td>Franklin</td>\n",
       "      <td>0.0</td>\n",
       "      <td>True</td>\n",
       "      <td>5.0</td>\n",
       "      <td>0.0</td>\n",
       "      <td>1922.0</td>\n",
       "      <td>0</td>\n",
       "    </tr>\n",
       "    <tr>\n",
       "      <th>4</th>\n",
       "      <td>4</td>\n",
       "      <td>True</td>\n",
       "      <td>63300.0</td>\n",
       "      <td>4600.0</td>\n",
       "      <td>1306</td>\n",
       "      <td>2.0</td>\n",
       "      <td>4.0</td>\n",
       "      <td>Franklin</td>\n",
       "      <td>0.0</td>\n",
       "      <td>True</td>\n",
       "      <td>6.0</td>\n",
       "      <td>0.0</td>\n",
       "      <td>1948.0</td>\n",
       "      <td>0</td>\n",
       "    </tr>\n",
       "  </tbody>\n",
       "</table>\n",
       "</div>"
      ],
      "text/plain": [
       "   index  AirConditioning  AppraisedBuilding  AppraisedLand  Area  Bathrooms  \\\n",
       "0      0             True            59600.0         8100.0  2264        2.0   \n",
       "1      1             True            69800.0         4600.0  1835        1.5   \n",
       "2      2             True            60600.0         4900.0  1656        1.0   \n",
       "3      3             True            31200.0         5000.0  1000        1.0   \n",
       "4      4             True            63300.0         4600.0  1306        2.0   \n",
       "\n",
       "   Bedrooms    County  Fireplaces  Heat  Rooms  SalePrice  YearBuilt  \\\n",
       "0       4.0  Franklin         0.0  True   10.0        0.0     1925.0   \n",
       "1       4.0  Franklin         1.0  True    7.0    50000.0     1919.0   \n",
       "2       3.0  Franklin         0.0  True    7.0    64000.0     1925.0   \n",
       "3       2.0  Franklin         0.0  True    5.0        0.0     1922.0   \n",
       "4       4.0  Franklin         0.0  True    6.0        0.0     1948.0   \n",
       "\n",
       "   HasFireplace  \n",
       "0             0  \n",
       "1             1  \n",
       "2             0  \n",
       "3             0  \n",
       "4             0  "
      ]
     },
     "execution_count": 369,
     "metadata": {},
     "output_type": "execute_result"
    }
   ],
   "source": [
    "home_data.dropna(inplace=True)\n",
    "home_data['HasFireplace'] = (home_data.Fireplaces > 0).astype(int)\n",
    "home_data.head()"
   ]
  },
  {
   "cell_type": "markdown",
   "metadata": {},
   "source": [
    "We can now create the scatter plot of `Area` and `HasFireplaces"
   ]
  },
  {
   "cell_type": "code",
   "execution_count": 371,
   "metadata": {},
   "outputs": [
    {
     "data": {
      "text/plain": [
       "<matplotlib.axes._subplots.AxesSubplot at 0x1334f16a0>"
      ]
     },
     "execution_count": 371,
     "metadata": {},
     "output_type": "execute_result"
    },
    {
     "data": {
      "image/png": "[encoded data removed]",
      "text/plain": [
       "<matplotlib.figure.Figure at 0x132dae0b8>"
      ]
     },
     "metadata": {},
     "output_type": "display_data"
    }
   ],
   "source": [
    "home_data.plot.scatter(x=\"Area\", y=\"HasFireplace\")"
   ]
  },
  {
   "cell_type": "markdown",
   "metadata": {},
   "source": [
    "Before creating the model, we sort the values of our independent variable; this will aid in plotting later."
   ]
  },
  {
   "cell_type": "code",
   "execution_count": 372,
   "metadata": {},
   "outputs": [],
   "source": [
    "home_data.sort_values(by=[\"Area\"], inplace=True)"
   ]
  },
  {
   "cell_type": "markdown",
   "metadata": {},
   "source": [
    "Creating the logistic model and calculating the regression coefficients is similar to the logistic model as we noted in the example."
   ]
  },
  {
   "cell_type": "code",
   "execution_count": 373,
   "metadata": {},
   "outputs": [
    {
     "name": "stdout",
     "output_type": "stream",
     "text": [
      "Optimization terminated successfully.\n",
      "         Current function value: 0.636377\n",
      "         Iterations 5\n"
     ]
    },
    {
     "data": {
      "text/html": [
       "<table class=\"simpletable\">\n",
       "<caption>Logit Regression Results</caption>\n",
       "<tr>\n",
       "  <th>Dep. Variable:</th>   <td>HasFireplace</td>   <th>  No. Observations:  </th>  <td> 39236</td> \n",
       "</tr>\n",
       "<tr>\n",
       "  <th>Model:</th>               <td>Logit</td>      <th>  Df Residuals:      </th>  <td> 39234</td> \n",
       "</tr>\n",
       "<tr>\n",
       "  <th>Method:</th>               <td>MLE</td>       <th>  Df Model:          </th>  <td>     1</td> \n",
       "</tr>\n",
       "<tr>\n",
       "  <th>Date:</th>          <td>Wed, 04 Apr 2018</td> <th>  Pseudo R-squ.:     </th>  <td>0.05027</td>\n",
       "</tr>\n",
       "<tr>\n",
       "  <th>Time:</th>              <td>19:32:38</td>     <th>  Log-Likelihood:    </th> <td> -24969.</td>\n",
       "</tr>\n",
       "<tr>\n",
       "  <th>converged:</th>           <td>True</td>       <th>  LL-Null:           </th> <td> -26291.</td>\n",
       "</tr>\n",
       "<tr>\n",
       "  <th> </th>                      <td> </td>        <th>  LLR p-value:       </th>  <td> 0.000</td> \n",
       "</tr>\n",
       "</table>\n",
       "<table class=\"simpletable\">\n",
       "<tr>\n",
       "    <td></td>       <th>coef</th>     <th>std err</th>      <th>z</th>      <th>P>|z|</th>  <th>[0.025</th>    <th>0.975]</th>  \n",
       "</tr>\n",
       "<tr>\n",
       "  <th>const</th> <td>   -1.7215</td> <td>    0.029</td> <td>  -59.697</td> <td> 0.000</td> <td>   -1.778</td> <td>   -1.665</td>\n",
       "</tr>\n",
       "<tr>\n",
       "  <th>Area</th>  <td>    0.0008</td> <td> 1.64e-05</td> <td>   47.992</td> <td> 0.000</td> <td>    0.001</td> <td>    0.001</td>\n",
       "</tr>\n",
       "</table>"
      ],
      "text/plain": [
       "<class 'statsmodels.iolib.summary.Summary'>\n",
       "\"\"\"\n",
       "                           Logit Regression Results                           \n",
       "==============================================================================\n",
       "Dep. Variable:           HasFireplace   No. Observations:                39236\n",
       "Model:                          Logit   Df Residuals:                    39234\n",
       "Method:                           MLE   Df Model:                            1\n",
       "Date:                Wed, 04 Apr 2018   Pseudo R-squ.:                 0.05027\n",
       "Time:                        19:32:38   Log-Likelihood:                -24969.\n",
       "converged:                       True   LL-Null:                       -26291.\n",
       "                                        LLR p-value:                     0.000\n",
       "==============================================================================\n",
       "                 coef    std err          z      P>|z|      [0.025      0.975]\n",
       "------------------------------------------------------------------------------\n",
       "const         -1.7215      0.029    -59.697      0.000      -1.778      -1.665\n",
       "Area           0.0008   1.64e-05     47.992      0.000       0.001       0.001\n",
       "==============================================================================\n",
       "\"\"\""
      ]
     },
     "metadata": {},
     "output_type": "display_data"
    }
   ],
   "source": [
    "X = sm.add_constant(home_data.Area)\n",
    "logit_model=sm.Logit(home_data.HasFireplace,X)\n",
    "result=logit_model.fit()\n",
    "display(result.summary())"
   ]
  },
  {
   "cell_type": "markdown",
   "metadata": {},
   "source": [
    "With the model created and the coefficients calculated, we can now plot the regression curve against the original data."
   ]
  },
  {
   "cell_type": "code",
   "execution_count": 375,
   "metadata": {},
   "outputs": [
    {
     "data": {
      "text/plain": [
       "[<matplotlib.lines.Line2D at 0x131bf39b0>]"
      ]
     },
     "execution_count": 375,
     "metadata": {},
     "output_type": "execute_result"
    },
    {
     "data": {
      "image/png": "[encoded data removed]",
      "text/plain": [
       "<matplotlib.figure.Figure at 0x133169dd8>"
      ]
     },
     "metadata": {},
     "output_type": "display_data"
    }
   ],
   "source": [
    "fig, axes = plt.subplots(figsize=(10,8))\n",
    "axes.plot(home_data.Area, home_data.HasFireplace, 'b+')\n",
    "axes.plot(home_data.Area, result.predict(), 'r-')\n"
   ]
  },
  {
   "cell_type": "markdown",
   "metadata": {},
   "source": [
    "The formula for the curve is given by\n",
    "\n",
    "\n",
    "$$\n",
    "\\begin{array}{c}\n",
    "P = \\frac{1}{1 + e^{-(-1.7215 + 0.0008 X)}}\n",
    "\\end{array}\n",
    "$$\n",
    "\n",
    "For a given area, we can calculate the probability that the house has a fireplace using this formula based on the model."
   ]
  },
  {
   "cell_type": "markdown",
   "metadata": {},
   "source": [
    "## Lab Answers\n"
   ]
  },
  {
   "cell_type": "markdown",
   "metadata": {},
   "source": [
    "## Next Steps"
   ]
  },
  {
   "cell_type": "markdown",
   "metadata": {},
   "source": [
    "The models we create can be used populate dashboards or included in reports. Later, we'll look at creating visualizations and reporting information. Model creation could also be an intermediate step in the analysis process; in a later unit we'll look at automating model creation."
   ]
  },
  {
   "cell_type": "markdown",
   "metadata": {},
   "source": [
    "## Resources and Further Reading"
   ]
  },
  {
   "cell_type": "markdown",
   "metadata": {},
   "source": [
    "- [Simple and Multiple Linear Regression in Python](https://towardsdatascience.com/simple-and-multiple-linear-regression-in-python-c928425168f9)\n",
    "- [Logistic Regression in Python Using Rodeo](http://blog.yhat.com/posts/logistic-regression-python-rodeo.html)\n",
    "- [Regression Analysis with Python by Massaron and Boschetti (Safari Books)](http://proquest.safaribooksonline.com.cscc.ohionet.org/book/programming/python/9781785286315)\n",
    "- [Data Science Algorithms in a Week by Natingga, Regression (Safari Books)](http://proquest.safaribooksonline.com.cscc.ohionet.org/book/programming/machine-learning/9781787284586/regression/1500cb6b_9703_4b4a_bffb_61da8fbd2e97_xhtml?uicode=ohlink)"
   ]
  },
  {
   "cell_type": "markdown",
   "metadata": {},
   "source": [
    "## Notes"
   ]
  },
  {
   "cell_type": "markdown",
   "metadata": {},
   "source": [
    "1. <a name=\"note-1\"></a> The null hypothesis being tested is that the variable associated with the coefficient has no effect on the dependent variable.  When the p-value is sufficiently low, typically less the 0.05, we reject the null hypothesis thereby accepting that the variable does have an effect on the dependent variable."
   ]
  },
  {
   "cell_type": "markdown",
   "metadata": {},
   "source": [
    "## Exercises"
   ]
  },
  {
   "cell_type": "markdown",
   "metadata": {},
   "source": [
    "1. Calculate the coefficients for a linear model relating two columns from the fuel economy or county auditor data not discussed in the examples. Create a scatter plot of the data along with a plot of the regression line.\n",
    "2. Calculate the coefficients for a logistic model relating two columns from the fuel economy or county auditor data not discussed in the examples. Create a scatter plot of the data along with a plot of the regression curve."
   ]
  },
  {
   "cell_type": "code",
   "execution_count": null,
   "metadata": {},
   "outputs": [],
   "source": []
  }
 ],
 "metadata": {
  "kernelspec": {
   "display_name": "Python 3",
   "language": "python",
   "name": "python3"
  },
  "language_info": {
   "codemirror_mode": {
    "name": "ipython",
    "version": 3
   },
   "file_extension": ".py",
   "mimetype": "text/x-python",
   "name": "python",
   "nbconvert_exporter": "python",
   "pygments_lexer": "ipython3",
   "version": "3.6.4"
  }
 },
 "nbformat": 4,
 "nbformat_minor": 2
}
