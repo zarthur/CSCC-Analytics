{
 "cells": [
  {
   "cell_type": "markdown",
   "metadata": {},
   "source": [
    "# Unit 7: Reporting and Dashboards\n",
    "\n",
    "## Contents\n",
    "\n",
    "### Lab Questions\n",
    "\n",
    "For this unit, the notebook itself will not contain lab questions.  Instead, we'll create visualizations in [Tableau](https://www.tableau.com/) in the second part of the unit.\n",
    "\n",
    "## Getting Started\n",
    "\n",
    "Source and processed data are often stored in databases.  End-users of this data typically don't access a database directly so disseminating information often requires extra steps.  In this unit, we'll examine two means of doing this: creating report file containing the information that can be distributed and creating dashboards that can be used to quickly convey information using visual elements.\n",
    "\n",
    "For reporting, we'll look at extracting data from a database to create an Word document.  For dashboard creation, we'll focus primarily on Tableau but discuss how we create dashboards using Python.\n",
    "\n",
    "We'll use some of the libraries we've used previously including SQLAlchemy and pandas but we'll also use a library the provides the ability to create Word files, [python-docx](https://python-docx.readthedocs.io/en/latest/); we can install the library with `pip`."
   ]
  },
  {
   "cell_type": "code",
   "execution_count": 2,
   "metadata": {},
   "outputs": [
    {
     "name": "stdout",
     "output_type": "stream",
     "text": [
      "Collecting python-docx\n",
      "  Downloading python-docx-0.8.6.tar.gz (5.3MB)\n",
      "\u001b[K    100% |████████████████████████████████| 5.3MB 284kB/s ta 0:00:011\n",
      "\u001b[?25hRequirement already satisfied: lxml>=2.3.2 in /usr/local/lib/python3.6/site-packages (from python-docx)\n",
      "Building wheels for collected packages: python-docx\n",
      "  Running setup.py bdist_wheel for python-docx ... \u001b[?25ldone\n",
      "\u001b[?25h  Stored in directory: /Users/arthur/Library/Caches/pip/wheels/cc/74/10/42b00d7d6a64cf21f194bfef9b94150009ada880f13c5b2ad3\n",
      "Successfully built python-docx\n",
      "Installing collected packages: python-docx\n",
      "Successfully installed python-docx-0.8.6\n"
     ]
    }
   ],
   "source": [
    "import sys\n",
    "!{sys.executable} -m pip install python-docx"
   ]
  },
  {
   "cell_type": "markdown",
   "metadata": {},
   "source": [
    "## Creating a Report\n",
    "\n",
    "A typical work flow in report generation is to extract data from a database, summarize it and perform other calculations as required, and create a document with the processed information - this is often a very manual process.  Here, we'll look at how we an complete this process using Python.  As an example, we'll work with the [Chinook](https://chinookdatabase.codeplex.com/) database to generate a report for summarizing sales that employees assisted with for each year recorded in the database.\n",
    "\n",
    "Recall that the database has the following tables and structure.\n",
    "\n",
    "<figure>\n",
    "  <img src=\"./images/01-chinook.png\" alt=\"Chinook database diagram\">\t\n",
    "  <figcaption style=\"text-align: center; font-weight: bold\">Diagram of the Chinook Database</figcaption>\n",
    "</figure>\n",
    "\n",
    "We need to connect employees with sales.  To this, we'll use the `Employee`, `Customer`, and `Invoice` tables. While we could retrieve the records of each row and join the tables in Python, it's generally preferable to do this in the database as it reduces the amount of data that has to be transfered from the database to the computer running the Python code.  \n",
    "\n",
    "Before getting the data for employees and sales, let's first look at the unique values for the `Title` column in the `Employee` table.  We can connect to the database using SQLAlchemy.  While we're only interested in seeing the distinct values at this point and don't need a DataFrame, working with pandas to execute the query results in simpler code."
   ]
  },
  {
   "cell_type": "code",
   "execution_count": 67,
   "metadata": {},
   "outputs": [
    {
     "data": {
      "text/html": [
       "<div>\n",
       "<style scoped>\n",
       "    .dataframe tbody tr th:only-of-type {\n",
       "        vertical-align: middle;\n",
       "    }\n",
       "\n",
       "    .dataframe tbody tr th {\n",
       "        vertical-align: top;\n",
       "    }\n",
       "\n",
       "    .dataframe thead th {\n",
       "        text-align: right;\n",
       "    }\n",
       "</style>\n",
       "<table border=\"1\" class=\"dataframe\">\n",
       "  <thead>\n",
       "    <tr style=\"text-align: right;\">\n",
       "      <th></th>\n",
       "      <th>Title</th>\n",
       "    </tr>\n",
       "  </thead>\n",
       "  <tbody>\n",
       "    <tr>\n",
       "      <th>0</th>\n",
       "      <td>General Manager</td>\n",
       "    </tr>\n",
       "    <tr>\n",
       "      <th>1</th>\n",
       "      <td>Sales Manager</td>\n",
       "    </tr>\n",
       "    <tr>\n",
       "      <th>2</th>\n",
       "      <td>Sales Support Agent</td>\n",
       "    </tr>\n",
       "    <tr>\n",
       "      <th>3</th>\n",
       "      <td>IT Manager</td>\n",
       "    </tr>\n",
       "    <tr>\n",
       "      <th>4</th>\n",
       "      <td>IT Staff</td>\n",
       "    </tr>\n",
       "  </tbody>\n",
       "</table>\n",
       "</div>"
      ],
      "text/plain": [
       "                 Title\n",
       "0      General Manager\n",
       "1        Sales Manager\n",
       "2  Sales Support Agent\n",
       "3           IT Manager\n",
       "4             IT Staff"
      ]
     },
     "execution_count": 67,
     "metadata": {},
     "output_type": "execute_result"
    }
   ],
   "source": [
    "import pandas as pd\n",
    "from sqlalchemy import create_engine\n",
    "\n",
    "engine = create_engine('sqlite:///data/01-chinook.sqlite')\n",
    "query = \"SELECT DISTINCT Title from Employee\"\n",
    "pd.read_sql(query, engine)"
   ]
  },
  {
   "cell_type": "markdown",
   "metadata": {},
   "source": [
    "Of the position titles, `Sales Support Agent` is likely the one for employees responsible for assisting with sales.  We can use the following SQL query to join the `Employee`, `Customer`, and `Invoice` tables while filtering the results based on the value of the `Title` field in the `Employee` table.\n",
    "\n",
    "```SQL\n",
    "SELECT Employee.EmployeeId, Employee.FirstName, \n",
    "    Employee.LastName, Invoice.Total, Invoice.InvoiceDate\n",
    "FROM Employee INNER JOIN (\n",
    "    Customer INNER JOIN Invoice\n",
    "    ON Customer.CustomerId = Invoice.CustomerId\n",
    ") ON Employee.EmployeeId = Customer.SupportRepId\n",
    "Where Employee.Title = 'Sales Support Agent'\n",
    "```\n",
    "\n",
    "We can again use pandas to execute the query."
   ]
  },
  {
   "cell_type": "code",
   "execution_count": 246,
   "metadata": {},
   "outputs": [
    {
     "data": {
      "text/plain": [
       "(412, 5)"
      ]
     },
     "metadata": {},
     "output_type": "display_data"
    },
    {
     "data": {
      "text/html": [
       "<div>\n",
       "<style scoped>\n",
       "    .dataframe tbody tr th:only-of-type {\n",
       "        vertical-align: middle;\n",
       "    }\n",
       "\n",
       "    .dataframe tbody tr th {\n",
       "        vertical-align: top;\n",
       "    }\n",
       "\n",
       "    .dataframe thead th {\n",
       "        text-align: right;\n",
       "    }\n",
       "</style>\n",
       "<table border=\"1\" class=\"dataframe\">\n",
       "  <thead>\n",
       "    <tr style=\"text-align: right;\">\n",
       "      <th></th>\n",
       "      <th>EmployeeId</th>\n",
       "      <th>FirstName</th>\n",
       "      <th>LastName</th>\n",
       "      <th>Total</th>\n",
       "      <th>InvoiceDate</th>\n",
       "    </tr>\n",
       "  </thead>\n",
       "  <tbody>\n",
       "    <tr>\n",
       "      <th>0</th>\n",
       "      <td>5</td>\n",
       "      <td>Steve</td>\n",
       "      <td>Johnson</td>\n",
       "      <td>1.98</td>\n",
       "      <td>2009-01-01 00:00:00</td>\n",
       "    </tr>\n",
       "    <tr>\n",
       "      <th>1</th>\n",
       "      <td>4</td>\n",
       "      <td>Margaret</td>\n",
       "      <td>Park</td>\n",
       "      <td>3.96</td>\n",
       "      <td>2009-01-02 00:00:00</td>\n",
       "    </tr>\n",
       "    <tr>\n",
       "      <th>2</th>\n",
       "      <td>4</td>\n",
       "      <td>Margaret</td>\n",
       "      <td>Park</td>\n",
       "      <td>5.94</td>\n",
       "      <td>2009-01-03 00:00:00</td>\n",
       "    </tr>\n",
       "    <tr>\n",
       "      <th>3</th>\n",
       "      <td>5</td>\n",
       "      <td>Steve</td>\n",
       "      <td>Johnson</td>\n",
       "      <td>8.91</td>\n",
       "      <td>2009-01-06 00:00:00</td>\n",
       "    </tr>\n",
       "    <tr>\n",
       "      <th>4</th>\n",
       "      <td>4</td>\n",
       "      <td>Margaret</td>\n",
       "      <td>Park</td>\n",
       "      <td>13.86</td>\n",
       "      <td>2009-01-11 00:00:00</td>\n",
       "    </tr>\n",
       "  </tbody>\n",
       "</table>\n",
       "</div>"
      ],
      "text/plain": [
       "   EmployeeId FirstName LastName  Total          InvoiceDate\n",
       "0           5     Steve  Johnson   1.98  2009-01-01 00:00:00\n",
       "1           4  Margaret     Park   3.96  2009-01-02 00:00:00\n",
       "2           4  Margaret     Park   5.94  2009-01-03 00:00:00\n",
       "3           5     Steve  Johnson   8.91  2009-01-06 00:00:00\n",
       "4           4  Margaret     Park  13.86  2009-01-11 00:00:00"
      ]
     },
     "metadata": {},
     "output_type": "display_data"
    }
   ],
   "source": [
    "query = \"\"\"\n",
    "SELECT Employee.EmployeeId, Employee.FirstName, \n",
    "    Employee.LastName, Invoice.Total, Invoice.InvoiceDate\n",
    "FROM Employee INNER JOIN (\n",
    "    Customer INNER JOIN Invoice\n",
    "    ON Customer.CustomerId = Invoice.CustomerId\n",
    ") ON Employee.EmployeeId = Customer.SupportRepId\n",
    "Where Employee.Title = 'Sales Support Agent'\n",
    "\"\"\"\n",
    "\n",
    "engine = create_engine('sqlite:///data/01-chinook.sqlite')\n",
    "sales_data = pd.read_sql_query(query, engine)\n",
    "\n",
    "display(sales_data.shape)\n",
    "display(sales_data.head())"
   ]
  },
  {
   "cell_type": "markdown",
   "metadata": {},
   "source": [
    "Each record in the result corresponds to an invoice. For our sales report, we'll calculate the aggregate sales by year for each employee using a pivot table.  To simplify the pivot table and report, we'll create a new column, `Name`, that combines the first and last name for each record. \n",
    "\n",
    "We'll also extract the year from each `InvoiceDate`.  The date data returned from the database is stored as an *Object* so we'll need to use pandas' [*to_datetime()*](https://pandas.pydata.org/pandas-docs/stable/generated/pandas.to_datetime.html) function to convert the type before extracting the year.  Alternatively, we could extract the year substring from the original string itself."
   ]
  },
  {
   "cell_type": "code",
   "execution_count": 247,
   "metadata": {},
   "outputs": [
    {
     "data": {
      "text/html": [
       "<div>\n",
       "<style scoped>\n",
       "    .dataframe tbody tr th:only-of-type {\n",
       "        vertical-align: middle;\n",
       "    }\n",
       "\n",
       "    .dataframe tbody tr th {\n",
       "        vertical-align: top;\n",
       "    }\n",
       "\n",
       "    .dataframe thead th {\n",
       "        text-align: right;\n",
       "    }\n",
       "</style>\n",
       "<table border=\"1\" class=\"dataframe\">\n",
       "  <thead>\n",
       "    <tr style=\"text-align: right;\">\n",
       "      <th></th>\n",
       "      <th>EmployeeId</th>\n",
       "      <th>FirstName</th>\n",
       "      <th>LastName</th>\n",
       "      <th>Total</th>\n",
       "      <th>InvoiceDate</th>\n",
       "      <th>Name</th>\n",
       "      <th>InvoiceYear</th>\n",
       "    </tr>\n",
       "  </thead>\n",
       "  <tbody>\n",
       "    <tr>\n",
       "      <th>0</th>\n",
       "      <td>5</td>\n",
       "      <td>Steve</td>\n",
       "      <td>Johnson</td>\n",
       "      <td>1.98</td>\n",
       "      <td>2009-01-01 00:00:00</td>\n",
       "      <td>Johnson, Steve</td>\n",
       "      <td>2009</td>\n",
       "    </tr>\n",
       "    <tr>\n",
       "      <th>1</th>\n",
       "      <td>4</td>\n",
       "      <td>Margaret</td>\n",
       "      <td>Park</td>\n",
       "      <td>3.96</td>\n",
       "      <td>2009-01-02 00:00:00</td>\n",
       "      <td>Park, Margaret</td>\n",
       "      <td>2009</td>\n",
       "    </tr>\n",
       "    <tr>\n",
       "      <th>2</th>\n",
       "      <td>4</td>\n",
       "      <td>Margaret</td>\n",
       "      <td>Park</td>\n",
       "      <td>5.94</td>\n",
       "      <td>2009-01-03 00:00:00</td>\n",
       "      <td>Park, Margaret</td>\n",
       "      <td>2009</td>\n",
       "    </tr>\n",
       "    <tr>\n",
       "      <th>3</th>\n",
       "      <td>5</td>\n",
       "      <td>Steve</td>\n",
       "      <td>Johnson</td>\n",
       "      <td>8.91</td>\n",
       "      <td>2009-01-06 00:00:00</td>\n",
       "      <td>Johnson, Steve</td>\n",
       "      <td>2009</td>\n",
       "    </tr>\n",
       "    <tr>\n",
       "      <th>4</th>\n",
       "      <td>4</td>\n",
       "      <td>Margaret</td>\n",
       "      <td>Park</td>\n",
       "      <td>13.86</td>\n",
       "      <td>2009-01-11 00:00:00</td>\n",
       "      <td>Park, Margaret</td>\n",
       "      <td>2009</td>\n",
       "    </tr>\n",
       "  </tbody>\n",
       "</table>\n",
       "</div>"
      ],
      "text/plain": [
       "   EmployeeId FirstName LastName  Total          InvoiceDate            Name  \\\n",
       "0           5     Steve  Johnson   1.98  2009-01-01 00:00:00  Johnson, Steve   \n",
       "1           4  Margaret     Park   3.96  2009-01-02 00:00:00  Park, Margaret   \n",
       "2           4  Margaret     Park   5.94  2009-01-03 00:00:00  Park, Margaret   \n",
       "3           5     Steve  Johnson   8.91  2009-01-06 00:00:00  Johnson, Steve   \n",
       "4           4  Margaret     Park  13.86  2009-01-11 00:00:00  Park, Margaret   \n",
       "\n",
       "   InvoiceYear  \n",
       "0         2009  \n",
       "1         2009  \n",
       "2         2009  \n",
       "3         2009  \n",
       "4         2009  "
      ]
     },
     "execution_count": 247,
     "metadata": {},
     "output_type": "execute_result"
    }
   ],
   "source": [
    "sales_data['Name'] = sales_data.LastName + \", \" + sales_data.FirstName\n",
    "sales_data['InvoiceYear'] = pd.to_datetime(sales_data.InvoiceDate).dt.year.astype(int)\n",
    "sales_data.head()"
   ]
  },
  {
   "cell_type": "markdown",
   "metadata": {},
   "source": [
    "For the pivot table, we'll use `Name` as the index. We'll aggregate the values in the `Total` column and use the years in`InvoiceYear` as columns."
   ]
  },
  {
   "cell_type": "code",
   "execution_count": 248,
   "metadata": {},
   "outputs": [
    {
     "data": {
      "text/html": [
       "<div>\n",
       "<style scoped>\n",
       "    .dataframe tbody tr th:only-of-type {\n",
       "        vertical-align: middle;\n",
       "    }\n",
       "\n",
       "    .dataframe tbody tr th {\n",
       "        vertical-align: top;\n",
       "    }\n",
       "\n",
       "    .dataframe thead tr th {\n",
       "        text-align: left;\n",
       "    }\n",
       "\n",
       "    .dataframe thead tr:last-of-type th {\n",
       "        text-align: right;\n",
       "    }\n",
       "</style>\n",
       "<table border=\"1\" class=\"dataframe\">\n",
       "  <thead>\n",
       "    <tr>\n",
       "      <th></th>\n",
       "      <th colspan=\"5\" halign=\"left\">Total</th>\n",
       "    </tr>\n",
       "    <tr>\n",
       "      <th>InvoiceYear</th>\n",
       "      <th>2009</th>\n",
       "      <th>2010</th>\n",
       "      <th>2011</th>\n",
       "      <th>2012</th>\n",
       "      <th>2013</th>\n",
       "    </tr>\n",
       "    <tr>\n",
       "      <th>Name</th>\n",
       "      <th></th>\n",
       "      <th></th>\n",
       "      <th></th>\n",
       "      <th></th>\n",
       "      <th></th>\n",
       "    </tr>\n",
       "  </thead>\n",
       "  <tbody>\n",
       "    <tr>\n",
       "      <th>Johnson, Steve</th>\n",
       "      <td>164.34</td>\n",
       "      <td>136.77</td>\n",
       "      <td>159.47</td>\n",
       "      <td>133.73</td>\n",
       "      <td>125.85</td>\n",
       "    </tr>\n",
       "    <tr>\n",
       "      <th>Park, Margaret</th>\n",
       "      <td>161.37</td>\n",
       "      <td>122.76</td>\n",
       "      <td>125.77</td>\n",
       "      <td>197.20</td>\n",
       "      <td>168.30</td>\n",
       "    </tr>\n",
       "    <tr>\n",
       "      <th>Peacock, Jane</th>\n",
       "      <td>123.75</td>\n",
       "      <td>221.92</td>\n",
       "      <td>184.34</td>\n",
       "      <td>146.60</td>\n",
       "      <td>156.43</td>\n",
       "    </tr>\n",
       "  </tbody>\n",
       "</table>\n",
       "</div>"
      ],
      "text/plain": [
       "                 Total                                \n",
       "InvoiceYear       2009    2010    2011    2012    2013\n",
       "Name                                                  \n",
       "Johnson, Steve  164.34  136.77  159.47  133.73  125.85\n",
       "Park, Margaret  161.37  122.76  125.77  197.20  168.30\n",
       "Peacock, Jane   123.75  221.92  184.34  146.60  156.43"
      ]
     },
     "execution_count": 248,
     "metadata": {},
     "output_type": "execute_result"
    }
   ],
   "source": [
    "sales_pivot = sales_data.pivot_table(\n",
    "    index = ['Name'],\n",
    "    values = ['Total'],\n",
    "    columns = ['InvoiceYear'],\n",
    "    aggfunc = pd.np.sum\n",
    ")\n",
    "\n",
    "sales_pivot"
   ]
  },
  {
   "cell_type": "markdown",
   "metadata": {},
   "source": [
    "Now that we have the aggregate sales data, we can generate a report document.  Having installed *python-docx* earlier, we can import it. We'll start by creating an instance of the [*Document*](https://python-docx.readthedocs.io/en/latest/api/document.html) class. "
   ]
  },
  {
   "cell_type": "code",
   "execution_count": 266,
   "metadata": {},
   "outputs": [],
   "source": [
    "import docx\n",
    "\n",
    "sales_report = docx.Document()"
   ]
  },
  {
   "cell_type": "markdown",
   "metadata": {},
   "source": [
    "As demonstrated in the python-docx [documentation](https://python-docx.readthedocs.io/en/latest/user/quickstart.html), there is a wide variety of content we can add to a document.  Our report will be somewhat simple, containing an image, some text, a table, and a chart. \n",
    "\n",
    "The image we'll use is our company's logo in [./images/07-logo.png](./images/07-logo.png).\n",
    "\n",
    "<figure>\n",
    "  <img src=\"./images/07-logo.png\" alt=\"report logo\" style=\"width: 30%;\">\t\n",
    "  <figcaption style=\"text-align: center; font-weight: bold;\">Company Logo</figcaption>\n",
    "</figure>\n",
    "\n",
    "To add the image, we use the [*add_picture()*](https://python-docx.readthedocs.io/en/latest/api/document.html#docx.document.Document.add_picture) method, specifying the path to the image file and, optionally, the desired width or height; the library will automatically scale the other dimension to maintain the original image's aspect ratio. To specify a size, we use one of many [length objects](https://python-docx.readthedocs.io/en/latest/api/shared.html#length-objects) provided by python-docx; we'll use the *Inches* class. "
   ]
  },
  {
   "cell_type": "code",
   "execution_count": 267,
   "metadata": {},
   "outputs": [
    {
     "data": {
      "text/plain": [
       "<docx.shape.InlineShape at 0x11f321160>"
      ]
     },
     "execution_count": 267,
     "metadata": {},
     "output_type": "execute_result"
    }
   ],
   "source": [
    "sales_report.add_picture('./images/07-logo.png', \n",
    "                         width=docx.shared.Inches(1.0))"
   ]
  },
  {
   "cell_type": "markdown",
   "metadata": {},
   "source": [
    "Next, we add a heading and a small paragraph of text using the [*add_heading()*](https://python-docx.readthedocs.io/en/latest/api/document.html#docx.document.Document.add_heading) and [*add_paragraph()*](https://python-docx.readthedocs.io/en/latest/api/document.html#docx.document.Document.add_paragraph) methods, respectively."
   ]
  },
  {
   "cell_type": "code",
   "execution_count": 268,
   "metadata": {},
   "outputs": [
    {
     "data": {
      "text/plain": [
       "<docx.text.paragraph.Paragraph at 0x11ef914a8>"
      ]
     },
     "execution_count": 268,
     "metadata": {},
     "output_type": "execute_result"
    }
   ],
   "source": [
    "paragraph = \"The following a summary of sales with which \" \\\n",
    "            \"a sales support agent assisted. This summary \" \\\n",
    "            \"provides aggregate sales amounts for each agent by year.\"\n",
    "\n",
    "sales_report.add_heading(\"Sales Summary\")\n",
    "sales_report.add_paragraph(paragraph)"
   ]
  },
  {
   "cell_type": "markdown",
   "metadata": {},
   "source": [
    "Next, we'll add a table with data from the pandas pivot table. Adding a table is slightly more complicated than adding an image or text.  First, we create a table using the [*add_table()*](https://python-docx.readthedocs.io/en/latest/api/document.html#docx.document.Document.add_table) method, specifying the number of rows and columns and, optionally, the style.  We'll store the object returned by the method so we can iterate through it and add values to the table.  Iterating through the table object will allow us to access each row, one at a time.  Iterating through a row, is similar to moving through the columns - giving us access to the cells of the row. We can also access an individual cell using the table's [*cell()*](https://python-docx.readthedocs.io/en/latest/api/table.html#docx.table.Table.cell) method. The cell method returns an object with a *text* property that can be used to assign a value to the cell.  Note that the value must be a string.\n",
    "\n",
    "We'll need to iterate through two tables - reading from the pivot table and writing to the document table - so we'll have to be careful about our loop variables and the values they represent.  It is easier to iterate through the DataFrame and use the table's *cell()* method than iterating through the table and accessing values in the DataFrame."
   ]
  },
  {
   "cell_type": "code",
   "execution_count": 269,
   "metadata": {},
   "outputs": [],
   "source": [
    "# rows, columns of data in pivot table\n",
    "rows, columns = sales_pivot.shape\n",
    "\n",
    "# add 1 for header row and column\n",
    "report_table = sales_report.add_table(rows+1, columns+1,\n",
    "                                     style = \"Medium List 2 Accent 1\")\n",
    "\n",
    "# use header_row, header_col for header row, column numbers \n",
    "header_row = 0\n",
    "header_col = 0\n",
    "\n",
    "# add header\n",
    "report_table.cell(header_row, header_col).text = \"Name\"\n",
    "for col_index, col_name in enumerate(sales_pivot['Total'].columns):\n",
    "    # convert integer data to string\n",
    "    report_table.cell(header_row, col_index+1).text = str(col_name)\n",
    "    \n",
    "# iterate through pivot_table data\n",
    "for row_index, (name, row_data) in enumerate(sales_pivot.iterrows()):\n",
    "    # add column header\n",
    "    report_table.cell(row_index+1, header_col).text = name\n",
    "        \n",
    "    # iterate through pivot table row data\n",
    "    for (col_index, col_data) in enumerate(row_data):\n",
    "        # format the data for the cell\n",
    "        cell_value = str(round(col_data, 2))\n",
    "        report_table.cell(row_index+1, col_index+1).text = cell_value"
   ]
  },
  {
   "cell_type": "markdown",
   "metadata": {},
   "source": [
    "We start by getting the shape of the pivot table in terms of the number of rows and columns it contains.  These values do not include the DataFrame's index or column name so we add 1 to the values when creating the document's table.  When we do create the table, we also specify a style.\n",
    "\n",
    "We set a value for `header_row` and `header_col` to represent the row index and column index for the headers; using a named variable makes the code easier to read than if we had used `0` when we needed to.  \n",
    "\n",
    "Next, we begin adding data.  We start with the header row.  The first value in the header row is the label for the column headers - `Name`.  We iterate through the column names of the pivot data for the `Total` values - each of the years - and use these as the remaining values in the header row.  The first value in each row corresponds to the employee's name which comes from the pivot table's index.  The remaining values for the row are from the pivot table's row data.  \n",
    "\n",
    "We used enumerate throughout to keep track of which row and column we were working in.  We had to add one to the values because pandas only counts data rows and column - not the headers. \n",
    "\n",
    "Unfortunately, the python-docx library doesn't support charts.  While there are other libraries, such as [*DocxFactory*](https://pypi.python.org/pypi/DocxFactory/1.2.5), that support this ,they can requires steps beyond using `pip` to install.  We'll instead create a chart in Python and embed it in the document as an image.\n",
    "\n",
    "We begin by in-ling all plots."
   ]
  },
  {
   "cell_type": "code",
   "execution_count": 270,
   "metadata": {},
   "outputs": [],
   "source": [
    "%matplotlib inline"
   ]
  },
  {
   "cell_type": "markdown",
   "metadata": {},
   "source": [
    "We'll specify some formatting properties.  First, we set the figure size.  When we embed the image in the document, we'll specify a width a six inches. To avoid excessive pixelation, we'll set plotting figures to have a slightly greater width of eight inches. To maintain a rectangular aspect ratio, we'll set the plotting height to six inches.\n",
    "\n",
    "We'll also set the Seaborn [style](https://seaborn.pydata.org/tutorial/aesthetics.html) to one that will look better in a document that might be printed."
   ]
  },
  {
   "cell_type": "code",
   "execution_count": 271,
   "metadata": {},
   "outputs": [],
   "source": [
    "import seaborn as sns\n",
    "sns.set(rc={'figure.figsize':(8,6)})\n",
    "sns.set_style(\"whitegrid\")"
   ]
  },
  {
   "cell_type": "markdown",
   "metadata": {},
   "source": [
    "Next, we create a line plot from the pivot table.  To correctly plot the data, we need to specify that we're interested in the `Total` values as opposed to another set of values (even though there are no others) and we have to transpose the table to swap which variable is used to create different lines and which is used for values of the horizontal axis.  We also explicitly specify the x-axis tick labels - relying on automatic generation will create decimal year values like `2010.5`.  "
   ]
  },
  {
   "cell_type": "code",
   "execution_count": 272,
   "metadata": {},
   "outputs": [
    {
     "data": {
      "image/png": "[encoded data removed]",
      "text/plain": [
       "<matplotlib.figure.Figure at 0x11f5f2a20>"
      ]
     },
     "metadata": {},
     "output_type": "display_data"
    }
   ],
   "source": [
    "x_ticks = sales_pivot['Total'].columns.values\n",
    "sales_plot = sales_pivot['Total'].transpose().plot(xticks=x_ticks)"
   ]
  },
  {
   "cell_type": "markdown",
   "metadata": {},
   "source": [
    "In order to insert the image into the document, we have to save it as a file.  Because we only need the file for a short time until we insert it into the document, we'll create a temporary file using the [*tempfile*](https://docs.python.org/3.6/library/tempfile.html) module.  We import this module with the [*os*](https://docs.python.org/3.6/library/os.html) module.  To create the temporary file, we get the path to directory used for temporary files using [*tempfile.gettempdir()*](https://docs.python.org/3.6/library/tempfile.html#tempfile.gettempdir); depending on the operating system the content of the temporary directory is deleted periodically. To specify the path to a file within in this directory, we use the [*os.path.join()*](https://docs.python.org/3.6/library/os.path.html#os.path.join) function to combine the directory path with a desired filename.  \n",
    "\n",
    "In order to save the image of the plot, we need to use the corresponding [*Figure*](https://matplotlib.org/api/_as_gen/matplotlib.figure.Figure.html) object used to displat the plot.  The return value of the DataFrame's plotting method is an [*Axes*](https://matplotlib.org/api/axes_api.html) object that gives us access to most of the plots properties such as axis and line properties.  To get the *Figure* from an *Axes* object, we can use the *Axes* [*get_figure()*](https://matplotlib.org/api/_as_gen/matplotlib.axes.Axes.get_figure.html#matplotlib.axes.Axes.get_figure) method.  Once we have the *Figure* object, we can use its [*savefig()*](https://matplotlib.org/api/_as_gen/matplotlib.figure.Figure.html#matplotlib.figure.Figure.savefig) method to save the plot as an image file. "
   ]
  },
  {
   "cell_type": "code",
   "execution_count": 273,
   "metadata": {},
   "outputs": [],
   "source": [
    "import os\n",
    "import tempfile\n",
    "\n",
    "temp_file = os.path.join(tempfile.gettempdir(), \"chart.png\")\n",
    "fig = sales_plot.get_figure()\n",
    "fig.savefig(temp_file)"
   ]
  },
  {
   "cell_type": "markdown",
   "metadata": {},
   "source": [
    "Now that we have an image file for the plot, we can embed it in the document.  We'll specify the image's width as six inches."
   ]
  },
  {
   "cell_type": "code",
   "execution_count": 274,
   "metadata": {},
   "outputs": [
    {
     "data": {
      "text/plain": [
       "<docx.shape.InlineShape at 0x11f1b4d30>"
      ]
     },
     "execution_count": 274,
     "metadata": {},
     "output_type": "execute_result"
    }
   ],
   "source": [
    "sales_report.add_picture(temp_file, \n",
    "                         width=docx.shared.Inches(6))"
   ]
  },
  {
   "cell_type": "markdown",
   "metadata": {},
   "source": [
    "Finally, we save the document to a file using the *Document* [*save()*](https://python-docx.readthedocs.io/en/latest/api/document.html#docx.document.Document.save) method along with the desired file location."
   ]
  },
  {
   "cell_type": "code",
   "execution_count": 275,
   "metadata": {},
   "outputs": [],
   "source": [
    "sales_report.save(\"./data/07-report.docx\")"
   ]
  },
  {
   "cell_type": "markdown",
   "metadata": {},
   "source": [
    "We can access the file using this link: [./data/07-report.docx](./data/07-report.docx)."
   ]
  },
  {
   "cell_type": "markdown",
   "metadata": {},
   "source": [
    "## Dashboards\n",
    "\n",
    "While reports are often used to present summary information with supporting details in the form of a narrative, there is often a need for access to more-frequently-updated summary information.  One way of delivering this information is through the use of dashboards.  Dashboards are typically presented through a website or some other interactive medium that allows users to quickly and easily determine the state of [performance indicators](https://en.wikipedia.org/wiki/Performance_indicator). \n",
    "\n",
    "\n",
    "### Creating Dashboards in Tableau\n",
    "\n",
    "In Tableau, dashboards are generally a collection of visualizations - to create a dashboard, we must first create worksheets containing visualizations of interest.  For this example, we'll work with the [Lending Club](https://www.lendingclub.com/info/download-data.action) load data available at [./data/01-loan.csv](./data/01-loan.csv).  The first dashboard we create will allow users to view loan amount and status by state.\n",
    "\n",
    "If necessary, download the data.  Open Tableau and load the data file.  We'll need to create two worksheets.  The first, which we can name *AmntByState* will summarize loan amount by state.  To create this visualization, we'll use `Addr State` as data for *Marks* that are used for \"detail\".  We can use `Loan Amnt` as *Marks* data as well but used to indicate \"color\". Tableau should automatically display a map with each state shaded with a different color depending on the amount of loans issued for that state.  To simplify the map, we'll exclude Alaska and Hawaii; to do this, drag `Addr State` to the *Filters* area and uncheck `Ak`and `Hi`. Double-click the title and change it to \"Amount by State\". We should now have a visualization similar to the one in the following image.\n",
    "\n",
    "<figure>\n",
    "    <img src=\"./images/07-tableau-amntbystate.png\" alt=\"Loan amount by state\">\n",
    "      <figcaption style=\"text-align: center; font-weight: bold\">Loan Amount By State</figcaption>\n",
    "</figure>\n",
    "\n",
    "Our next visualization will present a stacked bar chart that presents loan amount by year separated into components based on loan status.  To create this chart, we first change the data type of `Issue D` to \"Date & Time\" and use it for column values.  Row values will be based on the sum of `Loan Amnt`; we can create a filter to allow only non-null values of `Loan Amnt`.  To create a stacked bar chart, first change the marks to \"Bar\" and drag `Loan Status` to *Marks*; select the \"Color\" option for `Loan Status`. Chane the title to \"Loan Amount\". We should now have a visualization similar to the one in the following image.\n",
    "\n",
    "<figure>\n",
    "    <img src=\"./images/07-tableau-amntbyyear.png\" alt=\"Loan amount by year\">\n",
    "      <figcaption style=\"text-align: center; font-weight: bold\">Loan Amount By Year</figcaption>\n",
    "</figure>\n",
    "\n",
    "To create a dashboard using these visualization, click the *New Dashboard* tab; this creates an empty dashboard. We can name the dashboard \"Loan Amount\".  On the left, we can see a list of our existing visualizations.  Drag the *AmntByState* visualization to the area labeled `Drop Sheets Here`; the visualization fills the space.  Next, drag the *AmntByYear* visualization to the lower half of the area filled with the other visualization.  When you see that the lower half of the area is covered in a transparent gray box, drop the visualization; this splits the area between the two visualizations.\n",
    "\n",
    "<figure>\n",
    "    <img src=\"./images/07-tableau-amntdashboard-1.png\" alt=\"two visualizations\">\n",
    "      <figcaption style=\"text-align: center; font-weight: bold\">Dashboard with Two Visualizations</figcaption>\n",
    "</figure>\n",
    "\n",
    "Notice that the legends for each visualization appear grouped together on the right. We can move each legend closer to its corresponding visualization.  Click on the legend for geographic visualization.  On the right, there is a set of buttons including an arrow to access a menu.  In this menu is a \"Floating\" option.  Select this option and move the legend to the white space corresponding to the Atlantic Ocean.  We can drag the other legend to the area blow the bar chart. After moving it, use its drop-down menu to select \"Arrange Items\" and \"Single Row\".\n",
    "\n",
    "<figure>\n",
    "    <img src=\"./images/07-tableau-amntdashboard-2.png\" alt=\"two visualizations with positioned legends\">\n",
    "      <figcaption style=\"text-align: center; font-weight: bold\">Dashboard with Two Visualizations</figcaption>\n",
    "</figure>\n",
    "\n",
    "Finally, to add some interactivity, click the \"Use as filter\" button for the first visualization. \n",
    "\n",
    "<figure>\n",
    "    <img src=\"./images/07-tableau-filter.png\" alt=\"use as filter\">\n",
    "      <figcaption style=\"text-align: center; font-weight: bold\">Use as Filter</figcaption>\n",
    "</figure>\n",
    "\n",
    "This will cause the other visualizations that depend on the same data to be updated when we select a state in the first visualization - this allows us to see state-specific yearly data.\n",
    "\n",
    "<figure>\n",
    "    <img src=\"./images/07-tableau-amntdashboard-final.png\" alt=\"two visualizations with filter\">\n",
    "      <figcaption style=\"text-align: center; font-weight: bold\">Interactive Visualization</figcaption>\n",
    "</figure>\n"
   ]
  },
  {
   "cell_type": "markdown",
   "metadata": {},
   "source": [
    " ## Next Steps\n",
    "\n",
    "In the next unit, we'll begin to look at how we can automate some of the work we've done in previous units.  An automated process could be used to generate reports or to refresh the data used to populate a dashboard.\n",
    "\n",
    "## Resources and Further Reading\n",
    "\n",
    "- [Automate the Boring Stuff by Sweigart, Chapter 13: Working with PDF and Word Documents](https://automatetheboringstuff.com/chapter13/)\n",
    "- [Openpyxl - A Python library to read/write Excel 2010 xlsx/xlsm files](https://openpyxl.readthedocs.io/en/stable/)\n",
    "- [Plotly HTML Reports in Python](https://plot.ly/python/html-reports/)\n",
    "- [python-pptx - A Python library for creating and updating PowerPoint files](https://python-pptx.readthedocs.io/en/latest/)\n",
    "- [Information Dashboard Design by Few](https://archive.org/details/pdfy--fQ3cC8TeDUArgti)\n",
    "- [Tableau - Best Practices for Effective Dashboards](https://onlinehelp.tableau.com/current/pro/desktop/en-us/dashboards_best_practices.html?tocpath=Design%20Views%20and%20Analyze%20Data%7CPresent%20Your%20Work%7CDashboards%7C_____1)\n",
    "- [Tableau Dashboard Cookbook by Stirrup (Safari Books)](http://proquest.safaribooksonline.com.cscc.ohionet.org/book/databases/business-intelligence/9781782177906)\n",
    "\n",
    "## Exercise\n"
   ]
  },
  {
   "cell_type": "code",
   "execution_count": null,
   "metadata": {},
   "outputs": [],
   "source": []
  }
 ],
 "metadata": {
  "kernelspec": {
   "display_name": "Python 3",
   "language": "python",
   "name": "python3"
  },
  "language_info": {
   "codemirror_mode": {
    "name": "ipython",
    "version": 3
   },
   "file_extension": ".py",
   "mimetype": "text/x-python",
   "name": "python",
   "nbconvert_exporter": "python",
   "pygments_lexer": "ipython3",
   "version": "3.6.4"
  }
 },
 "nbformat": 4,
 "nbformat_minor": 2
}
