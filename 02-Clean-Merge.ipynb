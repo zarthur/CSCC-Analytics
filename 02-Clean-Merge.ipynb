{
 "cells": [
  {
   "cell_type": "markdown",
   "metadata": {},
   "source": [
    "# Lesson 2: Cleaning and Merging\n",
    "\n",
    "[Previous Lesson](01-Requirements-Data-Identification.ipynb) [Next Lesson](02-Clean-Merge.ipynb)\n",
    "\n",
    "## Contents\n",
    "\n",
    "\n",
    "## Getting Started\n"
   ]
  },
  {
   "cell_type": "code",
   "execution_count": 66,
   "metadata": {},
   "outputs": [],
   "source": [
    "import linecache\n",
    "import random\n",
    "\n",
    "def get_line_count(input_file):\n",
    "    \"\"\"Count number of lines in a file\"\"\"\n",
    "    count = 0\n",
    "    with open(input_file) as infile:\n",
    "        for line in infile:\n",
    "            count += 1\n",
    "    return count\n",
    "\n",
    "def sample_file(input_file, output_file, fraction=0.1):\n",
    "    \"\"\"Exctract a subset of lines from a file\"\"\"\n",
    "    total_line_count = get_line_count(input_file)\n",
    "    sample_line_count = int(fraction * total_line_count)\n",
    "    sample_line_numbers = random.sample(range(1, total_line_count), sample_line_count)\n",
    "    sample_line_numbers.sort()\n",
    "    sample_line_numbers.insert(0, 0)\n",
    "    with open(output_file, 'w') as outfile:\n",
    "        for line_number in sample_line_numbers:\n",
    "            line = linecache.getline(input_file, line_number + 1)\n",
    "            outfile.write(line)\n",
    "                    \n",
    "        "
   ]
  },
  {
   "cell_type": "code",
   "execution_count": 49,
   "metadata": {},
   "outputs": [
    {
     "name": "stdout",
     "output_type": "stream",
     "text": [
      "\"PID\",\"AEXMLND\",\"AEXMBLD\",\"AEXMTOT\",\"APPRLND\",\"APPRBLD\",\"APPRTOT\",\"AUDMAP\",\"AUDRTG\",\"LANDUSE\",\"CAUV\",\"SCHOOL\",\"HOMSTD\",\"MAILAD1\",\"MAILAD2\",\"MAILAD3\",\"MAILAD4\",\"TRANDT\",\"TRANYR\",\"NAME1\",\"NAME2\",\"NAME3\",\"OWNER_ADD1\",\"OWNER_ADD2\",\"NBRHD\",\"FLOOD\",\"PCLASS\",\"NOCARDS\",\"ACREA\",\"PRICE\",\"ANN_TAX\",\"STHNUM\",\"STCONT\",\"STHSFX\",\"STDIRE\",\"STNAME\",\"STSFX\",\"STADDR\",\"USPS_CITY\",\"STATE\",\"ZIPCODE\",\"DESCR1\",\"DESCR2\",\"DESCR3\",\"TAXDESI\",\"VALID\",\"AREA_A\",\"DWELTYP\",\"ROOMS\",\"BATHS\",\"HBATHS\",\"BEDRMS\",\"AIRCOND\",\"CINBRHD\",\"COND\",\"FIREPLC\",\"GRADE\",\"HEIGHT\",\"NOSTORY\",\"YEARBLT\",\"PROPTYP\",\"WALL\",\"TIFMLND\",\"TIFMBLD\",\"POINT_X\",\"POINT_Y\"\n",
      "\n",
      "\"010-020705\",0.00,0.00,0.00,8100.00,59600.00,67700.00,\"D013\",10.00,520,\".00\",2503,,\"MIDWEST LOAN SERVICES\",,\"616 SHELDEN AVE STE 300\",\"HOUGHTON MI 49931-1841\",3/22/2016 0:00:00,2016,\"NORRIS ROBIN R\",\"HUGO ROBIN\",,\"246 ELDON AVE\",\"COLUMBUS OH         43204\",94.00,,\"R\",\"1\",0.00,0.00,1455.02,\"244\",\"-\",\"246\",\"N\",\"ELDON\",\"AV\",\"244 - 246 N ELDON AV\",\"COLUMBUS\",\"OH\",43204,\"244-6 ELDON AVE\",\"HILL CREST PARK\",\"LOT 24\",\"CITY OF COLUMBUS\",\"N\",2264,\"1\",10,2,0,4,1,,,,\"C\",\"DUPLEX\",\"20\",\"1925\",,\"WD/ALUM/VINYL\",0.00,0.00,1809670.02,714541.95\n",
      "\n",
      "\"010-020716\",0.00,0.00,0.00,4600.00,69800.00,74400.00,\"D021\",11.00,510,\".00\",2503,,\"TINA L CALDWELL\",\"JAMES P KLAUSMAN\",\"189 ELDON AVE\",\"COLUMBUS OH 43204-3706\",4/16/1996 0:00:00,1996,\"CALDWELL TINA L\",\"JAMES P KLAUSMAN\",,,,94.00,,\"R\",\"1\",0.00,50000.00,1578.72,\"189\",,,\"N\",\"ELDON\",\"AV\",\"189 N ELDON AV\",\"COLUMBUS\",\"OH\",43204,\"189 N ELDEN AVE\",\"HILL CREST PARK\",\"LOT 39\",\"CITY OF COLUMBUS\",\"Y\",1835,\"1\",7,1,1,4,1,,,\"1\",\"C\",\"OLD STYLE\",\"20\",\"1919\",,\"WD/ALUM/VINYL\",0.00,0.00,1809445.97,714129.83\n",
      "\n",
      "\"010-020713\",0.00,0.00,0.00,4900.00,60600.00,65500.00,\"D013\",18.00,510,\".00\",2503,,\"WELLS FARGO REAL ESTATE\",\"MAC X2302-04D\",\"1 HOME CAMPUS\",\"DES MOINES IA 50328-0001\",3/13/2015 0:00:00,2015,\"CROYLE STEVE V\",,,\"202 ELDON AVE\",\"COLUMBUS OH         43204\",94.00,,\"R\",\"1\",0.00,64000.00,1390.16,\"202\",,,\"N\",\"ELDON\",\"AV\",\"202 N ELDON AV\",\"COLUMBUS\",\"OH\",43204,\"202 ELDON AVE\",\"HILLCREST PK\",\"LOT 32\",\"CITY OF COLUMBUS\",\"Y\",1656,\"1\",7,1,0,3,1,,,,\"C\",\"OLD STYLE\",\"20\",\"1925\",,\"WD/ALUM/VINYL\",0.00,0.00,1809641.41,714204.64\n",
      "\n",
      "\"010-020784\",0.00,0.00,0.00,5800.00,0.00,5800.00,\"D004\",12.00,510,\".00\",2503,,\"HUNTINGTON MORTGAGE CORP\",,\"PO BOX 182661\",\"COLUMBUS OH 43218-2661\",9/18/2006 0:00:00,2006,\"TERRY DAVID G\",\"TERRY CONSTANCE E\",,\"2450 WESTWOOD DR\",\"COLUMBUS OH         43204\",94.00,,\"R\",,0.00,134000.00,126.20,,,,,\"WESTWOOD\",\"DR\",\"WESTWOOD DR\",\"COLUMBUS\",\"OH\",43204,\"N S WESTWOOD DR\",\"HILLCREST PARK\",\"LOT 124\",\"CITY OF COLUMBUS\",\"Y\",0,,0,0,0,0,0,,,,,,,,,,0.00,0.00,1809302.85,715262.74\n",
      "\n"
     ]
    }
   ],
   "source": [
    "from itertools import islice\n",
    "\n",
    "with open(\"./data/02-franklin.csv\") as infile:\n",
    "    head = list(islice(infile, 5))\n",
    "\n",
    "for line in head:\n",
    "    print(line)"
   ]
  },
  {
   "cell_type": "code",
   "execution_count": 50,
   "metadata": {},
   "outputs": [],
   "source": [
    "import pandas as pd\n",
    "franklin = pd.read_csv('./data/02-franklin.csv')"
   ]
  },
  {
   "cell_type": "code",
   "execution_count": 52,
   "metadata": {},
   "outputs": [
    {
     "data": {
      "text/html": [
       "<div>\n",
       "<style scoped>\n",
       "    .dataframe tbody tr th:only-of-type {\n",
       "        vertical-align: middle;\n",
       "    }\n",
       "\n",
       "    .dataframe tbody tr th {\n",
       "        vertical-align: top;\n",
       "    }\n",
       "\n",
       "    .dataframe thead th {\n",
       "        text-align: right;\n",
       "    }\n",
       "</style>\n",
       "<table border=\"1\" class=\"dataframe\">\n",
       "  <thead>\n",
       "    <tr style=\"text-align: right;\">\n",
       "      <th></th>\n",
       "      <th>PID</th>\n",
       "      <th>AEXMLND</th>\n",
       "      <th>AEXMBLD</th>\n",
       "      <th>AEXMTOT</th>\n",
       "      <th>APPRLND</th>\n",
       "      <th>APPRBLD</th>\n",
       "      <th>APPRTOT</th>\n",
       "      <th>AUDMAP</th>\n",
       "      <th>AUDRTG</th>\n",
       "      <th>LANDUSE</th>\n",
       "      <th>...</th>\n",
       "      <th>GRADE</th>\n",
       "      <th>HEIGHT</th>\n",
       "      <th>NOSTORY</th>\n",
       "      <th>YEARBLT</th>\n",
       "      <th>PROPTYP</th>\n",
       "      <th>WALL</th>\n",
       "      <th>TIFMLND</th>\n",
       "      <th>TIFMBLD</th>\n",
       "      <th>POINT_X</th>\n",
       "      <th>POINT_Y</th>\n",
       "    </tr>\n",
       "  </thead>\n",
       "  <tbody>\n",
       "    <tr>\n",
       "      <th>0</th>\n",
       "      <td>010-020705</td>\n",
       "      <td>0.0</td>\n",
       "      <td>0.0</td>\n",
       "      <td>0.0</td>\n",
       "      <td>8100.0</td>\n",
       "      <td>59600.0</td>\n",
       "      <td>67700.0</td>\n",
       "      <td>D013</td>\n",
       "      <td>10.0</td>\n",
       "      <td>520</td>\n",
       "      <td>...</td>\n",
       "      <td>C</td>\n",
       "      <td>DUPLEX</td>\n",
       "      <td>20.0</td>\n",
       "      <td>1925.0</td>\n",
       "      <td>NaN</td>\n",
       "      <td>WD/ALUM/VINYL</td>\n",
       "      <td>0.0</td>\n",
       "      <td>0.0</td>\n",
       "      <td>1809670.02</td>\n",
       "      <td>714541.95</td>\n",
       "    </tr>\n",
       "    <tr>\n",
       "      <th>1</th>\n",
       "      <td>010-020716</td>\n",
       "      <td>0.0</td>\n",
       "      <td>0.0</td>\n",
       "      <td>0.0</td>\n",
       "      <td>4600.0</td>\n",
       "      <td>69800.0</td>\n",
       "      <td>74400.0</td>\n",
       "      <td>D021</td>\n",
       "      <td>11.0</td>\n",
       "      <td>510</td>\n",
       "      <td>...</td>\n",
       "      <td>C</td>\n",
       "      <td>OLD STYLE</td>\n",
       "      <td>20.0</td>\n",
       "      <td>1919.0</td>\n",
       "      <td>NaN</td>\n",
       "      <td>WD/ALUM/VINYL</td>\n",
       "      <td>0.0</td>\n",
       "      <td>0.0</td>\n",
       "      <td>1809445.97</td>\n",
       "      <td>714129.83</td>\n",
       "    </tr>\n",
       "    <tr>\n",
       "      <th>2</th>\n",
       "      <td>010-020713</td>\n",
       "      <td>0.0</td>\n",
       "      <td>0.0</td>\n",
       "      <td>0.0</td>\n",
       "      <td>4900.0</td>\n",
       "      <td>60600.0</td>\n",
       "      <td>65500.0</td>\n",
       "      <td>D013</td>\n",
       "      <td>18.0</td>\n",
       "      <td>510</td>\n",
       "      <td>...</td>\n",
       "      <td>C</td>\n",
       "      <td>OLD STYLE</td>\n",
       "      <td>20.0</td>\n",
       "      <td>1925.0</td>\n",
       "      <td>NaN</td>\n",
       "      <td>WD/ALUM/VINYL</td>\n",
       "      <td>0.0</td>\n",
       "      <td>0.0</td>\n",
       "      <td>1809641.41</td>\n",
       "      <td>714204.64</td>\n",
       "    </tr>\n",
       "    <tr>\n",
       "      <th>3</th>\n",
       "      <td>010-020784</td>\n",
       "      <td>0.0</td>\n",
       "      <td>0.0</td>\n",
       "      <td>0.0</td>\n",
       "      <td>5800.0</td>\n",
       "      <td>0.0</td>\n",
       "      <td>5800.0</td>\n",
       "      <td>D004</td>\n",
       "      <td>12.0</td>\n",
       "      <td>510</td>\n",
       "      <td>...</td>\n",
       "      <td>NaN</td>\n",
       "      <td>NaN</td>\n",
       "      <td>NaN</td>\n",
       "      <td>NaN</td>\n",
       "      <td>NaN</td>\n",
       "      <td>NaN</td>\n",
       "      <td>0.0</td>\n",
       "      <td>0.0</td>\n",
       "      <td>1809302.85</td>\n",
       "      <td>715262.74</td>\n",
       "    </tr>\n",
       "    <tr>\n",
       "      <th>4</th>\n",
       "      <td>010-020773</td>\n",
       "      <td>0.0</td>\n",
       "      <td>0.0</td>\n",
       "      <td>0.0</td>\n",
       "      <td>5000.0</td>\n",
       "      <td>31200.0</td>\n",
       "      <td>36200.0</td>\n",
       "      <td>D004</td>\n",
       "      <td>8.0</td>\n",
       "      <td>510</td>\n",
       "      <td>...</td>\n",
       "      <td>C-1</td>\n",
       "      <td>RANCH</td>\n",
       "      <td>10.0</td>\n",
       "      <td>1922.0</td>\n",
       "      <td>NaN</td>\n",
       "      <td>WD/ALUM/VINYL</td>\n",
       "      <td>0.0</td>\n",
       "      <td>0.0</td>\n",
       "      <td>1808870.83</td>\n",
       "      <td>715286.02</td>\n",
       "    </tr>\n",
       "  </tbody>\n",
       "</table>\n",
       "<p>5 rows × 66 columns</p>\n",
       "</div>"
      ],
      "text/plain": [
       "          PID  AEXMLND  AEXMBLD  AEXMTOT  APPRLND  APPRBLD  APPRTOT AUDMAP  \\\n",
       "0  010-020705      0.0      0.0      0.0   8100.0  59600.0  67700.0   D013   \n",
       "1  010-020716      0.0      0.0      0.0   4600.0  69800.0  74400.0   D021   \n",
       "2  010-020713      0.0      0.0      0.0   4900.0  60600.0  65500.0   D013   \n",
       "3  010-020784      0.0      0.0      0.0   5800.0      0.0   5800.0   D004   \n",
       "4  010-020773      0.0      0.0      0.0   5000.0  31200.0  36200.0   D004   \n",
       "\n",
       "   AUDRTG  LANDUSE    ...      GRADE     HEIGHT NOSTORY YEARBLT PROPTYP  \\\n",
       "0    10.0      520    ...          C     DUPLEX    20.0  1925.0     NaN   \n",
       "1    11.0      510    ...          C  OLD STYLE    20.0  1919.0     NaN   \n",
       "2    18.0      510    ...          C  OLD STYLE    20.0  1925.0     NaN   \n",
       "3    12.0      510    ...        NaN        NaN     NaN     NaN     NaN   \n",
       "4     8.0      510    ...        C-1      RANCH    10.0  1922.0     NaN   \n",
       "\n",
       "            WALL TIFMLND TIFMBLD     POINT_X    POINT_Y  \n",
       "0  WD/ALUM/VINYL     0.0     0.0  1809670.02  714541.95  \n",
       "1  WD/ALUM/VINYL     0.0     0.0  1809445.97  714129.83  \n",
       "2  WD/ALUM/VINYL     0.0     0.0  1809641.41  714204.64  \n",
       "3            NaN     0.0     0.0  1809302.85  715262.74  \n",
       "4  WD/ALUM/VINYL     0.0     0.0  1808870.83  715286.02  \n",
       "\n",
       "[5 rows x 66 columns]"
      ]
     },
     "execution_count": 52,
     "metadata": {},
     "output_type": "execute_result"
    }
   ],
   "source": [
    "franklin.head()"
   ]
  },
  {
   "cell_type": "code",
   "execution_count": 53,
   "metadata": {},
   "outputs": [
    {
     "data": {
      "text/plain": [
       "['PID',\n",
       " 'AEXMLND',\n",
       " 'AEXMBLD',\n",
       " 'AEXMTOT',\n",
       " 'APPRLND',\n",
       " 'APPRBLD',\n",
       " 'APPRTOT',\n",
       " 'AUDMAP',\n",
       " 'AUDRTG',\n",
       " 'LANDUSE',\n",
       " 'CAUV',\n",
       " 'SCHOOL',\n",
       " 'HOMSTD',\n",
       " 'MAILAD1',\n",
       " 'MAILAD2',\n",
       " 'MAILAD3',\n",
       " 'MAILAD4',\n",
       " 'TRANDT',\n",
       " 'TRANYR',\n",
       " 'NAME1',\n",
       " 'NAME2',\n",
       " 'NAME3',\n",
       " 'OWNER_ADD1',\n",
       " 'OWNER_ADD2',\n",
       " 'NBRHD',\n",
       " 'FLOOD',\n",
       " 'PCLASS',\n",
       " 'NOCARDS',\n",
       " 'ACREA',\n",
       " 'PRICE',\n",
       " 'ANN_TAX',\n",
       " 'STHNUM',\n",
       " 'STCONT',\n",
       " 'STHSFX',\n",
       " 'STDIRE',\n",
       " 'STNAME',\n",
       " 'STSFX',\n",
       " 'STADDR',\n",
       " 'USPS_CITY',\n",
       " 'STATE',\n",
       " 'ZIPCODE',\n",
       " 'DESCR1',\n",
       " 'DESCR2',\n",
       " 'DESCR3',\n",
       " 'TAXDESI',\n",
       " 'VALID',\n",
       " 'AREA_A',\n",
       " 'DWELTYP',\n",
       " 'ROOMS',\n",
       " 'BATHS',\n",
       " 'HBATHS',\n",
       " 'BEDRMS',\n",
       " 'AIRCOND',\n",
       " 'CINBRHD',\n",
       " 'COND',\n",
       " 'FIREPLC',\n",
       " 'GRADE',\n",
       " 'HEIGHT',\n",
       " 'NOSTORY',\n",
       " 'YEARBLT',\n",
       " 'PROPTYP',\n",
       " 'WALL',\n",
       " 'TIFMLND',\n",
       " 'TIFMBLD',\n",
       " 'POINT_X',\n",
       " 'POINT_Y']"
      ]
     },
     "execution_count": 53,
     "metadata": {},
     "output_type": "execute_result"
    }
   ],
   "source": [
    "franklin.columns.tolist()"
   ]
  },
  {
   "cell_type": "code",
   "execution_count": 65,
   "metadata": {},
   "outputs": [
    {
     "data": {
      "text/html": [
       "\n",
       "        <iframe\n",
       "            width=\"800\"\n",
       "            height=\"600\"\n",
       "            src=\"./data/02-franklin-description.pdf\"\n",
       "            frameborder=\"0\"\n",
       "            allowfullscreen\n",
       "        ></iframe>\n",
       "        "
      ],
      "text/plain": [
       "<IPython.lib.display.IFrame at 0x121c44358>"
      ]
     },
     "execution_count": 65,
     "metadata": {},
     "output_type": "execute_result"
    }
   ],
   "source": [
    "from IPython.display import IFrame\n",
    "IFrame(\"./data/02-franklin-description.pdf\", 800, 600)\n"
   ]
  },
  {
   "cell_type": "code",
   "execution_count": 69,
   "metadata": {},
   "outputs": [
    {
     "name": "stdout",
     "output_type": "stream",
     "text": [
      "fldParcelID;fldParcelNo;fldRoutingNo;fldOwner;fldCardNo;fldMaxCards;fldRecheck;fldSchoolDistrict;fldTaxDistrict;fldLegalDesc;fldLocationAddress;fldNeighborhood;fldPropertyType;fldLUC;fldTopo;fldAccess;fldUtilities;fldNotes;fldNotes2;fldMarketLand;fldMarketImprov;fldMarketTotal;fldCAUVLand;fldCAUVImprov;fldCAUVTotal;fldSketchPath;fldStyle;fldStories;fldExterior;fldHeating;fldCooling;fldBasement;fldFullBaths;fldHalfBaths;fldOtherBaths;fldAttic;fldAtticHeating;fldRooms;fldBedrooms;fldFamilyRooms;fldDiningRooms;fldLivingRooms;fldFinishedLivingArea;fldFinishedBasementArea;fldYearBuilt;fldEffYearBuilt;fldYearRemodeled;fldCondition;fldGrade;fldBasementGarage;fldFireplaceOpenings;fldFireplaceStacks;fldFirstFloorArea;fldFirstFloorCost;fldUpperFloorArea;fldUpperFloorCost;fldAtticArea;fldAtticCost;fldHalfFloorArea;fldHalfFloorCost;fldFinishedBasementCost;fldUnfinishedLivingArea;fldUnfinishedLivingCost;fldCrawlArea;fldCrawlCost;fldBasementArea;fldBasementCost;fldBasementGarageArea;fldBasementGarageCost;fldExtWallArea;fldExtWallCost;fldHeatingArea;fldHeatingCost;fldCoolingArea;fldCoolingCost;fldPlumbingArea;fldPlumbingCost;fldFireplaceArea;fldFireplaceCost;fldIdenticalMultiplierCount;fldIdenticalMultiplierCost;fldEnhancementArea;fldEnhancementCost;fldFeaturesArea;fldFeaturesCost;fldSubTotalBeforeGrade;fldGradeArea;fldGradeCost;fldCostFactorArea;fldCostFactorCost;fldUngradedFeaturesArea;fldUngradedFeaturesCost;fldRCN;fldDepreciation;fldDepreciationOverride;fldDepreciationArea;fldObsolesence;fldObsolesenceArea;fldImprovements;fldRCNLD;fldImprovementsTotal;fldFVC;fldWellSeptic;fldWellSepticValue;fldValueHistoryYear1;fldValueHistoryYear2;fldValueHistoryYear3;fldValueHistoryLand1;fldValueHistoryLand2;fldValueHistoryLand3;fldValueHistoryImprov1;fldValueHistoryImprov2;fldValueHistoryImprov3;fldValueHistoryTotal1;fldValueHistoryTotal2;fldValueHistoryTotal3;fldSalesDate1;fldSalesDate2;fldSalesDate3;fldSalesDate4;fldSalesNoParcels1;fldSalesNoParcels2;fldSalesNoParcels3;fldSalesNoParcels4;fldSalesType1;fldSalesType2;fldSalesType3;fldSalesType4;fldSalesPrice1;fldSalesPrice2;fldSalesPrice3;fldSalesPrice4;fldSalesConveyance1;fldSalesConveyance2;fldSalesConveyance3;fldSalesConveyance4;fldSalesValid1;fldSalesValid2;fldSalesValid3;fldSalesValid4;fldSalesLandOnly1;fldSalesLandOnly2;fldSalesLandOnly3;fldSalesLandOnly4;fldSalesPrevOwner1;fldSalesPrevOwner2;fldSalesPrevOwner3;fldSalesPrevOwner4;fldFeatureTotal;fldLandTotal;fldImprovTotal;fldEnhancementTotal;fldTaxYear;fldSubtotal;fldAdditionalInspections;fldAdditionalEnhancements;fldAdditionalFeatures;fldAdditionalLand;fldAdditionalImprovements;fldNeighAdj;fldNeighAdjArea;fldCard1Total;fldCard2Total;fldCard3Total;fldCard4Total;fldCard5Total;fldParcelTotal;fldPicPath;fldAcreageTotal;fldSortOrder;fldCropTotal;fldWoodsTotal;fldNotFarmedTotal;fldConservationTotal;fldNeighAdjLandOverride;fldNeighAdjAreaLand;fldMailingAddress1;fldMailingAddress2;fldMailingAddress3;fldMailingAddress4;fldMailingAddress5\n",
      "\n",
      "35;001-000066-00.009;001-006.00-120.000;HARDY RONALD J & LINDA B;1;1;No;NORTHRIDGE LSD;001 - BENNINGTON T-NRDGE LSD;LOT 10 PT   3.68 AC;8713 BENNER RD;06700 Bennington-T;Dwelling;511 Single family unplatted 0-09.9;;;2578 Electric Gas Well Septic;;;50300;138100;188400;0;0;0;C:\\tempPRCsketch.bmp;Single Family;1;Frame;Central Warm Air;Central;Full Basement;2.0;;;None;;6.0;3.0;;0.0;;1,790;0;2002;2002;;Average;90;;;;1,790;115,400;0;0;0;0;0;0;0;0;0;0;0;1,790;30,600;0;0;;0;;0;;5,400;;4,500;S(0), O(0);0;1;1;;15,400;;0;171,300;90;-17,130;100;0;;;166,200;-33,240;No;20;0;0.00000;;133,000;5,100;138,100;Well/Septic;12,000;2016;2015;2014;41,300;41,300;41,300;141,500;141,500;141,500;182,800;182,800;182,800;06/07/2001;11/01/2000;07/06/1999;;1;4;4;;FD - FIDUCIARY;EX - EXEMPT CONVEYANCE;EX - EXEMPT CONVEYANCE;;32000.00;0.00;0.00;;01721     ;99999     ;99999     ;;Y;N;N;;Y;Y;Y;;BEVIER MARLENE M TRUSTEE;SHARROCK LORI S TRUSTEE;Refer to deed;;;50,300;5,100;15,400;2017;146,000;No;No;No;No;No;0;100;138,100;0;0;0;0;138,100;;3.68;35;;;;;No;100.00;;;HARDY RONALD J & LINDA B;8713 BENNER RD ;JOHNSTOWN OH 43031\n",
      "\n",
      "60;001-000126-00.006;001-006.00-065.000;MIRACLE SHELVA & IVA;1;1;No;NORTHRIDGE LSD;001 - BENNINGTON T-NRDGE LSD;LOT 7 PT   10.009 AC;6474 HARMONY CHURCH RD;06700 Bennington-T;Dwelling;512 Single family unplatted 10-19.;;;278 Electric Well Septic;;;86300;162700;249000;0;0;0;C:\\tempPRCsketch.bmp;Single Family;1;Frame;Central Warm Air;Central;Full Basement;3.0;;;Finished;;7.0;4.0;;0.0;;2,326;0;1998;1998;;Average;90;;;;1,710;110,600;0;0;616;35,400;0;0;0;0;0;0;0;1,710;29,300;0;0;;0;;0;;6,600;;9,000;S(0), O(0);0;1;1;;29,400;;0;220,300;90;-22,030;100;0;;;210,300;-52,575;No;20;0;5.00000;;157,700;5,000;162,700;Well/Septic;12,000;2016;2015;2014;45,300;45,300;45,300;177,400;177,400;177,400;222,700;222,700;222,700;09/18/2000;;;;2;;;;EX - EXEMPT CONVEYANCE;;;;0.00;;;;99999     ;;;;N;;;;N;;;;Refer to deed;;;;;86,300;5,000;29,400;2017;175,300;No;No;No;No;No;0;100;162,700;0;0;0;0;162,700;;10.00;61;;;;;No;100.00;;;MIRACLE SHELVA & IVA;6474 HARMONY CHURCH RD ;JOHNSTOWN OH 43031-9123\n",
      "\n",
      "72;001-000126-00.018;001-006.00-060.000;JONES JANET C;1;1;No;NORTHRIDGE LSD;001 - BENNINGTON T-NRDGE LSD;5.00 AC  LOT 7 PT & LOT 8;6959 HARMONY CHURCH RD;06700 Bennington-T;Dwelling;511 Single family unplatted 0-09.9;;;278 Electric Well Septic;;;53100;24500;77600;0;0;0;C:\\tempPRCsketch.bmp;Single Family;1;Frame;Central Warm Air;None;Pt Crawl;2.0;;;None;;5.0;3.0;;0.0;;1,400;0;1991;1991;;Poor;70;;;;1,400;95,800;0;0;0;0;0;0;0;0;0;1,040;7,300;0;0;0;0;;0;;0;;0;;4,500;S(0), O(0);0;1;1;;15,300;;0;122,900;70;-36,870;100;0;;;98,000;-73,500;Yes;75;0;0.00000;;24,500;0;24,500;Well/Septic;12,000;2016;2015;2014;53,100;34,000;34,000;24,500;77,000;77,000;77,600;111,000;111,000;08/17/2017;09/27/2012;02/23/2012;12/23/2003;1;1;1;1;EX - EXEMPT CONVEYANCE;WD - WARRANTY;SH - SHERIFF;WD - WARRANTY;0.00;38900.00;53334.00;117000.00;99999;4943;3034;04936     ;N;N;N;Y;N;N;N;N;JONES DOUGLAS F & JANET C;FANNIE MAE;GAYHEART THOMAS E;HODERFIELD ROBERT J JR &;;53,100;0;15,300;2017;103,100;No;No;No;No;No;0;100;24,500;0;0;0;0;24,500;;5.00;73;;;;;No;100.00;;;JONES JANET C;6959 HARMONY CHURCH RD ;JOHNSTOWN OH 43031\n",
      "\n",
      "74;001-000126-00.020;001-006.00-067.000;HOLTER FRANK W & ALMA ;1;1;No;NORTHRIDGE LSD;001 - BENNINGTON T-NRDGE LSD;1.709 AC LOT 7 PT;6424 HARMONY CHURCH  RD;06700 Bennington-T;Dwelling;511 Single family unplatted 0-09.9;;;278 Electric Well Septic;;;32100;169900;202000;0;0;0;C:\\tempPRCsketch.bmp;Single Family;1;Frame;Central Warm Air;Central;Pt Bsmt/Pt Crawl;2.0;;;None;;5.0;3.0;;0.0;;1,802;0;2003;2003;;Average;90;;1.0;1.0;1,802;115,400;0;0;0;0;0;0;0;0;0;901;6,400;901;17,900;0;0;;0;;0;;5,400;;4,500;S(1), O(1);4,600;1;1;;22,600;;0;176,800;90;-17,680;100;0;;;171,100;-25,665;No;15;0;0.00000;;145,400;24,500;169,900;Well/Septic;12,000;2016;2015;2014;28,800;28,800;28,800;155,100;155,100;155,100;183,900;183,900;183,900;11/18/2013;04/10/2012;10/13/2006;10/13/2006;1;1;1;1;EX - EXEMPT CONVEYANCE;EX - EXEMPT CONVEYANCE;JS - JOINT SURVIVORSHIP;EX - EXEMPT CONVEYANCE;0.00;0.00;210000.00;0.00;99999;99999;3581;;N;N;Y;N;N;N;N;N;HOLTER FRANK W & ALMA TROYER COTRUSTEES;HOLTER FRANK W & ALMA;BURKART FRANK A;BURKART LOUISE M (LIFE ES;;32,100;24,500;22,600;2017;139,700;No;No;No;No;No;0;100;169,900;0;0;0;0;169,900;;1.70;75;;;;;No;100.00;;;HOLTER FRANK W & ALMA ;6424 HARMONY CHURCH RD ;JOHNSTOWN OH 43031\n",
      "\n"
     ]
    }
   ],
   "source": [
    "from itertools import islice\n",
    "\n",
    "with open(\"./data/02-licking.txt\") as infile:\n",
    "    head = list(islice(infile, 5))\n",
    "\n",
    "for line in head:\n",
    "    print(line)"
   ]
  },
  {
   "cell_type": "code",
   "execution_count": 70,
   "metadata": {},
   "outputs": [
    {
     "ename": "ParserError",
     "evalue": "Error tokenizing data. C error: Expected 33 fields in line 3, saw 34\n",
     "output_type": "error",
     "traceback": [
      "\u001b[0;31m---------------------------------------------------------------------------\u001b[0m",
      "\u001b[0;31mParserError\u001b[0m                               Traceback (most recent call last)",
      "\u001b[0;32m<ipython-input-70-d3d39a7162ac>\u001b[0m in \u001b[0;36m<module>\u001b[0;34m()\u001b[0m\n\u001b[0;32m----> 1\u001b[0;31m \u001b[0mlicking\u001b[0m \u001b[0;34m=\u001b[0m \u001b[0mpd\u001b[0m\u001b[0;34m.\u001b[0m\u001b[0mread_csv\u001b[0m\u001b[0;34m(\u001b[0m\u001b[0;34m\"./data/02-licking.txt\"\u001b[0m\u001b[0;34m)\u001b[0m\u001b[0;34m\u001b[0m\u001b[0m\n\u001b[0m",
      "\u001b[0;32m/usr/local/lib/python3.6/site-packages/pandas/io/parsers.py\u001b[0m in \u001b[0;36mparser_f\u001b[0;34m(filepath_or_buffer, sep, delimiter, header, names, index_col, usecols, squeeze, prefix, mangle_dupe_cols, dtype, engine, converters, true_values, false_values, skipinitialspace, skiprows, nrows, na_values, keep_default_na, na_filter, verbose, skip_blank_lines, parse_dates, infer_datetime_format, keep_date_col, date_parser, dayfirst, iterator, chunksize, compression, thousands, decimal, lineterminator, quotechar, quoting, escapechar, comment, encoding, dialect, tupleize_cols, error_bad_lines, warn_bad_lines, skipfooter, skip_footer, doublequote, delim_whitespace, as_recarray, compact_ints, use_unsigned, low_memory, buffer_lines, memory_map, float_precision)\u001b[0m\n\u001b[1;32m    707\u001b[0m                     skip_blank_lines=skip_blank_lines)\n\u001b[1;32m    708\u001b[0m \u001b[0;34m\u001b[0m\u001b[0m\n\u001b[0;32m--> 709\u001b[0;31m         \u001b[0;32mreturn\u001b[0m \u001b[0m_read\u001b[0m\u001b[0;34m(\u001b[0m\u001b[0mfilepath_or_buffer\u001b[0m\u001b[0;34m,\u001b[0m \u001b[0mkwds\u001b[0m\u001b[0;34m)\u001b[0m\u001b[0;34m\u001b[0m\u001b[0m\n\u001b[0m\u001b[1;32m    710\u001b[0m \u001b[0;34m\u001b[0m\u001b[0m\n\u001b[1;32m    711\u001b[0m     \u001b[0mparser_f\u001b[0m\u001b[0;34m.\u001b[0m\u001b[0m__name__\u001b[0m \u001b[0;34m=\u001b[0m \u001b[0mname\u001b[0m\u001b[0;34m\u001b[0m\u001b[0m\n",
      "\u001b[0;32m/usr/local/lib/python3.6/site-packages/pandas/io/parsers.py\u001b[0m in \u001b[0;36m_read\u001b[0;34m(filepath_or_buffer, kwds)\u001b[0m\n\u001b[1;32m    453\u001b[0m \u001b[0;34m\u001b[0m\u001b[0m\n\u001b[1;32m    454\u001b[0m     \u001b[0;32mtry\u001b[0m\u001b[0;34m:\u001b[0m\u001b[0;34m\u001b[0m\u001b[0m\n\u001b[0;32m--> 455\u001b[0;31m         \u001b[0mdata\u001b[0m \u001b[0;34m=\u001b[0m \u001b[0mparser\u001b[0m\u001b[0;34m.\u001b[0m\u001b[0mread\u001b[0m\u001b[0;34m(\u001b[0m\u001b[0mnrows\u001b[0m\u001b[0;34m)\u001b[0m\u001b[0;34m\u001b[0m\u001b[0m\n\u001b[0m\u001b[1;32m    456\u001b[0m     \u001b[0;32mfinally\u001b[0m\u001b[0;34m:\u001b[0m\u001b[0;34m\u001b[0m\u001b[0m\n\u001b[1;32m    457\u001b[0m         \u001b[0mparser\u001b[0m\u001b[0;34m.\u001b[0m\u001b[0mclose\u001b[0m\u001b[0;34m(\u001b[0m\u001b[0;34m)\u001b[0m\u001b[0;34m\u001b[0m\u001b[0m\n",
      "\u001b[0;32m/usr/local/lib/python3.6/site-packages/pandas/io/parsers.py\u001b[0m in \u001b[0;36mread\u001b[0;34m(self, nrows)\u001b[0m\n\u001b[1;32m   1067\u001b[0m                 \u001b[0;32mraise\u001b[0m \u001b[0mValueError\u001b[0m\u001b[0;34m(\u001b[0m\u001b[0;34m'skipfooter not supported for iteration'\u001b[0m\u001b[0;34m)\u001b[0m\u001b[0;34m\u001b[0m\u001b[0m\n\u001b[1;32m   1068\u001b[0m \u001b[0;34m\u001b[0m\u001b[0m\n\u001b[0;32m-> 1069\u001b[0;31m         \u001b[0mret\u001b[0m \u001b[0;34m=\u001b[0m \u001b[0mself\u001b[0m\u001b[0;34m.\u001b[0m\u001b[0m_engine\u001b[0m\u001b[0;34m.\u001b[0m\u001b[0mread\u001b[0m\u001b[0;34m(\u001b[0m\u001b[0mnrows\u001b[0m\u001b[0;34m)\u001b[0m\u001b[0;34m\u001b[0m\u001b[0m\n\u001b[0m\u001b[1;32m   1070\u001b[0m \u001b[0;34m\u001b[0m\u001b[0m\n\u001b[1;32m   1071\u001b[0m         \u001b[0;32mif\u001b[0m \u001b[0mself\u001b[0m\u001b[0;34m.\u001b[0m\u001b[0moptions\u001b[0m\u001b[0;34m.\u001b[0m\u001b[0mget\u001b[0m\u001b[0;34m(\u001b[0m\u001b[0;34m'as_recarray'\u001b[0m\u001b[0;34m)\u001b[0m\u001b[0;34m:\u001b[0m\u001b[0;34m\u001b[0m\u001b[0m\n",
      "\u001b[0;32m/usr/local/lib/python3.6/site-packages/pandas/io/parsers.py\u001b[0m in \u001b[0;36mread\u001b[0;34m(self, nrows)\u001b[0m\n\u001b[1;32m   1837\u001b[0m     \u001b[0;32mdef\u001b[0m \u001b[0mread\u001b[0m\u001b[0;34m(\u001b[0m\u001b[0mself\u001b[0m\u001b[0;34m,\u001b[0m \u001b[0mnrows\u001b[0m\u001b[0;34m=\u001b[0m\u001b[0;32mNone\u001b[0m\u001b[0;34m)\u001b[0m\u001b[0;34m:\u001b[0m\u001b[0;34m\u001b[0m\u001b[0m\n\u001b[1;32m   1838\u001b[0m         \u001b[0;32mtry\u001b[0m\u001b[0;34m:\u001b[0m\u001b[0;34m\u001b[0m\u001b[0m\n\u001b[0;32m-> 1839\u001b[0;31m             \u001b[0mdata\u001b[0m \u001b[0;34m=\u001b[0m \u001b[0mself\u001b[0m\u001b[0;34m.\u001b[0m\u001b[0m_reader\u001b[0m\u001b[0;34m.\u001b[0m\u001b[0mread\u001b[0m\u001b[0;34m(\u001b[0m\u001b[0mnrows\u001b[0m\u001b[0;34m)\u001b[0m\u001b[0;34m\u001b[0m\u001b[0m\n\u001b[0m\u001b[1;32m   1840\u001b[0m         \u001b[0;32mexcept\u001b[0m \u001b[0mStopIteration\u001b[0m\u001b[0;34m:\u001b[0m\u001b[0;34m\u001b[0m\u001b[0m\n\u001b[1;32m   1841\u001b[0m             \u001b[0;32mif\u001b[0m \u001b[0mself\u001b[0m\u001b[0;34m.\u001b[0m\u001b[0m_first_chunk\u001b[0m\u001b[0;34m:\u001b[0m\u001b[0;34m\u001b[0m\u001b[0m\n",
      "\u001b[0;32mpandas/_libs/parsers.pyx\u001b[0m in \u001b[0;36mpandas._libs.parsers.TextReader.read\u001b[0;34m()\u001b[0m\n",
      "\u001b[0;32mpandas/_libs/parsers.pyx\u001b[0m in \u001b[0;36mpandas._libs.parsers.TextReader._read_low_memory\u001b[0;34m()\u001b[0m\n",
      "\u001b[0;32mpandas/_libs/parsers.pyx\u001b[0m in \u001b[0;36mpandas._libs.parsers.TextReader._read_rows\u001b[0;34m()\u001b[0m\n",
      "\u001b[0;32mpandas/_libs/parsers.pyx\u001b[0m in \u001b[0;36mpandas._libs.parsers.TextReader._tokenize_rows\u001b[0;34m()\u001b[0m\n",
      "\u001b[0;32mpandas/_libs/parsers.pyx\u001b[0m in \u001b[0;36mpandas._libs.parsers.raise_parser_error\u001b[0;34m()\u001b[0m\n",
      "\u001b[0;31mParserError\u001b[0m: Error tokenizing data. C error: Expected 33 fields in line 3, saw 34\n"
     ]
    }
   ],
   "source": [
    "licking = pd.read_csv(\"./data/02-licking.txt\")"
   ]
  },
  {
   "cell_type": "code",
   "execution_count": 71,
   "metadata": {},
   "outputs": [
    {
     "ename": "ParserError",
     "evalue": "Error tokenizing data. C error: Expected 181 fields in line 1608, saw 182\n",
     "output_type": "error",
     "traceback": [
      "\u001b[0;31m---------------------------------------------------------------------------\u001b[0m",
      "\u001b[0;31mParserError\u001b[0m                               Traceback (most recent call last)",
      "\u001b[0;32m<ipython-input-71-a3a83ce47dc2>\u001b[0m in \u001b[0;36m<module>\u001b[0;34m()\u001b[0m\n\u001b[0;32m----> 1\u001b[0;31m \u001b[0mlicking\u001b[0m \u001b[0;34m=\u001b[0m \u001b[0mpd\u001b[0m\u001b[0;34m.\u001b[0m\u001b[0mread_csv\u001b[0m\u001b[0;34m(\u001b[0m\u001b[0;34m\"./data/02-licking.txt\"\u001b[0m\u001b[0;34m,\u001b[0m \u001b[0mdelimiter\u001b[0m\u001b[0;34m=\u001b[0m\u001b[0;34m\";\"\u001b[0m\u001b[0;34m)\u001b[0m\u001b[0;34m\u001b[0m\u001b[0m\n\u001b[0m",
      "\u001b[0;32m/usr/local/lib/python3.6/site-packages/pandas/io/parsers.py\u001b[0m in \u001b[0;36mparser_f\u001b[0;34m(filepath_or_buffer, sep, delimiter, header, names, index_col, usecols, squeeze, prefix, mangle_dupe_cols, dtype, engine, converters, true_values, false_values, skipinitialspace, skiprows, nrows, na_values, keep_default_na, na_filter, verbose, skip_blank_lines, parse_dates, infer_datetime_format, keep_date_col, date_parser, dayfirst, iterator, chunksize, compression, thousands, decimal, lineterminator, quotechar, quoting, escapechar, comment, encoding, dialect, tupleize_cols, error_bad_lines, warn_bad_lines, skipfooter, skip_footer, doublequote, delim_whitespace, as_recarray, compact_ints, use_unsigned, low_memory, buffer_lines, memory_map, float_precision)\u001b[0m\n\u001b[1;32m    707\u001b[0m                     skip_blank_lines=skip_blank_lines)\n\u001b[1;32m    708\u001b[0m \u001b[0;34m\u001b[0m\u001b[0m\n\u001b[0;32m--> 709\u001b[0;31m         \u001b[0;32mreturn\u001b[0m \u001b[0m_read\u001b[0m\u001b[0;34m(\u001b[0m\u001b[0mfilepath_or_buffer\u001b[0m\u001b[0;34m,\u001b[0m \u001b[0mkwds\u001b[0m\u001b[0;34m)\u001b[0m\u001b[0;34m\u001b[0m\u001b[0m\n\u001b[0m\u001b[1;32m    710\u001b[0m \u001b[0;34m\u001b[0m\u001b[0m\n\u001b[1;32m    711\u001b[0m     \u001b[0mparser_f\u001b[0m\u001b[0;34m.\u001b[0m\u001b[0m__name__\u001b[0m \u001b[0;34m=\u001b[0m \u001b[0mname\u001b[0m\u001b[0;34m\u001b[0m\u001b[0m\n",
      "\u001b[0;32m/usr/local/lib/python3.6/site-packages/pandas/io/parsers.py\u001b[0m in \u001b[0;36m_read\u001b[0;34m(filepath_or_buffer, kwds)\u001b[0m\n\u001b[1;32m    453\u001b[0m \u001b[0;34m\u001b[0m\u001b[0m\n\u001b[1;32m    454\u001b[0m     \u001b[0;32mtry\u001b[0m\u001b[0;34m:\u001b[0m\u001b[0;34m\u001b[0m\u001b[0m\n\u001b[0;32m--> 455\u001b[0;31m         \u001b[0mdata\u001b[0m \u001b[0;34m=\u001b[0m \u001b[0mparser\u001b[0m\u001b[0;34m.\u001b[0m\u001b[0mread\u001b[0m\u001b[0;34m(\u001b[0m\u001b[0mnrows\u001b[0m\u001b[0;34m)\u001b[0m\u001b[0;34m\u001b[0m\u001b[0m\n\u001b[0m\u001b[1;32m    456\u001b[0m     \u001b[0;32mfinally\u001b[0m\u001b[0;34m:\u001b[0m\u001b[0;34m\u001b[0m\u001b[0m\n\u001b[1;32m    457\u001b[0m         \u001b[0mparser\u001b[0m\u001b[0;34m.\u001b[0m\u001b[0mclose\u001b[0m\u001b[0;34m(\u001b[0m\u001b[0;34m)\u001b[0m\u001b[0;34m\u001b[0m\u001b[0m\n",
      "\u001b[0;32m/usr/local/lib/python3.6/site-packages/pandas/io/parsers.py\u001b[0m in \u001b[0;36mread\u001b[0;34m(self, nrows)\u001b[0m\n\u001b[1;32m   1067\u001b[0m                 \u001b[0;32mraise\u001b[0m \u001b[0mValueError\u001b[0m\u001b[0;34m(\u001b[0m\u001b[0;34m'skipfooter not supported for iteration'\u001b[0m\u001b[0;34m)\u001b[0m\u001b[0;34m\u001b[0m\u001b[0m\n\u001b[1;32m   1068\u001b[0m \u001b[0;34m\u001b[0m\u001b[0m\n\u001b[0;32m-> 1069\u001b[0;31m         \u001b[0mret\u001b[0m \u001b[0;34m=\u001b[0m \u001b[0mself\u001b[0m\u001b[0;34m.\u001b[0m\u001b[0m_engine\u001b[0m\u001b[0;34m.\u001b[0m\u001b[0mread\u001b[0m\u001b[0;34m(\u001b[0m\u001b[0mnrows\u001b[0m\u001b[0;34m)\u001b[0m\u001b[0;34m\u001b[0m\u001b[0m\n\u001b[0m\u001b[1;32m   1070\u001b[0m \u001b[0;34m\u001b[0m\u001b[0m\n\u001b[1;32m   1071\u001b[0m         \u001b[0;32mif\u001b[0m \u001b[0mself\u001b[0m\u001b[0;34m.\u001b[0m\u001b[0moptions\u001b[0m\u001b[0;34m.\u001b[0m\u001b[0mget\u001b[0m\u001b[0;34m(\u001b[0m\u001b[0;34m'as_recarray'\u001b[0m\u001b[0;34m)\u001b[0m\u001b[0;34m:\u001b[0m\u001b[0;34m\u001b[0m\u001b[0m\n",
      "\u001b[0;32m/usr/local/lib/python3.6/site-packages/pandas/io/parsers.py\u001b[0m in \u001b[0;36mread\u001b[0;34m(self, nrows)\u001b[0m\n\u001b[1;32m   1837\u001b[0m     \u001b[0;32mdef\u001b[0m \u001b[0mread\u001b[0m\u001b[0;34m(\u001b[0m\u001b[0mself\u001b[0m\u001b[0;34m,\u001b[0m \u001b[0mnrows\u001b[0m\u001b[0;34m=\u001b[0m\u001b[0;32mNone\u001b[0m\u001b[0;34m)\u001b[0m\u001b[0;34m:\u001b[0m\u001b[0;34m\u001b[0m\u001b[0m\n\u001b[1;32m   1838\u001b[0m         \u001b[0;32mtry\u001b[0m\u001b[0;34m:\u001b[0m\u001b[0;34m\u001b[0m\u001b[0m\n\u001b[0;32m-> 1839\u001b[0;31m             \u001b[0mdata\u001b[0m \u001b[0;34m=\u001b[0m \u001b[0mself\u001b[0m\u001b[0;34m.\u001b[0m\u001b[0m_reader\u001b[0m\u001b[0;34m.\u001b[0m\u001b[0mread\u001b[0m\u001b[0;34m(\u001b[0m\u001b[0mnrows\u001b[0m\u001b[0;34m)\u001b[0m\u001b[0;34m\u001b[0m\u001b[0m\n\u001b[0m\u001b[1;32m   1840\u001b[0m         \u001b[0;32mexcept\u001b[0m \u001b[0mStopIteration\u001b[0m\u001b[0;34m:\u001b[0m\u001b[0;34m\u001b[0m\u001b[0m\n\u001b[1;32m   1841\u001b[0m             \u001b[0;32mif\u001b[0m \u001b[0mself\u001b[0m\u001b[0;34m.\u001b[0m\u001b[0m_first_chunk\u001b[0m\u001b[0;34m:\u001b[0m\u001b[0;34m\u001b[0m\u001b[0m\n",
      "\u001b[0;32mpandas/_libs/parsers.pyx\u001b[0m in \u001b[0;36mpandas._libs.parsers.TextReader.read\u001b[0;34m()\u001b[0m\n",
      "\u001b[0;32mpandas/_libs/parsers.pyx\u001b[0m in \u001b[0;36mpandas._libs.parsers.TextReader._read_low_memory\u001b[0;34m()\u001b[0m\n",
      "\u001b[0;32mpandas/_libs/parsers.pyx\u001b[0m in \u001b[0;36mpandas._libs.parsers.TextReader._read_rows\u001b[0;34m()\u001b[0m\n",
      "\u001b[0;32mpandas/_libs/parsers.pyx\u001b[0m in \u001b[0;36mpandas._libs.parsers.TextReader._tokenize_rows\u001b[0;34m()\u001b[0m\n",
      "\u001b[0;32mpandas/_libs/parsers.pyx\u001b[0m in \u001b[0;36mpandas._libs.parsers.raise_parser_error\u001b[0;34m()\u001b[0m\n",
      "\u001b[0;31mParserError\u001b[0m: Error tokenizing data. C error: Expected 181 fields in line 1608, saw 182\n"
     ]
    }
   ],
   "source": [
    "licking = pd.read_csv(\"./data/02-licking.txt\", delimiter=\";\")"
   ]
  },
  {
   "cell_type": "code",
   "execution_count": 81,
   "metadata": {},
   "outputs": [],
   "source": [
    "typical_line = linecache.getline(\"./data/02-licking.txt\", 2)\n",
    "error_line = linecache.getline(\"./data/02-licking.txt\", 1608)"
   ]
  },
  {
   "cell_type": "code",
   "execution_count": 82,
   "metadata": {},
   "outputs": [
    {
     "name": "stdout",
     "output_type": "stream",
     "text": [
      "35;001-000066-00.009;001-006.00-120.000;HARDY RONALD J & LINDA B;1;1;No;NORTHRIDGE LSD;001 - BENNINGTON T-NRDGE LSD;LOT 10 PT   3.68 AC;8713 BENNER RD;06700 Bennington-T;Dwelling;511 Single family unplatted 0-09.9;;;2578 Electric Gas Well Septic;;;50300;138100;188400;0;0;0;C:\\tempPRCsketch.bmp;Single Family;1;Frame;Central Warm Air;Central;Full Basement;2.0;;;None;;6.0;3.0;;0.0;;1,790;0;2002;2002;;Average;90;;;;1,790;115,400;0;0;0;0;0;0;0;0;0;0;0;1,790;30,600;0;0;;0;;0;;5,400;;4,500;S(0), O(0);0;1;1;;15,400;;0;171,300;90;-17,130;100;0;;;166,200;-33,240;No;20;0;0.00000;;133,000;5,100;138,100;Well/Septic;12,000;2016;2015;2014;41,300;41,300;41,300;141,500;141,500;141,500;182,800;182,800;182,800;06/07/2001;11/01/2000;07/06/1999;;1;4;4;;FD - FIDUCIARY;EX - EXEMPT CONVEYANCE;EX - EXEMPT CONVEYANCE;;32000.00;0.00;0.00;;01721     ;99999     ;99999     ;;Y;N;N;;Y;Y;Y;;BEVIER MARLENE M TRUSTEE;SHARROCK LORI S TRUSTEE;Refer to deed;;;50,300;5,100;15,400;2017;146,000;No;No;No;No;No;0;100;138,100;0;0;0;0;138,100;;3.68;35;;;;;No;100.00;;;HARDY RONALD J & LINDA B;8713 BENNER RD ;JOHNSTOWN OH 43031\n",
      "\n",
      "14934;020-051654-00.000;020-116.18-017.000;FULLER JEAN A TRUSTEE;1;1;No;GRANVILLE EVSD;020 - GRANVILLE T - GRANVILLE V&EVSD;LOT 116;128 E BROADWAY;05500 Granville-Vil-West Half;Building;430 Resturant; cafteria and/or bar;;;6 All;;;165100;319900;485000;0;0;0;C:\\tempPRCsketch.bmp;;2;;;;;;;;;;;;;;;3,600;;;;;;;;;;1,800;115,400;1,800;83,500;0;0;0;0;0;0;0;0;0;0;0;0;0;;19,000;;0;;0;;0;S(0), O(0);0;1;1;;1,800;;0;219,700;110;21,970;100;0;;;241,700;-48,340;No;20;0;0.00000;;193,400;2,300;195,700;;0;2016;2015;2014;315,000;315,000;315,000;129,400;129,400;129,400;444,400;444,400;444,400;02/24/2010;11/28/2005;;;3;1;;;EX - EXEMPT CONVEYANCE;EX - EXEMPT CONVEYANCE;;;0.00;0.00;;;99999;99999     ;;;N;N;;;N;N;;;FULLER THOMAS T & JEAN A TRUSTEES;Refer to deed;;;;165,100;2,300;1,800;2017;198,900;No;No;No;No;No;0;100;195,700;0;0;0;0;195,700;;0.00;15612;;;;;No;100.00;;;FULLER JEAN A TRUSTEE;145 VILL EDGE DR ;GRANVILLE OH 43023-1446\n",
      "\n"
     ]
    }
   ],
   "source": [
    "print(typical_line)\n",
    "print(error_line)"
   ]
  },
  {
   "cell_type": "code",
   "execution_count": 83,
   "metadata": {},
   "outputs": [
    {
     "name": "stdout",
     "output_type": "stream",
     "text": [
      "180\n",
      "181\n"
     ]
    }
   ],
   "source": [
    "print(typical_line.count(\";\"))\n",
    "print(error_line.count(\";\"))"
   ]
  },
  {
   "cell_type": "code",
   "execution_count": 86,
   "metadata": {},
   "outputs": [
    {
     "name": "stdout",
     "output_type": "stream",
     "text": [
      "('fldParcelID', '35', '14934')\n",
      "('fldParcelNo', '001-000066-00.009', '020-051654-00.000')\n",
      "('fldRoutingNo', '001-006.00-120.000', '020-116.18-017.000')\n",
      "('fldOwner', 'HARDY RONALD J & LINDA B', 'FULLER JEAN A TRUSTEE')\n",
      "('fldCardNo', '1', '1')\n",
      "('fldMaxCards', '1', '1')\n",
      "('fldRecheck', 'No', 'No')\n",
      "('fldSchoolDistrict', 'NORTHRIDGE LSD', 'GRANVILLE EVSD')\n",
      "('fldTaxDistrict', '001 - BENNINGTON T-NRDGE LSD', '020 - GRANVILLE T - GRANVILLE V&EVSD')\n",
      "('fldLegalDesc', 'LOT 10 PT   3.68 AC', 'LOT 116')\n",
      "('fldLocationAddress', '8713 BENNER RD', '128 E BROADWAY')\n",
      "('fldNeighborhood', '06700 Bennington-T', '05500 Granville-Vil-West Half')\n",
      "('fldPropertyType', 'Dwelling', 'Building')\n",
      "('fldLUC', '511 Single family unplatted 0-09.9', '430 Resturant')\n",
      "('fldTopo', '', ' cafteria and/or bar')\n",
      "('fldAccess', '', '')\n",
      "('fldUtilities', '2578 Electric Gas Well Septic', '')\n",
      "('fldNotes', '', '6 All')\n",
      "('fldNotes2', '', '')\n",
      "('fldMarketLand', '50300', '')\n",
      "('fldMarketImprov', '138100', '165100')\n",
      "('fldMarketTotal', '188400', '319900')\n",
      "('fldCAUVLand', '0', '485000')\n",
      "('fldCAUVImprov', '0', '0')\n",
      "('fldCAUVTotal', '0', '0')\n",
      "('fldSketchPath', 'C:\\\\tempPRCsketch.bmp', '0')\n",
      "('fldStyle', 'Single Family', 'C:\\\\tempPRCsketch.bmp')\n",
      "('fldStories', '1', '')\n",
      "('fldExterior', 'Frame', '2')\n",
      "('fldHeating', 'Central Warm Air', '')\n",
      "('fldCooling', 'Central', '')\n",
      "('fldBasement', 'Full Basement', '')\n",
      "('fldFullBaths', '2.0', '')\n",
      "('fldHalfBaths', '', '')\n",
      "('fldOtherBaths', '', '')\n",
      "('fldAttic', 'None', '')\n",
      "('fldAtticHeating', '', '')\n",
      "('fldRooms', '6.0', '')\n",
      "('fldBedrooms', '3.0', '')\n",
      "('fldFamilyRooms', '', '')\n",
      "('fldDiningRooms', '0.0', '')\n",
      "('fldLivingRooms', '', '')\n",
      "('fldFinishedLivingArea', '1,790', '')\n",
      "('fldFinishedBasementArea', '0', '3,600')\n",
      "('fldYearBuilt', '2002', '')\n",
      "('fldEffYearBuilt', '2002', '')\n",
      "('fldYearRemodeled', '', '')\n",
      "('fldCondition', 'Average', '')\n",
      "('fldGrade', '90', '')\n",
      "('fldBasementGarage', '', '')\n",
      "('fldFireplaceOpenings', '', '')\n",
      "('fldFireplaceStacks', '', '')\n",
      "('fldFirstFloorArea', '1,790', '')\n",
      "('fldFirstFloorCost', '115,400', '1,800')\n",
      "('fldUpperFloorArea', '0', '115,400')\n",
      "('fldUpperFloorCost', '0', '1,800')\n",
      "('fldAtticArea', '0', '83,500')\n",
      "('fldAtticCost', '0', '0')\n",
      "('fldHalfFloorArea', '0', '0')\n",
      "('fldHalfFloorCost', '0', '0')\n",
      "('fldFinishedBasementCost', '0', '0')\n",
      "('fldUnfinishedLivingArea', '0', '0')\n",
      "('fldUnfinishedLivingCost', '0', '0')\n",
      "('fldCrawlArea', '0', '0')\n",
      "('fldCrawlCost', '0', '0')\n",
      "('fldBasementArea', '1,790', '0')\n",
      "('fldBasementCost', '30,600', '0')\n",
      "('fldBasementGarageArea', '0', '0')\n",
      "('fldBasementGarageCost', '0', '0')\n",
      "('fldExtWallArea', '', '0')\n",
      "('fldExtWallCost', '0', '')\n",
      "('fldHeatingArea', '', '19,000')\n",
      "('fldHeatingCost', '0', '')\n",
      "('fldCoolingArea', '', '0')\n",
      "('fldCoolingCost', '5,400', '')\n",
      "('fldPlumbingArea', '', '0')\n",
      "('fldPlumbingCost', '4,500', '')\n",
      "('fldFireplaceArea', 'S(0), O(0)', '0')\n",
      "('fldFireplaceCost', '0', 'S(0), O(0)')\n",
      "('fldIdenticalMultiplierCount', '1', '0')\n",
      "('fldIdenticalMultiplierCost', '1', '1')\n",
      "('fldEnhancementArea', '', '1')\n",
      "('fldEnhancementCost', '15,400', '')\n",
      "('fldFeaturesArea', '', '1,800')\n",
      "('fldFeaturesCost', '0', '')\n",
      "('fldSubTotalBeforeGrade', '171,300', '0')\n",
      "('fldGradeArea', '90', '219,700')\n",
      "('fldGradeCost', '-17,130', '110')\n",
      "('fldCostFactorArea', '100', '21,970')\n",
      "('fldCostFactorCost', '0', '100')\n",
      "('fldUngradedFeaturesArea', '', '0')\n",
      "('fldUngradedFeaturesCost', '', '')\n",
      "('fldRCN', '166,200', '')\n",
      "('fldDepreciation', '-33,240', '241,700')\n",
      "('fldDepreciationOverride', 'No', '-48,340')\n",
      "('fldDepreciationArea', '20', 'No')\n",
      "('fldObsolesence', '0', '20')\n",
      "('fldObsolesenceArea', '0.00000', '0')\n",
      "('fldImprovements', '', '0.00000')\n",
      "('fldRCNLD', '133,000', '')\n",
      "('fldImprovementsTotal', '5,100', '193,400')\n",
      "('fldFVC', '138,100', '2,300')\n",
      "('fldWellSeptic', 'Well/Septic', '195,700')\n",
      "('fldWellSepticValue', '12,000', '')\n",
      "('fldValueHistoryYear1', '2016', '0')\n",
      "('fldValueHistoryYear2', '2015', '2016')\n",
      "('fldValueHistoryYear3', '2014', '2015')\n",
      "('fldValueHistoryLand1', '41,300', '2014')\n",
      "('fldValueHistoryLand2', '41,300', '315,000')\n",
      "('fldValueHistoryLand3', '41,300', '315,000')\n",
      "('fldValueHistoryImprov1', '141,500', '315,000')\n",
      "('fldValueHistoryImprov2', '141,500', '129,400')\n",
      "('fldValueHistoryImprov3', '141,500', '129,400')\n",
      "('fldValueHistoryTotal1', '182,800', '129,400')\n",
      "('fldValueHistoryTotal2', '182,800', '444,400')\n",
      "('fldValueHistoryTotal3', '182,800', '444,400')\n",
      "('fldSalesDate1', '06/07/2001', '444,400')\n",
      "('fldSalesDate2', '11/01/2000', '02/24/2010')\n",
      "('fldSalesDate3', '07/06/1999', '11/28/2005')\n",
      "('fldSalesDate4', '', '')\n",
      "('fldSalesNoParcels1', '1', '')\n",
      "('fldSalesNoParcels2', '4', '3')\n",
      "('fldSalesNoParcels3', '4', '1')\n",
      "('fldSalesNoParcels4', '', '')\n",
      "('fldSalesType1', 'FD - FIDUCIARY', '')\n",
      "('fldSalesType2', 'EX - EXEMPT CONVEYANCE', 'EX - EXEMPT CONVEYANCE')\n",
      "('fldSalesType3', 'EX - EXEMPT CONVEYANCE', 'EX - EXEMPT CONVEYANCE')\n",
      "('fldSalesType4', '', '')\n",
      "('fldSalesPrice1', '32000.00', '')\n",
      "('fldSalesPrice2', '0.00', '0.00')\n",
      "('fldSalesPrice3', '0.00', '0.00')\n",
      "('fldSalesPrice4', '', '')\n",
      "('fldSalesConveyance1', '01721     ', '')\n",
      "('fldSalesConveyance2', '99999     ', '99999')\n",
      "('fldSalesConveyance3', '99999     ', '99999     ')\n",
      "('fldSalesConveyance4', '', '')\n",
      "('fldSalesValid1', 'Y', '')\n",
      "('fldSalesValid2', 'N', 'N')\n",
      "('fldSalesValid3', 'N', 'N')\n",
      "('fldSalesValid4', '', '')\n",
      "('fldSalesLandOnly1', 'Y', '')\n",
      "('fldSalesLandOnly2', 'Y', 'N')\n",
      "('fldSalesLandOnly3', 'Y', 'N')\n",
      "('fldSalesLandOnly4', '', '')\n",
      "('fldSalesPrevOwner1', 'BEVIER MARLENE M TRUSTEE', '')\n",
      "('fldSalesPrevOwner2', 'SHARROCK LORI S TRUSTEE', 'FULLER THOMAS T & JEAN A TRUSTEES')\n",
      "('fldSalesPrevOwner3', 'Refer to deed', 'Refer to deed')\n",
      "('fldSalesPrevOwner4', '', '')\n",
      "('fldFeatureTotal', '', '')\n",
      "('fldLandTotal', '50,300', '')\n",
      "('fldImprovTotal', '5,100', '165,100')\n",
      "('fldEnhancementTotal', '15,400', '2,300')\n",
      "('fldTaxYear', '2017', '1,800')\n",
      "('fldSubtotal', '146,000', '2017')\n",
      "('fldAdditionalInspections', 'No', '198,900')\n",
      "('fldAdditionalEnhancements', 'No', 'No')\n",
      "('fldAdditionalFeatures', 'No', 'No')\n",
      "('fldAdditionalLand', 'No', 'No')\n",
      "('fldAdditionalImprovements', 'No', 'No')\n",
      "('fldNeighAdj', '0', 'No')\n",
      "('fldNeighAdjArea', '100', '0')\n",
      "('fldCard1Total', '138,100', '100')\n",
      "('fldCard2Total', '0', '195,700')\n",
      "('fldCard3Total', '0', '0')\n",
      "('fldCard4Total', '0', '0')\n",
      "('fldCard5Total', '0', '0')\n",
      "('fldParcelTotal', '138,100', '0')\n",
      "('fldPicPath', '', '195,700')\n",
      "('fldAcreageTotal', '3.68', '')\n",
      "('fldSortOrder', '35', '0.00')\n",
      "('fldCropTotal', '', '15612')\n",
      "('fldWoodsTotal', '', '')\n",
      "('fldNotFarmedTotal', '', '')\n",
      "('fldConservationTotal', '', '')\n",
      "('fldNeighAdjLandOverride', 'No', '')\n",
      "('fldNeighAdjAreaLand', '100.00', 'No')\n",
      "('fldMailingAddress1', '', '100.00')\n",
      "('fldMailingAddress2', '', '')\n",
      "('fldMailingAddress3', 'HARDY RONALD J & LINDA B', '')\n",
      "('fldMailingAddress4', '8713 BENNER RD ', 'FULLER JEAN A TRUSTEE')\n",
      "('fldMailingAddress5\\n', 'JOHNSTOWN OH 43031\\n', '145 VILL EDGE DR ')\n",
      "(None, None, 'GRANVILLE OH 43023-1446\\n')\n"
     ]
    }
   ],
   "source": [
    "from itertools import zip_longest\n",
    "\n",
    "header_line = linecache.getline(\"./data/02-licking.txt\", 1)\n",
    "\n",
    "header_entries = header_line.split(\";\")\n",
    "typical_entries = typical_line.split(\";\")\n",
    "error_entries = error_line.split(\";\")\n",
    "\n",
    "for entry in zip_longest(header_entries, typical_entries, error_entries):\n",
    "    print(entry)"
   ]
  },
  {
   "cell_type": "code",
   "execution_count": 122,
   "metadata": {},
   "outputs": [],
   "source": [
    "licking = pd.read_csv(\"./data/02-licking.txt\", delimiter=\"(?<!Resturant);\", engine=\"python\")"
   ]
  },
  {
   "cell_type": "code",
   "execution_count": 123,
   "metadata": {},
   "outputs": [
    {
     "data": {
      "text/plain": [
       "(8363, 181)"
      ]
     },
     "execution_count": 123,
     "metadata": {},
     "output_type": "execute_result"
    }
   ],
   "source": [
    "licking.shape"
   ]
  },
  {
   "cell_type": "code",
   "execution_count": 134,
   "metadata": {},
   "outputs": [
    {
     "name": "stderr",
     "output_type": "stream",
     "text": [
      "/usr/local/lib/python3.6/site-packages/IPython/core/interactiveshell.py:2728: DtypeWarning: Columns (56,58,61,89,132,133,134,159,163,164,165) have mixed types. Specify dtype option on import or set low_memory=False.\n",
      "  interactivity=interactivity, compiler=compiler, result=result)\n"
     ]
    }
   ],
   "source": [
    "# problem is \"fldLUC: 430 Resturant; cafteria and/or bar\"\n",
    "# could use error_bad_lines with read_csv\n",
    "# could use regex separator\n",
    "\n",
    "# difference in dtypes due to 0 as float vs int and NaN\n",
    "import io\n",
    "\n",
    "class StringIOWithReplace(io.FileIO):\n",
    "    def __init__(self, path, old_value, new_value):\n",
    "        super(StringIOWithReplace, self).__init__(path)\n",
    "        self._old_value = old_value.encode()\n",
    "        self._new_value = new_value.encode()\n",
    "    \n",
    "    def read(self, *args, **kwargs):\n",
    "        return super(StringIOWithReplace, self).read(*args, **kwargs).replace(self._old_value, self._new_value)\n",
    "        \n",
    "\n",
    "            \n",
    "licking_file = StringIOWithReplace(\"./data/02-licking.txt\", \"Resturant; cafteria\", \"Resturant cafteria\")\n",
    "licking2 = pd.read_csv(licking_file, delimiter=\";\")\n",
    "    \n",
    "\n"
   ]
  },
  {
   "cell_type": "code",
   "execution_count": 126,
   "metadata": {},
   "outputs": [
    {
     "data": {
      "text/plain": [
       "('fldAtticArea', 'fldAtticArea')"
      ]
     },
     "execution_count": 126,
     "metadata": {},
     "output_type": "execute_result"
    }
   ],
   "source": [
    "licking.columns[56], licking2.columns[56]"
   ]
  },
  {
   "cell_type": "code",
   "execution_count": 127,
   "metadata": {},
   "outputs": [
    {
     "data": {
      "text/plain": [
       "0         0\n",
       "1       616\n",
       "2         0\n",
       "3         0\n",
       "4         0\n",
       "5         0\n",
       "6       NaN\n",
       "7         0\n",
       "8         0\n",
       "9         0\n",
       "10        0\n",
       "11        0\n",
       "12        0\n",
       "13        0\n",
       "14        0\n",
       "15        0\n",
       "16        0\n",
       "17        0\n",
       "18      NaN\n",
       "19      NaN\n",
       "20      NaN\n",
       "21        0\n",
       "22        0\n",
       "23      104\n",
       "24        0\n",
       "25        0\n",
       "26        0\n",
       "27        0\n",
       "28      NaN\n",
       "29        0\n",
       "       ... \n",
       "8333    NaN\n",
       "8334    NaN\n",
       "8335    NaN\n",
       "8336      0\n",
       "8337      0\n",
       "8338      0\n",
       "8339      0\n",
       "8340    NaN\n",
       "8341    NaN\n",
       "8342    NaN\n",
       "8343      0\n",
       "8344    NaN\n",
       "8345    NaN\n",
       "8346      0\n",
       "8347      0\n",
       "8348      0\n",
       "8349      0\n",
       "8350      0\n",
       "8351      0\n",
       "8352    NaN\n",
       "8353      0\n",
       "8354      0\n",
       "8355      0\n",
       "8356      0\n",
       "8357      0\n",
       "8358      0\n",
       "8359    NaN\n",
       "8360    NaN\n",
       "8361    NaN\n",
       "8362    NaN\n",
       "Name: fldAtticArea, Length: 8363, dtype: object"
      ]
     },
     "execution_count": 127,
     "metadata": {},
     "output_type": "execute_result"
    }
   ],
   "source": [
    "licking.fldAtticArea"
   ]
  },
  {
   "cell_type": "code",
   "execution_count": 128,
   "metadata": {},
   "outputs": [
    {
     "data": {
      "text/plain": [
       "0         0\n",
       "1       616\n",
       "2         0\n",
       "3         0\n",
       "4         0\n",
       "5         0\n",
       "6       NaN\n",
       "7         0\n",
       "8         0\n",
       "9         0\n",
       "10        0\n",
       "11        0\n",
       "12        0\n",
       "13        0\n",
       "14        0\n",
       "15        0\n",
       "16        0\n",
       "17        0\n",
       "18      NaN\n",
       "19      NaN\n",
       "20      NaN\n",
       "21        0\n",
       "22        0\n",
       "23      104\n",
       "24        0\n",
       "25        0\n",
       "26        0\n",
       "27        0\n",
       "28      NaN\n",
       "29        0\n",
       "       ... \n",
       "8333    NaN\n",
       "8334    NaN\n",
       "8335    NaN\n",
       "8336      0\n",
       "8337      0\n",
       "8338      0\n",
       "8339      0\n",
       "8340    NaN\n",
       "8341    NaN\n",
       "8342    NaN\n",
       "8343      0\n",
       "8344    NaN\n",
       "8345    NaN\n",
       "8346      0\n",
       "8347      0\n",
       "8348      0\n",
       "8349      0\n",
       "8350      0\n",
       "8351      0\n",
       "8352    NaN\n",
       "8353      0\n",
       "8354      0\n",
       "8355      0\n",
       "8356      0\n",
       "8357      0\n",
       "8358      0\n",
       "8359    NaN\n",
       "8360    NaN\n",
       "8361    NaN\n",
       "8362    NaN\n",
       "Name: fldAtticArea, Length: 8363, dtype: object"
      ]
     },
     "execution_count": 128,
     "metadata": {},
     "output_type": "execute_result"
    }
   ],
   "source": [
    "licking2.fldAtticArea"
   ]
  },
  {
   "cell_type": "code",
   "execution_count": 133,
   "metadata": {},
   "outputs": [
    {
     "data": {
      "text/plain": [
       "('0', 0.0)"
      ]
     },
     "execution_count": 133,
     "metadata": {},
     "output_type": "execute_result"
    }
   ],
   "source": [
    "licking.fldAtticArea.iloc[8358],licking2.fldAtticArea.iloc[8358]"
   ]
  },
  {
   "cell_type": "code",
   "execution_count": null,
   "metadata": {},
   "outputs": [],
   "source": []
  }
 ],
 "metadata": {
  "kernelspec": {
   "display_name": "Python 3",
   "language": "python",
   "name": "python3"
  },
  "language_info": {
   "codemirror_mode": {
    "name": "ipython",
    "version": 3
   },
   "file_extension": ".py",
   "mimetype": "text/x-python",
   "name": "python",
   "nbconvert_exporter": "python",
   "pygments_lexer": "ipython3",
   "version": "3.6.4"
  }
 },
 "nbformat": 4,
 "nbformat_minor": 2
}
