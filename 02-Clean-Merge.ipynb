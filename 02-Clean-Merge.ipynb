{
 "cells": [
  {
   "cell_type": "markdown",
   "metadata": {},
   "source": [
    "# Lesson 2: Cleaning and Merging"
   ]
  },
  {
   "cell_type": "markdown",
   "metadata": {},
   "source": [
    "[Previous Lesson](01-Requirements-Data-Identification.ipynb) [Next Lesson](03-Exploration.ipynb)"
   ]
  },
  {
   "cell_type": "markdown",
   "metadata": {},
   "source": [
    "## Contents\n",
    "\n",
    "* [Lesson 2: Cleaning and Merging](#Lesson-2:-Cleaning-and-Merging)\n",
    "\t* [Contents](#Contents)\n",
    "\t* [Getting Started](#Getting-Started)\n",
    "\t* [Loading, Merging, and Cleaning Similar Data](#Loading,-Merging,-and-Cleaning-Similar-Data)\n",
    "\t\t* [Loading a CSV: Franklin County Auditor Data](#Loading-a-CSV:-Franklin-County-Auditor-Data)\n",
    "\t\t* [Parsing Errors: Licking County Auditor Data](#Parsing-Errors:-Licking-County-Auditor-Data)\n",
    "\t\t* [Extraction from a GIS Dataset: Fairfield County Auditor Data](#Extraction-from-a-GIS-Dataset:-Fairfield-County-Auditor-Data)\n",
    "\t* [Joining Related Datasets](#Joining-Related-Datasets)\n",
    "\t* [Next Steps](#Next-Steps)\n",
    "\t* [Resources](#Resources)\n",
    "    \n",
    "    \n",
    "### Questions\n",
    "\n",
    "[1](#Lab-1), [2](#Lab-2), [3](#Lab-3), [4](#Lab-4), [5](#Lab-5), [6](#Lab-6), [7](#Lab-7), [8](#Lab-8), [9](#Lab-9),  [10](#Lab-10), [11](#Lab-11), [12](#Lab-12)\n",
    "\n",
    "## Getting Started\n",
    "\n",
    "In addition to libaries we used in the last lesson, this notebook relies on the [GeoPandas](library) to process data from a [geographic information system](https://en.wikipedia.org/wiki/Geographic_information_system).  To install the library, we can use `pip` and access it from the notebook using `!pip`. "
   ]
  },
  {
   "cell_type": "code",
   "execution_count": null,
   "metadata": {},
   "outputs": [],
   "source": [
    "!pip install geopandas"
   ]
  },
  {
   "cell_type": "markdown",
   "metadata": {},
   "source": [
    "We'll be working with county auditor data containing real estate information.  To reduce the memory and time required to process the data, the size of one of the datasets was reduced; the *sample_file()* function below contains the code to do this. Two arguments are required when the function is called, *input_file* and *output_file*, to specify the source and target files, respectively.  An keyword argument, *fraction*, can be specified to set the desired size of the output file relative to the input file; the default value is 0.1.  \n",
    "\n",
    "First, *sample_file()* calls *get_line_count()* to calculate the total number of lines in the source file. The total is multiplied by the specified fraction and truncated to the nearest integer to determine the number of lines that should be in the output file.  Next, the [*sample()*](https://docs.python.org/3/library/random.html#random.sample) function from the random module is used to select a sampling of line numbers from a range of values starting at 1 and ending at the last line number in the source file; the number of line numbers in the sample is equal to the calculated sample line count.  Finally, the function iterates through the source file, line-by-line, and copies a line to the output file if that line's line number is in the sample of line numbers.\n",
    "\n",
    "The *sample_file()* function was used to reduce the Franklin County Auditor data from over 400,000 lines to about 40,000 lines."
   ]
  },
  {
   "cell_type": "code",
   "execution_count": null,
   "metadata": {},
   "outputs": [],
   "source": [
    "import linecache\n",
    "import random\n",
    "\n",
    "def get_line_count(input_file):\n",
    "    \"\"\"Count number of lines in a file\"\"\"\n",
    "    count = 0\n",
    "    with open(input_file) as infile:\n",
    "        for line in infile:\n",
    "            count += 1\n",
    "    return count\n",
    "\n",
    "def sample_file(input_file, output_file, fraction=0.1):\n",
    "    \"\"\"Exctract a subset of lines from a file\"\"\"\n",
    "    total_line_count = get_line_count(input_file)\n",
    "    sample_line_count = int(fraction * total_line_count)  # fraction of total\n",
    "    sample_line_numbers = random.sample(range(1, total_line_count), \n",
    "                                        sample_line_count)  # sample of line numbers\n",
    "    sample_line_numbers.sort()\n",
    "    sample_line_numbers.insert(0, 0)\n",
    "    with open(output_file, 'w') as outfile:\n",
    "        for line_number in sample_line_numbers:\n",
    "            line = linecache.getline(input_file, line_number + 1)\n",
    "            outfile.write(line)\n",
    "                    "
   ]
  },
  {
   "cell_type": "markdown",
   "metadata": {},
   "source": [
    "## Loading, Merging, and Cleaning Similar Data\n",
    "\n",
    "Often, the analysis we would like to complete requires gather data from multiple sources.  Working with multiple sources can present some challenges that should be addressed before analyzing the data.  Rather than keeping source data separate, its usually convenient to store similar data together - combining separate sources into one database table to similar data store. Combining sources require extracting relevant data and reorganizing it to fit the target structure.  \n",
    "\n",
    "In addition to simply extracting the data, we often need to address data quality issues as well; examples of quality issues include\n",
    "\n",
    "- *duplication*: the dataset unnecessarily includes repeated data\n",
    "- *inconsistency*: different values are used to represent the same thing or the values do not fit the defined schema\n",
    "- *incompleteness*: data is missing from the dataset\n",
    "- *inaccuracy*: the data does not reflect what it purports to measure or represent\n",
    "\n",
    "Resolving duplication issues is usually straightforward: duplicate data is removed before conducting further analysis. Inconsistencies can be resolved by determining the appropriate values and transforming the data as needed; however, realizing that multiple values correspond to the same thing might require some examination of the data.  While it can be easy to detect incompleteness of data, the approach for resolving the issue might be context-specific. Should a default value be used? Should a randomly generated value within some range be substituted? Should records with missing data be dropped entirely? Inaccuracies tend to be more difficult to detect and to resolve as they often require examining how the source data was collected.  \n",
    "\n",
    "In the following examples, we'll work on aggregating data from three different county auditor datasets. Our immediate objective is to collect any data regarding appraisal values, sale price, total area, the number of rooms, information about heating and cooling, and the year built for residential properties. Later, we'll use this data to determine if there's a relationship between price or appraisal value and the other properties.\n",
    "\n",
    "### Loading a CSV: Franklin County Audit Data\n",
    "\n",
    "The first data source from which we'll extract data is a CSV containing [data from the Franklin County Auditor](ftp://apps.franklincountyauditor.com/). As noted above, the data as been sampled to reduce its size from 400,000 records to 40,000.  The Auditor's site provides documentation of the dataset.  Though the documentation appears to be outdated, it does provide some useful information."
   ]
  },
  {
   "cell_type": "code",
   "execution_count": 1,
   "metadata": {},
   "outputs": [
    {
     "data": {
      "text/html": [
       "\n",
       "        <iframe\n",
       "            width=\"800\"\n",
       "            height=\"600\"\n",
       "            src=\"./data/02-franklin-description.pdf\"\n",
       "            frameborder=\"0\"\n",
       "            allowfullscreen\n",
       "        ></iframe>\n",
       "        "
      ],
      "text/plain": [
       "<IPython.lib.display.IFrame at 0x108a49f98>"
      ]
     },
     "execution_count": 1,
     "metadata": {},
     "output_type": "execute_result"
    }
   ],
   "source": [
    "# display auditor documentation in the notebook\n",
    "from IPython.display import IFrame\n",
    "IFrame(\"./data/02-franklin-description.pdf\", 800, 600)"
   ]
  },
  {
   "cell_type": "markdown",
   "metadata": {},
   "source": [
    "We can use the panda's *read_csv()* method to load the data."
   ]
  },
  {
   "cell_type": "code",
   "execution_count": 2,
   "metadata": {},
   "outputs": [],
   "source": [
    "# load data\n",
    "import pandas as pd\n",
    "franklin = pd.read_csv('./data/02-franklin.csv')"
   ]
  },
  {
   "cell_type": "markdown",
   "metadata": {},
   "source": [
    "With the data loaded, we can now begin examining it. To start, we can see the complete list of columns in the dataset.  Compare this to the columns in the documentation - there are column names in the dataset that do not appear in the documentation and column names in the documentation that do not appear in the dataset."
   ]
  },
  {
   "cell_type": "code",
   "execution_count": 3,
   "metadata": {},
   "outputs": [
    {
     "data": {
      "text/plain": [
       "['PID',\n",
       " 'AEXMLND',\n",
       " 'AEXMBLD',\n",
       " 'AEXMTOT',\n",
       " 'APPRLND',\n",
       " 'APPRBLD',\n",
       " 'APPRTOT',\n",
       " 'AUDMAP',\n",
       " 'AUDRTG',\n",
       " 'LANDUSE',\n",
       " 'CAUV',\n",
       " 'SCHOOL',\n",
       " 'HOMSTD',\n",
       " 'MAILAD1',\n",
       " 'MAILAD2',\n",
       " 'MAILAD3',\n",
       " 'MAILAD4',\n",
       " 'TRANDT',\n",
       " 'TRANYR',\n",
       " 'NAME1',\n",
       " 'NAME2',\n",
       " 'NAME3',\n",
       " 'OWNER_ADD1',\n",
       " 'OWNER_ADD2',\n",
       " 'NBRHD',\n",
       " 'FLOOD',\n",
       " 'PCLASS',\n",
       " 'NOCARDS',\n",
       " 'ACREA',\n",
       " 'PRICE',\n",
       " 'ANN_TAX',\n",
       " 'STHNUM',\n",
       " 'STCONT',\n",
       " 'STHSFX',\n",
       " 'STDIRE',\n",
       " 'STNAME',\n",
       " 'STSFX',\n",
       " 'STADDR',\n",
       " 'USPS_CITY',\n",
       " 'STATE',\n",
       " 'ZIPCODE',\n",
       " 'DESCR1',\n",
       " 'DESCR2',\n",
       " 'DESCR3',\n",
       " 'TAXDESI',\n",
       " 'VALID',\n",
       " 'AREA_A',\n",
       " 'DWELTYP',\n",
       " 'ROOMS',\n",
       " 'BATHS',\n",
       " 'HBATHS',\n",
       " 'BEDRMS',\n",
       " 'AIRCOND',\n",
       " 'CINBRHD',\n",
       " 'COND',\n",
       " 'FIREPLC',\n",
       " 'GRADE',\n",
       " 'HEIGHT',\n",
       " 'NOSTORY',\n",
       " 'YEARBLT',\n",
       " 'PROPTYP',\n",
       " 'WALL',\n",
       " 'TIFMLND',\n",
       " 'TIFMBLD',\n",
       " 'POINT_X',\n",
       " 'POINT_Y']"
      ]
     },
     "execution_count": 3,
     "metadata": {},
     "output_type": "execute_result"
    }
   ],
   "source": [
    "franklin.columns.tolist()"
   ]
  },
  {
   "cell_type": "markdown",
   "metadata": {},
   "source": [
    "We can view the first few rows using the DataFrame's *head()* method.  We'll increase the number of columns displayed to 200 to accommodate the datasets we'll be working with. "
   ]
  },
  {
   "cell_type": "code",
   "execution_count": 4,
   "metadata": {},
   "outputs": [
    {
     "data": {
      "text/html": [
       "<div>\n",
       "<style scoped>\n",
       "    .dataframe tbody tr th:only-of-type {\n",
       "        vertical-align: middle;\n",
       "    }\n",
       "\n",
       "    .dataframe tbody tr th {\n",
       "        vertical-align: top;\n",
       "    }\n",
       "\n",
       "    .dataframe thead th {\n",
       "        text-align: right;\n",
       "    }\n",
       "</style>\n",
       "<table border=\"1\" class=\"dataframe\">\n",
       "  <thead>\n",
       "    <tr style=\"text-align: right;\">\n",
       "      <th></th>\n",
       "      <th>PID</th>\n",
       "      <th>AEXMLND</th>\n",
       "      <th>AEXMBLD</th>\n",
       "      <th>AEXMTOT</th>\n",
       "      <th>APPRLND</th>\n",
       "      <th>APPRBLD</th>\n",
       "      <th>APPRTOT</th>\n",
       "      <th>AUDMAP</th>\n",
       "      <th>AUDRTG</th>\n",
       "      <th>LANDUSE</th>\n",
       "      <th>CAUV</th>\n",
       "      <th>SCHOOL</th>\n",
       "      <th>HOMSTD</th>\n",
       "      <th>MAILAD1</th>\n",
       "      <th>MAILAD2</th>\n",
       "      <th>MAILAD3</th>\n",
       "      <th>MAILAD4</th>\n",
       "      <th>TRANDT</th>\n",
       "      <th>TRANYR</th>\n",
       "      <th>NAME1</th>\n",
       "      <th>NAME2</th>\n",
       "      <th>NAME3</th>\n",
       "      <th>OWNER_ADD1</th>\n",
       "      <th>OWNER_ADD2</th>\n",
       "      <th>NBRHD</th>\n",
       "      <th>FLOOD</th>\n",
       "      <th>PCLASS</th>\n",
       "      <th>NOCARDS</th>\n",
       "      <th>ACREA</th>\n",
       "      <th>PRICE</th>\n",
       "      <th>ANN_TAX</th>\n",
       "      <th>STHNUM</th>\n",
       "      <th>STCONT</th>\n",
       "      <th>STHSFX</th>\n",
       "      <th>STDIRE</th>\n",
       "      <th>STNAME</th>\n",
       "      <th>STSFX</th>\n",
       "      <th>STADDR</th>\n",
       "      <th>USPS_CITY</th>\n",
       "      <th>STATE</th>\n",
       "      <th>ZIPCODE</th>\n",
       "      <th>DESCR1</th>\n",
       "      <th>DESCR2</th>\n",
       "      <th>DESCR3</th>\n",
       "      <th>TAXDESI</th>\n",
       "      <th>VALID</th>\n",
       "      <th>AREA_A</th>\n",
       "      <th>DWELTYP</th>\n",
       "      <th>ROOMS</th>\n",
       "      <th>BATHS</th>\n",
       "      <th>HBATHS</th>\n",
       "      <th>BEDRMS</th>\n",
       "      <th>AIRCOND</th>\n",
       "      <th>CINBRHD</th>\n",
       "      <th>COND</th>\n",
       "      <th>FIREPLC</th>\n",
       "      <th>GRADE</th>\n",
       "      <th>HEIGHT</th>\n",
       "      <th>NOSTORY</th>\n",
       "      <th>YEARBLT</th>\n",
       "      <th>PROPTYP</th>\n",
       "      <th>WALL</th>\n",
       "      <th>TIFMLND</th>\n",
       "      <th>TIFMBLD</th>\n",
       "      <th>POINT_X</th>\n",
       "      <th>POINT_Y</th>\n",
       "    </tr>\n",
       "  </thead>\n",
       "  <tbody>\n",
       "    <tr>\n",
       "      <th>0</th>\n",
       "      <td>010-020705</td>\n",
       "      <td>0.0</td>\n",
       "      <td>0.0</td>\n",
       "      <td>0.0</td>\n",
       "      <td>8100.0</td>\n",
       "      <td>59600.0</td>\n",
       "      <td>67700.0</td>\n",
       "      <td>D013</td>\n",
       "      <td>10.0</td>\n",
       "      <td>520</td>\n",
       "      <td>0.0</td>\n",
       "      <td>2503</td>\n",
       "      <td>NaN</td>\n",
       "      <td>MIDWEST LOAN SERVICES</td>\n",
       "      <td>NaN</td>\n",
       "      <td>616 SHELDEN AVE STE 300</td>\n",
       "      <td>HOUGHTON MI 49931-1841</td>\n",
       "      <td>3/22/2016 0:00:00</td>\n",
       "      <td>2016.0</td>\n",
       "      <td>NORRIS ROBIN R</td>\n",
       "      <td>HUGO ROBIN</td>\n",
       "      <td>NaN</td>\n",
       "      <td>246 ELDON AVE</td>\n",
       "      <td>COLUMBUS OH         43204</td>\n",
       "      <td>94.0</td>\n",
       "      <td>NaN</td>\n",
       "      <td>R</td>\n",
       "      <td>1.0</td>\n",
       "      <td>0.0</td>\n",
       "      <td>0.0</td>\n",
       "      <td>1455.02</td>\n",
       "      <td>244.0</td>\n",
       "      <td>-</td>\n",
       "      <td>246.0</td>\n",
       "      <td>N</td>\n",
       "      <td>ELDON</td>\n",
       "      <td>AV</td>\n",
       "      <td>244 - 246 N ELDON AV</td>\n",
       "      <td>COLUMBUS</td>\n",
       "      <td>OH</td>\n",
       "      <td>43204.0</td>\n",
       "      <td>244-6 ELDON AVE</td>\n",
       "      <td>HILL CREST PARK</td>\n",
       "      <td>LOT 24</td>\n",
       "      <td>CITY OF COLUMBUS</td>\n",
       "      <td>N</td>\n",
       "      <td>2264</td>\n",
       "      <td>1.0</td>\n",
       "      <td>10</td>\n",
       "      <td>2</td>\n",
       "      <td>0</td>\n",
       "      <td>4</td>\n",
       "      <td>1</td>\n",
       "      <td>NaN</td>\n",
       "      <td>NaN</td>\n",
       "      <td>NaN</td>\n",
       "      <td>C</td>\n",
       "      <td>DUPLEX</td>\n",
       "      <td>20.0</td>\n",
       "      <td>1925.0</td>\n",
       "      <td>NaN</td>\n",
       "      <td>WD/ALUM/VINYL</td>\n",
       "      <td>0.0</td>\n",
       "      <td>0.0</td>\n",
       "      <td>1809670.02</td>\n",
       "      <td>714541.95</td>\n",
       "    </tr>\n",
       "    <tr>\n",
       "      <th>1</th>\n",
       "      <td>010-020716</td>\n",
       "      <td>0.0</td>\n",
       "      <td>0.0</td>\n",
       "      <td>0.0</td>\n",
       "      <td>4600.0</td>\n",
       "      <td>69800.0</td>\n",
       "      <td>74400.0</td>\n",
       "      <td>D021</td>\n",
       "      <td>11.0</td>\n",
       "      <td>510</td>\n",
       "      <td>0.0</td>\n",
       "      <td>2503</td>\n",
       "      <td>NaN</td>\n",
       "      <td>TINA L CALDWELL</td>\n",
       "      <td>JAMES P KLAUSMAN</td>\n",
       "      <td>189 ELDON AVE</td>\n",
       "      <td>COLUMBUS OH 43204-3706</td>\n",
       "      <td>4/16/1996 0:00:00</td>\n",
       "      <td>1996.0</td>\n",
       "      <td>CALDWELL TINA L</td>\n",
       "      <td>JAMES P KLAUSMAN</td>\n",
       "      <td>NaN</td>\n",
       "      <td>NaN</td>\n",
       "      <td>NaN</td>\n",
       "      <td>94.0</td>\n",
       "      <td>NaN</td>\n",
       "      <td>R</td>\n",
       "      <td>1.0</td>\n",
       "      <td>0.0</td>\n",
       "      <td>50000.0</td>\n",
       "      <td>1578.72</td>\n",
       "      <td>189.0</td>\n",
       "      <td>NaN</td>\n",
       "      <td>NaN</td>\n",
       "      <td>N</td>\n",
       "      <td>ELDON</td>\n",
       "      <td>AV</td>\n",
       "      <td>189 N ELDON AV</td>\n",
       "      <td>COLUMBUS</td>\n",
       "      <td>OH</td>\n",
       "      <td>43204.0</td>\n",
       "      <td>189 N ELDEN AVE</td>\n",
       "      <td>HILL CREST PARK</td>\n",
       "      <td>LOT 39</td>\n",
       "      <td>CITY OF COLUMBUS</td>\n",
       "      <td>Y</td>\n",
       "      <td>1835</td>\n",
       "      <td>1.0</td>\n",
       "      <td>7</td>\n",
       "      <td>1</td>\n",
       "      <td>1</td>\n",
       "      <td>4</td>\n",
       "      <td>1</td>\n",
       "      <td>NaN</td>\n",
       "      <td>NaN</td>\n",
       "      <td>1.0</td>\n",
       "      <td>C</td>\n",
       "      <td>OLD STYLE</td>\n",
       "      <td>20.0</td>\n",
       "      <td>1919.0</td>\n",
       "      <td>NaN</td>\n",
       "      <td>WD/ALUM/VINYL</td>\n",
       "      <td>0.0</td>\n",
       "      <td>0.0</td>\n",
       "      <td>1809445.97</td>\n",
       "      <td>714129.83</td>\n",
       "    </tr>\n",
       "    <tr>\n",
       "      <th>2</th>\n",
       "      <td>010-020713</td>\n",
       "      <td>0.0</td>\n",
       "      <td>0.0</td>\n",
       "      <td>0.0</td>\n",
       "      <td>4900.0</td>\n",
       "      <td>60600.0</td>\n",
       "      <td>65500.0</td>\n",
       "      <td>D013</td>\n",
       "      <td>18.0</td>\n",
       "      <td>510</td>\n",
       "      <td>0.0</td>\n",
       "      <td>2503</td>\n",
       "      <td>NaN</td>\n",
       "      <td>WELLS FARGO REAL ESTATE</td>\n",
       "      <td>MAC X2302-04D</td>\n",
       "      <td>1 HOME CAMPUS</td>\n",
       "      <td>DES MOINES IA 50328-0001</td>\n",
       "      <td>3/13/2015 0:00:00</td>\n",
       "      <td>2015.0</td>\n",
       "      <td>CROYLE STEVE V</td>\n",
       "      <td>NaN</td>\n",
       "      <td>NaN</td>\n",
       "      <td>202 ELDON AVE</td>\n",
       "      <td>COLUMBUS OH         43204</td>\n",
       "      <td>94.0</td>\n",
       "      <td>NaN</td>\n",
       "      <td>R</td>\n",
       "      <td>1.0</td>\n",
       "      <td>0.0</td>\n",
       "      <td>64000.0</td>\n",
       "      <td>1390.16</td>\n",
       "      <td>202.0</td>\n",
       "      <td>NaN</td>\n",
       "      <td>NaN</td>\n",
       "      <td>N</td>\n",
       "      <td>ELDON</td>\n",
       "      <td>AV</td>\n",
       "      <td>202 N ELDON AV</td>\n",
       "      <td>COLUMBUS</td>\n",
       "      <td>OH</td>\n",
       "      <td>43204.0</td>\n",
       "      <td>202 ELDON AVE</td>\n",
       "      <td>HILLCREST PK</td>\n",
       "      <td>LOT 32</td>\n",
       "      <td>CITY OF COLUMBUS</td>\n",
       "      <td>Y</td>\n",
       "      <td>1656</td>\n",
       "      <td>1.0</td>\n",
       "      <td>7</td>\n",
       "      <td>1</td>\n",
       "      <td>0</td>\n",
       "      <td>3</td>\n",
       "      <td>1</td>\n",
       "      <td>NaN</td>\n",
       "      <td>NaN</td>\n",
       "      <td>NaN</td>\n",
       "      <td>C</td>\n",
       "      <td>OLD STYLE</td>\n",
       "      <td>20.0</td>\n",
       "      <td>1925.0</td>\n",
       "      <td>NaN</td>\n",
       "      <td>WD/ALUM/VINYL</td>\n",
       "      <td>0.0</td>\n",
       "      <td>0.0</td>\n",
       "      <td>1809641.41</td>\n",
       "      <td>714204.64</td>\n",
       "    </tr>\n",
       "    <tr>\n",
       "      <th>3</th>\n",
       "      <td>010-020784</td>\n",
       "      <td>0.0</td>\n",
       "      <td>0.0</td>\n",
       "      <td>0.0</td>\n",
       "      <td>5800.0</td>\n",
       "      <td>0.0</td>\n",
       "      <td>5800.0</td>\n",
       "      <td>D004</td>\n",
       "      <td>12.0</td>\n",
       "      <td>510</td>\n",
       "      <td>0.0</td>\n",
       "      <td>2503</td>\n",
       "      <td>NaN</td>\n",
       "      <td>HUNTINGTON MORTGAGE CORP</td>\n",
       "      <td>NaN</td>\n",
       "      <td>PO BOX 182661</td>\n",
       "      <td>COLUMBUS OH 43218-2661</td>\n",
       "      <td>9/18/2006 0:00:00</td>\n",
       "      <td>2006.0</td>\n",
       "      <td>TERRY DAVID G</td>\n",
       "      <td>TERRY CONSTANCE E</td>\n",
       "      <td>NaN</td>\n",
       "      <td>2450 WESTWOOD DR</td>\n",
       "      <td>COLUMBUS OH         43204</td>\n",
       "      <td>94.0</td>\n",
       "      <td>NaN</td>\n",
       "      <td>R</td>\n",
       "      <td>NaN</td>\n",
       "      <td>0.0</td>\n",
       "      <td>134000.0</td>\n",
       "      <td>126.20</td>\n",
       "      <td>NaN</td>\n",
       "      <td>NaN</td>\n",
       "      <td>NaN</td>\n",
       "      <td>NaN</td>\n",
       "      <td>WESTWOOD</td>\n",
       "      <td>DR</td>\n",
       "      <td>WESTWOOD DR</td>\n",
       "      <td>COLUMBUS</td>\n",
       "      <td>OH</td>\n",
       "      <td>43204.0</td>\n",
       "      <td>N S WESTWOOD DR</td>\n",
       "      <td>HILLCREST PARK</td>\n",
       "      <td>LOT 124</td>\n",
       "      <td>CITY OF COLUMBUS</td>\n",
       "      <td>Y</td>\n",
       "      <td>0</td>\n",
       "      <td>NaN</td>\n",
       "      <td>0</td>\n",
       "      <td>0</td>\n",
       "      <td>0</td>\n",
       "      <td>0</td>\n",
       "      <td>0</td>\n",
       "      <td>NaN</td>\n",
       "      <td>NaN</td>\n",
       "      <td>NaN</td>\n",
       "      <td>NaN</td>\n",
       "      <td>NaN</td>\n",
       "      <td>NaN</td>\n",
       "      <td>NaN</td>\n",
       "      <td>NaN</td>\n",
       "      <td>NaN</td>\n",
       "      <td>0.0</td>\n",
       "      <td>0.0</td>\n",
       "      <td>1809302.85</td>\n",
       "      <td>715262.74</td>\n",
       "    </tr>\n",
       "    <tr>\n",
       "      <th>4</th>\n",
       "      <td>010-020773</td>\n",
       "      <td>0.0</td>\n",
       "      <td>0.0</td>\n",
       "      <td>0.0</td>\n",
       "      <td>5000.0</td>\n",
       "      <td>31200.0</td>\n",
       "      <td>36200.0</td>\n",
       "      <td>D004</td>\n",
       "      <td>8.0</td>\n",
       "      <td>510</td>\n",
       "      <td>0.0</td>\n",
       "      <td>2503</td>\n",
       "      <td>NaN</td>\n",
       "      <td>CHRISTOPHER M SNAPP</td>\n",
       "      <td>NaN</td>\n",
       "      <td>6448 SHARON WOODS BLVD</td>\n",
       "      <td>COLUMBUS OH 43229-2072</td>\n",
       "      <td>10/21/2011 0:00:00</td>\n",
       "      <td>2011.0</td>\n",
       "      <td>SNAPP CHRISTOPHER M</td>\n",
       "      <td>NaN</td>\n",
       "      <td>NaN</td>\n",
       "      <td>351 ELDON AVE</td>\n",
       "      <td>COLUMBUS OH         43204</td>\n",
       "      <td>94.0</td>\n",
       "      <td>NaN</td>\n",
       "      <td>R</td>\n",
       "      <td>1.0</td>\n",
       "      <td>0.0</td>\n",
       "      <td>0.0</td>\n",
       "      <td>768.12</td>\n",
       "      <td>351.0</td>\n",
       "      <td>NaN</td>\n",
       "      <td>NaN</td>\n",
       "      <td>NaN</td>\n",
       "      <td>ELDON</td>\n",
       "      <td>AV</td>\n",
       "      <td>351 ELDON AV</td>\n",
       "      <td>COLUMBUS</td>\n",
       "      <td>OH</td>\n",
       "      <td>43204.0</td>\n",
       "      <td>351 ELDEN AVE</td>\n",
       "      <td>HILLCREST PARK</td>\n",
       "      <td>LOT 113</td>\n",
       "      <td>CITY OF COLUMBUS</td>\n",
       "      <td>N</td>\n",
       "      <td>1000</td>\n",
       "      <td>1.0</td>\n",
       "      <td>5</td>\n",
       "      <td>1</td>\n",
       "      <td>0</td>\n",
       "      <td>2</td>\n",
       "      <td>1</td>\n",
       "      <td>NaN</td>\n",
       "      <td>NaN</td>\n",
       "      <td>NaN</td>\n",
       "      <td>C-1</td>\n",
       "      <td>RANCH</td>\n",
       "      <td>10.0</td>\n",
       "      <td>1922.0</td>\n",
       "      <td>NaN</td>\n",
       "      <td>WD/ALUM/VINYL</td>\n",
       "      <td>0.0</td>\n",
       "      <td>0.0</td>\n",
       "      <td>1808870.83</td>\n",
       "      <td>715286.02</td>\n",
       "    </tr>\n",
       "  </tbody>\n",
       "</table>\n",
       "</div>"
      ],
      "text/plain": [
       "          PID  AEXMLND  AEXMBLD  AEXMTOT  APPRLND  APPRBLD  APPRTOT AUDMAP  \\\n",
       "0  010-020705      0.0      0.0      0.0   8100.0  59600.0  67700.0   D013   \n",
       "1  010-020716      0.0      0.0      0.0   4600.0  69800.0  74400.0   D021   \n",
       "2  010-020713      0.0      0.0      0.0   4900.0  60600.0  65500.0   D013   \n",
       "3  010-020784      0.0      0.0      0.0   5800.0      0.0   5800.0   D004   \n",
       "4  010-020773      0.0      0.0      0.0   5000.0  31200.0  36200.0   D004   \n",
       "\n",
       "   AUDRTG  LANDUSE  CAUV  SCHOOL HOMSTD                   MAILAD1  \\\n",
       "0    10.0      520   0.0    2503    NaN     MIDWEST LOAN SERVICES   \n",
       "1    11.0      510   0.0    2503    NaN           TINA L CALDWELL   \n",
       "2    18.0      510   0.0    2503    NaN   WELLS FARGO REAL ESTATE   \n",
       "3    12.0      510   0.0    2503    NaN  HUNTINGTON MORTGAGE CORP   \n",
       "4     8.0      510   0.0    2503    NaN       CHRISTOPHER M SNAPP   \n",
       "\n",
       "            MAILAD2                  MAILAD3                   MAILAD4  \\\n",
       "0               NaN  616 SHELDEN AVE STE 300    HOUGHTON MI 49931-1841   \n",
       "1  JAMES P KLAUSMAN            189 ELDON AVE    COLUMBUS OH 43204-3706   \n",
       "2     MAC X2302-04D            1 HOME CAMPUS  DES MOINES IA 50328-0001   \n",
       "3               NaN            PO BOX 182661    COLUMBUS OH 43218-2661   \n",
       "4               NaN   6448 SHARON WOODS BLVD    COLUMBUS OH 43229-2072   \n",
       "\n",
       "               TRANDT  TRANYR                NAME1              NAME2  NAME3  \\\n",
       "0   3/22/2016 0:00:00  2016.0       NORRIS ROBIN R         HUGO ROBIN    NaN   \n",
       "1   4/16/1996 0:00:00  1996.0      CALDWELL TINA L   JAMES P KLAUSMAN    NaN   \n",
       "2   3/13/2015 0:00:00  2015.0       CROYLE STEVE V                NaN    NaN   \n",
       "3   9/18/2006 0:00:00  2006.0        TERRY DAVID G  TERRY CONSTANCE E    NaN   \n",
       "4  10/21/2011 0:00:00  2011.0  SNAPP CHRISTOPHER M                NaN    NaN   \n",
       "\n",
       "         OWNER_ADD1                 OWNER_ADD2  NBRHD  FLOOD PCLASS  NOCARDS  \\\n",
       "0     246 ELDON AVE  COLUMBUS OH         43204   94.0    NaN      R      1.0   \n",
       "1               NaN                        NaN   94.0    NaN      R      1.0   \n",
       "2     202 ELDON AVE  COLUMBUS OH         43204   94.0    NaN      R      1.0   \n",
       "3  2450 WESTWOOD DR  COLUMBUS OH         43204   94.0    NaN      R      NaN   \n",
       "4     351 ELDON AVE  COLUMBUS OH         43204   94.0    NaN      R      1.0   \n",
       "\n",
       "   ACREA     PRICE  ANN_TAX  STHNUM STCONT  STHSFX STDIRE    STNAME STSFX  \\\n",
       "0    0.0       0.0  1455.02   244.0      -   246.0      N     ELDON    AV   \n",
       "1    0.0   50000.0  1578.72   189.0    NaN     NaN      N     ELDON    AV   \n",
       "2    0.0   64000.0  1390.16   202.0    NaN     NaN      N     ELDON    AV   \n",
       "3    0.0  134000.0   126.20     NaN    NaN     NaN    NaN  WESTWOOD    DR   \n",
       "4    0.0       0.0   768.12   351.0    NaN     NaN    NaN     ELDON    AV   \n",
       "\n",
       "                 STADDR USPS_CITY STATE  ZIPCODE           DESCR1  \\\n",
       "0  244 - 246 N ELDON AV  COLUMBUS    OH  43204.0  244-6 ELDON AVE   \n",
       "1        189 N ELDON AV  COLUMBUS    OH  43204.0  189 N ELDEN AVE   \n",
       "2        202 N ELDON AV  COLUMBUS    OH  43204.0    202 ELDON AVE   \n",
       "3           WESTWOOD DR  COLUMBUS    OH  43204.0  N S WESTWOOD DR   \n",
       "4          351 ELDON AV  COLUMBUS    OH  43204.0    351 ELDEN AVE   \n",
       "\n",
       "            DESCR2   DESCR3           TAXDESI VALID  AREA_A  DWELTYP  ROOMS  \\\n",
       "0  HILL CREST PARK   LOT 24  CITY OF COLUMBUS     N    2264      1.0     10   \n",
       "1  HILL CREST PARK   LOT 39  CITY OF COLUMBUS     Y    1835      1.0      7   \n",
       "2     HILLCREST PK   LOT 32  CITY OF COLUMBUS     Y    1656      1.0      7   \n",
       "3   HILLCREST PARK  LOT 124  CITY OF COLUMBUS     Y       0      NaN      0   \n",
       "4   HILLCREST PARK  LOT 113  CITY OF COLUMBUS     N    1000      1.0      5   \n",
       "\n",
       "   BATHS  HBATHS  BEDRMS  AIRCOND  CINBRHD  COND  FIREPLC GRADE     HEIGHT  \\\n",
       "0      2       0       4        1      NaN   NaN      NaN     C     DUPLEX   \n",
       "1      1       1       4        1      NaN   NaN      1.0     C  OLD STYLE   \n",
       "2      1       0       3        1      NaN   NaN      NaN     C  OLD STYLE   \n",
       "3      0       0       0        0      NaN   NaN      NaN   NaN        NaN   \n",
       "4      1       0       2        1      NaN   NaN      NaN   C-1      RANCH   \n",
       "\n",
       "   NOSTORY  YEARBLT  PROPTYP           WALL  TIFMLND  TIFMBLD     POINT_X  \\\n",
       "0     20.0   1925.0      NaN  WD/ALUM/VINYL      0.0      0.0  1809670.02   \n",
       "1     20.0   1919.0      NaN  WD/ALUM/VINYL      0.0      0.0  1809445.97   \n",
       "2     20.0   1925.0      NaN  WD/ALUM/VINYL      0.0      0.0  1809641.41   \n",
       "3      NaN      NaN      NaN            NaN      0.0      0.0  1809302.85   \n",
       "4     10.0   1922.0      NaN  WD/ALUM/VINYL      0.0      0.0  1808870.83   \n",
       "\n",
       "     POINT_Y  \n",
       "0  714541.95  \n",
       "1  714129.83  \n",
       "2  714204.64  \n",
       "3  715262.74  \n",
       "4  715286.02  "
      ]
     },
     "execution_count": 4,
     "metadata": {},
     "output_type": "execute_result"
    }
   ],
   "source": [
    "pd.set_option('display.max_column', 200)\n",
    "franklin.head()"
   ]
  },
  {
   "cell_type": "markdown",
   "metadata": {},
   "source": [
    "Examining these rows, we can get a sense of the type of data in each column.  We can also see that some values are `NaN` which stands for \"Not a Number\" and is used when no value is present, i.e. when data is missing.  We'll address these values later.\n",
    "\n",
    "As noted earlier, we'd like to extract appraisal value, sale price, and other data for residential real estate.  Based on the documentation, the `PCLASS` field should indicate a parcel's property class.  The first few rows of data are consistent with the documentation.  To see all the values that appear in the `PCLASS` field, we can use the *unique()* method for that column."
   ]
  },
  {
   "cell_type": "code",
   "execution_count": 5,
   "metadata": {},
   "outputs": [
    {
     "data": {
      "text/plain": [
       "array(['R', 'C', 'E', 'I', nan, 'Z', 'A'], dtype=object)"
      ]
     },
     "execution_count": 5,
     "metadata": {},
     "output_type": "execute_result"
    }
   ],
   "source": [
    "franklin.PCLASS.unique()"
   ]
  },
  {
   "cell_type": "markdown",
   "metadata": {},
   "source": [
    "We can also see the number of records with each value using the *value_counts()* method."
   ]
  },
  {
   "cell_type": "code",
   "execution_count": 6,
   "metadata": {},
   "outputs": [
    {
     "data": {
      "text/plain": [
       "R    37902\n",
       "C     3094\n",
       "E     1290\n",
       "I      397\n",
       "A      108\n",
       "Z       45\n",
       "Name: PCLASS, dtype: int64"
      ]
     },
     "execution_count": 6,
     "metadata": {},
     "output_type": "execute_result"
    }
   ],
   "source": [
    "franklin.PCLASS.value_counts()"
   ]
  },
  {
   "cell_type": "markdown",
   "metadata": {},
   "source": [
    "The documentation indicates that the `PROPTYP` also includes property type information; however, the first five rows do not have values for this field.  \n",
    "\n",
    "<hr>\n",
    "<a name=\"Lab-1\"></a><mark> **Lab 1** Using *unique()*  or *value_counts()* in the cell below, confirm that none of the rows have data for the `PROPTYP` field.</mark>"
   ]
  },
  {
   "cell_type": "code",
   "execution_count": null,
   "metadata": {},
   "outputs": [],
   "source": []
  },
  {
   "cell_type": "markdown",
   "metadata": {},
   "source": [
    "<hr>\n",
    "Based on the documentation and the first few rows of data, we might be interested in extracting the following columns from the larger dataset.\n",
    "\n",
    "- `APPRLND`: appraisal land value\n",
    "- `APPRBLD`: appraisal building value\n",
    "- `PCLASS`: property class\n",
    "- `PRICE`: sales price\n",
    "- `AREA_A`: building area\n",
    "- `ROOMS`: total number of rooms\n",
    "- `BATHS`: number of full bathrooms\n",
    "- `HBATHS`: number of half bathrooms\n",
    "- `BEDRMS`: number of bedrooms\n",
    "- `AIRCOND`: heating and/or air conditioning\n",
    "- `FIREPLC`: presence of a fireplace\n",
    "- `YEARBLT`: the build year\n",
    "\n",
    "To extract these columns, we'll first create a list containing their names then create a copy of the DataFrame consisting only of the columns."
   ]
  },
  {
   "cell_type": "code",
   "execution_count": 7,
   "metadata": {},
   "outputs": [],
   "source": [
    "# home properties or fields we can use to filter out data\n",
    "franklin_columns = ['APPRLND', 'APPRBLD', 'PCLASS', 'PRICE', 'AREA_A', 'ROOMS','BATHS', \n",
    "                    'HBATHS', 'BEDRMS', 'AIRCOND', 'FIREPLC','YEARBLT']\n",
    "\n",
    "# copy vs view\n",
    "franklin_subset = franklin[franklin_columns].copy()"
   ]
  },
  {
   "cell_type": "markdown",
   "metadata": {},
   "source": [
    "The data in `franklin_subset` is a copy of the source data.  We can manipulate the copy while leaving the full dataset unchanged.  This can be helpful if we make a mistake or need to see what a value might have been prior to manipulation. Alternatively, we could just reload the data whenever necessary.\n",
    "\n",
    "The first thing we can do is remove data for non-residential properties.  As shown above, 37,902 records correspond to residential properties.  To filter the data, we can use a mask and bracket notation with the DataFrame.  The mask we'll need is one that evaluates to `True` when the value of `PCLASS` is `R`.\n",
    "\n",
    "One we've filtered the data, we can drop the `PCLASS` column as it is no longer needed.  To do this, we'll use the DataFrame's *drop()* method and specify the column name and axis.  We'll specify an axis value of *1* to indicate that we'd like to drop a column as opposed to a value of *0* to drop a row. We'll also use the *inplace* keyword argument to indicate that we'd like to manipulate the DataFrame itself rather than to return a DataFrame with the dropped column."
   ]
  },
  {
   "cell_type": "code",
   "execution_count": 8,
   "metadata": {},
   "outputs": [],
   "source": [
    "# filter the data using a mask\n",
    "franklin_subset = franklin_subset[franklin_subset.PCLASS == 'R']\n",
    "\n",
    "# drop the PCLASS column\n",
    "franklin_subset.drop(['PCLASS'], axis=1, inplace=True)"
   ]
  },
  {
   "cell_type": "markdown",
   "metadata": {},
   "source": [
    "We can confirm that that the DataFrame has been filtered by comparing number of records in the `franklin_subset` DataFrame to the number of records in the `franklin` DataFrame.\n",
    "\n",
    "<hr>\n",
    "<a name=\"Lab-2\"></a><mark> **Lab 2** In the cell below, use *len()* and a comparison operator to confirm that the number of records in the `franklin_subset` DataFrame is less than the number of records in the `franklin` DataFrames.</mark>"
   ]
  },
  {
   "cell_type": "code",
   "execution_count": null,
   "metadata": {},
   "outputs": [],
   "source": []
  },
  {
   "cell_type": "markdown",
   "metadata": {},
   "source": [
    "<hr>\n",
    "\n",
    "Let's look at the the appraisal-related fields, `APPRLND` and `APPRBLD`.  From above, we know that that data in the `APPRBLD` field is stored as floating point numbers. We can use the *describe()* method to calculate some descriptive statistics for `APPRBLD`."
   ]
  },
  {
   "cell_type": "code",
   "execution_count": 9,
   "metadata": {},
   "outputs": [
    {
     "data": {
      "text/plain": [
       "count    3.790200e+04\n",
       "mean     1.128262e+05\n",
       "std      1.015612e+05\n",
       "min      0.000000e+00\n",
       "25%      5.130000e+04\n",
       "50%      9.340000e+04\n",
       "75%      1.461000e+05\n",
       "max      2.700000e+06\n",
       "Name: APPRBLD, dtype: float64"
      ]
     },
     "execution_count": 9,
     "metadata": {},
     "output_type": "execute_result"
    }
   ],
   "source": [
    "franklin_subset.APPRBLD.describe()"
   ]
  },
  {
   "cell_type": "markdown",
   "metadata": {},
   "source": [
    "Notice that the minimum value is zero.  Let's see how many records have a building appraisal value of zero. Because the data is stored as floating point numbers, we should be aware of the [issues](https://docs.python.org/3/tutorial/floatingpoint.html) related to floating point values.  If we choose to continue working with the data as floating point values, we can use the [NumPy *isclose()*](https://docs.scipy.org/doc/numpy/reference/generated/numpy.isclose.html) function to create a mask to compare values to zero."
   ]
  },
  {
   "cell_type": "code",
   "execution_count": 10,
   "metadata": {},
   "outputs": [
    {
     "data": {
      "text/plain": [
       "2858"
      ]
     },
     "execution_count": 10,
     "metadata": {},
     "output_type": "execute_result"
    }
   ],
   "source": [
    "len(franklin_subset[pd.np.isclose(franklin_subset.APPRBLD, 0)])"
   ]
  },
  {
   "cell_type": "markdown",
   "metadata": {},
   "source": [
    "As an alternative to working with floating point values, we can convert a column's datatype to `int` when appropriate.  Here, an integer would represent whole dollar amounts and would be meaningful; if decimals are used to record fractions of a dollar, we won't loose much information.  As a Series, each column has an *astype()* method that can be used to convert the column's type.  The method creates a copy so we have to reassign the DataFrame's column when doing the conversion."
   ]
  },
  {
   "cell_type": "code",
   "execution_count": 11,
   "metadata": {},
   "outputs": [],
   "source": [
    "franklin_subset['APPRBLD'] = franklin_subset.APPRBLD.astype(int)"
   ]
  },
  {
   "cell_type": "markdown",
   "metadata": {},
   "source": [
    "Now that the data is stored as integers, we can make comparisons more directly using the standard operators."
   ]
  },
  {
   "cell_type": "code",
   "execution_count": 12,
   "metadata": {},
   "outputs": [
    {
     "data": {
      "text/plain": [
       "2858"
      ]
     },
     "execution_count": 12,
     "metadata": {},
     "output_type": "execute_result"
    }
   ],
   "source": [
    "len(franklin_subset[franklin_subset.APPRBLD == 0])"
   ]
  },
  {
   "cell_type": "markdown",
   "metadata": {},
   "source": [
    "Let's filter the data to include only the rows where the building appraisal value is greater than zero."
   ]
  },
  {
   "cell_type": "code",
   "execution_count": 13,
   "metadata": {},
   "outputs": [],
   "source": [
    "franklin_subset = franklin_subset[franklin_subset.APPRBLD > 0]"
   ]
  },
  {
   "cell_type": "markdown",
   "metadata": {},
   "source": [
    "<hr>\n",
    "<a name=\"Lab-3\"></a><mark> **Lab 3** In the cell below, filter the `franklin_subset` DataFrame to exclude rows that have a `APPRLND` of zero.</mark>"
   ]
  },
  {
   "cell_type": "code",
   "execution_count": 14,
   "metadata": {},
   "outputs": [],
   "source": [
    "franklin_subset['APPRLND'] = franklin_subset.APPRLND.astype(int)\n",
    "franklin_subset = franklin_subset[franklin_subset.APPRLND > 0]"
   ]
  },
  {
   "cell_type": "markdown",
   "metadata": {},
   "source": [
    "<hr>"
   ]
  },
  {
   "cell_type": "markdown",
   "metadata": {},
   "source": [
    "To simplify comparisons and other analysis later, we might choose to combine the data related to number of bathrooms into on column.  Because the data currently distinguishes between full and half baths, we can calculate the total number of bathrooms as the sum of the value of `BATH` and half the value of `HBATHS`.  Note that this has the effect of counting two half-bathrooms as a full bathroom; while two half-bathrooms might effect price differently than a full bathroom, we'll effectively ignore any such effect.\n",
    "\n",
    "<hr>\n",
    "<a name=\"Lab-4\"></a><mark> **Lab 4** The data type of the `HBATH` and `HBATHS` should a numeric type (an integer or a floating point value) in order to calculate the combined value directly from the existing values.  In the cell below, use the `dtypes` property to confirm that the `HBATH` and `HBATHS` columns have a numeric data type.</mark>"
   ]
  },
  {
   "cell_type": "code",
   "execution_count": null,
   "metadata": {},
   "outputs": [],
   "source": []
  },
  {
   "cell_type": "markdown",
   "metadata": {},
   "source": [
    "<hr>\n",
    "\n",
    "Rather than using a for loop and calculating net number of bathrooms for each row, pandas supports element-wise multiplication and addition allowing use to do the following.  For this calculation we will treat missing data in the same was as a zero value.  To do this, we use the *fillna()* method for the appropriate column and specify the value we'd like to use in place of missing values - zero, in this case."
   ]
  },
  {
   "cell_type": "code",
   "execution_count": 15,
   "metadata": {},
   "outputs": [],
   "source": [
    "franklin_subset[\"Bathrooms\"] = franklin_subset.BATHS.fillna(0) + 0.5 * franklin_subset.HBATHS.fillna(0)"
   ]
  },
  {
   "cell_type": "markdown",
   "metadata": {},
   "source": [
    "This calculates the number of bathrooms as defined above and creates stores each row's value in a new column named `Bathrooms`.  \n",
    "\n",
    "<hr>\n",
    "<a name=\"Lab-5\"></a><mark> **Lab 5** We no longer need the `BATHS` or `HBATHS` columns. In the cell below, use the *drop()* method to remove these columns from the `franklin_subset` DataFrame.</mark>"
   ]
  },
  {
   "cell_type": "code",
   "execution_count": 16,
   "metadata": {},
   "outputs": [],
   "source": [
    "franklin_subset.drop(['BATHS', \"HBATHS\"], axis=1, inplace=True)"
   ]
  },
  {
   "cell_type": "markdown",
   "metadata": {},
   "source": [
    "<hr>\n",
    "\n",
    "Next, let's look at the `AIRCOND` column.  The documentation indicates that the field can take one of three values:\n",
    "\n",
    "- 0: No heating or air conditioning\n",
    "- 1: Heat\n",
    "- 2: Air conditioning and heat\n",
    "\n",
    "Let's compare this to the actual values in the dataset."
   ]
  },
  {
   "cell_type": "code",
   "execution_count": 17,
   "metadata": {},
   "outputs": [
    {
     "data": {
      "text/plain": [
       "array([1, 0])"
      ]
     },
     "execution_count": 17,
     "metadata": {},
     "output_type": "execute_result"
    }
   ],
   "source": [
    "# unique values in aircond\n",
    "franklin_subset.AIRCOND.unique()"
   ]
  },
  {
   "cell_type": "markdown",
   "metadata": {},
   "source": [
    "As we can see the `AIRCOND` column doesn't contain any records with a value of 2.  At this point, we might contact the person responsible for maintaining the data for clarification.  For our work, we'll that all residential parcels in the dataset have heat and `AIRCOND` here indicates whether or not air conditioning is available.  We can change the data type of the column to reflect this.  "
   ]
  },
  {
   "cell_type": "code",
   "execution_count": 18,
   "metadata": {},
   "outputs": [],
   "source": [
    "franklin_subset.AIRCOND = franklin_subset.AIRCOND.astype('bool')"
   ]
  },
  {
   "cell_type": "markdown",
   "metadata": {},
   "source": [
    "Moving on to to the `FIREPLC` column, we can list the unique values to see that the dataset is again inconsistent with the documentation; rather than containing a single character representing the presence or absence of a fireplace the dataset instead contains integer values that likely indicate the number of fireplaces installed."
   ]
  },
  {
   "cell_type": "code",
   "execution_count": 19,
   "metadata": {},
   "outputs": [
    {
     "data": {
      "text/plain": [
       "array([nan,  1.,  4.,  2.,  3.,  0.,  5.,  6.,  7.])"
      ]
     },
     "execution_count": 19,
     "metadata": {},
     "output_type": "execute_result"
    }
   ],
   "source": [
    "franklin_subset.FIREPLC.unique()"
   ]
  },
  {
   "cell_type": "markdown",
   "metadata": {},
   "source": [
    "We can see that `nan` is among the values.  \n",
    "\n",
    "<hr>\n",
    "<a name=\"Lab-6\"></a><mark> **Lab 6** In the cell below, use the *fillna* property with the `FIREPLC` column to replace missing values with zero.  Either reassign the DataFrame's `FIREPLC` column with modified data or specify `inplace=True` as an argument to *fillna()* to alter the column in-place.</mark>"
   ]
  },
  {
   "cell_type": "code",
   "execution_count": 20,
   "metadata": {},
   "outputs": [],
   "source": [
    "franklin_subset.FIREPLC.fillna(value=0, inplace=True)"
   ]
  },
  {
   "cell_type": "markdown",
   "metadata": {},
   "source": [
    "<hr>\n",
    "\n",
    "At this point we have the following columns and data types."
   ]
  },
  {
   "cell_type": "code",
   "execution_count": 21,
   "metadata": {},
   "outputs": [
    {
     "data": {
      "text/plain": [
       "APPRLND        int64\n",
       "APPRBLD        int64\n",
       "PRICE        float64\n",
       "AREA_A         int64\n",
       "ROOMS          int64\n",
       "BEDRMS         int64\n",
       "AIRCOND         bool\n",
       "FIREPLC      float64\n",
       "YEARBLT      float64\n",
       "Bathrooms    float64\n",
       "dtype: object"
      ]
     },
     "execution_count": 21,
     "metadata": {},
     "output_type": "execute_result"
    }
   ],
   "source": [
    "franklin_subset.dtypes"
   ]
  },
  {
   "cell_type": "markdown",
   "metadata": {},
   "source": [
    "Before moving on to the next dataset, it might be useful to give the columns more descriptive names.  First, let's create a copy of the DataFrame in case we need access to the data in its current state later."
   ]
  },
  {
   "cell_type": "code",
   "execution_count": 138,
   "metadata": {},
   "outputs": [],
   "source": [
    "home_data = franklin_subset.copy()"
   ]
  },
  {
   "cell_type": "markdown",
   "metadata": {},
   "source": [
    "To rename the columns, we can use the DataFrame's *rename()* method. When calling the method, we can pass a dictionary that maps the existing column names to new names. We'll also specify that we want to change column names rather than index labels by specifying `axis=1` and that we'd like to alter the DataFrame itself rather than return a copy with the alteration using `inplace=True`."
   ]
  },
  {
   "cell_type": "code",
   "execution_count": 139,
   "metadata": {},
   "outputs": [],
   "source": [
    "home_data.rename(\n",
    "    {'APPRLND': 'AppraisedLand',\n",
    "     'APPRBLD': 'AppraisedBuilding',\n",
    "     'PRICE': 'SalePrice',\n",
    "     'AREA_A': 'Area', \n",
    "     'ROOMS':'Rooms',\n",
    "     'BEDRMS':'Bedrooms',\n",
    "     'AIRCOND': 'AirConditioning', \n",
    "     'FIREPLC': 'Fireplaces', \n",
    "     'YEARBLT': 'YearBuilt'\n",
    "    },\n",
    "    axis=1 ,\n",
    "    inplace=True\n",
    ")"
   ]
  },
  {
   "cell_type": "markdown",
   "metadata": {},
   "source": [
    "<hr>\n",
    "<a name=\"Lab-7\"></a><mark> **Lab 7** In the cell below, verify that the columns of the `home_data` DataFrame have been changed.</mark>"
   ]
  },
  {
   "cell_type": "code",
   "execution_count": null,
   "metadata": {},
   "outputs": [],
   "source": []
  },
  {
   "cell_type": "markdown",
   "metadata": {},
   "source": [
    "<hr>\n",
    "\n",
    "As noted above, we'd also like to record whether or not a parcel includes heating.  Earlier we assumed that all residential properties in the data set did include heating.  To add a column with the same value for each row, we can write a statement that assigns that value to the new column in the DataFrame.  Similarly, we'll add a `County` column to indicate the source of the data."
   ]
  },
  {
   "cell_type": "code",
   "execution_count": 140,
   "metadata": {},
   "outputs": [],
   "source": [
    "home_data['Heat'] = True\n",
    "home_data['County'] = \"Franklin\""
   ]
  },
  {
   "cell_type": "markdown",
   "metadata": {},
   "source": [
    "We can view the first few rows to examine the state of our data before moving on to the next dataset."
   ]
  },
  {
   "cell_type": "code",
   "execution_count": 141,
   "metadata": {
    "format": "row"
   },
   "outputs": [
    {
     "data": {
      "text/html": [
       "<div>\n",
       "<style scoped>\n",
       "    .dataframe tbody tr th:only-of-type {\n",
       "        vertical-align: middle;\n",
       "    }\n",
       "\n",
       "    .dataframe tbody tr th {\n",
       "        vertical-align: top;\n",
       "    }\n",
       "\n",
       "    .dataframe thead th {\n",
       "        text-align: right;\n",
       "    }\n",
       "</style>\n",
       "<table border=\"1\" class=\"dataframe\">\n",
       "  <thead>\n",
       "    <tr style=\"text-align: right;\">\n",
       "      <th></th>\n",
       "      <th>AppraisedLand</th>\n",
       "      <th>AppraisedBuilding</th>\n",
       "      <th>SalePrice</th>\n",
       "      <th>Area</th>\n",
       "      <th>Rooms</th>\n",
       "      <th>Bedrooms</th>\n",
       "      <th>AirConditioning</th>\n",
       "      <th>Fireplaces</th>\n",
       "      <th>YearBuilt</th>\n",
       "      <th>Bathrooms</th>\n",
       "      <th>Heat</th>\n",
       "      <th>County</th>\n",
       "    </tr>\n",
       "  </thead>\n",
       "  <tbody>\n",
       "    <tr>\n",
       "      <th>0</th>\n",
       "      <td>8100</td>\n",
       "      <td>59600</td>\n",
       "      <td>0.0</td>\n",
       "      <td>2264</td>\n",
       "      <td>10</td>\n",
       "      <td>4</td>\n",
       "      <td>True</td>\n",
       "      <td>0.0</td>\n",
       "      <td>1925.0</td>\n",
       "      <td>2.0</td>\n",
       "      <td>True</td>\n",
       "      <td>Franklin</td>\n",
       "    </tr>\n",
       "    <tr>\n",
       "      <th>1</th>\n",
       "      <td>4600</td>\n",
       "      <td>69800</td>\n",
       "      <td>50000.0</td>\n",
       "      <td>1835</td>\n",
       "      <td>7</td>\n",
       "      <td>4</td>\n",
       "      <td>True</td>\n",
       "      <td>1.0</td>\n",
       "      <td>1919.0</td>\n",
       "      <td>1.5</td>\n",
       "      <td>True</td>\n",
       "      <td>Franklin</td>\n",
       "    </tr>\n",
       "    <tr>\n",
       "      <th>2</th>\n",
       "      <td>4900</td>\n",
       "      <td>60600</td>\n",
       "      <td>64000.0</td>\n",
       "      <td>1656</td>\n",
       "      <td>7</td>\n",
       "      <td>3</td>\n",
       "      <td>True</td>\n",
       "      <td>0.0</td>\n",
       "      <td>1925.0</td>\n",
       "      <td>1.0</td>\n",
       "      <td>True</td>\n",
       "      <td>Franklin</td>\n",
       "    </tr>\n",
       "    <tr>\n",
       "      <th>4</th>\n",
       "      <td>5000</td>\n",
       "      <td>31200</td>\n",
       "      <td>0.0</td>\n",
       "      <td>1000</td>\n",
       "      <td>5</td>\n",
       "      <td>2</td>\n",
       "      <td>True</td>\n",
       "      <td>0.0</td>\n",
       "      <td>1922.0</td>\n",
       "      <td>1.0</td>\n",
       "      <td>True</td>\n",
       "      <td>Franklin</td>\n",
       "    </tr>\n",
       "    <tr>\n",
       "      <th>5</th>\n",
       "      <td>4600</td>\n",
       "      <td>63300</td>\n",
       "      <td>0.0</td>\n",
       "      <td>1306</td>\n",
       "      <td>6</td>\n",
       "      <td>4</td>\n",
       "      <td>True</td>\n",
       "      <td>0.0</td>\n",
       "      <td>1948.0</td>\n",
       "      <td>2.0</td>\n",
       "      <td>True</td>\n",
       "      <td>Franklin</td>\n",
       "    </tr>\n",
       "  </tbody>\n",
       "</table>\n",
       "</div>"
      ],
      "text/plain": [
       "   AppraisedLand  AppraisedBuilding  SalePrice  Area  Rooms  Bedrooms  \\\n",
       "0           8100              59600        0.0  2264     10         4   \n",
       "1           4600              69800    50000.0  1835      7         4   \n",
       "2           4900              60600    64000.0  1656      7         3   \n",
       "4           5000              31200        0.0  1000      5         2   \n",
       "5           4600              63300        0.0  1306      6         4   \n",
       "\n",
       "   AirConditioning  Fireplaces  YearBuilt  Bathrooms  Heat    County  \n",
       "0             True         0.0     1925.0        2.0  True  Franklin  \n",
       "1             True         1.0     1919.0        1.5  True  Franklin  \n",
       "2             True         0.0     1925.0        1.0  True  Franklin  \n",
       "4             True         0.0     1922.0        1.0  True  Franklin  \n",
       "5             True         0.0     1948.0        2.0  True  Franklin  "
      ]
     },
     "execution_count": 141,
     "metadata": {},
     "output_type": "execute_result"
    }
   ],
   "source": [
    "home_data.head()"
   ]
  },
  {
   "cell_type": "markdown",
   "metadata": {},
   "source": [
    "### Parsing Errors: Licking County Auditor Data\n",
    "\n",
    "We can augment the Franklin County Auditor data with data from the [Licking County Auditor](https://www.lickingcountyohio.us/).  The data we'll use was obtained directly from the auditor's site and was not sampled or modified.  Let's try loading the data stored in `data/02-licking.txt`."
   ]
  },
  {
   "cell_type": "code",
   "execution_count": 26,
   "metadata": {},
   "outputs": [
    {
     "ename": "ParserError",
     "evalue": "Error tokenizing data. C error: Expected 33 fields in line 3, saw 34\n",
     "output_type": "error",
     "traceback": [
      "\u001b[0;31m---------------------------------------------------------------------------\u001b[0m",
      "\u001b[0;31mParserError\u001b[0m                               Traceback (most recent call last)",
      "\u001b[0;32m<ipython-input-26-d3d39a7162ac>\u001b[0m in \u001b[0;36m<module>\u001b[0;34m()\u001b[0m\n\u001b[0;32m----> 1\u001b[0;31m \u001b[0mlicking\u001b[0m \u001b[0;34m=\u001b[0m \u001b[0mpd\u001b[0m\u001b[0;34m.\u001b[0m\u001b[0mread_csv\u001b[0m\u001b[0;34m(\u001b[0m\u001b[0;34m\"./data/02-licking.txt\"\u001b[0m\u001b[0;34m)\u001b[0m\u001b[0;34m\u001b[0m\u001b[0m\n\u001b[0m",
      "\u001b[0;32m/usr/local/lib/python3.6/site-packages/pandas/io/parsers.py\u001b[0m in \u001b[0;36mparser_f\u001b[0;34m(filepath_or_buffer, sep, delimiter, header, names, index_col, usecols, squeeze, prefix, mangle_dupe_cols, dtype, engine, converters, true_values, false_values, skipinitialspace, skiprows, nrows, na_values, keep_default_na, na_filter, verbose, skip_blank_lines, parse_dates, infer_datetime_format, keep_date_col, date_parser, dayfirst, iterator, chunksize, compression, thousands, decimal, lineterminator, quotechar, quoting, escapechar, comment, encoding, dialect, tupleize_cols, error_bad_lines, warn_bad_lines, skipfooter, skip_footer, doublequote, delim_whitespace, as_recarray, compact_ints, use_unsigned, low_memory, buffer_lines, memory_map, float_precision)\u001b[0m\n\u001b[1;32m    707\u001b[0m                     skip_blank_lines=skip_blank_lines)\n\u001b[1;32m    708\u001b[0m \u001b[0;34m\u001b[0m\u001b[0m\n\u001b[0;32m--> 709\u001b[0;31m         \u001b[0;32mreturn\u001b[0m \u001b[0m_read\u001b[0m\u001b[0;34m(\u001b[0m\u001b[0mfilepath_or_buffer\u001b[0m\u001b[0;34m,\u001b[0m \u001b[0mkwds\u001b[0m\u001b[0;34m)\u001b[0m\u001b[0;34m\u001b[0m\u001b[0m\n\u001b[0m\u001b[1;32m    710\u001b[0m \u001b[0;34m\u001b[0m\u001b[0m\n\u001b[1;32m    711\u001b[0m     \u001b[0mparser_f\u001b[0m\u001b[0;34m.\u001b[0m\u001b[0m__name__\u001b[0m \u001b[0;34m=\u001b[0m \u001b[0mname\u001b[0m\u001b[0;34m\u001b[0m\u001b[0m\n",
      "\u001b[0;32m/usr/local/lib/python3.6/site-packages/pandas/io/parsers.py\u001b[0m in \u001b[0;36m_read\u001b[0;34m(filepath_or_buffer, kwds)\u001b[0m\n\u001b[1;32m    453\u001b[0m \u001b[0;34m\u001b[0m\u001b[0m\n\u001b[1;32m    454\u001b[0m     \u001b[0;32mtry\u001b[0m\u001b[0;34m:\u001b[0m\u001b[0;34m\u001b[0m\u001b[0m\n\u001b[0;32m--> 455\u001b[0;31m         \u001b[0mdata\u001b[0m \u001b[0;34m=\u001b[0m \u001b[0mparser\u001b[0m\u001b[0;34m.\u001b[0m\u001b[0mread\u001b[0m\u001b[0;34m(\u001b[0m\u001b[0mnrows\u001b[0m\u001b[0;34m)\u001b[0m\u001b[0;34m\u001b[0m\u001b[0m\n\u001b[0m\u001b[1;32m    456\u001b[0m     \u001b[0;32mfinally\u001b[0m\u001b[0;34m:\u001b[0m\u001b[0;34m\u001b[0m\u001b[0m\n\u001b[1;32m    457\u001b[0m         \u001b[0mparser\u001b[0m\u001b[0;34m.\u001b[0m\u001b[0mclose\u001b[0m\u001b[0;34m(\u001b[0m\u001b[0;34m)\u001b[0m\u001b[0;34m\u001b[0m\u001b[0m\n",
      "\u001b[0;32m/usr/local/lib/python3.6/site-packages/pandas/io/parsers.py\u001b[0m in \u001b[0;36mread\u001b[0;34m(self, nrows)\u001b[0m\n\u001b[1;32m   1067\u001b[0m                 \u001b[0;32mraise\u001b[0m \u001b[0mValueError\u001b[0m\u001b[0;34m(\u001b[0m\u001b[0;34m'skipfooter not supported for iteration'\u001b[0m\u001b[0;34m)\u001b[0m\u001b[0;34m\u001b[0m\u001b[0m\n\u001b[1;32m   1068\u001b[0m \u001b[0;34m\u001b[0m\u001b[0m\n\u001b[0;32m-> 1069\u001b[0;31m         \u001b[0mret\u001b[0m \u001b[0;34m=\u001b[0m \u001b[0mself\u001b[0m\u001b[0;34m.\u001b[0m\u001b[0m_engine\u001b[0m\u001b[0;34m.\u001b[0m\u001b[0mread\u001b[0m\u001b[0;34m(\u001b[0m\u001b[0mnrows\u001b[0m\u001b[0;34m)\u001b[0m\u001b[0;34m\u001b[0m\u001b[0m\n\u001b[0m\u001b[1;32m   1070\u001b[0m \u001b[0;34m\u001b[0m\u001b[0m\n\u001b[1;32m   1071\u001b[0m         \u001b[0;32mif\u001b[0m \u001b[0mself\u001b[0m\u001b[0;34m.\u001b[0m\u001b[0moptions\u001b[0m\u001b[0;34m.\u001b[0m\u001b[0mget\u001b[0m\u001b[0;34m(\u001b[0m\u001b[0;34m'as_recarray'\u001b[0m\u001b[0;34m)\u001b[0m\u001b[0;34m:\u001b[0m\u001b[0;34m\u001b[0m\u001b[0m\n",
      "\u001b[0;32m/usr/local/lib/python3.6/site-packages/pandas/io/parsers.py\u001b[0m in \u001b[0;36mread\u001b[0;34m(self, nrows)\u001b[0m\n\u001b[1;32m   1837\u001b[0m     \u001b[0;32mdef\u001b[0m \u001b[0mread\u001b[0m\u001b[0;34m(\u001b[0m\u001b[0mself\u001b[0m\u001b[0;34m,\u001b[0m \u001b[0mnrows\u001b[0m\u001b[0;34m=\u001b[0m\u001b[0;32mNone\u001b[0m\u001b[0;34m)\u001b[0m\u001b[0;34m:\u001b[0m\u001b[0;34m\u001b[0m\u001b[0m\n\u001b[1;32m   1838\u001b[0m         \u001b[0;32mtry\u001b[0m\u001b[0;34m:\u001b[0m\u001b[0;34m\u001b[0m\u001b[0m\n\u001b[0;32m-> 1839\u001b[0;31m             \u001b[0mdata\u001b[0m \u001b[0;34m=\u001b[0m \u001b[0mself\u001b[0m\u001b[0;34m.\u001b[0m\u001b[0m_reader\u001b[0m\u001b[0;34m.\u001b[0m\u001b[0mread\u001b[0m\u001b[0;34m(\u001b[0m\u001b[0mnrows\u001b[0m\u001b[0;34m)\u001b[0m\u001b[0;34m\u001b[0m\u001b[0m\n\u001b[0m\u001b[1;32m   1840\u001b[0m         \u001b[0;32mexcept\u001b[0m \u001b[0mStopIteration\u001b[0m\u001b[0;34m:\u001b[0m\u001b[0;34m\u001b[0m\u001b[0m\n\u001b[1;32m   1841\u001b[0m             \u001b[0;32mif\u001b[0m \u001b[0mself\u001b[0m\u001b[0;34m.\u001b[0m\u001b[0m_first_chunk\u001b[0m\u001b[0;34m:\u001b[0m\u001b[0;34m\u001b[0m\u001b[0m\n",
      "\u001b[0;32mpandas/_libs/parsers.pyx\u001b[0m in \u001b[0;36mpandas._libs.parsers.TextReader.read\u001b[0;34m()\u001b[0m\n",
      "\u001b[0;32mpandas/_libs/parsers.pyx\u001b[0m in \u001b[0;36mpandas._libs.parsers.TextReader._read_low_memory\u001b[0;34m()\u001b[0m\n",
      "\u001b[0;32mpandas/_libs/parsers.pyx\u001b[0m in \u001b[0;36mpandas._libs.parsers.TextReader._read_rows\u001b[0;34m()\u001b[0m\n",
      "\u001b[0;32mpandas/_libs/parsers.pyx\u001b[0m in \u001b[0;36mpandas._libs.parsers.TextReader._tokenize_rows\u001b[0;34m()\u001b[0m\n",
      "\u001b[0;32mpandas/_libs/parsers.pyx\u001b[0m in \u001b[0;36mpandas._libs.parsers.raise_parser_error\u001b[0;34m()\u001b[0m\n",
      "\u001b[0;31mParserError\u001b[0m: Error tokenizing data. C error: Expected 33 fields in line 3, saw 34\n"
     ]
    }
   ],
   "source": [
    "licking = pd.read_csv(\"./data/02-licking.txt\")"
   ]
  },
  {
   "cell_type": "markdown",
   "metadata": {},
   "source": [
    "The exception indicates that there was a problem parsing the data; specifically, pandas expected 33 fields but found 34 on line 3.  This could be due to pandas incorrectly guessing what the delimiter is.  We could use the csv module's *Sniffer* class to detect the delimiter but visual inspection will suffice.\n",
    "\n",
    "In the code below, we'll print the first five lines."
   ]
  },
  {
   "cell_type": "code",
   "execution_count": 27,
   "metadata": {},
   "outputs": [
    {
     "name": "stdout",
     "output_type": "stream",
     "text": [
      "fldParcelID;fldParcelNo;fldRoutingNo;fldOwner;fldCardNo;fldMaxCards;fldRecheck;fldSchoolDistrict;fldTaxDistrict;fldLegalDesc;fldLocationAddress;fldNeighborhood;fldPropertyType;fldLUC;fldTopo;fldAccess;fldUtilities;fldNotes;fldNotes2;fldMarketLand;fldMarketImprov;fldMarketTotal;fldCAUVLand;fldCAUVImprov;fldCAUVTotal;fldSketchPath;fldStyle;fldStories;fldExterior;fldHeating;fldCooling;fldBasement;fldFullBaths;fldHalfBaths;fldOtherBaths;fldAttic;fldAtticHeating;fldRooms;fldBedrooms;fldFamilyRooms;fldDiningRooms;fldLivingRooms;fldFinishedLivingArea;fldFinishedBasementArea;fldYearBuilt;fldEffYearBuilt;fldYearRemodeled;fldCondition;fldGrade;fldBasementGarage;fldFireplaceOpenings;fldFireplaceStacks;fldFirstFloorArea;fldFirstFloorCost;fldUpperFloorArea;fldUpperFloorCost;fldAtticArea;fldAtticCost;fldHalfFloorArea;fldHalfFloorCost;fldFinishedBasementCost;fldUnfinishedLivingArea;fldUnfinishedLivingCost;fldCrawlArea;fldCrawlCost;fldBasementArea;fldBasementCost;fldBasementGarageArea;fldBasementGarageCost;fldExtWallArea;fldExtWallCost;fldHeatingArea;fldHeatingCost;fldCoolingArea;fldCoolingCost;fldPlumbingArea;fldPlumbingCost;fldFireplaceArea;fldFireplaceCost;fldIdenticalMultiplierCount;fldIdenticalMultiplierCost;fldEnhancementArea;fldEnhancementCost;fldFeaturesArea;fldFeaturesCost;fldSubTotalBeforeGrade;fldGradeArea;fldGradeCost;fldCostFactorArea;fldCostFactorCost;fldUngradedFeaturesArea;fldUngradedFeaturesCost;fldRCN;fldDepreciation;fldDepreciationOverride;fldDepreciationArea;fldObsolesence;fldObsolesenceArea;fldImprovements;fldRCNLD;fldImprovementsTotal;fldFVC;fldWellSeptic;fldWellSepticValue;fldValueHistoryYear1;fldValueHistoryYear2;fldValueHistoryYear3;fldValueHistoryLand1;fldValueHistoryLand2;fldValueHistoryLand3;fldValueHistoryImprov1;fldValueHistoryImprov2;fldValueHistoryImprov3;fldValueHistoryTotal1;fldValueHistoryTotal2;fldValueHistoryTotal3;fldSalesDate1;fldSalesDate2;fldSalesDate3;fldSalesDate4;fldSalesNoParcels1;fldSalesNoParcels2;fldSalesNoParcels3;fldSalesNoParcels4;fldSalesType1;fldSalesType2;fldSalesType3;fldSalesType4;fldSalesPrice1;fldSalesPrice2;fldSalesPrice3;fldSalesPrice4;fldSalesConveyance1;fldSalesConveyance2;fldSalesConveyance3;fldSalesConveyance4;fldSalesValid1;fldSalesValid2;fldSalesValid3;fldSalesValid4;fldSalesLandOnly1;fldSalesLandOnly2;fldSalesLandOnly3;fldSalesLandOnly4;fldSalesPrevOwner1;fldSalesPrevOwner2;fldSalesPrevOwner3;fldSalesPrevOwner4;fldFeatureTotal;fldLandTotal;fldImprovTotal;fldEnhancementTotal;fldTaxYear;fldSubtotal;fldAdditionalInspections;fldAdditionalEnhancements;fldAdditionalFeatures;fldAdditionalLand;fldAdditionalImprovements;fldNeighAdj;fldNeighAdjArea;fldCard1Total;fldCard2Total;fldCard3Total;fldCard4Total;fldCard5Total;fldParcelTotal;fldPicPath;fldAcreageTotal;fldSortOrder;fldCropTotal;fldWoodsTotal;fldNotFarmedTotal;fldConservationTotal;fldNeighAdjLandOverride;fldNeighAdjAreaLand;fldMailingAddress1;fldMailingAddress2;fldMailingAddress3;fldMailingAddress4;fldMailingAddress5\n",
      "\n",
      "35;001-000066-00.009;001-006.00-120.000;HARDY RONALD J & LINDA B;1;1;No;NORTHRIDGE LSD;001 - BENNINGTON T-NRDGE LSD;LOT 10 PT   3.68 AC;8713 BENNER RD;06700 Bennington-T;Dwelling;511 Single family unplatted 0-09.9;;;2578 Electric Gas Well Septic;;;50300;138100;188400;0;0;0;C:\\tempPRCsketch.bmp;Single Family;1;Frame;Central Warm Air;Central;Full Basement;2.0;;;None;;6.0;3.0;;0.0;;1,790;0;2002;2002;;Average;90;;;;1,790;115,400;0;0;0;0;0;0;0;0;0;0;0;1,790;30,600;0;0;;0;;0;;5,400;;4,500;S(0), O(0);0;1;1;;15,400;;0;171,300;90;-17,130;100;0;;;166,200;-33,240;No;20;0;0.00000;;133,000;5,100;138,100;Well/Septic;12,000;2016;2015;2014;41,300;41,300;41,300;141,500;141,500;141,500;182,800;182,800;182,800;06/07/2001;11/01/2000;07/06/1999;;1;4;4;;FD - FIDUCIARY;EX - EXEMPT CONVEYANCE;EX - EXEMPT CONVEYANCE;;32000.00;0.00;0.00;;01721     ;99999     ;99999     ;;Y;N;N;;Y;Y;Y;;BEVIER MARLENE M TRUSTEE;SHARROCK LORI S TRUSTEE;Refer to deed;;;50,300;5,100;15,400;2017;146,000;No;No;No;No;No;0;100;138,100;0;0;0;0;138,100;;3.68;35;;;;;No;100.00;;;HARDY RONALD J & LINDA B;8713 BENNER RD ;JOHNSTOWN OH 43031\n",
      "\n",
      "60;001-000126-00.006;001-006.00-065.000;MIRACLE SHELVA & IVA;1;1;No;NORTHRIDGE LSD;001 - BENNINGTON T-NRDGE LSD;LOT 7 PT   10.009 AC;6474 HARMONY CHURCH RD;06700 Bennington-T;Dwelling;512 Single family unplatted 10-19.;;;278 Electric Well Septic;;;86300;162700;249000;0;0;0;C:\\tempPRCsketch.bmp;Single Family;1;Frame;Central Warm Air;Central;Full Basement;3.0;;;Finished;;7.0;4.0;;0.0;;2,326;0;1998;1998;;Average;90;;;;1,710;110,600;0;0;616;35,400;0;0;0;0;0;0;0;1,710;29,300;0;0;;0;;0;;6,600;;9,000;S(0), O(0);0;1;1;;29,400;;0;220,300;90;-22,030;100;0;;;210,300;-52,575;No;20;0;5.00000;;157,700;5,000;162,700;Well/Septic;12,000;2016;2015;2014;45,300;45,300;45,300;177,400;177,400;177,400;222,700;222,700;222,700;09/18/2000;;;;2;;;;EX - EXEMPT CONVEYANCE;;;;0.00;;;;99999     ;;;;N;;;;N;;;;Refer to deed;;;;;86,300;5,000;29,400;2017;175,300;No;No;No;No;No;0;100;162,700;0;0;0;0;162,700;;10.00;61;;;;;No;100.00;;;MIRACLE SHELVA & IVA;6474 HARMONY CHURCH RD ;JOHNSTOWN OH 43031-9123\n",
      "\n",
      "72;001-000126-00.018;001-006.00-060.000;JONES JANET C;1;1;No;NORTHRIDGE LSD;001 - BENNINGTON T-NRDGE LSD;5.00 AC  LOT 7 PT & LOT 8;6959 HARMONY CHURCH RD;06700 Bennington-T;Dwelling;511 Single family unplatted 0-09.9;;;278 Electric Well Septic;;;53100;24500;77600;0;0;0;C:\\tempPRCsketch.bmp;Single Family;1;Frame;Central Warm Air;None;Pt Crawl;2.0;;;None;;5.0;3.0;;0.0;;1,400;0;1991;1991;;Poor;70;;;;1,400;95,800;0;0;0;0;0;0;0;0;0;1,040;7,300;0;0;0;0;;0;;0;;0;;4,500;S(0), O(0);0;1;1;;15,300;;0;122,900;70;-36,870;100;0;;;98,000;-73,500;Yes;75;0;0.00000;;24,500;0;24,500;Well/Septic;12,000;2016;2015;2014;53,100;34,000;34,000;24,500;77,000;77,000;77,600;111,000;111,000;08/17/2017;09/27/2012;02/23/2012;12/23/2003;1;1;1;1;EX - EXEMPT CONVEYANCE;WD - WARRANTY;SH - SHERIFF;WD - WARRANTY;0.00;38900.00;53334.00;117000.00;99999;4943;3034;04936     ;N;N;N;Y;N;N;N;N;JONES DOUGLAS F & JANET C;FANNIE MAE;GAYHEART THOMAS E;HODERFIELD ROBERT J JR &;;53,100;0;15,300;2017;103,100;No;No;No;No;No;0;100;24,500;0;0;0;0;24,500;;5.00;73;;;;;No;100.00;;;JONES JANET C;6959 HARMONY CHURCH RD ;JOHNSTOWN OH 43031\n",
      "\n",
      "74;001-000126-00.020;001-006.00-067.000;HOLTER FRANK W & ALMA ;1;1;No;NORTHRIDGE LSD;001 - BENNINGTON T-NRDGE LSD;1.709 AC LOT 7 PT;6424 HARMONY CHURCH  RD;06700 Bennington-T;Dwelling;511 Single family unplatted 0-09.9;;;278 Electric Well Septic;;;32100;169900;202000;0;0;0;C:\\tempPRCsketch.bmp;Single Family;1;Frame;Central Warm Air;Central;Pt Bsmt/Pt Crawl;2.0;;;None;;5.0;3.0;;0.0;;1,802;0;2003;2003;;Average;90;;1.0;1.0;1,802;115,400;0;0;0;0;0;0;0;0;0;901;6,400;901;17,900;0;0;;0;;0;;5,400;;4,500;S(1), O(1);4,600;1;1;;22,600;;0;176,800;90;-17,680;100;0;;;171,100;-25,665;No;15;0;0.00000;;145,400;24,500;169,900;Well/Septic;12,000;2016;2015;2014;28,800;28,800;28,800;155,100;155,100;155,100;183,900;183,900;183,900;11/18/2013;04/10/2012;10/13/2006;10/13/2006;1;1;1;1;EX - EXEMPT CONVEYANCE;EX - EXEMPT CONVEYANCE;JS - JOINT SURVIVORSHIP;EX - EXEMPT CONVEYANCE;0.00;0.00;210000.00;0.00;99999;99999;3581;;N;N;Y;N;N;N;N;N;HOLTER FRANK W & ALMA TROYER COTRUSTEES;HOLTER FRANK W & ALMA;BURKART FRANK A;BURKART LOUISE M (LIFE ES;;32,100;24,500;22,600;2017;139,700;No;No;No;No;No;0;100;169,900;0;0;0;0;169,900;;1.70;75;;;;;No;100.00;;;HOLTER FRANK W & ALMA ;6424 HARMONY CHURCH RD ;JOHNSTOWN OH 43031\n",
      "\n"
     ]
    }
   ],
   "source": [
    "line_number = 0 \n",
    "with open(\"./data/02-licking.txt\") as infile:\n",
    "    while line_number < 5:\n",
    "        print(infile.readline())\n",
    "        line_number += 1"
   ]
  },
  {
   "cell_type": "markdown",
   "metadata": {},
   "source": [
    "Examining the output, we can see that the delimiter is probably a semicolon rather than a comma.  The pandas *read_csv()* method takes a keyword argument, *delimiter*, that will allow us to specify the appropriate value."
   ]
  },
  {
   "cell_type": "code",
   "execution_count": 28,
   "metadata": {},
   "outputs": [
    {
     "ename": "ParserError",
     "evalue": "Error tokenizing data. C error: Expected 181 fields in line 1608, saw 182\n",
     "output_type": "error",
     "traceback": [
      "\u001b[0;31m---------------------------------------------------------------------------\u001b[0m",
      "\u001b[0;31mParserError\u001b[0m                               Traceback (most recent call last)",
      "\u001b[0;32m<ipython-input-28-a3a83ce47dc2>\u001b[0m in \u001b[0;36m<module>\u001b[0;34m()\u001b[0m\n\u001b[0;32m----> 1\u001b[0;31m \u001b[0mlicking\u001b[0m \u001b[0;34m=\u001b[0m \u001b[0mpd\u001b[0m\u001b[0;34m.\u001b[0m\u001b[0mread_csv\u001b[0m\u001b[0;34m(\u001b[0m\u001b[0;34m\"./data/02-licking.txt\"\u001b[0m\u001b[0;34m,\u001b[0m \u001b[0mdelimiter\u001b[0m\u001b[0;34m=\u001b[0m\u001b[0;34m\";\"\u001b[0m\u001b[0;34m)\u001b[0m\u001b[0;34m\u001b[0m\u001b[0m\n\u001b[0m",
      "\u001b[0;32m/usr/local/lib/python3.6/site-packages/pandas/io/parsers.py\u001b[0m in \u001b[0;36mparser_f\u001b[0;34m(filepath_or_buffer, sep, delimiter, header, names, index_col, usecols, squeeze, prefix, mangle_dupe_cols, dtype, engine, converters, true_values, false_values, skipinitialspace, skiprows, nrows, na_values, keep_default_na, na_filter, verbose, skip_blank_lines, parse_dates, infer_datetime_format, keep_date_col, date_parser, dayfirst, iterator, chunksize, compression, thousands, decimal, lineterminator, quotechar, quoting, escapechar, comment, encoding, dialect, tupleize_cols, error_bad_lines, warn_bad_lines, skipfooter, skip_footer, doublequote, delim_whitespace, as_recarray, compact_ints, use_unsigned, low_memory, buffer_lines, memory_map, float_precision)\u001b[0m\n\u001b[1;32m    707\u001b[0m                     skip_blank_lines=skip_blank_lines)\n\u001b[1;32m    708\u001b[0m \u001b[0;34m\u001b[0m\u001b[0m\n\u001b[0;32m--> 709\u001b[0;31m         \u001b[0;32mreturn\u001b[0m \u001b[0m_read\u001b[0m\u001b[0;34m(\u001b[0m\u001b[0mfilepath_or_buffer\u001b[0m\u001b[0;34m,\u001b[0m \u001b[0mkwds\u001b[0m\u001b[0;34m)\u001b[0m\u001b[0;34m\u001b[0m\u001b[0m\n\u001b[0m\u001b[1;32m    710\u001b[0m \u001b[0;34m\u001b[0m\u001b[0m\n\u001b[1;32m    711\u001b[0m     \u001b[0mparser_f\u001b[0m\u001b[0;34m.\u001b[0m\u001b[0m__name__\u001b[0m \u001b[0;34m=\u001b[0m \u001b[0mname\u001b[0m\u001b[0;34m\u001b[0m\u001b[0m\n",
      "\u001b[0;32m/usr/local/lib/python3.6/site-packages/pandas/io/parsers.py\u001b[0m in \u001b[0;36m_read\u001b[0;34m(filepath_or_buffer, kwds)\u001b[0m\n\u001b[1;32m    453\u001b[0m \u001b[0;34m\u001b[0m\u001b[0m\n\u001b[1;32m    454\u001b[0m     \u001b[0;32mtry\u001b[0m\u001b[0;34m:\u001b[0m\u001b[0;34m\u001b[0m\u001b[0m\n\u001b[0;32m--> 455\u001b[0;31m         \u001b[0mdata\u001b[0m \u001b[0;34m=\u001b[0m \u001b[0mparser\u001b[0m\u001b[0;34m.\u001b[0m\u001b[0mread\u001b[0m\u001b[0;34m(\u001b[0m\u001b[0mnrows\u001b[0m\u001b[0;34m)\u001b[0m\u001b[0;34m\u001b[0m\u001b[0m\n\u001b[0m\u001b[1;32m    456\u001b[0m     \u001b[0;32mfinally\u001b[0m\u001b[0;34m:\u001b[0m\u001b[0;34m\u001b[0m\u001b[0m\n\u001b[1;32m    457\u001b[0m         \u001b[0mparser\u001b[0m\u001b[0;34m.\u001b[0m\u001b[0mclose\u001b[0m\u001b[0;34m(\u001b[0m\u001b[0;34m)\u001b[0m\u001b[0;34m\u001b[0m\u001b[0m\n",
      "\u001b[0;32m/usr/local/lib/python3.6/site-packages/pandas/io/parsers.py\u001b[0m in \u001b[0;36mread\u001b[0;34m(self, nrows)\u001b[0m\n\u001b[1;32m   1067\u001b[0m                 \u001b[0;32mraise\u001b[0m \u001b[0mValueError\u001b[0m\u001b[0;34m(\u001b[0m\u001b[0;34m'skipfooter not supported for iteration'\u001b[0m\u001b[0;34m)\u001b[0m\u001b[0;34m\u001b[0m\u001b[0m\n\u001b[1;32m   1068\u001b[0m \u001b[0;34m\u001b[0m\u001b[0m\n\u001b[0;32m-> 1069\u001b[0;31m         \u001b[0mret\u001b[0m \u001b[0;34m=\u001b[0m \u001b[0mself\u001b[0m\u001b[0;34m.\u001b[0m\u001b[0m_engine\u001b[0m\u001b[0;34m.\u001b[0m\u001b[0mread\u001b[0m\u001b[0;34m(\u001b[0m\u001b[0mnrows\u001b[0m\u001b[0;34m)\u001b[0m\u001b[0;34m\u001b[0m\u001b[0m\n\u001b[0m\u001b[1;32m   1070\u001b[0m \u001b[0;34m\u001b[0m\u001b[0m\n\u001b[1;32m   1071\u001b[0m         \u001b[0;32mif\u001b[0m \u001b[0mself\u001b[0m\u001b[0;34m.\u001b[0m\u001b[0moptions\u001b[0m\u001b[0;34m.\u001b[0m\u001b[0mget\u001b[0m\u001b[0;34m(\u001b[0m\u001b[0;34m'as_recarray'\u001b[0m\u001b[0;34m)\u001b[0m\u001b[0;34m:\u001b[0m\u001b[0;34m\u001b[0m\u001b[0m\n",
      "\u001b[0;32m/usr/local/lib/python3.6/site-packages/pandas/io/parsers.py\u001b[0m in \u001b[0;36mread\u001b[0;34m(self, nrows)\u001b[0m\n\u001b[1;32m   1837\u001b[0m     \u001b[0;32mdef\u001b[0m \u001b[0mread\u001b[0m\u001b[0;34m(\u001b[0m\u001b[0mself\u001b[0m\u001b[0;34m,\u001b[0m \u001b[0mnrows\u001b[0m\u001b[0;34m=\u001b[0m\u001b[0;32mNone\u001b[0m\u001b[0;34m)\u001b[0m\u001b[0;34m:\u001b[0m\u001b[0;34m\u001b[0m\u001b[0m\n\u001b[1;32m   1838\u001b[0m         \u001b[0;32mtry\u001b[0m\u001b[0;34m:\u001b[0m\u001b[0;34m\u001b[0m\u001b[0m\n\u001b[0;32m-> 1839\u001b[0;31m             \u001b[0mdata\u001b[0m \u001b[0;34m=\u001b[0m \u001b[0mself\u001b[0m\u001b[0;34m.\u001b[0m\u001b[0m_reader\u001b[0m\u001b[0;34m.\u001b[0m\u001b[0mread\u001b[0m\u001b[0;34m(\u001b[0m\u001b[0mnrows\u001b[0m\u001b[0;34m)\u001b[0m\u001b[0;34m\u001b[0m\u001b[0m\n\u001b[0m\u001b[1;32m   1840\u001b[0m         \u001b[0;32mexcept\u001b[0m \u001b[0mStopIteration\u001b[0m\u001b[0;34m:\u001b[0m\u001b[0;34m\u001b[0m\u001b[0m\n\u001b[1;32m   1841\u001b[0m             \u001b[0;32mif\u001b[0m \u001b[0mself\u001b[0m\u001b[0;34m.\u001b[0m\u001b[0m_first_chunk\u001b[0m\u001b[0;34m:\u001b[0m\u001b[0;34m\u001b[0m\u001b[0m\n",
      "\u001b[0;32mpandas/_libs/parsers.pyx\u001b[0m in \u001b[0;36mpandas._libs.parsers.TextReader.read\u001b[0;34m()\u001b[0m\n",
      "\u001b[0;32mpandas/_libs/parsers.pyx\u001b[0m in \u001b[0;36mpandas._libs.parsers.TextReader._read_low_memory\u001b[0;34m()\u001b[0m\n",
      "\u001b[0;32mpandas/_libs/parsers.pyx\u001b[0m in \u001b[0;36mpandas._libs.parsers.TextReader._read_rows\u001b[0;34m()\u001b[0m\n",
      "\u001b[0;32mpandas/_libs/parsers.pyx\u001b[0m in \u001b[0;36mpandas._libs.parsers.TextReader._tokenize_rows\u001b[0;34m()\u001b[0m\n",
      "\u001b[0;32mpandas/_libs/parsers.pyx\u001b[0m in \u001b[0;36mpandas._libs.parsers.raise_parser_error\u001b[0;34m()\u001b[0m\n",
      "\u001b[0;31mParserError\u001b[0m: Error tokenizing data. C error: Expected 181 fields in line 1608, saw 182\n"
     ]
    }
   ],
   "source": [
    "licking = pd.read_csv(\"./data/02-licking.txt\", delimiter=\";\")"
   ]
  },
  {
   "cell_type": "markdown",
   "metadata": {},
   "source": [
    "The exception message indicates that pandas made it farther into the file before encountering an error.  On line 1608, it, pandas expected to find 181 fields based on the previous lines but instead found 182.  Let's investigate further.\n",
    "\n",
    "While we could iterate through the file and collect the line or lines that are of interest to use, we can use the *linecache* module to access a specific line within a file.  The code below extracts a typical line (one that did not cause a parser error) and the line that causes a problem.  After extracting the lines, the code displays their content."
   ]
  },
  {
   "cell_type": "code",
   "execution_count": 29,
   "metadata": {},
   "outputs": [
    {
     "data": {
      "text/plain": [
       "'35;001-000066-00.009;001-006.00-120.000;HARDY RONALD J & LINDA B;1;1;No;NORTHRIDGE LSD;001 - BENNINGTON T-NRDGE LSD;LOT 10 PT   3.68 AC;8713 BENNER RD;06700 Bennington-T;Dwelling;511 Single family unplatted 0-09.9;;;2578 Electric Gas Well Septic;;;50300;138100;188400;0;0;0;C:\\\\tempPRCsketch.bmp;Single Family;1;Frame;Central Warm Air;Central;Full Basement;2.0;;;None;;6.0;3.0;;0.0;;1,790;0;2002;2002;;Average;90;;;;1,790;115,400;0;0;0;0;0;0;0;0;0;0;0;1,790;30,600;0;0;;0;;0;;5,400;;4,500;S(0), O(0);0;1;1;;15,400;;0;171,300;90;-17,130;100;0;;;166,200;-33,240;No;20;0;0.00000;;133,000;5,100;138,100;Well/Septic;12,000;2016;2015;2014;41,300;41,300;41,300;141,500;141,500;141,500;182,800;182,800;182,800;06/07/2001;11/01/2000;07/06/1999;;1;4;4;;FD - FIDUCIARY;EX - EXEMPT CONVEYANCE;EX - EXEMPT CONVEYANCE;;32000.00;0.00;0.00;;01721     ;99999     ;99999     ;;Y;N;N;;Y;Y;Y;;BEVIER MARLENE M TRUSTEE;SHARROCK LORI S TRUSTEE;Refer to deed;;;50,300;5,100;15,400;2017;146,000;No;No;No;No;No;0;100;138,100;0;0;0;0;138,100;;3.68;35;;;;;No;100.00;;;HARDY RONALD J & LINDA B;8713 BENNER RD ;JOHNSTOWN OH 43031\\n'"
      ]
     },
     "metadata": {},
     "output_type": "display_data"
    },
    {
     "data": {
      "text/plain": [
       "'14934;020-051654-00.000;020-116.18-017.000;FULLER JEAN A TRUSTEE;1;1;No;GRANVILLE EVSD;020 - GRANVILLE T - GRANVILLE V&EVSD;LOT 116;128 E BROADWAY;05500 Granville-Vil-West Half;Building;430 Resturant; cafteria and/or bar;;;6 All;;;165100;319900;485000;0;0;0;C:\\\\tempPRCsketch.bmp;;2;;;;;;;;;;;;;;;3,600;;;;;;;;;;1,800;115,400;1,800;83,500;0;0;0;0;0;0;0;0;0;0;0;0;0;;19,000;;0;;0;;0;S(0), O(0);0;1;1;;1,800;;0;219,700;110;21,970;100;0;;;241,700;-48,340;No;20;0;0.00000;;193,400;2,300;195,700;;0;2016;2015;2014;315,000;315,000;315,000;129,400;129,400;129,400;444,400;444,400;444,400;02/24/2010;11/28/2005;;;3;1;;;EX - EXEMPT CONVEYANCE;EX - EXEMPT CONVEYANCE;;;0.00;0.00;;;99999;99999     ;;;N;N;;;N;N;;;FULLER THOMAS T & JEAN A TRUSTEES;Refer to deed;;;;165,100;2,300;1,800;2017;198,900;No;No;No;No;No;0;100;195,700;0;0;0;0;195,700;;0.00;15612;;;;;No;100.00;;;FULLER JEAN A TRUSTEE;145 VILL EDGE DR ;GRANVILLE OH 43023-1446\\n'"
      ]
     },
     "metadata": {},
     "output_type": "display_data"
    }
   ],
   "source": [
    "import linecache\n",
    "typical_line = linecache.getline(\"./data/02-licking.txt\", 2)\n",
    "error_line = linecache.getline(\"./data/02-licking.txt\", 1608)\n",
    "\n",
    "display(typical_line)\n",
    "display(error_line)"
   ]
  },
  {
   "cell_type": "markdown",
   "metadata": {},
   "source": [
    "Printing the lines in their entirety isn't very revealing.  \n",
    "\n",
    "<hr>\n",
    "<a name=\"Lab-8\"></a><mark> **Lab 8** A difference in the number of fields could be caused by a difference in the number of delimiters. In the cell below use the [*count()*](https://docs.python.org/3/library/stdtypes.html#str.count) method with each line to display the number of times the delimiter appears.</mark>"
   ]
  },
  {
   "cell_type": "code",
   "execution_count": null,
   "metadata": {},
   "outputs": [],
   "source": []
  },
  {
   "cell_type": "markdown",
   "metadata": {},
   "source": [
    "<hr>\n",
    "\n",
    "It would be helpful if we could compare each fields values between the two lines.  To do this we'll use the String [*split()*](https://docs.python.org/3/library/stdtypes.html#str.split) method to separate each line into a list of field values.  In addition to the two lines we already have, we'll retrieve the first line from the data for column names.  We can use the itertools module's [zip_longest](https://docs.python.org/3/library/itertools.html#itertools.zip_longest) function to combine the list of values extracted from each line for comparison.  "
   ]
  },
  {
   "cell_type": "code",
   "execution_count": 30,
   "metadata": {},
   "outputs": [
    {
     "name": "stdout",
     "output_type": "stream",
     "text": [
      "('fldParcelID', '35', '14934')\n",
      "('fldParcelNo', '001-000066-00.009', '020-051654-00.000')\n",
      "('fldRoutingNo', '001-006.00-120.000', '020-116.18-017.000')\n",
      "('fldOwner', 'HARDY RONALD J & LINDA B', 'FULLER JEAN A TRUSTEE')\n",
      "('fldCardNo', '1', '1')\n",
      "('fldMaxCards', '1', '1')\n",
      "('fldRecheck', 'No', 'No')\n",
      "('fldSchoolDistrict', 'NORTHRIDGE LSD', 'GRANVILLE EVSD')\n",
      "('fldTaxDistrict', '001 - BENNINGTON T-NRDGE LSD', '020 - GRANVILLE T - GRANVILLE V&EVSD')\n",
      "('fldLegalDesc', 'LOT 10 PT   3.68 AC', 'LOT 116')\n",
      "('fldLocationAddress', '8713 BENNER RD', '128 E BROADWAY')\n",
      "('fldNeighborhood', '06700 Bennington-T', '05500 Granville-Vil-West Half')\n",
      "('fldPropertyType', 'Dwelling', 'Building')\n",
      "('fldLUC', '511 Single family unplatted 0-09.9', '430 Resturant')\n",
      "('fldTopo', '', ' cafteria and/or bar')\n",
      "('fldAccess', '', '')\n",
      "('fldUtilities', '2578 Electric Gas Well Septic', '')\n",
      "('fldNotes', '', '6 All')\n",
      "('fldNotes2', '', '')\n",
      "('fldMarketLand', '50300', '')\n",
      "('fldMarketImprov', '138100', '165100')\n",
      "('fldMarketTotal', '188400', '319900')\n",
      "('fldCAUVLand', '0', '485000')\n",
      "('fldCAUVImprov', '0', '0')\n",
      "('fldCAUVTotal', '0', '0')\n",
      "('fldSketchPath', 'C:\\\\tempPRCsketch.bmp', '0')\n",
      "('fldStyle', 'Single Family', 'C:\\\\tempPRCsketch.bmp')\n",
      "('fldStories', '1', '')\n",
      "('fldExterior', 'Frame', '2')\n",
      "('fldHeating', 'Central Warm Air', '')\n",
      "('fldCooling', 'Central', '')\n",
      "('fldBasement', 'Full Basement', '')\n",
      "('fldFullBaths', '2.0', '')\n",
      "('fldHalfBaths', '', '')\n",
      "('fldOtherBaths', '', '')\n",
      "('fldAttic', 'None', '')\n",
      "('fldAtticHeating', '', '')\n",
      "('fldRooms', '6.0', '')\n",
      "('fldBedrooms', '3.0', '')\n",
      "('fldFamilyRooms', '', '')\n",
      "('fldDiningRooms', '0.0', '')\n",
      "('fldLivingRooms', '', '')\n",
      "('fldFinishedLivingArea', '1,790', '')\n",
      "('fldFinishedBasementArea', '0', '3,600')\n",
      "('fldYearBuilt', '2002', '')\n",
      "('fldEffYearBuilt', '2002', '')\n",
      "('fldYearRemodeled', '', '')\n",
      "('fldCondition', 'Average', '')\n",
      "('fldGrade', '90', '')\n",
      "('fldBasementGarage', '', '')\n",
      "('fldFireplaceOpenings', '', '')\n",
      "('fldFireplaceStacks', '', '')\n",
      "('fldFirstFloorArea', '1,790', '')\n",
      "('fldFirstFloorCost', '115,400', '1,800')\n",
      "('fldUpperFloorArea', '0', '115,400')\n",
      "('fldUpperFloorCost', '0', '1,800')\n",
      "('fldAtticArea', '0', '83,500')\n",
      "('fldAtticCost', '0', '0')\n",
      "('fldHalfFloorArea', '0', '0')\n",
      "('fldHalfFloorCost', '0', '0')\n",
      "('fldFinishedBasementCost', '0', '0')\n",
      "('fldUnfinishedLivingArea', '0', '0')\n",
      "('fldUnfinishedLivingCost', '0', '0')\n",
      "('fldCrawlArea', '0', '0')\n",
      "('fldCrawlCost', '0', '0')\n",
      "('fldBasementArea', '1,790', '0')\n",
      "('fldBasementCost', '30,600', '0')\n",
      "('fldBasementGarageArea', '0', '0')\n",
      "('fldBasementGarageCost', '0', '0')\n",
      "('fldExtWallArea', '', '0')\n",
      "('fldExtWallCost', '0', '')\n",
      "('fldHeatingArea', '', '19,000')\n",
      "('fldHeatingCost', '0', '')\n",
      "('fldCoolingArea', '', '0')\n",
      "('fldCoolingCost', '5,400', '')\n",
      "('fldPlumbingArea', '', '0')\n",
      "('fldPlumbingCost', '4,500', '')\n",
      "('fldFireplaceArea', 'S(0), O(0)', '0')\n",
      "('fldFireplaceCost', '0', 'S(0), O(0)')\n",
      "('fldIdenticalMultiplierCount', '1', '0')\n",
      "('fldIdenticalMultiplierCost', '1', '1')\n",
      "('fldEnhancementArea', '', '1')\n",
      "('fldEnhancementCost', '15,400', '')\n",
      "('fldFeaturesArea', '', '1,800')\n",
      "('fldFeaturesCost', '0', '')\n",
      "('fldSubTotalBeforeGrade', '171,300', '0')\n",
      "('fldGradeArea', '90', '219,700')\n",
      "('fldGradeCost', '-17,130', '110')\n",
      "('fldCostFactorArea', '100', '21,970')\n",
      "('fldCostFactorCost', '0', '100')\n",
      "('fldUngradedFeaturesArea', '', '0')\n",
      "('fldUngradedFeaturesCost', '', '')\n",
      "('fldRCN', '166,200', '')\n",
      "('fldDepreciation', '-33,240', '241,700')\n",
      "('fldDepreciationOverride', 'No', '-48,340')\n",
      "('fldDepreciationArea', '20', 'No')\n",
      "('fldObsolesence', '0', '20')\n",
      "('fldObsolesenceArea', '0.00000', '0')\n",
      "('fldImprovements', '', '0.00000')\n",
      "('fldRCNLD', '133,000', '')\n",
      "('fldImprovementsTotal', '5,100', '193,400')\n",
      "('fldFVC', '138,100', '2,300')\n",
      "('fldWellSeptic', 'Well/Septic', '195,700')\n",
      "('fldWellSepticValue', '12,000', '')\n",
      "('fldValueHistoryYear1', '2016', '0')\n",
      "('fldValueHistoryYear2', '2015', '2016')\n",
      "('fldValueHistoryYear3', '2014', '2015')\n",
      "('fldValueHistoryLand1', '41,300', '2014')\n",
      "('fldValueHistoryLand2', '41,300', '315,000')\n",
      "('fldValueHistoryLand3', '41,300', '315,000')\n",
      "('fldValueHistoryImprov1', '141,500', '315,000')\n",
      "('fldValueHistoryImprov2', '141,500', '129,400')\n",
      "('fldValueHistoryImprov3', '141,500', '129,400')\n",
      "('fldValueHistoryTotal1', '182,800', '129,400')\n",
      "('fldValueHistoryTotal2', '182,800', '444,400')\n",
      "('fldValueHistoryTotal3', '182,800', '444,400')\n",
      "('fldSalesDate1', '06/07/2001', '444,400')\n",
      "('fldSalesDate2', '11/01/2000', '02/24/2010')\n",
      "('fldSalesDate3', '07/06/1999', '11/28/2005')\n",
      "('fldSalesDate4', '', '')\n",
      "('fldSalesNoParcels1', '1', '')\n",
      "('fldSalesNoParcels2', '4', '3')\n",
      "('fldSalesNoParcels3', '4', '1')\n",
      "('fldSalesNoParcels4', '', '')\n",
      "('fldSalesType1', 'FD - FIDUCIARY', '')\n",
      "('fldSalesType2', 'EX - EXEMPT CONVEYANCE', 'EX - EXEMPT CONVEYANCE')\n",
      "('fldSalesType3', 'EX - EXEMPT CONVEYANCE', 'EX - EXEMPT CONVEYANCE')\n",
      "('fldSalesType4', '', '')\n",
      "('fldSalesPrice1', '32000.00', '')\n",
      "('fldSalesPrice2', '0.00', '0.00')\n",
      "('fldSalesPrice3', '0.00', '0.00')\n",
      "('fldSalesPrice4', '', '')\n",
      "('fldSalesConveyance1', '01721     ', '')\n",
      "('fldSalesConveyance2', '99999     ', '99999')\n",
      "('fldSalesConveyance3', '99999     ', '99999     ')\n",
      "('fldSalesConveyance4', '', '')\n",
      "('fldSalesValid1', 'Y', '')\n",
      "('fldSalesValid2', 'N', 'N')\n",
      "('fldSalesValid3', 'N', 'N')\n",
      "('fldSalesValid4', '', '')\n",
      "('fldSalesLandOnly1', 'Y', '')\n",
      "('fldSalesLandOnly2', 'Y', 'N')\n",
      "('fldSalesLandOnly3', 'Y', 'N')\n",
      "('fldSalesLandOnly4', '', '')\n",
      "('fldSalesPrevOwner1', 'BEVIER MARLENE M TRUSTEE', '')\n",
      "('fldSalesPrevOwner2', 'SHARROCK LORI S TRUSTEE', 'FULLER THOMAS T & JEAN A TRUSTEES')\n",
      "('fldSalesPrevOwner3', 'Refer to deed', 'Refer to deed')\n",
      "('fldSalesPrevOwner4', '', '')\n",
      "('fldFeatureTotal', '', '')\n",
      "('fldLandTotal', '50,300', '')\n",
      "('fldImprovTotal', '5,100', '165,100')\n",
      "('fldEnhancementTotal', '15,400', '2,300')\n",
      "('fldTaxYear', '2017', '1,800')\n",
      "('fldSubtotal', '146,000', '2017')\n",
      "('fldAdditionalInspections', 'No', '198,900')\n",
      "('fldAdditionalEnhancements', 'No', 'No')\n",
      "('fldAdditionalFeatures', 'No', 'No')\n",
      "('fldAdditionalLand', 'No', 'No')\n",
      "('fldAdditionalImprovements', 'No', 'No')\n",
      "('fldNeighAdj', '0', 'No')\n",
      "('fldNeighAdjArea', '100', '0')\n",
      "('fldCard1Total', '138,100', '100')\n",
      "('fldCard2Total', '0', '195,700')\n",
      "('fldCard3Total', '0', '0')\n",
      "('fldCard4Total', '0', '0')\n",
      "('fldCard5Total', '0', '0')\n",
      "('fldParcelTotal', '138,100', '0')\n",
      "('fldPicPath', '', '195,700')\n",
      "('fldAcreageTotal', '3.68', '')\n",
      "('fldSortOrder', '35', '0.00')\n",
      "('fldCropTotal', '', '15612')\n",
      "('fldWoodsTotal', '', '')\n",
      "('fldNotFarmedTotal', '', '')\n",
      "('fldConservationTotal', '', '')\n",
      "('fldNeighAdjLandOverride', 'No', '')\n",
      "('fldNeighAdjAreaLand', '100.00', 'No')\n",
      "('fldMailingAddress1', '', '100.00')\n",
      "('fldMailingAddress2', '', '')\n",
      "('fldMailingAddress3', 'HARDY RONALD J & LINDA B', '')\n",
      "('fldMailingAddress4', '8713 BENNER RD ', 'FULLER JEAN A TRUSTEE')\n",
      "('fldMailingAddress5\\n', 'JOHNSTOWN OH 43031\\n', '145 VILL EDGE DR ')\n",
      "(None, None, 'GRANVILLE OH 43023-1446\\n')\n"
     ]
    }
   ],
   "source": [
    "from itertools import zip_longest\n",
    "\n",
    "header_line = linecache.getline(\"./data/02-licking.txt\", 1)\n",
    "\n",
    "header_entries = header_line.split(\";\")\n",
    "typical_entries = typical_line.split(\";\")\n",
    "error_entries = error_line.split(\";\")\n",
    "\n",
    "for entry in zip_longest(header_entries, typical_entries, error_entries):\n",
    "    print(entry)"
   ]
  },
  {
   "cell_type": "markdown",
   "metadata": {},
   "source": [
    "Compare the values for the `fldTopo` header.  The \"typical line\" has no value whereas the \"error line\" has a value that seems related to the value associated with the previous field, `fldLUC`.  If we look back to the the display of each line's content, we can see that \"430 Resturant\" and \"cafeteria and/or bar\" are separated by a semicolon but should be kept together rather than split apart as different field values; note that \"Restaurant\" is misspelled in the source data.  The source data should use quoting if a delimiter appears as part of a data value or avoid using the delimiter in such a capacity.\n",
    "\n",
    "Now that we know what the problem is, there are a variety of ways to address the problem.  One way is to replace all instances of \"430 Restaurant; cafeteria and/or bar\" in the source text with something that doesn't have a semicolon prior to loading it in pandas.  In the code below, we assign the problematic value and its replacement value to variables.  After reading the content of the file, we use the *replace()* method to substitute occurrences of the first value with the second. We then load the data into pandas.  Because the pandas *read_csv()* function is expecting a file or stream, and not a string or bytes, we use the [*StringIO*](https://docs.python.org/3/library/io.html#io.StringIO) class to create a stream from the altered content. We specify \"python\" as the *engine* in the *read_csv()* method to avoid warnings about memory."
   ]
  },
  {
   "cell_type": "code",
   "execution_count": 31,
   "metadata": {},
   "outputs": [],
   "source": [
    "import io \n",
    "old_value = \"430 Resturant; cafteria and/or bar\"\n",
    "new_value = \"430 Resturant, cafeteria and/or bar\"\n",
    "\n",
    "with open(\"./data/02-licking.txt\") as infile:\n",
    "    content = infile.read()\n",
    "    \n",
    "content = content.replace(old_value, new_value)\n",
    "    \n",
    "licking = pd.read_csv(io.StringIO(content), delimiter=\";\", engine=\"python\")"
   ]
  },
  {
   "cell_type": "markdown",
   "metadata": {},
   "source": [
    "While this was relatively straightforward, there are disadvantages to this method.  The primary disadvantage here is that we iterate through the content of the file several times: first we read all the content, then we iterate through it to find and replace the problematic value, then iterate through it to load it into pandas; usually we only iterate through the file once when loading it into pandas.  While this is fine for relatively small files, we should avoid looping through the entirety of a file whenever possible.\n",
    "\n",
    "An alternative method would be to make use of pandas' support for [regular expressions](https://docs.python.org/3.2/library/re.html) when specifying the delimiter. We can use a [negative look-behind assertion](https://www.regular-expressions.info/lookaround.html) to indicate that a delimiter is any semicolon that isn't immediately preceded by the string \"Resturant\".  We could do this with the following call to *read_csv()*:\n",
    "\n",
    "```python\n",
    "licking = pd.read_csv(\"./data/02-licking.txt\", delimiter=\"(?<!Resturant);\", engine=\"python\")\n",
    "```\n",
    "\n",
    "With the data loaded, let's display the first few lines to get sense of the data."
   ]
  },
  {
   "cell_type": "code",
   "execution_count": 32,
   "metadata": {},
   "outputs": [
    {
     "data": {
      "text/html": [
       "<div>\n",
       "<style scoped>\n",
       "    .dataframe tbody tr th:only-of-type {\n",
       "        vertical-align: middle;\n",
       "    }\n",
       "\n",
       "    .dataframe tbody tr th {\n",
       "        vertical-align: top;\n",
       "    }\n",
       "\n",
       "    .dataframe thead th {\n",
       "        text-align: right;\n",
       "    }\n",
       "</style>\n",
       "<table border=\"1\" class=\"dataframe\">\n",
       "  <thead>\n",
       "    <tr style=\"text-align: right;\">\n",
       "      <th></th>\n",
       "      <th>fldParcelID</th>\n",
       "      <th>fldParcelNo</th>\n",
       "      <th>fldRoutingNo</th>\n",
       "      <th>fldOwner</th>\n",
       "      <th>fldCardNo</th>\n",
       "      <th>fldMaxCards</th>\n",
       "      <th>fldRecheck</th>\n",
       "      <th>fldSchoolDistrict</th>\n",
       "      <th>fldTaxDistrict</th>\n",
       "      <th>fldLegalDesc</th>\n",
       "      <th>fldLocationAddress</th>\n",
       "      <th>fldNeighborhood</th>\n",
       "      <th>fldPropertyType</th>\n",
       "      <th>fldLUC</th>\n",
       "      <th>fldTopo</th>\n",
       "      <th>fldAccess</th>\n",
       "      <th>fldUtilities</th>\n",
       "      <th>fldNotes</th>\n",
       "      <th>fldNotes2</th>\n",
       "      <th>fldMarketLand</th>\n",
       "      <th>fldMarketImprov</th>\n",
       "      <th>fldMarketTotal</th>\n",
       "      <th>fldCAUVLand</th>\n",
       "      <th>fldCAUVImprov</th>\n",
       "      <th>fldCAUVTotal</th>\n",
       "      <th>fldSketchPath</th>\n",
       "      <th>fldStyle</th>\n",
       "      <th>fldStories</th>\n",
       "      <th>fldExterior</th>\n",
       "      <th>fldHeating</th>\n",
       "      <th>fldCooling</th>\n",
       "      <th>fldBasement</th>\n",
       "      <th>fldFullBaths</th>\n",
       "      <th>fldHalfBaths</th>\n",
       "      <th>fldOtherBaths</th>\n",
       "      <th>fldAttic</th>\n",
       "      <th>fldAtticHeating</th>\n",
       "      <th>fldRooms</th>\n",
       "      <th>fldBedrooms</th>\n",
       "      <th>fldFamilyRooms</th>\n",
       "      <th>fldDiningRooms</th>\n",
       "      <th>fldLivingRooms</th>\n",
       "      <th>fldFinishedLivingArea</th>\n",
       "      <th>fldFinishedBasementArea</th>\n",
       "      <th>fldYearBuilt</th>\n",
       "      <th>fldEffYearBuilt</th>\n",
       "      <th>fldYearRemodeled</th>\n",
       "      <th>fldCondition</th>\n",
       "      <th>fldGrade</th>\n",
       "      <th>fldBasementGarage</th>\n",
       "      <th>fldFireplaceOpenings</th>\n",
       "      <th>fldFireplaceStacks</th>\n",
       "      <th>fldFirstFloorArea</th>\n",
       "      <th>fldFirstFloorCost</th>\n",
       "      <th>fldUpperFloorArea</th>\n",
       "      <th>fldUpperFloorCost</th>\n",
       "      <th>fldAtticArea</th>\n",
       "      <th>fldAtticCost</th>\n",
       "      <th>fldHalfFloorArea</th>\n",
       "      <th>fldHalfFloorCost</th>\n",
       "      <th>fldFinishedBasementCost</th>\n",
       "      <th>fldUnfinishedLivingArea</th>\n",
       "      <th>fldUnfinishedLivingCost</th>\n",
       "      <th>fldCrawlArea</th>\n",
       "      <th>fldCrawlCost</th>\n",
       "      <th>fldBasementArea</th>\n",
       "      <th>fldBasementCost</th>\n",
       "      <th>fldBasementGarageArea</th>\n",
       "      <th>fldBasementGarageCost</th>\n",
       "      <th>fldExtWallArea</th>\n",
       "      <th>fldExtWallCost</th>\n",
       "      <th>fldHeatingArea</th>\n",
       "      <th>fldHeatingCost</th>\n",
       "      <th>fldCoolingArea</th>\n",
       "      <th>fldCoolingCost</th>\n",
       "      <th>fldPlumbingArea</th>\n",
       "      <th>fldPlumbingCost</th>\n",
       "      <th>fldFireplaceArea</th>\n",
       "      <th>fldFireplaceCost</th>\n",
       "      <th>fldIdenticalMultiplierCount</th>\n",
       "      <th>fldIdenticalMultiplierCost</th>\n",
       "      <th>fldEnhancementArea</th>\n",
       "      <th>fldEnhancementCost</th>\n",
       "      <th>fldFeaturesArea</th>\n",
       "      <th>fldFeaturesCost</th>\n",
       "      <th>fldSubTotalBeforeGrade</th>\n",
       "      <th>fldGradeArea</th>\n",
       "      <th>fldGradeCost</th>\n",
       "      <th>fldCostFactorArea</th>\n",
       "      <th>fldCostFactorCost</th>\n",
       "      <th>fldUngradedFeaturesArea</th>\n",
       "      <th>fldUngradedFeaturesCost</th>\n",
       "      <th>fldRCN</th>\n",
       "      <th>fldDepreciation</th>\n",
       "      <th>fldDepreciationOverride</th>\n",
       "      <th>fldDepreciationArea</th>\n",
       "      <th>fldObsolesence</th>\n",
       "      <th>fldObsolesenceArea</th>\n",
       "      <th>fldImprovements</th>\n",
       "      <th>fldRCNLD</th>\n",
       "      <th>fldImprovementsTotal</th>\n",
       "      <th>fldFVC</th>\n",
       "      <th>fldWellSeptic</th>\n",
       "      <th>fldWellSepticValue</th>\n",
       "      <th>fldValueHistoryYear1</th>\n",
       "      <th>fldValueHistoryYear2</th>\n",
       "      <th>fldValueHistoryYear3</th>\n",
       "      <th>fldValueHistoryLand1</th>\n",
       "      <th>fldValueHistoryLand2</th>\n",
       "      <th>fldValueHistoryLand3</th>\n",
       "      <th>fldValueHistoryImprov1</th>\n",
       "      <th>fldValueHistoryImprov2</th>\n",
       "      <th>fldValueHistoryImprov3</th>\n",
       "      <th>fldValueHistoryTotal1</th>\n",
       "      <th>fldValueHistoryTotal2</th>\n",
       "      <th>fldValueHistoryTotal3</th>\n",
       "      <th>fldSalesDate1</th>\n",
       "      <th>fldSalesDate2</th>\n",
       "      <th>fldSalesDate3</th>\n",
       "      <th>fldSalesDate4</th>\n",
       "      <th>fldSalesNoParcels1</th>\n",
       "      <th>fldSalesNoParcels2</th>\n",
       "      <th>fldSalesNoParcels3</th>\n",
       "      <th>fldSalesNoParcels4</th>\n",
       "      <th>fldSalesType1</th>\n",
       "      <th>fldSalesType2</th>\n",
       "      <th>fldSalesType3</th>\n",
       "      <th>fldSalesType4</th>\n",
       "      <th>fldSalesPrice1</th>\n",
       "      <th>fldSalesPrice2</th>\n",
       "      <th>fldSalesPrice3</th>\n",
       "      <th>fldSalesPrice4</th>\n",
       "      <th>fldSalesConveyance1</th>\n",
       "      <th>fldSalesConveyance2</th>\n",
       "      <th>fldSalesConveyance3</th>\n",
       "      <th>fldSalesConveyance4</th>\n",
       "      <th>fldSalesValid1</th>\n",
       "      <th>fldSalesValid2</th>\n",
       "      <th>fldSalesValid3</th>\n",
       "      <th>fldSalesValid4</th>\n",
       "      <th>fldSalesLandOnly1</th>\n",
       "      <th>fldSalesLandOnly2</th>\n",
       "      <th>fldSalesLandOnly3</th>\n",
       "      <th>fldSalesLandOnly4</th>\n",
       "      <th>fldSalesPrevOwner1</th>\n",
       "      <th>fldSalesPrevOwner2</th>\n",
       "      <th>fldSalesPrevOwner3</th>\n",
       "      <th>fldSalesPrevOwner4</th>\n",
       "      <th>fldFeatureTotal</th>\n",
       "      <th>fldLandTotal</th>\n",
       "      <th>fldImprovTotal</th>\n",
       "      <th>fldEnhancementTotal</th>\n",
       "      <th>fldTaxYear</th>\n",
       "      <th>fldSubtotal</th>\n",
       "      <th>fldAdditionalInspections</th>\n",
       "      <th>fldAdditionalEnhancements</th>\n",
       "      <th>fldAdditionalFeatures</th>\n",
       "      <th>fldAdditionalLand</th>\n",
       "      <th>fldAdditionalImprovements</th>\n",
       "      <th>fldNeighAdj</th>\n",
       "      <th>fldNeighAdjArea</th>\n",
       "      <th>fldCard1Total</th>\n",
       "      <th>fldCard2Total</th>\n",
       "      <th>fldCard3Total</th>\n",
       "      <th>fldCard4Total</th>\n",
       "      <th>fldCard5Total</th>\n",
       "      <th>fldParcelTotal</th>\n",
       "      <th>fldPicPath</th>\n",
       "      <th>fldAcreageTotal</th>\n",
       "      <th>fldSortOrder</th>\n",
       "      <th>fldCropTotal</th>\n",
       "      <th>fldWoodsTotal</th>\n",
       "      <th>fldNotFarmedTotal</th>\n",
       "      <th>fldConservationTotal</th>\n",
       "      <th>fldNeighAdjLandOverride</th>\n",
       "      <th>fldNeighAdjAreaLand</th>\n",
       "      <th>fldMailingAddress1</th>\n",
       "      <th>fldMailingAddress2</th>\n",
       "      <th>fldMailingAddress3</th>\n",
       "      <th>fldMailingAddress4</th>\n",
       "      <th>fldMailingAddress5</th>\n",
       "    </tr>\n",
       "  </thead>\n",
       "  <tbody>\n",
       "    <tr>\n",
       "      <th>0</th>\n",
       "      <td>35</td>\n",
       "      <td>001-000066-00.009</td>\n",
       "      <td>001-006.00-120.000</td>\n",
       "      <td>HARDY RONALD J &amp; LINDA B</td>\n",
       "      <td>1</td>\n",
       "      <td>1</td>\n",
       "      <td>No</td>\n",
       "      <td>NORTHRIDGE LSD</td>\n",
       "      <td>001 - BENNINGTON T-NRDGE LSD</td>\n",
       "      <td>LOT 10 PT   3.68 AC</td>\n",
       "      <td>8713 BENNER RD</td>\n",
       "      <td>06700 Bennington-T</td>\n",
       "      <td>Dwelling</td>\n",
       "      <td>511 Single family unplatted 0-09.9</td>\n",
       "      <td>NaN</td>\n",
       "      <td>NaN</td>\n",
       "      <td>2578 Electric Gas Well Septic</td>\n",
       "      <td>NaN</td>\n",
       "      <td>NaN</td>\n",
       "      <td>50300.0</td>\n",
       "      <td>138100.0</td>\n",
       "      <td>188400.0</td>\n",
       "      <td>0.0</td>\n",
       "      <td>0.0</td>\n",
       "      <td>0.0</td>\n",
       "      <td>C:\\tempPRCsketch.bmp</td>\n",
       "      <td>Single Family</td>\n",
       "      <td>1</td>\n",
       "      <td>Frame</td>\n",
       "      <td>Central Warm Air</td>\n",
       "      <td>Central</td>\n",
       "      <td>Full Basement</td>\n",
       "      <td>2.0</td>\n",
       "      <td>NaN</td>\n",
       "      <td>NaN</td>\n",
       "      <td>None</td>\n",
       "      <td>NaN</td>\n",
       "      <td>6.0</td>\n",
       "      <td>3.0</td>\n",
       "      <td>NaN</td>\n",
       "      <td>0.0</td>\n",
       "      <td>NaN</td>\n",
       "      <td>1,790</td>\n",
       "      <td>0.0</td>\n",
       "      <td>2002.0</td>\n",
       "      <td>2002.0</td>\n",
       "      <td>NaN</td>\n",
       "      <td>Average</td>\n",
       "      <td>90.0</td>\n",
       "      <td>NaN</td>\n",
       "      <td>NaN</td>\n",
       "      <td>NaN</td>\n",
       "      <td>1,790</td>\n",
       "      <td>115,400</td>\n",
       "      <td>0</td>\n",
       "      <td>0</td>\n",
       "      <td>0</td>\n",
       "      <td>0</td>\n",
       "      <td>0</td>\n",
       "      <td>0</td>\n",
       "      <td>0</td>\n",
       "      <td>0</td>\n",
       "      <td>0.0</td>\n",
       "      <td>0</td>\n",
       "      <td>0</td>\n",
       "      <td>1,790</td>\n",
       "      <td>30,600</td>\n",
       "      <td>0.0</td>\n",
       "      <td>0</td>\n",
       "      <td>NaN</td>\n",
       "      <td>0</td>\n",
       "      <td>NaN</td>\n",
       "      <td>0</td>\n",
       "      <td>NaN</td>\n",
       "      <td>5,400</td>\n",
       "      <td>NaN</td>\n",
       "      <td>4,500</td>\n",
       "      <td>S(0), O(0)</td>\n",
       "      <td>0</td>\n",
       "      <td>1.0</td>\n",
       "      <td>1.0</td>\n",
       "      <td>NaN</td>\n",
       "      <td>15,400</td>\n",
       "      <td>NaN</td>\n",
       "      <td>0</td>\n",
       "      <td>171,300</td>\n",
       "      <td>90.0</td>\n",
       "      <td>-17,130</td>\n",
       "      <td>100.0</td>\n",
       "      <td>0</td>\n",
       "      <td>NaN</td>\n",
       "      <td>NaN</td>\n",
       "      <td>166,200</td>\n",
       "      <td>-33,240</td>\n",
       "      <td>No</td>\n",
       "      <td>20.0</td>\n",
       "      <td>0.0</td>\n",
       "      <td>0.0</td>\n",
       "      <td>NaN</td>\n",
       "      <td>133,000</td>\n",
       "      <td>5,100</td>\n",
       "      <td>138,100</td>\n",
       "      <td>Well/Septic</td>\n",
       "      <td>12,000</td>\n",
       "      <td>2016.0</td>\n",
       "      <td>2015.0</td>\n",
       "      <td>2014.0</td>\n",
       "      <td>41,300</td>\n",
       "      <td>41,300</td>\n",
       "      <td>41,300</td>\n",
       "      <td>141,500</td>\n",
       "      <td>141,500</td>\n",
       "      <td>141,500</td>\n",
       "      <td>182,800</td>\n",
       "      <td>182,800</td>\n",
       "      <td>182,800</td>\n",
       "      <td>06/07/2001</td>\n",
       "      <td>11/01/2000</td>\n",
       "      <td>07/06/1999</td>\n",
       "      <td>NaN</td>\n",
       "      <td>1.0</td>\n",
       "      <td>4.0</td>\n",
       "      <td>4.0</td>\n",
       "      <td>NaN</td>\n",
       "      <td>FD - FIDUCIARY</td>\n",
       "      <td>EX - EXEMPT CONVEYANCE</td>\n",
       "      <td>EX - EXEMPT CONVEYANCE</td>\n",
       "      <td>NaN</td>\n",
       "      <td>32000.0</td>\n",
       "      <td>0.0</td>\n",
       "      <td>0.0</td>\n",
       "      <td>NaN</td>\n",
       "      <td>01721</td>\n",
       "      <td>99999</td>\n",
       "      <td>99999</td>\n",
       "      <td>NaN</td>\n",
       "      <td>Y</td>\n",
       "      <td>N</td>\n",
       "      <td>N</td>\n",
       "      <td>NaN</td>\n",
       "      <td>Y</td>\n",
       "      <td>Y</td>\n",
       "      <td>Y</td>\n",
       "      <td>NaN</td>\n",
       "      <td>BEVIER MARLENE M TRUSTEE</td>\n",
       "      <td>SHARROCK LORI S TRUSTEE</td>\n",
       "      <td>Refer to deed</td>\n",
       "      <td>NaN</td>\n",
       "      <td>NaN</td>\n",
       "      <td>50,300</td>\n",
       "      <td>5,100</td>\n",
       "      <td>15,400</td>\n",
       "      <td>2017</td>\n",
       "      <td>146,000</td>\n",
       "      <td>No</td>\n",
       "      <td>No</td>\n",
       "      <td>No</td>\n",
       "      <td>No</td>\n",
       "      <td>No</td>\n",
       "      <td>0</td>\n",
       "      <td>100.0</td>\n",
       "      <td>138,100</td>\n",
       "      <td>0</td>\n",
       "      <td>0</td>\n",
       "      <td>0</td>\n",
       "      <td>0</td>\n",
       "      <td>138,100</td>\n",
       "      <td>NaN</td>\n",
       "      <td>3.68</td>\n",
       "      <td>35</td>\n",
       "      <td>NaN</td>\n",
       "      <td>NaN</td>\n",
       "      <td>NaN</td>\n",
       "      <td>NaN</td>\n",
       "      <td>No</td>\n",
       "      <td>100.0</td>\n",
       "      <td>NaN</td>\n",
       "      <td>NaN</td>\n",
       "      <td>HARDY RONALD J &amp; LINDA B</td>\n",
       "      <td>8713 BENNER RD</td>\n",
       "      <td>JOHNSTOWN OH 43031</td>\n",
       "    </tr>\n",
       "    <tr>\n",
       "      <th>1</th>\n",
       "      <td>60</td>\n",
       "      <td>001-000126-00.006</td>\n",
       "      <td>001-006.00-065.000</td>\n",
       "      <td>MIRACLE SHELVA &amp; IVA</td>\n",
       "      <td>1</td>\n",
       "      <td>1</td>\n",
       "      <td>No</td>\n",
       "      <td>NORTHRIDGE LSD</td>\n",
       "      <td>001 - BENNINGTON T-NRDGE LSD</td>\n",
       "      <td>LOT 7 PT   10.009 AC</td>\n",
       "      <td>6474 HARMONY CHURCH RD</td>\n",
       "      <td>06700 Bennington-T</td>\n",
       "      <td>Dwelling</td>\n",
       "      <td>512 Single family unplatted 10-19.</td>\n",
       "      <td>NaN</td>\n",
       "      <td>NaN</td>\n",
       "      <td>278 Electric Well Septic</td>\n",
       "      <td>NaN</td>\n",
       "      <td>NaN</td>\n",
       "      <td>86300.0</td>\n",
       "      <td>162700.0</td>\n",
       "      <td>249000.0</td>\n",
       "      <td>0.0</td>\n",
       "      <td>0.0</td>\n",
       "      <td>0.0</td>\n",
       "      <td>C:\\tempPRCsketch.bmp</td>\n",
       "      <td>Single Family</td>\n",
       "      <td>1</td>\n",
       "      <td>Frame</td>\n",
       "      <td>Central Warm Air</td>\n",
       "      <td>Central</td>\n",
       "      <td>Full Basement</td>\n",
       "      <td>3.0</td>\n",
       "      <td>NaN</td>\n",
       "      <td>NaN</td>\n",
       "      <td>Finished</td>\n",
       "      <td>NaN</td>\n",
       "      <td>7.0</td>\n",
       "      <td>4.0</td>\n",
       "      <td>NaN</td>\n",
       "      <td>0.0</td>\n",
       "      <td>NaN</td>\n",
       "      <td>2,326</td>\n",
       "      <td>0.0</td>\n",
       "      <td>1998.0</td>\n",
       "      <td>1998.0</td>\n",
       "      <td>NaN</td>\n",
       "      <td>Average</td>\n",
       "      <td>90.0</td>\n",
       "      <td>NaN</td>\n",
       "      <td>NaN</td>\n",
       "      <td>NaN</td>\n",
       "      <td>1,710</td>\n",
       "      <td>110,600</td>\n",
       "      <td>0</td>\n",
       "      <td>0</td>\n",
       "      <td>616</td>\n",
       "      <td>35,400</td>\n",
       "      <td>0</td>\n",
       "      <td>0</td>\n",
       "      <td>0</td>\n",
       "      <td>0</td>\n",
       "      <td>0.0</td>\n",
       "      <td>0</td>\n",
       "      <td>0</td>\n",
       "      <td>1,710</td>\n",
       "      <td>29,300</td>\n",
       "      <td>0.0</td>\n",
       "      <td>0</td>\n",
       "      <td>NaN</td>\n",
       "      <td>0</td>\n",
       "      <td>NaN</td>\n",
       "      <td>0</td>\n",
       "      <td>NaN</td>\n",
       "      <td>6,600</td>\n",
       "      <td>NaN</td>\n",
       "      <td>9,000</td>\n",
       "      <td>S(0), O(0)</td>\n",
       "      <td>0</td>\n",
       "      <td>1.0</td>\n",
       "      <td>1.0</td>\n",
       "      <td>NaN</td>\n",
       "      <td>29,400</td>\n",
       "      <td>NaN</td>\n",
       "      <td>0</td>\n",
       "      <td>220,300</td>\n",
       "      <td>90.0</td>\n",
       "      <td>-22,030</td>\n",
       "      <td>100.0</td>\n",
       "      <td>0</td>\n",
       "      <td>NaN</td>\n",
       "      <td>NaN</td>\n",
       "      <td>210,300</td>\n",
       "      <td>-52,575</td>\n",
       "      <td>No</td>\n",
       "      <td>20.0</td>\n",
       "      <td>0.0</td>\n",
       "      <td>5.0</td>\n",
       "      <td>NaN</td>\n",
       "      <td>157,700</td>\n",
       "      <td>5,000</td>\n",
       "      <td>162,700</td>\n",
       "      <td>Well/Septic</td>\n",
       "      <td>12,000</td>\n",
       "      <td>2016.0</td>\n",
       "      <td>2015.0</td>\n",
       "      <td>2014.0</td>\n",
       "      <td>45,300</td>\n",
       "      <td>45,300</td>\n",
       "      <td>45,300</td>\n",
       "      <td>177,400</td>\n",
       "      <td>177,400</td>\n",
       "      <td>177,400</td>\n",
       "      <td>222,700</td>\n",
       "      <td>222,700</td>\n",
       "      <td>222,700</td>\n",
       "      <td>09/18/2000</td>\n",
       "      <td>NaN</td>\n",
       "      <td>NaN</td>\n",
       "      <td>NaN</td>\n",
       "      <td>2.0</td>\n",
       "      <td>NaN</td>\n",
       "      <td>NaN</td>\n",
       "      <td>NaN</td>\n",
       "      <td>EX - EXEMPT CONVEYANCE</td>\n",
       "      <td>NaN</td>\n",
       "      <td>NaN</td>\n",
       "      <td>NaN</td>\n",
       "      <td>0.0</td>\n",
       "      <td>NaN</td>\n",
       "      <td>NaN</td>\n",
       "      <td>NaN</td>\n",
       "      <td>99999</td>\n",
       "      <td>NaN</td>\n",
       "      <td>NaN</td>\n",
       "      <td>NaN</td>\n",
       "      <td>N</td>\n",
       "      <td>NaN</td>\n",
       "      <td>NaN</td>\n",
       "      <td>NaN</td>\n",
       "      <td>N</td>\n",
       "      <td>NaN</td>\n",
       "      <td>NaN</td>\n",
       "      <td>NaN</td>\n",
       "      <td>Refer to deed</td>\n",
       "      <td>NaN</td>\n",
       "      <td>NaN</td>\n",
       "      <td>NaN</td>\n",
       "      <td>NaN</td>\n",
       "      <td>86,300</td>\n",
       "      <td>5,000</td>\n",
       "      <td>29,400</td>\n",
       "      <td>2017</td>\n",
       "      <td>175,300</td>\n",
       "      <td>No</td>\n",
       "      <td>No</td>\n",
       "      <td>No</td>\n",
       "      <td>No</td>\n",
       "      <td>No</td>\n",
       "      <td>0</td>\n",
       "      <td>100.0</td>\n",
       "      <td>162,700</td>\n",
       "      <td>0</td>\n",
       "      <td>0</td>\n",
       "      <td>0</td>\n",
       "      <td>0</td>\n",
       "      <td>162,700</td>\n",
       "      <td>NaN</td>\n",
       "      <td>10.00</td>\n",
       "      <td>61</td>\n",
       "      <td>NaN</td>\n",
       "      <td>NaN</td>\n",
       "      <td>NaN</td>\n",
       "      <td>NaN</td>\n",
       "      <td>No</td>\n",
       "      <td>100.0</td>\n",
       "      <td>NaN</td>\n",
       "      <td>NaN</td>\n",
       "      <td>MIRACLE SHELVA &amp; IVA</td>\n",
       "      <td>6474 HARMONY CHURCH RD</td>\n",
       "      <td>JOHNSTOWN OH 43031-9123</td>\n",
       "    </tr>\n",
       "    <tr>\n",
       "      <th>2</th>\n",
       "      <td>72</td>\n",
       "      <td>001-000126-00.018</td>\n",
       "      <td>001-006.00-060.000</td>\n",
       "      <td>JONES JANET C</td>\n",
       "      <td>1</td>\n",
       "      <td>1</td>\n",
       "      <td>No</td>\n",
       "      <td>NORTHRIDGE LSD</td>\n",
       "      <td>001 - BENNINGTON T-NRDGE LSD</td>\n",
       "      <td>5.00 AC  LOT 7 PT &amp; LOT 8</td>\n",
       "      <td>6959 HARMONY CHURCH RD</td>\n",
       "      <td>06700 Bennington-T</td>\n",
       "      <td>Dwelling</td>\n",
       "      <td>511 Single family unplatted 0-09.9</td>\n",
       "      <td>NaN</td>\n",
       "      <td>NaN</td>\n",
       "      <td>278 Electric Well Septic</td>\n",
       "      <td>NaN</td>\n",
       "      <td>NaN</td>\n",
       "      <td>53100.0</td>\n",
       "      <td>24500.0</td>\n",
       "      <td>77600.0</td>\n",
       "      <td>0.0</td>\n",
       "      <td>0.0</td>\n",
       "      <td>0.0</td>\n",
       "      <td>C:\\tempPRCsketch.bmp</td>\n",
       "      <td>Single Family</td>\n",
       "      <td>1</td>\n",
       "      <td>Frame</td>\n",
       "      <td>Central Warm Air</td>\n",
       "      <td>None</td>\n",
       "      <td>Pt Crawl</td>\n",
       "      <td>2.0</td>\n",
       "      <td>NaN</td>\n",
       "      <td>NaN</td>\n",
       "      <td>None</td>\n",
       "      <td>NaN</td>\n",
       "      <td>5.0</td>\n",
       "      <td>3.0</td>\n",
       "      <td>NaN</td>\n",
       "      <td>0.0</td>\n",
       "      <td>NaN</td>\n",
       "      <td>1,400</td>\n",
       "      <td>0.0</td>\n",
       "      <td>1991.0</td>\n",
       "      <td>1991.0</td>\n",
       "      <td>NaN</td>\n",
       "      <td>Poor</td>\n",
       "      <td>70.0</td>\n",
       "      <td>NaN</td>\n",
       "      <td>NaN</td>\n",
       "      <td>NaN</td>\n",
       "      <td>1,400</td>\n",
       "      <td>95,800</td>\n",
       "      <td>0</td>\n",
       "      <td>0</td>\n",
       "      <td>0</td>\n",
       "      <td>0</td>\n",
       "      <td>0</td>\n",
       "      <td>0</td>\n",
       "      <td>0</td>\n",
       "      <td>0</td>\n",
       "      <td>0.0</td>\n",
       "      <td>1,040</td>\n",
       "      <td>7,300</td>\n",
       "      <td>0</td>\n",
       "      <td>0</td>\n",
       "      <td>0.0</td>\n",
       "      <td>0</td>\n",
       "      <td>NaN</td>\n",
       "      <td>0</td>\n",
       "      <td>NaN</td>\n",
       "      <td>0</td>\n",
       "      <td>NaN</td>\n",
       "      <td>0</td>\n",
       "      <td>NaN</td>\n",
       "      <td>4,500</td>\n",
       "      <td>S(0), O(0)</td>\n",
       "      <td>0</td>\n",
       "      <td>1.0</td>\n",
       "      <td>1.0</td>\n",
       "      <td>NaN</td>\n",
       "      <td>15,300</td>\n",
       "      <td>NaN</td>\n",
       "      <td>0</td>\n",
       "      <td>122,900</td>\n",
       "      <td>70.0</td>\n",
       "      <td>-36,870</td>\n",
       "      <td>100.0</td>\n",
       "      <td>0</td>\n",
       "      <td>NaN</td>\n",
       "      <td>NaN</td>\n",
       "      <td>98,000</td>\n",
       "      <td>-73,500</td>\n",
       "      <td>Yes</td>\n",
       "      <td>75.0</td>\n",
       "      <td>0.0</td>\n",
       "      <td>0.0</td>\n",
       "      <td>NaN</td>\n",
       "      <td>24,500</td>\n",
       "      <td>0</td>\n",
       "      <td>24,500</td>\n",
       "      <td>Well/Septic</td>\n",
       "      <td>12,000</td>\n",
       "      <td>2016.0</td>\n",
       "      <td>2015.0</td>\n",
       "      <td>2014.0</td>\n",
       "      <td>53,100</td>\n",
       "      <td>34,000</td>\n",
       "      <td>34,000</td>\n",
       "      <td>24,500</td>\n",
       "      <td>77,000</td>\n",
       "      <td>77,000</td>\n",
       "      <td>77,600</td>\n",
       "      <td>111,000</td>\n",
       "      <td>111,000</td>\n",
       "      <td>08/17/2017</td>\n",
       "      <td>09/27/2012</td>\n",
       "      <td>02/23/2012</td>\n",
       "      <td>12/23/2003</td>\n",
       "      <td>1.0</td>\n",
       "      <td>1.0</td>\n",
       "      <td>1.0</td>\n",
       "      <td>1.0</td>\n",
       "      <td>EX - EXEMPT CONVEYANCE</td>\n",
       "      <td>WD - WARRANTY</td>\n",
       "      <td>SH - SHERIFF</td>\n",
       "      <td>WD - WARRANTY</td>\n",
       "      <td>0.0</td>\n",
       "      <td>38900.0</td>\n",
       "      <td>53334.0</td>\n",
       "      <td>117000.0</td>\n",
       "      <td>99999</td>\n",
       "      <td>4943</td>\n",
       "      <td>3034</td>\n",
       "      <td>4936.0</td>\n",
       "      <td>N</td>\n",
       "      <td>N</td>\n",
       "      <td>N</td>\n",
       "      <td>Y</td>\n",
       "      <td>N</td>\n",
       "      <td>N</td>\n",
       "      <td>N</td>\n",
       "      <td>N</td>\n",
       "      <td>JONES DOUGLAS F &amp; JANET C</td>\n",
       "      <td>FANNIE MAE</td>\n",
       "      <td>GAYHEART THOMAS E</td>\n",
       "      <td>HODERFIELD ROBERT J JR &amp;</td>\n",
       "      <td>NaN</td>\n",
       "      <td>53,100</td>\n",
       "      <td>0</td>\n",
       "      <td>15,300</td>\n",
       "      <td>2017</td>\n",
       "      <td>103,100</td>\n",
       "      <td>No</td>\n",
       "      <td>No</td>\n",
       "      <td>No</td>\n",
       "      <td>No</td>\n",
       "      <td>No</td>\n",
       "      <td>0</td>\n",
       "      <td>100.0</td>\n",
       "      <td>24,500</td>\n",
       "      <td>0</td>\n",
       "      <td>0</td>\n",
       "      <td>0</td>\n",
       "      <td>0</td>\n",
       "      <td>24,500</td>\n",
       "      <td>NaN</td>\n",
       "      <td>5.00</td>\n",
       "      <td>73</td>\n",
       "      <td>NaN</td>\n",
       "      <td>NaN</td>\n",
       "      <td>NaN</td>\n",
       "      <td>NaN</td>\n",
       "      <td>No</td>\n",
       "      <td>100.0</td>\n",
       "      <td>NaN</td>\n",
       "      <td>NaN</td>\n",
       "      <td>JONES JANET C</td>\n",
       "      <td>6959 HARMONY CHURCH RD</td>\n",
       "      <td>JOHNSTOWN OH 43031</td>\n",
       "    </tr>\n",
       "    <tr>\n",
       "      <th>3</th>\n",
       "      <td>74</td>\n",
       "      <td>001-000126-00.020</td>\n",
       "      <td>001-006.00-067.000</td>\n",
       "      <td>HOLTER FRANK W &amp; ALMA</td>\n",
       "      <td>1</td>\n",
       "      <td>1</td>\n",
       "      <td>No</td>\n",
       "      <td>NORTHRIDGE LSD</td>\n",
       "      <td>001 - BENNINGTON T-NRDGE LSD</td>\n",
       "      <td>1.709 AC LOT 7 PT</td>\n",
       "      <td>6424 HARMONY CHURCH  RD</td>\n",
       "      <td>06700 Bennington-T</td>\n",
       "      <td>Dwelling</td>\n",
       "      <td>511 Single family unplatted 0-09.9</td>\n",
       "      <td>NaN</td>\n",
       "      <td>NaN</td>\n",
       "      <td>278 Electric Well Septic</td>\n",
       "      <td>NaN</td>\n",
       "      <td>NaN</td>\n",
       "      <td>32100.0</td>\n",
       "      <td>169900.0</td>\n",
       "      <td>202000.0</td>\n",
       "      <td>0.0</td>\n",
       "      <td>0.0</td>\n",
       "      <td>0.0</td>\n",
       "      <td>C:\\tempPRCsketch.bmp</td>\n",
       "      <td>Single Family</td>\n",
       "      <td>1</td>\n",
       "      <td>Frame</td>\n",
       "      <td>Central Warm Air</td>\n",
       "      <td>Central</td>\n",
       "      <td>Pt Bsmt/Pt Crawl</td>\n",
       "      <td>2.0</td>\n",
       "      <td>NaN</td>\n",
       "      <td>NaN</td>\n",
       "      <td>None</td>\n",
       "      <td>NaN</td>\n",
       "      <td>5.0</td>\n",
       "      <td>3.0</td>\n",
       "      <td>NaN</td>\n",
       "      <td>0.0</td>\n",
       "      <td>NaN</td>\n",
       "      <td>1,802</td>\n",
       "      <td>0.0</td>\n",
       "      <td>2003.0</td>\n",
       "      <td>2003.0</td>\n",
       "      <td>NaN</td>\n",
       "      <td>Average</td>\n",
       "      <td>90.0</td>\n",
       "      <td>NaN</td>\n",
       "      <td>1.0</td>\n",
       "      <td>1.0</td>\n",
       "      <td>1,802</td>\n",
       "      <td>115,400</td>\n",
       "      <td>0</td>\n",
       "      <td>0</td>\n",
       "      <td>0</td>\n",
       "      <td>0</td>\n",
       "      <td>0</td>\n",
       "      <td>0</td>\n",
       "      <td>0</td>\n",
       "      <td>0</td>\n",
       "      <td>0.0</td>\n",
       "      <td>901</td>\n",
       "      <td>6,400</td>\n",
       "      <td>901</td>\n",
       "      <td>17,900</td>\n",
       "      <td>0.0</td>\n",
       "      <td>0</td>\n",
       "      <td>NaN</td>\n",
       "      <td>0</td>\n",
       "      <td>NaN</td>\n",
       "      <td>0</td>\n",
       "      <td>NaN</td>\n",
       "      <td>5,400</td>\n",
       "      <td>NaN</td>\n",
       "      <td>4,500</td>\n",
       "      <td>S(1), O(1)</td>\n",
       "      <td>4,600</td>\n",
       "      <td>1.0</td>\n",
       "      <td>1.0</td>\n",
       "      <td>NaN</td>\n",
       "      <td>22,600</td>\n",
       "      <td>NaN</td>\n",
       "      <td>0</td>\n",
       "      <td>176,800</td>\n",
       "      <td>90.0</td>\n",
       "      <td>-17,680</td>\n",
       "      <td>100.0</td>\n",
       "      <td>0</td>\n",
       "      <td>NaN</td>\n",
       "      <td>NaN</td>\n",
       "      <td>171,100</td>\n",
       "      <td>-25,665</td>\n",
       "      <td>No</td>\n",
       "      <td>15.0</td>\n",
       "      <td>0.0</td>\n",
       "      <td>0.0</td>\n",
       "      <td>NaN</td>\n",
       "      <td>145,400</td>\n",
       "      <td>24,500</td>\n",
       "      <td>169,900</td>\n",
       "      <td>Well/Septic</td>\n",
       "      <td>12,000</td>\n",
       "      <td>2016.0</td>\n",
       "      <td>2015.0</td>\n",
       "      <td>2014.0</td>\n",
       "      <td>28,800</td>\n",
       "      <td>28,800</td>\n",
       "      <td>28,800</td>\n",
       "      <td>155,100</td>\n",
       "      <td>155,100</td>\n",
       "      <td>155,100</td>\n",
       "      <td>183,900</td>\n",
       "      <td>183,900</td>\n",
       "      <td>183,900</td>\n",
       "      <td>11/18/2013</td>\n",
       "      <td>04/10/2012</td>\n",
       "      <td>10/13/2006</td>\n",
       "      <td>10/13/2006</td>\n",
       "      <td>1.0</td>\n",
       "      <td>1.0</td>\n",
       "      <td>1.0</td>\n",
       "      <td>1.0</td>\n",
       "      <td>EX - EXEMPT CONVEYANCE</td>\n",
       "      <td>EX - EXEMPT CONVEYANCE</td>\n",
       "      <td>JS - JOINT SURVIVORSHIP</td>\n",
       "      <td>EX - EXEMPT CONVEYANCE</td>\n",
       "      <td>0.0</td>\n",
       "      <td>0.0</td>\n",
       "      <td>210000.0</td>\n",
       "      <td>0.0</td>\n",
       "      <td>99999</td>\n",
       "      <td>99999</td>\n",
       "      <td>3581</td>\n",
       "      <td>NaN</td>\n",
       "      <td>N</td>\n",
       "      <td>N</td>\n",
       "      <td>Y</td>\n",
       "      <td>N</td>\n",
       "      <td>N</td>\n",
       "      <td>N</td>\n",
       "      <td>N</td>\n",
       "      <td>N</td>\n",
       "      <td>HOLTER FRANK W &amp; ALMA TROYER COTRUSTEES</td>\n",
       "      <td>HOLTER FRANK W &amp; ALMA</td>\n",
       "      <td>BURKART FRANK A</td>\n",
       "      <td>BURKART LOUISE M (LIFE ES</td>\n",
       "      <td>NaN</td>\n",
       "      <td>32,100</td>\n",
       "      <td>24,500</td>\n",
       "      <td>22,600</td>\n",
       "      <td>2017</td>\n",
       "      <td>139,700</td>\n",
       "      <td>No</td>\n",
       "      <td>No</td>\n",
       "      <td>No</td>\n",
       "      <td>No</td>\n",
       "      <td>No</td>\n",
       "      <td>0</td>\n",
       "      <td>100.0</td>\n",
       "      <td>169,900</td>\n",
       "      <td>0</td>\n",
       "      <td>0</td>\n",
       "      <td>0</td>\n",
       "      <td>0</td>\n",
       "      <td>169,900</td>\n",
       "      <td>NaN</td>\n",
       "      <td>1.70</td>\n",
       "      <td>75</td>\n",
       "      <td>NaN</td>\n",
       "      <td>NaN</td>\n",
       "      <td>NaN</td>\n",
       "      <td>NaN</td>\n",
       "      <td>No</td>\n",
       "      <td>100.0</td>\n",
       "      <td>NaN</td>\n",
       "      <td>NaN</td>\n",
       "      <td>HOLTER FRANK W &amp; ALMA</td>\n",
       "      <td>6424 HARMONY CHURCH RD</td>\n",
       "      <td>JOHNSTOWN OH 43031</td>\n",
       "    </tr>\n",
       "    <tr>\n",
       "      <th>4</th>\n",
       "      <td>80</td>\n",
       "      <td>001-000132-00.001</td>\n",
       "      <td>001-006.00-145.000</td>\n",
       "      <td>WHIPPS EDWARD F TRUSTEE</td>\n",
       "      <td>1</td>\n",
       "      <td>1</td>\n",
       "      <td>No</td>\n",
       "      <td>NORTHRIDGE LSD</td>\n",
       "      <td>001 - BENNINGTON T-NRDGE LSD</td>\n",
       "      <td>11.883 AC LOT 6 PT</td>\n",
       "      <td>BENNER RD</td>\n",
       "      <td>06700 Bennington-T</td>\n",
       "      <td>Other</td>\n",
       "      <td>502 Resid Unplat 10-19.99 acres</td>\n",
       "      <td>NaN</td>\n",
       "      <td>NaN</td>\n",
       "      <td>2 Electric</td>\n",
       "      <td>NaN</td>\n",
       "      <td>NaN</td>\n",
       "      <td>75900.0</td>\n",
       "      <td>0.0</td>\n",
       "      <td>75900.0</td>\n",
       "      <td>0.0</td>\n",
       "      <td>0.0</td>\n",
       "      <td>0.0</td>\n",
       "      <td>C:\\tempPRCsketch.bmp</td>\n",
       "      <td>NaN</td>\n",
       "      <td>NaN</td>\n",
       "      <td>NaN</td>\n",
       "      <td>NaN</td>\n",
       "      <td>NaN</td>\n",
       "      <td>NaN</td>\n",
       "      <td>NaN</td>\n",
       "      <td>NaN</td>\n",
       "      <td>NaN</td>\n",
       "      <td>NaN</td>\n",
       "      <td>NaN</td>\n",
       "      <td>NaN</td>\n",
       "      <td>NaN</td>\n",
       "      <td>NaN</td>\n",
       "      <td>NaN</td>\n",
       "      <td>NaN</td>\n",
       "      <td>1</td>\n",
       "      <td>NaN</td>\n",
       "      <td>NaN</td>\n",
       "      <td>NaN</td>\n",
       "      <td>NaN</td>\n",
       "      <td>NaN</td>\n",
       "      <td>NaN</td>\n",
       "      <td>NaN</td>\n",
       "      <td>NaN</td>\n",
       "      <td>NaN</td>\n",
       "      <td>0</td>\n",
       "      <td>0</td>\n",
       "      <td>0</td>\n",
       "      <td>0</td>\n",
       "      <td>0</td>\n",
       "      <td>0</td>\n",
       "      <td>0</td>\n",
       "      <td>0</td>\n",
       "      <td>0</td>\n",
       "      <td>0</td>\n",
       "      <td>0.0</td>\n",
       "      <td>0</td>\n",
       "      <td>0</td>\n",
       "      <td>0</td>\n",
       "      <td>0</td>\n",
       "      <td>0.0</td>\n",
       "      <td>0</td>\n",
       "      <td>NaN</td>\n",
       "      <td>0</td>\n",
       "      <td>NaN</td>\n",
       "      <td>0</td>\n",
       "      <td>NaN</td>\n",
       "      <td>0</td>\n",
       "      <td>NaN</td>\n",
       "      <td>0</td>\n",
       "      <td>S(0), O(0)</td>\n",
       "      <td>0</td>\n",
       "      <td>1.0</td>\n",
       "      <td>1.0</td>\n",
       "      <td>NaN</td>\n",
       "      <td>0</td>\n",
       "      <td>NaN</td>\n",
       "      <td>0</td>\n",
       "      <td>0</td>\n",
       "      <td>0.0</td>\n",
       "      <td>0</td>\n",
       "      <td>0.0</td>\n",
       "      <td>0</td>\n",
       "      <td>NaN</td>\n",
       "      <td>NaN</td>\n",
       "      <td>0</td>\n",
       "      <td>0</td>\n",
       "      <td>No</td>\n",
       "      <td>0.0</td>\n",
       "      <td>0.0</td>\n",
       "      <td>0.0</td>\n",
       "      <td>NaN</td>\n",
       "      <td>0</td>\n",
       "      <td>0</td>\n",
       "      <td>0</td>\n",
       "      <td>NaN</td>\n",
       "      <td>0</td>\n",
       "      <td>2016.0</td>\n",
       "      <td>2015.0</td>\n",
       "      <td>2014.0</td>\n",
       "      <td>42,300</td>\n",
       "      <td>42,300</td>\n",
       "      <td>42,300</td>\n",
       "      <td>NaN</td>\n",
       "      <td>NaN</td>\n",
       "      <td>NaN</td>\n",
       "      <td>42,300</td>\n",
       "      <td>42,300</td>\n",
       "      <td>42,300</td>\n",
       "      <td>01/14/2005</td>\n",
       "      <td>NaN</td>\n",
       "      <td>NaN</td>\n",
       "      <td>NaN</td>\n",
       "      <td>1.0</td>\n",
       "      <td>NaN</td>\n",
       "      <td>NaN</td>\n",
       "      <td>NaN</td>\n",
       "      <td>WD - WARRANTY</td>\n",
       "      <td>NaN</td>\n",
       "      <td>NaN</td>\n",
       "      <td>NaN</td>\n",
       "      <td>14919.0</td>\n",
       "      <td>NaN</td>\n",
       "      <td>NaN</td>\n",
       "      <td>NaN</td>\n",
       "      <td>00170</td>\n",
       "      <td>NaN</td>\n",
       "      <td>NaN</td>\n",
       "      <td>NaN</td>\n",
       "      <td>N</td>\n",
       "      <td>NaN</td>\n",
       "      <td>NaN</td>\n",
       "      <td>NaN</td>\n",
       "      <td>Y</td>\n",
       "      <td>NaN</td>\n",
       "      <td>NaN</td>\n",
       "      <td>NaN</td>\n",
       "      <td>Refer to deed</td>\n",
       "      <td>NaN</td>\n",
       "      <td>NaN</td>\n",
       "      <td>NaN</td>\n",
       "      <td>NaN</td>\n",
       "      <td>75,900</td>\n",
       "      <td>0</td>\n",
       "      <td>0</td>\n",
       "      <td>2017</td>\n",
       "      <td>0</td>\n",
       "      <td>No</td>\n",
       "      <td>No</td>\n",
       "      <td>No</td>\n",
       "      <td>No</td>\n",
       "      <td>No</td>\n",
       "      <td>0</td>\n",
       "      <td>100.0</td>\n",
       "      <td>0</td>\n",
       "      <td>0</td>\n",
       "      <td>0</td>\n",
       "      <td>0</td>\n",
       "      <td>0</td>\n",
       "      <td>0</td>\n",
       "      <td>NaN</td>\n",
       "      <td>11.88</td>\n",
       "      <td>81</td>\n",
       "      <td>NaN</td>\n",
       "      <td>NaN</td>\n",
       "      <td>NaN</td>\n",
       "      <td>NaN</td>\n",
       "      <td>No</td>\n",
       "      <td>100.0</td>\n",
       "      <td>NaN</td>\n",
       "      <td>NaN</td>\n",
       "      <td>WHIPPS EDWARD F TRUSTEE</td>\n",
       "      <td>51 HIGHLAND CT</td>\n",
       "      <td>PATASKALA OH 43062</td>\n",
       "    </tr>\n",
       "  </tbody>\n",
       "</table>\n",
       "</div>"
      ],
      "text/plain": [
       "   fldParcelID        fldParcelNo        fldRoutingNo  \\\n",
       "0           35  001-000066-00.009  001-006.00-120.000   \n",
       "1           60  001-000126-00.006  001-006.00-065.000   \n",
       "2           72  001-000126-00.018  001-006.00-060.000   \n",
       "3           74  001-000126-00.020  001-006.00-067.000   \n",
       "4           80  001-000132-00.001  001-006.00-145.000   \n",
       "\n",
       "                   fldOwner  fldCardNo  fldMaxCards fldRecheck  \\\n",
       "0  HARDY RONALD J & LINDA B          1            1         No   \n",
       "1      MIRACLE SHELVA & IVA          1            1         No   \n",
       "2             JONES JANET C          1            1         No   \n",
       "3    HOLTER FRANK W & ALMA           1            1         No   \n",
       "4   WHIPPS EDWARD F TRUSTEE          1            1         No   \n",
       "\n",
       "  fldSchoolDistrict                fldTaxDistrict               fldLegalDesc  \\\n",
       "0    NORTHRIDGE LSD  001 - BENNINGTON T-NRDGE LSD        LOT 10 PT   3.68 AC   \n",
       "1    NORTHRIDGE LSD  001 - BENNINGTON T-NRDGE LSD       LOT 7 PT   10.009 AC   \n",
       "2    NORTHRIDGE LSD  001 - BENNINGTON T-NRDGE LSD  5.00 AC  LOT 7 PT & LOT 8   \n",
       "3    NORTHRIDGE LSD  001 - BENNINGTON T-NRDGE LSD          1.709 AC LOT 7 PT   \n",
       "4    NORTHRIDGE LSD  001 - BENNINGTON T-NRDGE LSD         11.883 AC LOT 6 PT   \n",
       "\n",
       "        fldLocationAddress     fldNeighborhood fldPropertyType  \\\n",
       "0           8713 BENNER RD  06700 Bennington-T        Dwelling   \n",
       "1   6474 HARMONY CHURCH RD  06700 Bennington-T        Dwelling   \n",
       "2   6959 HARMONY CHURCH RD  06700 Bennington-T        Dwelling   \n",
       "3  6424 HARMONY CHURCH  RD  06700 Bennington-T        Dwelling   \n",
       "4                BENNER RD  06700 Bennington-T           Other   \n",
       "\n",
       "                               fldLUC  fldTopo  fldAccess  \\\n",
       "0  511 Single family unplatted 0-09.9      NaN        NaN   \n",
       "1  512 Single family unplatted 10-19.      NaN        NaN   \n",
       "2  511 Single family unplatted 0-09.9      NaN        NaN   \n",
       "3  511 Single family unplatted 0-09.9      NaN        NaN   \n",
       "4     502 Resid Unplat 10-19.99 acres      NaN        NaN   \n",
       "\n",
       "                    fldUtilities  fldNotes  fldNotes2  fldMarketLand  \\\n",
       "0  2578 Electric Gas Well Septic       NaN        NaN        50300.0   \n",
       "1       278 Electric Well Septic       NaN        NaN        86300.0   \n",
       "2       278 Electric Well Septic       NaN        NaN        53100.0   \n",
       "3       278 Electric Well Septic       NaN        NaN        32100.0   \n",
       "4                     2 Electric       NaN        NaN        75900.0   \n",
       "\n",
       "   fldMarketImprov  fldMarketTotal  fldCAUVLand  fldCAUVImprov  fldCAUVTotal  \\\n",
       "0         138100.0        188400.0          0.0            0.0           0.0   \n",
       "1         162700.0        249000.0          0.0            0.0           0.0   \n",
       "2          24500.0         77600.0          0.0            0.0           0.0   \n",
       "3         169900.0        202000.0          0.0            0.0           0.0   \n",
       "4              0.0         75900.0          0.0            0.0           0.0   \n",
       "\n",
       "          fldSketchPath       fldStyle fldStories fldExterior  \\\n",
       "0  C:\\tempPRCsketch.bmp  Single Family          1       Frame   \n",
       "1  C:\\tempPRCsketch.bmp  Single Family          1       Frame   \n",
       "2  C:\\tempPRCsketch.bmp  Single Family          1       Frame   \n",
       "3  C:\\tempPRCsketch.bmp  Single Family          1       Frame   \n",
       "4  C:\\tempPRCsketch.bmp            NaN        NaN         NaN   \n",
       "\n",
       "         fldHeating fldCooling       fldBasement  fldFullBaths  fldHalfBaths  \\\n",
       "0  Central Warm Air    Central     Full Basement           2.0           NaN   \n",
       "1  Central Warm Air    Central     Full Basement           3.0           NaN   \n",
       "2  Central Warm Air       None          Pt Crawl           2.0           NaN   \n",
       "3  Central Warm Air    Central  Pt Bsmt/Pt Crawl           2.0           NaN   \n",
       "4               NaN        NaN               NaN           NaN           NaN   \n",
       "\n",
       "   fldOtherBaths  fldAttic  fldAtticHeating  fldRooms  fldBedrooms  \\\n",
       "0            NaN      None              NaN       6.0          3.0   \n",
       "1            NaN  Finished              NaN       7.0          4.0   \n",
       "2            NaN      None              NaN       5.0          3.0   \n",
       "3            NaN      None              NaN       5.0          3.0   \n",
       "4            NaN       NaN              NaN       NaN          NaN   \n",
       "\n",
       "   fldFamilyRooms  fldDiningRooms  fldLivingRooms fldFinishedLivingArea  \\\n",
       "0             NaN             0.0             NaN                 1,790   \n",
       "1             NaN             0.0             NaN                 2,326   \n",
       "2             NaN             0.0             NaN                 1,400   \n",
       "3             NaN             0.0             NaN                 1,802   \n",
       "4             NaN             NaN             NaN                     1   \n",
       "\n",
       "   fldFinishedBasementArea  fldYearBuilt  fldEffYearBuilt  fldYearRemodeled  \\\n",
       "0                      0.0        2002.0           2002.0               NaN   \n",
       "1                      0.0        1998.0           1998.0               NaN   \n",
       "2                      0.0        1991.0           1991.0               NaN   \n",
       "3                      0.0        2003.0           2003.0               NaN   \n",
       "4                      NaN           NaN              NaN               NaN   \n",
       "\n",
       "  fldCondition  fldGrade  fldBasementGarage  fldFireplaceOpenings  \\\n",
       "0      Average      90.0                NaN                   NaN   \n",
       "1      Average      90.0                NaN                   NaN   \n",
       "2         Poor      70.0                NaN                   NaN   \n",
       "3      Average      90.0                NaN                   1.0   \n",
       "4          NaN       NaN                NaN                   NaN   \n",
       "\n",
       "   fldFireplaceStacks fldFirstFloorArea fldFirstFloorCost fldUpperFloorArea  \\\n",
       "0                 NaN             1,790           115,400                 0   \n",
       "1                 NaN             1,710           110,600                 0   \n",
       "2                 NaN             1,400            95,800                 0   \n",
       "3                 1.0             1,802           115,400                 0   \n",
       "4                 NaN                 0                 0                 0   \n",
       "\n",
       "  fldUpperFloorCost fldAtticArea fldAtticCost fldHalfFloorArea  \\\n",
       "0                 0            0            0                0   \n",
       "1                 0          616       35,400                0   \n",
       "2                 0            0            0                0   \n",
       "3                 0            0            0                0   \n",
       "4                 0            0            0                0   \n",
       "\n",
       "  fldHalfFloorCost fldFinishedBasementCost fldUnfinishedLivingArea  \\\n",
       "0                0                       0                       0   \n",
       "1                0                       0                       0   \n",
       "2                0                       0                       0   \n",
       "3                0                       0                       0   \n",
       "4                0                       0                       0   \n",
       "\n",
       "   fldUnfinishedLivingCost fldCrawlArea fldCrawlCost fldBasementArea  \\\n",
       "0                      0.0            0            0           1,790   \n",
       "1                      0.0            0            0           1,710   \n",
       "2                      0.0        1,040        7,300               0   \n",
       "3                      0.0          901        6,400             901   \n",
       "4                      0.0            0            0               0   \n",
       "\n",
       "  fldBasementCost  fldBasementGarageArea fldBasementGarageCost  \\\n",
       "0          30,600                    0.0                     0   \n",
       "1          29,300                    0.0                     0   \n",
       "2               0                    0.0                     0   \n",
       "3          17,900                    0.0                     0   \n",
       "4               0                    0.0                     0   \n",
       "\n",
       "   fldExtWallArea fldExtWallCost  fldHeatingArea fldHeatingCost  \\\n",
       "0             NaN              0             NaN              0   \n",
       "1             NaN              0             NaN              0   \n",
       "2             NaN              0             NaN              0   \n",
       "3             NaN              0             NaN              0   \n",
       "4             NaN              0             NaN              0   \n",
       "\n",
       "   fldCoolingArea fldCoolingCost  fldPlumbingArea fldPlumbingCost  \\\n",
       "0             NaN          5,400              NaN           4,500   \n",
       "1             NaN          6,600              NaN           9,000   \n",
       "2             NaN              0              NaN           4,500   \n",
       "3             NaN          5,400              NaN           4,500   \n",
       "4             NaN              0              NaN               0   \n",
       "\n",
       "  fldFireplaceArea fldFireplaceCost  fldIdenticalMultiplierCount  \\\n",
       "0       S(0), O(0)                0                          1.0   \n",
       "1       S(0), O(0)                0                          1.0   \n",
       "2       S(0), O(0)                0                          1.0   \n",
       "3       S(1), O(1)            4,600                          1.0   \n",
       "4       S(0), O(0)                0                          1.0   \n",
       "\n",
       "   fldIdenticalMultiplierCost  fldEnhancementArea fldEnhancementCost  \\\n",
       "0                         1.0                 NaN             15,400   \n",
       "1                         1.0                 NaN             29,400   \n",
       "2                         1.0                 NaN             15,300   \n",
       "3                         1.0                 NaN             22,600   \n",
       "4                         1.0                 NaN                  0   \n",
       "\n",
       "   fldFeaturesArea fldFeaturesCost fldSubTotalBeforeGrade  fldGradeArea  \\\n",
       "0              NaN               0                171,300          90.0   \n",
       "1              NaN               0                220,300          90.0   \n",
       "2              NaN               0                122,900          70.0   \n",
       "3              NaN               0                176,800          90.0   \n",
       "4              NaN               0                      0           0.0   \n",
       "\n",
       "  fldGradeCost  fldCostFactorArea fldCostFactorCost  fldUngradedFeaturesArea  \\\n",
       "0      -17,130              100.0                 0                      NaN   \n",
       "1      -22,030              100.0                 0                      NaN   \n",
       "2      -36,870              100.0                 0                      NaN   \n",
       "3      -17,680              100.0                 0                      NaN   \n",
       "4            0                0.0                 0                      NaN   \n",
       "\n",
       "   fldUngradedFeaturesCost   fldRCN fldDepreciation fldDepreciationOverride  \\\n",
       "0                      NaN  166,200         -33,240                      No   \n",
       "1                      NaN  210,300         -52,575                      No   \n",
       "2                      NaN   98,000         -73,500                     Yes   \n",
       "3                      NaN  171,100         -25,665                      No   \n",
       "4                      NaN        0               0                      No   \n",
       "\n",
       "   fldDepreciationArea  fldObsolesence  fldObsolesenceArea  fldImprovements  \\\n",
       "0                 20.0             0.0                 0.0              NaN   \n",
       "1                 20.0             0.0                 5.0              NaN   \n",
       "2                 75.0             0.0                 0.0              NaN   \n",
       "3                 15.0             0.0                 0.0              NaN   \n",
       "4                  0.0             0.0                 0.0              NaN   \n",
       "\n",
       "  fldRCNLD fldImprovementsTotal   fldFVC fldWellSeptic fldWellSepticValue  \\\n",
       "0  133,000                5,100  138,100   Well/Septic             12,000   \n",
       "1  157,700                5,000  162,700   Well/Septic             12,000   \n",
       "2   24,500                    0   24,500   Well/Septic             12,000   \n",
       "3  145,400               24,500  169,900   Well/Septic             12,000   \n",
       "4        0                    0        0           NaN                  0   \n",
       "\n",
       "   fldValueHistoryYear1  fldValueHistoryYear2  fldValueHistoryYear3  \\\n",
       "0                2016.0                2015.0                2014.0   \n",
       "1                2016.0                2015.0                2014.0   \n",
       "2                2016.0                2015.0                2014.0   \n",
       "3                2016.0                2015.0                2014.0   \n",
       "4                2016.0                2015.0                2014.0   \n",
       "\n",
       "  fldValueHistoryLand1 fldValueHistoryLand2 fldValueHistoryLand3  \\\n",
       "0               41,300               41,300               41,300   \n",
       "1               45,300               45,300               45,300   \n",
       "2               53,100               34,000               34,000   \n",
       "3               28,800               28,800               28,800   \n",
       "4               42,300               42,300               42,300   \n",
       "\n",
       "  fldValueHistoryImprov1 fldValueHistoryImprov2 fldValueHistoryImprov3  \\\n",
       "0                141,500                141,500                141,500   \n",
       "1                177,400                177,400                177,400   \n",
       "2                 24,500                 77,000                 77,000   \n",
       "3                155,100                155,100                155,100   \n",
       "4                    NaN                    NaN                    NaN   \n",
       "\n",
       "  fldValueHistoryTotal1 fldValueHistoryTotal2 fldValueHistoryTotal3  \\\n",
       "0               182,800               182,800               182,800   \n",
       "1               222,700               222,700               222,700   \n",
       "2                77,600               111,000               111,000   \n",
       "3               183,900               183,900               183,900   \n",
       "4                42,300                42,300                42,300   \n",
       "\n",
       "  fldSalesDate1 fldSalesDate2 fldSalesDate3 fldSalesDate4  fldSalesNoParcels1  \\\n",
       "0    06/07/2001    11/01/2000    07/06/1999           NaN                 1.0   \n",
       "1    09/18/2000           NaN           NaN           NaN                 2.0   \n",
       "2    08/17/2017    09/27/2012    02/23/2012    12/23/2003                 1.0   \n",
       "3    11/18/2013    04/10/2012    10/13/2006    10/13/2006                 1.0   \n",
       "4    01/14/2005           NaN           NaN           NaN                 1.0   \n",
       "\n",
       "   fldSalesNoParcels2  fldSalesNoParcels3  fldSalesNoParcels4  \\\n",
       "0                 4.0                 4.0                 NaN   \n",
       "1                 NaN                 NaN                 NaN   \n",
       "2                 1.0                 1.0                 1.0   \n",
       "3                 1.0                 1.0                 1.0   \n",
       "4                 NaN                 NaN                 NaN   \n",
       "\n",
       "            fldSalesType1           fldSalesType2            fldSalesType3  \\\n",
       "0          FD - FIDUCIARY  EX - EXEMPT CONVEYANCE   EX - EXEMPT CONVEYANCE   \n",
       "1  EX - EXEMPT CONVEYANCE                     NaN                      NaN   \n",
       "2  EX - EXEMPT CONVEYANCE           WD - WARRANTY             SH - SHERIFF   \n",
       "3  EX - EXEMPT CONVEYANCE  EX - EXEMPT CONVEYANCE  JS - JOINT SURVIVORSHIP   \n",
       "4           WD - WARRANTY                     NaN                      NaN   \n",
       "\n",
       "            fldSalesType4  fldSalesPrice1  fldSalesPrice2  fldSalesPrice3  \\\n",
       "0                     NaN         32000.0             0.0             0.0   \n",
       "1                     NaN             0.0             NaN             NaN   \n",
       "2           WD - WARRANTY             0.0         38900.0         53334.0   \n",
       "3  EX - EXEMPT CONVEYANCE             0.0             0.0        210000.0   \n",
       "4                     NaN         14919.0             NaN             NaN   \n",
       "\n",
       "   fldSalesPrice4 fldSalesConveyance1 fldSalesConveyance2 fldSalesConveyance3  \\\n",
       "0             NaN          01721               99999               99999        \n",
       "1             NaN          99999                      NaN                 NaN   \n",
       "2        117000.0               99999                4943                3034   \n",
       "3             0.0               99999               99999                3581   \n",
       "4             NaN          00170                      NaN                 NaN   \n",
       "\n",
       "   fldSalesConveyance4 fldSalesValid1 fldSalesValid2 fldSalesValid3  \\\n",
       "0                  NaN              Y              N              N   \n",
       "1                  NaN              N            NaN            NaN   \n",
       "2               4936.0              N              N              N   \n",
       "3                  NaN              N              N              Y   \n",
       "4                  NaN              N            NaN            NaN   \n",
       "\n",
       "  fldSalesValid4 fldSalesLandOnly1 fldSalesLandOnly2 fldSalesLandOnly3  \\\n",
       "0            NaN                 Y                 Y                 Y   \n",
       "1            NaN                 N               NaN               NaN   \n",
       "2              Y                 N                 N                 N   \n",
       "3              N                 N                 N                 N   \n",
       "4            NaN                 Y               NaN               NaN   \n",
       "\n",
       "  fldSalesLandOnly4                       fldSalesPrevOwner1  \\\n",
       "0               NaN                 BEVIER MARLENE M TRUSTEE   \n",
       "1               NaN                            Refer to deed   \n",
       "2                 N                JONES DOUGLAS F & JANET C   \n",
       "3                 N  HOLTER FRANK W & ALMA TROYER COTRUSTEES   \n",
       "4               NaN                            Refer to deed   \n",
       "\n",
       "        fldSalesPrevOwner2 fldSalesPrevOwner3         fldSalesPrevOwner4  \\\n",
       "0  SHARROCK LORI S TRUSTEE      Refer to deed                        NaN   \n",
       "1                      NaN                NaN                        NaN   \n",
       "2               FANNIE MAE  GAYHEART THOMAS E   HODERFIELD ROBERT J JR &   \n",
       "3    HOLTER FRANK W & ALMA    BURKART FRANK A  BURKART LOUISE M (LIFE ES   \n",
       "4                      NaN                NaN                        NaN   \n",
       "\n",
       "  fldFeatureTotal fldLandTotal fldImprovTotal fldEnhancementTotal  fldTaxYear  \\\n",
       "0             NaN       50,300          5,100              15,400        2017   \n",
       "1             NaN       86,300          5,000              29,400        2017   \n",
       "2             NaN       53,100              0              15,300        2017   \n",
       "3             NaN       32,100         24,500              22,600        2017   \n",
       "4             NaN       75,900              0                   0        2017   \n",
       "\n",
       "  fldSubtotal fldAdditionalInspections fldAdditionalEnhancements  \\\n",
       "0     146,000                       No                        No   \n",
       "1     175,300                       No                        No   \n",
       "2     103,100                       No                        No   \n",
       "3     139,700                       No                        No   \n",
       "4           0                       No                        No   \n",
       "\n",
       "  fldAdditionalFeatures fldAdditionalLand fldAdditionalImprovements  \\\n",
       "0                    No                No                        No   \n",
       "1                    No                No                        No   \n",
       "2                    No                No                        No   \n",
       "3                    No                No                        No   \n",
       "4                    No                No                        No   \n",
       "\n",
       "  fldNeighAdj  fldNeighAdjArea fldCard1Total fldCard2Total fldCard3Total  \\\n",
       "0           0            100.0       138,100             0             0   \n",
       "1           0            100.0       162,700             0             0   \n",
       "2           0            100.0        24,500             0             0   \n",
       "3           0            100.0       169,900             0             0   \n",
       "4           0            100.0             0             0             0   \n",
       "\n",
       "  fldCard4Total fldCard5Total fldParcelTotal  fldPicPath  fldAcreageTotal  \\\n",
       "0             0             0        138,100         NaN             3.68   \n",
       "1             0             0        162,700         NaN            10.00   \n",
       "2             0             0         24,500         NaN             5.00   \n",
       "3             0             0        169,900         NaN             1.70   \n",
       "4             0             0              0         NaN            11.88   \n",
       "\n",
       "   fldSortOrder  fldCropTotal  fldWoodsTotal  fldNotFarmedTotal  \\\n",
       "0            35           NaN            NaN                NaN   \n",
       "1            61           NaN            NaN                NaN   \n",
       "2            73           NaN            NaN                NaN   \n",
       "3            75           NaN            NaN                NaN   \n",
       "4            81           NaN            NaN                NaN   \n",
       "\n",
       "   fldConservationTotal fldNeighAdjLandOverride  fldNeighAdjAreaLand  \\\n",
       "0                   NaN                      No                100.0   \n",
       "1                   NaN                      No                100.0   \n",
       "2                   NaN                      No                100.0   \n",
       "3                   NaN                      No                100.0   \n",
       "4                   NaN                      No                100.0   \n",
       "\n",
       "   fldMailingAddress1 fldMailingAddress2        fldMailingAddress3  \\\n",
       "0                 NaN                NaN  HARDY RONALD J & LINDA B   \n",
       "1                 NaN                NaN      MIRACLE SHELVA & IVA   \n",
       "2                 NaN                NaN             JONES JANET C   \n",
       "3                 NaN                NaN    HOLTER FRANK W & ALMA    \n",
       "4                 NaN                NaN   WHIPPS EDWARD F TRUSTEE   \n",
       "\n",
       "        fldMailingAddress4       fldMailingAddress5  \n",
       "0          8713 BENNER RD        JOHNSTOWN OH 43031  \n",
       "1  6474 HARMONY CHURCH RD   JOHNSTOWN OH 43031-9123  \n",
       "2  6959 HARMONY CHURCH RD        JOHNSTOWN OH 43031  \n",
       "3  6424 HARMONY CHURCH RD        JOHNSTOWN OH 43031  \n",
       "4          51 HIGHLAND CT        PATASKALA OH 43062  "
      ]
     },
     "execution_count": 32,
     "metadata": {},
     "output_type": "execute_result"
    }
   ],
   "source": [
    "licking.head()"
   ]
  },
  {
   "cell_type": "markdown",
   "metadata": {},
   "source": [
    "As with the Franklin country dataset, we'd like to filter this dataset for only residential buildings.  Unfortunately, there isn't documentation available to describe the content of each column so we'll have to do our best to infer meaning from the column name and values. Looking at the data above, it looks like `fldPropertyType` or `fldStyle` might be useful to determine which properties are residential and which are not."
   ]
  },
  {
   "cell_type": "code",
   "execution_count": 33,
   "metadata": {},
   "outputs": [
    {
     "data": {
      "text/plain": [
       "array(['Dwelling', 'Other', nan, 'Building'], dtype=object)"
      ]
     },
     "execution_count": 33,
     "metadata": {},
     "output_type": "execute_result"
    }
   ],
   "source": [
    "licking.fldPropertyType.unique()"
   ]
  },
  {
   "cell_type": "code",
   "execution_count": 34,
   "metadata": {},
   "outputs": [
    {
     "data": {
      "text/plain": [
       "array(['Single Family', nan, 'MFD Home', 'Tri-Level', 'Duplex',\n",
       "       'Bi-Level', 'Multi-Level', 'Condominum', 'Mobile Home',\n",
       "       'Commercial', 'Exempt', '4-6 Family', 'Conversion', 'Apartment',\n",
       "       'Triplex', '4-Level'], dtype=object)"
      ]
     },
     "execution_count": 34,
     "metadata": {},
     "output_type": "execute_result"
    }
   ],
   "source": [
    "licking.fldStyle.unique()"
   ]
  },
  {
   "cell_type": "markdown",
   "metadata": {},
   "source": [
    "It looks like most of style values are related to residential-type properties.  At this point, we might decide to choose specific styles to filter on or choose to simply exclude records without style information or those that correspond to a commercial style.  \n",
    "\n",
    "Let's see the styles associated with the *Dwelling* property type.  "
   ]
  },
  {
   "cell_type": "code",
   "execution_count": 35,
   "metadata": {},
   "outputs": [
    {
     "data": {
      "text/plain": [
       "array(['Single Family', 'MFD Home', 'Tri-Level', 'Duplex', nan,\n",
       "       'Bi-Level', 'Multi-Level', 'Condominum', 'Mobile Home',\n",
       "       'Commercial', 'Exempt', '4-6 Family', 'Conversion', 'Apartment',\n",
       "       'Triplex', '4-Level'], dtype=object)"
      ]
     },
     "execution_count": 35,
     "metadata": {},
     "output_type": "execute_result"
    }
   ],
   "source": [
    "licking[licking.fldPropertyType == 'Dwelling'].fldStyle.unique()"
   ]
  },
  {
   "cell_type": "markdown",
   "metadata": {},
   "source": [
    "Filter the data to include only the *Dwelling* property didn't reduce the number of styles.  For this example, we'll filter the data to include only *Single Family*, *MFD Home*, *Tri-Level*, *Duplex*, *Bi-Level*, *Multi-Level*, *Condominum*, *Mobile Home*, *Triplex*, and *4-Level*.  Note that *Condominum* is misspelled in the source data.\n",
    "\n",
    "We can create a list of acceptable style values now that can be used to filter the data later."
   ]
  },
  {
   "cell_type": "code",
   "execution_count": 36,
   "metadata": {},
   "outputs": [],
   "source": [
    "licking_styles = ['Single Family', 'MFD Home', 'Tri-Level', 'Duplex',\n",
    "                     'Bi-Level', 'Multi-Level', 'Condominum', 'Mobile Home',\n",
    "                     'Triplex', '4-Level']"
   ]
  },
  {
   "cell_type": "markdown",
   "metadata": {},
   "source": [
    "Let's consider the other columns we'll need.  We had collected sales price data from the Franklin county dataset.  In this dataset, there are quite a few columns with \"sales\" in the name."
   ]
  },
  {
   "cell_type": "code",
   "execution_count": 37,
   "metadata": {},
   "outputs": [
    {
     "data": {
      "text/plain": [
       "['fldSalesDate1',\n",
       " 'fldSalesDate2',\n",
       " 'fldSalesDate3',\n",
       " 'fldSalesDate4',\n",
       " 'fldSalesNoParcels1',\n",
       " 'fldSalesNoParcels2',\n",
       " 'fldSalesNoParcels3',\n",
       " 'fldSalesNoParcels4',\n",
       " 'fldSalesType1',\n",
       " 'fldSalesType2',\n",
       " 'fldSalesType3',\n",
       " 'fldSalesType4',\n",
       " 'fldSalesPrice1',\n",
       " 'fldSalesPrice2',\n",
       " 'fldSalesPrice3',\n",
       " 'fldSalesPrice4',\n",
       " 'fldSalesConveyance1',\n",
       " 'fldSalesConveyance2',\n",
       " 'fldSalesConveyance3',\n",
       " 'fldSalesConveyance4',\n",
       " 'fldSalesValid1',\n",
       " 'fldSalesValid2',\n",
       " 'fldSalesValid3',\n",
       " 'fldSalesValid4',\n",
       " 'fldSalesLandOnly1',\n",
       " 'fldSalesLandOnly2',\n",
       " 'fldSalesLandOnly3',\n",
       " 'fldSalesLandOnly4',\n",
       " 'fldSalesPrevOwner1',\n",
       " 'fldSalesPrevOwner2',\n",
       " 'fldSalesPrevOwner3',\n",
       " 'fldSalesPrevOwner4']"
      ]
     },
     "execution_count": 37,
     "metadata": {},
     "output_type": "execute_result"
    }
   ],
   "source": [
    "[column for column in licking.columns if \"sales\" in column.lower()]"
   ]
  },
  {
   "cell_type": "markdown",
   "metadata": {},
   "source": [
    "Looking at the sample data above, we will likely be interested in the collection of `fldSalesPrice` columns to determine the sales price. Let's look at the values of these columns for a small number of rows."
   ]
  },
  {
   "cell_type": "code",
   "execution_count": 38,
   "metadata": {},
   "outputs": [
    {
     "data": {
      "text/html": [
       "<div>\n",
       "<style scoped>\n",
       "    .dataframe tbody tr th:only-of-type {\n",
       "        vertical-align: middle;\n",
       "    }\n",
       "\n",
       "    .dataframe tbody tr th {\n",
       "        vertical-align: top;\n",
       "    }\n",
       "\n",
       "    .dataframe thead th {\n",
       "        text-align: right;\n",
       "    }\n",
       "</style>\n",
       "<table border=\"1\" class=\"dataframe\">\n",
       "  <thead>\n",
       "    <tr style=\"text-align: right;\">\n",
       "      <th></th>\n",
       "      <th>fldSalesPrice1</th>\n",
       "      <th>fldSalesPrice2</th>\n",
       "      <th>fldSalesPrice3</th>\n",
       "      <th>fldSalesPrice4</th>\n",
       "    </tr>\n",
       "  </thead>\n",
       "  <tbody>\n",
       "    <tr>\n",
       "      <th>0</th>\n",
       "      <td>32000.0</td>\n",
       "      <td>0.0</td>\n",
       "      <td>0.0</td>\n",
       "      <td>NaN</td>\n",
       "    </tr>\n",
       "    <tr>\n",
       "      <th>1</th>\n",
       "      <td>0.0</td>\n",
       "      <td>NaN</td>\n",
       "      <td>NaN</td>\n",
       "      <td>NaN</td>\n",
       "    </tr>\n",
       "    <tr>\n",
       "      <th>2</th>\n",
       "      <td>0.0</td>\n",
       "      <td>38900.0</td>\n",
       "      <td>53334.0</td>\n",
       "      <td>117000.0</td>\n",
       "    </tr>\n",
       "    <tr>\n",
       "      <th>3</th>\n",
       "      <td>0.0</td>\n",
       "      <td>0.0</td>\n",
       "      <td>210000.0</td>\n",
       "      <td>0.0</td>\n",
       "    </tr>\n",
       "    <tr>\n",
       "      <th>4</th>\n",
       "      <td>14919.0</td>\n",
       "      <td>NaN</td>\n",
       "      <td>NaN</td>\n",
       "      <td>NaN</td>\n",
       "    </tr>\n",
       "    <tr>\n",
       "      <th>5</th>\n",
       "      <td>144900.0</td>\n",
       "      <td>0.0</td>\n",
       "      <td>106000.0</td>\n",
       "      <td>NaN</td>\n",
       "    </tr>\n",
       "    <tr>\n",
       "      <th>6</th>\n",
       "      <td>180000.0</td>\n",
       "      <td>NaN</td>\n",
       "      <td>NaN</td>\n",
       "      <td>NaN</td>\n",
       "    </tr>\n",
       "    <tr>\n",
       "      <th>7</th>\n",
       "      <td>117000.0</td>\n",
       "      <td>139500.0</td>\n",
       "      <td>80000.0</td>\n",
       "      <td>72000.0</td>\n",
       "    </tr>\n",
       "    <tr>\n",
       "      <th>8</th>\n",
       "      <td>0.0</td>\n",
       "      <td>NaN</td>\n",
       "      <td>NaN</td>\n",
       "      <td>NaN</td>\n",
       "    </tr>\n",
       "    <tr>\n",
       "      <th>9</th>\n",
       "      <td>135000.0</td>\n",
       "      <td>0.0</td>\n",
       "      <td>47000.0</td>\n",
       "      <td>21000.0</td>\n",
       "    </tr>\n",
       "  </tbody>\n",
       "</table>\n",
       "</div>"
      ],
      "text/plain": [
       "   fldSalesPrice1  fldSalesPrice2  fldSalesPrice3  fldSalesPrice4\n",
       "0         32000.0             0.0             0.0             NaN\n",
       "1             0.0             NaN             NaN             NaN\n",
       "2             0.0         38900.0         53334.0        117000.0\n",
       "3             0.0             0.0        210000.0             0.0\n",
       "4         14919.0             NaN             NaN             NaN\n",
       "5        144900.0             0.0        106000.0             NaN\n",
       "6        180000.0             NaN             NaN             NaN\n",
       "7        117000.0        139500.0         80000.0         72000.0\n",
       "8             0.0             NaN             NaN             NaN\n",
       "9        135000.0             0.0         47000.0         21000.0"
      ]
     },
     "execution_count": 38,
     "metadata": {},
     "output_type": "execute_result"
    }
   ],
   "source": [
    "licking[['fldSalesPrice1', 'fldSalesPrice2', 'fldSalesPrice3', 'fldSalesPrice4']].head(10)"
   ]
  },
  {
   "cell_type": "markdown",
   "metadata": {},
   "source": [
    "We have nonzero, zero and `NaN` values.  In addition to these columns, the data also contains `fldSalesDate` columns. To get a better idea of what the prices represent, let's look at the date columns as well."
   ]
  },
  {
   "cell_type": "code",
   "execution_count": 39,
   "metadata": {},
   "outputs": [
    {
     "data": {
      "text/html": [
       "<div>\n",
       "<style scoped>\n",
       "    .dataframe tbody tr th:only-of-type {\n",
       "        vertical-align: middle;\n",
       "    }\n",
       "\n",
       "    .dataframe tbody tr th {\n",
       "        vertical-align: top;\n",
       "    }\n",
       "\n",
       "    .dataframe thead th {\n",
       "        text-align: right;\n",
       "    }\n",
       "</style>\n",
       "<table border=\"1\" class=\"dataframe\">\n",
       "  <thead>\n",
       "    <tr style=\"text-align: right;\">\n",
       "      <th></th>\n",
       "      <th>fldSalesPrice1</th>\n",
       "      <th>fldSalesPrice2</th>\n",
       "      <th>fldSalesPrice3</th>\n",
       "      <th>fldSalesPrice4</th>\n",
       "      <th>fldSalesDate1</th>\n",
       "      <th>fldSalesDate2</th>\n",
       "      <th>fldSalesDate3</th>\n",
       "      <th>fldSalesDate4</th>\n",
       "    </tr>\n",
       "  </thead>\n",
       "  <tbody>\n",
       "    <tr>\n",
       "      <th>0</th>\n",
       "      <td>32000.0</td>\n",
       "      <td>0.0</td>\n",
       "      <td>0.0</td>\n",
       "      <td>NaN</td>\n",
       "      <td>06/07/2001</td>\n",
       "      <td>11/01/2000</td>\n",
       "      <td>07/06/1999</td>\n",
       "      <td>NaN</td>\n",
       "    </tr>\n",
       "    <tr>\n",
       "      <th>1</th>\n",
       "      <td>0.0</td>\n",
       "      <td>NaN</td>\n",
       "      <td>NaN</td>\n",
       "      <td>NaN</td>\n",
       "      <td>09/18/2000</td>\n",
       "      <td>NaN</td>\n",
       "      <td>NaN</td>\n",
       "      <td>NaN</td>\n",
       "    </tr>\n",
       "    <tr>\n",
       "      <th>2</th>\n",
       "      <td>0.0</td>\n",
       "      <td>38900.0</td>\n",
       "      <td>53334.0</td>\n",
       "      <td>117000.0</td>\n",
       "      <td>08/17/2017</td>\n",
       "      <td>09/27/2012</td>\n",
       "      <td>02/23/2012</td>\n",
       "      <td>12/23/2003</td>\n",
       "    </tr>\n",
       "    <tr>\n",
       "      <th>3</th>\n",
       "      <td>0.0</td>\n",
       "      <td>0.0</td>\n",
       "      <td>210000.0</td>\n",
       "      <td>0.0</td>\n",
       "      <td>11/18/2013</td>\n",
       "      <td>04/10/2012</td>\n",
       "      <td>10/13/2006</td>\n",
       "      <td>10/13/2006</td>\n",
       "    </tr>\n",
       "    <tr>\n",
       "      <th>4</th>\n",
       "      <td>14919.0</td>\n",
       "      <td>NaN</td>\n",
       "      <td>NaN</td>\n",
       "      <td>NaN</td>\n",
       "      <td>01/14/2005</td>\n",
       "      <td>NaN</td>\n",
       "      <td>NaN</td>\n",
       "      <td>NaN</td>\n",
       "    </tr>\n",
       "    <tr>\n",
       "      <th>5</th>\n",
       "      <td>144900.0</td>\n",
       "      <td>0.0</td>\n",
       "      <td>106000.0</td>\n",
       "      <td>NaN</td>\n",
       "      <td>05/05/2010</td>\n",
       "      <td>10/19/2004</td>\n",
       "      <td>09/13/2000</td>\n",
       "      <td>NaN</td>\n",
       "    </tr>\n",
       "    <tr>\n",
       "      <th>6</th>\n",
       "      <td>180000.0</td>\n",
       "      <td>NaN</td>\n",
       "      <td>NaN</td>\n",
       "      <td>NaN</td>\n",
       "      <td>11/05/2015</td>\n",
       "      <td>NaN</td>\n",
       "      <td>NaN</td>\n",
       "      <td>NaN</td>\n",
       "    </tr>\n",
       "    <tr>\n",
       "      <th>7</th>\n",
       "      <td>117000.0</td>\n",
       "      <td>139500.0</td>\n",
       "      <td>80000.0</td>\n",
       "      <td>72000.0</td>\n",
       "      <td>12/03/2002</td>\n",
       "      <td>12/03/2002</td>\n",
       "      <td>03/16/2000</td>\n",
       "      <td>12/17/1999</td>\n",
       "    </tr>\n",
       "    <tr>\n",
       "      <th>8</th>\n",
       "      <td>0.0</td>\n",
       "      <td>NaN</td>\n",
       "      <td>NaN</td>\n",
       "      <td>NaN</td>\n",
       "      <td>02/18/2009</td>\n",
       "      <td>NaN</td>\n",
       "      <td>NaN</td>\n",
       "      <td>NaN</td>\n",
       "    </tr>\n",
       "    <tr>\n",
       "      <th>9</th>\n",
       "      <td>135000.0</td>\n",
       "      <td>0.0</td>\n",
       "      <td>47000.0</td>\n",
       "      <td>21000.0</td>\n",
       "      <td>10/13/2006</td>\n",
       "      <td>02/11/2005</td>\n",
       "      <td>03/25/2002</td>\n",
       "      <td>10/10/2000</td>\n",
       "    </tr>\n",
       "  </tbody>\n",
       "</table>\n",
       "</div>"
      ],
      "text/plain": [
       "   fldSalesPrice1  fldSalesPrice2  fldSalesPrice3  fldSalesPrice4  \\\n",
       "0         32000.0             0.0             0.0             NaN   \n",
       "1             0.0             NaN             NaN             NaN   \n",
       "2             0.0         38900.0         53334.0        117000.0   \n",
       "3             0.0             0.0        210000.0             0.0   \n",
       "4         14919.0             NaN             NaN             NaN   \n",
       "5        144900.0             0.0        106000.0             NaN   \n",
       "6        180000.0             NaN             NaN             NaN   \n",
       "7        117000.0        139500.0         80000.0         72000.0   \n",
       "8             0.0             NaN             NaN             NaN   \n",
       "9        135000.0             0.0         47000.0         21000.0   \n",
       "\n",
       "  fldSalesDate1 fldSalesDate2 fldSalesDate3 fldSalesDate4  \n",
       "0    06/07/2001    11/01/2000    07/06/1999           NaN  \n",
       "1    09/18/2000           NaN           NaN           NaN  \n",
       "2    08/17/2017    09/27/2012    02/23/2012    12/23/2003  \n",
       "3    11/18/2013    04/10/2012    10/13/2006    10/13/2006  \n",
       "4    01/14/2005           NaN           NaN           NaN  \n",
       "5    05/05/2010    10/19/2004    09/13/2000           NaN  \n",
       "6    11/05/2015           NaN           NaN           NaN  \n",
       "7    12/03/2002    12/03/2002    03/16/2000    12/17/1999  \n",
       "8    02/18/2009           NaN           NaN           NaN  \n",
       "9    10/13/2006    02/11/2005    03/25/2002    10/10/2000  "
      ]
     },
     "execution_count": 39,
     "metadata": {},
     "output_type": "execute_result"
    }
   ],
   "source": [
    "licking[['fldSalesPrice1', 'fldSalesPrice2', 'fldSalesPrice3', 'fldSalesPrice4', \n",
    "         'fldSalesDate1', 'fldSalesDate2', 'fldSalesDate3', 'fldSalesDate4']].head(10)"
   ]
  },
  {
   "cell_type": "markdown",
   "metadata": {},
   "source": [
    "As we move from the first price/date column to the second, the second price/date column to the third, and so on, we move backward in time.  It seems reasonable then that `fldSalesPrice1` represents the most recent sales price and the other columns are used to record historic sales data (if it exists).  We'll use the most recent sales price for our work so we'll only need `fldSalesPrice1`.\n",
    "\n",
    "Just as with the word \"sale\", there are a number of columns that contain the word \"area\". \n",
    "\n",
    "<hr>\n",
    "<a name=\"Lab-9\"></a><mark> **Lab 9** In the cell below, display all the columns with \"area\" in their name.</mark>"
   ]
  },
  {
   "cell_type": "code",
   "execution_count": null,
   "metadata": {},
   "outputs": [],
   "source": []
  },
  {
   "cell_type": "markdown",
   "metadata": {},
   "source": [
    "<hr>\n",
    "\n",
    "Here, we'll assume `fldFinishedLivingArea` contains the data need for area.\n",
    "\n",
    "Next, lets look for bathroom data."
   ]
  },
  {
   "cell_type": "code",
   "execution_count": 40,
   "metadata": {},
   "outputs": [
    {
     "data": {
      "text/plain": [
       "['fldFullBaths', 'fldHalfBaths', 'fldOtherBaths']"
      ]
     },
     "execution_count": 40,
     "metadata": {},
     "output_type": "execute_result"
    }
   ],
   "source": [
    "[column for column in licking.columns if \"bath\" in column.lower()]"
   ]
  },
  {
   "cell_type": "markdown",
   "metadata": {},
   "source": [
    "We have columns corresponding to both full and half bathrooms as before but there is a third column for \"other\".  Let's see what values for this field look like."
   ]
  },
  {
   "cell_type": "code",
   "execution_count": 41,
   "metadata": {},
   "outputs": [
    {
     "data": {
      "text/plain": [
       "2.0     506\n",
       "1.0     324\n",
       "3.0      19\n",
       "4.0       6\n",
       "6.0       2\n",
       "10.0      1\n",
       "8.0       1\n",
       "5.0       1\n",
       "Name: fldOtherBaths, dtype: int64"
      ]
     },
     "execution_count": 41,
     "metadata": {},
     "output_type": "execute_result"
    }
   ],
   "source": [
    "licking.fldOtherBaths.value_counts()"
   ]
  },
  {
   "cell_type": "markdown",
   "metadata": {},
   "source": [
    "The values themselves don't give a clear idea of what the field represents.  Given the lack of documentation, we'd likely contact the person or group responsible for the data for clarification; for our work here, we'll assume this field corresponds to quarter bathrooms.  \n",
    "\n",
    "Examining the sample data above, we can identify the other columns of interest.  Specifically, we'll extract the following columns from the Licking Country dataset."
   ]
  },
  {
   "cell_type": "code",
   "execution_count": 42,
   "metadata": {},
   "outputs": [],
   "source": [
    "#home_columns = [\"AppraisedLand\", \"AppraisedBuilding\", \"LastSalePrice\", \"Area\", \"Rooms\", \"Bedrooms\", \"Bathrooms\", \"AirConditioning\", \"Heat\", \"Fireplaces\", \"YearBuilt\" ]\n",
    "licking_columns = [\"fldMarketLand\", \"fldMarketImprov\", \"fldSalesPrice1\", \"fldFinishedLivingArea\", \"fldRooms\", \"fldBedrooms\", \"fldFullBaths\", \"fldHalfBaths\", \"fldOtherBaths\",  \"fldHeating\", \"fldCooling\", \"fldFireplaceOpenings\", \"fldYearBuilt\"]"
   ]
  },
  {
   "cell_type": "raw",
   "metadata": {},
   "source": [
    "We can create a mask to filter the data based on style values.  Rather than compare one value to another as we did when filtering the Franklin Country data, we'll instead check if a values is among a list of values.  To do this, we can us the column's *isin()* method to test a value's membership in a specified list. \n",
    "\n",
    "Below we check if each value in the `fldStyle` column is in the `licking_styles` list we created earlier."
   ]
  },
  {
   "cell_type": "code",
   "execution_count": 43,
   "metadata": {},
   "outputs": [
    {
     "data": {
      "text/plain": [
       "0        True\n",
       "1        True\n",
       "2        True\n",
       "3        True\n",
       "4       False\n",
       "5        True\n",
       "6       False\n",
       "7        True\n",
       "8        True\n",
       "9        True\n",
       "10       True\n",
       "11       True\n",
       "12       True\n",
       "13       True\n",
       "14       True\n",
       "15       True\n",
       "16       True\n",
       "17       True\n",
       "18      False\n",
       "19      False\n",
       "20      False\n",
       "21       True\n",
       "22       True\n",
       "23       True\n",
       "24       True\n",
       "25       True\n",
       "26       True\n",
       "27       True\n",
       "28      False\n",
       "29       True\n",
       "        ...  \n",
       "8333    False\n",
       "8334    False\n",
       "8335    False\n",
       "8336     True\n",
       "8337    False\n",
       "8338     True\n",
       "8339     True\n",
       "8340    False\n",
       "8341    False\n",
       "8342    False\n",
       "8343    False\n",
       "8344    False\n",
       "8345    False\n",
       "8346     True\n",
       "8347     True\n",
       "8348     True\n",
       "8349     True\n",
       "8350    False\n",
       "8351     True\n",
       "8352    False\n",
       "8353    False\n",
       "8354     True\n",
       "8355     True\n",
       "8356     True\n",
       "8357     True\n",
       "8358     True\n",
       "8359    False\n",
       "8360    False\n",
       "8361    False\n",
       "8362    False\n",
       "Name: fldStyle, Length: 8363, dtype: bool"
      ]
     },
     "execution_count": 43,
     "metadata": {},
     "output_type": "execute_result"
    }
   ],
   "source": [
    "licking.fldStyle.isin(licking_styles)"
   ]
  },
  {
   "cell_type": "markdown",
   "metadata": {},
   "source": [
    "We can apply this mask in the usual way using bracket notation."
   ]
  },
  {
   "cell_type": "code",
   "execution_count": 44,
   "metadata": {},
   "outputs": [],
   "source": [
    "licking_subset = licking[licking.fldStyle.isin(licking_styles)].copy()"
   ]
  },
  {
   "cell_type": "markdown",
   "metadata": {},
   "source": [
    "We can confirm that the filtered data contains only the style values we had wanted."
   ]
  },
  {
   "cell_type": "code",
   "execution_count": 45,
   "metadata": {},
   "outputs": [
    {
     "data": {
      "text/plain": [
       "array(['Single Family', 'MFD Home', 'Tri-Level', 'Duplex', 'Bi-Level',\n",
       "       'Multi-Level', 'Condominum', 'Mobile Home', 'Triplex', '4-Level'],\n",
       "      dtype=object)"
      ]
     },
     "execution_count": 45,
     "metadata": {},
     "output_type": "execute_result"
    }
   ],
   "source": [
    "licking_subset.fldStyle.unique()"
   ]
  },
  {
   "cell_type": "markdown",
   "metadata": {},
   "source": [
    "Now, let's extract only the columns we want. We use bracket notation again with the list of columns we specified above."
   ]
  },
  {
   "cell_type": "code",
   "execution_count": 46,
   "metadata": {},
   "outputs": [],
   "source": [
    "licking_subset = licking_subset[licking_columns]"
   ]
  },
  {
   "cell_type": "markdown",
   "metadata": {},
   "source": [
    "We can display the first few rows of `licking_subset` to confirm we've extracted what we wanted."
   ]
  },
  {
   "cell_type": "code",
   "execution_count": 47,
   "metadata": {},
   "outputs": [
    {
     "data": {
      "text/html": [
       "<div>\n",
       "<style scoped>\n",
       "    .dataframe tbody tr th:only-of-type {\n",
       "        vertical-align: middle;\n",
       "    }\n",
       "\n",
       "    .dataframe tbody tr th {\n",
       "        vertical-align: top;\n",
       "    }\n",
       "\n",
       "    .dataframe thead th {\n",
       "        text-align: right;\n",
       "    }\n",
       "</style>\n",
       "<table border=\"1\" class=\"dataframe\">\n",
       "  <thead>\n",
       "    <tr style=\"text-align: right;\">\n",
       "      <th></th>\n",
       "      <th>fldMarketLand</th>\n",
       "      <th>fldMarketImprov</th>\n",
       "      <th>fldSalesPrice1</th>\n",
       "      <th>fldFinishedLivingArea</th>\n",
       "      <th>fldRooms</th>\n",
       "      <th>fldBedrooms</th>\n",
       "      <th>fldFullBaths</th>\n",
       "      <th>fldHalfBaths</th>\n",
       "      <th>fldOtherBaths</th>\n",
       "      <th>fldHeating</th>\n",
       "      <th>fldCooling</th>\n",
       "      <th>fldFireplaceOpenings</th>\n",
       "      <th>fldYearBuilt</th>\n",
       "    </tr>\n",
       "  </thead>\n",
       "  <tbody>\n",
       "    <tr>\n",
       "      <th>0</th>\n",
       "      <td>50300.0</td>\n",
       "      <td>138100.0</td>\n",
       "      <td>32000.0</td>\n",
       "      <td>1,790</td>\n",
       "      <td>6.0</td>\n",
       "      <td>3.0</td>\n",
       "      <td>2.0</td>\n",
       "      <td>NaN</td>\n",
       "      <td>NaN</td>\n",
       "      <td>Central Warm Air</td>\n",
       "      <td>Central</td>\n",
       "      <td>NaN</td>\n",
       "      <td>2002.0</td>\n",
       "    </tr>\n",
       "    <tr>\n",
       "      <th>1</th>\n",
       "      <td>86300.0</td>\n",
       "      <td>162700.0</td>\n",
       "      <td>0.0</td>\n",
       "      <td>2,326</td>\n",
       "      <td>7.0</td>\n",
       "      <td>4.0</td>\n",
       "      <td>3.0</td>\n",
       "      <td>NaN</td>\n",
       "      <td>NaN</td>\n",
       "      <td>Central Warm Air</td>\n",
       "      <td>Central</td>\n",
       "      <td>NaN</td>\n",
       "      <td>1998.0</td>\n",
       "    </tr>\n",
       "    <tr>\n",
       "      <th>2</th>\n",
       "      <td>53100.0</td>\n",
       "      <td>24500.0</td>\n",
       "      <td>0.0</td>\n",
       "      <td>1,400</td>\n",
       "      <td>5.0</td>\n",
       "      <td>3.0</td>\n",
       "      <td>2.0</td>\n",
       "      <td>NaN</td>\n",
       "      <td>NaN</td>\n",
       "      <td>Central Warm Air</td>\n",
       "      <td>None</td>\n",
       "      <td>NaN</td>\n",
       "      <td>1991.0</td>\n",
       "    </tr>\n",
       "    <tr>\n",
       "      <th>3</th>\n",
       "      <td>32100.0</td>\n",
       "      <td>169900.0</td>\n",
       "      <td>0.0</td>\n",
       "      <td>1,802</td>\n",
       "      <td>5.0</td>\n",
       "      <td>3.0</td>\n",
       "      <td>2.0</td>\n",
       "      <td>NaN</td>\n",
       "      <td>NaN</td>\n",
       "      <td>Central Warm Air</td>\n",
       "      <td>Central</td>\n",
       "      <td>1.0</td>\n",
       "      <td>2003.0</td>\n",
       "    </tr>\n",
       "    <tr>\n",
       "      <th>5</th>\n",
       "      <td>24200.0</td>\n",
       "      <td>111200.0</td>\n",
       "      <td>144900.0</td>\n",
       "      <td>960</td>\n",
       "      <td>5.0</td>\n",
       "      <td>3.0</td>\n",
       "      <td>1.0</td>\n",
       "      <td>NaN</td>\n",
       "      <td>NaN</td>\n",
       "      <td>Central Warm Air</td>\n",
       "      <td>Central</td>\n",
       "      <td>NaN</td>\n",
       "      <td>1989.0</td>\n",
       "    </tr>\n",
       "  </tbody>\n",
       "</table>\n",
       "</div>"
      ],
      "text/plain": [
       "   fldMarketLand  fldMarketImprov  fldSalesPrice1 fldFinishedLivingArea  \\\n",
       "0        50300.0         138100.0         32000.0                 1,790   \n",
       "1        86300.0         162700.0             0.0                 2,326   \n",
       "2        53100.0          24500.0             0.0                 1,400   \n",
       "3        32100.0         169900.0             0.0                 1,802   \n",
       "5        24200.0         111200.0        144900.0                   960   \n",
       "\n",
       "   fldRooms  fldBedrooms  fldFullBaths  fldHalfBaths  fldOtherBaths  \\\n",
       "0       6.0          3.0           2.0           NaN            NaN   \n",
       "1       7.0          4.0           3.0           NaN            NaN   \n",
       "2       5.0          3.0           2.0           NaN            NaN   \n",
       "3       5.0          3.0           2.0           NaN            NaN   \n",
       "5       5.0          3.0           1.0           NaN            NaN   \n",
       "\n",
       "         fldHeating fldCooling  fldFireplaceOpenings  fldYearBuilt  \n",
       "0  Central Warm Air    Central                   NaN        2002.0  \n",
       "1  Central Warm Air    Central                   NaN        1998.0  \n",
       "2  Central Warm Air       None                   NaN        1991.0  \n",
       "3  Central Warm Air    Central                   1.0        2003.0  \n",
       "5  Central Warm Air    Central                   NaN        1989.0  "
      ]
     },
     "execution_count": 47,
     "metadata": {},
     "output_type": "execute_result"
    }
   ],
   "source": [
    "licking_subset.head()"
   ]
  },
  {
   "cell_type": "markdown",
   "metadata": {},
   "source": [
    "We can combine the various bathroom columns into one `Bathroom` column in the same way we combined them for the Franklin County dataset.\n",
    "\n",
    "<hr>\n",
    "<a name=\"Lab-10\"></a><mark> **Lab 10** In the cell below, combine the values for full baths, half baths and other baths into one columns named `Bathrooom`.  Assume the value in `fldOtherBaths` is equivalent to a quarter of a full bathroom.  \n",
    "    \n",
    "Additionally, drop the original bathroom-related columns after computing the values for the new column\n",
    "</mark>"
   ]
  },
  {
   "cell_type": "code",
   "execution_count": 48,
   "metadata": {},
   "outputs": [],
   "source": [
    "licking_subset['Bathrooms'] = (licking_subset.fldFullBaths.fillna(0) + \n",
    "                               0.5 * licking_subset.fldHalfBaths.fillna(0) + \n",
    "                               0.25 * licking_subset.fldOtherBaths.fillna(0))\n",
    "licking_subset.drop([\"fldFullBaths\", \"fldHalfBaths\", \"fldOtherBaths\"], axis=1, inplace=True)"
   ]
  },
  {
   "cell_type": "markdown",
   "metadata": {},
   "source": [
    "<hr>\n",
    "\n",
    "Let's look at heating and cooling data . We extracted two columns from the original dataset `fldHeating` and `fldCooling` that contain heating and cooling data, respectively.  Let's look at the heating data first."
   ]
  },
  {
   "cell_type": "code",
   "execution_count": 49,
   "metadata": {},
   "outputs": [
    {
     "data": {
      "text/plain": [
       "Central Warm Air      5612\n",
       "Heat Pump              104\n",
       "Electric baseboard      58\n",
       "No Heat                 23\n",
       "Hot Water or Steam      11\n",
       "Geothermal               9\n",
       "Name: fldHeating, dtype: int64"
      ]
     },
     "execution_count": 49,
     "metadata": {},
     "output_type": "execute_result"
    }
   ],
   "source": [
    "licking_subset.fldHeating.value_counts()"
   ]
  },
  {
   "cell_type": "markdown",
   "metadata": {},
   "source": [
    "The target dataset doesn't differentiate among different data sources - it only indicates whether the property has heating or not.  For the Licking County data, we'd like to associate `False` with `No Heat` and `True` otherwise. We can do this by comparing values."
   ]
  },
  {
   "cell_type": "code",
   "execution_count": 50,
   "metadata": {},
   "outputs": [],
   "source": [
    "licking_subset.fldHeating = licking_subset.fldHeating != \"No Heat\""
   ]
  },
  {
   "cell_type": "markdown",
   "metadata": {},
   "source": [
    "We can calculate the value counts of the field to confirm that the number of `False` entries corresponds to the previous number of `No Heat` entries."
   ]
  },
  {
   "cell_type": "code",
   "execution_count": 51,
   "metadata": {},
   "outputs": [
    {
     "data": {
      "text/plain": [
       "True     5794\n",
       "False      23\n",
       "Name: fldHeating, dtype: int64"
      ]
     },
     "execution_count": 51,
     "metadata": {},
     "output_type": "execute_result"
    }
   ],
   "source": [
    "licking_subset.fldHeating.value_counts()"
   ]
  },
  {
   "cell_type": "markdown",
   "metadata": {},
   "source": [
    "<hr>\n",
    "<a name=\"Lab-11\"></a><mark> **Lab 11** In the cell below, replace the values in the `fldCooling` column with `True` to indicate that a property has cooling and `False` otherwise.\n",
    "\n",
    "</mark>"
   ]
  },
  {
   "cell_type": "code",
   "execution_count": 52,
   "metadata": {},
   "outputs": [],
   "source": [
    "licking_subset.fldCooling = licking_subset.fldCooling == \"Central\""
   ]
  },
  {
   "cell_type": "markdown",
   "metadata": {},
   "source": [
    "<hr>\n",
    "\n",
    "We can assume `fldFireplaceOpenings` correspond to fireplaces.  The only change we'll make is is to replace missing data with zeros."
   ]
  },
  {
   "cell_type": "code",
   "execution_count": 53,
   "metadata": {},
   "outputs": [],
   "source": [
    "licking_subset.fldFireplaceOpenings.fillna(0, inplace=True)"
   ]
  },
  {
   "cell_type": "markdown",
   "metadata": {},
   "source": [
    "That should be the last modification needed for the Licking County data.  In order to combine the `home_data` and `licking_subset` DataFrames, we need to make sure they have the same column names.  We'll rename columns in the same way we did previously."
   ]
  },
  {
   "cell_type": "code",
   "execution_count": 54,
   "metadata": {},
   "outputs": [],
   "source": [
    "licking_subset.rename(\n",
    "    {'fldMarketLand': 'AppraisedLand',\n",
    "     'fldMarketImprov': 'AppraisedBuilding',\n",
    "     'fldSalesPrice1': 'SalePrice',\n",
    "     'fldFinishedLivingArea': 'Area', \n",
    "     'fldRooms':'Rooms',\n",
    "     'fldBedrooms':'Bedrooms',\n",
    "     'fldHeating': \"Heat\",\n",
    "     'fldCooling': 'AirConditioning', \n",
    "     'fldFireplaceOpenings': 'Fireplaces', \n",
    "     'fldYearBuilt': 'YearBuilt'\n",
    "    },\n",
    "    axis=1 ,\n",
    "    inplace=True\n",
    ")"
   ]
  },
  {
   "cell_type": "markdown",
   "metadata": {},
   "source": [
    "We can also add a column to the identify the source of this data."
   ]
  },
  {
   "cell_type": "code",
   "execution_count": 55,
   "metadata": {},
   "outputs": [],
   "source": [
    "licking_subset['County'] = \"Licking\""
   ]
  },
  {
   "cell_type": "markdown",
   "metadata": {},
   "source": [
    "We can confirm that the columns in `home_data` and `licking_subset` are the same. Any differences will have to be corrected before merging the data. "
   ]
  },
  {
   "cell_type": "code",
   "execution_count": 56,
   "metadata": {},
   "outputs": [
    {
     "data": {
      "text/plain": [
       "Index(['AppraisedLand', 'AppraisedBuilding', 'SalePrice', 'Area', 'Rooms',\n",
       "       'Bedrooms', 'AirConditioning', 'Fireplaces', 'YearBuilt', 'Bathrooms',\n",
       "       'Heat', 'County'],\n",
       "      dtype='object')"
      ]
     },
     "execution_count": 56,
     "metadata": {},
     "output_type": "execute_result"
    }
   ],
   "source": [
    "home_data.columns"
   ]
  },
  {
   "cell_type": "code",
   "execution_count": 57,
   "metadata": {},
   "outputs": [
    {
     "data": {
      "text/plain": [
       "Index(['AppraisedLand', 'AppraisedBuilding', 'SalePrice', 'Area', 'Rooms',\n",
       "       'Bedrooms', 'Heat', 'AirConditioning', 'Fireplaces', 'YearBuilt',\n",
       "       'Bathrooms', 'County'],\n",
       "      dtype='object')"
      ]
     },
     "execution_count": 57,
     "metadata": {},
     "output_type": "execute_result"
    }
   ],
   "source": [
    "licking_subset.columns"
   ]
  },
  {
   "cell_type": "markdown",
   "metadata": {},
   "source": [
    "To see how we can combine the DataFrames, let look at an example.  We'll start with two DataFrames, each wit columns `A` and `B` and with two rows."
   ]
  },
  {
   "cell_type": "code",
   "execution_count": 58,
   "metadata": {},
   "outputs": [],
   "source": [
    "d1 = pd.DataFrame([[1, 2], [3, 4]], columns=list('AB'))\n",
    "d2 = pd.DataFrame([[5, 6], [7, 8]], columns=list('BA'))"
   ]
  },
  {
   "cell_type": "code",
   "execution_count": 59,
   "metadata": {},
   "outputs": [
    {
     "data": {
      "text/html": [
       "<div>\n",
       "<style scoped>\n",
       "    .dataframe tbody tr th:only-of-type {\n",
       "        vertical-align: middle;\n",
       "    }\n",
       "\n",
       "    .dataframe tbody tr th {\n",
       "        vertical-align: top;\n",
       "    }\n",
       "\n",
       "    .dataframe thead th {\n",
       "        text-align: right;\n",
       "    }\n",
       "</style>\n",
       "<table border=\"1\" class=\"dataframe\">\n",
       "  <thead>\n",
       "    <tr style=\"text-align: right;\">\n",
       "      <th></th>\n",
       "      <th>A</th>\n",
       "      <th>B</th>\n",
       "    </tr>\n",
       "  </thead>\n",
       "  <tbody>\n",
       "    <tr>\n",
       "      <th>0</th>\n",
       "      <td>1</td>\n",
       "      <td>2</td>\n",
       "    </tr>\n",
       "    <tr>\n",
       "      <th>1</th>\n",
       "      <td>3</td>\n",
       "      <td>4</td>\n",
       "    </tr>\n",
       "  </tbody>\n",
       "</table>\n",
       "</div>"
      ],
      "text/plain": [
       "   A  B\n",
       "0  1  2\n",
       "1  3  4"
      ]
     },
     "execution_count": 59,
     "metadata": {},
     "output_type": "execute_result"
    }
   ],
   "source": [
    "d1"
   ]
  },
  {
   "cell_type": "code",
   "execution_count": 60,
   "metadata": {},
   "outputs": [
    {
     "data": {
      "text/html": [
       "<div>\n",
       "<style scoped>\n",
       "    .dataframe tbody tr th:only-of-type {\n",
       "        vertical-align: middle;\n",
       "    }\n",
       "\n",
       "    .dataframe tbody tr th {\n",
       "        vertical-align: top;\n",
       "    }\n",
       "\n",
       "    .dataframe thead th {\n",
       "        text-align: right;\n",
       "    }\n",
       "</style>\n",
       "<table border=\"1\" class=\"dataframe\">\n",
       "  <thead>\n",
       "    <tr style=\"text-align: right;\">\n",
       "      <th></th>\n",
       "      <th>B</th>\n",
       "      <th>A</th>\n",
       "    </tr>\n",
       "  </thead>\n",
       "  <tbody>\n",
       "    <tr>\n",
       "      <th>0</th>\n",
       "      <td>5</td>\n",
       "      <td>6</td>\n",
       "    </tr>\n",
       "    <tr>\n",
       "      <th>1</th>\n",
       "      <td>7</td>\n",
       "      <td>8</td>\n",
       "    </tr>\n",
       "  </tbody>\n",
       "</table>\n",
       "</div>"
      ],
      "text/plain": [
       "   B  A\n",
       "0  5  6\n",
       "1  7  8"
      ]
     },
     "execution_count": 60,
     "metadata": {},
     "output_type": "execute_result"
    }
   ],
   "source": [
    "d2"
   ]
  },
  {
   "cell_type": "markdown",
   "metadata": {},
   "source": [
    "To append the content of one DataFrame to the end of another, we can use the DataFrame *append()* method.  We specify `ignore_index=True` to prevent duplication of index labels."
   ]
  },
  {
   "cell_type": "code",
   "execution_count": 61,
   "metadata": {},
   "outputs": [
    {
     "data": {
      "text/html": [
       "<div>\n",
       "<style scoped>\n",
       "    .dataframe tbody tr th:only-of-type {\n",
       "        vertical-align: middle;\n",
       "    }\n",
       "\n",
       "    .dataframe tbody tr th {\n",
       "        vertical-align: top;\n",
       "    }\n",
       "\n",
       "    .dataframe thead th {\n",
       "        text-align: right;\n",
       "    }\n",
       "</style>\n",
       "<table border=\"1\" class=\"dataframe\">\n",
       "  <thead>\n",
       "    <tr style=\"text-align: right;\">\n",
       "      <th></th>\n",
       "      <th>A</th>\n",
       "      <th>B</th>\n",
       "    </tr>\n",
       "  </thead>\n",
       "  <tbody>\n",
       "    <tr>\n",
       "      <th>0</th>\n",
       "      <td>1</td>\n",
       "      <td>2</td>\n",
       "    </tr>\n",
       "    <tr>\n",
       "      <th>1</th>\n",
       "      <td>3</td>\n",
       "      <td>4</td>\n",
       "    </tr>\n",
       "    <tr>\n",
       "      <th>2</th>\n",
       "      <td>6</td>\n",
       "      <td>5</td>\n",
       "    </tr>\n",
       "    <tr>\n",
       "      <th>3</th>\n",
       "      <td>8</td>\n",
       "      <td>7</td>\n",
       "    </tr>\n",
       "  </tbody>\n",
       "</table>\n",
       "</div>"
      ],
      "text/plain": [
       "   A  B\n",
       "0  1  2\n",
       "1  3  4\n",
       "2  6  5\n",
       "3  8  7"
      ]
     },
     "execution_count": 61,
     "metadata": {},
     "output_type": "execute_result"
    }
   ],
   "source": [
    "d1.append(d2, ignore_index=True)"
   ]
  },
  {
   "cell_type": "markdown",
   "metadata": {},
   "source": [
    "Note that the *append()* method does not modify the original DataFrames directly but instead returns the combined DataFrame.  We can append the `licking_subset` DataFrame to `home_data` and assign the result to `home_data`."
   ]
  },
  {
   "cell_type": "code",
   "execution_count": 142,
   "metadata": {},
   "outputs": [],
   "source": [
    "home_data = home_data.append(licking_subset, ignore_index=True)"
   ]
  },
  {
   "cell_type": "markdown",
   "metadata": {},
   "source": [
    "We can see that `home_data` now has data for two counties."
   ]
  },
  {
   "cell_type": "code",
   "execution_count": 143,
   "metadata": {},
   "outputs": [
    {
     "data": {
      "text/plain": [
       "Franklin    35024\n",
       "Licking      5817\n",
       "Name: County, dtype: int64"
      ]
     },
     "execution_count": 143,
     "metadata": {},
     "output_type": "execute_result"
    }
   ],
   "source": [
    "home_data.County.value_counts()"
   ]
  },
  {
   "cell_type": "markdown",
   "metadata": {},
   "source": [
    "### Extraction from a GIS Dataset: Fairfield County Auditor Data"
   ]
  },
  {
   "cell_type": "markdown",
   "metadata": {},
   "source": [
    "The final dataset we'll work with is the [Fairfield County Auditor Data](https://www.co.fairfield.oh.us/gis/).  This data is stored as [GIS](https://en.wikipedia.org/wiki/Geographic_information_system) data so loading it won't be as straightforward as reading a text file.  To access the data, we'll use the [GeoPandas](http://geopandas.org/) library, which will load the GIS data into a DataFrame so we can work with it in the same way we manipulated the other datasets. Recall that we installed the library using pip at the beginning of this notebook; with the libary installed, we can import it."
   ]
  },
  {
   "cell_type": "code",
   "execution_count": 64,
   "metadata": {},
   "outputs": [],
   "source": [
    "import geopandas"
   ]
  },
  {
   "cell_type": "markdown",
   "metadata": {},
   "source": [
    "The GIS data we're working with is stored in a [format](http://doc.arcgis.com/en/arcgis-online/reference/shapefiles.htm) specified by [ESRI](https://www.esri.com/en-us/home), the developer of [ArcGIS](https://www.arcgis.com/features/index.html), a popular GIS software product.  Data in this format is stored across several files and can be distributed as a single zip file.  We can load the data from the zip file using GeoPanda's *read_file()* function.  The data we'll be using is stored in `data/02-fairfield-gis.zip`."
   ]
  },
  {
   "cell_type": "code",
   "execution_count": 65,
   "metadata": {},
   "outputs": [],
   "source": [
    "#https://www.co.fairfield.oh.us/gis/\n",
    "fairfield = geopandas.read_file(\"zip://data/02-fairfield-gis.zip\")"
   ]
  },
  {
   "cell_type": "markdown",
   "metadata": {},
   "source": [
    "The object returned by the *read_file()* method is a [GeoDataFrame](http://geopandas.org/data_structures.html#geodataframe), an extension of the pandas DataFrame with additional functionality.  The attributes and methods we've used with other DataFrames are available to use when working with GeoDataFrames.  For example, we can see the first few rows in the Fairfield County data using the *head()* method."
   ]
  },
  {
   "cell_type": "code",
   "execution_count": 66,
   "metadata": {},
   "outputs": [
    {
     "data": {
      "text/html": [
       "<div>\n",
       "<style scoped>\n",
       "    .dataframe tbody tr th:only-of-type {\n",
       "        vertical-align: middle;\n",
       "    }\n",
       "\n",
       "    .dataframe tbody tr th {\n",
       "        vertical-align: top;\n",
       "    }\n",
       "\n",
       "    .dataframe thead th {\n",
       "        text-align: right;\n",
       "    }\n",
       "</style>\n",
       "<table border=\"1\" class=\"dataframe\">\n",
       "  <thead>\n",
       "    <tr style=\"text-align: right;\">\n",
       "      <th></th>\n",
       "      <th>PIN</th>\n",
       "      <th>Shape_Leng</th>\n",
       "      <th>Shape_Area</th>\n",
       "      <th>PARID</th>\n",
       "      <th>OWN1</th>\n",
       "      <th>OWN2</th>\n",
       "      <th>LASTNAME</th>\n",
       "      <th>ADRNO</th>\n",
       "      <th>ADRDIR</th>\n",
       "      <th>ADRSTR</th>\n",
       "      <th>ADRSUF</th>\n",
       "      <th>ADRSUF2</th>\n",
       "      <th>PADDR1</th>\n",
       "      <th>MADDR1</th>\n",
       "      <th>MADDR2</th>\n",
       "      <th>MADDR3</th>\n",
       "      <th>MCITYNAME</th>\n",
       "      <th>MSTATECODE</th>\n",
       "      <th>MZIP1</th>\n",
       "      <th>LEGAL1</th>\n",
       "      <th>LEGAL2</th>\n",
       "      <th>LEGAL3</th>\n",
       "      <th>ACRES</th>\n",
       "      <th>MAPNUM</th>\n",
       "      <th>ROUTENUM</th>\n",
       "      <th>LUC</th>\n",
       "      <th>PARTIAL_</th>\n",
       "      <th>NBHD</th>\n",
       "      <th>STORIES</th>\n",
       "      <th>EXTWALL</th>\n",
       "      <th>STYLE</th>\n",
       "      <th>SFLA</th>\n",
       "      <th>YRBLT</th>\n",
       "      <th>YRREMOD</th>\n",
       "      <th>RMTOT</th>\n",
       "      <th>RMBED</th>\n",
       "      <th>RMFAM</th>\n",
       "      <th>FIXBATH</th>\n",
       "      <th>FIXHALF</th>\n",
       "      <th>FIXTOT</th>\n",
       "      <th>BSMT</th>\n",
       "      <th>HEAT</th>\n",
       "      <th>FUEL</th>\n",
       "      <th>ATTIC</th>\n",
       "      <th>WBFP_O</th>\n",
       "      <th>WBFP_S</th>\n",
       "      <th>WBFP_PF</th>\n",
       "      <th>BSMTCAR</th>\n",
       "      <th>FINBSMTARE</th>\n",
       "      <th>RECROMAREA</th>\n",
       "      <th>MASTRIMARE</th>\n",
       "      <th>BOOK</th>\n",
       "      <th>PAGE</th>\n",
       "      <th>SALEDT</th>\n",
       "      <th>TRANSDT</th>\n",
       "      <th>RECORDDT</th>\n",
       "      <th>PRICE</th>\n",
       "      <th>SALEVAL</th>\n",
       "      <th>SALETYPE</th>\n",
       "      <th>APRLAND</th>\n",
       "      <th>APRBLDG</th>\n",
       "      <th>FARMLAND</th>\n",
       "      <th>AGAPPL</th>\n",
       "      <th>SALEYEAR</th>\n",
       "      <th>APPRVAL</th>\n",
       "      <th>SALESRATIO</th>\n",
       "      <th>GRDFACT</th>\n",
       "      <th>CDU</th>\n",
       "      <th>CLASS</th>\n",
       "      <th>DEPR</th>\n",
       "      <th>geometry</th>\n",
       "    </tr>\n",
       "  </thead>\n",
       "  <tbody>\n",
       "    <tr>\n",
       "      <th>0</th>\n",
       "      <td>0010000100</td>\n",
       "      <td>7168.370932</td>\n",
       "      <td>1.061245e+06</td>\n",
       "      <td>0010000100</td>\n",
       "      <td>PONTIUS GREGORY L</td>\n",
       "      <td></td>\n",
       "      <td>PONTIUS</td>\n",
       "      <td>980.0</td>\n",
       "      <td></td>\n",
       "      <td>ROCK MILL</td>\n",
       "      <td>RD</td>\n",
       "      <td>SW</td>\n",
       "      <td>980 ROCK MILL RD SW</td>\n",
       "      <td>980 ROCK MILL RD SW</td>\n",
       "      <td></td>\n",
       "      <td></td>\n",
       "      <td>LANCASTER</td>\n",
       "      <td>OH</td>\n",
       "      <td>43130</td>\n",
       "      <td>R 20 T 13 S 1 SW</td>\n",
       "      <td></td>\n",
       "      <td></td>\n",
       "      <td>24.20</td>\n",
       "      <td>100</td>\n",
       "      <td>01300</td>\n",
       "      <td>111</td>\n",
       "      <td></td>\n",
       "      <td>00053.000</td>\n",
       "      <td>2.0</td>\n",
       "      <td>8</td>\n",
       "      <td>5</td>\n",
       "      <td>1770</td>\n",
       "      <td>1900</td>\n",
       "      <td>0</td>\n",
       "      <td>4</td>\n",
       "      <td>2</td>\n",
       "      <td>0</td>\n",
       "      <td>1</td>\n",
       "      <td>0</td>\n",
       "      <td>5</td>\n",
       "      <td>3</td>\n",
       "      <td>3</td>\n",
       "      <td>4</td>\n",
       "      <td>1</td>\n",
       "      <td>0</td>\n",
       "      <td>0</td>\n",
       "      <td>0</td>\n",
       "      <td>0</td>\n",
       "      <td>0</td>\n",
       "      <td>0</td>\n",
       "      <td>0</td>\n",
       "      <td></td>\n",
       "      <td></td>\n",
       "      <td>None</td>\n",
       "      <td>None</td>\n",
       "      <td>None</td>\n",
       "      <td>0.0</td>\n",
       "      <td></td>\n",
       "      <td></td>\n",
       "      <td>138220.0</td>\n",
       "      <td>101810.0</td>\n",
       "      <td>59020.0</td>\n",
       "      <td>1</td>\n",
       "      <td>0</td>\n",
       "      <td>240030.0</td>\n",
       "      <td>0.00</td>\n",
       "      <td>0.85</td>\n",
       "      <td>VG</td>\n",
       "      <td>A</td>\n",
       "      <td>65</td>\n",
       "      <td>POLYGON ((1905593.568425 624820.4415500164, 19...</td>\n",
       "    </tr>\n",
       "    <tr>\n",
       "      <th>1</th>\n",
       "      <td>0010000200</td>\n",
       "      <td>2051.863544</td>\n",
       "      <td>2.177793e+05</td>\n",
       "      <td>0010000200</td>\n",
       "      <td>CRUM WILLIAM H</td>\n",
       "      <td>&amp; DEBORAH L SURV</td>\n",
       "      <td>CRUM</td>\n",
       "      <td>0.0</td>\n",
       "      <td></td>\n",
       "      <td>ROCK MILL</td>\n",
       "      <td>RD</td>\n",
       "      <td>SW</td>\n",
       "      <td>ROCK MILL RD SW</td>\n",
       "      <td>700 ROCK MILL RD SW</td>\n",
       "      <td></td>\n",
       "      <td></td>\n",
       "      <td>LANCASTER</td>\n",
       "      <td>OH</td>\n",
       "      <td>43130</td>\n",
       "      <td>R 20 T 13 S 1 SW</td>\n",
       "      <td></td>\n",
       "      <td></td>\n",
       "      <td>5.01</td>\n",
       "      <td>100</td>\n",
       "      <td>01200</td>\n",
       "      <td>110</td>\n",
       "      <td></td>\n",
       "      <td>00053.000</td>\n",
       "      <td>0.0</td>\n",
       "      <td></td>\n",
       "      <td></td>\n",
       "      <td>0</td>\n",
       "      <td>0</td>\n",
       "      <td>0</td>\n",
       "      <td>0</td>\n",
       "      <td>0</td>\n",
       "      <td>0</td>\n",
       "      <td>0</td>\n",
       "      <td>0</td>\n",
       "      <td>0</td>\n",
       "      <td></td>\n",
       "      <td></td>\n",
       "      <td></td>\n",
       "      <td></td>\n",
       "      <td>0</td>\n",
       "      <td>0</td>\n",
       "      <td>0</td>\n",
       "      <td>0</td>\n",
       "      <td>0</td>\n",
       "      <td>0</td>\n",
       "      <td>0</td>\n",
       "      <td>1422</td>\n",
       "      <td>1757</td>\n",
       "      <td>2006-03-14</td>\n",
       "      <td>None</td>\n",
       "      <td>None</td>\n",
       "      <td>18036.0</td>\n",
       "      <td>8</td>\n",
       "      <td>1</td>\n",
       "      <td>18210.0</td>\n",
       "      <td>0.0</td>\n",
       "      <td>6410.0</td>\n",
       "      <td>2497</td>\n",
       "      <td>2006</td>\n",
       "      <td>18210.0</td>\n",
       "      <td>1.01</td>\n",
       "      <td>0.00</td>\n",
       "      <td></td>\n",
       "      <td>A</td>\n",
       "      <td>0</td>\n",
       "      <td>POLYGON ((1903113.793750003 625629.7457250059,...</td>\n",
       "    </tr>\n",
       "    <tr>\n",
       "      <th>2</th>\n",
       "      <td>0010000210</td>\n",
       "      <td>1890.165027</td>\n",
       "      <td>2.181676e+05</td>\n",
       "      <td>0010000210</td>\n",
       "      <td>CRUM WILLIAM H</td>\n",
       "      <td>&amp; DEBORAH L SURV</td>\n",
       "      <td>CRUM</td>\n",
       "      <td>700.0</td>\n",
       "      <td></td>\n",
       "      <td>ROCK MILL</td>\n",
       "      <td>RD</td>\n",
       "      <td>SW</td>\n",
       "      <td>710 ROCK MILL RD SW</td>\n",
       "      <td>700 ROCK MILL RD SW</td>\n",
       "      <td></td>\n",
       "      <td></td>\n",
       "      <td>LANCASTER</td>\n",
       "      <td>OH</td>\n",
       "      <td>43130</td>\n",
       "      <td>R 20 T 13 S 1 SW</td>\n",
       "      <td></td>\n",
       "      <td></td>\n",
       "      <td>5.01</td>\n",
       "      <td>100</td>\n",
       "      <td>01201</td>\n",
       "      <td>111</td>\n",
       "      <td></td>\n",
       "      <td>00053.000</td>\n",
       "      <td>0.0</td>\n",
       "      <td></td>\n",
       "      <td></td>\n",
       "      <td>0</td>\n",
       "      <td>0</td>\n",
       "      <td>0</td>\n",
       "      <td>0</td>\n",
       "      <td>0</td>\n",
       "      <td>0</td>\n",
       "      <td>0</td>\n",
       "      <td>0</td>\n",
       "      <td>0</td>\n",
       "      <td></td>\n",
       "      <td></td>\n",
       "      <td></td>\n",
       "      <td></td>\n",
       "      <td>0</td>\n",
       "      <td>0</td>\n",
       "      <td>0</td>\n",
       "      <td>0</td>\n",
       "      <td>0</td>\n",
       "      <td>0</td>\n",
       "      <td>0</td>\n",
       "      <td>1332</td>\n",
       "      <td>2028</td>\n",
       "      <td>2004-03-16</td>\n",
       "      <td>None</td>\n",
       "      <td>None</td>\n",
       "      <td>491835.0</td>\n",
       "      <td>1</td>\n",
       "      <td>2</td>\n",
       "      <td>48550.0</td>\n",
       "      <td>5520.0</td>\n",
       "      <td>34850.0</td>\n",
       "      <td>2497</td>\n",
       "      <td>2004</td>\n",
       "      <td>54070.0</td>\n",
       "      <td>0.11</td>\n",
       "      <td>0.00</td>\n",
       "      <td></td>\n",
       "      <td>A</td>\n",
       "      <td>0</td>\n",
       "      <td>POLYGON ((1903002.950375006 626560.2619000077,...</td>\n",
       "    </tr>\n",
       "    <tr>\n",
       "      <th>3</th>\n",
       "      <td>0010000220</td>\n",
       "      <td>2054.900023</td>\n",
       "      <td>2.182332e+05</td>\n",
       "      <td>0010000220</td>\n",
       "      <td>MASON JERRY L</td>\n",
       "      <td>&amp; BARBARA J SURV</td>\n",
       "      <td>MASON</td>\n",
       "      <td>618.0</td>\n",
       "      <td></td>\n",
       "      <td>ROCK MILL</td>\n",
       "      <td>RD</td>\n",
       "      <td>SW</td>\n",
       "      <td>618 ROCK MILL RD SW</td>\n",
       "      <td>618 ROCK MILL RD SW</td>\n",
       "      <td></td>\n",
       "      <td></td>\n",
       "      <td>LANCASTER</td>\n",
       "      <td>OH</td>\n",
       "      <td>43130</td>\n",
       "      <td>R 20 T 13 S 1 SW</td>\n",
       "      <td></td>\n",
       "      <td></td>\n",
       "      <td>5.01</td>\n",
       "      <td>100</td>\n",
       "      <td>01202</td>\n",
       "      <td>511</td>\n",
       "      <td></td>\n",
       "      <td>00053.000</td>\n",
       "      <td>1.0</td>\n",
       "      <td>6</td>\n",
       "      <td>3</td>\n",
       "      <td>1826</td>\n",
       "      <td>2007</td>\n",
       "      <td>0</td>\n",
       "      <td>5</td>\n",
       "      <td>3</td>\n",
       "      <td>0</td>\n",
       "      <td>2</td>\n",
       "      <td>0</td>\n",
       "      <td>8</td>\n",
       "      <td>3</td>\n",
       "      <td>3</td>\n",
       "      <td>2</td>\n",
       "      <td>1</td>\n",
       "      <td>0</td>\n",
       "      <td>0</td>\n",
       "      <td>1</td>\n",
       "      <td>0</td>\n",
       "      <td>0</td>\n",
       "      <td>0</td>\n",
       "      <td>0</td>\n",
       "      <td>1258</td>\n",
       "      <td>1562</td>\n",
       "      <td>2003-01-16</td>\n",
       "      <td>None</td>\n",
       "      <td>None</td>\n",
       "      <td>50000.0</td>\n",
       "      <td>8</td>\n",
       "      <td>1</td>\n",
       "      <td>50060.0</td>\n",
       "      <td>144530.0</td>\n",
       "      <td>0.0</td>\n",
       "      <td></td>\n",
       "      <td>2003</td>\n",
       "      <td>194590.0</td>\n",
       "      <td>3.89</td>\n",
       "      <td>1.00</td>\n",
       "      <td>AV</td>\n",
       "      <td>R</td>\n",
       "      <td>85</td>\n",
       "      <td>POLYGON ((1903236.916600004 627207.6281000078,...</td>\n",
       "    </tr>\n",
       "    <tr>\n",
       "      <th>4</th>\n",
       "      <td>0010000230</td>\n",
       "      <td>12292.790840</td>\n",
       "      <td>5.732582e+06</td>\n",
       "      <td>0010000230</td>\n",
       "      <td>CRUM WILLIAM H</td>\n",
       "      <td>&amp; DEBORAH L SURV</td>\n",
       "      <td>CRUM</td>\n",
       "      <td>700.0</td>\n",
       "      <td></td>\n",
       "      <td>ROCK MILL</td>\n",
       "      <td>RD</td>\n",
       "      <td>SW</td>\n",
       "      <td>700 ROCK MILL RD SW</td>\n",
       "      <td>700 ROCK MILL RD SW</td>\n",
       "      <td></td>\n",
       "      <td></td>\n",
       "      <td>LANCASTER</td>\n",
       "      <td>OH</td>\n",
       "      <td>43130</td>\n",
       "      <td>R 20 T 13 S 1 SW</td>\n",
       "      <td></td>\n",
       "      <td></td>\n",
       "      <td>131.61</td>\n",
       "      <td>100</td>\n",
       "      <td>01230</td>\n",
       "      <td>111</td>\n",
       "      <td></td>\n",
       "      <td>00053.000</td>\n",
       "      <td>2.0</td>\n",
       "      <td>1</td>\n",
       "      <td>19</td>\n",
       "      <td>6988</td>\n",
       "      <td>2005</td>\n",
       "      <td>0</td>\n",
       "      <td>16</td>\n",
       "      <td>5</td>\n",
       "      <td>0</td>\n",
       "      <td>6</td>\n",
       "      <td>1</td>\n",
       "      <td>28</td>\n",
       "      <td>4</td>\n",
       "      <td>3</td>\n",
       "      <td>2</td>\n",
       "      <td>4</td>\n",
       "      <td>2</td>\n",
       "      <td>2</td>\n",
       "      <td>0</td>\n",
       "      <td>0</td>\n",
       "      <td>1900</td>\n",
       "      <td>0</td>\n",
       "      <td>800</td>\n",
       "      <td>1332</td>\n",
       "      <td>2028</td>\n",
       "      <td>2004-03-16</td>\n",
       "      <td>None</td>\n",
       "      <td>None</td>\n",
       "      <td>491835.0</td>\n",
       "      <td>1</td>\n",
       "      <td>1</td>\n",
       "      <td>655150.0</td>\n",
       "      <td>655630.0</td>\n",
       "      <td>241360.0</td>\n",
       "      <td>2497</td>\n",
       "      <td>2004</td>\n",
       "      <td>1310780.0</td>\n",
       "      <td>2.67</td>\n",
       "      <td>1.35</td>\n",
       "      <td>GD</td>\n",
       "      <td>A</td>\n",
       "      <td>90</td>\n",
       "      <td>POLYGON ((1905796.903074995 627480.4164750129,...</td>\n",
       "    </tr>\n",
       "  </tbody>\n",
       "</table>\n",
       "</div>"
      ],
      "text/plain": [
       "          PIN    Shape_Leng    Shape_Area       PARID               OWN1  \\\n",
       "0  0010000100   7168.370932  1.061245e+06  0010000100  PONTIUS GREGORY L   \n",
       "1  0010000200   2051.863544  2.177793e+05  0010000200     CRUM WILLIAM H   \n",
       "2  0010000210   1890.165027  2.181676e+05  0010000210     CRUM WILLIAM H   \n",
       "3  0010000220   2054.900023  2.182332e+05  0010000220      MASON JERRY L   \n",
       "4  0010000230  12292.790840  5.732582e+06  0010000230     CRUM WILLIAM H   \n",
       "\n",
       "               OWN2 LASTNAME  ADRNO ADRDIR     ADRSTR ADRSUF ADRSUF2  \\\n",
       "0                    PONTIUS  980.0         ROCK MILL     RD      SW   \n",
       "1  & DEBORAH L SURV     CRUM    0.0         ROCK MILL     RD      SW   \n",
       "2  & DEBORAH L SURV     CRUM  700.0         ROCK MILL     RD      SW   \n",
       "3  & BARBARA J SURV    MASON  618.0         ROCK MILL     RD      SW   \n",
       "4  & DEBORAH L SURV     CRUM  700.0         ROCK MILL     RD      SW   \n",
       "\n",
       "                PADDR1               MADDR1 MADDR2 MADDR3  MCITYNAME  \\\n",
       "0  980 ROCK MILL RD SW  980 ROCK MILL RD SW                LANCASTER   \n",
       "1      ROCK MILL RD SW  700 ROCK MILL RD SW                LANCASTER   \n",
       "2  710 ROCK MILL RD SW  700 ROCK MILL RD SW                LANCASTER   \n",
       "3  618 ROCK MILL RD SW  618 ROCK MILL RD SW                LANCASTER   \n",
       "4  700 ROCK MILL RD SW  700 ROCK MILL RD SW                LANCASTER   \n",
       "\n",
       "  MSTATECODE  MZIP1            LEGAL1 LEGAL2 LEGAL3   ACRES MAPNUM ROUTENUM  \\\n",
       "0         OH  43130  R 20 T 13 S 1 SW                 24.20    100    01300   \n",
       "1         OH  43130  R 20 T 13 S 1 SW                  5.01    100    01200   \n",
       "2         OH  43130  R 20 T 13 S 1 SW                  5.01    100    01201   \n",
       "3         OH  43130  R 20 T 13 S 1 SW                  5.01    100    01202   \n",
       "4         OH  43130  R 20 T 13 S 1 SW                131.61    100    01230   \n",
       "\n",
       "   LUC PARTIAL_       NBHD  STORIES EXTWALL STYLE  SFLA  YRBLT  YRREMOD  \\\n",
       "0  111           00053.000      2.0       8     5  1770   1900        0   \n",
       "1  110           00053.000      0.0                   0      0        0   \n",
       "2  111           00053.000      0.0                   0      0        0   \n",
       "3  511           00053.000      1.0       6     3  1826   2007        0   \n",
       "4  111           00053.000      2.0       1    19  6988   2005        0   \n",
       "\n",
       "   RMTOT  RMBED  RMFAM  FIXBATH  FIXHALF  FIXTOT BSMT HEAT FUEL ATTIC  WBFP_O  \\\n",
       "0      4      2      0        1        0       5    3    3    4     1       0   \n",
       "1      0      0      0        0        0       0                            0   \n",
       "2      0      0      0        0        0       0                            0   \n",
       "3      5      3      0        2        0       8    3    3    2     1       0   \n",
       "4     16      5      0        6        1      28    4    3    2     4       2   \n",
       "\n",
       "   WBFP_S  WBFP_PF  BSMTCAR  FINBSMTARE  RECROMAREA  MASTRIMARE  BOOK  PAGE  \\\n",
       "0       0        0        0           0           0           0               \n",
       "1       0        0        0           0           0           0  1422  1757   \n",
       "2       0        0        0           0           0           0  1332  2028   \n",
       "3       0        1        0           0           0           0  1258  1562   \n",
       "4       2        0        0        1900           0         800  1332  2028   \n",
       "\n",
       "       SALEDT TRANSDT RECORDDT     PRICE SALEVAL SALETYPE   APRLAND   APRBLDG  \\\n",
       "0        None    None     None       0.0                   138220.0  101810.0   \n",
       "1  2006-03-14    None     None   18036.0       8        1   18210.0       0.0   \n",
       "2  2004-03-16    None     None  491835.0       1        2   48550.0    5520.0   \n",
       "3  2003-01-16    None     None   50000.0       8        1   50060.0  144530.0   \n",
       "4  2004-03-16    None     None  491835.0       1        1  655150.0  655630.0   \n",
       "\n",
       "   FARMLAND AGAPPL  SALEYEAR    APPRVAL  SALESRATIO  GRDFACT CDU CLASS  DEPR  \\\n",
       "0   59020.0      1         0   240030.0        0.00     0.85  VG     A    65   \n",
       "1    6410.0   2497      2006    18210.0        1.01     0.00         A     0   \n",
       "2   34850.0   2497      2004    54070.0        0.11     0.00         A     0   \n",
       "3       0.0             2003   194590.0        3.89     1.00  AV     R    85   \n",
       "4  241360.0   2497      2004  1310780.0        2.67     1.35  GD     A    90   \n",
       "\n",
       "                                            geometry  \n",
       "0  POLYGON ((1905593.568425 624820.4415500164, 19...  \n",
       "1  POLYGON ((1903113.793750003 625629.7457250059,...  \n",
       "2  POLYGON ((1903002.950375006 626560.2619000077,...  \n",
       "3  POLYGON ((1903236.916600004 627207.6281000078,...  \n",
       "4  POLYGON ((1905796.903074995 627480.4164750129,...  "
      ]
     },
     "execution_count": 66,
     "metadata": {},
     "output_type": "execute_result"
    }
   ],
   "source": [
    "fairfield.head()"
   ]
  },
  {
   "cell_type": "markdown",
   "metadata": {},
   "source": [
    "For the most part, this looks like what we'd expect for county auditor data. The last column, however, is something we haven't seen yet.  The `geometry` column contains [data](http://desktop.arcgis.com/en/arcmap/10.3/analyze/arcpy-classes/geometry.htm) used to represent the location and shape of geometric features.  We can use this data to construct plots with map data.  \n",
    "\n",
    "In the code below, we use the [Matplotlib](https://matplotlib.org/) library to create a plot; we'll work with this library again later.  Because the geometric data represents geographic objects on Earth's surface, position information is stored using a [coordinate reference system](http://geopandas.org/projections.html).  For simpler manipulation, the code below converts data to use a reference system that relies on standard latitude and longitude which can be used in masks to filter the data.  Once filtered, the data is plotted.  In the resulting plot of [Lancaster](https://www.google.com/maps/place/Lancaster,+OH+43130/@39.7234464,-82.678719,12z/data=!3m1!4b1!4m5!3m4!1s0x88478a5e4f80f267:0x136dd5d79e3b4de5!8m2!3d39.7136754!4d-82.5993294), we can see features such as roads."
   ]
  },
  {
   "cell_type": "code",
   "execution_count": 67,
   "metadata": {},
   "outputs": [
    {
     "data": {
      "text/plain": [
       "{'datum': 'NAD83',\n",
       " 'lat_0': 38,\n",
       " 'lat_1': 38.73333333333333,\n",
       " 'lat_2': 40.03333333333333,\n",
       " 'lon_0': -82.5,\n",
       " 'no_defs': True,\n",
       " 'proj': 'lcc',\n",
       " 'units': 'us-ft',\n",
       " 'x_0': 600000,\n",
       " 'y_0': 0}"
      ]
     },
     "execution_count": 67,
     "metadata": {},
     "output_type": "execute_result"
    }
   ],
   "source": [
    "fairfield.crs"
   ]
  },
  {
   "cell_type": "code",
   "execution_count": 68,
   "metadata": {},
   "outputs": [
    {
     "data": {
      "text/plain": [
       "<matplotlib.axes._subplots.AxesSubplot at 0x112e55b00>"
      ]
     },
     "execution_count": 68,
     "metadata": {},
     "output_type": "execute_result"
    },
    {
     "data": {
      "image/png": "[encoded data removed]",
      "text/plain": [
       "<matplotlib.figure.Figure at 0x112e47b00>"
      ]
     },
     "metadata": {},
     "output_type": "display_data"
    }
   ],
   "source": [
    "# lancaster\n",
    "%matplotlib inline\n",
    "import matplotlib\n",
    "matplotlib.rcParams[\"figure.figsize\"] = (12, 10)\n",
    "fairfield = fairfield.to_crs({'init': 'epsg:4326'})\n",
    "fairfield[(fairfield.geometry.centroid.x >= -82.7) &\n",
    "          (fairfield.geometry.centroid.x <= -82.5) &\n",
    "          (fairfield.geometry.centroid.y >= 39.7) &\n",
    "          (fairfield.geometry.centroid.y <= 39.75)].plot()\n"
   ]
  },
  {
   "cell_type": "markdown",
   "metadata": {},
   "source": [
    "Returning to the task at hand, let's work on cleaning/filtering the Fairfield County data and merging it with the existing data.  \n",
    "\n",
    "Access to data that was used to construct the GIS dataset is available through a link on the Fairfield County Auditors site. The data is hosted on an external [site](http://downloads.ddti.net/fairfieldoh/) and includes a description of the database structure.  We can load the documentation in the notebook; the description for dwelling data is given on page 13."
   ]
  },
  {
   "cell_type": "code",
   "execution_count": 69,
   "metadata": {},
   "outputs": [
    {
     "data": {
      "text/html": [
       "\n",
       "        <iframe\n",
       "            width=\"800\"\n",
       "            height=\"600\"\n",
       "            src=\"./data/02-fairfield-description.pdf#page=13\"\n",
       "            frameborder=\"0\"\n",
       "            allowfullscreen\n",
       "        ></iframe>\n",
       "        "
      ],
      "text/plain": [
       "<IPython.lib.display.IFrame at 0x10b15a9e8>"
      ]
     },
     "execution_count": 69,
     "metadata": {},
     "output_type": "execute_result"
    }
   ],
   "source": [
    "IFrame(\"./data/02-fairfield-description.pdf#page=13\", 800, 600)"
   ]
  },
  {
   "cell_type": "markdown",
   "metadata": {},
   "source": [
    "Based on the first few rows and the documentation, we might be able to filter the data based on the values in the `CLASS` column.  Let's look at its values."
   ]
  },
  {
   "cell_type": "code",
   "execution_count": 70,
   "metadata": {},
   "outputs": [
    {
     "data": {
      "text/plain": [
       "R    56797\n",
       "A     7208\n",
       "C     3573\n",
       "E     2309\n",
       "       579\n",
       "I      316\n",
       "U       27\n",
       "Name: CLASS, dtype: int64"
      ]
     },
     "execution_count": 70,
     "metadata": {},
     "output_type": "execute_result"
    }
   ],
   "source": [
    "fairfield.CLASS.value_counts()"
   ]
  },
  {
   "cell_type": "markdown",
   "metadata": {},
   "source": [
    "We'll assume `R` represents residential data. We can see that we'll likely need the following columns as well.\n",
    "\n",
    "- `SFLA`: Living area\n",
    "- `YRBLT`: Year built\n",
    "- `RMTOT`: Total rooms\n",
    "- `RMBED`: Bedrooms\n",
    "- `FIXBATH`: Bathrooms\n",
    "- `FIXHALF`: Half-bathrooms\n",
    "- `HEAT`: Heat code\n",
    "- `PRICE`: Sales price\n",
    "- `APRLAND`: Appraised land value\n",
    "- `APRBLDG`: Appraised building value\n",
    "\n",
    "We can filter the data and extract the columns of interest."
   ]
  },
  {
   "cell_type": "code",
   "execution_count": 76,
   "metadata": {},
   "outputs": [],
   "source": [
    "fairfield_columns = ['SFLA', 'YRBLT', 'RMTOT', 'RMBED', 'FIXBATH', \n",
    "                     'FIXHALF', 'HEAT', 'PRICE', 'APRLAND',  'APRBLDG']\n",
    "fairfield_subset = fairfield[fairfield.CLASS == 'R'][fairfield_columns].copy()"
   ]
  },
  {
   "cell_type": "markdown",
   "metadata": {},
   "source": [
    "Let's look the first few rows of the DataFrame."
   ]
  },
  {
   "cell_type": "code",
   "execution_count": 77,
   "metadata": {},
   "outputs": [
    {
     "data": {
      "text/html": [
       "<div>\n",
       "<style scoped>\n",
       "    .dataframe tbody tr th:only-of-type {\n",
       "        vertical-align: middle;\n",
       "    }\n",
       "\n",
       "    .dataframe tbody tr th {\n",
       "        vertical-align: top;\n",
       "    }\n",
       "\n",
       "    .dataframe thead th {\n",
       "        text-align: right;\n",
       "    }\n",
       "</style>\n",
       "<table border=\"1\" class=\"dataframe\">\n",
       "  <thead>\n",
       "    <tr style=\"text-align: right;\">\n",
       "      <th></th>\n",
       "      <th>SFLA</th>\n",
       "      <th>YRBLT</th>\n",
       "      <th>RMTOT</th>\n",
       "      <th>RMBED</th>\n",
       "      <th>FIXBATH</th>\n",
       "      <th>FIXHALF</th>\n",
       "      <th>HEAT</th>\n",
       "      <th>PRICE</th>\n",
       "      <th>APRLAND</th>\n",
       "      <th>APRBLDG</th>\n",
       "    </tr>\n",
       "  </thead>\n",
       "  <tbody>\n",
       "    <tr>\n",
       "      <th>3</th>\n",
       "      <td>1826</td>\n",
       "      <td>2007</td>\n",
       "      <td>5</td>\n",
       "      <td>3</td>\n",
       "      <td>2</td>\n",
       "      <td>0</td>\n",
       "      <td>3</td>\n",
       "      <td>50000.0</td>\n",
       "      <td>50060.0</td>\n",
       "      <td>144530.0</td>\n",
       "    </tr>\n",
       "    <tr>\n",
       "      <th>10</th>\n",
       "      <td>816</td>\n",
       "      <td>1958</td>\n",
       "      <td>4</td>\n",
       "      <td>2</td>\n",
       "      <td>1</td>\n",
       "      <td>0</td>\n",
       "      <td>3</td>\n",
       "      <td>140000.0</td>\n",
       "      <td>28390.0</td>\n",
       "      <td>77190.0</td>\n",
       "    </tr>\n",
       "    <tr>\n",
       "      <th>11</th>\n",
       "      <td>2624</td>\n",
       "      <td>2002</td>\n",
       "      <td>8</td>\n",
       "      <td>3</td>\n",
       "      <td>2</td>\n",
       "      <td>1</td>\n",
       "      <td>3</td>\n",
       "      <td>0.0</td>\n",
       "      <td>49180.0</td>\n",
       "      <td>175570.0</td>\n",
       "    </tr>\n",
       "    <tr>\n",
       "      <th>17</th>\n",
       "      <td>1384</td>\n",
       "      <td>1900</td>\n",
       "      <td>7</td>\n",
       "      <td>3</td>\n",
       "      <td>1</td>\n",
       "      <td>0</td>\n",
       "      <td>2</td>\n",
       "      <td>0.0</td>\n",
       "      <td>39000.0</td>\n",
       "      <td>64300.0</td>\n",
       "    </tr>\n",
       "    <tr>\n",
       "      <th>18</th>\n",
       "      <td>864</td>\n",
       "      <td>1981</td>\n",
       "      <td>4</td>\n",
       "      <td>3</td>\n",
       "      <td>1</td>\n",
       "      <td>0</td>\n",
       "      <td>2</td>\n",
       "      <td>0.0</td>\n",
       "      <td>34050.0</td>\n",
       "      <td>39810.0</td>\n",
       "    </tr>\n",
       "  </tbody>\n",
       "</table>\n",
       "</div>"
      ],
      "text/plain": [
       "    SFLA  YRBLT  RMTOT  RMBED  FIXBATH  FIXHALF HEAT     PRICE  APRLAND  \\\n",
       "3   1826   2007      5      3        2        0    3   50000.0  50060.0   \n",
       "10   816   1958      4      2        1        0    3  140000.0  28390.0   \n",
       "11  2624   2002      8      3        2        1    3       0.0  49180.0   \n",
       "17  1384   1900      7      3        1        0    2       0.0  39000.0   \n",
       "18   864   1981      4      3        1        0    2       0.0  34050.0   \n",
       "\n",
       "     APRBLDG  \n",
       "3   144530.0  \n",
       "10   77190.0  \n",
       "11  175570.0  \n",
       "17   64300.0  \n",
       "18   39810.0  "
      ]
     },
     "execution_count": 77,
     "metadata": {},
     "output_type": "execute_result"
    }
   ],
   "source": [
    "fairfield_subset.head()"
   ]
  },
  {
   "cell_type": "markdown",
   "metadata": {},
   "source": [
    "We can combine the `FIXBATH` and `FIXHALF` columns into a single column using the same method we used for the Franklin County data."
   ]
  },
  {
   "cell_type": "code",
   "execution_count": 78,
   "metadata": {},
   "outputs": [],
   "source": [
    "fairfield_subset['Bathrooms'] = fairfield_subset.FIXBATH + 0.5 * fairfield_subset.FIXHALF\n",
    "fairfield_subset.drop([\"FIXBATH\", \"FIXHALF\"], axis=1, inplace=True)"
   ]
  },
  {
   "cell_type": "markdown",
   "metadata": {},
   "source": [
    "Turing to the `HEAT` column, the data documentation indicates that the values in this column represent a \"heat code\"."
   ]
  },
  {
   "cell_type": "code",
   "execution_count": 79,
   "metadata": {},
   "outputs": [
    {
     "data": {
      "text/plain": [
       "3    35346\n",
       "     10135\n",
       "2     7350\n",
       "4     3267\n",
       "1      699\n",
       "Name: HEAT, dtype: int64"
      ]
     },
     "execution_count": 79,
     "metadata": {},
     "output_type": "execute_result"
    }
   ],
   "source": [
    "fairfield_subset.HEAT.value_counts()"
   ]
  },
  {
   "cell_type": "markdown",
   "metadata": {},
   "source": [
    "Among the tables in the database available online is one that defines these values.  The heat codes are as follows:\n",
    "\n",
    "- 1: None\n",
    "- 2: Basic\n",
    "- 3: Air conditioning\n",
    "- 4: Heat Pump\n",
    "\n",
    "We'll have to extract both heating and cooling data from this column. Notice that the output of *value_counts()* includes a row count for what appears to be missing data.  Before continuing, let's try to determine why there is a missing value.  To begin, let's use the *unique()* method for a better representation of the distinct values."
   ]
  },
  {
   "cell_type": "code",
   "execution_count": 80,
   "metadata": {},
   "outputs": [
    {
     "data": {
      "text/plain": [
       "array(['3', '2', '', '4', '1'], dtype=object)"
      ]
     },
     "execution_count": 80,
     "metadata": {},
     "output_type": "execute_result"
    }
   ],
   "source": [
    "fairfield_subset.HEAT.unique() "
   ]
  },
  {
   "cell_type": "markdown",
   "metadata": {},
   "source": [
    "The missing value is an empty string.  At this point we need to decide if should assume that a missing value means no heat or some other type of heating that doesn't correspond to a code.  Let's look at a few rows where `HEAT` is an empty string.\n",
    "\n",
    "<hr>\n",
    "<a name=\"Lab-12\"></a><mark> **Lab 12** Using a mask and the *head()* method, display the first five rows of `fairfield_subset` where the `HEAT` column has an empty string for a value.\n",
    "\n",
    "</mark>"
   ]
  },
  {
   "cell_type": "code",
   "execution_count": 81,
   "metadata": {},
   "outputs": [
    {
     "data": {
      "text/html": [
       "<div>\n",
       "<style scoped>\n",
       "    .dataframe tbody tr th:only-of-type {\n",
       "        vertical-align: middle;\n",
       "    }\n",
       "\n",
       "    .dataframe tbody tr th {\n",
       "        vertical-align: top;\n",
       "    }\n",
       "\n",
       "    .dataframe thead th {\n",
       "        text-align: right;\n",
       "    }\n",
       "</style>\n",
       "<table border=\"1\" class=\"dataframe\">\n",
       "  <thead>\n",
       "    <tr style=\"text-align: right;\">\n",
       "      <th></th>\n",
       "      <th>SFLA</th>\n",
       "      <th>YRBLT</th>\n",
       "      <th>RMTOT</th>\n",
       "      <th>RMBED</th>\n",
       "      <th>HEAT</th>\n",
       "      <th>PRICE</th>\n",
       "      <th>APRLAND</th>\n",
       "      <th>APRBLDG</th>\n",
       "      <th>Bathrooms</th>\n",
       "    </tr>\n",
       "  </thead>\n",
       "  <tbody>\n",
       "    <tr>\n",
       "      <th>24</th>\n",
       "      <td>0</td>\n",
       "      <td>0</td>\n",
       "      <td>0</td>\n",
       "      <td>0</td>\n",
       "      <td></td>\n",
       "      <td>105000.0</td>\n",
       "      <td>33420.0</td>\n",
       "      <td>0.0</td>\n",
       "      <td>0.0</td>\n",
       "    </tr>\n",
       "    <tr>\n",
       "      <th>55</th>\n",
       "      <td>0</td>\n",
       "      <td>0</td>\n",
       "      <td>0</td>\n",
       "      <td>0</td>\n",
       "      <td></td>\n",
       "      <td>48000.0</td>\n",
       "      <td>33670.0</td>\n",
       "      <td>13990.0</td>\n",
       "      <td>0.0</td>\n",
       "    </tr>\n",
       "    <tr>\n",
       "      <th>60</th>\n",
       "      <td>0</td>\n",
       "      <td>0</td>\n",
       "      <td>0</td>\n",
       "      <td>0</td>\n",
       "      <td></td>\n",
       "      <td>0.0</td>\n",
       "      <td>27500.0</td>\n",
       "      <td>9820.0</td>\n",
       "      <td>0.0</td>\n",
       "    </tr>\n",
       "    <tr>\n",
       "      <th>61</th>\n",
       "      <td>0</td>\n",
       "      <td>0</td>\n",
       "      <td>0</td>\n",
       "      <td>0</td>\n",
       "      <td></td>\n",
       "      <td>35000.0</td>\n",
       "      <td>15510.0</td>\n",
       "      <td>0.0</td>\n",
       "      <td>0.0</td>\n",
       "    </tr>\n",
       "    <tr>\n",
       "      <th>72</th>\n",
       "      <td>0</td>\n",
       "      <td>0</td>\n",
       "      <td>0</td>\n",
       "      <td>0</td>\n",
       "      <td></td>\n",
       "      <td>0.0</td>\n",
       "      <td>6470.0</td>\n",
       "      <td>0.0</td>\n",
       "      <td>0.0</td>\n",
       "    </tr>\n",
       "  </tbody>\n",
       "</table>\n",
       "</div>"
      ],
      "text/plain": [
       "    SFLA  YRBLT  RMTOT  RMBED HEAT     PRICE  APRLAND  APRBLDG  Bathrooms\n",
       "24     0      0      0      0       105000.0  33420.0      0.0        0.0\n",
       "55     0      0      0      0        48000.0  33670.0  13990.0        0.0\n",
       "60     0      0      0      0            0.0  27500.0   9820.0        0.0\n",
       "61     0      0      0      0        35000.0  15510.0      0.0        0.0\n",
       "72     0      0      0      0            0.0   6470.0      0.0        0.0"
      ]
     },
     "execution_count": 81,
     "metadata": {},
     "output_type": "execute_result"
    }
   ],
   "source": [
    "fairfield_subset[fairfield_subset.HEAT == ''].head()"
   ]
  },
  {
   "cell_type": "markdown",
   "metadata": {},
   "source": [
    "<hr>\n",
    "\n",
    "It appears that records where `HEAT` is an empty string, correspond to parcels with no living area.  At this point we can filter the data again to exclude records with an empty string in `HEAT`."
   ]
  },
  {
   "cell_type": "code",
   "execution_count": 82,
   "metadata": {},
   "outputs": [],
   "source": [
    "fairfield_subset = fairfield_subset[fairfield_subset.HEAT != '']"
   ]
  },
  {
   "cell_type": "markdown",
   "metadata": {},
   "source": [
    "This leaves the following values in the `HEAT` column."
   ]
  },
  {
   "cell_type": "code",
   "execution_count": 83,
   "metadata": {},
   "outputs": [
    {
     "data": {
      "text/plain": [
       "3    35346\n",
       "2     7350\n",
       "4     3267\n",
       "1      699\n",
       "Name: HEAT, dtype: int64"
      ]
     },
     "execution_count": 83,
     "metadata": {},
     "output_type": "execute_result"
    }
   ],
   "source": [
    "fairfield_subset.HEAT.value_counts()"
   ]
  },
  {
   "cell_type": "markdown",
   "metadata": {},
   "source": [
    "While we could write code that iterate through the rows of the DataFrame and sets heating and cooling values at the same time, it is easier to split this into two tasks: set the cooling value then set the heating value. \n",
    "\n",
    "We can create a new column, `AirConditioning` based on whether or not `HEAT` has a value of `'3'`. Because the column contains strings, it's important that our masks compare the column's values to another string rather than an iteger, i.e, our mask for air conditioning should be\n",
    "\n",
    "```python\n",
    "fairfield_subset.HEAT == '3'\n",
    "```\n",
    "\n",
    "rather than\n",
    "\n",
    "```python\n",
    "fairfield_subset.HEAT == 3\n",
    "```\n"
   ]
  },
  {
   "cell_type": "code",
   "execution_count": 84,
   "metadata": {},
   "outputs": [
    {
     "data": {
      "text/plain": [
       "True     35346\n",
       "False    11316\n",
       "Name: AirConditioning, dtype: int64"
      ]
     },
     "execution_count": 84,
     "metadata": {},
     "output_type": "execute_result"
    }
   ],
   "source": [
    "fairfield_subset['AirConditioning'] = fairfield_subset.HEAT == '3'\n",
    "fairfield_subset.AirConditioning.value_counts()"
   ]
  },
  {
   "cell_type": "markdown",
   "metadata": {},
   "source": [
    "Similarly, we can assign a new value to `HEAT` based on the existing value. "
   ]
  },
  {
   "cell_type": "code",
   "execution_count": 85,
   "metadata": {},
   "outputs": [
    {
     "data": {
      "text/plain": [
       "True     45963\n",
       "False      699\n",
       "Name: HEAT, dtype: int64"
      ]
     },
     "execution_count": 85,
     "metadata": {},
     "output_type": "execute_result"
    }
   ],
   "source": [
    "fairfield_subset.HEAT = fairfield_subset.HEAT != '1'\n",
    "fairfield_subset.HEAT.value_counts()"
   ]
  },
  {
   "cell_type": "markdown",
   "metadata": {},
   "source": [
    "Let's see what the data looks like."
   ]
  },
  {
   "cell_type": "code",
   "execution_count": 89,
   "metadata": {},
   "outputs": [
    {
     "data": {
      "text/html": [
       "<div>\n",
       "<style scoped>\n",
       "    .dataframe tbody tr th:only-of-type {\n",
       "        vertical-align: middle;\n",
       "    }\n",
       "\n",
       "    .dataframe tbody tr th {\n",
       "        vertical-align: top;\n",
       "    }\n",
       "\n",
       "    .dataframe thead th {\n",
       "        text-align: right;\n",
       "    }\n",
       "</style>\n",
       "<table border=\"1\" class=\"dataframe\">\n",
       "  <thead>\n",
       "    <tr style=\"text-align: right;\">\n",
       "      <th></th>\n",
       "      <th>Area</th>\n",
       "      <th>YearBuilt</th>\n",
       "      <th>Rooms</th>\n",
       "      <th>Bedrooms</th>\n",
       "      <th>Heat</th>\n",
       "      <th>SalePrice</th>\n",
       "      <th>AppraisedLand</th>\n",
       "      <th>AppraisedBuilding</th>\n",
       "      <th>Bathrooms</th>\n",
       "      <th>AirConditioning</th>\n",
       "    </tr>\n",
       "  </thead>\n",
       "  <tbody>\n",
       "    <tr>\n",
       "      <th>3</th>\n",
       "      <td>1826</td>\n",
       "      <td>2007</td>\n",
       "      <td>5</td>\n",
       "      <td>3</td>\n",
       "      <td>True</td>\n",
       "      <td>50000.0</td>\n",
       "      <td>50060.0</td>\n",
       "      <td>144530.0</td>\n",
       "      <td>2.0</td>\n",
       "      <td>True</td>\n",
       "    </tr>\n",
       "    <tr>\n",
       "      <th>10</th>\n",
       "      <td>816</td>\n",
       "      <td>1958</td>\n",
       "      <td>4</td>\n",
       "      <td>2</td>\n",
       "      <td>True</td>\n",
       "      <td>140000.0</td>\n",
       "      <td>28390.0</td>\n",
       "      <td>77190.0</td>\n",
       "      <td>1.0</td>\n",
       "      <td>True</td>\n",
       "    </tr>\n",
       "    <tr>\n",
       "      <th>11</th>\n",
       "      <td>2624</td>\n",
       "      <td>2002</td>\n",
       "      <td>8</td>\n",
       "      <td>3</td>\n",
       "      <td>True</td>\n",
       "      <td>0.0</td>\n",
       "      <td>49180.0</td>\n",
       "      <td>175570.0</td>\n",
       "      <td>2.5</td>\n",
       "      <td>True</td>\n",
       "    </tr>\n",
       "    <tr>\n",
       "      <th>17</th>\n",
       "      <td>1384</td>\n",
       "      <td>1900</td>\n",
       "      <td>7</td>\n",
       "      <td>3</td>\n",
       "      <td>True</td>\n",
       "      <td>0.0</td>\n",
       "      <td>39000.0</td>\n",
       "      <td>64300.0</td>\n",
       "      <td>1.0</td>\n",
       "      <td>False</td>\n",
       "    </tr>\n",
       "    <tr>\n",
       "      <th>18</th>\n",
       "      <td>864</td>\n",
       "      <td>1981</td>\n",
       "      <td>4</td>\n",
       "      <td>3</td>\n",
       "      <td>True</td>\n",
       "      <td>0.0</td>\n",
       "      <td>34050.0</td>\n",
       "      <td>39810.0</td>\n",
       "      <td>1.0</td>\n",
       "      <td>False</td>\n",
       "    </tr>\n",
       "  </tbody>\n",
       "</table>\n",
       "</div>"
      ],
      "text/plain": [
       "    Area  YearBuilt  Rooms  Bedrooms  Heat  SalePrice  AppraisedLand  \\\n",
       "3   1826       2007      5         3  True    50000.0        50060.0   \n",
       "10   816       1958      4         2  True   140000.0        28390.0   \n",
       "11  2624       2002      8         3  True        0.0        49180.0   \n",
       "17  1384       1900      7         3  True        0.0        39000.0   \n",
       "18   864       1981      4         3  True        0.0        34050.0   \n",
       "\n",
       "    AppraisedBuilding  Bathrooms  AirConditioning  \n",
       "3            144530.0        2.0             True  \n",
       "10            77190.0        1.0             True  \n",
       "11           175570.0        2.5             True  \n",
       "17            64300.0        1.0            False  \n",
       "18            39810.0        1.0            False  "
      ]
     },
     "execution_count": 89,
     "metadata": {},
     "output_type": "execute_result"
    }
   ],
   "source": [
    "fairfield_subset.head()"
   ]
  },
  {
   "cell_type": "markdown",
   "metadata": {},
   "source": [
    "The final steps are to rename the columns, add data about the source, and append the Fairfield subset to our larger dataset.\n",
    "\n",
    "\n",
    "<hr>\n",
    "<a name=\"Lab-13\"></a><mark> **Lab 13** In the cell below, rename the columns of the `fairfield_subset` DataFrame so they are consistent with the columns in `home_data`.\n",
    "</mark>"
   ]
  },
  {
   "cell_type": "code",
   "execution_count": 88,
   "metadata": {},
   "outputs": [],
   "source": [
    "fairfield_subset.rename(\n",
    "    {'APRLAND': 'AppraisedLand',\n",
    "     'APRBLDG': 'AppraisedBuilding',\n",
    "     'PRICE': 'SalePrice',\n",
    "     'SFLA': 'Area', \n",
    "     'RMTOT':'Rooms',\n",
    "     'RMBED':'Bedrooms',\n",
    "     'HEAT': 'Heat',\n",
    "     'YRBLT': 'YearBuilt'\n",
    "    },\n",
    "    axis=1 ,\n",
    "    inplace=True\n",
    ")"
   ]
  },
  {
   "cell_type": "markdown",
   "metadata": {},
   "source": [
    "<hr>\n",
    "\n",
    "That leaves adding the county name and appending the data."
   ]
  },
  {
   "cell_type": "code",
   "execution_count": 144,
   "metadata": {},
   "outputs": [],
   "source": [
    "fairfield_subset['County'] = 'Fairfield'\n",
    "home_data = home_data.append(fairfield_subset, ignore_index=True)"
   ]
  },
  {
   "cell_type": "markdown",
   "metadata": {},
   "source": [
    "We can see that our dataset contains data from three counties."
   ]
  },
  {
   "cell_type": "code",
   "execution_count": 145,
   "metadata": {},
   "outputs": [
    {
     "data": {
      "text/plain": [
       "Fairfield    46662\n",
       "Franklin     35024\n",
       "Licking       5817\n",
       "Name: County, dtype: int64"
      ]
     },
     "execution_count": 145,
     "metadata": {},
     "output_type": "execute_result"
    }
   ],
   "source": [
    "home_data.County.value_counts()"
   ]
  },
  {
   "cell_type": "markdown",
   "metadata": {},
   "source": [
    "Often when we work with data, we encounter duplication - repetition of data.  We can see if `home_data` contains duplicate data by comparing the number of rows that would be left if we removed duplicates using the *drop_duplicates()* method to the number of rows in the current DataFrame."
   ]
  },
  {
   "cell_type": "code",
   "execution_count": 98,
   "metadata": {},
   "outputs": [
    {
     "data": {
      "text/plain": [
       "0.9861719026776224"
      ]
     },
     "execution_count": 98,
     "metadata": {},
     "output_type": "execute_result"
    }
   ],
   "source": [
    "len(home_data.drop_duplicates())/len(home_data)"
   ]
  },
  {
   "cell_type": "markdown",
   "metadata": {},
   "source": [
    "This indicates that a little over 1% of our data corresponds to duplicates.  While the original data might not have contained duplicates, we created what appear to be duplicates by removing unneeded columns.  To see this more clearly, consider the following DataFrame."
   ]
  },
  {
   "cell_type": "code",
   "execution_count": 101,
   "metadata": {},
   "outputs": [
    {
     "data": {
      "text/html": [
       "<div>\n",
       "<style scoped>\n",
       "    .dataframe tbody tr th:only-of-type {\n",
       "        vertical-align: middle;\n",
       "    }\n",
       "\n",
       "    .dataframe tbody tr th {\n",
       "        vertical-align: top;\n",
       "    }\n",
       "\n",
       "    .dataframe thead th {\n",
       "        text-align: right;\n",
       "    }\n",
       "</style>\n",
       "<table border=\"1\" class=\"dataframe\">\n",
       "  <thead>\n",
       "    <tr style=\"text-align: right;\">\n",
       "      <th></th>\n",
       "      <th>A</th>\n",
       "      <th>B</th>\n",
       "      <th>C</th>\n",
       "    </tr>\n",
       "  </thead>\n",
       "  <tbody>\n",
       "    <tr>\n",
       "      <th>0</th>\n",
       "      <td>1</td>\n",
       "      <td>2</td>\n",
       "      <td>3</td>\n",
       "    </tr>\n",
       "    <tr>\n",
       "      <th>1</th>\n",
       "      <td>1</td>\n",
       "      <td>2</td>\n",
       "      <td>4</td>\n",
       "    </tr>\n",
       "  </tbody>\n",
       "</table>\n",
       "</div>"
      ],
      "text/plain": [
       "   A  B  C\n",
       "0  1  2  3\n",
       "1  1  2  4"
      ]
     },
     "execution_count": 101,
     "metadata": {},
     "output_type": "execute_result"
    }
   ],
   "source": [
    "df = d1 = pd.DataFrame([[1, 2, 3], [1, 2, 4]], columns=list('ABC'))\n",
    "df"
   ]
  },
  {
   "cell_type": "markdown",
   "metadata": {},
   "source": [
    "The two rows of data are distinct.  However, if decide we no longer need column `C`, the rows will appear to be duplicates."
   ]
  },
  {
   "cell_type": "code",
   "execution_count": 103,
   "metadata": {},
   "outputs": [
    {
     "data": {
      "text/html": [
       "<div>\n",
       "<style scoped>\n",
       "    .dataframe tbody tr th:only-of-type {\n",
       "        vertical-align: middle;\n",
       "    }\n",
       "\n",
       "    .dataframe tbody tr th {\n",
       "        vertical-align: top;\n",
       "    }\n",
       "\n",
       "    .dataframe thead th {\n",
       "        text-align: right;\n",
       "    }\n",
       "</style>\n",
       "<table border=\"1\" class=\"dataframe\">\n",
       "  <thead>\n",
       "    <tr style=\"text-align: right;\">\n",
       "      <th></th>\n",
       "      <th>A</th>\n",
       "      <th>B</th>\n",
       "    </tr>\n",
       "  </thead>\n",
       "  <tbody>\n",
       "    <tr>\n",
       "      <th>0</th>\n",
       "      <td>1</td>\n",
       "      <td>2</td>\n",
       "    </tr>\n",
       "    <tr>\n",
       "      <th>1</th>\n",
       "      <td>1</td>\n",
       "      <td>2</td>\n",
       "    </tr>\n",
       "  </tbody>\n",
       "</table>\n",
       "</div>"
      ],
      "text/plain": [
       "   A  B\n",
       "0  1  2\n",
       "1  1  2"
      ]
     },
     "execution_count": 103,
     "metadata": {},
     "output_type": "execute_result"
    }
   ],
   "source": [
    "df.drop(['C'], axis=1, inplace=True)\n",
    "df"
   ]
  },
  {
   "cell_type": "markdown",
   "metadata": {},
   "source": [
    "We can calculate the percentage of rows that would be left after removing duplicates as we did above."
   ]
  },
  {
   "cell_type": "code",
   "execution_count": 104,
   "metadata": {},
   "outputs": [
    {
     "data": {
      "text/plain": [
       "0.5"
      ]
     },
     "execution_count": 104,
     "metadata": {},
     "output_type": "execute_result"
    }
   ],
   "source": [
    "len(df.drop_duplicates())/len(df)"
   ]
  },
  {
   "cell_type": "markdown",
   "metadata": {},
   "source": [
    "While the rows in `home_data` might have corresponded to distinct properties to begin with, at this point there is no way to distinguish between duplicated rows.  For now, however, we will leave the duplicates in the data knowing that they do represent different properties. \n",
    "\n",
    "Let's look at the data types of our columns."
   ]
  },
  {
   "cell_type": "code",
   "execution_count": 118,
   "metadata": {},
   "outputs": [
    {
     "data": {
      "text/plain": [
       "AirConditioning         bool\n",
       "AppraisedBuilding    float64\n",
       "AppraisedLand        float64\n",
       "Area                  object\n",
       "Bathrooms            float64\n",
       "Bedrooms             float64\n",
       "County                object\n",
       "Fireplaces           float64\n",
       "Heat                    bool\n",
       "Rooms                float64\n",
       "SalePrice            float64\n",
       "YearBuilt            float64\n",
       "dtype: object"
      ]
     },
     "execution_count": 118,
     "metadata": {},
     "output_type": "execute_result"
    }
   ],
   "source": [
    "home_data.dtypes"
   ]
  },
  {
   "cell_type": "markdown",
   "metadata": {},
   "source": [
    "Notice that `Area` data is stored as objects.  We would probably like to store area as an integer or as a floating point value.  Let's try to convert the area values to integers."
   ]
  },
  {
   "cell_type": "code",
   "execution_count": 155,
   "metadata": {},
   "outputs": [
    {
     "ename": "ValueError",
     "evalue": "invalid literal for int() with base 10: '1,790'",
     "output_type": "error",
     "traceback": [
      "\u001b[0;31m---------------------------------------------------------------------------\u001b[0m",
      "\u001b[0;31mValueError\u001b[0m                                Traceback (most recent call last)",
      "\u001b[0;32m<ipython-input-155-9c9511c44c77>\u001b[0m in \u001b[0;36m<module>\u001b[0;34m()\u001b[0m\n\u001b[0;32m----> 1\u001b[0;31m \u001b[0mhome_data\u001b[0m\u001b[0;34m.\u001b[0m\u001b[0mArea\u001b[0m \u001b[0;34m=\u001b[0m \u001b[0mhome_data\u001b[0m\u001b[0;34m.\u001b[0m\u001b[0mArea\u001b[0m\u001b[0;34m.\u001b[0m\u001b[0mastype\u001b[0m\u001b[0;34m(\u001b[0m\u001b[0mint\u001b[0m\u001b[0;34m)\u001b[0m\u001b[0;34m\u001b[0m\u001b[0m\n\u001b[0m",
      "\u001b[0;32m/usr/local/lib/python3.6/site-packages/pandas/util/_decorators.py\u001b[0m in \u001b[0;36mwrapper\u001b[0;34m(*args, **kwargs)\u001b[0m\n\u001b[1;32m    116\u001b[0m                 \u001b[0;32melse\u001b[0m\u001b[0;34m:\u001b[0m\u001b[0;34m\u001b[0m\u001b[0m\n\u001b[1;32m    117\u001b[0m                     \u001b[0mkwargs\u001b[0m\u001b[0;34m[\u001b[0m\u001b[0mnew_arg_name\u001b[0m\u001b[0;34m]\u001b[0m \u001b[0;34m=\u001b[0m \u001b[0mnew_arg_value\u001b[0m\u001b[0;34m\u001b[0m\u001b[0m\n\u001b[0;32m--> 118\u001b[0;31m             \u001b[0;32mreturn\u001b[0m \u001b[0mfunc\u001b[0m\u001b[0;34m(\u001b[0m\u001b[0;34m*\u001b[0m\u001b[0margs\u001b[0m\u001b[0;34m,\u001b[0m \u001b[0;34m**\u001b[0m\u001b[0mkwargs\u001b[0m\u001b[0;34m)\u001b[0m\u001b[0;34m\u001b[0m\u001b[0m\n\u001b[0m\u001b[1;32m    119\u001b[0m         \u001b[0;32mreturn\u001b[0m \u001b[0mwrapper\u001b[0m\u001b[0;34m\u001b[0m\u001b[0m\n\u001b[1;32m    120\u001b[0m     \u001b[0;32mreturn\u001b[0m \u001b[0m_deprecate_kwarg\u001b[0m\u001b[0;34m\u001b[0m\u001b[0m\n",
      "\u001b[0;32m/usr/local/lib/python3.6/site-packages/pandas/core/generic.py\u001b[0m in \u001b[0;36mastype\u001b[0;34m(self, dtype, copy, errors, **kwargs)\u001b[0m\n\u001b[1;32m   4002\u001b[0m         \u001b[0;31m# else, only a single dtype is given\u001b[0m\u001b[0;34m\u001b[0m\u001b[0;34m\u001b[0m\u001b[0m\n\u001b[1;32m   4003\u001b[0m         new_data = self._data.astype(dtype=dtype, copy=copy, errors=errors,\n\u001b[0;32m-> 4004\u001b[0;31m                                      **kwargs)\n\u001b[0m\u001b[1;32m   4005\u001b[0m         \u001b[0;32mreturn\u001b[0m \u001b[0mself\u001b[0m\u001b[0;34m.\u001b[0m\u001b[0m_constructor\u001b[0m\u001b[0;34m(\u001b[0m\u001b[0mnew_data\u001b[0m\u001b[0;34m)\u001b[0m\u001b[0;34m.\u001b[0m\u001b[0m__finalize__\u001b[0m\u001b[0;34m(\u001b[0m\u001b[0mself\u001b[0m\u001b[0;34m)\u001b[0m\u001b[0;34m\u001b[0m\u001b[0m\n\u001b[1;32m   4006\u001b[0m \u001b[0;34m\u001b[0m\u001b[0m\n",
      "\u001b[0;32m/usr/local/lib/python3.6/site-packages/pandas/core/internals.py\u001b[0m in \u001b[0;36mastype\u001b[0;34m(self, dtype, **kwargs)\u001b[0m\n\u001b[1;32m   3460\u001b[0m \u001b[0;34m\u001b[0m\u001b[0m\n\u001b[1;32m   3461\u001b[0m     \u001b[0;32mdef\u001b[0m \u001b[0mastype\u001b[0m\u001b[0;34m(\u001b[0m\u001b[0mself\u001b[0m\u001b[0;34m,\u001b[0m \u001b[0mdtype\u001b[0m\u001b[0;34m,\u001b[0m \u001b[0;34m**\u001b[0m\u001b[0mkwargs\u001b[0m\u001b[0;34m)\u001b[0m\u001b[0;34m:\u001b[0m\u001b[0;34m\u001b[0m\u001b[0m\n\u001b[0;32m-> 3462\u001b[0;31m         \u001b[0;32mreturn\u001b[0m \u001b[0mself\u001b[0m\u001b[0;34m.\u001b[0m\u001b[0mapply\u001b[0m\u001b[0;34m(\u001b[0m\u001b[0;34m'astype'\u001b[0m\u001b[0;34m,\u001b[0m \u001b[0mdtype\u001b[0m\u001b[0;34m=\u001b[0m\u001b[0mdtype\u001b[0m\u001b[0;34m,\u001b[0m \u001b[0;34m**\u001b[0m\u001b[0mkwargs\u001b[0m\u001b[0;34m)\u001b[0m\u001b[0;34m\u001b[0m\u001b[0m\n\u001b[0m\u001b[1;32m   3463\u001b[0m \u001b[0;34m\u001b[0m\u001b[0m\n\u001b[1;32m   3464\u001b[0m     \u001b[0;32mdef\u001b[0m \u001b[0mconvert\u001b[0m\u001b[0;34m(\u001b[0m\u001b[0mself\u001b[0m\u001b[0;34m,\u001b[0m \u001b[0;34m**\u001b[0m\u001b[0mkwargs\u001b[0m\u001b[0;34m)\u001b[0m\u001b[0;34m:\u001b[0m\u001b[0;34m\u001b[0m\u001b[0m\n",
      "\u001b[0;32m/usr/local/lib/python3.6/site-packages/pandas/core/internals.py\u001b[0m in \u001b[0;36mapply\u001b[0;34m(self, f, axes, filter, do_integrity_check, consolidate, **kwargs)\u001b[0m\n\u001b[1;32m   3327\u001b[0m \u001b[0;34m\u001b[0m\u001b[0m\n\u001b[1;32m   3328\u001b[0m             \u001b[0mkwargs\u001b[0m\u001b[0;34m[\u001b[0m\u001b[0;34m'mgr'\u001b[0m\u001b[0;34m]\u001b[0m \u001b[0;34m=\u001b[0m \u001b[0mself\u001b[0m\u001b[0;34m\u001b[0m\u001b[0m\n\u001b[0;32m-> 3329\u001b[0;31m             \u001b[0mapplied\u001b[0m \u001b[0;34m=\u001b[0m \u001b[0mgetattr\u001b[0m\u001b[0;34m(\u001b[0m\u001b[0mb\u001b[0m\u001b[0;34m,\u001b[0m \u001b[0mf\u001b[0m\u001b[0;34m)\u001b[0m\u001b[0;34m(\u001b[0m\u001b[0;34m**\u001b[0m\u001b[0mkwargs\u001b[0m\u001b[0;34m)\u001b[0m\u001b[0;34m\u001b[0m\u001b[0m\n\u001b[0m\u001b[1;32m   3330\u001b[0m             \u001b[0mresult_blocks\u001b[0m \u001b[0;34m=\u001b[0m \u001b[0m_extend_blocks\u001b[0m\u001b[0;34m(\u001b[0m\u001b[0mapplied\u001b[0m\u001b[0;34m,\u001b[0m \u001b[0mresult_blocks\u001b[0m\u001b[0;34m)\u001b[0m\u001b[0;34m\u001b[0m\u001b[0m\n\u001b[1;32m   3331\u001b[0m \u001b[0;34m\u001b[0m\u001b[0m\n",
      "\u001b[0;32m/usr/local/lib/python3.6/site-packages/pandas/core/internals.py\u001b[0m in \u001b[0;36mastype\u001b[0;34m(self, dtype, copy, errors, values, **kwargs)\u001b[0m\n\u001b[1;32m    542\u001b[0m     \u001b[0;32mdef\u001b[0m \u001b[0mastype\u001b[0m\u001b[0;34m(\u001b[0m\u001b[0mself\u001b[0m\u001b[0;34m,\u001b[0m \u001b[0mdtype\u001b[0m\u001b[0;34m,\u001b[0m \u001b[0mcopy\u001b[0m\u001b[0;34m=\u001b[0m\u001b[0;32mFalse\u001b[0m\u001b[0;34m,\u001b[0m \u001b[0merrors\u001b[0m\u001b[0;34m=\u001b[0m\u001b[0;34m'raise'\u001b[0m\u001b[0;34m,\u001b[0m \u001b[0mvalues\u001b[0m\u001b[0;34m=\u001b[0m\u001b[0;32mNone\u001b[0m\u001b[0;34m,\u001b[0m \u001b[0;34m**\u001b[0m\u001b[0mkwargs\u001b[0m\u001b[0;34m)\u001b[0m\u001b[0;34m:\u001b[0m\u001b[0;34m\u001b[0m\u001b[0m\n\u001b[1;32m    543\u001b[0m         return self._astype(dtype, copy=copy, errors=errors, values=values,\n\u001b[0;32m--> 544\u001b[0;31m                             **kwargs)\n\u001b[0m\u001b[1;32m    545\u001b[0m \u001b[0;34m\u001b[0m\u001b[0m\n\u001b[1;32m    546\u001b[0m     def _astype(self, dtype, copy=False, errors='raise', values=None,\n",
      "\u001b[0;32m/usr/local/lib/python3.6/site-packages/pandas/core/internals.py\u001b[0m in \u001b[0;36m_astype\u001b[0;34m(self, dtype, copy, errors, values, klass, mgr, **kwargs)\u001b[0m\n\u001b[1;32m    623\u001b[0m \u001b[0;34m\u001b[0m\u001b[0m\n\u001b[1;32m    624\u001b[0m                 \u001b[0;31m# _astype_nansafe works fine with 1-d only\u001b[0m\u001b[0;34m\u001b[0m\u001b[0;34m\u001b[0m\u001b[0m\n\u001b[0;32m--> 625\u001b[0;31m                 \u001b[0mvalues\u001b[0m \u001b[0;34m=\u001b[0m \u001b[0mastype_nansafe\u001b[0m\u001b[0;34m(\u001b[0m\u001b[0mvalues\u001b[0m\u001b[0;34m.\u001b[0m\u001b[0mravel\u001b[0m\u001b[0;34m(\u001b[0m\u001b[0;34m)\u001b[0m\u001b[0;34m,\u001b[0m \u001b[0mdtype\u001b[0m\u001b[0;34m,\u001b[0m \u001b[0mcopy\u001b[0m\u001b[0;34m=\u001b[0m\u001b[0;32mTrue\u001b[0m\u001b[0;34m)\u001b[0m\u001b[0;34m\u001b[0m\u001b[0m\n\u001b[0m\u001b[1;32m    626\u001b[0m                 \u001b[0mvalues\u001b[0m \u001b[0;34m=\u001b[0m \u001b[0mvalues\u001b[0m\u001b[0;34m.\u001b[0m\u001b[0mreshape\u001b[0m\u001b[0;34m(\u001b[0m\u001b[0mself\u001b[0m\u001b[0;34m.\u001b[0m\u001b[0mshape\u001b[0m\u001b[0;34m)\u001b[0m\u001b[0;34m\u001b[0m\u001b[0m\n\u001b[1;32m    627\u001b[0m \u001b[0;34m\u001b[0m\u001b[0m\n",
      "\u001b[0;32m/usr/local/lib/python3.6/site-packages/pandas/core/dtypes/cast.py\u001b[0m in \u001b[0;36mastype_nansafe\u001b[0;34m(arr, dtype, copy)\u001b[0m\n\u001b[1;32m    690\u001b[0m     \u001b[0;32melif\u001b[0m \u001b[0marr\u001b[0m\u001b[0;34m.\u001b[0m\u001b[0mdtype\u001b[0m \u001b[0;34m==\u001b[0m \u001b[0mnp\u001b[0m\u001b[0;34m.\u001b[0m\u001b[0mobject_\u001b[0m \u001b[0;32mand\u001b[0m \u001b[0mnp\u001b[0m\u001b[0;34m.\u001b[0m\u001b[0missubdtype\u001b[0m\u001b[0;34m(\u001b[0m\u001b[0mdtype\u001b[0m\u001b[0;34m.\u001b[0m\u001b[0mtype\u001b[0m\u001b[0;34m,\u001b[0m \u001b[0mnp\u001b[0m\u001b[0;34m.\u001b[0m\u001b[0minteger\u001b[0m\u001b[0;34m)\u001b[0m\u001b[0;34m:\u001b[0m\u001b[0;34m\u001b[0m\u001b[0m\n\u001b[1;32m    691\u001b[0m         \u001b[0;31m# work around NumPy brokenness, #1987\u001b[0m\u001b[0;34m\u001b[0m\u001b[0;34m\u001b[0m\u001b[0m\n\u001b[0;32m--> 692\u001b[0;31m         \u001b[0;32mreturn\u001b[0m \u001b[0mlib\u001b[0m\u001b[0;34m.\u001b[0m\u001b[0mastype_intsafe\u001b[0m\u001b[0;34m(\u001b[0m\u001b[0marr\u001b[0m\u001b[0;34m.\u001b[0m\u001b[0mravel\u001b[0m\u001b[0;34m(\u001b[0m\u001b[0;34m)\u001b[0m\u001b[0;34m,\u001b[0m \u001b[0mdtype\u001b[0m\u001b[0;34m)\u001b[0m\u001b[0;34m.\u001b[0m\u001b[0mreshape\u001b[0m\u001b[0;34m(\u001b[0m\u001b[0marr\u001b[0m\u001b[0;34m.\u001b[0m\u001b[0mshape\u001b[0m\u001b[0;34m)\u001b[0m\u001b[0;34m\u001b[0m\u001b[0m\n\u001b[0m\u001b[1;32m    693\u001b[0m \u001b[0;34m\u001b[0m\u001b[0m\n\u001b[1;32m    694\u001b[0m     \u001b[0;32mif\u001b[0m \u001b[0mdtype\u001b[0m\u001b[0;34m.\u001b[0m\u001b[0mname\u001b[0m \u001b[0;32min\u001b[0m \u001b[0;34m(\u001b[0m\u001b[0;34m\"datetime64\"\u001b[0m\u001b[0;34m,\u001b[0m \u001b[0;34m\"timedelta64\"\u001b[0m\u001b[0;34m)\u001b[0m\u001b[0;34m:\u001b[0m\u001b[0;34m\u001b[0m\u001b[0m\n",
      "\u001b[0;32mpandas/_libs/lib.pyx\u001b[0m in \u001b[0;36mpandas._libs.lib.astype_intsafe\u001b[0;34m()\u001b[0m\n",
      "\u001b[0;32mpandas/_libs/src/util.pxd\u001b[0m in \u001b[0;36mutil.set_value_at_unsafe\u001b[0;34m()\u001b[0m\n",
      "\u001b[0;31mValueError\u001b[0m: invalid literal for int() with base 10: '1,790'"
     ]
    }
   ],
   "source": [
    "home_data.Area = home_data.Area.astype(int)"
   ]
  },
  {
   "cell_type": "markdown",
   "metadata": {},
   "source": [
    "The exception message indicates that some of the values contain commas. Before continuing, note the following."
   ]
  },
  {
   "cell_type": "code",
   "execution_count": 165,
   "metadata": {},
   "outputs": [
    {
     "data": {
      "text/plain": [
       "defaultdict(int, {int: 81686, str: 5817})"
      ]
     },
     "execution_count": 165,
     "metadata": {},
     "output_type": "execute_result"
    }
   ],
   "source": [
    "from collections import defaultdict\n",
    "\n",
    "types = defaultdict(int)\n",
    "for value in home_data.Area:\n",
    "    value_type = type(value)\n",
    "    types[value_type] += 1\n",
    "\n",
    "types"
   ]
  },
  {
   "cell_type": "markdown",
   "metadata": {},
   "source": [
    "The `Area` data contains some data stored as integers and other data stored as strings.  The number of strings corresponds to the number of entries from Licking country so the area data was likely stored with commas in that dataset.  To resolve this we can iterate through each row and, if the data is a string, remove any commas and convert to an integer. To iterate through the rows of a DataFrame we can use *iterrows()*."
   ]
  },
  {
   "cell_type": "code",
   "execution_count": 167,
   "metadata": {},
   "outputs": [],
   "source": [
    "for index, row in home_data.iterrows():\n",
    "    if isinstance(row.Area, str):\n",
    "        new_value = int(row.Area.replace(\",\", ''))\n",
    "        home_data.loc[index, 'Area'] = new_value"
   ]
  },
  {
   "cell_type": "markdown",
   "metadata": {},
   "source": [
    "Iterating through the DataFrame row by row can be slow and should generally be avoided.  An alternative approach is to create function that would handle one value at a time and use the DataFrame's [*apply()*](https://pandas.pydata.org/pandas-docs/stable/generated/pandas.DataFrame.apply.html) method.\n",
    "\n",
    "Let's look at the data types for each column now."
   ]
  },
  {
   "cell_type": "code",
   "execution_count": 169,
   "metadata": {},
   "outputs": [
    {
     "data": {
      "text/plain": [
       "AirConditioning         bool\n",
       "AppraisedBuilding    float64\n",
       "AppraisedLand        float64\n",
       "Area                   int64\n",
       "Bathrooms            float64\n",
       "Bedrooms             float64\n",
       "County                object\n",
       "Fireplaces           float64\n",
       "Heat                    bool\n",
       "Rooms                float64\n",
       "SalePrice            float64\n",
       "YearBuilt            float64\n",
       "dtype: object"
      ]
     },
     "execution_count": 169,
     "metadata": {},
     "output_type": "execute_result"
    }
   ],
   "source": [
    "home_data.dtypes"
   ]
  },
  {
   "cell_type": "markdown",
   "metadata": {},
   "source": [
    "Now that we've correct the data type for `Area`, lets"
   ]
  },
  {
   "cell_type": "code",
   "execution_count": null,
   "metadata": {},
   "outputs": [],
   "source": [
    "from sqlalchemy import create_engine\n",
    "engine = create_engine('sqlite:///data/output.sqlite')\n",
    "home_data.to_sql(\"home_data\", con=engine, if_exists='replace')"
   ]
  },
  {
   "cell_type": "markdown",
   "metadata": {},
   "source": [
    "## Joining Related Datasets"
   ]
  },
  {
   "cell_type": "code",
   "execution_count": null,
   "metadata": {},
   "outputs": [],
   "source": [
    "# join dataframes\n",
    "epa_data = pd.read_csv(\"./data/02-vehicles.csv\")"
   ]
  },
  {
   "cell_type": "code",
   "execution_count": null,
   "metadata": {},
   "outputs": [],
   "source": [
    "from IPython.display import HTML\n",
    "HTML(filename=\"./data/02-vehicles-description.html\")"
   ]
  },
  {
   "cell_type": "code",
   "execution_count": null,
   "metadata": {},
   "outputs": [],
   "source": [
    "epa_data.head()"
   ]
  },
  {
   "cell_type": "code",
   "execution_count": null,
   "metadata": {},
   "outputs": [],
   "source": [
    "sales = pd.read_csv(\"./data/02-vehicle-sales-norway.csv\", encoding=\"ISO-8859-1\")"
   ]
  },
  {
   "cell_type": "code",
   "execution_count": null,
   "metadata": {},
   "outputs": [],
   "source": [
    "sales.head()"
   ]
  },
  {
   "cell_type": "code",
   "execution_count": null,
   "metadata": {},
   "outputs": [],
   "source": [
    "sales.rename({\"Model\": \"MakeModel\"}, axis=1, inplace=True)"
   ]
  },
  {
   "cell_type": "code",
   "execution_count": null,
   "metadata": {},
   "outputs": [],
   "source": [
    "# could iterate, should use apply - faster for non-python\n",
    "def remove_make(row):\n",
    "    make = row['Make']\n",
    "    make_model = row['MakeModel']\n",
    "    return make_model.replace(make, \"\").strip()\n",
    "    \n",
    "sales[\"Model\"] = sales.apply(remove_make, axis=1)"
   ]
  },
  {
   "cell_type": "code",
   "execution_count": null,
   "metadata": {},
   "outputs": [],
   "source": [
    "sales.head()"
   ]
  },
  {
   "cell_type": "code",
   "execution_count": null,
   "metadata": {},
   "outputs": [],
   "source": [
    "sales.rename({col: col.lower() for col in sales.columns},\n",
    "             axis=1, inplace=True)"
   ]
  },
  {
   "cell_type": "code",
   "execution_count": null,
   "metadata": {},
   "outputs": [],
   "source": [
    "epa_data.merge(sales, on=[\"year\", \"make\", \"model\"])"
   ]
  },
  {
   "cell_type": "code",
   "execution_count": null,
   "metadata": {},
   "outputs": [],
   "source": [
    "def strip_lower(x):\n",
    "    return x.strip().lower()"
   ]
  },
  {
   "cell_type": "code",
   "execution_count": null,
   "metadata": {},
   "outputs": [],
   "source": [
    "epa_models = set(strip_lower(model) for model in epa_data.model)\n",
    "sales_models = set(strip_lower(model) for model in sales.model)\n",
    "epa_models.intersection(sales_models)"
   ]
  },
  {
   "cell_type": "code",
   "execution_count": null,
   "metadata": {},
   "outputs": [],
   "source": [
    "epa_makes = set(strip_lower(make) for make in epa_data.make)\n",
    "sales_makes = set(strip_lower(make) for make in sales.make)\n",
    "epa_makes.intersection(sales_makes)"
   ]
  },
  {
   "cell_type": "code",
   "execution_count": null,
   "metadata": {},
   "outputs": [],
   "source": [
    "set(epa_data.year).intersection(set(sales.year))"
   ]
  },
  {
   "cell_type": "code",
   "execution_count": null,
   "metadata": {},
   "outputs": [],
   "source": [
    "epa_data.make = epa_data.make.apply(strip_lower)\n",
    "epa_data.model = epa_data.model.apply(strip_lower)"
   ]
  },
  {
   "cell_type": "code",
   "execution_count": null,
   "metadata": {},
   "outputs": [],
   "source": [
    "sales.make = sales.make.apply(strip_lower)\n",
    "sales.model = sales.model.apply(strip_lower)"
   ]
  },
  {
   "cell_type": "code",
   "execution_count": null,
   "metadata": {},
   "outputs": [],
   "source": [
    "epa_sales = epa_data.merge(sales, on=[\"year\", \"make\", \"model\"])"
   ]
  },
  {
   "cell_type": "code",
   "execution_count": null,
   "metadata": {},
   "outputs": [],
   "source": [
    "epa_sales.head()"
   ]
  },
  {
   "cell_type": "code",
   "execution_count": null,
   "metadata": {},
   "outputs": [],
   "source": [
    "epa_sales.describe()"
   ]
  },
  {
   "cell_type": "code",
   "execution_count": null,
   "metadata": {},
   "outputs": [],
   "source": [
    "epa_sales.to_sql(\"epa_sales\", con=engine, if_exists='replace')"
   ]
  },
  {
   "cell_type": "markdown",
   "metadata": {},
   "source": [
    "## Lab Answers\n",
    "\n",
    "1.  ```python\n",
    "    franklin.PROPTYP.unique()\n",
    "    ``` \n",
    "\n",
    "    or \n",
    "\n",
    "    ```python\n",
    "    franklin.PROPTYP.value_counts()\n",
    "    ```\n",
    "2. ```python\n",
    "   len(franklin_subset) < len(franklin)\n",
    "   ```\n",
    "   \n",
    "3. ```python\n",
    "   franklin_subset['APPRLND'] = franklin_subset.APPRLND.astype(int)\n",
    "   franklin_subset = franklin_subset[franklin_subset.APPRLND > 0]\n",
    "   ```\n",
    "   \n",
    "4. ```python\n",
    "   franklin_subset[['BATHS', 'HBATHS']].dtypes\n",
    "   ```\n",
    "   \n",
    "5. ```python\n",
    "   franklin_subset.drop(['BATHS', \"HBATHS\"], axis=1, inplace=True)\n",
    "   ```\n",
    "   \n",
    "6. ```python\n",
    "   franklin_subset.FIREPLC = franklin_subset.FIREPLC.fillna(value=0)\n",
    "   ```\n",
    "   \n",
    "   or\n",
    "   \n",
    "   ```python\n",
    "   franklin_subset.FIREPLC.fillna(value=0, inplace=True)\n",
    "   ```\n",
    "   \n",
    "7. ```python\n",
    "   home_data.columns\n",
    "   ```\n",
    "   \n",
    "8. ```python\n",
    "   display(typical_line.count(\";\"))\n",
    "   display(error_line.count(\";\"))\n",
    "   ```\n",
    "   \n",
    "9. ```python\n",
    "   [column for column in licking.columns if \"area\" in column.lower()]\n",
    "   ```\n",
    "   \n",
    "10. ```python\n",
    "    licking_subset['Bathrooms'] = (licking_subset.fldFullBaths.fillna(0) + \n",
    "                                   0.5 * licking_subset.fldHalfBaths.fillna(0) + \n",
    "                                   0.25 * licking_subset.fldOtherBaths.fillna(0))\n",
    "   licking_subset.drop([\"fldFullBaths\", \"fldHalfBaths\", \"fldOtherBaths\"], axis=1, inplace=True)\n",
    "    ```\n",
    "    \n",
    "11. ```python\n",
    "    licking_subset.fldCooling = licking_subset.fldCooling == \"Central\"\n",
    "    ```\n",
    "    \n",
    "12. ```python\n",
    "    fairfield_subset[fairfield_subset.HEAT == ''].head()\n",
    "    ```\n",
    "    \n",
    "13. ```python\n",
    "    fairfield_subset.rename(\n",
    "        {'APRLAND': 'AppraisedLand',\n",
    "         'APRBLDG': 'AppraisedBuilding',\n",
    "         'PRICE': 'SalePrice',\n",
    "         'SFLA': 'Area', \n",
    "         'RMTOT':'Rooms',\n",
    "         'RMBED':'Bedrooms',\n",
    "         'HEAT': 'Heat',\n",
    "         'YRBLT': 'YearBuilt'\n",
    "        },\n",
    "        axis=1 ,\n",
    "        inplace=True\n",
    "    )\n",
    "    ```\n",
    "\n",
    "## Next Steps\n",
    "\n",
    "## Resources\n",
    "\n",
    "- [GeoPandas](http://geopandas.org/)"
   ]
  },
  {
   "cell_type": "code",
   "execution_count": null,
   "metadata": {},
   "outputs": [],
   "source": []
  }
 ],
 "metadata": {
  "kernelspec": {
   "display_name": "Python 3",
   "language": "python",
   "name": "python3"
  },
  "language_info": {
   "codemirror_mode": {
    "name": "ipython",
    "version": 3
   },
   "file_extension": ".py",
   "mimetype": "text/x-python",
   "name": "python",
   "nbconvert_exporter": "python",
   "pygments_lexer": "ipython3",
   "version": "3.6.4"
  }
 },
 "nbformat": 4,
 "nbformat_minor": 2
}
