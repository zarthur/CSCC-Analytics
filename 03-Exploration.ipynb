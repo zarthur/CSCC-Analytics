{
 "cells": [
  {
   "cell_type": "markdown",
   "metadata": {},
   "source": [
    "# Unit 3: Exploratory Analysis\n",
    "\n",
    "## Contents\n",
    "\n",
    "* [Contents](#Contents)\n",
    "* [Getting Started](#Getting-Started)\n",
    "* [Selecting Data with Pandas](#Selecting-Data-with-Pandas)\n",
    "* [Exploring a Dataset](#Exploring-a-Dataset)\n",
    "    * [Histograms](#Histograms)\n",
    "    * [Scatter Plots](#Scatter-Plots)\n",
    "    * [Pair Plots: Histograms and Scatter Plots](#Pair-Plots:-Histograms-and-Scatter-Plots)\n",
    "    * [Categorical Data](#Categorical-Data)\n",
    "    * [Plotting Numerical Data with Categorical Data](#Plotting-Numerical-Data-with-Categorical-Data)\n",
    "    * [Box Plots](#Box-Plots)\n",
    "    * [Pivot Tables](#Pivot-Tables)\n",
    "* [Lab Answers](#Lab-Answers)\n",
    "* [Next Steps](#Next-Steps)\n",
    "* [Resources and Further Reading](#Resources-and-Further-Reading)\n",
    "* [Exercises](#Exercises)\n",
    "\n",
    "### Lab Questions\n",
    "\n",
    "[1](#Lab-1), [2](#Lab-2), [3](#Lab-3), [4](#Lab-4), [5](#Lab-5), [6](#Lab-6), [7](#Lab-7), [8](#Lab-8), [9](#Lab-9),  [10](#Lab-10)\n",
    "\n",
    "## Getting Started\n",
    "\n",
    "With some data loaded and cleaned, we can begin to look at it more closely and see if we can identify any trends or relationships.  To do this, we can rely on both quantitative methods such as the calculation and analysis of descriptive statistics as well as qualitative methods such as plotting. We'll rely on methods in pandas to calculate descriptive statistics. We'll rely on [Matplotlib](https://matplotlib.org/) and [Seaborn] for plotting(https://seaborn.pydata.org/). Matplotlib is a popular plotting library capable of producing [many different types of plots](https://matplotlib.org/gallery/index.html). Seaborn provides a simpler way of creating many of the plots commonly associated with data analysis and typically produces [nicer looking plots](https://seaborn.pydata.org/examples/index.html).\n",
    "\n",
    "To use Seaborn, we'll make sure it is installed with `pip`.\n"
   ]
  },
  {
   "cell_type": "code",
   "execution_count": null,
   "metadata": {},
   "outputs": [],
   "source": [
    "!pip install seaborn"
   ]
  },
  {
   "cell_type": "markdown",
   "metadata": {},
   "source": [
    "We'll be creating plots in this notebook.  Before importing any modules, we should indicate to the notebook software how we would like to handle plots.  We can use the [`%matplotlib`](https://ipython.readthedocs.io/en/stable/interactive/magics.html#magic-matplotlib) magic command and `inline` to indicate that we would like plot to appear as static images in the notebook."
   ]
  },
  {
   "cell_type": "code",
   "execution_count": null,
   "metadata": {},
   "outputs": [],
   "source": [
    "%matplotlib inline"
   ]
  },
  {
   "cell_type": "markdown",
   "metadata": {},
   "source": [
    "With Seaborn installed, we can start importing modules for use in the notebook. Just as we followed convention and imported pandas as `pd`, we will import the Seaborn library as `sns`.  \n",
    "\n",
    "Following the import, we can set the appropriate pandas option to display 100 columns at a time. We can use the Searborn `set()` function to control figure size and the size of marker edges. Setting marker edges allows us to see outliers when working with box plots that would otherwise be invisible due to a bug in Matplotlib and Seaborn. "
   ]
  },
  {
   "cell_type": "code",
   "execution_count": null,
   "metadata": {},
   "outputs": [],
   "source": [
    "import pandas as pd\n",
    "import seaborn as sns\n",
    "\n",
    "sns.set(rc={'figure.figsize': (12, 10), \"lines.markeredgewidth\": 0.5 })"
   ]
  },
  {
   "cell_type": "markdown",
   "metadata": {},
   "source": [
    "## Selecting Data with Pandas"
   ]
  },
  {
   "cell_type": "markdown",
   "metadata": {},
   "source": [
    "In this unit we'll continue to work with panda's Series and DataFrames to store and manipulate data.  As part of that work, we'll be interested in examining parts of a larger DataFrame.  A common way to select a subset of DataFrame is through the use of masks and filters - this is something we've already done.  For example, consider the following DataFrame."
   ]
  },
  {
   "cell_type": "code",
   "execution_count": null,
   "metadata": {},
   "outputs": [],
   "source": [
    "employees = pd.DataFrame(\n",
    "    [\n",
    "        ('John', 'Marketing', '123 Main St', 'Columbus', 'OH', 3),\n",
    "        ('Jane', 'HR', '456 High Ave', 'Columbus', 'OH', 7),\n",
    "        ('Bob',  'HR', '152 Market Rd', 'Cleveland', 'OH', 4),\n",
    "        ('Sue', 'Marketing', '729 Green Blvd', 'Cleveland', 'OH', 8),\n",
    "        ('Tom', 'IT', '314 Oak Dr', 'Cincinnati', 'OH', 11),\n",
    "        ('Kate', 'IT', '841 Elm Ln', 'Cincinnati', 'OH', 2)\n",
    "    ],\n",
    "    columns = (\"name\", \"department\", \"address\", \n",
    "               \"city\", \"state\", \"years_with_company\")\n",
    ")\n",
    "\n",
    "display(employees)"
   ]
  },
  {
   "cell_type": "markdown",
   "metadata": {},
   "source": [
    "If we want to work with a specific subset of the data, say only those employees that are in Columbus, we could use the mask `employees.city == 'Columbus'` to filter the data."
   ]
  },
  {
   "cell_type": "code",
   "execution_count": null,
   "metadata": {},
   "outputs": [],
   "source": [
    "employees[employees.city == 'Columbus']"
   ]
  },
  {
   "cell_type": "markdown",
   "metadata": {},
   "source": [
    "Pandas offers an alternative [*query()* method](https://pandas.pydata.org/pandas-docs/stable/indexing.html#indexing-query) for selecting data that allows us to write statements that similar to standard Python syntax. For example, *query()* can be used to select only those employees in Columbus."
   ]
  },
  {
   "cell_type": "code",
   "execution_count": null,
   "metadata": {},
   "outputs": [],
   "source": [
    "employees.query('city == \"Columbus\"')"
   ]
  },
  {
   "cell_type": "markdown",
   "metadata": {},
   "source": [
    "The argument we provide the *query()* method is a string that indicates the data we'd like extract from the original DataFame.  When comparing string values, we have to to be sure to enclose the inner string in different quotes than the query itself.  \n",
    "\n",
    "Compare the following which both return data for employees that have been with the company for more than 4 years."
   ]
  },
  {
   "cell_type": "code",
   "execution_count": null,
   "metadata": {},
   "outputs": [],
   "source": [
    "employees[employees.years_with_company > 4]"
   ]
  },
  {
   "cell_type": "code",
   "execution_count": null,
   "metadata": {},
   "outputs": [],
   "source": [
    "employees.query('years_with_company > 4')"
   ]
  },
  {
   "cell_type": "markdown",
   "metadata": {},
   "source": [
    "So far there doesn't seem to be much of an advantage to one method over the other.  A benefit to using *query()* becomes apparent when our conditions become more complex.  Compare the two methods when we want to find staff that have been with the company for more than 4 years and live in either Cleveland or Columbus.  White space such as line returns and extra indentation has been added for clarity and is not required."
   ]
  },
  {
   "cell_type": "code",
   "execution_count": null,
   "metadata": {},
   "outputs": [],
   "source": [
    "employees[(employees.years_with_company > 4) &\n",
    "          ((employees.city == \"Cleveland\") | \n",
    "           (employees.city == \"Columbus\"))]\n"
   ]
  },
  {
   "cell_type": "code",
   "execution_count": null,
   "metadata": {},
   "outputs": [],
   "source": [
    "employees.query(\n",
    "    \"years_with_company > 4 and\"\n",
    "    \"(city == 'Cleveland' or \"\n",
    "    \" city == 'Columbus')\"\n",
    ")"
   ]
  },
  {
   "cell_type": "markdown",
   "metadata": {},
   "source": [
    "The argument supplied to the *query()* method is more concise and probably easier to read; generally, we write code with readability in mind as it is easier to share or understand later.  \n",
    "\n",
    "<hr>\n",
    "<a name=\"Lab-1\"></a><mark> **Lab 1** In the cell below, use the *query()* method to find all employees that live in Columbus and work for HR.\n",
    "</mark>"
   ]
  },
  {
   "cell_type": "code",
   "execution_count": null,
   "metadata": {},
   "outputs": [],
   "source": []
  },
  {
   "cell_type": "markdown",
   "metadata": {},
   "source": [
    "<hr>\n",
    "\n",
    "One potential advantage to the non-*query()* method is programmability.  As we write scripts, we often use variables to store values that will change and use the variables in our selection criteria.  For example, suppose we have a function that routinely allows different departments to find their staff with more than 4 years with the company."
   ]
  },
  {
   "cell_type": "code",
   "execution_count": null,
   "metadata": {},
   "outputs": [],
   "source": [
    "def senior_staff(dept):\n",
    "    # return only those employees in the \n",
    "    # specified department that have been\n",
    "    # with the company for more than 4 years\n",
    "    pass    "
   ]
  },
  {
   "cell_type": "markdown",
   "metadata": {},
   "source": [
    "Working with the notation we have been using, writing the function body the returns the correct result for a specified department is straightforward."
   ]
  },
  {
   "cell_type": "code",
   "execution_count": null,
   "metadata": {},
   "outputs": [],
   "source": [
    "def senior_staff(dept):\n",
    "    return employees[employees.department == dept]   \n",
    "\n",
    "senior_staff(\"IT\")"
   ]
  },
  {
   "cell_type": "markdown",
   "metadata": {},
   "source": [
    "Working with the *query()* method, there are multiple ways we can achieve the same result.  The method suggested by the pandas' documentation makes use of `@`.  We can reference existing variables in the query string in-line by prefixing their names with `@`."
   ]
  },
  {
   "cell_type": "code",
   "execution_count": null,
   "metadata": {},
   "outputs": [],
   "source": [
    "def senior_staff(dept):\n",
    "    return employees.query(\"department == @dept\")\n",
    "\n",
    "senior_staff(\"IT\")"
   ]
  },
  {
   "cell_type": "markdown",
   "metadata": {},
   "source": [
    "Both methods of selecting data have benefits and disadvantages.  We'll primarily use the method we've been working with but occasionally use *query()*."
   ]
  },
  {
   "cell_type": "markdown",
   "metadata": {},
   "source": [
    "## Exploring a Dataset"
   ]
  },
  {
   "cell_type": "markdown",
   "metadata": {},
   "source": [
    "Let's start with the EPA/Department of Energy fuel economy dataset set we looked at last time.  Often data cleaning, merging, and exploration are done together - data is cleaned as we examine it for relationships and trends and then the pertinent/interesting data is merged and stored for further analysis.  Though we cleaned and merged the fuel economy and vehicle sales data previously, lets start with the original datasets for this initial exploration.  \n",
    "\n",
    "We can load the data from the `./data/02-vehicles.csv` file using pandas' `read_csv()` function."
   ]
  },
  {
   "cell_type": "code",
   "execution_count": null,
   "metadata": {},
   "outputs": [],
   "source": [
    "epa_data = pd.read_csv(\"./data/02-vehicles.csv\", engine=\"python\")\n",
    "epa_data.head()"
   ]
  },
  {
   "cell_type": "markdown",
   "metadata": {},
   "source": [
    "We also have a summarized data description document for this data, we can display it with the `HTML` function in the `IPython.display` module."
   ]
  },
  {
   "cell_type": "code",
   "execution_count": null,
   "metadata": {},
   "outputs": [],
   "source": [
    "from IPython.display import HTML\n",
    "HTML(filename=\"./data/02-vehicles-description.html\")"
   ]
  },
  {
   "cell_type": "markdown",
   "metadata": {},
   "source": [
    "As part of our initial exploration, we'll attempt to catalog/categorize the values in the following columns and see if there are any relationships between pairs of them.\n",
    "\n",
    "- `city08`\n",
    "- `city08U`\n",
    "- `co2`\n",
    "- `c02TailpipeGpm`\n",
    "- `comb08`\n",
    "- `comb08U`\n",
    "- `cylinders`\n",
    "- `displ`\n",
    "- `fuelType1`\n",
    "- `highway08`\n",
    "- `highway08U`\n",
    "- `year`\n",
    "- `VClass`\n",
    "\n",
    "We'll also keep the following fields for each row.  \n",
    "\n",
    "- `make`\n",
    "- `model`\n",
    "\n",
    "<hr>\n",
    "<a name=\"Lab-2\"></a><mark> **Lab 2** In the cell below, create a copy of the `epa_data` DataFrame containing only the columns listed above.  Store the new DataFrame in a variable named `epa_subset`.  Use the *head()* method to confirm that the new DataFrame contains the correct column data.\n",
    "</mark>"
   ]
  },
  {
   "cell_type": "code",
   "execution_count": null,
   "metadata": {},
   "outputs": [],
   "source": []
  },
  {
   "cell_type": "markdown",
   "metadata": {},
   "source": [
    "<hr>\n",
    "\n",
    "As we've seen before, we can use the DataFrame *describe()* method to quickly calculate some discriptive statistics for each of the numeric columns in the dataframe.\n",
    "\n",
    "<hr>\n",
    "<a name=\"Lab-3\"></a><mark> **Lab 3** In the cell below, use the *describe()* method to calculate descriptive statistics for the numeric columns of `epa_subset`.\n",
    "</mark>"
   ]
  },
  {
   "cell_type": "code",
   "execution_count": null,
   "metadata": {},
   "outputs": [],
   "source": []
  },
  {
   "cell_type": "markdown",
   "metadata": {},
   "source": [
    "<hr>\n",
    "\n",
    "Let's look at one column to get an idea of what these values represent. According to the documentation, the `city08` column represnts the fuel economy for city driving with the primary fuel type.  The rows have the following meaning.\n",
    "\n",
    "- `count`: the number of non-null elements in the column; here there are 39,518 non-null values in the `city08` column\n",
    "- `mean`: the sum of all values divided by the number of values; the mean value for `city08` is 18.2 mpg.\n",
    "- `std`: the standard deviation - a measure of the variation of values within a collection, can be thought of as an \"average\" distance to the mean among all the values; the standard deviation of values in the `city08` column is 7.3 mpg.\n",
    "- `min` and `max`: the smallest and largest values, respectively; here we have 6.0 mpg and 150.0 mpg. \n",
    "- `25%`, `50%`, and `75%`: the quartile values that allow us to divide the data into four parts. The first quartile, 25%, corresponds to the value between the minimum and the median; 25% of values are less than this value.  The second quartile is the median, the middle most number among the values; 50% of values are less than the median and 50% of values are greater than the median. The third quartile represents the middle value between the median and the maximum; 25% of values are greater than this value. \n",
    "\n",
    "As we noted previously, *describe()* only display results for numeric columns.  For non-numeric columns, we might be interested in knowing about the data values and how often those values appear.  Below, we iterate through the columns of the DataFrame and if the the column is a string data we display the column name with the output from the *value_counts()* method."
   ]
  },
  {
   "cell_type": "code",
   "execution_count": null,
   "metadata": {},
   "outputs": [],
   "source": [
    "for column in epa_subset.columns:\n",
    "    if pd.api.types.is_string_dtype(epa_subset[column]):\n",
    "        display(column, epa_subset[column].value_counts())\n"
   ]
  },
  {
   "cell_type": "markdown",
   "metadata": {},
   "source": [
    "While having access to these results can be useful, we often rely on visualizations to help characterize data or provide insights into potential relationships.  Before generating visualizations, let's address some data quality issues.  First, we can remove duplicates. \n",
    "\n",
    "<hr>\n",
    "<a name=\"Lab-4\"></a><mark> **Lab 4** In the cell below, remove duplicate rows from the `epa_subset` DataFrame.\n",
    "</mark>"
   ]
  },
  {
   "cell_type": "code",
   "execution_count": null,
   "metadata": {},
   "outputs": [],
   "source": []
  },
  {
   "cell_type": "markdown",
   "metadata": {},
   "source": [
    "<hr>\n",
    "\n",
    "We'll also need to account for missing data - while some methods we'll use to explore the data are able to ignore missing values, other will fail and throw exceptions.\n",
    "\n",
    "From the code below we can see that the `cylinders` and `displ` columns are missing data."
   ]
  },
  {
   "cell_type": "code",
   "execution_count": null,
   "metadata": {},
   "outputs": [],
   "source": [
    "epa_subset.isna().sum()"
   ]
  },
  {
   "cell_type": "markdown",
   "metadata": {},
   "source": [
    "Let's see if we can identify any common properties for rows missing `cylinders` or `displ` data.  We can filter the DataFrame using a mask that corresponds to a row in which any column value is missing."
   ]
  },
  {
   "cell_type": "code",
   "execution_count": null,
   "metadata": {},
   "outputs": [],
   "source": [
    "epa_subset[epa_subset.isna().any(axis=1)].head()"
   ]
  },
  {
   "cell_type": "markdown",
   "metadata": {},
   "source": [
    "It looks like the rows with missing cylinder and displacement data correspond to electric vehicles.  This makes sense given the fact that electric vehicles do no have an internal combustion engine.  Let's refine the mask to exclude rows where `fuelType` is `Electricity`."
   ]
  },
  {
   "cell_type": "code",
   "execution_count": null,
   "metadata": {},
   "outputs": [],
   "source": [
    "epa_subset[(epa_subset.isna().any(axis=1)) & \n",
    "           (epa_subset.fuelType1 != 'Electricity')].head()"
   ]
  },
  {
   "cell_type": "markdown",
   "metadata": {},
   "source": [
    "It appears that these rows are anomalies and are simply missing data.\n",
    "\n",
    "Before continuing on, we'll remove rows with missing data."
   ]
  },
  {
   "cell_type": "code",
   "execution_count": null,
   "metadata": {},
   "outputs": [],
   "source": [
    "epa_subset.dropna(inplace=True)"
   ]
  },
  {
   "cell_type": "markdown",
   "metadata": {},
   "source": [
    "### Histograms"
   ]
  },
  {
   "cell_type": "markdown",
   "metadata": {},
   "source": [
    "To begin getting a higher-level picture of our data, we can use visualizations.  While we have some sense of the distribution of data values from the quartile information calculated by the *describe()* method, a [histograms](https://en.wikipedia.org/wiki/Histogram) can be used to visualize the date distribution.  \n",
    "\n",
    "Both pandas DataFrames and Series have *hist()* methods that can be used to plot histograms. This allows us to create a histogram for a specific column or for each column in a DataFrame with numeric values."
   ]
  },
  {
   "cell_type": "code",
   "execution_count": null,
   "metadata": {},
   "outputs": [],
   "source": [
    "epa_subset.city08.hist()"
   ]
  },
  {
   "cell_type": "markdown",
   "metadata": {},
   "source": [
    "The *hist()* method returns an `AxesSubplot` object that can be used to manipulate the plot - this is what the text above the plot refers to - we can ignore this now.\n",
    "\n",
    "From the plot we can see that most of the values are concentrated between 10 and 30 mpg.  We can also see that the distribution has a positive [skew](https://en.wikipedia.org/wiki/Skewness).  We can confirm this using the column's `skew()` method.  Similarly, we can calculate the [kurtosis](https://en.wikipedia.org/wiki/Kurtosis) using the *kurtosis()* method.\n",
    "\n",
    "<hr>\n",
    "<a name=\"Lab-5\"></a><mark> **Lab 5** Calculate and display the skew and kurtosis of the data in the `city08` column.\n",
    "</mark>\n"
   ]
  },
  {
   "cell_type": "code",
   "execution_count": null,
   "metadata": {},
   "outputs": [],
   "source": []
  },
  {
   "cell_type": "markdown",
   "metadata": {},
   "source": [
    "<hr>\n",
    "\n",
    "The pandas *hist()* method relies on Matplotlib and Seaborn to generate the plot. We can generate a histogram directly from Seaborn if we'd like. To do this, we can use the [*distplot()*](https://seaborn.pydata.org/generated/seaborn.distplot.html) function.  By default, the function generates a plot representing the probability distribution of observations rather than the count of values.  To generate a plot based on the count, we have to provide the `kde=False` argument. We can also specify `bins=10` for consistency with the previous plot."
   ]
  },
  {
   "cell_type": "code",
   "execution_count": null,
   "metadata": {},
   "outputs": [],
   "source": [
    "sns.distplot(epa_subset.city08, kde=False, bins=10)"
   ]
  },
  {
   "cell_type": "markdown",
   "metadata": {},
   "source": [
    "To generate the histograms for each of the numeric columns in the DataFrame, we can use the DataFrame's *hist()* method rather than the Series *hist()* method associated with an individual column."
   ]
  },
  {
   "cell_type": "code",
   "execution_count": null,
   "metadata": {},
   "outputs": [],
   "source": [
    "epa_subset.hist()"
   ]
  },
  {
   "cell_type": "markdown",
   "metadata": {},
   "source": [
    "Viewing the histograms allow us to see the distrubution of data for each column more quickly than looking at results of *describe()* or similar methods.  From a quick glance, we can see that there noticable differences between the values in `city08` and `city08U`. From the data documentation, we know that the `city08` column contains \"unrounded data\" but, when comparing the historgrams between the two columns, it apepars that the \"unrounded\" data contains more zero values."
   ]
  },
  {
   "cell_type": "markdown",
   "metadata": {},
   "source": [
    "### Scatter Plots"
   ]
  },
  {
   "cell_type": "markdown",
   "metadata": {},
   "source": [
    "While a histogram is useful to see how data is distributed for a signle column, we often would like to see if any relationships exist between two columns/variables.  We can compare the values of two columns directly using a scatter plot."
   ]
  },
  {
   "cell_type": "code",
   "execution_count": null,
   "metadata": {},
   "outputs": [],
   "source": [
    "epa_subset.plot.scatter(x=\"comb08U\", y=\"comb08\")"
   ]
  },
  {
   "cell_type": "markdown",
   "metadata": {},
   "source": [
    "Notice that there are rows in which `comb08U` has a value of zero but the value of `comb08` is non-zero.  Because it doesn't make sense to round zero to a non-zero value, it's reasonable to conclude that there is missing data for the unrounded values and zero was used as a placeholder. It might be the case that before some point in time only rounded values were stored.  To verify this, we can compare the values of both columns against the `year` data assuming measurements were made around the the time the vehicles were manufactured.\n",
    "\n",
    "<hr>\n",
    "<a name=\"Lab-06\"></a><mark> **Lab 6** In the cells below, verify that rounded values for combined fuel efficiency are available for earlier years compared to to unrounded values by creating two scatter plots. \n",
    "</mark>"
   ]
  },
  {
   "cell_type": "code",
   "execution_count": null,
   "metadata": {},
   "outputs": [],
   "source": []
  },
  {
   "cell_type": "code",
   "execution_count": null,
   "metadata": {},
   "outputs": [],
   "source": []
  },
  {
   "cell_type": "markdown",
   "metadata": {},
   "source": [
    "<hr>\n",
    "\n",
    "We can see that the `city08U`, `comb08U`, and `highway08U` columns have the same number of zero-valued entries, which supports the idea that unrounded data from earlier years isn't available."
   ]
  },
  {
   "cell_type": "code",
   "execution_count": null,
   "metadata": {},
   "outputs": [],
   "source": [
    "for column in [\"city08U\", \"comb08U\", \"highway08U\"]:\n",
    "    zeros = epa_subset[epa_subset[column] == 0]\n",
    "    display(column, len(zeros))"
   ]
  },
  {
   "cell_type": "markdown",
   "metadata": {},
   "source": [
    "With this in mind, we might choose to work with the rounded data if we wanted to work with a larger set of data including more historic data.  If there is a desire to work with unrounded values or we wish to examine only recent data, we could work with the unrounded values.  Having more historic data will be useful to us so we'll work with rounded data.\n",
    "\n",
    "Having a sense of the distribution of a single column's data is important but we're often interested in how one or more columns influence another column. When working with two columns, we often use scatter plots to asses potential relationships.  We can create a scatter plot for two columns as we did above when looking at rounded and unrounded data compared to years.  As another example, let's compare the values of `comb08`, the combined highway and city fuel efficiency in miles/gallon, and `co2`, the tailpipe CO2 emissions in grams/mile."
   ]
  },
  {
   "cell_type": "code",
   "execution_count": null,
   "metadata": {},
   "outputs": [],
   "source": [
    "epa_subset.plot.scatter(x=\"comb08\", y=\"co2\")"
   ]
  },
  {
   "cell_type": "markdown",
   "metadata": {},
   "source": [
    "Here we can see that there appears to be a relationship between fuel efficiency and carbon dioxide emissions - as fuel efficiency improves, emissions decrease.  We'll examine this relationship further in a later unit."
   ]
  },
  {
   "cell_type": "markdown",
   "metadata": {},
   "source": [
    "### Pair Plots: Histograms and Scatter Plots"
   ]
  },
  {
   "cell_type": "markdown",
   "metadata": {},
   "source": [
    "Just as it was helpful to be able to quickly visualize distribution data for each of the numeric columns in our dataset, we can use a [*pairplot*](https://seaborn.pydata.org/generated/seaborn.pairplot.html) to visualize the pairwise relationships between columns.  In the example below, we first further reduce the columns we'll examine then use the Seaborn *pairplot()* function to generate the pairwise scatter plots for those columns.  Note that when a column is paired with itself, the column's histogram is displayed."
   ]
  },
  {
   "cell_type": "code",
   "execution_count": null,
   "metadata": {},
   "outputs": [],
   "source": [
    "columns = [ \"co2\", \"comb08\", \"cylinders\", \"displ\"]\n",
    "sns.pairplot(epa_subset[columns])"
   ]
  },
  {
   "cell_type": "markdown",
   "metadata": {},
   "source": [
    "Notice that there is a form of symmetry to the plots with respect to the plots to the left and below the histograms and the plots to the right and above.  For example, the the second plot in the first row and the first plot in the second column both show the relationship between `co2` and `comb08` - the axis to which each variable corresponds differs but the relationship is the same.\n",
    "\n",
    "Using pair plots can help us quickly identify which columns or variables are dependent on other columns/variables.  \n",
    "\n",
    "The `co2`column contains quite a few values that appear to be zero but are -1 (as can be seen from the output of *describe()*.  Let's see what those are."
   ]
  },
  {
   "cell_type": "code",
   "execution_count": null,
   "metadata": {},
   "outputs": [],
   "source": [
    "epa_subset.query(\"co2 == -1\").head()"
   ]
  },
  {
   "cell_type": "markdown",
   "metadata": {},
   "source": [
    "Its not immediately clear what might be the reason for the carbon dioxide emissions having a value of -1 but we'll remove them for the remainder of our work."
   ]
  },
  {
   "cell_type": "code",
   "execution_count": null,
   "metadata": {},
   "outputs": [],
   "source": [
    "epa_subset = epa_subset.query('co2 >= 0')"
   ]
  },
  {
   "cell_type": "markdown",
   "metadata": {},
   "source": [
    "With that, let's look at the pair plots again."
   ]
  },
  {
   "cell_type": "code",
   "execution_count": null,
   "metadata": {},
   "outputs": [],
   "source": [
    "columns = [ \"co2\", \"comb08\", \"cylinders\", \"displ\"]\n",
    "sns.pairplot(epa_subset[columns])"
   ]
  },
  {
   "cell_type": "markdown",
   "metadata": {},
   "source": [
    "### Categorical Data"
   ]
  },
  {
   "cell_type": "markdown",
   "metadata": {},
   "source": [
    "While the examples above provide insight into numeric data, they don't tell us about columns that contain categorical data such as `VClass`. \n",
    "\n",
    "A typical method of visualizing categorical data is with a bar plot.  Both pandas and Seaborn provide methods of generating bar plots.\n",
    "\n",
    "For a given column in the DataFrame, the *value_counts()* method returns a Series.  Series, as we've seen before, have a *plot()* method.  We can explicitly create a bar chart using the `kind=bar` or `kind=barh` arguments to the *plot()* method for a vertical or horizontal bar chart, respectively."
   ]
  },
  {
   "cell_type": "code",
   "execution_count": null,
   "metadata": {},
   "outputs": [],
   "source": [
    "epa_subset.VClass.value_counts().plot(kind=\"bar\")"
   ]
  },
  {
   "cell_type": "markdown",
   "metadata": {},
   "source": [
    "The order of the categories is determined by the Series used to create the chart; because the results of *value_counts()* are ordered, the bars in the resulting plot are ordered.  \n",
    "\n",
    "We can create a similar plot using the Seaborn [*countplot()*](https://seaborn.pydata.org/generated/seaborn.countplot.html) function. To create a vertical bar chart, we can use the `x` keyword argument to specify source data; to create a horizontal bar chart, we can use the `y` keyword argument to specify the source data.  Below, we create a horizontal bar chart for the vehicle class data."
   ]
  },
  {
   "cell_type": "code",
   "execution_count": null,
   "metadata": {},
   "outputs": [],
   "source": [
    "sns.countplot(y=epa_subset.VClass)"
   ]
  },
  {
   "cell_type": "markdown",
   "metadata": {},
   "source": [
    "Notice that the data isn't ordered in the same way it was before; by default, categories are ordered based on when they appear in the source data.  To impose a different ordering, we can use the `order` keyword argument with the *countplot()* function.\n",
    "\n",
    "\n",
    "<hr>\n",
    "<a name=\"Lab-7\"></a><mark> **Lab 7** In the cell below, use the Seaborn *countplot()* function to generate a bar chart visualizing the counts for each of the vehicle classes in the `VClass` column.  Use the `order` keyword argument to order the categories based on the number of entries for each class.  Use the index from the series returned by the `value_counts()` method for ordering information. \n",
    "</mark>\n"
   ]
  },
  {
   "cell_type": "code",
   "execution_count": null,
   "metadata": {},
   "outputs": [],
   "source": []
  },
  {
   "cell_type": "markdown",
   "metadata": {},
   "source": [
    "<hr>\n",
    "\n",
    "As you look at these bar charts, you might notice that there are several vehicle class names that are similar to other classes, for example, \"Special Purpose Vehicles\" and \"Special Purpose Vehicle\". Listing the distinct vehicles alphabetically helps to see this better."
   ]
  },
  {
   "cell_type": "code",
   "execution_count": null,
   "metadata": {},
   "outputs": [],
   "source": [
    "sorted(epa_subset.VClass.unique().tolist())"
   ]
  },
  {
   "cell_type": "markdown",
   "metadata": {},
   "source": [
    "Let's clean this data a bit by replacing similar values with one value. In addition to combining categories with similar names, we'll combine two- and four-wheel drive vehicles into the category without an indication of drive and the different types of vans into the general van category. \n",
    "\n",
    "There are a variety of way of doing this.  A for-loop would work but, as mentioned previously, for-loops should be avoided.  An alternate way of replacing a column's values is through the use of the *apply()* method that we've used before.  We could use the [*map()*] method and supply a dictionary where the keys are correspond to current values in the column and the associated values represent the replacement data, but we have to provide a mapping for every column - even those we don't need to alter."
   ]
  },
  {
   "cell_type": "code",
   "execution_count": null,
   "metadata": {},
   "outputs": [],
   "source": [
    "vclass_map = {\n",
    "    'Minivan - 2WD': 'Minivan',\n",
    "    'Minivan - 4WD': 'Minivan',\n",
    "    'Small Pickup Trucks 2WD': 'Small Pickup Trucks',\n",
    "    'Small Pickup Trucks 4WD': 'Small Pickup Trucks',\n",
    "    'Small Sport Utility Vehicle 2WD': 'Small Sport Utility Vehicle',\n",
    "    'Small Sport Utility Vehicle 4WD': 'Small Sport Utility Vehicle',\n",
    "    'Special Purpose Vehicle': 'Special Purpose Vehicles',\n",
    "    'Special Purpose Vehicle 2WD': 'Special Purpose Vehicles',\n",
    "    'Special Purpose Vehicle 4WD': 'Special Purpose Vehicles',\n",
    "    'Special Purpose Vehicles/2wd': 'Special Purpose Vehicles',\n",
    "    'Special Purpose Vehicles/4wd': 'Special Purpose Vehicles',\n",
    "    'Sport Utility Vehicle - 2WD': 'Sport Utility Vehicle',\n",
    "    'Sport Utility Vehicle - 4WD': 'Sport Utility Vehicle',\n",
    "    'Standard Pickup Trucks 2WD': 'Standard Pickup Trucks', \n",
    "    'Standard Pickup Trucks 4WD': 'Standard Pickup Trucks',\n",
    "    'Standard Pickup Trucks/2wd': 'Standard Pickup Trucks',\n",
    "    'Standard Sport Utility Vehicle 2WD': 'Standard Sport Utility Vehicle',\n",
    "    'Standard Sport Utility Vehicle 4WD': 'Standard Sport Utility Vehicle',\n",
    "    'Vans Passenger': 'Vans',\n",
    "    'Vans, Cargo Type': 'Vans',\n",
    "    'Vans, Passenger Type': 'Vans'\n",
    "}\n",
    "    \n",
    "def replace(value):\n",
    "    if value in vclass_map:\n",
    "        return vclass_map[value]\n",
    "    else:\n",
    "        return value\n",
    "    \n",
    "epa_subset.VClass = epa_subset.VClass.apply(replace)"
   ]
  },
  {
   "cell_type": "markdown",
   "metadata": {},
   "source": [
    "With the similar values replaced, let's look at the value count bar chart again."
   ]
  },
  {
   "cell_type": "code",
   "execution_count": null,
   "metadata": {},
   "outputs": [],
   "source": [
    "sns.countplot(y=epa_subset.VClass, \n",
    "              order=epa_subset.VClass.value_counts().index)"
   ]
  },
  {
   "cell_type": "markdown",
   "metadata": {},
   "source": [
    "As an alternative to how often a given vehicle class appears in the data, we might be interested in knowing the mean fuel economy for each class.  In order to this, we can use panda's [*group by* functionality](https://pandas.pydata.org/pandas-docs/stable/groupby.html) that allows us to creates groups of data within the dataset and calculate an aggregate value for each group; this is similar to the standard SQL [*group by*](https://www.w3schools.com/sql/sql_groupby.asp) statement.  \n",
    "\n",
    "To create a grouping, we can use the DataFrame's [*groupby()*](https://pandas.pydata.org/pandas-docs/stable/generated/pandas.DataFrame.groupby.html) method specifying at least one column whose values should be used for grouping. The code below groups the data in `epa_subset` by values in the `VClass` column then computes the mean across the other columns for each group."
   ]
  },
  {
   "cell_type": "code",
   "execution_count": null,
   "metadata": {},
   "outputs": [],
   "source": [
    "epa_subset.groupby(['VClass']).mean()"
   ]
  },
  {
   "cell_type": "markdown",
   "metadata": {},
   "source": [
    "If we'd like the aggregated values for a single column, we can specify that column after the call to the the *groupby()* method or after the call to the aggregation function. It's generally better to reduce the size of the dataset over which a calculation is applied so we should select the column of interest before doing the aggregation calculation. We can select the `comb08` column after grouping the data and then calculate the mean."
   ]
  },
  {
   "cell_type": "code",
   "execution_count": null,
   "metadata": {},
   "outputs": [],
   "source": [
    "mean_mpg_by_vclass = epa_subset.groupby(['VClass'])['comb08'].mean()\n",
    "display(mean_mpg_by_vclass)"
   ]
  },
  {
   "cell_type": "markdown",
   "metadata": {},
   "source": [
    "We can use this aggregated data, stored in a pandas Series, to create a bar chart.  Because we are no longer interested in the number of times a `VClass` value appears, we cannot use the Seaborn *countplot()* function.  Instead, we can use [*barplot()*].  Before plotting, we sort the Series using the *sort_values()* method to indicate that we'd like to sort the Series by its values; we specify `inplace=True` to alter the existing Series object and `ascending=False` to sort the values in descending order.  "
   ]
  },
  {
   "cell_type": "code",
   "execution_count": null,
   "metadata": {},
   "outputs": [],
   "source": [
    "mean_mpg_by_vclass.sort_values(inplace=True, ascending=False)\n",
    "sns.barplot(x=mean_mpg_by_vclass.values, y=mean_mpg_by_vclass.index)"
   ]
  },
  {
   "cell_type": "markdown",
   "metadata": {},
   "source": [
    "Alternatively, we could have used the *plot()* method on the Series itself."
   ]
  },
  {
   "cell_type": "code",
   "execution_count": null,
   "metadata": {},
   "outputs": [],
   "source": [
    "mean_mpg_by_vclass.plot(kind='barh')"
   ]
  },
  {
   "cell_type": "markdown",
   "metadata": {},
   "source": [
    "### Plotting Numerical Data with Categorical Data"
   ]
  },
  {
   "cell_type": "markdown",
   "metadata": {},
   "source": [
    "With the vehicle classes sorted by combined city and highway fuel economy, let's see how some the relationships we looked at in the pair plot above differ based on classes.  Let's select three vehicle classes, the one with the greatest mean fuel economy, the one with the least mean fuel economy, and the class corresponding to median of the aggregated values. We can use the *min()*, *max()*, and *median()* methods to find the corresponding values within the Series and use a filter with those values to get the index values (the vehicle class names).  The following identifies the vehicle class with the median value for mean combined fuel economy. Note that the filter returns a collection of rows that match the given criteria; to get the first and only result, we use bracket notation."
   ]
  },
  {
   "cell_type": "code",
   "execution_count": null,
   "metadata": {},
   "outputs": [],
   "source": [
    "mean_mpg_by_vclass[mean_mpg_by_vclass == mean_mpg_by_vclass.median()].index[0]"
   ]
  },
  {
   "cell_type": "markdown",
   "metadata": {},
   "source": [
    "Let's collect the three classes we're interested in into one list."
   ]
  },
  {
   "cell_type": "code",
   "execution_count": null,
   "metadata": {},
   "outputs": [],
   "source": [
    "vclass_sample = [\n",
    "    mean_mpg_by_vclass[mean_mpg_by_vclass == mean_mpg_by_vclass.min()].index[0],\n",
    "    mean_mpg_by_vclass[mean_mpg_by_vclass == mean_mpg_by_vclass.median()].index[0],\n",
    "    mean_mpg_by_vclass[mean_mpg_by_vclass == mean_mpg_by_vclass.max()].index[0]\n",
    "]\n",
    "\n",
    "vclass_sample"
   ]
  },
  {
   "cell_type": "markdown",
   "metadata": {},
   "source": [
    "We can use this list to reduce the size of our `epa_subset` DataFrame.  The mask we'll use to filter the data will rely on the [*isin()*](https://pandas.pydata.org/pandas-docs/stable/generated/pandas.Series.isin.html) method that tests whether a value is in a specified list or not; this is similar to the Python *in* keyword."
   ]
  },
  {
   "cell_type": "code",
   "execution_count": null,
   "metadata": {},
   "outputs": [],
   "source": [
    "epa_vclass_sample = epa_subset[epa_subset.VClass.isin(vclass_sample)]\n",
    "epa_vclass_sample.head()"
   ]
  },
  {
   "cell_type": "markdown",
   "metadata": {},
   "source": [
    "We could achieve the same result using *query()* and a more Python-like syntax."
   ]
  },
  {
   "cell_type": "code",
   "execution_count": null,
   "metadata": {},
   "outputs": [],
   "source": [
    "epa_vclass_sample = epa_subset.query('VClass in @vclass_sample')\n",
    "epa_vclass_sample.head()"
   ]
  },
  {
   "cell_type": "markdown",
   "metadata": {},
   "source": [
    "With these three vehicle classes, let's look at the pair plot from earlier.  We can use the values in the `VClass` column to determine the coloring of markers in the various plots.  To to this, we specify the column name with the `hue` argument when we call *pairplot()*."
   ]
  },
  {
   "cell_type": "code",
   "execution_count": null,
   "metadata": {},
   "outputs": [],
   "source": [
    "columns = [ \"co2\", \"comb08\", \"cylinders\", \"displ\", \"VClass\"]\n",
    "sns.pairplot(epa_vclass_sample[columns], hue=\"VClass\")"
   ]
  },
  {
   "cell_type": "markdown",
   "metadata": {},
   "source": [
    "Looking at the data with how we chose values for `VClass` in mind, we can begin to see some trends.  For example, the more fuel-efficient vehicles, like small station wagons, have engines with a smaller displacement and emit less carbon dioxide. Similarly, vans, which represent the least fuel-efficient vehicles, have engines with a greater displacement and emit more carbon dioxide.\n",
    "\n",
    "We can look at pairwise relationships one at a time if we would like. Let's look at the scatter plot of `comb08` and `co2`.  While we could use the *scatter()* method we used earlier, it would take some work to add the marker coloring based on `VClass` that we have in the pair plot above.  Instead, we'll use the Seaborn [*lmplot()*](https://seaborn.pydata.org/generated/seaborn.lmplot.html) function.  By default, this plot type will also show the linear regression that fits the data.  We'll disable this feature for now but will use it later."
   ]
  },
  {
   "cell_type": "code",
   "execution_count": null,
   "metadata": {},
   "outputs": [],
   "source": [
    "sns.lmplot(x='comb08', y=\"co2\", hue='VClass', \n",
    "           data=epa_vclass_sample, fit_reg=False)"
   ]
  },
  {
   "cell_type": "markdown",
   "metadata": {},
   "source": [
    "We can see that there appears to be an indirect relationship between the two variables: as fuel economy increases, carbon dioxide emissions decrease.\n",
    "\n",
    "\n",
    "<hr>\n",
    "<a name=\"Lab-8\"></a><mark> **Lab 8** In the cell below, create a similar scatter plot for `displ` and `co2` with marker coloring determined by vehicle class.\n",
    "</mark>"
   ]
  },
  {
   "cell_type": "code",
   "execution_count": null,
   "metadata": {},
   "outputs": [],
   "source": []
  },
  {
   "cell_type": "markdown",
   "metadata": {},
   "source": [
    "<hr>"
   ]
  },
  {
   "cell_type": "markdown",
   "metadata": {},
   "source": [
    "### Box Plots"
   ]
  },
  {
   "cell_type": "markdown",
   "metadata": {},
   "source": [
    "We'll look at modeling these relationships in the next unit, but for now, let's return to the larger subset of data with all the vehicle classes.  So far, we've used the *describe()* method, histograms, and bar charts to get a sense of the distribution and other properties of some of the numeric data in our dataset.  Another common way to explore numeric data is through the use of [box plots](https://en.wikipedia.org/wiki/Box_plot).\n",
    "\n",
    "To understand the components of a box plot, consider the following example Series."
   ]
  },
  {
   "cell_type": "code",
   "execution_count": null,
   "metadata": {},
   "outputs": [],
   "source": [
    "example = pd.Series([-4, -1, -0.5, 0, 0.5, 1, 4], name=\"Example\")\n",
    "example.describe()"
   ]
  },
  {
   "cell_type": "markdown",
   "metadata": {},
   "source": [
    "Let's create a the box plot for the same Series and compare it to the output above."
   ]
  },
  {
   "cell_type": "code",
   "execution_count": null,
   "metadata": {},
   "outputs": [],
   "source": [
    "example.plot(kind='box')"
   ]
  },
  {
   "cell_type": "markdown",
   "metadata": {},
   "source": [
    "The red line in the box corresponds to the median or 50th percentile value.  The lines above and below the median correspond to the 75th and 25th percentile values, respectively.  The narrower lines above and below these lines correspond to the maximum and minimum values excluding outliers.  Outliers are symbolized by the small circular markers. Outliers represent values that can be considered \"distant\" from other values.  There are various ways of defining what constitutes an outlier but a common method relies on interquartile range, *IQR*, the difference between the third and first quartile, or in terms of percentiles, the difference between the 75th and 25th percentiles.  Using interquartile range a value can be considered an outlier if it satisfies one of the following:\n",
    "\n",
    "- it is greater than the sum of the 75th percentile and 1.5 times the interquartile range \n",
    "- it is less than the difference of 25th percentile and 1.5 times the interquartile range.\n",
    "\n"
   ]
  },
  {
   "cell_type": "code",
   "execution_count": null,
   "metadata": {},
   "outputs": [],
   "source": [
    "epa_subset.co2.plot(kind='box')"
   ]
  },
  {
   "cell_type": "markdown",
   "metadata": {},
   "source": [
    "We can see that the median is about 400 g/mile and that there are quite a few outliers.  \n",
    "\n",
    "Next, let's look at the `comb08` and `cylinders` columns."
   ]
  },
  {
   "cell_type": "code",
   "execution_count": null,
   "metadata": {},
   "outputs": [],
   "source": [
    "epa_subset.comb08.plot(kind='box')"
   ]
  },
  {
   "cell_type": "code",
   "execution_count": null,
   "metadata": {},
   "outputs": [],
   "source": [
    "epa_subset.cylinders.plot(kind='box')"
   ]
  },
  {
   "cell_type": "markdown",
   "metadata": {},
   "source": [
    "The box plot for `cylinders` is a bit unusual.  We see that the median and the 75th percentile values are the same.  This is due to the fact that there are few different values and the distribution of those values as shown by *describe()* and *value_counts()* below."
   ]
  },
  {
   "cell_type": "code",
   "execution_count": null,
   "metadata": {},
   "outputs": [],
   "source": [
    "display(epa_subset.cylinders.describe())\n",
    "display(epa_subset.cylinders.value_counts())"
   ]
  },
  {
   "cell_type": "markdown",
   "metadata": {},
   "source": [
    "<hr>\n",
    "<a name=\"Lab-9\"></a><mark> **Lab 9** In the cell below, create a box plot for the `displ` column of the `epa_subset` DataFrame.\n",
    "</mark>"
   ]
  },
  {
   "cell_type": "code",
   "execution_count": null,
   "metadata": {},
   "outputs": [],
   "source": []
  },
  {
   "cell_type": "markdown",
   "metadata": {},
   "source": [
    "<hr>\n",
    "\n",
    "Let's look at the box plot for the `displ` column again."
   ]
  },
  {
   "cell_type": "code",
   "execution_count": null,
   "metadata": {},
   "outputs": [],
   "source": [
    "epa_subset.displ.plot(kind='box')"
   ]
  },
  {
   "cell_type": "markdown",
   "metadata": {},
   "source": [
    "Let's calculate thresholds for the outliers."
   ]
  },
  {
   "cell_type": "code",
   "execution_count": null,
   "metadata": {},
   "outputs": [],
   "source": [
    "q1 = epa_subset.displ.quantile(0.25)  # first quartile\n",
    "q3 = epa_subset.displ.quantile(0.75)  # third quartile\n",
    "IQR = q3 - q1  # IQR\n",
    "lower_threshold = q1 - 1.5 * IQR  # lower threshold\n",
    "upper_threshold = q3 + 1.5 * IQR  # upper threshold\n",
    "display(lower_threshold, upper_threshold)"
   ]
  },
  {
   "cell_type": "markdown",
   "metadata": {},
   "source": [
    "From these calculations, an outlier for engine displacement is anything greater than 6.5 or less than about -0.7; for this data there are no lower outliers as negative displacement is meaningless.\n",
    "\n",
    "<hr>\n",
    "<a name=\"Lab-10\"></a><mark> **Lab 10** In the cell below, calculate the lower and upper thresholds for outliers for the `co2` column in the `epa_subset` DataFrame.\n",
    "</mark>"
   ]
  },
  {
   "cell_type": "code",
   "execution_count": null,
   "metadata": {},
   "outputs": [],
   "source": []
  },
  {
   "cell_type": "markdown",
   "metadata": {},
   "source": [
    "Seaborn also includes functionality to create box plots using the [*boxplot()*](https://seaborn.pydata.org/generated/seaborn.boxplot.html) function but the pandas DataFrame *plot()* method tends to produce easier-to-read plots."
   ]
  },
  {
   "cell_type": "code",
   "execution_count": null,
   "metadata": {},
   "outputs": [],
   "source": [
    "sns.boxplot(y=epa_subset.co2)"
   ]
  },
  {
   "cell_type": "markdown",
   "metadata": {},
   "source": [
    "Seaborn's *boxplot()* function does work well when we want to show the box plots from one column separated by categorical values."
   ]
  },
  {
   "cell_type": "code",
   "execution_count": null,
   "metadata": {},
   "outputs": [],
   "source": [
    "sns.boxplot(x=\"co2\", y=\"VClass\", data=epa_subset)"
   ]
  },
  {
   "cell_type": "markdown",
   "metadata": {},
   "source": [
    "### Pivot Tables"
   ]
  },
  {
   "cell_type": "markdown",
   "metadata": {},
   "source": [
    "Pandas provides the ability to create [pivot tables](https://en.wikipedia.org/wiki/Pivot_table) to aggregate and summarize data.  To crate a pivot table, we can use the DataFrame's [*pivot_table()*](https://pandas.pydata.org/pandas-docs/stable/generated/pandas.DataFrame.pivot_table.html) method and, at a minimum, specifying which column should be used as the index of the new table; the index serves as the column by which values are grouped and aggregated.  By default, the mean is used as the aggregation function but we can specify any appropriate function using the `aggfunc` keyword argument.\n",
    "\n",
    "Let's create a pivot table that groups the data by `year` and aggregates data by calculating the median of values."
   ]
  },
  {
   "cell_type": "code",
   "execution_count": null,
   "metadata": {},
   "outputs": [],
   "source": [
    "epa_subset.pivot_table(index=\"year\", aggfunc=pd.np.median)"
   ]
  },
  {
   "cell_type": "markdown",
   "metadata": {},
   "source": [
    "We can choose a subset of columns by listing them using the `values` keyword argument."
   ]
  },
  {
   "cell_type": "code",
   "execution_count": null,
   "metadata": {},
   "outputs": [],
   "source": [
    "epa_subset.pivot_table(index=\"year\", \n",
    "                       values=[\"city08\", \"comb08\", \"highway08\"], \n",
    "                       aggfunc=pd.np.median)"
   ]
  },
  {
   "cell_type": "markdown",
   "metadata": {},
   "source": [
    "We fan also further divide the data by specifying additional indexes or through the `columns` keyword argument."
   ]
  },
  {
   "cell_type": "code",
   "execution_count": null,
   "metadata": {},
   "outputs": [],
   "source": [
    "epa_subset.pivot_table(index=[\"year\", \"fuelType1\"],\n",
    "                       values=[\"city08\", \"comb08\", \"highway08\"], \n",
    "                       aggfunc=pd.np.median)"
   ]
  },
  {
   "cell_type": "code",
   "execution_count": null,
   "metadata": {},
   "outputs": [],
   "source": [
    "epa_subset.pivot_table(index=\"year\", \n",
    "                       columns=\"fuelType1\",\n",
    "                       values=[\"city08\", \"comb08\", \"highway08\"], \n",
    "                       aggfunc=pd.np.median)"
   ]
  },
  {
   "cell_type": "markdown",
   "metadata": {},
   "source": [
    "We an also use pivot tables as inputs for visualizations.  Let's compare city and highway fuel economy for the various vehicle classes."
   ]
  },
  {
   "cell_type": "code",
   "execution_count": null,
   "metadata": {},
   "outputs": [],
   "source": [
    "pivot = (\n",
    "    epa_subset.pivot_table(\n",
    "        index=[\"VClass\"],\n",
    "        values=[\"city08\", \"highway08\"],\n",
    "        aggfunc=pd.np.median)\n",
    "    .sort_values(by=\"highway08\"))\n",
    "display(pivot)"
   ]
  },
  {
   "cell_type": "markdown",
   "metadata": {},
   "source": [
    "With this we can create a [heatmap](https://en.wikipedia.org/wiki/Heat_map) using Seaborn's [*heatmap()*](https://seaborn.pydata.org/generated/seaborn.heatmap.html) function.  In addition to specifying the pivot table as the data source, we can show the values for each rectangle using the `annot` keyword argument and specify the colormap using the `cmap` keyword argument with a [matplotlib colormap  name](https://matplotlib.org/users/colormaps.html)."
   ]
  },
  {
   "cell_type": "code",
   "execution_count": null,
   "metadata": {},
   "outputs": [],
   "source": [
    "sns.heatmap(pivot, annot=True, cmap=\"RdYlGn\")"
   ]
  },
  {
   "cell_type": "markdown",
   "metadata": {},
   "source": [
    "## Lab Answers"
   ]
  },
  {
   "cell_type": "markdown",
   "metadata": {},
   "source": [
    "1. ```python\n",
    "   employees.query(\n",
    "       \"city == 'Columbus' and \"\n",
    "       \"department == 'HR'\"\n",
    "   )\n",
    "   ```\n",
    "   \n",
    "2. ```python\n",
    "   columns = [\"city08\", \"city08U\", \"co2\", \"co2TailpipeGpm\", \"comb08\", \"comb08U\", \n",
    "              \"cylinders\", \"displ\", \"fuelType1\", \"highway08\", \"highway08U\", \n",
    "              \"make\", \"model\", \"VClass\", \"year\"]\n",
    "   epa_subset = epa_data[columns].copy()\n",
    "   epa_subset.head()\n",
    "   ```\n",
    "   \n",
    "3. ```python\n",
    "   epa_subset.describe()\n",
    "   ```\n",
    "   \n",
    "4. ```python\n",
    "   epa_subset.drop_duplicates(inplace=True)\n",
    "   ```\n",
    "   \n",
    "5. ```python\n",
    "   display(epa_subset.city08.skew())\n",
    "   display(epa_subset.city08.kurtosis())\n",
    "   ```\n",
    "   \n",
    "6. ```python\n",
    "   epa_subset.plot.scatter(x=\"year\", y=\"comb08\")\n",
    "   ```\n",
    "   \n",
    "   and\n",
    "   \n",
    "   ```python\n",
    "   epa_subset.plot.scatter(x=\"year\", y=\"comb08U\")\n",
    "   ```\n",
    "   \n",
    "7. ```python\n",
    "   sns.countplot(y=epa_subset.VClass, order=epa_subset.VClass.value_counts().index)\n",
    "   ```\n",
    "   \n",
    "8. ```python\n",
    "   sns.lmplot(x=\"displ\", y=\"co2\", hue='VClass', data=epa_vclass_sample, fit_reg=False)\n",
    "   ```\n",
    "   \n",
    "9. ```python\n",
    "   epa_subset.displ.plot(kind='box')\n",
    "   ```\n",
    "   \n",
    "10. ```python\n",
    "    q1 = epa_subset.co2.quantile(0.25)\n",
    "    q3 = epa_subset.co2.quantile(0.75)\n",
    "    IQR = q3 - q1\n",
    "    lower_threshold = q1 - 1.5 * IQR\n",
    "    upper_threshold = q3 + 1.5 * IQR\n",
    "    display(lower_threshold, upper_threshold)\n",
    "   ```"
   ]
  },
  {
   "cell_type": "markdown",
   "metadata": {},
   "source": [
    "## Next Steps\n",
    "\n",
    "We've identified some potential relationships among columns within the fuel economy dataset.  In the next unit we'll create mathematical models for some of these relationships and see how well the model fits the existing data.\n",
    "\n",
    "We'll continue to use plots and charts to understand the data but mostly for exploratory purposes.  Visualizations also serve as great tools for conveying information; we'll explore explanatory visualizations later.\n",
    "\n",
    "## Resources and Further Reading\n",
    "\n",
    "- [An Introduction to Seaborn](https://seaborn.pydata.org/introduction.html)\n",
    "- [Seaborn Gallery](https://seaborn.pydata.org/examples/index.html)\n",
    "- [*Practical Statistics for Data Scientists* by Bruce and Bruce, Chapter 1: Exploratory Data Analysis (Safari Books)](http://proquest.safaribooksonline.com.cscc.ohionet.org/book/databases/9781491952955/1dot-exploratory-data-analysis/eda_html?uicode=ohlink)\n",
    "- [*Python: Data Analytics and Visualization* by Phuong, et. al., Data Exploration (Safari Books)](http://proquest.safaribooksonline.com.cscc.ohionet.org/book/programming/python/9781788290098/implementing-logistic-regression-with-python/ch06lvl2sec00083_html?uicode=ohlink)\n",
    "\n",
    "## Exercises\n",
    "\n",
    "1. We created a set of box plots for the values in the `co2` column separated by `VClass` from the `epa_data` DataFrame using `sns.boxplot(x=\"co2\", y=\"VClass\", data=epa_subset)`.  Prior to that, when working with bar charts, we specified an ordering for the categorical data using the `order` keyword argument.  Modify the box plot so categories are ordered by median carbon dioxide emissions from least to greatest.  See the image below for the desired plot.\n",
    "\n",
    "2. Load county auditor data, either one county's data from one of the data sources we've used or from the combined data we saved to a database, and create a pair plot that compares sales price, area, number of bedrooms, and bathrooms.  Are there any potential relationships between any of these variables?"
   ]
  },
  {
   "cell_type": "markdown",
   "metadata": {},
   "source": [
    "<figure>\n",
    "<img src=\"data:image/png;base64,iVBORw0KGgoAAAANSUhEUgAAA0MAAAJMCAYAAAA44X2OAAAABHNCSVQICAgIfAhk\n",
    "iAAAAAlwSFlzAAALEgAACxIB0t1+/AAAADl0RVh0U29mdHdhcmUAbWF0cGxvdGxp\n",
    "YiB2ZXJzaW9uIDIuMS4yLCBodHRwOi8vbWF0cGxvdGxpYi5vcmcvNQv5yAAAIABJ\n",
    "REFUeJzs3XlclOX+//HXMCwKaEqa5c9M0o7a4paiVpJmWbnVaVEWR+1kmeXJ5WSa\n",
    "5pq5pnnM1EozRQTTehzLLUUszJOCmUet3MiNUwlCHgFhgJn5/cGXCQRkWAec9/Mf\n",
    "mXvu67o/98Xc18Vnruu+NdhsNhsiIiIiIiIuxs3ZAYiIiIiIiDiDkiEREREREXFJ\n",
    "SoZERERERMQlKRkSERERERGXpGRIRERERERckpIhERERERFxSe7ODkBcV1JSaon7\n",
    "1K/vzR9/XKmCaGo2tZNj1E6OU1s5Ru3kOLWVY9ROjlE7OU5tBQ0b1in2Pc0MSbXm\n",
    "7m50dgg1gtrJMWonx6mtHKN2cpzayjFqJ8eonRyntro2JUMiIiIiIuKStExOREQc\n",
    "NmPGm6SkJJe6XHp6GgA+Pr4VEoef341MmTKzQuoSERHXpWRIREQclpKSTEryRfxq\n",
    "eZeqnDkzEwCfCliQkJLp2mvfRUSk4igZEhGRUvGr5c2iR58qVZnRX30OUOpy16pL\n",
    "RESkvHTPkIiIiIiIuCQlQyIiIiIi4pKUDImIiIiIiEtSMiQiIiIiIi5JyZCISBVb\n",
    "t24N69atcXYYUgX0uxYRqd6UDImIVLHY2O+Ijf3O2WFIFdDvWkSkelMyJCIiIiIi\n",
    "LknJkIiIiIiIuCQlQyI1gM1mIzJyLTabzdmhOIXVamXq1DewWq3X3FZRdYtUlbxr\n",
    "22q1EhERxpQpE5g8eTzh4auZOvUNLBZLgWu/qM9rXh3Z2dn87W8hhIevttfnaL/h\n",
    "6teBzWYrVXvVBKUdN1x9nBHXdV0mQx9++CFDhw5l0KBBmEwmjh49Wq76TCYT8fHx\n",
    "vPfee0RERBR4z2q1Mnv2bJ577jlCQ0MZNmwY58+fByAuLo5jx44VW6/ZbGbDhg0A\n",
    "fP755+zatavMMU6cOJGtW7faXz/++ONMnz7d/nrChAlERUWVuX5xrtjYfURFfUVc\n",
    "3H5nh+IUERFriI8/SWRk2DW3VVTdIlUl79qOiAhj27bN/PLLKU6fjmfbti+Jjz/J\n",
    "okXzClz7RX1e8+oYN+5VsrKy2LbtSyIiwtixYytffbXVoX7D1a+D2Nh9pWqvmqC0\n",
    "44arjzPiuq67ZOjUqVNER0ezatUq1q5dy8SJE5k4cWKlHW/Pnj0kJiayatUqwsPD\n",
    "CQoKYtasWQB89tlnJCYmFls2KSnJngw99dRT9OzZs8xx3H///Xz//fcAnDt3jqZN\n",
    "mxIXF2d//+DBg3Tp0qXM9Yvz2Gw2tm79gszMDLZs2eRy39pZrVaio3cCsGvXDqxW\n",
    "a5HbKqpukaqS/9retesrrFZLoX0OHTpov/YtFkuhz2v+Oi5eTLKX27XrK7Kzs8nO\n",
    "ziqx33D168Bms7FlyyaH26smKO244erjjLg2d2cHUNHq1KnDr7/+ysaNGwkMDKR1\n",
    "69Zs3LgRyJ3hadmyJSdPnsTb25uOHTvy7bffcvnyZT7++GOMRiOTJk0iNTWVxMRE\n",
    "QkJCCAkJuebx6tevz9GjR9m6dStdunShZ8+eBAYGcvToUfbs2cOPP/5IixYtiI6O\n",
    "ZseOHWRkZFC/fn2WLFnC8uXLOXXqFEuWLMFms9GgQQOCg4OZM2eOPbHp27cvQ4YM\n",
    "YcKECXh6evLf//6XxMRE5syZw1133WWPo2vXrqxYsQKAb775hoceeojo6GhOnTqF\n",
    "l5cXjRo1wtfXl9jYWPvx0tPTWbBgAf7+/rz//vtERUXh5+dHRkYGo0aNonXr1owb\n",
    "N460tDQsFgujRo2ia9eu9OvXj4CAAI4fP47BYGDp0qVkZ2czevRobDYbZrOZ6dOn\n",
    "07p160r6LbuW2Nh9JCScAyAh4RxxcfsJCHCdxDYiYg1msxnInU2NjAyzf87ybwsJ\n",
    "GVIhdZelntJKT0/DbDYzevSISj9WWRmNblgshf8oTklJxsvN6ISI/pSenYU5JaNa\n",
    "tF9x7ZQnJSUZLy+vIt/Lf21nZWUVuU/eH6UJCed49915hT6vzZv/xV5HfvnrO3v2\n",
    "zDX7DWddB9VFbOw+zp07Y39dUnvVBKUdN1x9nBHXdt3NDDVq1Ihly5Zx8OBBBg4c\n",
    "yGOPPcbu3bvt77dp04bVq1eTlZVFrVq1WLVqFS1atCAuLo6zZ8/Sp08fPv74Y1au\n",
    "XMknn3xS4vHatGnDW2+9RVRUFH379uXpp5/m0KFD3H333XTr1o1x48Zx8803c+nS\n",
    "JT755BM2bNiAxWLhyJEjvPTSS7Ro0YKRI0fa69u9ezcJCQl8+umnrFu3js2bN3P8\n",
    "+HEAGjduzMqVKzGZTKxfv75AHH5+fhgMBlJTU4mJiSEwMJDAwEBiYmKIjY2lW7du\n",
    "AJw8eZL58+cTFhZGr1692L59O8eOHWPPnj1s3LiR999/n6Sk3G8Xly1bxn333Ud4\n",
    "eDj//Oc/mTRpkj2J6tOnD2vXruWmm24iJiaGw4cPU69ePT766COmTJnClStXyvur\n",
    "lP/z9ddRBf5Q2b17p5Mjqlp79nxd4HVMzO4it1VU3SJVJf+1XRKz2cyRI4cKbIuJ\n",
    "2e1QHTk52dfsN1z9Ovj66yhycnLsr0tqr5qgtOOGq48z4tquu5mhs2fP4uvry+zZ\n",
    "swE4cuQIL7zwAp07dwawz6bUrVuXFi1a2H82m800aNCA1atXs2PHDnx9fQt0jsU5\n",
    "duwY/v7+LFy4EJvNxt69exk9ejR79+617+Pm5oaHhwdjx47F29ub33//vdi64+Pj\n",
    "6dixIwaDAQ8PD9q2bUt8fDyAfabl5ptv5uDBg4XKdu3alX//+9/88ccf3HLLLQQG\n",
    "BjJv3jx8fHwYMiT3W75GjRrx9ttv4+3tzYULF+jQoQPx8fHcc889GI1GjEYjd999\n",
    "tz2Wfv362cv5+vqSnJwMwJ133gnALbfcgtls5vHHH+fMmTO8/PLLuLu7M2KE87+x\n",
    "vV507/4wJ04cw2w24+XlRY8ejzg7pCrVrVt3tm3bbH8dGNgDm81WaFtF1V0VfHx8\n",
    "8fHxZdGiZVVyvLJo2LAOSUmphbaPHj0C0p37ZYePhyc+Pt7Vov2Ka6c815q9yn9t\n",
    "l8TLy4vWre/m0KHv7dsCA3vQvPlfSqzD3d3jmv2Gs66D6qJ794f5+ecf7eNySe1V\n",
    "E5R23HD1cUZc23U3M3T8+HFmzJhhXyLg7+9P3bp1MRpLXtbx8ccf065dO9555x0e\n",
    "e+wxh9bMfvfddyxevBir1YrBYOCOO+6gdu3aGAwGDAYDNpuNY8eOERUVxaJFi5g8\n",
    "ebJ9nbebm1uhtdnNmze3L5HLzs7mhx9+4LbbbgPAYDBcM5b777+f1atXExAQAMCt\n",
    "t97KpUuXOHv2LK1atQJg8uTJzJo1izlz5nDTTTdhs9lo0aIFR44cwWq1kpWVxU8/\n",
    "/WSP5cCBAwBcuHCBy5cvU69evSJj2b9/PzfddBMff/wxI0aMYOHChSW2nTgmIKAL\n",
    "TZo0BaBJk6Z06tTZyRFVreDgwfZlRl5eXgQFmYrcVlF1i1SV/Ne2p6dnkfvk9bVN\n",
    "mjRlzJjXC31e89eRX/76brut2TX7DVe/DgICutC0aTP765LaqyYo7bjh6uOMuLbr\n",
    "Lhnq1asXHTt25JlnniEoKIjnn3+e119/nTp16pRYtkePHqxbt45BgwaxevVqjEZj\n",
    "seu485hMJry9vXniiScIDg5m7NixzJs3D4C2bdvyzjvvYDQaqV27NkFBQTz33HM0\n",
    "bNiQxMREbrzxRrKzs5k/f36BGJo0acLAgQMZOHAgjz76aIF7g67l3nvv5ccff+TB\n",
    "Bx+0b2vVqhXNmjWzD6j9+/cnNDSUoKAg0tPTSUxMpGXLljz44IMMGDCAV155BQ8P\n",
    "D9zd3Rk+fDj79u0jNDSUl19+mRkzZuDuXvRkYqtWrdiwYQMmk4l58+YxfPhwh2KW\n",
    "khkMBnr37k+tWrXp0+eJEpPi642bmxsPPZT7LWXPnr1wc3MrcltF1S1SVfJf2z17\n",
    "PopbEfditWvXwX7tG43GQp/X/HU0aNDQXq5nz0fx8PDAw8OzxH7D1a8Dg8FAnz5P\n",
    "ONxeNUFpxw1XH2fEtRlsemSIy0tOTmb79u2EhoaSlZVFnz59WL16NY0bN67U415r\n",
    "aUmekpaguAqbzcb69eEMHBha5CB1vbeT1Wpl+vRJTJ36tv0PtaK2laSodipLPeWV\n",
    "t3SqOizzKk5Jy+QWPfpUqeob/dXnAKUuV2xdNWyZXHGx5l3bAwaEsH59OD///CM2\n",
    "m41Wre7kxIljTJkykw0bIuzXflGf17w6nn56IMOHD6Fnz0cJDjaxfn04BoOh2H4j\n",
    "v6q4DqpzP5X3f+w42l6VqaLaqaRxo7z7O1t1/jxVN2qr3DYojpIhwWq1MmnSJE6c\n",
    "OIHBYKBXr168+OKLlX5cJUMVR+3kmOrSTkqGyud6SoZcSXW5/qo7tZNj1E6OU1td\n",
    "Oxm67h6gIKXn5uZmf+CEiIiIiIircK2FwSIiIiIiIv9HM0MiIlUsIKCrs0OQKqLf\n",
    "tYhI9aZkSESkioWEDHZ2CFJF9LsWEanetExORERERERckpIhERERERFxSUqGRERE\n",
    "RETEJSkZEhERERERl6QHKIiISKmkZF6x/yeqpSkDlLpccXX5+XiXux4RERElQyIi\n",
    "4jA/vxvLVM4La+4PFZDE+Pl4lzkOERGR/JQMiYiIw6ZMmensEERERCqM7hkSERER\n",
    "ERGXpGRIRERERERckpIhERERERFxSUqGRERERETEJekBCiIiUsjYsWO5cCGxUupO\n",
    "T08DwMfHt1LqLy0/vxv1YAgRERelZEhERAq5ePEiKclJ1K/lUeF1mzOzAfAmp8Lr\n",
    "Lq0//i8WERFxTUqGRESkSPVrefDOI3+p8Hpf23kCoFLqLq28WERExDXpniERERER\n",
    "EXFJSoZERERERMQlKRkSERERERGXpGRIRERERERckpIhEbkurFu3hnXr1jg7DBGX\n",
    "pOtPRGoqJUMicl2Ijf2O2NjvnB2GiEvS9SciNZWSIRERERERcUlKhkRERERExCUp\n",
    "GRIREREREZekZKgKnDx5khdffBGTycTTTz/N4sWLsdlsTo1p/fr1ZGdnF9p+4MAB\n",
    "nnvuOXus4eHhToiuerNYLIwc+QIWi6VS6s3JySEyci1Wq5XIyLVO/6xczWazlRhX\n",
    "cftYrVamTn0Dq9Va6uPmtU94+GpsNpv9GNW1nURcWXZ2NoMHD2Dt2k+YMmVCoWu+\n",
    "pL4gJyeHv/0tlOzs7Eq9zq1WKxMnvsbgwQNZs+bjAsdwpK8r6nzMZjODBj2D2Wwu\n",
    "9F555I/HkTptNhsREWGFziGvbXNyckhPT2fQoGdIT09XnyouS8lQJbt8+TJjx45l\n",
    "4sSJhIWF8emnn3LixAkiIyOdGtcHH3xQqBM9f/48M2fOZP78+YSFhREeHs6mTZuI\n",
    "iYlxUpTV07vvzuXSpT9YtGhepdQ7bdobREV9RUREGFFRXxEXt79Cj1NesbH7Soyr\n",
    "uH0iItYQH3+SyMiwUh83r322bfuSuLj99mPktVPeHx4i4nzjxr2K1Wpl+/bN/PLL\n",
    "qULXfEl9wdSpb5CVZWbcuFcrtT+MiFjDuXNnsFot7Nixla++2mo/hiN9XVHn8/LL\n",
    "zwPY/y1Pv5df/ngcqTM2dl+hc4I/23batDcYPnwIAMOHDynUp1a3sUeksrg7O4Dr\n",
    "3a5du+jcuTPNmjUDwGg0MnfuXDw8PACYM2cO33//PQB9+/ZlyJAhTJgwAXd3d379\n",
    "9VeysrLo3bs3u3fv5rfffmPp0qX89ttvLF++HDc3N5KSkhg4cCChoaHExsayZMkS\n",
    "bDYb6enpLFiwAH9/f5YuXUpUVBQWi4Xg4GCMRiNJSUmMGTOGpUuX2mPdtGkTTz75\n",
    "JA0aNACgVq1arFy5Em9vb9LS0pg0aRKpqakkJiYSEhJCSEgIJpMJPz8//ve//zFl\n",
    "yhQmTpyIu7s7VquVBQsWcMstt1Rtg1cyi8XCf/7zAwCHDh3EYrFgNBortN4zZ04D\n",
    "EB29A7PZzJYtm+jUqTMGg6Hcxykvm83G1q1fkJmZUWxcxe1jtVqJjt4JwK5dOwgK\n",
    "MuHm5tj3MfnbB2DTps9wd3cnMzPD3k5GozteXl4Vd7IiUibZ2dlcvJhUYFtU1Ff8\n",
    "/e8vA5TYF+Tk5HD2bG4/mFdPZfSHVquVr77aelXsWWzZsomOHQNK7Ovy15N3Ptu3\n",
    "b7F/0Wg2Z5KRkVHmfi+/gv3qvzh//tw167TZbGzZssm+AiTvHCwWi71t88aaPBs2\n",
    "RBToU6vT2CNSmZQMVbLExERuvfXWAtt8fHwA2L17NwkJCXz66afk5OQQEhJCly5d\n",
    "APh//+//MXPmTKZMmUJCQgIfffQRixcvJjo6mtatW3PhwgX+9a9/YbVa6devH489\n",
    "9hgnT55k/vz5NGrUiOXLl7N9+3YefPBBYmJi2LBhAxaLhYULFzJ+/HiWLVvGu+++\n",
    "WyjWVq1aFdhWp04dAM6ePUufPn3o1asXFy5cwGQyERISAuQmcY888gjh4eG0adOG\n",
    "cePGceDAAVJTU6+7ZOjdd+cWWEKxaNE8/vGPNyq03jx5Mx0JCeeIi9tPQECXch+n\n",
    "vGJj95GQkDsIFxdXcftERKyxn5PZbCYyMoyQkCEOHffq9jl79jTu7h72ugAslhyS\n",
    "ky8yevSIYusxGt2wWMq3VMVVpKQk4+kCawfSsy1kpSRf83NzLfpM5UpJSbZ/GTFu\n",
    "3KuF3s/KymLFihX89a/BJfYFU6cW7lMroz+MiFhT5DKzs2fPEBERVmJfl7+e/Evi\n",
    "8hs+fEi+5Kh0/V5++fvV06d/KbHO2Nh9nDt3psA5xcXtZ9Omz4o9xu+//2qvE6rX\n",
    "2CNSmVxgqHOuxo0b8/vvvxfYdv78eeLi4oiPj6djx44YDAY8PDxo27Yt8fHxANx5\n",
    "550A1K1blxYtWth/zsrKAqB9+/Z4enpSq1Yt7rjjDs6dO0ejRo14++23mTBhAvv3\n",
    "7ycnJ4fTp0/Tpk0bjEYjnp6eTJgwodhveYqK9dixY/z00080aNCAqKgoXnvtNZYt\n",
    "W0ZOTo59H39/fwCeeeYZ6taty7BhwwgPD6+QGZPq5siR/xR4ffjwoUqpNz+z2czu\n",
    "3Tsr5Djl9fXXUQX+iCkqruL22bPn6wL7xcTsdvi4RbVPTk7he95ExPmunhXKs2PH\n",
    "DqDkviBv5qIoFdkfXh1HnpycbPbs2V1iX1dSPVA4OSpNv5df/n7VkTq//jqqwDid\n",
    "k5PN7t07r9m2V6tOY49IZdLMUCXr0aMHH3zwAcHBwTRt2pTs7GzmzJnDfffdR/Pm\n",
    "zfn8888ZOnQo2dnZ/PDDD/z1r38FKHFa+ueff8ZisZCVlcWpU6e47bbbePnll9m5\n",
    "cye+vr6MHz8em83G7bffTkREBFarFYvFwosvvsgHH3xgX7aUX9++fXnllVfo3bs3\n",
    "fn5+pKenM2XKFF555RU2bdpEu3btCAkJYd++fXzzzTf2cnmx7tq1i3vvvZeRI0ey\n",
    "efNmVqxYwezZsyu4RZ3rnnvacujQQfvrNm3aVUq9+Xl5edGjxyMVcpzy6t79YU6c\n",
    "OIbZbC42ruL26datO9u2bbbvFxjYw+HjFtU+7u4ehRIiX986LFq0rNh6GjasQ1JS\n",
    "qsPHdWX/+Mcr5FxOcXYYlc7Hw4ivT71rfm6uRZ+pXPln1ho0aFhkQtSrVy+g5L7g\n",
    "ttv8i/2jvSL7w6vjyOPu7kG3bj3sy8VKOmZx9QC4ubkVGGtL0+/ll79fdaTO7t0f\n",
    "5ueff7QnRO7uHvTo8QiXL192OCGqTmOPSGXSzFAl8/X1Zc6cObz55puYTCYGDhxI\n",
    "q1atCAkJoUePHjRp0oSBAwcycOBAHn30Ue666y6H6s3JyeGFF14gNDSUESNG4Ofn\n",
    "R//+/QkNDSUoKIj09HQSExNp3bo13bp1Izg4mJCQEPr164enpycdO3bkxRdfLLD0\n",
    "qEmTJowbN46RI0diMpkwmUw8+eSTPPjgg/To0YN169YxaNAgVq9ejdFotM9S5bn7\n",
    "7rtZvHgxgwcPJjIykkGDBlVoW1YHY8aMtyd/BoOB0aNfr/B68+QtOWnSpCmdOnWu\n",
    "kOOUV0BAF5o0aQoUH1dx+wQHD7afk5eXF0FBJoePe3X73HabP7fd1sxeF6B7hkSq\n",
    "ifnzFxfa5unpybBhw4CS+4Lp0wt/iVYZ/WFw8OAi79+57bZmBAebSuzr8teTF9/V\n",
    "9X3wweoy93v55e9X/f1vx9PT85p1BgR0oWnTZgXOqVOnzkW2bZ6bb25srxOq19gj\n",
    "Upk0M1QF7r77btasWVPke+PHjy+0bc6cOfafX3vtNfvPQ4cOBWD//v00b9680D0/\n",
    "b7xR9L0rw4cPZ/jw4QW2zZ07t8h9H3jgAR544IFC27t06cLmzYW/+QoL+/NJNk2b\n",
    "NiUiIqLIeq8XRqORtm3bc+jQQdq161BhSwHz19usmT+///47PXo8zO7dUfTp80S1\n",
    "uYHVYDDQu3d/PvpoabFxFbePm5sbDz30CNu2baZnz16luok4f/sAPPHE09hsNj76\n",
    "aKm9ndzd3atNO4m4Mg8Pj0KzQw8//Kj9mi+pL3B3d7fPDjVo0JC0tLRK6Q/d3Nx4\n",
    "9NHeBWZ1PDw86dPnCdzc3Ers6/LXk3c+jz3Wh127dmI2Z+LlVYvatWuXud/Lr2C/\n",
    "+iQnTx67Zp0Gg4E+fZ5g+fLFgMF+Dvnbtlkz/wIPUXj22eACfWp1GntEKpOSIZFS\n",
    "GjNmPKNGvVRhs0JX1ztt2mw2boxkwIAQjEZjtftmLiCgC6dPx18zruL2CQ4ezIkT\n",
    "x8v07Whe+3Tt+oC93tOn4+3t9N1335a6ThGpHPPnL+b550Pp1as3J04cK3TNl9QX\n",
    "TJ8+mxdfHML8+Yv57LP1ldYfBgcP5scfj5KQcJ6HH34UT09P+zEc6euKOp+nnw7i\n",
    "+edDWbp0ZaH3yiN/PB07BpRYZ0BAF3755RQGg6HAOeS17bRpszGbzQwfPoQPPliN\n",
    "t7d3gT61uo09IpXFYNP/qiVO4sg6e63Hd4za6c97FnTPUMXIu2fonUf+UuF1v7bz\n",
    "BECl1F1ar+08gUH3DJWbrr+Ko3ZyjNrJcWqr3DYoju4ZEhERERERl6RlciJyXQgI\n",
    "6OrsEERclq4/EamplAyJyHUhJGSws0MQcVm6/kSkptIyORERERERcUlKhkRERERE\n",
    "xCUpGRIREREREZekZEhERERERFySHqAgIiJF+iMz2/5/AlV0vUCl1F1af2Rm4+fj\n",
    "7ChERMRZlAyJiEghDRo0wGKxVkrdXqQBYPDxrZT6S8PPB/z8bnR2GCIi4iRKhkRE\n",
    "pJCFCxe6/P9YLiIi1z/dMyQiIiIiIi5JyZCIiIiIiLgkJUMiIiIiIuKSlAyJiIiI\n",
    "iIhL0gMURETEbsaMN0lJScZodKu0p8mVVnp67tPnfKrB0+eu5kg7+fndyJQpM6so\n",
    "IhERKQ0lQyIiYpeSkkxychJ1azs7kj9lZub+62nIcG4gRcgu4f3L1S9kERHJR8mQ\n",
    "iIgUULc2jHncw9lh2L27LTflqE4xOSovdhERqZ50z5CIiIiIiLgkJUMiIiIiIuKS\n",
    "lAyJiIiIiIhLUjIkIiIiIiIuScmQiIiIiIi4JCVDIlKkdevWsG7dGmeHISJSI6jP\n",
    "FKmZlAyJSJFiY78jNvY7Z4chIlIjqM8UqZmUDImIiIiIiEtSMiQiIiIiIi5JyZCT\n",
    "7N+/n5YtW7Jly5YC2/v168eECRMAGDlyZKFyERERvPfee8XWW1SZ0jhw4ADPPfcc\n",
    "JpOJp59+mvDw8HLV5wpsNhuRkWux2WxlKlOW8gBWq5WpU9/AarXa67BarUXWlX9f\n",
    "R+PPzMzk4sUkMjMzSxWXiIiUX3Z2NoMHDyQ7O7vQe46MG1arlSlTJhAREVbsfsWN\n",
    "RUXVb7FYGDnyBSwWS/lPDsjJyeFvfwslJyen0Hv5j3WtdhCpCEqGnOj2228vkAwd\n",
    "P36cjIwM++slS5aUus6ylMlz/vx5Zs6cyfz58wkLCyM8PJxNmzYRExNT5jpdQWzs\n",
    "PqKiviIubn+ZypSlPEBExBri408SGRnGt99+S1TUV0REhBVZV/59HY0/LS0VgJde\n",
    "eq5UcYmISPmNG/cqVquFceNeLfSeI+NGRMQafvnlFNu3by52v+LGoqLqf/fduVy6\n",
    "9AeLFs0r/8kBU6e+QVaWmWnT3ij0Xv5jXasdRCqCu7MDcGWtWrXi9OnTpKamUqdO\n",
    "Hb744gv69evHb7/9BsD999/P3r17OXDgALNmzaJu3boYjUbatWuH2Wxm1KhRpKWl\n",
    "kZGRwZgxY3jggQfsZUaMGEFaWhoABw8eZNWqVdxwww3MnDkTgHr16jFr1izq1Klj\n",
    "j2fTpk08+eSTNGjQAIBatWqxcuVKvL29SUtLY9KkSaSmppKYmEhISAghISGYTCb8\n",
    "/Pz43//+x5QpU5g4cSLu7u5YrVYWLFjALbfcUsWtWrVsNhtbt35BZmYGW7ZsolOn\n",
    "zhgMhlKVsdlspSoPud/4RUfvBGDXrh2cOnWczMwMoqN3YDabC9R19b5BQSbc3Nyu\n",
    "GX/+2aCcnGwyMzOpVatWWZtJRERKITs7m4sXkwC4eDGJ7OxsPDw8AMfGHavVyq5d\n",
    "O4DcWZYtW/5VaL9rjUVXj0tWq5X//OcHAA4dOojFYsFoNJb5/HJycjh79jQAZ86c\n",
    "JicnB3d3d3u8ecf64Yfv7WWubgeRiqJkyMl69erFjh07eOqppzh8+DAvvPCCPRnK\n",
    "M336dBYvXoy/vz9Tp04F4Ny5c1y6dIkVK1aQnJzMmTNnCpRZtmwZAAsWLKBDhw4E\n",
    "BAQwYMAAZs2aRYsWLdiwYQMrVqxgzJgx9jKJiYm0atWqQD15ydLZs2fp06cPvXr1\n",
    "4sKFC5hMJkJCQgDo27cvjzzyCOHh4bRp04Zx48Zx4MABUlNTr/tkKDZ2HwkJ5wBI\n",
    "SDhHXNx+AgK6OFzm7NkzgK1U5SH3Gz+z2QyA2Wzm1KlT9p+vruvqfSMjwwgJGXLN\n",
    "+K+eDRo2bBANGjQsMa7qzmh0w2IpvFRQ/pSSkoy71gxUmIwsSM1MZvToEc4Oxemu\n",
    "9+svJSUZLy+vCqnr6lmQceNeZdGi3HHdkXEnImINWVlZ9td7UlebAAAgAElEQVSn\n",
    "T/9SaL/ixqKixqWYmGj7kjmbzcaiRfP4xz8Kz+g4aurUgmWnTXuDmTPnA7mzQsUt\n",
    "68vfDiIVRUOek/Xr14+tW7cSFxdHx44di9zn4sWL+Pv7A9ChQwcA7rjjDgYOHMjY\n",
    "sWOZPn16kfeCrFy5kpSUFHvCEx8fz/Tp0zGZTHz22WdcuHChwP6NGzfm999/L7Dt\n",
    "2LFj/PTTTzRo0ICoqChee+01li1bVmCNb15szzzzDHXr1mXYsGGEh4eX61ujmuLr\n",
    "r6MKJBq7d+8sVZmcnGx7WzpaHmDPnq8LvL7695+/rqv3jYnZXWL8OTlamy0i4ix5\n",
    "s0JFvXZk3ClqjLh6v+LGoqLGpSNH/lOg7OHDh8pwVn/KmxXKc+bMn6+vPlZ+V7eL\n",
    "SEXQzJCT3XrrrVy5coWwsDDGjh3L+fPnC+3TqFEj4uPjad68OUeOHOGGG27g+PHj\n",
    "pKen8+GHH5KYmEhQUBA9evSwl9mwYQPff/99gYct+Pv7M3fuXBo3bsz3339PUlLB\n",
    "TqVv37688sor9O7dGz8/P9LT05kyZQqvvPIKmzZtol27doSEhLBv3z6++eYbe7m8\n",
    "afddu3Zx7733MnLkSDZv3syKFSuYPXt2RTdZtdK9+8OcOHEMs9mMl5cXPXo8Uqoy\n",
    "7u4egI2cnByHywN069adbds221+7ubkVSIjy13X1voGBf35Oiovf3d2jQELk7u5x\n",
    "XXwb17BhHZKSUp0dRrU2evQIsq/oD46KUtsTPLxvvC6un/K63q+/ipz9a9CgYYE/\n",
    "/PPPzDsy7hQ1Rly9X3FjUVHjktFo5NChg/aybdq0K9f53Xabf4GEqFkzf/vP99zT\n",
    "tsCx8rseVihI9aOZoWqgd+/e/Pbbb/YZlqvNmDGD119/nSFDhvDrr78C0KxZM2Jj\n",
    "YwkNDWXUqFG8+uqfU+pJSUlMnTqVy5cvM3ToUEwmE19++SXTpk1j/PjxBAcHs2DB\n",
    "Alq2bFngOE2aNGHcuHGMHDkSk8mEyWTiySef5MEHH6RHjx6sW7eOQYMGsXr1aoxG\n",
    "Y4EpeIC7776bxYsXM3jwYCIjIxk0aFAFt1T1ExDQhSZNmgLQpElTOnXqXKoyt93W\n",
    "jKZNm5WqPEBw8GD7cgwvLy9atGhh//nquq7eNyjIVGL8y5evKnC8q1+LiEjlmT9/\n",
    "cbGvHRl3goMH4+npaX/t7397of2KG4uKGpfGjBlv/+LTYDAwevTr5Tq/6dMLflE6\n",
    "bdqfr/Mf62pXt4tIRdDMkJN07tyZzp1zO6a8xAMgMDCQwMBAAPbu3QtAmzZt+Oyz\n",
    "zwrVsXhx4U4hr8xPP/1U5HHDwgo/TSy/Bx54gAceeKDQ9i5durB58+ZC2/PX17Rp\n",
    "UyIiIq5Z//XGYDDQu3d/PvpoKX36POHQww+uLmOz2UpVHnK/5XvooUfYtm0zPXv2\n",
    "okOHtrzzzgJ69HiY3bujCtR19b55D0+4Vvz5H5bg7u6hhyeIiFQhDw8P++xQgwYN\n",
    "Czw0wJFxx83NjZ49e7Ft22aMRiN9+jxZaL9rjUVXj0tGo5G2bdtz6NBB2rXrUO5l\n",
    "8O7u7vbZoWbN/O0PTwAKHKt9+3s5f/5cke0gUlGUDImUU0BAF06fjnd4VqeoMqUt\n",
    "D7nf/J04cZygIBM33VSXQ4eOMmBACEajsVBd+fd1NH5f3zqkpaVqVkhExAnmz1/M\n",
    "888PKnI2xJFxJzh4MMePH6N167uK3e9aY9HV9Y8ZM55Ro14q96xQnunTZ/Pii0MK\n",
    "zAoVdSyr1VpsO4hUBIOttP/To0gFcWTt+PW+xryiVEY75a1/v57uddDnqWR59wyN\n",
    "ebz6fAP77rbc+9eqU0yOendbNh7eDa+r66isrvfrr6L6zOu9nSqK2slxaqvcNiiO\n",
    "7hkSERERERGXpGVyIlKkgICuzg5BRKTGUJ8pUjMpGRKRIoWEDHZ2CCIiNYb6TJGa\n",
    "ScvkRERERETEJSkZEhERERERl6RkSEREREREXJKSIRERERERcUl6gIKIiBRwOePP\n",
    "/9unOrickftvdYrJUZcz4EZvZ0chIiLFUTIkIiJ2fn43AmA0umGxWJ0cTa5atjQA\n",
    "PLx9nRxJYSW1043ef7apiIhUP0qGRETEbsqUmYD+x3JHqZ1ERGo23TMkIiIiIiIu\n",
    "ScmQiIiIiIi4JCVDIiIiIiLikpQMiYiIiIiIS1IyJCIiIiIiLklPkxMRkRpjxow3\n",
    "SUlJLlcd6em5j+r28Sn/o7odfQS5n9+N9if1iYhI9aFkSEREaoyUlGSSk5PwqV32\n",
    "OjIzc/81GjIqJqgSpFfNYUREpAyUDImISI3iUxuC+xvKXD7iCxtQvjrKcjwREal+\n",
    "dM+QiIiIiIi4JCVDIiIiIiLikpQMiYiIiIiIS1IyJCIiIiIiLknJkIiIOGzdujWs\n",
    "W7fG2WFIDaHPi4hUd0qGRETEYbGx3xEb+52zw5AaQp8XEanulAyJiIiIiIhLUjIk\n",
    "IiIiIiIuScmQiEgRrFYrkyeP55VXhmGxWJwdjsh1x2azERm5FptN/ymtiDhPjUqG\n",
    "9u/fT8uWLdmyZUuB7f369WPChAkAjBw5slC5iIgI3nvvvWLrLaqMo6xWK7Nnz+a5\n",
    "554jNDSUYcOGcf78eQDi4uI4duxYsWXNZjMbNmwA4PPPP2fXrl1ljmPixIls3brV\n",
    "/vrxxx9n+vTp9tcTJkwgKiqqzPWLuJqIiDWcPh3P//53iUWL5jk7HJHrTmzsPqKi\n",
    "viIubr+zQxERF1ajkiGA22+/vUAydPz4cTIyMuyvlyxZUuo6y1Imz549e0hMTGTV\n",
    "qlWEh4cTFBTErFmzAPjss89ITEwstmxSUpI9GXrqqafo2bNnmeO4//77+f777wE4\n",
    "d+4cTZs2JS4uzv7+wYMH6dKlS5nrF3ElVquVXbt22F//8MP3mh0SqUA2m42tW78g\n",
    "MzODLVs2aXZIRJzG3dkBlFarVq04ffo0qamp1KlThy+++IJ+/frx22+/AblJwd69\n",
    "ezlw4ACzZs2ibt26GI1G2rVrh9lsZtSoUaSlpZGRkcGYMWN44IEH7GVGjBhBWloa\n",
    "kJs8rFq1ihtuuIGZM2cCUK9ePWbNmkWdOnXs8dSvX5+jR4+ydetWunTpQs+ePQkM\n",
    "DOTo0aPs2bOHH3/8kRYtWhAdHc2OHTvIyMigfv36LFmyhOXLl3Pq1CmWLFmCzWaj\n",
    "QYMGBAcHM2fOHHti07dvX4YMGcKECRPw9PTkv//9L4mJicyZM4e77rrLHkfXrl1Z\n",
    "sWIFAN988w0PPfQQ0dHRnDp1Ci8vLxo1aoSvry+xsbH246Wnp7NgwQL8/f15//33\n",
    "iYqKws/Pj4yMDEaNGkXr1q0ZN24caWlpWCwWRo0aRdeuXenXrx8BAQEcP34cg8HA\n",
    "0qVLyc7OZvTo0dhsNsxmM9OnT6d169ZV8pkQqWgREWvIysoqsG3Ronn84x9vOCmi\n",
    "6iM9PQ2z2czo0SOccvyUlGSMNexrPHMWXMlMdlqbOVNKSjJeXl6FtsfG7iMh4RwA\n",
    "CQnniIvbT0CAvrATkapXw4aUXL169WLHjh3YbDYOHz5M+/btC+0zffp0FixYwCef\n",
    "fEKTJk2A3BmTS5cusXz5chYuXFjom95ly5YRFhZGu3btGDZsGAEBAUyePJmpU6cS\n",
    "FhZGYGCgPeHI06ZNG9566y2ioqLo27cvTz/9NIcOHeLuu++mW7dujBs3jptvvplL\n",
    "ly7xySefsGHDBiwWC0eOHOGll16iRYsWBZbp7d69m4SEBD799FPWrVvH5s2bOX78\n",
    "OACNGzdm5cqVmEwm1q9fXyAOPz8/DAYDqampxMTEEBgYSGBgIDExMcTGxtKtWzcA\n",
    "Tp48yfz58wkLC6NXr15s376dY8eOsWfPHjZu3Mj7779PUlKSvT3uu+8+wsPD+ec/\n",
    "/8mkSZPsSVSfPn1Yu3YtN910EzExMRw+fJh69erx0UcfMWXKFK5cuVLO37KI8+zZ\n",
    "83WhbYcPH6r6QESuU19/HYXZbAZyl4zv3r3TyRGJiKuqcTNDkHuP0LRp07j11lvp\n",
    "2LFjkftcvHgRf39/ADp06MC5c+e44447GDhwIGPHjiUnJweTyVSo3MqVK0lJSeHt\n",
    "t98GID4+3n7vTXZ2Ns2aNSuw/7Fjx/D392fhwoXYbDb27t3L6NGj2bt3r30fNzc3\n",
    "PDw8GDt2LN7e3vz+++/k5OQUGXd8fDwdO3bEYDDg4eFB27ZtiY+PB7DPtNx8880c\n",
    "PHiwUNmuXbvy73//mz/++INbbrmFwMBA5s2bh4+PD0OGDAGgUaNGvP3223h7e3Ph\n",
    "wgU6dOhAfHw899xzD0ajEaPRyN13322PpV+/fvZyvr6+JCcnA3DnnXcCcMstt2A2\n",
    "m3n88cc5c+YML7/8Mu7u7owY4XrfgMr1o1u37mzbtrnAtjZt2jkpmurFx8cXHx9f\n",
    "Fi1a5pTjjx49gswrSU45dll5eUIt7xud1mbOVNxsWPfuD3PixDHMZjNeXl706PFI\n",
    "FUcmIpKrRs4M3XrrrVy5coWwsDD69+9f5D6NGjWyJxFHjhwBcu8vSk9P58MPP2TO\n",
    "nDm89dZbBcps2LCB77//nhkzZti3+fv7M3fuXMLCwhg3bhzdu3cvUOa7775j8eLF\n",
    "WK1WDAYDd9xxB7Vr18ZgMGAwGLDZbBw7doyoqCgWLVrE5MmTsVqt2Gw23NzcsFqt\n",
    "Bepr3ry5fYlcdnY2P/zwA7fddhsABoPhmu1y//33s3r1agICAuztdOnSJc6ePUur\n",
    "Vq0AmDx5MrNmzWLOnDncdNNN2Gw2WrRowZEjR7BarWRlZfHTTz/ZYzlw4AAAFy5c\n",
    "4PLly9SrV6/IWPbv389NN93Exx9/zIgRI1i4cOE1YxWpzoKDB+Pp6Vlg2+jRrzsp\n",
    "GpHrT0BAF5o0aQpAkyZN6dSps5MjEhFXVSNnhgB69+7Npk2b8Pf3tz+9Lb8ZM2bw\n",
    "+uuv4+vri4+PDzfccAPNmjXj/fffZ9u2bVitVl599VX7/klJSUydOpUOHTowdOhQ\n",
    "AAYMGMC0adMYP348OTk5GAwG+4xRHpPJxNy5c3niiSfw9fXFzc2NefNynzzVtm1b\n",
    "3nnnHRYuXEjt2rUJCgoCoGHDhiQmJtK+fXuys7OZP38+tWrVAqBHjx7ExsYycOBA\n",
    "srOzeeyxxwrcG3Qt9957Lz/++COjRo2yb2vVqhVpaWn25KV///6EhoZSu3ZtGjRo\n",
    "QGJiIi1btuTBBx9kwIAB1K9fHw8PD9zd3Rk+fDgTJ07kq6++IjMzkxkzZuDuXvRH\n",
    "plWrVowdO5aIiAhycnJ45ZVXHIpZpDpyc3OjZ89e9tmh9u3vxWg0OjkqkeuHwWCg\n",
    "d+/+fPTRUvr0eaLEL/tERCqLwaZHuLi85ORktm/fTmhoKFlZWfTp04fVq1fTuHHj\n",
    "Sj1uUlJqifs0bFjHof1cndrJMaVpJ6vVytSpb5CSkszixR+4XDJUXFvlLXty9jK5\n",
    "4P5l/+M54ovcYa88dZT2eLW8G7r0MrlFi5YV+kzZbDbWrw9n4MBQJUP5qD93jNrJ\n",
    "cWqr3DYoTo2dGZKKk/dEvKeffhqDwcCzzz5b6YmQSHXn5ubGW2/NdXYYItctg8FA\n",
    "UNAgZ4chIi5OyZDg5ubG7NmznR2GiIiIiEiVUjIkIiIOCwjo6uwQpAbR50VEqjsl\n",
    "QyIi4rCQkMHODkFqEH1eRKS6q5GP1hYRERERESkvJUMiIiIiIuKSlAyJiIiIiIhL\n",
    "UjIkIiIiIiIuScmQiIiIiIi4JD1NTkREapT0DIj4wlau8lC+Okp7vFreVXIoEREp\n",
    "JSVDIiJSY/j53VjuOiy2NABqefuWuy6j0Q2LxXrNfWp5V0zcIiJS8ZQMiYhIjTFl\n",
    "ykxnh1BAw4Z1SEpKdXYYIiJSRrpnSEREREREXJKSIRERERERcUlKhkRERERExCUp\n",
    "GRIREREREZekByiIiIhTzZjxJikpyc4OA4D09Nwnzfn4OPakOUeeJlfV/PxurHYP\n",
    "mhARqa6UDImIiFOlpCSTnJxULf4vnszM//vBLcOpcZRV5hVnRyAiUrMoGRIREaer\n",
    "5Q0PPe3sKCD6s9x/q0MsZZEXv4iIOEb3DImIiIiIiEtSMiQiIiIiIi5JyZCIiIiI\n",
    "iLgkJUMiIiIiIuKSlAyJyHVv3bo1rFu3xtlhiIg4TP2WSNVQMiQi173Y2O+Ijf3O\n",
    "2WGIiDhM/ZZI1VAyJCIiIiIiLknJkIiIiIiIuCQlQ+JSLBYLI0e+gMViKbDdZrMR\n",
    "GbkWi8XC1KlvYLVanRRh0YqL+2p552Gz2aoosoqNpTrFLyJS01mt1kJjmiP9bHn7\n",
    "YvXlUpMoGXLAhx9+yNChQxk0aBAmk4mjR48Wu29CQgIDBgyowuhK79KlS3z55ZeF\n",
    "tlutVpYvX05ISAgmkwmTycTx48edEGHleffduVy69AeLFs0rsD02dh9RUV+xaNE8\n",
    "4uNPEhkZ5qQIi1Zc3FfLO4+4uP1VFFnFxlKd4hcRqekiItYUGtMc6WfL2xerL5ea\n",
    "RMlQCU6dOkV0dDSrVq1i7dq1TJw4kYkTJzo7rHI5fvw40dHRhbavWLGCP/74g7Vr\n",
    "1xIWFsa4ceN4+eWXyc7OdkKUFc9isfCf//wAwKFDB+2zLDabja1bvyAzM4NDhw4C\n",
    "sGvXjmozO1Rc3FfLfx5btmxy6jdyZYmlOsUvIlLTWa1WoqN3An+OaY70s+Xti9WX\n",
    "S03j7uwAqrs6derw66+/snHjRgIDA2ndujUbN24EwGQyMW3aNJo3b05ERAQXL17k\n",
    "r3/9KykpKbz00kskJyfTvXt3XnnlFc6cOcObb75JdnY2tWrV4t133+XKlStMnDgR\n",
    "i8WCwWDgzTffpFWrVjzyyCO0b9+eM2fO0LVrV1JTUzl8+DD+/v7Mnz+fCRMmYLPZ\n",
    "+O2337hy5Qpz586lefPmLFiwgKNHj3Lp0iVatWrF7NmzSUlJYfz48aSmpmKz2Zg7\n",
    "dy7Lly/n2LFjrF+/noEDB9rPdf369Xz++ee4ueXmyG3atGHjxo14eHgQGxvLkiVL\n",
    "sNlspKens2DBAjw8PBgxYgT16tUjMDAQb29v/vWvf+Hm5sY999zDm2++6ZTfWXHe\n",
    "fXeuvVO22WwsWjSPf/zjDWJj95GQcM6+HcBsNhMZGUZIyBCnxZunuLivlv88EhLO\n",
    "ERe3n4CALlUaa3liqcz409PTMJvNDB48GIuleiS51Z3R6FZlbZWSkoybsUoOdd3L\n",
    "zoKUjGRGjx7h7FAKqcrPVE2W104pKcl4eXmVuZ6IiDWYzWbgzzGtefO/lNjPlrcv\n",
    "rk5jkYgjNDNUgkaNGrFs2TIOHjzIwIEDeeyxx9i9e/c1y1y5coX58+cTGRnJnj17\n",
    "OHbsGHPnzuXFF19k/fr1DB48mJ9++ol58+YxePBgwsPDmTRpkn3G6b///S+jR48m\n",
    "PDycNWvWEBISwoYNG/j++++5fPkyALfeeitr1qzh73//O/PnzyctLY26deuyatUq\n",
    "PvvsMw4dOsSFCxdYunQpDz30EJGRkYwfP57Dhw/z0ksv0aVLlwKJEEBmZiY33HBD\n",
    "gW3169cH4OTJk8yfP5+wsDB69erF9u3bAUhKSmLlypW88MILfP7550yePJn169dz\n",
    "++23k5OTUyG/g4py5Mh/Crw+fPgQAF9/HWUfMPKLibn277mqFBf31fKfh9lsZvfu\n",
    "nZUeW3HKEkt1il9EpKbbs+frAq9jYnY71M+Wty9WXy41jWaGSnD27Fl8fX2ZPXs2\n",
    "AEeOHOGFF16gc+fOBfbLPw3cqlUr6tSpA8A999zD6dOnOX36NO3btwegZ8+eAMye\n",
    "PZtOnToB0Lp1a37//XcA6tWrR+PGjQHw9vamRYsWQO4sVV4H06VL7rcs7du3Z9as\n",
    "WXh5eZGSksLYsWPx9vbmypUrZGdnc/r0aZ555hkAOnToQIcOHdi/v+g1vHXr1iUt\n",
    "LQ1fX1/7tp07d9K1a1caNWrE22+/jbe3NxcuXKBDhw4ANGnSBE9PT/v5fPzxx8yb\n",
    "N4927dpVu6nxe+5pa18GB9CmTTsAund/mBMnjhVKiAIDe1RpfMUpLu6r5T8PLy8v\n",
    "evR4pKpCrJBYKjN+Hx9ffHx8WbNmDUlJqRVW7/WsYcM6VdZWo0ePID0jqUqOdb3z\n",
    "8ASf2jeyaNEyZ4dSSFV+pmqyvHYq7+xet27d2bZts/11YGAPmjf/S4n9bHn74uo0\n",
    "Fok4QjNDJTh+/DgzZswgKysLAH9/f+rWrYvRaMTT05OkpNwB/KeffrKXiY+PJz09\n",
    "nZycHA4fPswdd9xB8+bNOXLkCABffPEFYWFhNG/enAMHDgDw888/06BBAwAMBkOJ\n",
    "cf34448AHDx4kDvuuIOYmBh+++03Fi5cyNixY8nMzMRmsxU4blxcHPPnz8fNza3I\n",
    "+2H++te/2pfC5dU9e/ZsPD09mTx5MrNmzWLOnDncdNNN9n3yltQBfPrpp0yfPp21\n",
    "a9fy888/88MPP5SipSvfmDHj7W1rMBgYPfp1AAICutCkSVP7dgAvLy+CgkzOCfQq\n",
    "xcV9tfzn0aRJUzp16lzkflWhLLFUp/hFRGq64ODB9mV2eWOaI/1sefti9eVS0ygZ\n",
    "KkGvXr3o2LEjzzzzDEFBQTz//PO8/vrr1KlTh8GDBzN9+nSef/75Aje133DDDYwZ\n",
    "M4agoCAeffRRWrRoweuvv84HH3yAyWTiyy+/pF+/frz++uusXbuW0NBQpk2bxttv\n",
    "v+1wXDExMQwePJgVK1Ywfvx42rRpw/nz5wkNDeXVV1/l1ltvJTExkZdeeoldu3Zh\n",
    "MplYvHgxQUFBNG3alBMnTvDJJ58UqPP555/H09OTgQMHEhISwqJFi1i2bBmenp70\n",
    "79+f0NBQgoKCSE9PJzExsVBMLVu2JCQkhMGDB+Pn50fbtm3L3O6VwWg00rZt7uxc\n",
    "u3YdMBpzb1IwGAz07t2fWrVq065d7oxXz569CiR6zlRc3FfLfx59+jzhUFJdWcoS\n",
    "S3WKX0SkpnNzc+Ohh3JnZfLGNEf62fL2xerLpaYx2KrbWiYp0YQJE+jduzeBgYHO\n",
    "DqVcHFkuUdHLKiwWC6NGvcQ//7m8QFJhs9lYvz6cZ58NZsaMN5k69e1qkwxB8XHn\n",
    "yWunvPMYODDU6QNQWWKprPjzlpuEh6/VMh0HOWOZ3ENPV8nhrin6s9x/q0MsZRH9\n",
    "GfjUbqhlcjXY1cvkyvO7tFqtTJ8+qcCY5kg/W96+uCrGIn2eHKe2ym2D4uieIXEp\n",
    "RqORJUs+KrTdYDAQFDQIgOnTZ1d1WCUqLu6r5T8PZytLLNUpfhGRms7Nza3QmOZI\n",
    "P1vevlh9udQkSoZqoDlz5jg7BBERERGRGq/6rAMSERERERGpQpoZEpHrXkBAV2eH\n",
    "ICJSKuq3RKqGkiERue6FhAx2dggiIqWifkukamiZnIiIiIiIuCQlQyIiIiIi4pKU\n",
    "DImIiIiIiEtSMiQiIiIiIi5JD1AQERGny7wC0Z85O4rcOKB6xFIWmVfAp7azoxAR\n",
    "qTmUDImIiFP5+d3o7BD+ZE0DwKe2r0O7G41uWCzWyoyoVHxqV7P2FBGp5pQMiYiI\n",
    "U02ZMtPZIZRZw4Z1SEpKdXYYIiJSRrpnSEREREREXJKSIRERERERcUlKhkRERERE\n",
    "xCUpGRIREREREZekByiIiEiNNGPGm6SkJFda/enp//dkOZ/inyxXEU+T8/O7sUY/\n",
    "REJEpCZTMiQiIjVSSkoyF5OTMPpUTv2WzNx/s4wZlXMAwJJeaVWLiIgDlAyJiEiN\n",
    "ZfSBRoMMlVL3hbU2oPLqz38MERFxDt0zJCIiIiIiLknJkIiIiIiIuCQlQyIiIiIi\n",
    "4pKUDImIiIiIiEtSMiQiUo2tW7eGdevWODsMkSqlz72IVBUlQyIi1Vhs7HfExn7n\n",
    "7DBEqpQ+9yJSVZQMiYiIiIiIS1IyJCIiIiIiLknJkIiIiIiIuKRqmwx9+OGHDB06\n",
    "lEGDBmEymTh69Gi56jOZTMTHx/Pee+8RERFR4D2r1crs2bN57rnnCA0NZdiwYZw/\n",
    "f75cxzObzWzYsKHQ9gkTJhATE1Ng2/333w/Ar7/+SnR0NABvv/02v/76qz3en3/+\n",
    "mSVLlgCwc+dOLly4UGIMgwYN4rvvCq65njlzZpFxAezfv58xY8YU2p4XS1GKak+R\n",
    "imKz2YiMXIvNZquQulauXFkhdYmI8+T1C1arlYiIMKZMmYDVasVqtTJ16htYrdZr\n",
    "lnd0PxFxDdUyGTp16hTR0dGsWrWKtWvXMnHiRCZOnFhpx9uzZw+JiYmsWrWK8PBw\n",
    "goKCmDVrVrnqTEpKKjbpKM6+ffs4ePAgAJMmTaJx48b291q3bs3IkSMBWLNmDWlp\n",
    "aSXW9+yzz7Jp0yb766ysLHbv3k2fPn1KFdfVsYhUldjYfURFfUVc3P4KqWvz5s0V\n",
    "UpeIOE9evxAREcb27Zv55ZdTREaGERGxhvj4k0RGhl2zvKP7iYhrcHd2AEWpU6cO\n",
    "v/76Kxs3biQwMJDWrVuzceNGIHeGp2XLlpw8eRJvb286duzIt99+y+XLl/n4448x\n",
    "Go1MmjSJ1NRUEhMTCQkJISQk5JrHq1+/PkePHmXr1q106dKFnj17EhgYCEDv3r3p\n",
    "2LEjJ0+e5IYbbmDhwoV4eHjwxhtvkJCQgMVi4bnnnqN3796YTCb8/Pz43//+R5Mm\n",
    "TTh16hRLliyxJzHXYrFY+PDDD8nMzKR9+/Z88sknTJs2zf7+/v37iYyM5IknnuDn\n",
    "n39m/PjxPPvss5w5c4bx48djsVh48skn2bhxI15eXgA89thjvPvuu2RkZFC7dm12\n",
    "7drF/fffj7e3N8ePH2fmzJkA1KtXz578nT17lmHDhpGSkkKPHj34+9//jslkYtq0\n",
    "adSvX5/x48eTmpqKzWZj7ty5Bc5hwYIFHDhwAKvVytChQ3n88ccd+4WLFMFms7F1\n",
    "6xdkZmawZcsmOnXqjMFgKFddV65cKXddIuI8+fuF6OgdWCwWAKKivrLvs2vXDoKC\n",
    "TLi5Ff6+12q1Eh29s8T9RMR1VMtkqFGjRixbtoy1a9fy/vvvU6tWLcaMGcOjjz4K\n",
    "QJs2bXjzzTd5/vnnqVWrFqtWrWL8+PHExcVxyy230D7m5PYAACAASURBVKdPH3r1\n",
    "6sWFCxcwmUwlJkNt2rThrbfe4tNPP2XmzJncfPPNTJgwgYCAADIzM+nXrx+dOnVi\n",
    "3rx5rF+/Hg8PD/z8/HjnnXdIS0vjqaeeokuXLgD07duXRx55hISEBE6cOOFQImQw\n",
    "GDAajbz44ov88ssv9OzZk08++aTIfbt3707r1q2ZNm0ajRo14qmnnuK1115jz549\n",
    "dO7c2Z4IAXh5efHwww+zc+dO+vfvz+eff25fBjd58mRmzZpFixYt2LBhAytWrOC+\n",
    "++7DbDazdOlSLBYL3bt35+9//7u9vqVLl/LQQw8RHBzMwYMHOXz4sP29b775hoSE\n",
    "BCIiIjCbzQwYMID777+funXrlnj+IkWJjd1HQsI5ABISzhEXt5+AgC5Or6uqpaen\n",
    "YTabGT16RJUe12h0w2Kp3suIUlKSsRmdHUX5WM2QciW5yn+/zlCaz1RKSnKB8SxP\n",
    "/mvZbDbbt2dlZdl/NpvNREaGERIypFD5iIg19nLX2k9EXEe1TIbOnj2Lr68vs2fP\n",
    "BuDIkSO88MILdO7cGYC77roLgLp169KiRQv7z2azmQYNGrB69Wp27NiBr68vOTk5\n",
    "JR7v2LFj+Pv7s3DhQmw2G3v37mX06NHs3bsXd3d3OnXqBECHDh2IiYnBaDRy3333\n",
    "AeDr60vz5s3t9xj5+/tf81heXl4FOm3AoRiL4uvrS6dOnfj222/5/PPPefnllwvt\n",
    "8+yzzzJv3jw6d+7M5cuXufPOOwGIj49n+vTpAGRnZ9OsWTMA7rjjDjw9PQFwdy/4\n",
    "8Th9+jTPPPMMkNsWHTp04L333gPgxIkT/Pjjj5hM/5+9Ow9vqsz7P/5OQjfSsrTU\n",
    "qgNCWRRlBoFhHRXZREWREVkL5VflAcVBKYzIIiKrCiiLoB3BQSzQgqwiiyACojxI\n",
    "URGVka1sskg3KrSlKU3y+4OnGUob2krTpM3ndV1zTXKW+/7mTnLsJ/c5h0jHazpz\n",
    "5ozCkPxhO3ZszfdHy/btn//hAFOabYmI+1z7Xb6RnTu3FxpyvvpqR7G2ExHv4ZFh\n",
    "6NChQyxfvpyYmBh8fX0JDw+nSpUqmExF/wS4cOFCmjRpQkREBN988w1ffvllkfvs\n",
    "3r2bo0ePMnnyZIxGIw0aNCAgIACDwUBubi4HDx6kYcOGfPfdd9SvXx+j0ci3337L\n",
    "Qw89REZGBocPH6ZmzZoAjlNvjEZjoRdnNmrUiM8//5xOnToB8O233zoCnbN9rmcw\n",
    "GBwXgffq1YsFCxZw4cIFGjZsWGDbu+66i8zMTGJjY3nqqaccy8PDw5k2bRq33347\n",
    "3333HcnJyfnqL0y9evX46aefaNiwIXv37mXHjh34+/sDULduXVq1asXkyZOx2Wy8\n",
    "99571KpVq8jXIuJMu3adOHz4IBaLBT8/P9q3f8gj2iprZnMgZnMgs2fHlGm/oaFB\n",
    "JCdfKtM+Syo6eggXspPdXcZNMfpBdf+QMn9/3aEknylnM2XXfpdvpG3b9oUuf+CB\n",
    "dmzatL7I7UTEe3hkGOrcuTOJiYn06NGDypUrY7fbefnllwkKCipy3/bt2zNlyhQ2\n",
    "btxIUFAQJpOpwEzM9SIjI5k2bRrdunUjMDAQo9HI9OnTHesXLFjA2bNnuf322/Od\n",
    "Zta3b18sFgtDhw4lJCQkX5shISFcuXKFGTNmMHLkSMfyJ598kl9++YVu3bphNpvx\n",
    "8fFh0qRJANx5553ExMQ4Zr6cadq0KS+//DILFy7k3nvv5eTJk/Tr18/p9k899RQz\n",
    "Zsxg+/btjmUTJkxg1KhR5ObmYjAYmDp1KklJSTfs97nnnmPs2LGsW7cOgNdff521\n",
    "a9cC0KFDBxISEoiIiCArK4tOnToRGBh4w/ZEbqRly9Zs3LiOxMQj1Kx5By1atPKI\n",
    "tkTEfa79Lvv5+TlCUd4ZDTk5Ofj5+dGnT2Sh+/ftO4Bt2z53/DDibDsR8R4Gu+4z\n",
    "e0MdOnRg06ZNhZ677AlsNht9+/bl3//+d7kLH8X5hbA8/DrtCSrqOO3Zs5sFC95j\n",
    "8OB/3PRpbXv27Obf/47hf/7n+XJ1ilzeL+SaGSoob2YorL9rboZxfsnV/zy6qv28\n",
    "Pqr7h2pm6Do3+tznHRfat+/Eli0bsVqtdOnSFbvdzqZN6+nSpesNT31bunRRsbZz\n",
    "l/Lw3fMEGqfi01hdHQNnPHJmSIrn119/ZejQoXTv3r3cBSGR4mjZsjXHjyeWykxO\n",
    "y5atOX/+V80KiZRzeceFXr0iMBqN/PLLAccMz+HDh4qc7enbd0CxthMR76AwVIS8\n",
    "fwTVE9WqVSvfvyMkUtEYDAb69Olfam0NHDjQ638dEynvrj0u9O2bP9BMnPhGkfsb\n",
    "jcZibSci3kE31xcREREREa+kmSEREQ/WsmUbd5cgUub0uReRsqIwJCLiwSIiBri7\n",
    "BJEyp8+9iJQVnSYnIiIiIiJeSWFIRERERES8ksKQiIiIiIh4JYUhERERERHxSrqB\n",
    "goiIlFvWTDi/xO6ytsF17Tv68HdZ8yIiUgSFIRERKZeCg0Nc2n6mNQMAs3+g021M\n",
    "JiNWq+2Pd+Lv+tchIiLOKQyJiEi5NH78FHeXQGhoEMnJl9xdhoiI/EG6ZkhERERE\n",
    "RLySwpCIiIiIiHglhSEREREREfFKCkMiIiIiIuKVdAMFERHxaJMmjSMtLdXdZRQq\n",
    "KysTu92O2ez8jnMlFRwc4hE3hxAR8QYKQyIi4tHS0lJJSU0Gs5+7SynosuXq/5lu\n",
    "4vba18q0lE47IiJSLApDIiLi+cx+mPq3dHcVBViXJACUWm157YmISNnQNUMiIiIi\n",
    "IuKVFIZERERERMQrKQyJiIiIiIhXUhgSERERERGvpDAkIiIiIiJeSWFIRMRF4uJi\n",
    "iYuLdXcZIl5P30URcUZhSETERRISdpOQsNvdZYh4PX0XRcQZhSEREREREfFKCkMi\n",
    "IiIiIuKVFIZuYM+ePdx1111s2LAh3/KuXbsyevRoAIYOHep0/+TkZCZMmODKEv+Q\n",
    "Q4cOsXfv3gLLf//9d8aOHUv//v3p06cPw4cP59KlS26oUEREpOzYbDZefXUU48eP\n",
    "wWazOd3mtdfyry9s2fX7jB8/huefH4jVanVJ7e5W1BiIeDqFoSLUrVs3Xxg6dOgQ\n",
    "ly9fdjyfN2+e031DQ0M9Mgxt2bKFo0ePFlg+YsQI2rdvz5IlS1i2bBn33nsv48eP\n",
    "d0OFIiIiZSc+PpbjxxM5duwIy5YtdrpNYmL+9YUtu36fY8eOcPHi78yePd0ltbtb\n",
    "UWMg4ukqubsAT9ewYUOOHz/OpUuXCAoKYt26dXTt2pVz584BcN9997Fr1y4iIyNp\n",
    "2LAhR44cISMjgzlz5mC32xkxYgQff/wx27dvZ968edjtdho1asTEiRPZvXs3s2fP\n",
    "xs/Pj2rVqvH666/zyy+/MH/+fHx8fPjtt9/o06cP33zzDQcPHmTAgAFERETQpUsX\n",
    "mjdvzpEjR6hatSozZ87EZrPxyiuvcOnSJZKSkoiIiCAiIoL9+/fz+uuvY7PZCAsL\n",
    "49VXX2XNmjX4+PjQqFEjGjduDMCZM2dISUnhoYcecrz2yMhInnrqKQCWLFnCli1b\n",
    "uHz5MtWrV2fevHmsX7+eVatWYbPZePHFF1m3bh0nT54kOzubAQMG8Pe//73s3zAR\n",
    "EZESsNlsbN262fH8iy+20KdPJEajMd8227Z9nm89UGCZs30A9u37DqvVislkcunr\n",
    "KUuFjcu1YyBSHigMFUPnzp3ZsmUL3bt358cff2TQoEGOMHStxo0b88orrzBr1iw2\n",
    "bNhAly5dAMjNzWXy5MmsWLGCkJAQFixYwLlz53j11VeJj48nLCyMjz76iJiYGNq1\n",
    "a8dvv/3G2rVrOXDgAMOGDePzzz/n/PnzDB06lIiICLKzs+natSstWrRg+vTpLF++\n",
    "nJYtW/LYY4/RuXNnzp8/T2RkJBEREYwfP56ZM2dSr149VqxYQUpKCk8++SQ1atRw\n",
    "BCGApKQkatasme/1mEwmgoKCsNlspKens2jRIoxGIwMHDuSnn34CoEqVKsTExJCR\n",
    "kcGrr77Kxx9/DMCuXbtc9XaIlBuZmRlYLBaio4e4u5QSM5mMWK2ecdpLWloqmAzu\n",
    "LqNsWHJJy0otl5+ZorjzM5WWloqfn1+h6+LjY7ly5YrjucViYdmyxURE/L9821gs\n",
    "lnzr7XZ7gWXO9skze/Z0/vnPMaX2utytsHG5dgxEygPF92Lo2rUrGzduZO/evTRv\n",
    "3tzpdvfccw8At956a74D4IULF6hSpQohISEADBo0iICAAAIDAwkLCwOgRYsWHDly\n",
    "BIAGDRrg4+NDUFAQd9xxB76+vlStWtXRZqVKlWjRogUAzZo14/jx49SoUYOtW7fy\n",
    "0ksvERMTQ25uLgApKSnUq1cPgJ49e9KoUaNCa7/99tv57bff8i27cuUK69atw2g0\n",
    "4uPjw4gRIxg7diy//fabo/3w8HAAAgMDGTt2LK+++irDhw8nJyenuMMrIiLiNl99\n",
    "taPAsp07t99wm507txe6rKh2f/zxhz9SoscqagxEygPNDBVDrVq1yMrKYvHixYwY\n",
    "MYJff/21RPuHhIRw8eJF0tPTqVatGlOmTKFr165kZGSQlJTELbfcQkJCAnXq1AHA\n",
    "YLjxL6C5ubkcPHiQhg0b8t1331G/fn0WLlxIkyZNiIiI4JtvvuHLL78E4JZbbuHE\n",
    "iRPUqVOH+fPnEx4ejsFgKHChY1hYGNWrV2fr1q106tQJgNjYWH788UfuvPNOtm7d\n",
    "yooVK7h8+TLdu3fHbrcDOKbDk5KSOHDgAO+++y4Wi4UHH3yQbt26UamSPmLivczm\n",
    "QMzmQGbPjnF3KSUWGhpEcrJn3EAlOnoIKdkX3V1G2fCrRLB/lXL5mSmKOz9TN5pp\n",
    "e+CBdmzatD7fsrZt299wm7Zt22O32wssK6rdxo2blLh2T1bYuIiUN/pLtZi6dOnC\n",
    "J598Qnh4eInDkNFo5LXXXuPZZ5/FaDRyzz330LhxY6ZMmcILL7yAwWCgatWqvPHG\n",
    "G47ZoaIsWLCAs2fPcvvttzN8+HC+//57pkyZwsaNGwkKCsJkMpGTk8PEiRMZO3Ys\n",
    "RqOR0NBQoqKi8PHxYfr06dSrV4/WrVs72pw+fTqTJk1i4cKFXLlyhTvuuIMpU6ZQ\n",
    "qVIlAgIC6NOnD3D1xhBJSUn56gkNDSU5OZk+ffpgNBp55plnFIRERMTj9e07gK1b\n",
    "NztOlfPz83NcE3TtNtu2fY7FYsm3vrBlhe2TJzr6ZRe/mrLlbFxEyhODPe8nfik3\n",
    "OnTowKZNm5ye/1xeFOcXQk/6ddqTaZyKp6zHKe/X6PL4K78nfabyZoZM/Vu6u5QC\n",
    "rEsSAEqtNuuSBGpoZqjUFfVdXLp0kWOGo0uXroVe95K3zbXrC1vmrN2mTf9arOuF\n",
    "POm7VxxLl954DFylvI2TO2msro6BM/rpXkRERLxa374DOHjwFwwGo9PZjb59B3D4\n",
    "8KF86wtbdv0+hw4dIiUlqcLNCuUpagxEPJ3CUDm0bds2d5cgIiJSYRiNRiZPnlbk\n",
    "NhMnvlHksuvXT5rkfH1FUNQYiHg63U1ORERERES8kmaGRERcpGXLNu4uQUTQd1FE\n",
    "nFMYEhFxkYiIAe4uQUTQd1FEnNNpciIiIiIi4pUUhkRERERExCspDImIiIiIiFdS\n",
    "GBIREREREa+kGyiIiIjny7RgXZLg7ioKyrQAlF5tmRbwL52mRESkaApDIiLi0YKD\n",
    "Q9xdglNZtkzsdjtm/8DSadDfs1+viEhFozAkIiIebfz4Ke4uwanQ0CCSky+5uwwR\n",
    "EfmDdM2QiIiIiIh4JYUhERERERHxSgpDIiIiIiLilRSGRERERETEKxUrDOXk5ABw\n",
    "8uRJduzYgc1mc2lRIiIiIiIirlbk3eTmzZvHqVOniI6Opl+/ftSvX5+tW7cyZYrn\n",
    "3t1HRESkpCZNGkdaWmqJ9jGZjFitN/6BMDMzAwCzuZRuv11OFWesiiM4OMSj7zAo\n",
    "IuVLkWFo27ZtLFu2jEWLFvHEE0/w8ssv071797KoTUREpMykpaWSkpoC5oDSbTg7\n",
    "G4DLJkPptuuNMi+7uwIRqWCKDEM2mw1fX1+2b99OdHQ0NpuNy5d1MBIRkQrIHECl\n",
    "iMdKtcncuA0Apd6uN8obSxGR0lLkNUNt2rTh8ccf58qVK7Ro0YL+/fvToUOHsqhN\n",
    "RERERETEZYqcGRo1ahSRkZGEhYVhNBoZP348DRs2LIvaREREREREXKbImaEff/yR\n",
    "zZs3Y7VaeeaZZ4iKimLz5s1lUZuIiIiIiIjLFBmGpkyZwp///Gc2b96Mv78/a9as\n",
    "Yf78+WVRm4iIiIiIiMsUGYZsNhstWrRgx44ddO7cmdtuuw2r1VoWtYmIiOQTFxdL\n",
    "XFysu8sQcSt9D0RKT5FhKCAggIULF/LNN9/Qvn17PvroI8xmc1nUJiIikk9Cwm4S\n",
    "Ena7uwwRt9L3QKT0FBmG3nrrLbKyspg7dy5Vq1YlKSmJmTNnlkVtIiIiIiIiLlNk\n",
    "GAoLC6NDhw7YbDb27t3LAw88wFdffVUWtYmIiIiIiLhMsW6tvW/fPn7//Xfq1q3L\n",
    "wYMHadasGT169CiL+kRERERERFyiyJmhvXv3smHDBh5++GEmT57Mxx9/TE5OTlnU\n",
    "xvz584mKiqJ///5ERkby888/l0q7U6dO5ezZs07Xd+jQAYvFkm9ZZGQkPXr0IDIy\n",
    "ksjISJ5++mnOnz9fKvXcrF9//ZUOHTpgt9sdy65cuUKHDh24dOlSofuMHj2anTt3\n",
    "5luWnJzMhAkTnPZT2LiIiIiIiJRXRc4M3XLLLfj4+FCvXj0OHTrEY489RmZmpssL\n",
    "O3r0KNu2bSM+Ph6DwcAvv/zCqFGjWLdu3U23/corr/yh/aZNm0a9evUAiIuLY+HC\n",
    "hYwZM+am67lZtWrV4o477iAhIYFWrVoBsG3bNlq1akVQUFCx2wkNDb1hGBIRERER\n",
    "qUiKDENhYWG8//77tGnThhkzZgCQlZXl8sKCgoI4e/YsK1eupG3bttx9992sXLkS\n",
    "uDpLEx4ezvHjx7Hb7cyaNYvQ0FDefvttvv32W2w2G1FRUTz66KPs37+f119/HZvN\n",
    "RlhYGG+99RaDBg1iwoQJmM1mJkyYgMViITk5mejoaDp16lSs+n7//XcqV67Mnj17\n",
    "WLZsGbNmzQLgvvvuY9euXYwePZr09HTS09MZOHAgcXFxGI1GkpOT6d27N/369eM/\n",
    "//kPkydPxmQy4efnx+TJkwkJCWHYsGFkZGRw+fJlhg8fzv3338+mTZtYtGgRRqOR\n",
    "v/71r7z00kv56unVqxdr1651hKFVq1bx/PPPA7B48WLWr1+PwWCgS5cuDBgwAIDl\n",
    "y5fzwQcfkJGRwYQJEwgODmbEiBF8/PHHbN++nXnz5mG322nUqBETJ0509HXu3Dle\n",
    "ffVVLBaLo+7g4OBC6xYRKU2ZmRlYLBaio4eUettpaalgKvKECXEnSw5pWdkuef89\n",
    "hclkxGq13XCbtLRU/Pz8yqgikYqtyDA0depUvvzySxo3bkznzp1Zv359mcwehIWF\n",
    "ERMTw5IlS3j33Xfx9/dn+PDhPPzwwwA0a9aMSZMmsXTpUt5//30eeOABTp8+TXx8\n",
    "PBaLhV69enHfffcxfvx4Zs6cSb169VixYgWJiYmOPo4dO8bTTz9Nq1at+P7775k7\n",
    "d+4Nw9CoUaMICAjAYDAQHh7OyJEjOXDggNPtW7duTVRUFHv27OH8+fOsXbsWm81G\n",
    "165deeSRRxg3bhxTp07l7rvvZuvWrbz55pu88MILpKen88EHH5CamsqJEydIT09n\n",
    "7ty5rFq1ioCAAEaOHMmuXbu47777HH116tSJmTNnkp2dzcWLF0lJSaFJkyYcPXqU\n",
    "jRs3EhcXB8DTTz/tCCmNGjXi+eefZ/Xq1axevZr/+Z//ASA3N5fJkyezYsUKQkJC\n",
    "WLBgAb/99pujr2nTphEZGcmDDz7I7t27eeutt3juuecK1C0iIiIi4smchqFrr6lp\n",
    "2rQpZ8+epWPHjnTs2LFMCjt58iSBgYG88cYbAPz0008MGjTIMfPRunVr4Goo2rZt\n",
    "G2FhYRw4cIDIyEjg6h/0Z86cISUlxXFqW8+ePfP1ERoaSkxMDCtXrsRgMJCbm3vD\n",
    "mq49Tc6Za6/bCQ8Pdzxu2rQpvr6+ADRo0IBTp06RlJTE3XffDUCLFi14++23adCg\n",
    "Ab1792bEiBHk5uYSGRnJqVOnSEtLY/DgwQBkZmZy6tSpfGHI19eXTp06sXXrVs6e\n",
    "PctTTz0FwOHDhzl79ixRUVHA1RmtkydPAlfDEECNGjXIzs52tHXhwgWqVKlCSEgI\n",
    "AIMGDcr3Gg8fPsz777/PBx98gN1up1KlSoXWLSJS2szmQMzmQGbPjin1tqOjh5CS\n",
    "7frTwOUm+PkS7G92yfvvKUJDg0hOLvx63zwVeWZMpKw5DUP9+/d3upPBYOCLL75w\n",
    "SUF5Dh06xPLly4mJicHX15fw8HCqVKmCyWQC4Oeff+bWW2/l+++/p379+tStW5dW\n",
    "rVoxefJkbDYb7733HrVq1eKWW27hxIkT1KlTh/nz5+cLKHPmzKFnz548+OCDrFq1\n",
    "ijVr1pS4Tj8/P5KTkwE4c+YMv//+u2OdwWBwPP7ll1+wWq3k5ORw9OhRateuzS23\n",
    "3MLBgwdp2LAhe/fupU6dOhw6dIjMzEzmz59PUlISffr0YeXKldx2220sXLgQHx8f\n",
    "Vq9e7QhR1+rZsyczZswgLS2Nf//73wDUrVuX+vXr88EHH2AwGFi0aBF33XUXmzdv\n",
    "zlfftUJCQrh48SLp6elUq1aNKVOm8MQTTzjW161bl2eeeYZmzZqRmJjI3r17C627\n",
    "ffv2JR5PEREREZGy4jQMbdu2rSzrKKBz584kJibSo0cPKleujN1u5+WXX3bcEGDN\n",
    "mjUsWrSIgIAApk+fTrVq1UhISCAiIoKsrCw6depEYGAgEydOZOzYsRiNRkJDQ4mK\n",
    "iiI2NhaARx55hOnTpzN//nxuvfVWLly4UOI6//znPxMUFETPnj2pV68eNWvWLHS7\n",
    "3NxcBg0aRHp6OkOGDCE4OJgpU6YwefJk7HY7JpOJ119/nVtuuYV3332XTZs2YbPZ\n",
    "ePHFFwkODiYqKorIyEisVit/+tOfePTRRwv0Ua9ePbKysqhXr55jnBo2bEibNm3o\n",
    "27cvOTk5NG7cmLCwsBu+JqPRyGuvvcazzz6L0Wjknnvu4S9/+Ytj/ahRoxzXWmVn\n",
    "Z/PKK69Qp06dAnWLiIiIiHgyg/3a87qus2rVKho0aEDjxo0BmDlzJrVr13acguUu\n",
    "kZGRTJgwochT1jzF9TdZkKuKOg0Aine6gGicikvjVHyeOlZ5pwe58jS5ShGPlWq7\n",
    "uXEbAEq9XW+UG7eBGjpNzqXfg/LCU49RnkhjdXUMnHF625zFixezbNkyAgMDHcvu\n",
    "v/9+4uLiHBfji4iIiIiIlFdOT5NbuXIlS5cuzReGWrZsyYIFC4iKiiIiIqJMCizM\n",
    "4sWL3db3H9GqVSvHjR9ERERERMQzOA1DRqMxXxDKExwcjNGof4dBRETKXsuWbdxd\n",
    "gojb6XsgUnqchiGTyURqaqrj9sp5UlJSsFqtLi9MRETkehERA9xdgojb6XsgUnqc\n",
    "TvH079+fQYMG8e2335KTk4PFYuHbb79lyJAh9O7duyxrFBERERERKXVOZ4batWtH\n",
    "Tk4OI0eO5Ny5cxgMBmrVqsUzzzxDnz59yrJGERERERGRUuc0DD388MO0bt2aSZMm\n",
    "0ahRI0wmE1WrVi3L2kRERERERFzG6WlyO3bsoEOHDixatIgePXqwaNEiTp8+XZa1\n",
    "iYiIiIiIuIzTmaGAgAC6detGt27dOH/+POvXr+cf//gH1apVo0ePHnTt2rUs6xQR\n",
    "EXG9zMuOfyS1NNsESr9db5R5GfzN7q5CRCoQp2HoWmFhYQwcOJDHHnuM9957jzFj\n",
    "xigMiYhIhRIcHFL0RtcxmYxYrbYbbpNptQNg9vI/4oszVkXyN/+h90lExJkiw9DF\n",
    "ixf57LPP+PTTT0lJSeHJJ5/kiy++KIvaREREysz48VNKvE9oaBDJyZdcUE3Fo7ES\n",
    "EU/kNAxt3LiRdevWsW/fPjp27MiwYcNo3rx5WdYmIiIiIiLiMk7D0NKlS+nevTsz\n",
    "Z86kcuXKZVmTiIiIiIiIy90wDImIiIiIiFRUTm+tLSIiIiIiUpEpDImIiIiIiFcq\n",
    "1q21RUREvMGkSeNIS0st9valcrvo/5OZmQGA2RxYKu25QnBwyB+6656IiKdSGBIR\n",
    "Efk/aWmppKSmgNkN/yZQdjYAl02msu+7ODIz3V2BiEipUxgSERG5ltmMb99+Zd5t\n",
    "TvzVGxe5o+/iyKtPRKQi0TVDIiIiIiLilRSGRERERETEKykMiYiIiIiIV1IYEhER\n",
    "ERERr6QwJCLigeLiYomLi3V3GSJSjui4IVJyCkMiIh4oIWE3CQm73V2GiJQjOm6I\n",
    "lJzCkIiIiIiIeCWFIRERERER8UoKQyLiUjabjddeG4PNZivRurJgt9tZtmwJdru9\n",
    "WHVduzzvcU5ODs88E8Hzzw/EarWWZfkiIgXkHZvi4mKxWq0FjmXXHseysrLo378H\n",
    "WVlZbqxYxL0UhjzUnj17GD58eJn2abFYmDZtGhEREfTr149BgwZx7ty5Mq1BKp74\n",
    "+FgSE4+wbNniEq0rCwkJ37B162b27t1TrLquXZ73+MUXnyUnJ4eLF39n9uzpZVm+\n",
    "iEgBmZmZJCYe4bPP1jNr1vQCx7Jrj2ODBw8AcPy/iDdSGBKHqVOnEhYWRlxcHEuX\n",
    "LqVXr15ER0e7uywpx2w2G9u2fQ7AF19sKfDrpLN1ZcFut7Nx4zqysy+zYcMnjtkh\n",
    "Z3Vdv3zr1s0AZGRccrS5b993mh0SEbex2WxYLNmOxz/88B3w32PZ9cexa2l2SLxV\n",
    "JXcXICXz2WefsXTpUnJzczEYDMybN48jR47w1ltv4ePjQ69evahatSrvvPMOgYGB\n",
    "VK1albvuuosXXniBt99+m2+//RabzUZUVBSPPvqoo92cnBy2bdvGxIkTHcseeugh\n",
    "mjdvXux+jx8/zp49e8jNzaVz584MHjy4zMdHwbVRVgAAIABJREFUPEt8fCwWiwW4\n",
    "OvO4bNliIiL+X5HrykJCwjecPn0KgNOnT7F37x5atmzttK7rlzsze/Z0/vnPMTdd\n",
    "X2ZmBhaLhejoITfd1h9hMhmxWt1z+qI7paWlgsnk7jI8k8VCWlbWH/5MeutnqqRu\n",
    "ZpzS0lILXZ53LLPb7U6PY4MHD2DJkpV/qF+R8kwzQ+XMiRMnmD9/PvHx8dSvX5+v\n",
    "v/4auHpQi4uLo2vXrkyZMoUFCxawePFi/Pz8APjyyy85ffo08fHxxMbG8q9//YuL\n",
    "Fy862k1PT6dGjRoYDIZ8/VWvXr1Y/f7973/n008/5a233iIuLo4qVaqUxXCIh/vq\n",
    "qx35nu/cub1Y68rCjh1b8/1RsH375zes6/rlzvz44w+lVqOISGnZuXN7sY9jIt5E\n",
    "M0PlTEhICKNGjcJsNnPs2DGaNGkCQHh4OABpaWkEBgZSo0YNAJo3b05KSgqHDx/m\n",
    "wIEDREZGApCbm8uZM2ccoaV69epcvHgRu92eLxCtW7eORx99tMh+AWbMmMHbb79N\n",
    "SkoKDzzwgOsHQzzeAw+0Y9Om9Y7nbdu2L9a6stCuXScOHz6IxWLBz8+P9u0fumFd\n",
    "1y93pnHjJqVSn9kciNkcyOzZMaXSXkmFhgaRnHyp6A0rmOjoIaRkX3Z3GZ7Jz49g\n",
    "/4A//Jn01s9USd3MOA0c2N9xmtz12rZtj91uL9ZxTMSbaGaoHLl06RLvvPMOs2bN\n",
    "YsqUKfj5+TmuczAar76VISEhZGZmkpaWBsD+/fsBqFu3Lq1atWLx4sV89NFHPPro\n",
    "o9SqVcvRto+PD/fffz+LF//3IstNmzYRGxtLdnZ2kf3m5OTw2WefMXPmTGJjY1mz\n",
    "Zg1nzpxx/aCIR+vbd4BjdtLPz48+fSKLta4stGzZmpo17wCgZs07aNGi1Q3run65\n",
    "j49Poe1GR7/s6tJFRAplNpsLXZ53LLv+OHat+fNjXV6fiCdSGPJgu3btonv37o7/\n",
    "JScn06xZM3r37k2/fv3w9/cnKSkp3z5Go5FXX32VQYMGERUVxdmzZ6lUqRIdOnSg\n",
    "cuXKRERE0L17dwACAwPz7TtmzBiOHj1Knz596NOnD2vXrmXu3LkEBgYW2a+vry9V\n",
    "q1alV69eDBgwgPvuu4/bb7/dtQMkHs9oNNKhw9UZl44dOzvCc1HryoLBYKBLlyfw\n",
    "9w/gsce6OWZEndV1/fJOnR4GIDAwyNFm06Z/xaTrTUTETYxGI35+/o7HTZr8Ffjv\n",
    "sez649i1KleuXLbFingInSbnoVq1akVCQkKB5XPmzHG6fZ6DBw8SHx+Pr68vL730\n",
    "ErfddhsGg4ExY258UXdAQACTJk0qdF1x+h06dChDhw69YR/iffr2HcDhw4cKnfm5\n",
    "0bqy0LJla44fT3TMChVV1/XLDx8+xCuvTOS556Lw9w/QrJCIuJ3ZbKZmzVrcddfd\n",
    "9O7dj0mTxhWYlc87jv397z0ZPHiAZoXEqykMVUBms5levXrh7+/Pn/70J7p06eLu\n",
    "ksSLGY1GJk58o8TryoLBYKBPn/4Fljur6/rleY8XLoxzXZEiIiXg7DhV2PrKlSvr\n",
    "DnLi9RSGKqD+/fvTv3/BP/BEREREROS/FIZERDxQy5Zt3F2CiJQzOm6IlJzCkIiI\n",
    "B4qIGODuEkSknNFxQ6TkdDc5ERERERHxSgpDIiIiIiLilRSGRERERETEKykMiYiI\n",
    "iIiIV1IYEhERERERr6S7yYmIiFwrM5Oc+KVu6RdwT9/FkZkJ/gHurkJEpFQpDImI\n",
    "iPyf4OCQEm1vMhmxWm2l0nem1QqA2VMDh39AicdHRMTTKQyJiIj8n/Hjp5Ro+9DQ\n",
    "IJKTL7moGhERcTVdMyQiIiIiIl5JYUhERERERLySwpCIiIiIiHglhSEREREREfFK\n",
    "uoGCiIhIKZk0aRxpaaml1l5mZgYAZnPgDbcLDg4p8c0fREREYUhERKTUpKWlkpKa\n",
    "gsFcpVTas2dnA5Bt8nW+TebFUulLRMQbKQyJiIiUIoO5CgERL5ZKW5fj3gG4YXt5\n",
    "24iISMnpmiEREREREfFKCkMiIiIiIuKVFIZERERERMQrKQyJiIiIiIhXUhgSEZEK\n",
    "Ky4ulri4WHeXUW5p/ESkolMYEhGRCishYTcJCbvdXUa5pfETkYpOYUhERERERLyS\n",
    "wpCIiIiIiHglhSGRCsZms/Haa2Ow2WzuLkVERETEoykMVVB79uzhrrvuYsOGDfmW\n",
    "d+3aldGjRzN06FCn+yYnJzNhwgQXVyiuEh8fS2LiEZYtW+zuUkREREQ8msJQBVa3\n",
    "bt18YejQoUNcvnwZgHnz5jndLzQ0VGGonLLZbGzb9jkAX3yxRbNDIiIiIjdQyd0F\n",
    "iOs0bNiQ48ePc+nSJYKCgli3bh1du3bl3Llz3HfffezatYvIyEgaNmzIkSNHyMjI\n",
    "YM6cOdjtdkaMGMGkSZOYOnUqixdfnWF49tlnGTZsGKdOnWLp0qXk5uZiMBiYN28e\n",
    "R44cYcGCBfj4+HD69Gm6dOnCkCFD3DwC3ic+PhaLxQKAxWJh2bLFRET8PzdXJeI+\n",
    "mZkZWCwWoqNdczwymYxYrf/90SEtLRW7qWz/02q3XCYt65JLXmNaWip+fn6l3q6I\n",
    "iKfQzFAF17lzZ7Zs2YLdbufHH3+kadOmBbZp3LgxixYt4r777ss3k9SwYUNycnI4\n",
    "c+YMSUlJXLhwgXvuuYcTJ04wf/584uPjqV+/Pl9//TUAZ8+eZe7cuSxfvpwPPvig\n",
    "zF6j/NdXX+3I93znzu3uKURERESkHNDMUAXXtWtXJkyYQK1atWjevHmh29xzzz0A\n",
    "3HrrraSkpORb16NHD9auXYuvry/du3cHICQkhFGjRmE2mzl27BhNmjQB4M4776RS\n",
    "pUpUqlQJf39/F74qceaBB9qxadN6x/O2bdu7sRoR9zObAzGbA5k9O8Yl7YeGBpGc\n",
    "fMnxPDp6CKnZOS7pyxmDXwDB/r4ueY2umlETEfEUmhmq4GrVqkVWVhaLFy/miSee\n",
    "KPH+Xbp0YceOHWzdupXHH3+cS5cu8c477zBr1iymTJmCn58fdrsdAIPBUNrlSwn1\n",
    "7TvAcUqLn58fffpEurkiEREREc+lMOQFunTpwrlz5wgPDy/xvmazmYYNG1K3bl0C\n",
    "AwMJDAykWbNm9O7dm379+uHv709SUpILqpY/wmg00qHDQwB07NgZo1FfcRERERFn\n",
    "dJpcBdWqVStatWoFQGRkJJGRV2cI2rZtS9u2bR3b5d0cAaBv376Oxx9//LHj8eTJ\n",
    "kx2PDQYDc+bMcdpnnl27dt3kK5A/qm/fARw+fEizQiIiIiJFUBgSqWCMRiMTJ77h\n",
    "7jJEREREPJ7OoREREREREa+kMCQiIiIiIl5Jp8mJiEiF1bJlG3eXUK5p/ESkolMY\n",
    "EhGRCisiYoC7SyjXNH4iUtHpNDkREREREfFKCkMiIiIiIuKVFIZERERERMQrKQyJ\n",
    "iIiIiIhX0g0URERESpE98yKX494ptbaAG7Znz7wI/jVKpT8REW+jMCQiIlJKgoND\n",
    "SrW9TKs/AGZ/X+cb+dco9X5FRLyFwpCIiEgpGT9+irtLEBGREtA1QyIiIiIi4pUU\n",
    "hkRERERExCspDImIiIiIiFdSGBIREREREa+kGyiIiIi40aRJ40hLSy2VtjIzMwAw\n",
    "mwNLpT1ngoNDdLMIEakQFIZERETcKC0tlZTUVCqZq990W7nZFgCumCrfdFtO+8i8\n",
    "4LK2RUTKmsKQiIiIm1UyV6de/2k33U7iklEApdJWUX2IiFQEumZIRERERES8ksKQ\n",
    "iIiIiIh4JYUhERERERHxSgpDIiIiIiLilRSGREREnIiLiyUuLtbdZcgN6D0SkZuh\n",
    "MCQiIuJEQsJuEhJ2u7sMuQG9RyJyMxSGRERERETEKykMiYiIiIiIV1IYEhERERER\n",
    "r+S1YWj+/PlERUXRv39/IiMj+fnnn2+qvcjISBITE5k7dy7x8fH51q1evZp27doR\n",
    "GRlJZGQkvXv3ZuPGjQAMHz6cnJycQtscPXo0O3fuvKm6ANLS0hx9N2/enB49ehAZ\n",
    "GcmKFSv+cJulVZuIiIiIiLtUcncB7nD06FG2bdtGfHw8BoOBX375hVGjRrFu3TqX\n",
    "9fn444/z0ksvAZCens4TTzzBo48+yqxZs1zWZ57g4GAWL14MXA1tEyZMoF69ei7v\n",
    "V0RERETEk3llGAoKCuLs2bOsXLmStm3bcvfdd7Ny5Urgali46667OHLkCJUrV6Z5\n",
    "8+Z8/fXXXLx4kYULF2IymXjllVe4dOkSSUlJREREEBERUaL+L126hL+/PwaDgQ4d\n",
    "OrBp0ybOnTvHuHHjuHLlCv7+/vlC0v79+5kyZQpz5szhnXfeoUuXLrRt25adO3ey\n",
    "ceNG3nzzTTp27Mi9997LqVOnaNCgAVOnTsVoLHrib/To0aSnp5Oens7AgQPZuHGj\n",
    "o+/77ruPXbt2ceLEiWLV9vPPP7NgwQIqVarELbfcwqxZs4pVg4iIiIiIO3hlGAoL\n",
    "CyMmJoYlS5bw7rvv4u/vz/Dhw3n44YcBaNy4MePGjWPgwIH4+/vz4YcfMmrUKPbu\n",
    "3cttt93GY489RufOnTl//jyRkZHFCkPr169n//79GAwGAgICmD59er7106ZNY/Dg\n",
    "wbRt25YvvviC//znPwDs27eP3bt3869//YuQkBCn7Z8/f55hw4ZRu3Zthg0bxtat\n",
    "W+ncuXOxxqN169ZERUWxZ8+eQtcXt7Y333yTgQMH8sgjj7B27VoyMjKoUqVKsWoQ\n",
    "EfFEmZkZWCwWoqOHFLreZDJitdpuqo+0tFTsJt+baqMsWS2ZpGXlOB0TZ0pjrAqT\n",
    "lpaKn59fqbcrIt7BK8PQyZMnCQwM5I033gDgp59+YtCgQbRq1QqARo0aAVClShXq\n",
    "16/veGyxWKhRowYfffQRW7ZsITAwkNzc3GL1ee1pcoU5fvw4TZs2BaBjx47A1QC1\n",
    "a9cuMjMzqVSp4Ftlt9sdj2+77TZq164NQNOmTTl+/Hix6gIIDw8vdHle+8WtbcyY\n",
    "Mbz//vssWbKEunXr0qlTp2LXICIiIiJS1rwyDB06dIjly5cTExODr68v4eHhVKlS\n",
    "BZPJVOS+CxcupEmTJkRERPDNN9/w5ZdflkpN9erV46effuJvf/sb69at4/fffwdg\n",
    "6NChnD9/nokTJzJz5kx8fX1JTk4GcMzQwNWZoeTkZEJDQ/n+++/p1q1bsfs2GAwA\n",
    "+Pn5Odo+c+aMo4bi1rZ8+XJeeOEFQkJCGD9+PJ9//jlPPvnkzQ+OiIibmM2BmM2B\n",
    "zJ4dU+j60NAgkpMv3VQf0dFDSM8u/RkTVzH5manmH+R0TJwpjbEqTElnqEREruWV\n",
    "Yahz584kJibSo0cPKleujN1u5+WXXyYoKKjIfdu3b8+UKVPYuHEjQUFBmEwmp3eD\n",
    "K4mXX36Z8ePHExMTg7+/PzNmzODAgQMA9OzZk88++4xPP/2Unj17MnbsWD799FPq\n",
    "1Knj2N/X15fJkydz7tw57r33Xjp06FDiGv785z8TFBREz549qVevHjVr1ixRbY0b\n",
    "N+bZZ5/FbDZTuXJl2rVrd9PjIiIiIiLiKgb7tedaSbmVd7OD8qQ4vxC66pfEikbj\n",
    "VDwap+LTWF2VN+tQFjND9fpPu6l2ABKXjAIolbZu1Ec1f6PHzQyVtB5Ppe9e8Wic\n",
    "ik9jdXUMnNGtvkRERERExCspDFUQ5W1WSERERETE3RSGRERERETEK3nlDRRERESK\n",
    "o2XLNu4uQYqg90hEbobCkIiIiBMREQPcXYIUQe+RiNwMnSYnIiIiIiJeSWFIRERE\n",
    "RES8ksKQiIiIiIh4JYUhERERERHxSrqBgoiIiJvlZl4gccmoUmkHKJW2btiHf4jL\n",
    "2hcRKUsKQyIiIm4UHFx6wSLT6geA2d+FJ374h5RqzSIi7qQwJCIi4kbjx09xdwki\n",
    "Il5L1wyJiIiIiIhXUhgSERERERGvpDAkIiIiIiJeSWFIRERERES8km6gICIiFdqk\n",
    "SeNIS0t1SdsmkxGr1eaStm9WZmYGAGZzoJsrucoTxyo4OEQ3sBDxcgpDIiJSoaWl\n",
    "pZKamorZHOyC1q0uaLN0ZGdbADCZzG6uJI9njVVmZpq7SxARD6AwJCIiFZ7ZHEy/\n",
    "vnPcXUaZWho/DMDrXndx5Y2PiHg3XTMkIiIiIiJeSWFIRERERES8ksKQiIiIiIh4\n",
    "JYUhERERERHxSgpDIiIiIiLilRSGRETKQFxcLHFxse4uQ0REXETH+fJJYUhEpAwk\n",
    "JOwmIWG3u8sQEREX0XG+fFIYEhERERERr6QwJCIiIiIiXqmSuwvwZm+++SYHDhwg\n",
    "OTmZ7OxsatWqRfXq1XnnnXduqt3s7GwmTJhAUlISly9fJjQ0lIkTJ1K9evUStbN3\n",
    "716CgoJo2LDhTdUjIiIiIt7DbrezfPlSevfuh8FgAMBqtTJs2HPMmfMvTCaTmyv8\n",
    "L80MudHo0aNZvHgxgwcP5vHHH2fx4sU3HYQAVq1aRY0aNVi4cCHx8fE0a9aMd999\n",
    "9w+1k5SUdNP1iIiIiIj3SEj4hq1bN7N37x7HslmzppGefoHZs6e7sbKCNDPkgf7x\n",
    "j3/w3HPP8Ze//IVHHnmEESNG0LlzZ5555hneeOMN9uzZw0cffYSvry916tRh0qRJ\n",
    "+Pj4OPavUaMGK1eupFmzZrRs2ZLIyEjsdjsAmzZtYtGiRRiNRv7617/y0ksv8dtv\n",
    "vzFhwgQsFgvJyclER0dz66238tVXX3HgwAHq16/P/v37C+w3d+5c9u3bR1ZWFlOn\n",
    "TmXGjBlkZGRw+fJlhg8fzv333++uIRQRERERN7Db7WzcuI7s7Mts2PAJLVq0wmaz\n",
    "sX//PgB++OF7rFarx8wOKQx5oIceeoidO3dSrVo1fH19+d///V/atGmDxWLB19eX\n",
    "uXPnsmbNGgIDA3n99ddZvnw5/fv3d+z/8MMPYzAYWLlyJWPGjOHOO+9k3LhxhIWF\n",
    "MXfuXFatWkVAQAAjR45k165dGAwGnn76aVq1asX333/P3Llz+fDDD3nggQfo0qUL\n",
    "lStXLnQ/gLp16zJu3DiOHDlCeno6H3zwAampqZw4ccJNoyfimTIzM7BYLERHD3F3\n",
    "KcViMhmxWm3uLqNUpKWlYjL5ubsM8TAWSyZZWZ73naxI3z1X8sRxSktLxc9Px5qE\n",
    "hG84ffoUAKdPn2Lv3j3s3LnN8cO83W5n9uzp/POfY9xZpoPCkAdq3749zz//PNWr\n",
    "V2fQoEF8+OGH7Ny5k/bt2/Prr79Sv359AgMDAWjRogVff/11vv337dtHmzZt6Ny5\n",
    "M1arlU8++YQxY8YwYcIE0tLSGDx4MACZmZmcOnWK5s2bExMTw8qVKzEYDOTm5uZr\n",
    "79SpU4XuBxAeHg5AgwYN6N27NyNGjCA3N5fIyEiXjpGIiIiIeJ4dO7ZisVgAsFgs\n",
    "bN/+Of/5z8/5tvnxxx/cUVqhFIY8UNWqVfH392fTpk3MnTuXzZs3Exsby4wZMwgM\n",
    "DCQxMZGsrCwqV65MQkKCI5Dk2bBhA9WqVWPo0KGYTCbuuusufH19qVmzJrfddhsL\n",
    "Fy7Ex8eH1atXc/fddzNnzhx69uzJgw8+yKpVq1izZg0ABoMBu93udL+tW7diNF69\n",
    "7OzQoUNkZmYyf/58kpKS6NOnD+3bty/zsRPxVGZzIGZzILNnx7i7lGIJDQ0iOfmS\n",
    "u8soFdHRQ8jOtru7DPEwfn5m/P097ztZkb57ruSJ4+Rps4zu0q5dJw4fPojFYsHP\n",
    "z4/27R/CZDLxww/fO7Zp3LiJGyvMT2HIQ3Xs2JHVq1dTrVo17r//fuLi4rjjjjsA\n",
    "eOGFFxgwYABGo5E77riDl156Kd++0dHRTJ48mW7duhEQEEDlypWZOnUqwcHBREVF\n",
    "ERkZidVq5U9/+hOPPvoojzzyCNOnT2f+/PnceuutXLhwAYB7772Xt956i9mzZxe6\n",
    "37Xq1KnDu+++y6ZNm7DZbLz44otlM1AiIiIi4jFatmzNxo3rSEw8Qs2ad9CiRSv+\n",
    "+tcWREX1wW63YzAYiI5+2d1lOigMeYDu3bsXWBYREUFERAQAffr0oU+fPo51Xbt2\n",
    "pWvXrk7bCwwMZNq0aYWu69atG926dcu37PHHH+fxxx8vsO21/darV6/Afi+88ILj\n",
    "sZ+fX6ncCU9EREREyi+DwUCXLk+wYMF7PPZYNwwGAyaTiXvvbcoPP3xPkybNPObm\n",
    "CaBba4uIiIiISClq2bI1nTo9TIsWrRzLhg8fRbVq1T1qVgg0MyQiIiIiIqXIYDDQ\n",
    "p0//fMtMJhPz5i1wU0XOaWZIRERERES8kmaGRETKQMuWbdxdgoiIuJCO8+WTwpCI\n",
    "SBmIiBjg7hJERMSFdJwvn3SanIiIiIiIeCWFIRERERER8UoKQyIiIiIi4pUUhkRE\n",
    "RERExCvpBgoiIlLhZWamsTR+mLvLKFOZmWkAXve6iyszMw1//xB3lyEibqYwJCIi\n",
    "FVpwsOv+4DWZjFitNpe1fzOsVj8A/P0Nbq7kKk8bK3//EJd+NkSkfFAYEhGRCm38\n",
    "+Ckuazs0NIjk5Esua78i0ViJiCfSNUMiIiIiIuKVFIZERERERMQrKQyJiIiIiIhX\n",
    "UhgSERERERGvpDAkIiIiIiJeSXeTExERqWAmTRpHWlqqW/rOzMwAwGwOzLfc026t\n",
    "HRwc4tI7DYpI+aAwJCIiUsGkpaWSlppKlYDgMu87O9sCgJ/BnG95LtYyr8WZi5fT\n",
    "3F2CiHgIhSEREZEKqEpAMKMfm1Xm/b65YTiAW/ourrwaRUR0zZCIiIiIiHglhSER\n",
    "EREREfFKCkMiIiIiIuKVFIZERERERMQrKQyJiEiJxMXFEhcX6+4yRKSc07FEPIHC\n",
    "kIiIlEhCwm4SEna7uwwRKed0LBFPoDAkIiIiIiJeSWFIRERERES8ksKQiJR7drud\n",
    "ZcuWYLfb3V1KPnl12Wy2fPXZ7Xbi4mJ57bUx2Gw2p/vGxy9m/PjRTrcpzRqtVivj\n",
    "x49m/PjRxMXF5htLTx1fEfEeV65cYcCA3ly5cqVE+9lsNqfH2hutcxWr1crQoYOw\n",
    "Wq1l1mdpc8e4uZLLwtD8+fOJioqif//+REZG8vPPPwNw6NAh9u7de1Nt79y5k9Gj\n",
    "R/+hfYcPH86ePXvyLcvOzmb06NE888wz9O3blxdffJELFy7cVI3p6el8+umnBZZH\n",
    "RkaSmJjoeG6xWOjQoQOQf2yGDx9OTk4Oo0ePZufOnezcuZPly5cDsHz58iIPBna7\n",
    "nY4dO3Lq1Kl8y4cMGcL//u//FrrP6tWreeuttwosz6ulMHn1ibhTQsI3bN26mb17\n",
    "9xS9cRnKqys+fnG++hISvuGzz9aTmHiEZcsWO933s8/Wc+zYUafblGaNs2ZN59ix\n",
    "oxw7dpTPPlvP119/XWAbTxtfEfEeI0e+iM1mZeTIF0u0X3x8rNNj7Y3WucqsWdNI\n",
    "T7/A7NnTy6zP0uaOcXMll4Sho0ePsm3bNj788EOWLFnC2LFjGTt2LABbtmzh6NGj\n",
    "ruj2D1u1ahU1atRg4cKFxMfH06xZM959992bavPQoUNs27atRPtcOzazZs3C19fX\n",
    "sa5t27b07t0bgPfff7/ING4wGHjqqaf45JNPHMtSUlI4fvw4bdq0KVFd19ci4kns\n",
    "djsbN64jO/syGzZ84jGzF9fWtW3bFkd9NpuN9evXOr7DX3yxpcD3+eq+nzh+Ody6\n",
    "dbNLfoG7tsYffvjOsdxms/Hxxx9jt9s9dnxFxHtcuXKFlJRkAFJSkos9O2Sz2di2\n",
    "7XOg4LH2RutcxWq1sn//PgB++OH7cjk75I5xc7VKrmg0KCiIs2fPsnLlStq2bcvd\n",
    "d9/NypUrOX/+PGvWrMHHx4dGjRpx9uxZli5dSm5uLgaDgXnz5nHkyBEWLFiAj48P\n",
    "p0+fpkuXLgwZMoTExETGjh1LQEAAAQEBVK1aFYAlS5awZcsWLl++TPXq1Zk3bx7r\n",
    "169n1apV2Gw2XnzxRY4dO8aKFSsIDQ0lNTW1QL01atRg5cqVNGvWjJYtWxIZGen4\n",
    "D37Hjh259957OXXqFA0aNGDq1KlkZGQwcuRIMjIysFqtDBs2jDZt2vD4449Tp04d\n",
    "fHx8SE9P5+DBgyxfvtwRYm7k+rGJjo5m06ZNjvWrV6/m2LFj1K5dm+TkZIYPH079\n",
    "+vUJCwujX79+/P777zz99NOsXr3asc9TTz3FgAEDeOGFFwBYu3Yt3bt3x2AwkJCQ\n",
    "wKxZszCZTNSqVYtJkyYBsH//fp555hnS0tLo27cvvXv3pkOHDmzatIlz584xbtw4\n",
    "rly5gr+/P7NmzXL0deXKFV577TVOnjyJzWYjOjqaVq1a/YFPj0jJJCR8w+nTV2dA\n",
    "T58+xd69e2jZsrWbq8pfl8ViAa7WFx+/mJMnjzu2s1gsLFu2mIiI/5dv3+PHjzme\n",
    "5+TkFNimtGu83tGjR9m7dw92u73A+GZmZmCxWIiOHlKq9ZRHJpMRq9Xz/hhIS0vF\n",
    "x+jn7jI81uWcTK5ke+Zn2FM/U66QlpaKn1/Rn9PrZ4NGjnyRpUuXFLlffHys4/h7\n",
    "/bH2RutcZdasaflOl549ezr//OcYl/ZZ2twxbq7mkpmhsLAwYmJi+P777+nduzeP\n",
    "PPII27dvJywsjCeffJKoqCgaN27MiRMnmD9/PvHx8dSvX99xWsbZs2eZO3cuy5cv\n",
    "54MPPgBg+vTpvPjiiyxatIimTZsCV9Npeno6ixYtYsWKFVitVn766ScAqlSpQnx8\n",
    "PA0aNCA2NpaPP/6Y9957r9BfEx5++GGGDBnCypUr6dixI1FRUY5T2c6fP8+wYcNY\n",
    "uXIlWVlZbN26lZiYGP72t7+xdOlS5syZwyuvvILdbicrK4vnn3+eWbNm8dxzz9G6\n",
    "detiBaG8Mbt2bJzp2bMnoaGhzJo1i549e7J27VoA1q9fT9euXQu0GR4eznffXf3F\n",
    "99NPP6V79+7Y7XZeffVV5s2bx5IlSwgLC2PNmjUAVKpUiX//+9/MmzePjz76KF97\n",
    "06ZNY/DgwSxfvpwBAwbwn//8x7FuxYoVVK9enaVLl/Lee+85wpWIq+3YsTXfgXn7\n",
    "9s/dXNFV19aVx2Kx8NVX2wv8krZz5/bIFR4rAAAeqklEQVQC+xa1jatqzGOz2di+\n",
    "/XOPHV8R8R55s0LOnjvz1Vc78j2/9jh6o3Wu8tNP+/M9//HHH1zeZ2lzx7i5mktm\n",
    "hk6ePElgYCBvvPEGAD/99BODBg0qMFMQEhLCqFGjMJvNHDt2jCZNmgBw5513UqlS\n",
    "JSpVqoS/vz8AJ06ccISEZs2acezYMYxGIz4+PowYMYLKlSvz22+/kZubC0B4eDgA\n",
    "p06don79+o7TvAoLGvv27aNNmzZ07twZq9XKJ598wpgxY1i9ejW33XYbtWvXBqBp\n",
    "06YcP36cxMRER/AICwsjMDDQMeOU168zfn5++QJZZmam4zWWVK1atTCbzRw9epRP\n",
    "P/2U9957r8A2vXr14pNPPsFkMlG7dm1q1KhBamoqSUlJREdHA1evmfrb3/5G7dq1\n",
    "ueeeezAYDISGhpKdnZ2vrePHjzuCaMeOHYGrIQzg8OHDfPfdd/z4448A5ObmkpaW\n",
    "RnBw8B96bSLF1a5dJw4fPojFYsHPz4/27R9yd0lA/rry+Pn58cAD7dm8eUO+sNO2\n",
    "bfsC+x448NMNt3FVjXmMRiPt2z+E3W4vML7nzp3FbA5k9uyYUq+pvAkNDSI5+ZK7\n",
    "yyggOnoIuVk6pdGZAF8zQZU98zPsqZ8pVyjuzFyNGqH5AlCNGqHF2u+BB9qxadN6\n",
    "x/Nrj6M3Wucqf/nLvfzww/eO540bN3F5n6XNHePmai6ZGTp06BCTJk1yXHQfHh7O\n",
    "/2/v7sNjuvP/j7/OTCJyW01FenVzUaK0dVNrifbrpl21SrX8tMK4CbY2LeVCsBI3\n",
    "QUi1aNdNtRar63LbonTZtio27aJ1t3WzWHTdVIsWkVqS5s7M+f2RK1MhIW6SM2Oe\n",
    "j7/MnHM+55VPPueY95zPOQkLC5PdbpdhGHK5XLp06ZJmzZql6dOnKzU1VQEBAe5L\n",
    "h4ZhXNNmdHS0du8unGdZ9DCGQ4cOaePGjZoxY4aSk5PlcrncbdhshT/agw8+qCNH\n",
    "jig3N1dOp1MHDx68pu2PP/7YfRXEbrerbt267uLpzJkzOneu8ADctWuXateurejo\n",
    "aP3rX/9yL7948aKqVKlSbL82m63EeZT16tXTZ5995n69adMmNWjQwP1zl2Xu5ZXr\n",
    "de3aVe+++64iIyNLLDyefPJJ7d69W2vWrHFfpbr33nt1//33691339XixYvdV7GK\n",
    "2i5NdHS0+8rb2rVrtXjxLzfO1apVSx06dNDixYs1f/58tWvXzt0nQHmKiXlcUVHV\n",
    "JUlRUdXVtKlnTM+8MlfRNJCoqOrq3j1ONWr88qVJQECAHI64a7atWbOW+3WlSpWu\n",
    "WedOZ7xa7dq11bRpM4/tXwC+Y9q0Wdd9XZru3Xu7z79Xn2uvt6y8JCQkuj9nGYah\n",
    "oUNHlvs+7zQr+q28lUsx1LZtWzVp0kRdunSRw+FQv379NHLkSIWGhqp+/fpaunSp\n",
    "Dhw4oMaNG6tbt27q2bOnKleurLNnz5baZlJSkubMmaM+ffpo797Cy4w1atRQYGCg\n",
    "HA6Hfv/73ysiIuKaNsLDwxUfHy+Hw6H4+HgFBgZe0/bQoUP1/fffq1OnTnI4HHrr\n",
    "rbf02muvSSr8EDJp0iTFxsaqWrVqat26tV555RVt27ZNPXv21KuvvqqJEyfKz6/4\n",
    "Rbbq1avrm2++0cKFC4u9Hx8frxMnTqhz585yOBxav369RowYIUnuvtm2bdt1+7dJ\n",
    "kyZ6+eWXZZqm2rRpo6+++kpdunQpcV273a6nn35a27dv1//93/9JKizUxowZo5df\n",
    "flkOh0PLli1TnTp1rrtPSRo5cqTmzp2ruLg4rVu3rti0PIfDoWPHjqlXr15yOBz6\n",
    "1a9+5S4MgfJkGIaefbajKlcOVIcOna5b0FekK3O1bt3Wnc9ms+m55/6f+/h4+um2\n",
    "1xwrhdt2kt1ulyS1afNMuRxPV2Zs1Og37vdtNpu6du0qwzA8tn8B+A5/f3/31aCq\n",
    "VSPk7+9fpu1sNptaty6cLXD1ufZ6y8qL3W7XY48VzrBp1Kix+xzvTazot/JmmDwa\n",
    "6LqaN2+uL7/80uoYpcrJyVGvXr20cuVKrxuQZZkG4EvTBW6Hr/eTaZr64IOl6tat\n",
    "53U/rFd0PxXl6tq1h1asWObOV/Q3hA4fPqjx418r8dgt+ts+Bw8e0IQJk8vt+C7K\n",
    "GBvbXSkpYyRJDz/8qAYPflUZGVnF1inKXzS1xROnGFU0Tz32iqbJJXWYfuOV77A3\n",
    "Pk6QJEv2XVZvfJwgvyDDI8ewp46p8nAz55KCggL169dLCxYskb+/f5n7yeVyKSVl\n",
    "TInn2ustKy+FD97qr5kz/1xhxdCdHlNW9NvtiogILXVZudwzhIqxa9cujR8/XgMH\n",
    "DvSawQiUB8Mw5HD0sjrGNa7MdWU+wzDUo0fvG27bvXv5Tz+4MuPEiW8Ue7+kdQDA\n",
    "Cv7+/lq06IOb3s5msykl5fWbXlZe7Ha7Zs+eX6H7vNOs6LfyRDF0A558Vahx48Yl\n",
    "/mFXAAAAADdGMQQAuCkxMTf3h5sBoCScS+AJKIYAADflRlP8AKAsOJfAE3CjCQAA\n",
    "AACfRDEEAAAAwCdRDAEAAADwSRRDAAAAAHwSxRAAAAAAn8TT5AAAuAtdzMnUGx8n\n",
    "VPh+/5eTKUmW7LusLuZkKjzoPqtjAPAAFEMAANxlwsOt+6Bf2QyQJPkFGcXet9tt\n",
    "cjpdVkS6RnjQfZb2EQDPQTEEAMBdZty4VKsjXCMiIlTnzl2yOgYAFMM9QwAAAAB8\n",
    "EsUQAAAAAJ9EMQQAAADAJ1EMAQAAAPBJPEABAAAfN3HiWGVmni+39rOzs2QYhoKC\n",
    "gsttH7crPPw+j3zwBIDyRTEEAICPy8w8r8zz5xUeUKVc2s/LzZMkBbkql0v7tysz\n",
    "74LVEQBYhGIIAAAoPKCK3mo5qVzaHr45WZLKrf3bVZQPgO/hniEAAAAAPoliCAAA\n",
    "AIBPohgCAAAA4JMohgAAAAD4JIohAABu0fz587Vs2SKrYwBeYdmyRRwv8DgUQwAA\n",
    "3KLNmzdrx46tVscAvMKOHVs5XuBxKIYAAAAA+CSKIQAAAAA+iWIIAAAAXsPlcmnI\n",
    "kCFyuVxWR/FITqdTgwbFy+l0Wh3FK3htMTRv3jz17dtXvXr1UlxcnPbv3y9JOnz4\n",
    "sHbu3HlbbW/atElJSUm3tG1CQoK2b99e7L23335bzzzzjOLi4hQXFyeHw+FeZ9Cg\n",
    "QaW2FRcXp6NHj95SjisdPnzYve8GDRqoZ8+eiouL0xdffHHLbd6pbAAAADdj+fJF\n",
    "OnTokN5/f7HVUTzS9OlTdOHCT5oxY6rVUbyCn9UBbsWRI0eUnp6u5cuXyzAMHTx4\n",
    "UImJiVq7dq02bNigqlWrqmnTplbHLKZv377q3r27JOno0aMaMWKE1qxZo9mzZ5f7\n",
    "vuvWravFiwtPGK1bt9Z7772ngICAct8vAADAneRyuZSeniZJ+sc/NsjhiJPN5rXf\n",
    "7d9xTqdTe/fuliTt2bOLq0Nl4JXFUGhoqE6fPq1Vq1apVatWeuSRR7Rq1SqdOXNG\n",
    "a9askb+/v+rVq6fTp09r6dKlunz5sgzD0OzZs/Xf//5X8+fPl7+/v06ePKlnn31W\n",
    "AwYM0NGjRzV69GgFBgYqMDBQ99xzjyRpyZIl2rBhg3JycnTvvfdq9uzZ+vvf/64P\n",
    "P/xQLpdLgwcP1rFjx7Ry5UpFRETo/PnzN8x/4cIFBQUFSZKaN2+uL7/8Unv37tXk\n",
    "yZPlcrkUGRmpN998071+enq6/vrXv+qdd97RwIEDNWHCBEVHR2v58uXKyMhQ586d\n",
    "NWTIEEVEROjMmTNq1aqVEhISytSXcXFxCg8P1//+9z916NBBJ06c0IgRI5SXl6f2\n",
    "7dsrPT29zNnWrVunjz76SDabTQ0aNNDYsWNv5tcKAF7n0qVLys3N1dChA6yOclsy\n",
    "M88rwKhkdQzLZBf8rLzMfI/4PdrtNjmdd+f0r8zM87f9Zezy5YuUl5cnScrLy9P7\n",
    "7y9Wjx597kS8u8L06VNkmqYkyTRNzZgxVW+8MdniVJ7NK4uhyMhIzZkzR0uWLNE7\n",
    "77yjypUrKyEhQc8884w6d+6sqlWrqmHDhvrqq680b948BQYGaty4cdqyZYsiIyN1\n",
    "+vRprV27Vvn5+WrZsqUGDBigqVOnavDgwWrevLnmzZunY8eOyeVy6cKFC1q4cKFs\n",
    "Npv69eunffv2SZLCwsI0Z84cZWRkaMKECVq3bp0Mw9ALL7xQYuaFCxfqk08+kc1m\n",
    "U1hYmCZNmlRs+bhx4/SnP/1J0dHRWrlypXsKWlpamnbu3Km5c+e6C6iSnDp1SgsW\n",
    "LFBoaKh69OihAwcOqF69emXqz+eee06/+93vtHr16hKXlzXb6tWrNX78eDVs2FDL\n",
    "li3T5cuX5efnlUMMAAB4oM2bvyj2etOmzymGrrBv395ir//97z0WJfEeXvlJ9cSJ\n",
    "EwoJCdHrr78uSdq3b5/i4+PVrFmzYuvdd999SkxMVHBwsI4dO6ZGjRpJkurUqSM/\n",
    "Pz/5+fmpcuXKkqRvv/1WDRs2lCQ1btxYx44dk81mk7+/v4YNG6agoCD9+OOPunz5\n",
    "siSpZs2akqTvvvtOtWvXVqVKhd+oFbVxtSunyZUkIyND0dHRkqTY2Fj3+1u3blVW\n",
    "VlaJRUVR5S9JDz/8sKpUqeLOcPz48TIXQ0U/S2ltlzXb66+/rvfee09Tp05Vo0aN\n",
    "irUBAHej0NBQBQUFa8aMOVZHuS1Dhw6Qsnx3Ok2wf5CCQ0I94vcYERGqc+cuWR2j\n",
    "XNyJK28tWz6lTz/9u/t1q1a/ve027yYNGjymPXt2uV83bNjIwjTewSsnWR4+fFgT\n",
    "J05Ufn6+pMIP82FhYbLb7TIMQy6XS5cuXdKsWbM0ffp0paamKiAgwP3h3DCMa9qM\n",
    "jo7W7t2FcyyLHsZw6NAhbdy4UTNmzFBycrJcLpe7jaL5qQ8++KCOHDmi3NxcOZ1O\n",
    "HTx48JZ+pmrVqunbb7+VVPhwiLS0wvmw48aNU4sWLTRr1ixJUqVKlXTu3DlJ0n/+\n",
    "8x/39kePHlVOTo6cTqf+/e9/q3bt2mXed1F/BAQEuNs+cODATWdbsWKFUlJStGTJ\n",
    "Eh08eNDdnwAAAHdC9+693VPtAgIC5HDEWZzIsyQkJLo/1xmGoaFDR1qcyPN55ZWh\n",
    "tm3b6ujRo+rSpYuCgoJkmqZGjhyp0NBQ1a9fX1OnTlV0dLQaN26sbt26yc/PT2Fh\n",
    "YTp79qyioqJKbDMpKUmJiYlasGCBwsPDFRAQoBo1aigwMFAOh0OSFBERobNnzxbb\n",
    "Ljw8XPHx8XI4HAoPD1dgYOAt/UwpKSkaPXq0bDabIiIi1LdvXy1atEiSNHDgQMXG\n",
    "xuqpp55S7969lZKSogceeEDVqlVzb+/v768hQ4YoIyND7dq108MPP3zTGVq2bKnl\n",
    "y5ere/fuqlevnoKDg28qW926ddWjRw8FBwcrMjJSjz322C31BQAAQElsNptat/6d\n",
    "Pv3073r66bY8POEqdrtdjz32a+3Zs0uNGjWW3W63OpLHM0zmMnm9kydPatiwYVqx\n",
    "YoXVUW5KWaYB3M3TBe4k+qls6Keyo6/KZvjwgXI6XR4xvep2FE2Te6vlpBuvfAuG\n",
    "b06WpHJr/3YN35wshdg94vd4Nx97RdPkbrefXS6XJk8ep9GjJ1IMlcDpdGrIkP6a\n",
    "OfPPstvtd/WYKquIiNBSlzGCAAAA4DVsNptmzpxJIVQKu92u2bPnc1WojBhFd4Go\n",
    "qCivuyoEAAAAWI1iCAAAAIBP8soHKAAA4Alatmypn3/OtzoG4BViYp6wOgJwDYoh\n",
    "AABuUXx8vM/fmAyUVY8eva2OAFyDaXIAAAAAfBLFEAAAAACfRDEEAAAAwCdRDAEA\n",
    "AADwSTxAAQAAKDPvgoZvTi6ftnMvSFK5tX+7MvMuKDzkPqtjALAAxRAAAD4uPLx8\n",
    "C4EAI0CGYUhB9nLdz60KD7mv3PsAgGeiGAIAwMeNG5da7vuIiAjlMeQAPA73DAEA\n",
    "AADwSRRDAAAAAHwSxRAAAAAAn0QxBAAAAMAn8QAFAAAALzVx4lhlZp63OoZbdnaW\n",
    "JCk4OKRc92O32+R0utyvw8Pvq5AHgeDuQzEEAADgpTIzzyvzfIbCK4dZHUWSlJeb\n",
    "K0kKVqVy3Y/zin9n5l4s133h7kYxBAAA4MXCK4fpT61ftTqGJGlY+ruSVKF5ivYJ\n",
    "3AruGQIAAADgkyiGAAAAAPgkiiEAAAAAPoliCAAAAIBPohgCAABeZdmyRVq2bJHV\n",
    "MQCPwTFx6yiGAACAV9mxY6t27NhqdQzAY3BM3DqKIQAAAAA+iWIIAAAAgE+iGAIA\n",
    "AADgkyiGoF69emnr1uLzTFNTU7Vy5UqLEgHArTFNU++/v0SmaVodBQDgBSiGoNjY\n",
    "WP3tb39zv87Pz9fnn3+uDh06WJgKAG7ejh3btHHjZ9q5c7vVUQAAXsDP6gCwXrt2\n",
    "7TR9+nTl5OQoMDBQ//jHP9S8eXPt379fs2fPlmmays7O1ltvvSV/f38NHz5c999/\n",
    "v77//ns1aNBAKSkp+vrrrzVlyhT5+fkpMDBQM2fOVEhIiNU/GgAfYpqmPvlkrXJz\n",
    "c/Txx39T06bNZBiG1bEAAB6MYggKCAhQmzZtlJaWpo4dO2r16tVKSEjQ7t27NW3a\n",
    "NEVGRurPf/6z1q9fr+eff17ffvutFixYoMDAQLVp00bnzp3Txo0b1b59e/Xp00fp\n",
    "6em6ePEixRCACrVjxzadPPmdJOnkye+0c+d2xcQ8bnEqlIfs7Czl5eVp6NABVke5\n",
    "4+x2m5xOV5nXz8w8rwCbb3+cyy7IUV7mpbtyPJRVZuZ5BQQEWB3DKzFNDpJ+mSp3\n",
    "5swZXbx4UY8++qgiIyP12muvKSkpSdu3b9fly5clSdWrV1dISIjsdrsiIiKUl5en\n",
    "/v376+zZs+rTp4/Wr18vPz/fPjEDqHhffLFReXl5kqS8vDx9/nmaxYkAAJ6OT6yQ\n",
    "JNWtW1fZ2dlatGiRXnzxRUlScnKy0tLSFBISosTERPcNySVNO1m7dq06d+6sxMRE\n",
    "zZ07VytWrNCgQYMq9GcA4NueeqqNvvnmkPLy8hQQEKDf/vZ3VkdCOQkODlFwcIhm\n",
    "zJhjdZQ7LiIiVOfOXSrz+kOHDpCy88sxkecL9g9UcHClu3I8lJUvXxW7XRRDcHvx\n",
    "xRc1bdo0ff7555Kkjh07qmfPngoMDFTVqlV19uzZUrdt2LChxo4dq8DAQNlsNk2c\n",
    "OLGiYgOAJCkm5nF98slaHT36X0VFVVfTps2sjgQA8HAUQ3CLjY1VbGys+/WoUaNK\n",
    "XG/FihXX/DsqKqrY+wBQ0QzD0LPPdtT8+e+qQ4dOPDwBAHBDFEMAgLtGTMzjOn78\n",
    "KFeFAABlQjEEALhrGIYhh6OX1TEAAF6Cp8kBAAAA8ElcGQIAAF4lJuYJqyMAHoVj\n",
    "4tZRDAEAAK/So0dvqyMAHoVj4tYxTQ4AAACAT6IYAgAAAOCTKIYAAAAA+CSKIQAA\n",
    "AAA+iQcoAAAAeLHM3Isalv6u1TEkFWaRVKF5MnMvKjy4aoXtD3cXiiEAAAAvFR5+\n",
    "n9URiglQ5cJ/BFcq1/3Y7TY5nS5JUnhwVY/rB3gPiiEAAAAvNW5cqtURLBEREapz\n",
    "5y5ZHQN3Ae4ZAgAAAOCTKIYAAAAA+CTDNE3T6hAAAAAAUNG4MgQAAADAJ1EMAQAA\n",
    "APBJFEMAAAAAfBLFEAAAAACfRDEEAAAAwCdRDAEAAADwSX5WBwCu5nK5NGHCBB0+\n",
    "fFiVKlVSamqqatSoYXUsj7B37169+eabWrx4sU6cOKGkpCQZhqGHHnpI48ePl81m\n",
    "0+zZs/XFF1/Iz89Po0ePVsOGDa2OXWEKCgo0evRonTp1Svn5+RowYIBq165NP5XA\n",
    "6XRq7NixOn78uAzDUEpKigICAuirUpw/f14vvPCC3nvvPfn5+dFPpejcubNCQkIk\n",
    "SVFRUerWrZtee+012e12tWjRQoMGDeIcL2nu3LlKT09XQUGBunfvrpiYGMZUCVav\n",
    "Xq01a9ZIkvLy8nTw4EEtXryYMXWVgoICJSUl6dSpU7LZbJo0aRLnqZthAh7ms88+\n",
    "MxMTE03TNM3du3eb/fv3tziRZ5g3b5753HPPmbGxsaZpmuYrr7xibtu2zTRN00xO\n",
    "TjY3bNhg7t+/34yLizNdLpd56tQp84UXXrAycoVbtWqVmZqaapqmaf7000/mk08+\n",
    "ST+VIi0tzUxKSjJN0zS3bdtm9u/fn74qRX5+vvnqq6+abdu2NY8cOUI/lSI3N9fs\n",
    "1KlTsfc6duxonjhxwnS5XOYf/vAH88CBAz5/jt+2bZv5yiuvmE6n08zKyjJnzZrF\n",
    "mCqDCRMmmO+//z5jqgRpaWnm4MGDTdM0zS1btpiDBg1iTN0EpsnB43z99ddq2bKl\n",
    "JKlRo0bav3+/xYk8Q/Xq1fX222+7Xx84cEAxMTGSpFatWumrr77S119/rRYtWsgw\n",
    "DD3wwANyOp3KzMy0KnKFa9eunYYMGSJJMk1TdrudfipFmzZtNGnSJEnS6dOnFRYW\n",
    "Rl+VYsqUKXI4HKpWrZokjr3SHDp0SDk5OXrppZfUu3dv7dy5U/n5+apevboMw1CL\n",
    "Fi3cfeXL5/gtW7aoTp06GjhwoPr376+nnnqKMXUD+/bt05EjR9ShQwfGVAlq1qwp\n",
    "p9Mpl8ulrKws+fn5MaZuAsUQPE5WVpZ7moUk2e12Xb582cJEnuGZZ56Rn98vM1tN\n",
    "05RhGJKk4OBgXbp06Zq+K3rfVwQHByskJERZWVkaPHiwhg4dSj9dh5+fnxITEzVp\n",
    "0iQ9//zz9FUJVq9erfDwcPcHLYljrzSVK1dWv379tGDBAqWkpGjUqFEKDAx0Ly+t\n",
    "r3ztHP/TTz9p//79mjlzplJSUjRixAjG1A3MnTtXAwcOLLVPfH1MBQUF6dSpU2rf\n",
    "vr2Sk5MVFxfHmLoJ3DMEjxMSEqLs7Gz3a5fLVawIQCGb7ZfvMrKzsxUWFnZN32Vn\n",
    "Zys0NNSKeJb54YcfNHDgQPXo0UPPP/+8pk2b5l5GP11rypQpGjFihLp27aq8vDz3\n",
    "+/RVoQ8//FCGYWjr1q06ePCgEhMTi32TSj/9ombNmqpRo4YMw1DNmjUVGhqqCxcu\n",
    "uJcX9VVubq5Pn+OrVKmiWrVqqVKlSqpVq5YCAgL0448/upczpoq7ePGijh8/rscf\n",
    "f1xZWVnX9AljSlq4cKFatGih4cOH64cfflCfPn1UUFDgXs6Yuj6uDMHjNG7cWJs2\n",
    "bZIk7dmzR3Xq1LE4kWd69NFHtX37dknSpk2b1KRJEzVu3FhbtmyRy+XS6dOn5XK5\n",
    "FB4ebnHSipORkaGXXnpJf/zjH9WlSxdJ9FNpPvroI82dO1eSFBgYKMMwVL9+ffrq\n",
    "KkuXLtWSJUu0ePFiPfLII5oyZYpatWpFP5Vg1apVeuONNyRJZ86cUU5OjoKCgvTd\n",
    "d9/JNE1t2bLF3Ve+fI7/zW9+o82bN8s0TXc/PfHEE4ypUuzcuVNPPPGEpMIvS/39\n",
    "/RlTVwkLC3MXNffcc48uX77M/303wTBN07Q6BHCloqfCfPPNNzJNU5MnT1Z0dLTV\n",
    "sTzCyZMnNWzYMK1YsULHjx9XcnKyCgoKVKtWLaWmpsput+vtt9/Wpk2b5HK5NGrU\n",
    "KDVp0sTq2BUmNTVVn376qWrVquV+b8yYMUpNTaWfrvLzzz9r1KhRysjI0OXLlxUf\n",
    "H6/o6GjG1HXExcVpwoQJstls9FMJ8vPzNWrUKJ0+fVqGYWjEiBGy2WyaPHmynE6n\n",
    "WrRooYSEBM7xkqZOnart27fLNE0lJCQoKiqKMVWKv/zlL/Lz81Pfvn0lFRY7jKni\n",
    "srOzNXr0aJ07d04FBQXq3bu36tevz5gqI4ohAAAAAD6JaXIAAAAAfBLFEAAAAACf\n",
    "RDEEAAAAwCdRDAEAAADwSRRDAAAAAHwSxRAAAF7o7Nmz6tevnzp16qTOnTtr69at\n",
    "VkcCAK/Do7UBAPBCI0aMUKNGjdSrVy8dO3ZMcXFx2rRpk+x2u9XRAMBr+FkdAAAA\n",
    "FDJNU2+++aY2btwou92ubt26qVWrVho3bpwuXLigoKAgjRkzRg0bNlTbtm3VrFkz\n",
    "SVKNGjWUl5enn3/+2f2X6AEAN0YxBACAh1i/fr127dqldevWqaCgQD169NCyZcs0\n",
    "fPhwtW3bVnv27NGQIUP02WefqW3btu7tFixYoEceeYRCCABuEvcMAQDgIXbu3Kn2\n",
    "7durUqVKCg4O1rJly/TTTz+5C59GjRrpnnvu0bFjx9zbLFy4UB988IGmTp1qVWwA\n",
    "8FpcGQIAwEP4+RX/b/n777/X1bf2mqYpp9MpSZo6dar++c9/aunSpbr//vsrLCcA\n",
    "3C24MgQAgIdo2rSp0tLSVFBQoJycHA0dOlSGYWjDhg2SpD179igjI0MPPfSQFi5c\n",
    "qO3bt2v58uUUQgBwi3iaHAAAHmT69OlKT0+Xy+VSz5491axZM02YMEEXLlyQv7+/\n",
    "xo4dq1//+teKiYlRSEiIwsLC3NvOmzdPkZGRFqYHAO9CMQQAAADAJzFNDgAAAIBP\n",
    "ohgCAAAA4JMohgAAAAD4JIohAAAAAD6JYggAAACAT6IYAgAAAOCTKIYAAAAA+CSK\n",
    "IQAAAAA+6f8DKYsWl9NYyI4AAAAASUVORK5CYII=\">\n",
    "<figcaption style=\"text-align: center; font-weight: bold\">Exercise 1 - Box plots for carbon dioxide emission by vehicle class sorted by median emission</figcaption>\n",
    "</figure>"
   ]
  },
  {
   "cell_type": "code",
   "execution_count": null,
   "metadata": {},
   "outputs": [],
   "source": []
  }
 ],
 "metadata": {
  "kernelspec": {
   "display_name": "Python 3",
   "language": "python",
   "name": "python3"
  },
  "language_info": {
   "codemirror_mode": {
    "name": "ipython",
    "version": 3
   },
   "file_extension": ".py",
   "mimetype": "text/x-python",
   "name": "python",
   "nbconvert_exporter": "python",
   "pygments_lexer": "ipython3",
   "version": "3.6.4"
  }
 },
 "nbformat": 4,
 "nbformat_minor": 2
}
